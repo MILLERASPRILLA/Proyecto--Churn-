{
  "nbformat": 4,
  "nbformat_minor": 0,
  "metadata": {
    "colab": {
      "provenance": [],
      "toc_visible": true,
      "include_colab_link": true
    },
    "kernelspec": {
      "name": "python3",
      "display_name": "Python 3"
    },
    "language_info": {
      "name": "python"
    },
    "widgets": {
      "application/vnd.jupyter.widget-state+json": {
        "130c457590e84d37aa9f437fb1ff71d3": {
          "model_module": "@jupyter-widgets/controls",
          "model_name": "HBoxModel",
          "model_module_version": "1.5.0",
          "state": {
            "_dom_classes": [],
            "_model_module": "@jupyter-widgets/controls",
            "_model_module_version": "1.5.0",
            "_model_name": "HBoxModel",
            "_view_count": null,
            "_view_module": "@jupyter-widgets/controls",
            "_view_module_version": "1.5.0",
            "_view_name": "HBoxView",
            "box_style": "",
            "children": [
              "IPY_MODEL_92abea2fafdb452db1e5d79347fec51a",
              "IPY_MODEL_91b9a62949014d48b2c1af56bb05357f",
              "IPY_MODEL_5d7af7e3cbdb4148852fbe2dd78d6c58"
            ],
            "layout": "IPY_MODEL_31ee6b898106440d8298bb3fb57a2f62"
          }
        },
        "92abea2fafdb452db1e5d79347fec51a": {
          "model_module": "@jupyter-widgets/controls",
          "model_name": "HTMLModel",
          "model_module_version": "1.5.0",
          "state": {
            "_dom_classes": [],
            "_model_module": "@jupyter-widgets/controls",
            "_model_module_version": "1.5.0",
            "_model_name": "HTMLModel",
            "_view_count": null,
            "_view_module": "@jupyter-widgets/controls",
            "_view_module_version": "1.5.0",
            "_view_name": "HTMLView",
            "description": "",
            "description_tooltip": null,
            "layout": "IPY_MODEL_82b356449b8d4bc683014beed9c6c3bc",
            "placeholder": "​",
            "style": "IPY_MODEL_4f851575c9e64ca5b9938d259ebf0875",
            "value": "Done! Use &#x27;show&#x27; commands to display/save.   "
          }
        },
        "91b9a62949014d48b2c1af56bb05357f": {
          "model_module": "@jupyter-widgets/controls",
          "model_name": "FloatProgressModel",
          "model_module_version": "1.5.0",
          "state": {
            "_dom_classes": [],
            "_model_module": "@jupyter-widgets/controls",
            "_model_module_version": "1.5.0",
            "_model_name": "FloatProgressModel",
            "_view_count": null,
            "_view_module": "@jupyter-widgets/controls",
            "_view_module_version": "1.5.0",
            "_view_name": "ProgressView",
            "bar_style": "success",
            "description": "",
            "description_tooltip": null,
            "layout": "IPY_MODEL_0e4056c14d34411c94c37dbdb5bb7334",
            "max": 1,
            "min": 0,
            "orientation": "horizontal",
            "style": "IPY_MODEL_3d72cb11c6494dfb83117d93178a37da",
            "value": 1
          }
        },
        "5d7af7e3cbdb4148852fbe2dd78d6c58": {
          "model_module": "@jupyter-widgets/controls",
          "model_name": "HTMLModel",
          "model_module_version": "1.5.0",
          "state": {
            "_dom_classes": [],
            "_model_module": "@jupyter-widgets/controls",
            "_model_module_version": "1.5.0",
            "_model_name": "HTMLModel",
            "_view_count": null,
            "_view_module": "@jupyter-widgets/controls",
            "_view_module_version": "1.5.0",
            "_view_name": "HTMLView",
            "description": "",
            "description_tooltip": null,
            "layout": "IPY_MODEL_c5c8b86f836446788f281c9895ca5230",
            "placeholder": "​",
            "style": "IPY_MODEL_82a13e87863945d39d4cc6ffa481749c",
            "value": " [100%]   00:02 -&gt; (00:00 left)"
          }
        },
        "31ee6b898106440d8298bb3fb57a2f62": {
          "model_module": "@jupyter-widgets/base",
          "model_name": "LayoutModel",
          "model_module_version": "1.2.0",
          "state": {
            "_model_module": "@jupyter-widgets/base",
            "_model_module_version": "1.2.0",
            "_model_name": "LayoutModel",
            "_view_count": null,
            "_view_module": "@jupyter-widgets/base",
            "_view_module_version": "1.2.0",
            "_view_name": "LayoutView",
            "align_content": null,
            "align_items": null,
            "align_self": null,
            "border": null,
            "bottom": null,
            "display": "inline-flex",
            "flex": null,
            "flex_flow": "row wrap",
            "grid_area": null,
            "grid_auto_columns": null,
            "grid_auto_flow": null,
            "grid_auto_rows": null,
            "grid_column": null,
            "grid_gap": null,
            "grid_row": null,
            "grid_template_areas": null,
            "grid_template_columns": null,
            "grid_template_rows": null,
            "height": null,
            "justify_content": null,
            "justify_items": null,
            "left": null,
            "margin": null,
            "max_height": null,
            "max_width": null,
            "min_height": null,
            "min_width": null,
            "object_fit": null,
            "object_position": null,
            "order": null,
            "overflow": null,
            "overflow_x": null,
            "overflow_y": null,
            "padding": null,
            "right": null,
            "top": null,
            "visibility": null,
            "width": "100%"
          }
        },
        "82b356449b8d4bc683014beed9c6c3bc": {
          "model_module": "@jupyter-widgets/base",
          "model_name": "LayoutModel",
          "model_module_version": "1.2.0",
          "state": {
            "_model_module": "@jupyter-widgets/base",
            "_model_module_version": "1.2.0",
            "_model_name": "LayoutModel",
            "_view_count": null,
            "_view_module": "@jupyter-widgets/base",
            "_view_module_version": "1.2.0",
            "_view_name": "LayoutView",
            "align_content": null,
            "align_items": null,
            "align_self": null,
            "border": null,
            "bottom": null,
            "display": null,
            "flex": null,
            "flex_flow": null,
            "grid_area": null,
            "grid_auto_columns": null,
            "grid_auto_flow": null,
            "grid_auto_rows": null,
            "grid_column": null,
            "grid_gap": null,
            "grid_row": null,
            "grid_template_areas": null,
            "grid_template_columns": null,
            "grid_template_rows": null,
            "height": null,
            "justify_content": null,
            "justify_items": null,
            "left": null,
            "margin": null,
            "max_height": null,
            "max_width": null,
            "min_height": null,
            "min_width": null,
            "object_fit": null,
            "object_position": null,
            "order": null,
            "overflow": null,
            "overflow_x": null,
            "overflow_y": null,
            "padding": null,
            "right": null,
            "top": null,
            "visibility": null,
            "width": null
          }
        },
        "4f851575c9e64ca5b9938d259ebf0875": {
          "model_module": "@jupyter-widgets/controls",
          "model_name": "DescriptionStyleModel",
          "model_module_version": "1.5.0",
          "state": {
            "_model_module": "@jupyter-widgets/controls",
            "_model_module_version": "1.5.0",
            "_model_name": "DescriptionStyleModel",
            "_view_count": null,
            "_view_module": "@jupyter-widgets/base",
            "_view_module_version": "1.2.0",
            "_view_name": "StyleView",
            "description_width": ""
          }
        },
        "0e4056c14d34411c94c37dbdb5bb7334": {
          "model_module": "@jupyter-widgets/base",
          "model_name": "LayoutModel",
          "model_module_version": "1.2.0",
          "state": {
            "_model_module": "@jupyter-widgets/base",
            "_model_module_version": "1.2.0",
            "_model_name": "LayoutModel",
            "_view_count": null,
            "_view_module": "@jupyter-widgets/base",
            "_view_module_version": "1.2.0",
            "_view_name": "LayoutView",
            "align_content": null,
            "align_items": null,
            "align_self": null,
            "border": null,
            "bottom": null,
            "display": null,
            "flex": "2",
            "flex_flow": null,
            "grid_area": null,
            "grid_auto_columns": null,
            "grid_auto_flow": null,
            "grid_auto_rows": null,
            "grid_column": null,
            "grid_gap": null,
            "grid_row": null,
            "grid_template_areas": null,
            "grid_template_columns": null,
            "grid_template_rows": null,
            "height": null,
            "justify_content": null,
            "justify_items": null,
            "left": null,
            "margin": null,
            "max_height": null,
            "max_width": null,
            "min_height": null,
            "min_width": null,
            "object_fit": null,
            "object_position": null,
            "order": null,
            "overflow": null,
            "overflow_x": null,
            "overflow_y": null,
            "padding": null,
            "right": null,
            "top": null,
            "visibility": null,
            "width": null
          }
        },
        "3d72cb11c6494dfb83117d93178a37da": {
          "model_module": "@jupyter-widgets/controls",
          "model_name": "ProgressStyleModel",
          "model_module_version": "1.5.0",
          "state": {
            "_model_module": "@jupyter-widgets/controls",
            "_model_module_version": "1.5.0",
            "_model_name": "ProgressStyleModel",
            "_view_count": null,
            "_view_module": "@jupyter-widgets/base",
            "_view_module_version": "1.2.0",
            "_view_name": "StyleView",
            "bar_color": null,
            "description_width": ""
          }
        },
        "c5c8b86f836446788f281c9895ca5230": {
          "model_module": "@jupyter-widgets/base",
          "model_name": "LayoutModel",
          "model_module_version": "1.2.0",
          "state": {
            "_model_module": "@jupyter-widgets/base",
            "_model_module_version": "1.2.0",
            "_model_name": "LayoutModel",
            "_view_count": null,
            "_view_module": "@jupyter-widgets/base",
            "_view_module_version": "1.2.0",
            "_view_name": "LayoutView",
            "align_content": null,
            "align_items": null,
            "align_self": null,
            "border": null,
            "bottom": null,
            "display": null,
            "flex": null,
            "flex_flow": null,
            "grid_area": null,
            "grid_auto_columns": null,
            "grid_auto_flow": null,
            "grid_auto_rows": null,
            "grid_column": null,
            "grid_gap": null,
            "grid_row": null,
            "grid_template_areas": null,
            "grid_template_columns": null,
            "grid_template_rows": null,
            "height": null,
            "justify_content": null,
            "justify_items": null,
            "left": null,
            "margin": null,
            "max_height": null,
            "max_width": null,
            "min_height": null,
            "min_width": null,
            "object_fit": null,
            "object_position": null,
            "order": null,
            "overflow": null,
            "overflow_x": null,
            "overflow_y": null,
            "padding": null,
            "right": null,
            "top": null,
            "visibility": null,
            "width": null
          }
        },
        "82a13e87863945d39d4cc6ffa481749c": {
          "model_module": "@jupyter-widgets/controls",
          "model_name": "DescriptionStyleModel",
          "model_module_version": "1.5.0",
          "state": {
            "_model_module": "@jupyter-widgets/controls",
            "_model_module_version": "1.5.0",
            "_model_name": "DescriptionStyleModel",
            "_view_count": null,
            "_view_module": "@jupyter-widgets/base",
            "_view_module_version": "1.2.0",
            "_view_name": "StyleView",
            "description_width": ""
          }
        }
      }
    }
  },
  "cells": [
    {
      "cell_type": "markdown",
      "metadata": {
        "id": "view-in-github",
        "colab_type": "text"
      },
      "source": [
        "<a href=\"https://colab.research.google.com/github/MILLERASPRILLA/Proyecto--Churn-/blob/main/Calidad_Datos/Calidad_datos_Tesis.ipynb\" target=\"_parent\"><img src=\"https://colab.research.google.com/assets/colab-badge.svg\" alt=\"Open In Colab\"/></a>"
      ]
    },
    {
      "cell_type": "markdown",
      "source": [
        "![Universidad Central](https://www.ucentral.edu.co/sites/default/files/inline-images/identificadores-Centrados_en_ti_logo-h.png)"
      ],
      "metadata": {
        "id": "VZ-UIU0uaoj6"
      }
    },
    {
      "cell_type": "markdown",
      "source": [
        "# __PROYECTO DE GRADO__\n",
        "\n",
        "> ## ____ Implementación de modelos de aprendizaje de máquina para la prevención de la fuga de clientes en una empresa de telecomunicaciones.\n",
        ">\n",
        ">\n",
        "> <br>\n",
        ">\n",
        "> ## __Contenido__\n",
        "\n",
        ">**Temas:**\n",
        "\n",
        ">> Preprocesamiento de los datos\n",
        "\n",
        ">---\n"
      ],
      "metadata": {
        "id": "wpEx5nOTawGq"
      }
    },
    {
      "cell_type": "markdown",
      "source": [
        "- Librerias"
      ],
      "metadata": {
        "id": "zg62AOSDjTvJ"
      }
    },
    {
      "cell_type": "code",
      "source": [
        "pip install sweetviz"
      ],
      "metadata": {
        "id": "Bg6jZ5kSkYwg",
        "colab": {
          "base_uri": "https://localhost:8080/"
        },
        "outputId": "90cec729-d595-41fe-b301-187dbc4dbea2"
      },
      "execution_count": 86,
      "outputs": [
        {
          "output_type": "stream",
          "name": "stdout",
          "text": [
            "Looking in indexes: https://pypi.org/simple, https://us-python.pkg.dev/colab-wheels/public/simple/\n",
            "Requirement already satisfied: sweetviz in /usr/local/lib/python3.8/dist-packages (2.1.4)\n",
            "Requirement already satisfied: tqdm>=4.43.0 in /usr/local/lib/python3.8/dist-packages (from sweetviz) (4.64.1)\n",
            "Requirement already satisfied: jinja2>=2.11.1 in /usr/local/lib/python3.8/dist-packages (from sweetviz) (3.1.2)\n",
            "Requirement already satisfied: scipy>=1.3.2 in /usr/local/lib/python3.8/dist-packages (from sweetviz) (1.10.1)\n",
            "Requirement already satisfied: pandas!=1.0.0,!=1.0.1,!=1.0.2,>=0.25.3 in /usr/local/lib/python3.8/dist-packages (from sweetviz) (1.3.5)\n",
            "Requirement already satisfied: numpy>=1.16.0 in /usr/local/lib/python3.8/dist-packages (from sweetviz) (1.22.4)\n",
            "Requirement already satisfied: matplotlib>=3.1.3 in /usr/local/lib/python3.8/dist-packages (from sweetviz) (3.5.3)\n",
            "Requirement already satisfied: importlib-resources>=1.2.0 in /usr/local/lib/python3.8/dist-packages (from sweetviz) (5.12.0)\n",
            "Requirement already satisfied: zipp>=3.1.0 in /usr/local/lib/python3.8/dist-packages (from importlib-resources>=1.2.0->sweetviz) (3.15.0)\n",
            "Requirement already satisfied: MarkupSafe>=2.0 in /usr/local/lib/python3.8/dist-packages (from jinja2>=2.11.1->sweetviz) (2.1.2)\n",
            "Requirement already satisfied: cycler>=0.10 in /usr/local/lib/python3.8/dist-packages (from matplotlib>=3.1.3->sweetviz) (0.11.0)\n",
            "Requirement already satisfied: pillow>=6.2.0 in /usr/local/lib/python3.8/dist-packages (from matplotlib>=3.1.3->sweetviz) (8.4.0)\n",
            "Requirement already satisfied: python-dateutil>=2.7 in /usr/local/lib/python3.8/dist-packages (from matplotlib>=3.1.3->sweetviz) (2.8.2)\n",
            "Requirement already satisfied: packaging>=20.0 in /usr/local/lib/python3.8/dist-packages (from matplotlib>=3.1.3->sweetviz) (23.0)\n",
            "Requirement already satisfied: fonttools>=4.22.0 in /usr/local/lib/python3.8/dist-packages (from matplotlib>=3.1.3->sweetviz) (4.38.0)\n",
            "Requirement already satisfied: kiwisolver>=1.0.1 in /usr/local/lib/python3.8/dist-packages (from matplotlib>=3.1.3->sweetviz) (1.4.4)\n",
            "Requirement already satisfied: pyparsing>=2.2.1 in /usr/local/lib/python3.8/dist-packages (from matplotlib>=3.1.3->sweetviz) (3.0.9)\n",
            "Requirement already satisfied: pytz>=2017.3 in /usr/local/lib/python3.8/dist-packages (from pandas!=1.0.0,!=1.0.1,!=1.0.2,>=0.25.3->sweetviz) (2022.7.1)\n",
            "Requirement already satisfied: six>=1.5 in /usr/local/lib/python3.8/dist-packages (from python-dateutil>=2.7->matplotlib>=3.1.3->sweetviz) (1.15.0)\n"
          ]
        }
      ]
    },
    {
      "cell_type": "code",
      "execution_count": 87,
      "metadata": {
        "id": "rTXdwrM4an09"
      },
      "outputs": [],
      "source": [
        "import numpy as np\n",
        "import pandas as pd\n",
        "import seaborn as sns\n",
        "import sweetviz\n",
        "import matplotlib.pyplot as plt\n",
        "import plotly.express as px\n",
        "import seaborn as sns"
      ]
    },
    {
      "cell_type": "markdown",
      "source": [
        "# EXTRACCIÓN DE LOS DATOS "
      ],
      "metadata": {
        "id": "Hvo2bT0KGkR1"
      }
    },
    {
      "cell_type": "code",
      "source": [
        "DF = pd.read_csv(\"https://raw.githubusercontent.com/MILLERASPRILLA/Proyecto--Churn-/main/Bases/Base_original.csv\", sep= \",\", encoding= \"latin1\")\n",
        "DF.shape"
      ],
      "metadata": {
        "id": "GwkcwiUlapa5",
        "colab": {
          "base_uri": "https://localhost:8080/"
        },
        "outputId": "a2c887b9-0508-4e3a-c52b-56ec337827d4"
      },
      "execution_count": 88,
      "outputs": [
        {
          "output_type": "execute_result",
          "data": {
            "text/plain": [
              "(7043, 21)"
            ]
          },
          "metadata": {},
          "execution_count": 88
        }
      ]
    },
    {
      "cell_type": "markdown",
      "source": [
        "# PERFILADO DE DATOS\n",
        "\n",
        ". En este proceso buscamos la detección de datos inesperados , incorrectos e inconsistentes "
      ],
      "metadata": {
        "id": "DoWC_hpWYoZI"
      }
    },
    {
      "cell_type": "markdown",
      "source": [
        "- Para facilitar la comprensión de los datos renombraremos las columnas del Dataframe al idioma español"
      ],
      "metadata": {
        "id": "80LUc2ZnBmRE"
      }
    },
    {
      "cell_type": "code",
      "source": [
        "DF.columns = [\"ID_CLIENTE\", \"GENERO\", \"ADULTO_MAYOR\", \"CASADO\", \"PERSONAS_A_CARGO\", \"MESES_COMO_CLIENTE\", \"TIENE_TELEFONIA\", \"VARIAS_LINEAS\", \n",
        "              \"TIPO_INTERNET\", \"SEGURIDAD_EN_LINEA\", \"COPIA_DE_SEGURIDAD\", \"PROTECCION_DISPOSITIVO\", \"SOPORTE_TECNICO\", \"SERVICIO_TV\", \n",
        "              \"SERVICIOS_STREAMING\", \"PERIODO_CONTRATO\", \"FACTURACION_ELECTRONICA\", \"METODO_PAGO\",\"COBRO_MENSUAL\",  \"COBRO_TOTAL\", \"ABANDONO\" ]\n",
        "DF.head()"
      ],
      "metadata": {
        "colab": {
          "base_uri": "https://localhost:8080/",
          "height": 386
        },
        "id": "gP-mQTtoBfB1",
        "outputId": "8ff2c06d-6334-427e-aa15-507e2b95027e"
      },
      "execution_count": 89,
      "outputs": [
        {
          "output_type": "execute_result",
          "data": {
            "text/plain": [
              "   ID_CLIENTE  GENERO  ADULTO_MAYOR CASADO PERSONAS_A_CARGO  \\\n",
              "0  7590-VHVEG  Female             0    Yes               No   \n",
              "1  5575-GNVDE    Male             0     No               No   \n",
              "2  3668-QPYBK    Male             0     No               No   \n",
              "3  7795-CFOCW    Male             0     No               No   \n",
              "4  9237-HQITU  Female             0     No               No   \n",
              "\n",
              "   MESES_COMO_CLIENTE TIENE_TELEFONIA     VARIAS_LINEAS TIPO_INTERNET  \\\n",
              "0                   1              No  No phone service           DSL   \n",
              "1                  34             Yes                No           DSL   \n",
              "2                   2             Yes                No           DSL   \n",
              "3                  45              No  No phone service           DSL   \n",
              "4                   2             Yes                No   Fiber optic   \n",
              "\n",
              "  SEGURIDAD_EN_LINEA  ... PROTECCION_DISPOSITIVO SOPORTE_TECNICO SERVICIO_TV  \\\n",
              "0                 No  ...                     No              No          No   \n",
              "1                Yes  ...                    Yes              No          No   \n",
              "2                Yes  ...                     No              No          No   \n",
              "3                Yes  ...                    Yes             Yes          No   \n",
              "4                 No  ...                     No              No          No   \n",
              "\n",
              "  SERVICIOS_STREAMING PERIODO_CONTRATO FACTURACION_ELECTRONICA  \\\n",
              "0                  No   Month-to-month                     Yes   \n",
              "1                  No         One year                      No   \n",
              "2                  No   Month-to-month                     Yes   \n",
              "3                  No         One year                      No   \n",
              "4                  No   Month-to-month                     Yes   \n",
              "\n",
              "                 METODO_PAGO COBRO_MENSUAL  COBRO_TOTAL ABANDONO  \n",
              "0           Electronic check         29.85        29.85       No  \n",
              "1               Mailed check         56.95       1889.5       No  \n",
              "2               Mailed check         53.85       108.15      Yes  \n",
              "3  Bank transfer (automatic)         42.30      1840.75       No  \n",
              "4           Electronic check         70.70       151.65      Yes  \n",
              "\n",
              "[5 rows x 21 columns]"
            ],
            "text/html": [
              "\n",
              "  <div id=\"df-a439aaed-597d-49b0-a214-316709dea95e\">\n",
              "    <div class=\"colab-df-container\">\n",
              "      <div>\n",
              "<style scoped>\n",
              "    .dataframe tbody tr th:only-of-type {\n",
              "        vertical-align: middle;\n",
              "    }\n",
              "\n",
              "    .dataframe tbody tr th {\n",
              "        vertical-align: top;\n",
              "    }\n",
              "\n",
              "    .dataframe thead th {\n",
              "        text-align: right;\n",
              "    }\n",
              "</style>\n",
              "<table border=\"1\" class=\"dataframe\">\n",
              "  <thead>\n",
              "    <tr style=\"text-align: right;\">\n",
              "      <th></th>\n",
              "      <th>ID_CLIENTE</th>\n",
              "      <th>GENERO</th>\n",
              "      <th>ADULTO_MAYOR</th>\n",
              "      <th>CASADO</th>\n",
              "      <th>PERSONAS_A_CARGO</th>\n",
              "      <th>MESES_COMO_CLIENTE</th>\n",
              "      <th>TIENE_TELEFONIA</th>\n",
              "      <th>VARIAS_LINEAS</th>\n",
              "      <th>TIPO_INTERNET</th>\n",
              "      <th>SEGURIDAD_EN_LINEA</th>\n",
              "      <th>...</th>\n",
              "      <th>PROTECCION_DISPOSITIVO</th>\n",
              "      <th>SOPORTE_TECNICO</th>\n",
              "      <th>SERVICIO_TV</th>\n",
              "      <th>SERVICIOS_STREAMING</th>\n",
              "      <th>PERIODO_CONTRATO</th>\n",
              "      <th>FACTURACION_ELECTRONICA</th>\n",
              "      <th>METODO_PAGO</th>\n",
              "      <th>COBRO_MENSUAL</th>\n",
              "      <th>COBRO_TOTAL</th>\n",
              "      <th>ABANDONO</th>\n",
              "    </tr>\n",
              "  </thead>\n",
              "  <tbody>\n",
              "    <tr>\n",
              "      <th>0</th>\n",
              "      <td>7590-VHVEG</td>\n",
              "      <td>Female</td>\n",
              "      <td>0</td>\n",
              "      <td>Yes</td>\n",
              "      <td>No</td>\n",
              "      <td>1</td>\n",
              "      <td>No</td>\n",
              "      <td>No phone service</td>\n",
              "      <td>DSL</td>\n",
              "      <td>No</td>\n",
              "      <td>...</td>\n",
              "      <td>No</td>\n",
              "      <td>No</td>\n",
              "      <td>No</td>\n",
              "      <td>No</td>\n",
              "      <td>Month-to-month</td>\n",
              "      <td>Yes</td>\n",
              "      <td>Electronic check</td>\n",
              "      <td>29.85</td>\n",
              "      <td>29.85</td>\n",
              "      <td>No</td>\n",
              "    </tr>\n",
              "    <tr>\n",
              "      <th>1</th>\n",
              "      <td>5575-GNVDE</td>\n",
              "      <td>Male</td>\n",
              "      <td>0</td>\n",
              "      <td>No</td>\n",
              "      <td>No</td>\n",
              "      <td>34</td>\n",
              "      <td>Yes</td>\n",
              "      <td>No</td>\n",
              "      <td>DSL</td>\n",
              "      <td>Yes</td>\n",
              "      <td>...</td>\n",
              "      <td>Yes</td>\n",
              "      <td>No</td>\n",
              "      <td>No</td>\n",
              "      <td>No</td>\n",
              "      <td>One year</td>\n",
              "      <td>No</td>\n",
              "      <td>Mailed check</td>\n",
              "      <td>56.95</td>\n",
              "      <td>1889.5</td>\n",
              "      <td>No</td>\n",
              "    </tr>\n",
              "    <tr>\n",
              "      <th>2</th>\n",
              "      <td>3668-QPYBK</td>\n",
              "      <td>Male</td>\n",
              "      <td>0</td>\n",
              "      <td>No</td>\n",
              "      <td>No</td>\n",
              "      <td>2</td>\n",
              "      <td>Yes</td>\n",
              "      <td>No</td>\n",
              "      <td>DSL</td>\n",
              "      <td>Yes</td>\n",
              "      <td>...</td>\n",
              "      <td>No</td>\n",
              "      <td>No</td>\n",
              "      <td>No</td>\n",
              "      <td>No</td>\n",
              "      <td>Month-to-month</td>\n",
              "      <td>Yes</td>\n",
              "      <td>Mailed check</td>\n",
              "      <td>53.85</td>\n",
              "      <td>108.15</td>\n",
              "      <td>Yes</td>\n",
              "    </tr>\n",
              "    <tr>\n",
              "      <th>3</th>\n",
              "      <td>7795-CFOCW</td>\n",
              "      <td>Male</td>\n",
              "      <td>0</td>\n",
              "      <td>No</td>\n",
              "      <td>No</td>\n",
              "      <td>45</td>\n",
              "      <td>No</td>\n",
              "      <td>No phone service</td>\n",
              "      <td>DSL</td>\n",
              "      <td>Yes</td>\n",
              "      <td>...</td>\n",
              "      <td>Yes</td>\n",
              "      <td>Yes</td>\n",
              "      <td>No</td>\n",
              "      <td>No</td>\n",
              "      <td>One year</td>\n",
              "      <td>No</td>\n",
              "      <td>Bank transfer (automatic)</td>\n",
              "      <td>42.30</td>\n",
              "      <td>1840.75</td>\n",
              "      <td>No</td>\n",
              "    </tr>\n",
              "    <tr>\n",
              "      <th>4</th>\n",
              "      <td>9237-HQITU</td>\n",
              "      <td>Female</td>\n",
              "      <td>0</td>\n",
              "      <td>No</td>\n",
              "      <td>No</td>\n",
              "      <td>2</td>\n",
              "      <td>Yes</td>\n",
              "      <td>No</td>\n",
              "      <td>Fiber optic</td>\n",
              "      <td>No</td>\n",
              "      <td>...</td>\n",
              "      <td>No</td>\n",
              "      <td>No</td>\n",
              "      <td>No</td>\n",
              "      <td>No</td>\n",
              "      <td>Month-to-month</td>\n",
              "      <td>Yes</td>\n",
              "      <td>Electronic check</td>\n",
              "      <td>70.70</td>\n",
              "      <td>151.65</td>\n",
              "      <td>Yes</td>\n",
              "    </tr>\n",
              "  </tbody>\n",
              "</table>\n",
              "<p>5 rows × 21 columns</p>\n",
              "</div>\n",
              "      <button class=\"colab-df-convert\" onclick=\"convertToInteractive('df-a439aaed-597d-49b0-a214-316709dea95e')\"\n",
              "              title=\"Convert this dataframe to an interactive table.\"\n",
              "              style=\"display:none;\">\n",
              "        \n",
              "  <svg xmlns=\"http://www.w3.org/2000/svg\" height=\"24px\"viewBox=\"0 0 24 24\"\n",
              "       width=\"24px\">\n",
              "    <path d=\"M0 0h24v24H0V0z\" fill=\"none\"/>\n",
              "    <path d=\"M18.56 5.44l.94 2.06.94-2.06 2.06-.94-2.06-.94-.94-2.06-.94 2.06-2.06.94zm-11 1L8.5 8.5l.94-2.06 2.06-.94-2.06-.94L8.5 2.5l-.94 2.06-2.06.94zm10 10l.94 2.06.94-2.06 2.06-.94-2.06-.94-.94-2.06-.94 2.06-2.06.94z\"/><path d=\"M17.41 7.96l-1.37-1.37c-.4-.4-.92-.59-1.43-.59-.52 0-1.04.2-1.43.59L10.3 9.45l-7.72 7.72c-.78.78-.78 2.05 0 2.83L4 21.41c.39.39.9.59 1.41.59.51 0 1.02-.2 1.41-.59l7.78-7.78 2.81-2.81c.8-.78.8-2.07 0-2.86zM5.41 20L4 18.59l7.72-7.72 1.47 1.35L5.41 20z\"/>\n",
              "  </svg>\n",
              "      </button>\n",
              "      \n",
              "  <style>\n",
              "    .colab-df-container {\n",
              "      display:flex;\n",
              "      flex-wrap:wrap;\n",
              "      gap: 12px;\n",
              "    }\n",
              "\n",
              "    .colab-df-convert {\n",
              "      background-color: #E8F0FE;\n",
              "      border: none;\n",
              "      border-radius: 50%;\n",
              "      cursor: pointer;\n",
              "      display: none;\n",
              "      fill: #1967D2;\n",
              "      height: 32px;\n",
              "      padding: 0 0 0 0;\n",
              "      width: 32px;\n",
              "    }\n",
              "\n",
              "    .colab-df-convert:hover {\n",
              "      background-color: #E2EBFA;\n",
              "      box-shadow: 0px 1px 2px rgba(60, 64, 67, 0.3), 0px 1px 3px 1px rgba(60, 64, 67, 0.15);\n",
              "      fill: #174EA6;\n",
              "    }\n",
              "\n",
              "    [theme=dark] .colab-df-convert {\n",
              "      background-color: #3B4455;\n",
              "      fill: #D2E3FC;\n",
              "    }\n",
              "\n",
              "    [theme=dark] .colab-df-convert:hover {\n",
              "      background-color: #434B5C;\n",
              "      box-shadow: 0px 1px 3px 1px rgba(0, 0, 0, 0.15);\n",
              "      filter: drop-shadow(0px 1px 2px rgba(0, 0, 0, 0.3));\n",
              "      fill: #FFFFFF;\n",
              "    }\n",
              "  </style>\n",
              "\n",
              "      <script>\n",
              "        const buttonEl =\n",
              "          document.querySelector('#df-a439aaed-597d-49b0-a214-316709dea95e button.colab-df-convert');\n",
              "        buttonEl.style.display =\n",
              "          google.colab.kernel.accessAllowed ? 'block' : 'none';\n",
              "\n",
              "        async function convertToInteractive(key) {\n",
              "          const element = document.querySelector('#df-a439aaed-597d-49b0-a214-316709dea95e');\n",
              "          const dataTable =\n",
              "            await google.colab.kernel.invokeFunction('convertToInteractive',\n",
              "                                                     [key], {});\n",
              "          if (!dataTable) return;\n",
              "\n",
              "          const docLinkHtml = 'Like what you see? Visit the ' +\n",
              "            '<a target=\"_blank\" href=https://colab.research.google.com/notebooks/data_table.ipynb>data table notebook</a>'\n",
              "            + ' to learn more about interactive tables.';\n",
              "          element.innerHTML = '';\n",
              "          dataTable['output_type'] = 'display_data';\n",
              "          await google.colab.output.renderOutput(dataTable, element);\n",
              "          const docLink = document.createElement('div');\n",
              "          docLink.innerHTML = docLinkHtml;\n",
              "          element.appendChild(docLink);\n",
              "        }\n",
              "      </script>\n",
              "    </div>\n",
              "  </div>\n",
              "  "
            ]
          },
          "metadata": {},
          "execution_count": 89
        }
      ]
    },
    {
      "cell_type": "code",
      "source": [
        "# Inspección Inicial \n",
        "print(\"El DataFrame contiene\", DF.shape[0], \"Filas y\", DF.shape[1], \"columnas\" )\n",
        "columna = []\n",
        "tipo = []\n",
        "unicos = []\n",
        "nulos = []\n",
        "for col in DF.columns.to_list():\n",
        "    columna.append(col)\n",
        "    tipo.append(DF[col].dtype)\n",
        "    unicos.append(len(DF[col].unique()))\n",
        "    nulos.append(len(DF[DF[col].isnull()]))\n",
        "\n",
        "    descripcion = pd.DataFrame(list(zip(columna, tipo, unicos, nulos)), \n",
        "                               columns = [\"Columna\", \"Tipo_dato\", \"Unicos\", \"Nulos\"])\n",
        "\n",
        "descripcion"
      ],
      "metadata": {
        "colab": {
          "base_uri": "https://localhost:8080/",
          "height": 725
        },
        "id": "bBJQXFWUNsCd",
        "outputId": "5d6c7923-67d9-4ed1-f445-62f9aa4766bb"
      },
      "execution_count": 90,
      "outputs": [
        {
          "output_type": "stream",
          "name": "stdout",
          "text": [
            "El DataFrame contiene 7043 Filas y 21 columnas\n"
          ]
        },
        {
          "output_type": "execute_result",
          "data": {
            "text/plain": [
              "                    Columna Tipo_dato  Unicos  Nulos\n",
              "0                ID_CLIENTE    object    7043      0\n",
              "1                    GENERO    object       2      0\n",
              "2              ADULTO_MAYOR     int64       2      0\n",
              "3                    CASADO    object       2      0\n",
              "4          PERSONAS_A_CARGO    object       2      0\n",
              "5        MESES_COMO_CLIENTE     int64      73      0\n",
              "6           TIENE_TELEFONIA    object       2      0\n",
              "7             VARIAS_LINEAS    object       3      0\n",
              "8             TIPO_INTERNET    object       3      0\n",
              "9        SEGURIDAD_EN_LINEA    object       3      0\n",
              "10       COPIA_DE_SEGURIDAD    object       3      0\n",
              "11   PROTECCION_DISPOSITIVO    object       3      0\n",
              "12          SOPORTE_TECNICO    object       3      0\n",
              "13              SERVICIO_TV    object       3      0\n",
              "14      SERVICIOS_STREAMING    object       3      0\n",
              "15         PERIODO_CONTRATO    object       3      0\n",
              "16  FACTURACION_ELECTRONICA    object       2      0\n",
              "17              METODO_PAGO    object       4      0\n",
              "18            COBRO_MENSUAL   float64    1585      0\n",
              "19              COBRO_TOTAL    object    6531      0\n",
              "20                 ABANDONO    object       2      0"
            ],
            "text/html": [
              "\n",
              "  <div id=\"df-cefe7fbd-457e-485b-807b-5c9c9b7cbf1a\">\n",
              "    <div class=\"colab-df-container\">\n",
              "      <div>\n",
              "<style scoped>\n",
              "    .dataframe tbody tr th:only-of-type {\n",
              "        vertical-align: middle;\n",
              "    }\n",
              "\n",
              "    .dataframe tbody tr th {\n",
              "        vertical-align: top;\n",
              "    }\n",
              "\n",
              "    .dataframe thead th {\n",
              "        text-align: right;\n",
              "    }\n",
              "</style>\n",
              "<table border=\"1\" class=\"dataframe\">\n",
              "  <thead>\n",
              "    <tr style=\"text-align: right;\">\n",
              "      <th></th>\n",
              "      <th>Columna</th>\n",
              "      <th>Tipo_dato</th>\n",
              "      <th>Unicos</th>\n",
              "      <th>Nulos</th>\n",
              "    </tr>\n",
              "  </thead>\n",
              "  <tbody>\n",
              "    <tr>\n",
              "      <th>0</th>\n",
              "      <td>ID_CLIENTE</td>\n",
              "      <td>object</td>\n",
              "      <td>7043</td>\n",
              "      <td>0</td>\n",
              "    </tr>\n",
              "    <tr>\n",
              "      <th>1</th>\n",
              "      <td>GENERO</td>\n",
              "      <td>object</td>\n",
              "      <td>2</td>\n",
              "      <td>0</td>\n",
              "    </tr>\n",
              "    <tr>\n",
              "      <th>2</th>\n",
              "      <td>ADULTO_MAYOR</td>\n",
              "      <td>int64</td>\n",
              "      <td>2</td>\n",
              "      <td>0</td>\n",
              "    </tr>\n",
              "    <tr>\n",
              "      <th>3</th>\n",
              "      <td>CASADO</td>\n",
              "      <td>object</td>\n",
              "      <td>2</td>\n",
              "      <td>0</td>\n",
              "    </tr>\n",
              "    <tr>\n",
              "      <th>4</th>\n",
              "      <td>PERSONAS_A_CARGO</td>\n",
              "      <td>object</td>\n",
              "      <td>2</td>\n",
              "      <td>0</td>\n",
              "    </tr>\n",
              "    <tr>\n",
              "      <th>5</th>\n",
              "      <td>MESES_COMO_CLIENTE</td>\n",
              "      <td>int64</td>\n",
              "      <td>73</td>\n",
              "      <td>0</td>\n",
              "    </tr>\n",
              "    <tr>\n",
              "      <th>6</th>\n",
              "      <td>TIENE_TELEFONIA</td>\n",
              "      <td>object</td>\n",
              "      <td>2</td>\n",
              "      <td>0</td>\n",
              "    </tr>\n",
              "    <tr>\n",
              "      <th>7</th>\n",
              "      <td>VARIAS_LINEAS</td>\n",
              "      <td>object</td>\n",
              "      <td>3</td>\n",
              "      <td>0</td>\n",
              "    </tr>\n",
              "    <tr>\n",
              "      <th>8</th>\n",
              "      <td>TIPO_INTERNET</td>\n",
              "      <td>object</td>\n",
              "      <td>3</td>\n",
              "      <td>0</td>\n",
              "    </tr>\n",
              "    <tr>\n",
              "      <th>9</th>\n",
              "      <td>SEGURIDAD_EN_LINEA</td>\n",
              "      <td>object</td>\n",
              "      <td>3</td>\n",
              "      <td>0</td>\n",
              "    </tr>\n",
              "    <tr>\n",
              "      <th>10</th>\n",
              "      <td>COPIA_DE_SEGURIDAD</td>\n",
              "      <td>object</td>\n",
              "      <td>3</td>\n",
              "      <td>0</td>\n",
              "    </tr>\n",
              "    <tr>\n",
              "      <th>11</th>\n",
              "      <td>PROTECCION_DISPOSITIVO</td>\n",
              "      <td>object</td>\n",
              "      <td>3</td>\n",
              "      <td>0</td>\n",
              "    </tr>\n",
              "    <tr>\n",
              "      <th>12</th>\n",
              "      <td>SOPORTE_TECNICO</td>\n",
              "      <td>object</td>\n",
              "      <td>3</td>\n",
              "      <td>0</td>\n",
              "    </tr>\n",
              "    <tr>\n",
              "      <th>13</th>\n",
              "      <td>SERVICIO_TV</td>\n",
              "      <td>object</td>\n",
              "      <td>3</td>\n",
              "      <td>0</td>\n",
              "    </tr>\n",
              "    <tr>\n",
              "      <th>14</th>\n",
              "      <td>SERVICIOS_STREAMING</td>\n",
              "      <td>object</td>\n",
              "      <td>3</td>\n",
              "      <td>0</td>\n",
              "    </tr>\n",
              "    <tr>\n",
              "      <th>15</th>\n",
              "      <td>PERIODO_CONTRATO</td>\n",
              "      <td>object</td>\n",
              "      <td>3</td>\n",
              "      <td>0</td>\n",
              "    </tr>\n",
              "    <tr>\n",
              "      <th>16</th>\n",
              "      <td>FACTURACION_ELECTRONICA</td>\n",
              "      <td>object</td>\n",
              "      <td>2</td>\n",
              "      <td>0</td>\n",
              "    </tr>\n",
              "    <tr>\n",
              "      <th>17</th>\n",
              "      <td>METODO_PAGO</td>\n",
              "      <td>object</td>\n",
              "      <td>4</td>\n",
              "      <td>0</td>\n",
              "    </tr>\n",
              "    <tr>\n",
              "      <th>18</th>\n",
              "      <td>COBRO_MENSUAL</td>\n",
              "      <td>float64</td>\n",
              "      <td>1585</td>\n",
              "      <td>0</td>\n",
              "    </tr>\n",
              "    <tr>\n",
              "      <th>19</th>\n",
              "      <td>COBRO_TOTAL</td>\n",
              "      <td>object</td>\n",
              "      <td>6531</td>\n",
              "      <td>0</td>\n",
              "    </tr>\n",
              "    <tr>\n",
              "      <th>20</th>\n",
              "      <td>ABANDONO</td>\n",
              "      <td>object</td>\n",
              "      <td>2</td>\n",
              "      <td>0</td>\n",
              "    </tr>\n",
              "  </tbody>\n",
              "</table>\n",
              "</div>\n",
              "      <button class=\"colab-df-convert\" onclick=\"convertToInteractive('df-cefe7fbd-457e-485b-807b-5c9c9b7cbf1a')\"\n",
              "              title=\"Convert this dataframe to an interactive table.\"\n",
              "              style=\"display:none;\">\n",
              "        \n",
              "  <svg xmlns=\"http://www.w3.org/2000/svg\" height=\"24px\"viewBox=\"0 0 24 24\"\n",
              "       width=\"24px\">\n",
              "    <path d=\"M0 0h24v24H0V0z\" fill=\"none\"/>\n",
              "    <path d=\"M18.56 5.44l.94 2.06.94-2.06 2.06-.94-2.06-.94-.94-2.06-.94 2.06-2.06.94zm-11 1L8.5 8.5l.94-2.06 2.06-.94-2.06-.94L8.5 2.5l-.94 2.06-2.06.94zm10 10l.94 2.06.94-2.06 2.06-.94-2.06-.94-.94-2.06-.94 2.06-2.06.94z\"/><path d=\"M17.41 7.96l-1.37-1.37c-.4-.4-.92-.59-1.43-.59-.52 0-1.04.2-1.43.59L10.3 9.45l-7.72 7.72c-.78.78-.78 2.05 0 2.83L4 21.41c.39.39.9.59 1.41.59.51 0 1.02-.2 1.41-.59l7.78-7.78 2.81-2.81c.8-.78.8-2.07 0-2.86zM5.41 20L4 18.59l7.72-7.72 1.47 1.35L5.41 20z\"/>\n",
              "  </svg>\n",
              "      </button>\n",
              "      \n",
              "  <style>\n",
              "    .colab-df-container {\n",
              "      display:flex;\n",
              "      flex-wrap:wrap;\n",
              "      gap: 12px;\n",
              "    }\n",
              "\n",
              "    .colab-df-convert {\n",
              "      background-color: #E8F0FE;\n",
              "      border: none;\n",
              "      border-radius: 50%;\n",
              "      cursor: pointer;\n",
              "      display: none;\n",
              "      fill: #1967D2;\n",
              "      height: 32px;\n",
              "      padding: 0 0 0 0;\n",
              "      width: 32px;\n",
              "    }\n",
              "\n",
              "    .colab-df-convert:hover {\n",
              "      background-color: #E2EBFA;\n",
              "      box-shadow: 0px 1px 2px rgba(60, 64, 67, 0.3), 0px 1px 3px 1px rgba(60, 64, 67, 0.15);\n",
              "      fill: #174EA6;\n",
              "    }\n",
              "\n",
              "    [theme=dark] .colab-df-convert {\n",
              "      background-color: #3B4455;\n",
              "      fill: #D2E3FC;\n",
              "    }\n",
              "\n",
              "    [theme=dark] .colab-df-convert:hover {\n",
              "      background-color: #434B5C;\n",
              "      box-shadow: 0px 1px 3px 1px rgba(0, 0, 0, 0.15);\n",
              "      filter: drop-shadow(0px 1px 2px rgba(0, 0, 0, 0.3));\n",
              "      fill: #FFFFFF;\n",
              "    }\n",
              "  </style>\n",
              "\n",
              "      <script>\n",
              "        const buttonEl =\n",
              "          document.querySelector('#df-cefe7fbd-457e-485b-807b-5c9c9b7cbf1a button.colab-df-convert');\n",
              "        buttonEl.style.display =\n",
              "          google.colab.kernel.accessAllowed ? 'block' : 'none';\n",
              "\n",
              "        async function convertToInteractive(key) {\n",
              "          const element = document.querySelector('#df-cefe7fbd-457e-485b-807b-5c9c9b7cbf1a');\n",
              "          const dataTable =\n",
              "            await google.colab.kernel.invokeFunction('convertToInteractive',\n",
              "                                                     [key], {});\n",
              "          if (!dataTable) return;\n",
              "\n",
              "          const docLinkHtml = 'Like what you see? Visit the ' +\n",
              "            '<a target=\"_blank\" href=https://colab.research.google.com/notebooks/data_table.ipynb>data table notebook</a>'\n",
              "            + ' to learn more about interactive tables.';\n",
              "          element.innerHTML = '';\n",
              "          dataTable['output_type'] = 'display_data';\n",
              "          await google.colab.output.renderOutput(dataTable, element);\n",
              "          const docLink = document.createElement('div');\n",
              "          docLink.innerHTML = docLinkHtml;\n",
              "          element.appendChild(docLink);\n",
              "        }\n",
              "      </script>\n",
              "    </div>\n",
              "  </div>\n",
              "  "
            ]
          },
          "metadata": {},
          "execution_count": 90
        }
      ]
    },
    {
      "cell_type": "markdown",
      "source": [
        "## VALIDEZ DE LOS DATOS "
      ],
      "metadata": {
        "id": "bKcx5s1fKFvG"
      }
    },
    {
      "cell_type": "markdown",
      "source": [
        "- A partir de la tabla de inspección verificaremos que los datos se ajusten a las reglas o restricciones comerciales definidas. "
      ],
      "metadata": {
        "id": "onjCRKPbKz9U"
      }
    },
    {
      "cell_type": "markdown",
      "source": [
        "- Reporte de hallazgos\n",
        "\n",
        ">> 1 - La columna Adulto Mayor tiene un error de tipo de dato, la columna hace referencia a una categoría (1 = el cliente es mayor de edad , 0= el cliente no es mayor de edad) por lo que el tipo de dato debería ser object y no int64 \n",
        "\n",
        ">> 2 - La columna Cobro Total tiene un error de tipo de dato, esta hace referencia al valor en Euros de los servicios realizados hasta la fecha, este dato debería ser un tipo float y no una categoría.  "
      ],
      "metadata": {
        "id": "tEQL76SwLKJb"
      }
    },
    {
      "cell_type": "code",
      "source": [
        "# Correción tipo de dato \n",
        "DF[\"ADULTO_MAYOR\"] =  DF[\"ADULTO_MAYOR\"].astype(object)"
      ],
      "metadata": {
        "id": "9RzxdDH1MPp8"
      },
      "execution_count": 91,
      "outputs": []
    },
    {
      "cell_type": "code",
      "source": [
        "# Reporte de cambios\n",
        "DF.dtypes"
      ],
      "metadata": {
        "colab": {
          "base_uri": "https://localhost:8080/"
        },
        "id": "4QWxL4bVNcD0",
        "outputId": "117fc084-a206-46e8-e44a-cb95ba0cb668"
      },
      "execution_count": 92,
      "outputs": [
        {
          "output_type": "execute_result",
          "data": {
            "text/plain": [
              "ID_CLIENTE                  object\n",
              "GENERO                      object\n",
              "ADULTO_MAYOR                object\n",
              "CASADO                      object\n",
              "PERSONAS_A_CARGO            object\n",
              "MESES_COMO_CLIENTE           int64\n",
              "TIENE_TELEFONIA             object\n",
              "VARIAS_LINEAS               object\n",
              "TIPO_INTERNET               object\n",
              "SEGURIDAD_EN_LINEA          object\n",
              "COPIA_DE_SEGURIDAD          object\n",
              "PROTECCION_DISPOSITIVO      object\n",
              "SOPORTE_TECNICO             object\n",
              "SERVICIO_TV                 object\n",
              "SERVICIOS_STREAMING         object\n",
              "PERIODO_CONTRATO            object\n",
              "FACTURACION_ELECTRONICA     object\n",
              "METODO_PAGO                 object\n",
              "COBRO_MENSUAL              float64\n",
              "COBRO_TOTAL                 object\n",
              "ABANDONO                    object\n",
              "dtype: object"
            ]
          },
          "metadata": {},
          "execution_count": 92
        }
      ]
    },
    {
      "cell_type": "code",
      "source": [
        "# vizualizacion de los errores en la columna cobro_total\n",
        "ERROR = DF[DF[\"COBRO_TOTAL\"]== \" \"]\n",
        "ERROR[[\"MESES_COMO_CLIENTE\", \"COBRO_TOTAL\"]]"
      ],
      "metadata": {
        "colab": {
          "base_uri": "https://localhost:8080/",
          "height": 394
        },
        "id": "FSyBfJ9gFk-3",
        "outputId": "508cb6d6-bedd-48c0-b51a-dd837810ba4f"
      },
      "execution_count": 93,
      "outputs": [
        {
          "output_type": "execute_result",
          "data": {
            "text/plain": [
              "      MESES_COMO_CLIENTE COBRO_TOTAL\n",
              "488                    0            \n",
              "753                    0            \n",
              "936                    0            \n",
              "1082                   0            \n",
              "1340                   0            \n",
              "3331                   0            \n",
              "3826                   0            \n",
              "4380                   0            \n",
              "5218                   0            \n",
              "6670                   0            \n",
              "6754                   0            "
            ],
            "text/html": [
              "\n",
              "  <div id=\"df-5936851c-c5f4-4a9c-9061-385469570254\">\n",
              "    <div class=\"colab-df-container\">\n",
              "      <div>\n",
              "<style scoped>\n",
              "    .dataframe tbody tr th:only-of-type {\n",
              "        vertical-align: middle;\n",
              "    }\n",
              "\n",
              "    .dataframe tbody tr th {\n",
              "        vertical-align: top;\n",
              "    }\n",
              "\n",
              "    .dataframe thead th {\n",
              "        text-align: right;\n",
              "    }\n",
              "</style>\n",
              "<table border=\"1\" class=\"dataframe\">\n",
              "  <thead>\n",
              "    <tr style=\"text-align: right;\">\n",
              "      <th></th>\n",
              "      <th>MESES_COMO_CLIENTE</th>\n",
              "      <th>COBRO_TOTAL</th>\n",
              "    </tr>\n",
              "  </thead>\n",
              "  <tbody>\n",
              "    <tr>\n",
              "      <th>488</th>\n",
              "      <td>0</td>\n",
              "      <td></td>\n",
              "    </tr>\n",
              "    <tr>\n",
              "      <th>753</th>\n",
              "      <td>0</td>\n",
              "      <td></td>\n",
              "    </tr>\n",
              "    <tr>\n",
              "      <th>936</th>\n",
              "      <td>0</td>\n",
              "      <td></td>\n",
              "    </tr>\n",
              "    <tr>\n",
              "      <th>1082</th>\n",
              "      <td>0</td>\n",
              "      <td></td>\n",
              "    </tr>\n",
              "    <tr>\n",
              "      <th>1340</th>\n",
              "      <td>0</td>\n",
              "      <td></td>\n",
              "    </tr>\n",
              "    <tr>\n",
              "      <th>3331</th>\n",
              "      <td>0</td>\n",
              "      <td></td>\n",
              "    </tr>\n",
              "    <tr>\n",
              "      <th>3826</th>\n",
              "      <td>0</td>\n",
              "      <td></td>\n",
              "    </tr>\n",
              "    <tr>\n",
              "      <th>4380</th>\n",
              "      <td>0</td>\n",
              "      <td></td>\n",
              "    </tr>\n",
              "    <tr>\n",
              "      <th>5218</th>\n",
              "      <td>0</td>\n",
              "      <td></td>\n",
              "    </tr>\n",
              "    <tr>\n",
              "      <th>6670</th>\n",
              "      <td>0</td>\n",
              "      <td></td>\n",
              "    </tr>\n",
              "    <tr>\n",
              "      <th>6754</th>\n",
              "      <td>0</td>\n",
              "      <td></td>\n",
              "    </tr>\n",
              "  </tbody>\n",
              "</table>\n",
              "</div>\n",
              "      <button class=\"colab-df-convert\" onclick=\"convertToInteractive('df-5936851c-c5f4-4a9c-9061-385469570254')\"\n",
              "              title=\"Convert this dataframe to an interactive table.\"\n",
              "              style=\"display:none;\">\n",
              "        \n",
              "  <svg xmlns=\"http://www.w3.org/2000/svg\" height=\"24px\"viewBox=\"0 0 24 24\"\n",
              "       width=\"24px\">\n",
              "    <path d=\"M0 0h24v24H0V0z\" fill=\"none\"/>\n",
              "    <path d=\"M18.56 5.44l.94 2.06.94-2.06 2.06-.94-2.06-.94-.94-2.06-.94 2.06-2.06.94zm-11 1L8.5 8.5l.94-2.06 2.06-.94-2.06-.94L8.5 2.5l-.94 2.06-2.06.94zm10 10l.94 2.06.94-2.06 2.06-.94-2.06-.94-.94-2.06-.94 2.06-2.06.94z\"/><path d=\"M17.41 7.96l-1.37-1.37c-.4-.4-.92-.59-1.43-.59-.52 0-1.04.2-1.43.59L10.3 9.45l-7.72 7.72c-.78.78-.78 2.05 0 2.83L4 21.41c.39.39.9.59 1.41.59.51 0 1.02-.2 1.41-.59l7.78-7.78 2.81-2.81c.8-.78.8-2.07 0-2.86zM5.41 20L4 18.59l7.72-7.72 1.47 1.35L5.41 20z\"/>\n",
              "  </svg>\n",
              "      </button>\n",
              "      \n",
              "  <style>\n",
              "    .colab-df-container {\n",
              "      display:flex;\n",
              "      flex-wrap:wrap;\n",
              "      gap: 12px;\n",
              "    }\n",
              "\n",
              "    .colab-df-convert {\n",
              "      background-color: #E8F0FE;\n",
              "      border: none;\n",
              "      border-radius: 50%;\n",
              "      cursor: pointer;\n",
              "      display: none;\n",
              "      fill: #1967D2;\n",
              "      height: 32px;\n",
              "      padding: 0 0 0 0;\n",
              "      width: 32px;\n",
              "    }\n",
              "\n",
              "    .colab-df-convert:hover {\n",
              "      background-color: #E2EBFA;\n",
              "      box-shadow: 0px 1px 2px rgba(60, 64, 67, 0.3), 0px 1px 3px 1px rgba(60, 64, 67, 0.15);\n",
              "      fill: #174EA6;\n",
              "    }\n",
              "\n",
              "    [theme=dark] .colab-df-convert {\n",
              "      background-color: #3B4455;\n",
              "      fill: #D2E3FC;\n",
              "    }\n",
              "\n",
              "    [theme=dark] .colab-df-convert:hover {\n",
              "      background-color: #434B5C;\n",
              "      box-shadow: 0px 1px 3px 1px rgba(0, 0, 0, 0.15);\n",
              "      filter: drop-shadow(0px 1px 2px rgba(0, 0, 0, 0.3));\n",
              "      fill: #FFFFFF;\n",
              "    }\n",
              "  </style>\n",
              "\n",
              "      <script>\n",
              "        const buttonEl =\n",
              "          document.querySelector('#df-5936851c-c5f4-4a9c-9061-385469570254 button.colab-df-convert');\n",
              "        buttonEl.style.display =\n",
              "          google.colab.kernel.accessAllowed ? 'block' : 'none';\n",
              "\n",
              "        async function convertToInteractive(key) {\n",
              "          const element = document.querySelector('#df-5936851c-c5f4-4a9c-9061-385469570254');\n",
              "          const dataTable =\n",
              "            await google.colab.kernel.invokeFunction('convertToInteractive',\n",
              "                                                     [key], {});\n",
              "          if (!dataTable) return;\n",
              "\n",
              "          const docLinkHtml = 'Like what you see? Visit the ' +\n",
              "            '<a target=\"_blank\" href=https://colab.research.google.com/notebooks/data_table.ipynb>data table notebook</a>'\n",
              "            + ' to learn more about interactive tables.';\n",
              "          element.innerHTML = '';\n",
              "          dataTable['output_type'] = 'display_data';\n",
              "          await google.colab.output.renderOutput(dataTable, element);\n",
              "          const docLink = document.createElement('div');\n",
              "          docLink.innerHTML = docLinkHtml;\n",
              "          element.appendChild(docLink);\n",
              "        }\n",
              "      </script>\n",
              "    </div>\n",
              "  </div>\n",
              "  "
            ]
          },
          "metadata": {},
          "execution_count": 93
        }
      ]
    },
    {
      "cell_type": "markdown",
      "source": [
        "La columna se esta reconociendo como object debido a que existen datos vacíos para los clientes que llevan menos de un mes en la compañía y aun no se les ha efectuado ningún cobro. "
      ],
      "metadata": {
        "id": "1G_nOzBnGBgg"
      }
    },
    {
      "cell_type": "code",
      "source": [
        "# Remplazamos Valores Vacios por 0 \n",
        "DF[\"COBRO_TOTAL\"] = DF[\"COBRO_TOTAL\"].replace(\" \", 0)"
      ],
      "metadata": {
        "id": "qUvtBEi-DUVg"
      },
      "execution_count": 94,
      "outputs": []
    },
    {
      "cell_type": "code",
      "source": [
        "# Cambiando tipo de dato\n",
        "DF[\"COBRO_TOTAL\"] =  DF[\"COBRO_TOTAL\"].astype(\"float64\")"
      ],
      "metadata": {
        "id": "yTInebf4GdT7"
      },
      "execution_count": 95,
      "outputs": []
    },
    {
      "cell_type": "code",
      "source": [
        "# Reporte de cambios\n",
        "print(DF[DF[\"COBRO_TOTAL\"]== \" \"])\n",
        "DF.dtypes"
      ],
      "metadata": {
        "colab": {
          "base_uri": "https://localhost:8080/"
        },
        "id": "JPp0onXpG8Iz",
        "outputId": "a66170af-ac7f-4d3e-cbfe-fd1f23106800"
      },
      "execution_count": 96,
      "outputs": [
        {
          "output_type": "stream",
          "name": "stdout",
          "text": [
            "Empty DataFrame\n",
            "Columns: [ID_CLIENTE, GENERO, ADULTO_MAYOR, CASADO, PERSONAS_A_CARGO, MESES_COMO_CLIENTE, TIENE_TELEFONIA, VARIAS_LINEAS, TIPO_INTERNET, SEGURIDAD_EN_LINEA, COPIA_DE_SEGURIDAD, PROTECCION_DISPOSITIVO, SOPORTE_TECNICO, SERVICIO_TV, SERVICIOS_STREAMING, PERIODO_CONTRATO, FACTURACION_ELECTRONICA, METODO_PAGO, COBRO_MENSUAL, COBRO_TOTAL, ABANDONO]\n",
            "Index: []\n",
            "\n",
            "[0 rows x 21 columns]\n"
          ]
        },
        {
          "output_type": "execute_result",
          "data": {
            "text/plain": [
              "ID_CLIENTE                  object\n",
              "GENERO                      object\n",
              "ADULTO_MAYOR                object\n",
              "CASADO                      object\n",
              "PERSONAS_A_CARGO            object\n",
              "MESES_COMO_CLIENTE           int64\n",
              "TIENE_TELEFONIA             object\n",
              "VARIAS_LINEAS               object\n",
              "TIPO_INTERNET               object\n",
              "SEGURIDAD_EN_LINEA          object\n",
              "COPIA_DE_SEGURIDAD          object\n",
              "PROTECCION_DISPOSITIVO      object\n",
              "SOPORTE_TECNICO             object\n",
              "SERVICIO_TV                 object\n",
              "SERVICIOS_STREAMING         object\n",
              "PERIODO_CONTRATO            object\n",
              "FACTURACION_ELECTRONICA     object\n",
              "METODO_PAGO                 object\n",
              "COBRO_MENSUAL              float64\n",
              "COBRO_TOTAL                float64\n",
              "ABANDONO                    object\n",
              "dtype: object"
            ]
          },
          "metadata": {},
          "execution_count": 96
        }
      ]
    },
    {
      "cell_type": "markdown",
      "source": [
        "## Vizualizacion de los datos\n",
        "\n",
        ">> A partir de la visualización de los datos pretendemos profundizar en su comprensión, así como encontrar valores inesperados, categorías erróneas y datos atípicos. \n",
        "\n",
        "https://python-charts.com/es/correlacion/grafico-dispersion-plotly/"
      ],
      "metadata": {
        "id": "sCLgJwKAPbtU"
      }
    },
    {
      "cell_type": "markdown",
      "source": [
        "### - GENERO"
      ],
      "metadata": {
        "id": "oY7CbzF_RC27"
      }
    },
    {
      "cell_type": "code",
      "source": [
        "tabla_describe_pl=DF.groupby([\"GENERO\"]).size()\n",
        "tabla_describe_pl= tabla_describe_pl.reset_index(name=\"conteo\")\n",
        "fig= px.pie(tabla_describe_pl, values = \"conteo\", names = \"GENERO\", \n",
        "            title= \"Genero de los clientes\")\n",
        "fig.show()"
      ],
      "metadata": {
        "id": "iEsXK-X_vmW5",
        "colab": {
          "base_uri": "https://localhost:8080/",
          "height": 542
        },
        "outputId": "25c4ace5-6fd0-46ae-d673-70708616ef08"
      },
      "execution_count": 97,
      "outputs": [
        {
          "output_type": "display_data",
          "data": {
            "text/html": [
              "<html>\n",
              "<head><meta charset=\"utf-8\" /></head>\n",
              "<body>\n",
              "    <div>            <script src=\"https://cdnjs.cloudflare.com/ajax/libs/mathjax/2.7.5/MathJax.js?config=TeX-AMS-MML_SVG\"></script><script type=\"text/javascript\">if (window.MathJax) {MathJax.Hub.Config({SVG: {font: \"STIX-Web\"}});}</script>                <script type=\"text/javascript\">window.PlotlyConfig = {MathJaxConfig: 'local'};</script>\n",
              "        <script src=\"https://cdn.plot.ly/plotly-2.8.3.min.js\"></script>                <div id=\"3ab372e7-c8ce-43bf-b61f-86f8edbb1036\" class=\"plotly-graph-div\" style=\"height:525px; width:100%;\"></div>            <script type=\"text/javascript\">                                    window.PLOTLYENV=window.PLOTLYENV || {};                                    if (document.getElementById(\"3ab372e7-c8ce-43bf-b61f-86f8edbb1036\")) {                    Plotly.newPlot(                        \"3ab372e7-c8ce-43bf-b61f-86f8edbb1036\",                        [{\"domain\":{\"x\":[0.0,1.0],\"y\":[0.0,1.0]},\"hovertemplate\":\"GENERO=%{label}<br>conteo=%{value}<extra></extra>\",\"labels\":[\"Female\",\"Male\"],\"legendgroup\":\"\",\"name\":\"\",\"showlegend\":true,\"values\":[3488,3555],\"type\":\"pie\"}],                        {\"template\":{\"data\":{\"bar\":[{\"error_x\":{\"color\":\"#2a3f5f\"},\"error_y\":{\"color\":\"#2a3f5f\"},\"marker\":{\"line\":{\"color\":\"#E5ECF6\",\"width\":0.5},\"pattern\":{\"fillmode\":\"overlay\",\"size\":10,\"solidity\":0.2}},\"type\":\"bar\"}],\"barpolar\":[{\"marker\":{\"line\":{\"color\":\"#E5ECF6\",\"width\":0.5},\"pattern\":{\"fillmode\":\"overlay\",\"size\":10,\"solidity\":0.2}},\"type\":\"barpolar\"}],\"carpet\":[{\"aaxis\":{\"endlinecolor\":\"#2a3f5f\",\"gridcolor\":\"white\",\"linecolor\":\"white\",\"minorgridcolor\":\"white\",\"startlinecolor\":\"#2a3f5f\"},\"baxis\":{\"endlinecolor\":\"#2a3f5f\",\"gridcolor\":\"white\",\"linecolor\":\"white\",\"minorgridcolor\":\"white\",\"startlinecolor\":\"#2a3f5f\"},\"type\":\"carpet\"}],\"choropleth\":[{\"colorbar\":{\"outlinewidth\":0,\"ticks\":\"\"},\"type\":\"choropleth\"}],\"contour\":[{\"colorbar\":{\"outlinewidth\":0,\"ticks\":\"\"},\"colorscale\":[[0.0,\"#0d0887\"],[0.1111111111111111,\"#46039f\"],[0.2222222222222222,\"#7201a8\"],[0.3333333333333333,\"#9c179e\"],[0.4444444444444444,\"#bd3786\"],[0.5555555555555556,\"#d8576b\"],[0.6666666666666666,\"#ed7953\"],[0.7777777777777778,\"#fb9f3a\"],[0.8888888888888888,\"#fdca26\"],[1.0,\"#f0f921\"]],\"type\":\"contour\"}],\"contourcarpet\":[{\"colorbar\":{\"outlinewidth\":0,\"ticks\":\"\"},\"type\":\"contourcarpet\"}],\"heatmap\":[{\"colorbar\":{\"outlinewidth\":0,\"ticks\":\"\"},\"colorscale\":[[0.0,\"#0d0887\"],[0.1111111111111111,\"#46039f\"],[0.2222222222222222,\"#7201a8\"],[0.3333333333333333,\"#9c179e\"],[0.4444444444444444,\"#bd3786\"],[0.5555555555555556,\"#d8576b\"],[0.6666666666666666,\"#ed7953\"],[0.7777777777777778,\"#fb9f3a\"],[0.8888888888888888,\"#fdca26\"],[1.0,\"#f0f921\"]],\"type\":\"heatmap\"}],\"heatmapgl\":[{\"colorbar\":{\"outlinewidth\":0,\"ticks\":\"\"},\"colorscale\":[[0.0,\"#0d0887\"],[0.1111111111111111,\"#46039f\"],[0.2222222222222222,\"#7201a8\"],[0.3333333333333333,\"#9c179e\"],[0.4444444444444444,\"#bd3786\"],[0.5555555555555556,\"#d8576b\"],[0.6666666666666666,\"#ed7953\"],[0.7777777777777778,\"#fb9f3a\"],[0.8888888888888888,\"#fdca26\"],[1.0,\"#f0f921\"]],\"type\":\"heatmapgl\"}],\"histogram\":[{\"marker\":{\"pattern\":{\"fillmode\":\"overlay\",\"size\":10,\"solidity\":0.2}},\"type\":\"histogram\"}],\"histogram2d\":[{\"colorbar\":{\"outlinewidth\":0,\"ticks\":\"\"},\"colorscale\":[[0.0,\"#0d0887\"],[0.1111111111111111,\"#46039f\"],[0.2222222222222222,\"#7201a8\"],[0.3333333333333333,\"#9c179e\"],[0.4444444444444444,\"#bd3786\"],[0.5555555555555556,\"#d8576b\"],[0.6666666666666666,\"#ed7953\"],[0.7777777777777778,\"#fb9f3a\"],[0.8888888888888888,\"#fdca26\"],[1.0,\"#f0f921\"]],\"type\":\"histogram2d\"}],\"histogram2dcontour\":[{\"colorbar\":{\"outlinewidth\":0,\"ticks\":\"\"},\"colorscale\":[[0.0,\"#0d0887\"],[0.1111111111111111,\"#46039f\"],[0.2222222222222222,\"#7201a8\"],[0.3333333333333333,\"#9c179e\"],[0.4444444444444444,\"#bd3786\"],[0.5555555555555556,\"#d8576b\"],[0.6666666666666666,\"#ed7953\"],[0.7777777777777778,\"#fb9f3a\"],[0.8888888888888888,\"#fdca26\"],[1.0,\"#f0f921\"]],\"type\":\"histogram2dcontour\"}],\"mesh3d\":[{\"colorbar\":{\"outlinewidth\":0,\"ticks\":\"\"},\"type\":\"mesh3d\"}],\"parcoords\":[{\"line\":{\"colorbar\":{\"outlinewidth\":0,\"ticks\":\"\"}},\"type\":\"parcoords\"}],\"pie\":[{\"automargin\":true,\"type\":\"pie\"}],\"scatter\":[{\"marker\":{\"colorbar\":{\"outlinewidth\":0,\"ticks\":\"\"}},\"type\":\"scatter\"}],\"scatter3d\":[{\"line\":{\"colorbar\":{\"outlinewidth\":0,\"ticks\":\"\"}},\"marker\":{\"colorbar\":{\"outlinewidth\":0,\"ticks\":\"\"}},\"type\":\"scatter3d\"}],\"scattercarpet\":[{\"marker\":{\"colorbar\":{\"outlinewidth\":0,\"ticks\":\"\"}},\"type\":\"scattercarpet\"}],\"scattergeo\":[{\"marker\":{\"colorbar\":{\"outlinewidth\":0,\"ticks\":\"\"}},\"type\":\"scattergeo\"}],\"scattergl\":[{\"marker\":{\"colorbar\":{\"outlinewidth\":0,\"ticks\":\"\"}},\"type\":\"scattergl\"}],\"scattermapbox\":[{\"marker\":{\"colorbar\":{\"outlinewidth\":0,\"ticks\":\"\"}},\"type\":\"scattermapbox\"}],\"scatterpolar\":[{\"marker\":{\"colorbar\":{\"outlinewidth\":0,\"ticks\":\"\"}},\"type\":\"scatterpolar\"}],\"scatterpolargl\":[{\"marker\":{\"colorbar\":{\"outlinewidth\":0,\"ticks\":\"\"}},\"type\":\"scatterpolargl\"}],\"scatterternary\":[{\"marker\":{\"colorbar\":{\"outlinewidth\":0,\"ticks\":\"\"}},\"type\":\"scatterternary\"}],\"surface\":[{\"colorbar\":{\"outlinewidth\":0,\"ticks\":\"\"},\"colorscale\":[[0.0,\"#0d0887\"],[0.1111111111111111,\"#46039f\"],[0.2222222222222222,\"#7201a8\"],[0.3333333333333333,\"#9c179e\"],[0.4444444444444444,\"#bd3786\"],[0.5555555555555556,\"#d8576b\"],[0.6666666666666666,\"#ed7953\"],[0.7777777777777778,\"#fb9f3a\"],[0.8888888888888888,\"#fdca26\"],[1.0,\"#f0f921\"]],\"type\":\"surface\"}],\"table\":[{\"cells\":{\"fill\":{\"color\":\"#EBF0F8\"},\"line\":{\"color\":\"white\"}},\"header\":{\"fill\":{\"color\":\"#C8D4E3\"},\"line\":{\"color\":\"white\"}},\"type\":\"table\"}]},\"layout\":{\"annotationdefaults\":{\"arrowcolor\":\"#2a3f5f\",\"arrowhead\":0,\"arrowwidth\":1},\"autotypenumbers\":\"strict\",\"coloraxis\":{\"colorbar\":{\"outlinewidth\":0,\"ticks\":\"\"}},\"colorscale\":{\"diverging\":[[0,\"#8e0152\"],[0.1,\"#c51b7d\"],[0.2,\"#de77ae\"],[0.3,\"#f1b6da\"],[0.4,\"#fde0ef\"],[0.5,\"#f7f7f7\"],[0.6,\"#e6f5d0\"],[0.7,\"#b8e186\"],[0.8,\"#7fbc41\"],[0.9,\"#4d9221\"],[1,\"#276419\"]],\"sequential\":[[0.0,\"#0d0887\"],[0.1111111111111111,\"#46039f\"],[0.2222222222222222,\"#7201a8\"],[0.3333333333333333,\"#9c179e\"],[0.4444444444444444,\"#bd3786\"],[0.5555555555555556,\"#d8576b\"],[0.6666666666666666,\"#ed7953\"],[0.7777777777777778,\"#fb9f3a\"],[0.8888888888888888,\"#fdca26\"],[1.0,\"#f0f921\"]],\"sequentialminus\":[[0.0,\"#0d0887\"],[0.1111111111111111,\"#46039f\"],[0.2222222222222222,\"#7201a8\"],[0.3333333333333333,\"#9c179e\"],[0.4444444444444444,\"#bd3786\"],[0.5555555555555556,\"#d8576b\"],[0.6666666666666666,\"#ed7953\"],[0.7777777777777778,\"#fb9f3a\"],[0.8888888888888888,\"#fdca26\"],[1.0,\"#f0f921\"]]},\"colorway\":[\"#636efa\",\"#EF553B\",\"#00cc96\",\"#ab63fa\",\"#FFA15A\",\"#19d3f3\",\"#FF6692\",\"#B6E880\",\"#FF97FF\",\"#FECB52\"],\"font\":{\"color\":\"#2a3f5f\"},\"geo\":{\"bgcolor\":\"white\",\"lakecolor\":\"white\",\"landcolor\":\"#E5ECF6\",\"showlakes\":true,\"showland\":true,\"subunitcolor\":\"white\"},\"hoverlabel\":{\"align\":\"left\"},\"hovermode\":\"closest\",\"mapbox\":{\"style\":\"light\"},\"paper_bgcolor\":\"white\",\"plot_bgcolor\":\"#E5ECF6\",\"polar\":{\"angularaxis\":{\"gridcolor\":\"white\",\"linecolor\":\"white\",\"ticks\":\"\"},\"bgcolor\":\"#E5ECF6\",\"radialaxis\":{\"gridcolor\":\"white\",\"linecolor\":\"white\",\"ticks\":\"\"}},\"scene\":{\"xaxis\":{\"backgroundcolor\":\"#E5ECF6\",\"gridcolor\":\"white\",\"gridwidth\":2,\"linecolor\":\"white\",\"showbackground\":true,\"ticks\":\"\",\"zerolinecolor\":\"white\"},\"yaxis\":{\"backgroundcolor\":\"#E5ECF6\",\"gridcolor\":\"white\",\"gridwidth\":2,\"linecolor\":\"white\",\"showbackground\":true,\"ticks\":\"\",\"zerolinecolor\":\"white\"},\"zaxis\":{\"backgroundcolor\":\"#E5ECF6\",\"gridcolor\":\"white\",\"gridwidth\":2,\"linecolor\":\"white\",\"showbackground\":true,\"ticks\":\"\",\"zerolinecolor\":\"white\"}},\"shapedefaults\":{\"line\":{\"color\":\"#2a3f5f\"}},\"ternary\":{\"aaxis\":{\"gridcolor\":\"white\",\"linecolor\":\"white\",\"ticks\":\"\"},\"baxis\":{\"gridcolor\":\"white\",\"linecolor\":\"white\",\"ticks\":\"\"},\"bgcolor\":\"#E5ECF6\",\"caxis\":{\"gridcolor\":\"white\",\"linecolor\":\"white\",\"ticks\":\"\"}},\"title\":{\"x\":0.05},\"xaxis\":{\"automargin\":true,\"gridcolor\":\"white\",\"linecolor\":\"white\",\"ticks\":\"\",\"title\":{\"standoff\":15},\"zerolinecolor\":\"white\",\"zerolinewidth\":2},\"yaxis\":{\"automargin\":true,\"gridcolor\":\"white\",\"linecolor\":\"white\",\"ticks\":\"\",\"title\":{\"standoff\":15},\"zerolinecolor\":\"white\",\"zerolinewidth\":2}}},\"legend\":{\"tracegroupgap\":0},\"title\":{\"text\":\"Genero de los clientes\"}},                        {\"responsive\": true}                    ).then(function(){\n",
              "                            \n",
              "var gd = document.getElementById('3ab372e7-c8ce-43bf-b61f-86f8edbb1036');\n",
              "var x = new MutationObserver(function (mutations, observer) {{\n",
              "        var display = window.getComputedStyle(gd).display;\n",
              "        if (!display || display === 'none') {{\n",
              "            console.log([gd, 'removed!']);\n",
              "            Plotly.purge(gd);\n",
              "            observer.disconnect();\n",
              "        }}\n",
              "}});\n",
              "\n",
              "// Listen for the removal of the full notebook cells\n",
              "var notebookContainer = gd.closest('#notebook-container');\n",
              "if (notebookContainer) {{\n",
              "    x.observe(notebookContainer, {childList: true});\n",
              "}}\n",
              "\n",
              "// Listen for the clearing of the current output cell\n",
              "var outputEl = gd.closest('.output');\n",
              "if (outputEl) {{\n",
              "    x.observe(outputEl, {childList: true});\n",
              "}}\n",
              "\n",
              "                        })                };                            </script>        </div>\n",
              "</body>\n",
              "</html>"
            ]
          },
          "metadata": {}
        }
      ]
    },
    {
      "cell_type": "markdown",
      "source": [
        "### - ADULTO MAYOR"
      ],
      "metadata": {
        "id": "w5G5KLcqUvKL"
      }
    },
    {
      "cell_type": "code",
      "source": [
        "tabla_describe_pl=DF.groupby([\"ADULTO_MAYOR\"]).size()\n",
        "tabla_describe_pl= tabla_describe_pl.reset_index(name=\"conteo\")\n",
        "fig= px.pie(tabla_describe_pl, values = \"conteo\", names = [\"No es Adulto Mayor\", \"Adulto Mayor\"], \n",
        "            title= \"El cliente es Adulto Mayor\")\n",
        "fig.show()"
      ],
      "metadata": {
        "colab": {
          "base_uri": "https://localhost:8080/",
          "height": 542
        },
        "id": "0ksjh9V5SSYD",
        "outputId": "807ffc78-99aa-4cdf-f0cf-262d0882f8ae"
      },
      "execution_count": 98,
      "outputs": [
        {
          "output_type": "display_data",
          "data": {
            "text/html": [
              "<html>\n",
              "<head><meta charset=\"utf-8\" /></head>\n",
              "<body>\n",
              "    <div>            <script src=\"https://cdnjs.cloudflare.com/ajax/libs/mathjax/2.7.5/MathJax.js?config=TeX-AMS-MML_SVG\"></script><script type=\"text/javascript\">if (window.MathJax) {MathJax.Hub.Config({SVG: {font: \"STIX-Web\"}});}</script>                <script type=\"text/javascript\">window.PlotlyConfig = {MathJaxConfig: 'local'};</script>\n",
              "        <script src=\"https://cdn.plot.ly/plotly-2.8.3.min.js\"></script>                <div id=\"c96f9ad5-84fd-4e65-8542-48a4e4f68118\" class=\"plotly-graph-div\" style=\"height:525px; width:100%;\"></div>            <script type=\"text/javascript\">                                    window.PLOTLYENV=window.PLOTLYENV || {};                                    if (document.getElementById(\"c96f9ad5-84fd-4e65-8542-48a4e4f68118\")) {                    Plotly.newPlot(                        \"c96f9ad5-84fd-4e65-8542-48a4e4f68118\",                        [{\"domain\":{\"x\":[0.0,1.0],\"y\":[0.0,1.0]},\"hovertemplate\":\"label=%{label}<br>conteo=%{value}<extra></extra>\",\"labels\":[\"No es Adulto Mayor\",\"Adulto Mayor\"],\"legendgroup\":\"\",\"name\":\"\",\"showlegend\":true,\"values\":[5901,1142],\"type\":\"pie\"}],                        {\"template\":{\"data\":{\"bar\":[{\"error_x\":{\"color\":\"#2a3f5f\"},\"error_y\":{\"color\":\"#2a3f5f\"},\"marker\":{\"line\":{\"color\":\"#E5ECF6\",\"width\":0.5},\"pattern\":{\"fillmode\":\"overlay\",\"size\":10,\"solidity\":0.2}},\"type\":\"bar\"}],\"barpolar\":[{\"marker\":{\"line\":{\"color\":\"#E5ECF6\",\"width\":0.5},\"pattern\":{\"fillmode\":\"overlay\",\"size\":10,\"solidity\":0.2}},\"type\":\"barpolar\"}],\"carpet\":[{\"aaxis\":{\"endlinecolor\":\"#2a3f5f\",\"gridcolor\":\"white\",\"linecolor\":\"white\",\"minorgridcolor\":\"white\",\"startlinecolor\":\"#2a3f5f\"},\"baxis\":{\"endlinecolor\":\"#2a3f5f\",\"gridcolor\":\"white\",\"linecolor\":\"white\",\"minorgridcolor\":\"white\",\"startlinecolor\":\"#2a3f5f\"},\"type\":\"carpet\"}],\"choropleth\":[{\"colorbar\":{\"outlinewidth\":0,\"ticks\":\"\"},\"type\":\"choropleth\"}],\"contour\":[{\"colorbar\":{\"outlinewidth\":0,\"ticks\":\"\"},\"colorscale\":[[0.0,\"#0d0887\"],[0.1111111111111111,\"#46039f\"],[0.2222222222222222,\"#7201a8\"],[0.3333333333333333,\"#9c179e\"],[0.4444444444444444,\"#bd3786\"],[0.5555555555555556,\"#d8576b\"],[0.6666666666666666,\"#ed7953\"],[0.7777777777777778,\"#fb9f3a\"],[0.8888888888888888,\"#fdca26\"],[1.0,\"#f0f921\"]],\"type\":\"contour\"}],\"contourcarpet\":[{\"colorbar\":{\"outlinewidth\":0,\"ticks\":\"\"},\"type\":\"contourcarpet\"}],\"heatmap\":[{\"colorbar\":{\"outlinewidth\":0,\"ticks\":\"\"},\"colorscale\":[[0.0,\"#0d0887\"],[0.1111111111111111,\"#46039f\"],[0.2222222222222222,\"#7201a8\"],[0.3333333333333333,\"#9c179e\"],[0.4444444444444444,\"#bd3786\"],[0.5555555555555556,\"#d8576b\"],[0.6666666666666666,\"#ed7953\"],[0.7777777777777778,\"#fb9f3a\"],[0.8888888888888888,\"#fdca26\"],[1.0,\"#f0f921\"]],\"type\":\"heatmap\"}],\"heatmapgl\":[{\"colorbar\":{\"outlinewidth\":0,\"ticks\":\"\"},\"colorscale\":[[0.0,\"#0d0887\"],[0.1111111111111111,\"#46039f\"],[0.2222222222222222,\"#7201a8\"],[0.3333333333333333,\"#9c179e\"],[0.4444444444444444,\"#bd3786\"],[0.5555555555555556,\"#d8576b\"],[0.6666666666666666,\"#ed7953\"],[0.7777777777777778,\"#fb9f3a\"],[0.8888888888888888,\"#fdca26\"],[1.0,\"#f0f921\"]],\"type\":\"heatmapgl\"}],\"histogram\":[{\"marker\":{\"pattern\":{\"fillmode\":\"overlay\",\"size\":10,\"solidity\":0.2}},\"type\":\"histogram\"}],\"histogram2d\":[{\"colorbar\":{\"outlinewidth\":0,\"ticks\":\"\"},\"colorscale\":[[0.0,\"#0d0887\"],[0.1111111111111111,\"#46039f\"],[0.2222222222222222,\"#7201a8\"],[0.3333333333333333,\"#9c179e\"],[0.4444444444444444,\"#bd3786\"],[0.5555555555555556,\"#d8576b\"],[0.6666666666666666,\"#ed7953\"],[0.7777777777777778,\"#fb9f3a\"],[0.8888888888888888,\"#fdca26\"],[1.0,\"#f0f921\"]],\"type\":\"histogram2d\"}],\"histogram2dcontour\":[{\"colorbar\":{\"outlinewidth\":0,\"ticks\":\"\"},\"colorscale\":[[0.0,\"#0d0887\"],[0.1111111111111111,\"#46039f\"],[0.2222222222222222,\"#7201a8\"],[0.3333333333333333,\"#9c179e\"],[0.4444444444444444,\"#bd3786\"],[0.5555555555555556,\"#d8576b\"],[0.6666666666666666,\"#ed7953\"],[0.7777777777777778,\"#fb9f3a\"],[0.8888888888888888,\"#fdca26\"],[1.0,\"#f0f921\"]],\"type\":\"histogram2dcontour\"}],\"mesh3d\":[{\"colorbar\":{\"outlinewidth\":0,\"ticks\":\"\"},\"type\":\"mesh3d\"}],\"parcoords\":[{\"line\":{\"colorbar\":{\"outlinewidth\":0,\"ticks\":\"\"}},\"type\":\"parcoords\"}],\"pie\":[{\"automargin\":true,\"type\":\"pie\"}],\"scatter\":[{\"marker\":{\"colorbar\":{\"outlinewidth\":0,\"ticks\":\"\"}},\"type\":\"scatter\"}],\"scatter3d\":[{\"line\":{\"colorbar\":{\"outlinewidth\":0,\"ticks\":\"\"}},\"marker\":{\"colorbar\":{\"outlinewidth\":0,\"ticks\":\"\"}},\"type\":\"scatter3d\"}],\"scattercarpet\":[{\"marker\":{\"colorbar\":{\"outlinewidth\":0,\"ticks\":\"\"}},\"type\":\"scattercarpet\"}],\"scattergeo\":[{\"marker\":{\"colorbar\":{\"outlinewidth\":0,\"ticks\":\"\"}},\"type\":\"scattergeo\"}],\"scattergl\":[{\"marker\":{\"colorbar\":{\"outlinewidth\":0,\"ticks\":\"\"}},\"type\":\"scattergl\"}],\"scattermapbox\":[{\"marker\":{\"colorbar\":{\"outlinewidth\":0,\"ticks\":\"\"}},\"type\":\"scattermapbox\"}],\"scatterpolar\":[{\"marker\":{\"colorbar\":{\"outlinewidth\":0,\"ticks\":\"\"}},\"type\":\"scatterpolar\"}],\"scatterpolargl\":[{\"marker\":{\"colorbar\":{\"outlinewidth\":0,\"ticks\":\"\"}},\"type\":\"scatterpolargl\"}],\"scatterternary\":[{\"marker\":{\"colorbar\":{\"outlinewidth\":0,\"ticks\":\"\"}},\"type\":\"scatterternary\"}],\"surface\":[{\"colorbar\":{\"outlinewidth\":0,\"ticks\":\"\"},\"colorscale\":[[0.0,\"#0d0887\"],[0.1111111111111111,\"#46039f\"],[0.2222222222222222,\"#7201a8\"],[0.3333333333333333,\"#9c179e\"],[0.4444444444444444,\"#bd3786\"],[0.5555555555555556,\"#d8576b\"],[0.6666666666666666,\"#ed7953\"],[0.7777777777777778,\"#fb9f3a\"],[0.8888888888888888,\"#fdca26\"],[1.0,\"#f0f921\"]],\"type\":\"surface\"}],\"table\":[{\"cells\":{\"fill\":{\"color\":\"#EBF0F8\"},\"line\":{\"color\":\"white\"}},\"header\":{\"fill\":{\"color\":\"#C8D4E3\"},\"line\":{\"color\":\"white\"}},\"type\":\"table\"}]},\"layout\":{\"annotationdefaults\":{\"arrowcolor\":\"#2a3f5f\",\"arrowhead\":0,\"arrowwidth\":1},\"autotypenumbers\":\"strict\",\"coloraxis\":{\"colorbar\":{\"outlinewidth\":0,\"ticks\":\"\"}},\"colorscale\":{\"diverging\":[[0,\"#8e0152\"],[0.1,\"#c51b7d\"],[0.2,\"#de77ae\"],[0.3,\"#f1b6da\"],[0.4,\"#fde0ef\"],[0.5,\"#f7f7f7\"],[0.6,\"#e6f5d0\"],[0.7,\"#b8e186\"],[0.8,\"#7fbc41\"],[0.9,\"#4d9221\"],[1,\"#276419\"]],\"sequential\":[[0.0,\"#0d0887\"],[0.1111111111111111,\"#46039f\"],[0.2222222222222222,\"#7201a8\"],[0.3333333333333333,\"#9c179e\"],[0.4444444444444444,\"#bd3786\"],[0.5555555555555556,\"#d8576b\"],[0.6666666666666666,\"#ed7953\"],[0.7777777777777778,\"#fb9f3a\"],[0.8888888888888888,\"#fdca26\"],[1.0,\"#f0f921\"]],\"sequentialminus\":[[0.0,\"#0d0887\"],[0.1111111111111111,\"#46039f\"],[0.2222222222222222,\"#7201a8\"],[0.3333333333333333,\"#9c179e\"],[0.4444444444444444,\"#bd3786\"],[0.5555555555555556,\"#d8576b\"],[0.6666666666666666,\"#ed7953\"],[0.7777777777777778,\"#fb9f3a\"],[0.8888888888888888,\"#fdca26\"],[1.0,\"#f0f921\"]]},\"colorway\":[\"#636efa\",\"#EF553B\",\"#00cc96\",\"#ab63fa\",\"#FFA15A\",\"#19d3f3\",\"#FF6692\",\"#B6E880\",\"#FF97FF\",\"#FECB52\"],\"font\":{\"color\":\"#2a3f5f\"},\"geo\":{\"bgcolor\":\"white\",\"lakecolor\":\"white\",\"landcolor\":\"#E5ECF6\",\"showlakes\":true,\"showland\":true,\"subunitcolor\":\"white\"},\"hoverlabel\":{\"align\":\"left\"},\"hovermode\":\"closest\",\"mapbox\":{\"style\":\"light\"},\"paper_bgcolor\":\"white\",\"plot_bgcolor\":\"#E5ECF6\",\"polar\":{\"angularaxis\":{\"gridcolor\":\"white\",\"linecolor\":\"white\",\"ticks\":\"\"},\"bgcolor\":\"#E5ECF6\",\"radialaxis\":{\"gridcolor\":\"white\",\"linecolor\":\"white\",\"ticks\":\"\"}},\"scene\":{\"xaxis\":{\"backgroundcolor\":\"#E5ECF6\",\"gridcolor\":\"white\",\"gridwidth\":2,\"linecolor\":\"white\",\"showbackground\":true,\"ticks\":\"\",\"zerolinecolor\":\"white\"},\"yaxis\":{\"backgroundcolor\":\"#E5ECF6\",\"gridcolor\":\"white\",\"gridwidth\":2,\"linecolor\":\"white\",\"showbackground\":true,\"ticks\":\"\",\"zerolinecolor\":\"white\"},\"zaxis\":{\"backgroundcolor\":\"#E5ECF6\",\"gridcolor\":\"white\",\"gridwidth\":2,\"linecolor\":\"white\",\"showbackground\":true,\"ticks\":\"\",\"zerolinecolor\":\"white\"}},\"shapedefaults\":{\"line\":{\"color\":\"#2a3f5f\"}},\"ternary\":{\"aaxis\":{\"gridcolor\":\"white\",\"linecolor\":\"white\",\"ticks\":\"\"},\"baxis\":{\"gridcolor\":\"white\",\"linecolor\":\"white\",\"ticks\":\"\"},\"bgcolor\":\"#E5ECF6\",\"caxis\":{\"gridcolor\":\"white\",\"linecolor\":\"white\",\"ticks\":\"\"}},\"title\":{\"x\":0.05},\"xaxis\":{\"automargin\":true,\"gridcolor\":\"white\",\"linecolor\":\"white\",\"ticks\":\"\",\"title\":{\"standoff\":15},\"zerolinecolor\":\"white\",\"zerolinewidth\":2},\"yaxis\":{\"automargin\":true,\"gridcolor\":\"white\",\"linecolor\":\"white\",\"ticks\":\"\",\"title\":{\"standoff\":15},\"zerolinecolor\":\"white\",\"zerolinewidth\":2}}},\"legend\":{\"tracegroupgap\":0},\"title\":{\"text\":\"El cliente es Adulto Mayor\"}},                        {\"responsive\": true}                    ).then(function(){\n",
              "                            \n",
              "var gd = document.getElementById('c96f9ad5-84fd-4e65-8542-48a4e4f68118');\n",
              "var x = new MutationObserver(function (mutations, observer) {{\n",
              "        var display = window.getComputedStyle(gd).display;\n",
              "        if (!display || display === 'none') {{\n",
              "            console.log([gd, 'removed!']);\n",
              "            Plotly.purge(gd);\n",
              "            observer.disconnect();\n",
              "        }}\n",
              "}});\n",
              "\n",
              "// Listen for the removal of the full notebook cells\n",
              "var notebookContainer = gd.closest('#notebook-container');\n",
              "if (notebookContainer) {{\n",
              "    x.observe(notebookContainer, {childList: true});\n",
              "}}\n",
              "\n",
              "// Listen for the clearing of the current output cell\n",
              "var outputEl = gd.closest('.output');\n",
              "if (outputEl) {{\n",
              "    x.observe(outputEl, {childList: true});\n",
              "}}\n",
              "\n",
              "                        })                };                            </script>        </div>\n",
              "</body>\n",
              "</html>"
            ]
          },
          "metadata": {}
        }
      ]
    },
    {
      "cell_type": "markdown",
      "source": [
        "### CASADO"
      ],
      "metadata": {
        "id": "Y8XIfX_5Xog6"
      }
    },
    {
      "cell_type": "code",
      "source": [
        "tabla_describe_pl=DF.groupby([\"CASADO\"]).size()\n",
        "tabla_describe_pl= tabla_describe_pl.reset_index(name=\"conteo\")\n",
        "fig= px.pie(tabla_describe_pl, values = \"conteo\", names = \"CASADO\", \n",
        "            title= \"El cliente es Casado\")\n",
        "fig.show()"
      ],
      "metadata": {
        "colab": {
          "base_uri": "https://localhost:8080/",
          "height": 542
        },
        "id": "iVjKvnyrXo67",
        "outputId": "cd7f59b5-a560-4094-bc00-a1a58360f1b7"
      },
      "execution_count": 99,
      "outputs": [
        {
          "output_type": "display_data",
          "data": {
            "text/html": [
              "<html>\n",
              "<head><meta charset=\"utf-8\" /></head>\n",
              "<body>\n",
              "    <div>            <script src=\"https://cdnjs.cloudflare.com/ajax/libs/mathjax/2.7.5/MathJax.js?config=TeX-AMS-MML_SVG\"></script><script type=\"text/javascript\">if (window.MathJax) {MathJax.Hub.Config({SVG: {font: \"STIX-Web\"}});}</script>                <script type=\"text/javascript\">window.PlotlyConfig = {MathJaxConfig: 'local'};</script>\n",
              "        <script src=\"https://cdn.plot.ly/plotly-2.8.3.min.js\"></script>                <div id=\"390d8e0a-f445-4408-baf4-79446a2274fb\" class=\"plotly-graph-div\" style=\"height:525px; width:100%;\"></div>            <script type=\"text/javascript\">                                    window.PLOTLYENV=window.PLOTLYENV || {};                                    if (document.getElementById(\"390d8e0a-f445-4408-baf4-79446a2274fb\")) {                    Plotly.newPlot(                        \"390d8e0a-f445-4408-baf4-79446a2274fb\",                        [{\"domain\":{\"x\":[0.0,1.0],\"y\":[0.0,1.0]},\"hovertemplate\":\"CASADO=%{label}<br>conteo=%{value}<extra></extra>\",\"labels\":[\"No\",\"Yes\"],\"legendgroup\":\"\",\"name\":\"\",\"showlegend\":true,\"values\":[3641,3402],\"type\":\"pie\"}],                        {\"template\":{\"data\":{\"bar\":[{\"error_x\":{\"color\":\"#2a3f5f\"},\"error_y\":{\"color\":\"#2a3f5f\"},\"marker\":{\"line\":{\"color\":\"#E5ECF6\",\"width\":0.5},\"pattern\":{\"fillmode\":\"overlay\",\"size\":10,\"solidity\":0.2}},\"type\":\"bar\"}],\"barpolar\":[{\"marker\":{\"line\":{\"color\":\"#E5ECF6\",\"width\":0.5},\"pattern\":{\"fillmode\":\"overlay\",\"size\":10,\"solidity\":0.2}},\"type\":\"barpolar\"}],\"carpet\":[{\"aaxis\":{\"endlinecolor\":\"#2a3f5f\",\"gridcolor\":\"white\",\"linecolor\":\"white\",\"minorgridcolor\":\"white\",\"startlinecolor\":\"#2a3f5f\"},\"baxis\":{\"endlinecolor\":\"#2a3f5f\",\"gridcolor\":\"white\",\"linecolor\":\"white\",\"minorgridcolor\":\"white\",\"startlinecolor\":\"#2a3f5f\"},\"type\":\"carpet\"}],\"choropleth\":[{\"colorbar\":{\"outlinewidth\":0,\"ticks\":\"\"},\"type\":\"choropleth\"}],\"contour\":[{\"colorbar\":{\"outlinewidth\":0,\"ticks\":\"\"},\"colorscale\":[[0.0,\"#0d0887\"],[0.1111111111111111,\"#46039f\"],[0.2222222222222222,\"#7201a8\"],[0.3333333333333333,\"#9c179e\"],[0.4444444444444444,\"#bd3786\"],[0.5555555555555556,\"#d8576b\"],[0.6666666666666666,\"#ed7953\"],[0.7777777777777778,\"#fb9f3a\"],[0.8888888888888888,\"#fdca26\"],[1.0,\"#f0f921\"]],\"type\":\"contour\"}],\"contourcarpet\":[{\"colorbar\":{\"outlinewidth\":0,\"ticks\":\"\"},\"type\":\"contourcarpet\"}],\"heatmap\":[{\"colorbar\":{\"outlinewidth\":0,\"ticks\":\"\"},\"colorscale\":[[0.0,\"#0d0887\"],[0.1111111111111111,\"#46039f\"],[0.2222222222222222,\"#7201a8\"],[0.3333333333333333,\"#9c179e\"],[0.4444444444444444,\"#bd3786\"],[0.5555555555555556,\"#d8576b\"],[0.6666666666666666,\"#ed7953\"],[0.7777777777777778,\"#fb9f3a\"],[0.8888888888888888,\"#fdca26\"],[1.0,\"#f0f921\"]],\"type\":\"heatmap\"}],\"heatmapgl\":[{\"colorbar\":{\"outlinewidth\":0,\"ticks\":\"\"},\"colorscale\":[[0.0,\"#0d0887\"],[0.1111111111111111,\"#46039f\"],[0.2222222222222222,\"#7201a8\"],[0.3333333333333333,\"#9c179e\"],[0.4444444444444444,\"#bd3786\"],[0.5555555555555556,\"#d8576b\"],[0.6666666666666666,\"#ed7953\"],[0.7777777777777778,\"#fb9f3a\"],[0.8888888888888888,\"#fdca26\"],[1.0,\"#f0f921\"]],\"type\":\"heatmapgl\"}],\"histogram\":[{\"marker\":{\"pattern\":{\"fillmode\":\"overlay\",\"size\":10,\"solidity\":0.2}},\"type\":\"histogram\"}],\"histogram2d\":[{\"colorbar\":{\"outlinewidth\":0,\"ticks\":\"\"},\"colorscale\":[[0.0,\"#0d0887\"],[0.1111111111111111,\"#46039f\"],[0.2222222222222222,\"#7201a8\"],[0.3333333333333333,\"#9c179e\"],[0.4444444444444444,\"#bd3786\"],[0.5555555555555556,\"#d8576b\"],[0.6666666666666666,\"#ed7953\"],[0.7777777777777778,\"#fb9f3a\"],[0.8888888888888888,\"#fdca26\"],[1.0,\"#f0f921\"]],\"type\":\"histogram2d\"}],\"histogram2dcontour\":[{\"colorbar\":{\"outlinewidth\":0,\"ticks\":\"\"},\"colorscale\":[[0.0,\"#0d0887\"],[0.1111111111111111,\"#46039f\"],[0.2222222222222222,\"#7201a8\"],[0.3333333333333333,\"#9c179e\"],[0.4444444444444444,\"#bd3786\"],[0.5555555555555556,\"#d8576b\"],[0.6666666666666666,\"#ed7953\"],[0.7777777777777778,\"#fb9f3a\"],[0.8888888888888888,\"#fdca26\"],[1.0,\"#f0f921\"]],\"type\":\"histogram2dcontour\"}],\"mesh3d\":[{\"colorbar\":{\"outlinewidth\":0,\"ticks\":\"\"},\"type\":\"mesh3d\"}],\"parcoords\":[{\"line\":{\"colorbar\":{\"outlinewidth\":0,\"ticks\":\"\"}},\"type\":\"parcoords\"}],\"pie\":[{\"automargin\":true,\"type\":\"pie\"}],\"scatter\":[{\"marker\":{\"colorbar\":{\"outlinewidth\":0,\"ticks\":\"\"}},\"type\":\"scatter\"}],\"scatter3d\":[{\"line\":{\"colorbar\":{\"outlinewidth\":0,\"ticks\":\"\"}},\"marker\":{\"colorbar\":{\"outlinewidth\":0,\"ticks\":\"\"}},\"type\":\"scatter3d\"}],\"scattercarpet\":[{\"marker\":{\"colorbar\":{\"outlinewidth\":0,\"ticks\":\"\"}},\"type\":\"scattercarpet\"}],\"scattergeo\":[{\"marker\":{\"colorbar\":{\"outlinewidth\":0,\"ticks\":\"\"}},\"type\":\"scattergeo\"}],\"scattergl\":[{\"marker\":{\"colorbar\":{\"outlinewidth\":0,\"ticks\":\"\"}},\"type\":\"scattergl\"}],\"scattermapbox\":[{\"marker\":{\"colorbar\":{\"outlinewidth\":0,\"ticks\":\"\"}},\"type\":\"scattermapbox\"}],\"scatterpolar\":[{\"marker\":{\"colorbar\":{\"outlinewidth\":0,\"ticks\":\"\"}},\"type\":\"scatterpolar\"}],\"scatterpolargl\":[{\"marker\":{\"colorbar\":{\"outlinewidth\":0,\"ticks\":\"\"}},\"type\":\"scatterpolargl\"}],\"scatterternary\":[{\"marker\":{\"colorbar\":{\"outlinewidth\":0,\"ticks\":\"\"}},\"type\":\"scatterternary\"}],\"surface\":[{\"colorbar\":{\"outlinewidth\":0,\"ticks\":\"\"},\"colorscale\":[[0.0,\"#0d0887\"],[0.1111111111111111,\"#46039f\"],[0.2222222222222222,\"#7201a8\"],[0.3333333333333333,\"#9c179e\"],[0.4444444444444444,\"#bd3786\"],[0.5555555555555556,\"#d8576b\"],[0.6666666666666666,\"#ed7953\"],[0.7777777777777778,\"#fb9f3a\"],[0.8888888888888888,\"#fdca26\"],[1.0,\"#f0f921\"]],\"type\":\"surface\"}],\"table\":[{\"cells\":{\"fill\":{\"color\":\"#EBF0F8\"},\"line\":{\"color\":\"white\"}},\"header\":{\"fill\":{\"color\":\"#C8D4E3\"},\"line\":{\"color\":\"white\"}},\"type\":\"table\"}]},\"layout\":{\"annotationdefaults\":{\"arrowcolor\":\"#2a3f5f\",\"arrowhead\":0,\"arrowwidth\":1},\"autotypenumbers\":\"strict\",\"coloraxis\":{\"colorbar\":{\"outlinewidth\":0,\"ticks\":\"\"}},\"colorscale\":{\"diverging\":[[0,\"#8e0152\"],[0.1,\"#c51b7d\"],[0.2,\"#de77ae\"],[0.3,\"#f1b6da\"],[0.4,\"#fde0ef\"],[0.5,\"#f7f7f7\"],[0.6,\"#e6f5d0\"],[0.7,\"#b8e186\"],[0.8,\"#7fbc41\"],[0.9,\"#4d9221\"],[1,\"#276419\"]],\"sequential\":[[0.0,\"#0d0887\"],[0.1111111111111111,\"#46039f\"],[0.2222222222222222,\"#7201a8\"],[0.3333333333333333,\"#9c179e\"],[0.4444444444444444,\"#bd3786\"],[0.5555555555555556,\"#d8576b\"],[0.6666666666666666,\"#ed7953\"],[0.7777777777777778,\"#fb9f3a\"],[0.8888888888888888,\"#fdca26\"],[1.0,\"#f0f921\"]],\"sequentialminus\":[[0.0,\"#0d0887\"],[0.1111111111111111,\"#46039f\"],[0.2222222222222222,\"#7201a8\"],[0.3333333333333333,\"#9c179e\"],[0.4444444444444444,\"#bd3786\"],[0.5555555555555556,\"#d8576b\"],[0.6666666666666666,\"#ed7953\"],[0.7777777777777778,\"#fb9f3a\"],[0.8888888888888888,\"#fdca26\"],[1.0,\"#f0f921\"]]},\"colorway\":[\"#636efa\",\"#EF553B\",\"#00cc96\",\"#ab63fa\",\"#FFA15A\",\"#19d3f3\",\"#FF6692\",\"#B6E880\",\"#FF97FF\",\"#FECB52\"],\"font\":{\"color\":\"#2a3f5f\"},\"geo\":{\"bgcolor\":\"white\",\"lakecolor\":\"white\",\"landcolor\":\"#E5ECF6\",\"showlakes\":true,\"showland\":true,\"subunitcolor\":\"white\"},\"hoverlabel\":{\"align\":\"left\"},\"hovermode\":\"closest\",\"mapbox\":{\"style\":\"light\"},\"paper_bgcolor\":\"white\",\"plot_bgcolor\":\"#E5ECF6\",\"polar\":{\"angularaxis\":{\"gridcolor\":\"white\",\"linecolor\":\"white\",\"ticks\":\"\"},\"bgcolor\":\"#E5ECF6\",\"radialaxis\":{\"gridcolor\":\"white\",\"linecolor\":\"white\",\"ticks\":\"\"}},\"scene\":{\"xaxis\":{\"backgroundcolor\":\"#E5ECF6\",\"gridcolor\":\"white\",\"gridwidth\":2,\"linecolor\":\"white\",\"showbackground\":true,\"ticks\":\"\",\"zerolinecolor\":\"white\"},\"yaxis\":{\"backgroundcolor\":\"#E5ECF6\",\"gridcolor\":\"white\",\"gridwidth\":2,\"linecolor\":\"white\",\"showbackground\":true,\"ticks\":\"\",\"zerolinecolor\":\"white\"},\"zaxis\":{\"backgroundcolor\":\"#E5ECF6\",\"gridcolor\":\"white\",\"gridwidth\":2,\"linecolor\":\"white\",\"showbackground\":true,\"ticks\":\"\",\"zerolinecolor\":\"white\"}},\"shapedefaults\":{\"line\":{\"color\":\"#2a3f5f\"}},\"ternary\":{\"aaxis\":{\"gridcolor\":\"white\",\"linecolor\":\"white\",\"ticks\":\"\"},\"baxis\":{\"gridcolor\":\"white\",\"linecolor\":\"white\",\"ticks\":\"\"},\"bgcolor\":\"#E5ECF6\",\"caxis\":{\"gridcolor\":\"white\",\"linecolor\":\"white\",\"ticks\":\"\"}},\"title\":{\"x\":0.05},\"xaxis\":{\"automargin\":true,\"gridcolor\":\"white\",\"linecolor\":\"white\",\"ticks\":\"\",\"title\":{\"standoff\":15},\"zerolinecolor\":\"white\",\"zerolinewidth\":2},\"yaxis\":{\"automargin\":true,\"gridcolor\":\"white\",\"linecolor\":\"white\",\"ticks\":\"\",\"title\":{\"standoff\":15},\"zerolinecolor\":\"white\",\"zerolinewidth\":2}}},\"legend\":{\"tracegroupgap\":0},\"title\":{\"text\":\"El cliente es Casado\"}},                        {\"responsive\": true}                    ).then(function(){\n",
              "                            \n",
              "var gd = document.getElementById('390d8e0a-f445-4408-baf4-79446a2274fb');\n",
              "var x = new MutationObserver(function (mutations, observer) {{\n",
              "        var display = window.getComputedStyle(gd).display;\n",
              "        if (!display || display === 'none') {{\n",
              "            console.log([gd, 'removed!']);\n",
              "            Plotly.purge(gd);\n",
              "            observer.disconnect();\n",
              "        }}\n",
              "}});\n",
              "\n",
              "// Listen for the removal of the full notebook cells\n",
              "var notebookContainer = gd.closest('#notebook-container');\n",
              "if (notebookContainer) {{\n",
              "    x.observe(notebookContainer, {childList: true});\n",
              "}}\n",
              "\n",
              "// Listen for the clearing of the current output cell\n",
              "var outputEl = gd.closest('.output');\n",
              "if (outputEl) {{\n",
              "    x.observe(outputEl, {childList: true});\n",
              "}}\n",
              "\n",
              "                        })                };                            </script>        </div>\n",
              "</body>\n",
              "</html>"
            ]
          },
          "metadata": {}
        }
      ]
    },
    {
      "cell_type": "markdown",
      "source": [
        "### PERSONAS A CARGO"
      ],
      "metadata": {
        "id": "I0BD-hy5YWbL"
      }
    },
    {
      "cell_type": "code",
      "source": [
        "tabla_describe_pl=DF.groupby([\"PERSONAS_A_CARGO\"]).size()\n",
        "tabla_describe_pl= tabla_describe_pl.reset_index(name=\"conteo\")\n",
        "fig= px.pie(tabla_describe_pl, values = \"conteo\", names = \"PERSONAS_A_CARGO\", \n",
        "            title= \"El cliente Tiene personas a cargo\")\n",
        "fig.show()"
      ],
      "metadata": {
        "colab": {
          "base_uri": "https://localhost:8080/",
          "height": 542
        },
        "id": "eIaUkTmTYTSl",
        "outputId": "fc03e2e3-c371-4147-a3f9-b35b424295e8"
      },
      "execution_count": 100,
      "outputs": [
        {
          "output_type": "display_data",
          "data": {
            "text/html": [
              "<html>\n",
              "<head><meta charset=\"utf-8\" /></head>\n",
              "<body>\n",
              "    <div>            <script src=\"https://cdnjs.cloudflare.com/ajax/libs/mathjax/2.7.5/MathJax.js?config=TeX-AMS-MML_SVG\"></script><script type=\"text/javascript\">if (window.MathJax) {MathJax.Hub.Config({SVG: {font: \"STIX-Web\"}});}</script>                <script type=\"text/javascript\">window.PlotlyConfig = {MathJaxConfig: 'local'};</script>\n",
              "        <script src=\"https://cdn.plot.ly/plotly-2.8.3.min.js\"></script>                <div id=\"c14699b0-0536-4ace-a271-ee2db120504e\" class=\"plotly-graph-div\" style=\"height:525px; width:100%;\"></div>            <script type=\"text/javascript\">                                    window.PLOTLYENV=window.PLOTLYENV || {};                                    if (document.getElementById(\"c14699b0-0536-4ace-a271-ee2db120504e\")) {                    Plotly.newPlot(                        \"c14699b0-0536-4ace-a271-ee2db120504e\",                        [{\"domain\":{\"x\":[0.0,1.0],\"y\":[0.0,1.0]},\"hovertemplate\":\"PERSONAS_A_CARGO=%{label}<br>conteo=%{value}<extra></extra>\",\"labels\":[\"No\",\"Yes\"],\"legendgroup\":\"\",\"name\":\"\",\"showlegend\":true,\"values\":[4933,2110],\"type\":\"pie\"}],                        {\"template\":{\"data\":{\"bar\":[{\"error_x\":{\"color\":\"#2a3f5f\"},\"error_y\":{\"color\":\"#2a3f5f\"},\"marker\":{\"line\":{\"color\":\"#E5ECF6\",\"width\":0.5},\"pattern\":{\"fillmode\":\"overlay\",\"size\":10,\"solidity\":0.2}},\"type\":\"bar\"}],\"barpolar\":[{\"marker\":{\"line\":{\"color\":\"#E5ECF6\",\"width\":0.5},\"pattern\":{\"fillmode\":\"overlay\",\"size\":10,\"solidity\":0.2}},\"type\":\"barpolar\"}],\"carpet\":[{\"aaxis\":{\"endlinecolor\":\"#2a3f5f\",\"gridcolor\":\"white\",\"linecolor\":\"white\",\"minorgridcolor\":\"white\",\"startlinecolor\":\"#2a3f5f\"},\"baxis\":{\"endlinecolor\":\"#2a3f5f\",\"gridcolor\":\"white\",\"linecolor\":\"white\",\"minorgridcolor\":\"white\",\"startlinecolor\":\"#2a3f5f\"},\"type\":\"carpet\"}],\"choropleth\":[{\"colorbar\":{\"outlinewidth\":0,\"ticks\":\"\"},\"type\":\"choropleth\"}],\"contour\":[{\"colorbar\":{\"outlinewidth\":0,\"ticks\":\"\"},\"colorscale\":[[0.0,\"#0d0887\"],[0.1111111111111111,\"#46039f\"],[0.2222222222222222,\"#7201a8\"],[0.3333333333333333,\"#9c179e\"],[0.4444444444444444,\"#bd3786\"],[0.5555555555555556,\"#d8576b\"],[0.6666666666666666,\"#ed7953\"],[0.7777777777777778,\"#fb9f3a\"],[0.8888888888888888,\"#fdca26\"],[1.0,\"#f0f921\"]],\"type\":\"contour\"}],\"contourcarpet\":[{\"colorbar\":{\"outlinewidth\":0,\"ticks\":\"\"},\"type\":\"contourcarpet\"}],\"heatmap\":[{\"colorbar\":{\"outlinewidth\":0,\"ticks\":\"\"},\"colorscale\":[[0.0,\"#0d0887\"],[0.1111111111111111,\"#46039f\"],[0.2222222222222222,\"#7201a8\"],[0.3333333333333333,\"#9c179e\"],[0.4444444444444444,\"#bd3786\"],[0.5555555555555556,\"#d8576b\"],[0.6666666666666666,\"#ed7953\"],[0.7777777777777778,\"#fb9f3a\"],[0.8888888888888888,\"#fdca26\"],[1.0,\"#f0f921\"]],\"type\":\"heatmap\"}],\"heatmapgl\":[{\"colorbar\":{\"outlinewidth\":0,\"ticks\":\"\"},\"colorscale\":[[0.0,\"#0d0887\"],[0.1111111111111111,\"#46039f\"],[0.2222222222222222,\"#7201a8\"],[0.3333333333333333,\"#9c179e\"],[0.4444444444444444,\"#bd3786\"],[0.5555555555555556,\"#d8576b\"],[0.6666666666666666,\"#ed7953\"],[0.7777777777777778,\"#fb9f3a\"],[0.8888888888888888,\"#fdca26\"],[1.0,\"#f0f921\"]],\"type\":\"heatmapgl\"}],\"histogram\":[{\"marker\":{\"pattern\":{\"fillmode\":\"overlay\",\"size\":10,\"solidity\":0.2}},\"type\":\"histogram\"}],\"histogram2d\":[{\"colorbar\":{\"outlinewidth\":0,\"ticks\":\"\"},\"colorscale\":[[0.0,\"#0d0887\"],[0.1111111111111111,\"#46039f\"],[0.2222222222222222,\"#7201a8\"],[0.3333333333333333,\"#9c179e\"],[0.4444444444444444,\"#bd3786\"],[0.5555555555555556,\"#d8576b\"],[0.6666666666666666,\"#ed7953\"],[0.7777777777777778,\"#fb9f3a\"],[0.8888888888888888,\"#fdca26\"],[1.0,\"#f0f921\"]],\"type\":\"histogram2d\"}],\"histogram2dcontour\":[{\"colorbar\":{\"outlinewidth\":0,\"ticks\":\"\"},\"colorscale\":[[0.0,\"#0d0887\"],[0.1111111111111111,\"#46039f\"],[0.2222222222222222,\"#7201a8\"],[0.3333333333333333,\"#9c179e\"],[0.4444444444444444,\"#bd3786\"],[0.5555555555555556,\"#d8576b\"],[0.6666666666666666,\"#ed7953\"],[0.7777777777777778,\"#fb9f3a\"],[0.8888888888888888,\"#fdca26\"],[1.0,\"#f0f921\"]],\"type\":\"histogram2dcontour\"}],\"mesh3d\":[{\"colorbar\":{\"outlinewidth\":0,\"ticks\":\"\"},\"type\":\"mesh3d\"}],\"parcoords\":[{\"line\":{\"colorbar\":{\"outlinewidth\":0,\"ticks\":\"\"}},\"type\":\"parcoords\"}],\"pie\":[{\"automargin\":true,\"type\":\"pie\"}],\"scatter\":[{\"marker\":{\"colorbar\":{\"outlinewidth\":0,\"ticks\":\"\"}},\"type\":\"scatter\"}],\"scatter3d\":[{\"line\":{\"colorbar\":{\"outlinewidth\":0,\"ticks\":\"\"}},\"marker\":{\"colorbar\":{\"outlinewidth\":0,\"ticks\":\"\"}},\"type\":\"scatter3d\"}],\"scattercarpet\":[{\"marker\":{\"colorbar\":{\"outlinewidth\":0,\"ticks\":\"\"}},\"type\":\"scattercarpet\"}],\"scattergeo\":[{\"marker\":{\"colorbar\":{\"outlinewidth\":0,\"ticks\":\"\"}},\"type\":\"scattergeo\"}],\"scattergl\":[{\"marker\":{\"colorbar\":{\"outlinewidth\":0,\"ticks\":\"\"}},\"type\":\"scattergl\"}],\"scattermapbox\":[{\"marker\":{\"colorbar\":{\"outlinewidth\":0,\"ticks\":\"\"}},\"type\":\"scattermapbox\"}],\"scatterpolar\":[{\"marker\":{\"colorbar\":{\"outlinewidth\":0,\"ticks\":\"\"}},\"type\":\"scatterpolar\"}],\"scatterpolargl\":[{\"marker\":{\"colorbar\":{\"outlinewidth\":0,\"ticks\":\"\"}},\"type\":\"scatterpolargl\"}],\"scatterternary\":[{\"marker\":{\"colorbar\":{\"outlinewidth\":0,\"ticks\":\"\"}},\"type\":\"scatterternary\"}],\"surface\":[{\"colorbar\":{\"outlinewidth\":0,\"ticks\":\"\"},\"colorscale\":[[0.0,\"#0d0887\"],[0.1111111111111111,\"#46039f\"],[0.2222222222222222,\"#7201a8\"],[0.3333333333333333,\"#9c179e\"],[0.4444444444444444,\"#bd3786\"],[0.5555555555555556,\"#d8576b\"],[0.6666666666666666,\"#ed7953\"],[0.7777777777777778,\"#fb9f3a\"],[0.8888888888888888,\"#fdca26\"],[1.0,\"#f0f921\"]],\"type\":\"surface\"}],\"table\":[{\"cells\":{\"fill\":{\"color\":\"#EBF0F8\"},\"line\":{\"color\":\"white\"}},\"header\":{\"fill\":{\"color\":\"#C8D4E3\"},\"line\":{\"color\":\"white\"}},\"type\":\"table\"}]},\"layout\":{\"annotationdefaults\":{\"arrowcolor\":\"#2a3f5f\",\"arrowhead\":0,\"arrowwidth\":1},\"autotypenumbers\":\"strict\",\"coloraxis\":{\"colorbar\":{\"outlinewidth\":0,\"ticks\":\"\"}},\"colorscale\":{\"diverging\":[[0,\"#8e0152\"],[0.1,\"#c51b7d\"],[0.2,\"#de77ae\"],[0.3,\"#f1b6da\"],[0.4,\"#fde0ef\"],[0.5,\"#f7f7f7\"],[0.6,\"#e6f5d0\"],[0.7,\"#b8e186\"],[0.8,\"#7fbc41\"],[0.9,\"#4d9221\"],[1,\"#276419\"]],\"sequential\":[[0.0,\"#0d0887\"],[0.1111111111111111,\"#46039f\"],[0.2222222222222222,\"#7201a8\"],[0.3333333333333333,\"#9c179e\"],[0.4444444444444444,\"#bd3786\"],[0.5555555555555556,\"#d8576b\"],[0.6666666666666666,\"#ed7953\"],[0.7777777777777778,\"#fb9f3a\"],[0.8888888888888888,\"#fdca26\"],[1.0,\"#f0f921\"]],\"sequentialminus\":[[0.0,\"#0d0887\"],[0.1111111111111111,\"#46039f\"],[0.2222222222222222,\"#7201a8\"],[0.3333333333333333,\"#9c179e\"],[0.4444444444444444,\"#bd3786\"],[0.5555555555555556,\"#d8576b\"],[0.6666666666666666,\"#ed7953\"],[0.7777777777777778,\"#fb9f3a\"],[0.8888888888888888,\"#fdca26\"],[1.0,\"#f0f921\"]]},\"colorway\":[\"#636efa\",\"#EF553B\",\"#00cc96\",\"#ab63fa\",\"#FFA15A\",\"#19d3f3\",\"#FF6692\",\"#B6E880\",\"#FF97FF\",\"#FECB52\"],\"font\":{\"color\":\"#2a3f5f\"},\"geo\":{\"bgcolor\":\"white\",\"lakecolor\":\"white\",\"landcolor\":\"#E5ECF6\",\"showlakes\":true,\"showland\":true,\"subunitcolor\":\"white\"},\"hoverlabel\":{\"align\":\"left\"},\"hovermode\":\"closest\",\"mapbox\":{\"style\":\"light\"},\"paper_bgcolor\":\"white\",\"plot_bgcolor\":\"#E5ECF6\",\"polar\":{\"angularaxis\":{\"gridcolor\":\"white\",\"linecolor\":\"white\",\"ticks\":\"\"},\"bgcolor\":\"#E5ECF6\",\"radialaxis\":{\"gridcolor\":\"white\",\"linecolor\":\"white\",\"ticks\":\"\"}},\"scene\":{\"xaxis\":{\"backgroundcolor\":\"#E5ECF6\",\"gridcolor\":\"white\",\"gridwidth\":2,\"linecolor\":\"white\",\"showbackground\":true,\"ticks\":\"\",\"zerolinecolor\":\"white\"},\"yaxis\":{\"backgroundcolor\":\"#E5ECF6\",\"gridcolor\":\"white\",\"gridwidth\":2,\"linecolor\":\"white\",\"showbackground\":true,\"ticks\":\"\",\"zerolinecolor\":\"white\"},\"zaxis\":{\"backgroundcolor\":\"#E5ECF6\",\"gridcolor\":\"white\",\"gridwidth\":2,\"linecolor\":\"white\",\"showbackground\":true,\"ticks\":\"\",\"zerolinecolor\":\"white\"}},\"shapedefaults\":{\"line\":{\"color\":\"#2a3f5f\"}},\"ternary\":{\"aaxis\":{\"gridcolor\":\"white\",\"linecolor\":\"white\",\"ticks\":\"\"},\"baxis\":{\"gridcolor\":\"white\",\"linecolor\":\"white\",\"ticks\":\"\"},\"bgcolor\":\"#E5ECF6\",\"caxis\":{\"gridcolor\":\"white\",\"linecolor\":\"white\",\"ticks\":\"\"}},\"title\":{\"x\":0.05},\"xaxis\":{\"automargin\":true,\"gridcolor\":\"white\",\"linecolor\":\"white\",\"ticks\":\"\",\"title\":{\"standoff\":15},\"zerolinecolor\":\"white\",\"zerolinewidth\":2},\"yaxis\":{\"automargin\":true,\"gridcolor\":\"white\",\"linecolor\":\"white\",\"ticks\":\"\",\"title\":{\"standoff\":15},\"zerolinecolor\":\"white\",\"zerolinewidth\":2}}},\"legend\":{\"tracegroupgap\":0},\"title\":{\"text\":\"El cliente Tiene personas a cargo\"}},                        {\"responsive\": true}                    ).then(function(){\n",
              "                            \n",
              "var gd = document.getElementById('c14699b0-0536-4ace-a271-ee2db120504e');\n",
              "var x = new MutationObserver(function (mutations, observer) {{\n",
              "        var display = window.getComputedStyle(gd).display;\n",
              "        if (!display || display === 'none') {{\n",
              "            console.log([gd, 'removed!']);\n",
              "            Plotly.purge(gd);\n",
              "            observer.disconnect();\n",
              "        }}\n",
              "}});\n",
              "\n",
              "// Listen for the removal of the full notebook cells\n",
              "var notebookContainer = gd.closest('#notebook-container');\n",
              "if (notebookContainer) {{\n",
              "    x.observe(notebookContainer, {childList: true});\n",
              "}}\n",
              "\n",
              "// Listen for the clearing of the current output cell\n",
              "var outputEl = gd.closest('.output');\n",
              "if (outputEl) {{\n",
              "    x.observe(outputEl, {childList: true});\n",
              "}}\n",
              "\n",
              "                        })                };                            </script>        </div>\n",
              "</body>\n",
              "</html>"
            ]
          },
          "metadata": {}
        }
      ]
    },
    {
      "cell_type": "markdown",
      "source": [
        "### - MESES_COMO_CLIENTE"
      ],
      "metadata": {
        "id": "81nMA00uvouC"
      }
    },
    {
      "cell_type": "code",
      "source": [
        "fig = px.violin(DF, x= \"MESES_COMO_CLIENTE\", box = True, points = \"all\", \n",
        "                title = \"Meses de permanencia del Cliente\")\n",
        "\n",
        "fig.update_traces(fillcolor = \"#87CEFA\",   # Color de fondo\n",
        "                  line_color = 'bLACK',   # Color de borde\n",
        "                  marker_line_outliercolor = 'black', # Color de borde de los atípicos\n",
        "                  box_fillcolor = 'red', # Color del box plot\n",
        "                  opacity = 0.5)         # Opacidad\n",
        "\n",
        "fig.show()"
      ],
      "metadata": {
        "colab": {
          "base_uri": "https://localhost:8080/",
          "height": 542
        },
        "id": "-yTAsQV-zzeE",
        "outputId": "aba51f5a-488b-4a64-92da-d8b3ed15e324"
      },
      "execution_count": 101,
      "outputs": [
        {
          "output_type": "display_data",
          "data": {
            "text/html": [
              "<html>\n",
              "<head><meta charset=\"utf-8\" /></head>\n",
              "<body>\n",
              "    <div>            <script src=\"https://cdnjs.cloudflare.com/ajax/libs/mathjax/2.7.5/MathJax.js?config=TeX-AMS-MML_SVG\"></script><script type=\"text/javascript\">if (window.MathJax) {MathJax.Hub.Config({SVG: {font: \"STIX-Web\"}});}</script>                <script type=\"text/javascript\">window.PlotlyConfig = {MathJaxConfig: 'local'};</script>\n",
              "        <script src=\"https://cdn.plot.ly/plotly-2.8.3.min.js\"></script>                <div id=\"10b77be9-c0a8-445f-93e6-3269042e2574\" class=\"plotly-graph-div\" style=\"height:525px; width:100%;\"></div>            <script type=\"text/javascript\">                                    window.PLOTLYENV=window.PLOTLYENV || {};                                    if (document.getElementById(\"10b77be9-c0a8-445f-93e6-3269042e2574\")) {                    Plotly.newPlot(                        \"10b77be9-c0a8-445f-93e6-3269042e2574\",                        [{\"alignmentgroup\":\"True\",\"box\":{\"visible\":true,\"fillcolor\":\"red\"},\"hovertemplate\":\"MESES_COMO_CLIENTE=%{x}<extra></extra>\",\"legendgroup\":\"\",\"marker\":{\"color\":\"#636efa\",\"line\":{\"outliercolor\":\"black\"}},\"name\":\"\",\"offsetgroup\":\"\",\"orientation\":\"h\",\"points\":\"all\",\"scalegroup\":\"True\",\"showlegend\":false,\"x\":[1,34,2,45,2,8,22,10,28,62,13,16,58,49,25,69,52,71,10,21,1,12,1,58,49,30,47,1,72,17,71,2,27,1,1,72,5,46,34,11,10,70,17,63,13,49,2,2,52,69,43,15,25,8,60,18,63,66,34,72,47,60,72,18,9,3,47,31,50,10,1,52,64,62,3,56,46,8,30,45,1,11,7,42,49,9,35,48,46,29,30,1,66,65,72,12,71,5,52,25,1,1,38,66,68,5,72,32,43,72,55,52,43,37,64,3,36,10,41,27,56,6,3,7,4,33,27,72,1,71,13,25,67,1,2,43,23,64,57,1,72,8,61,64,71,65,3,1,30,15,8,7,70,62,6,14,22,22,16,10,13,20,2,53,11,69,4,72,58,16,43,2,14,53,32,34,15,7,15,61,1,1,8,33,13,1,20,3,13,40,43,6,69,72,59,20,24,59,72,1,27,14,71,13,44,33,72,1,19,64,2,1,61,29,23,57,72,66,65,8,4,71,1,4,12,24,31,1,30,47,54,50,1,72,29,2,10,18,11,16,72,72,41,65,13,4,41,15,1,42,51,2,1,32,10,67,61,50,2,29,3,13,57,31,45,61,50,19,59,71,16,57,1,20,1,5,52,21,14,5,6,10,1,68,18,22,20,1,8,10,24,35,23,6,12,1,71,35,40,1,23,4,4,68,38,52,32,29,38,48,1,22,43,5,5,51,71,38,24,35,54,72,1,9,69,52,11,2,28,17,35,8,46,7,2,68,43,68,36,63,32,71,66,63,41,1,2,70,23,64,37,17,7,4,21,10,16,64,27,42,5,41,58,47,18,5,23,1,71,72,33,2,24,56,37,43,1,25,61,17,41,1,72,1,48,11,55,42,44,1,27,27,2,19,42,66,33,34,33,23,32,11,69,68,20,72,60,32,1,1,3,46,29,51,48,16,70,40,22,1,5,7,29,44,10,55,52,10,18,68,61,72,2,12,41,26,36,72,35,1,16,49,54,18,36,60,1,52,8,72,64,22,60,28,61,24,28,30,2,1,6,24,4,7,72,70,64,72,44,13,17,1,9,24,1,24,35,7,5,15,11,48,20,72,8,72,15,72,0,1,63,2,2,61,1,22,28,70,5,12,34,71,70,52,69,20,11,2,6,1,20,61,5,56,30,40,28,5,27,12,67,29,55,23,34,52,72,58,35,56,24,70,2,68,1,12,63,33,69,60,72,11,1,10,13,34,39,65,50,15,72,72,55,23,32,56,1,38,11,1,56,3,7,59,7,71,15,71,35,11,60,47,11,56,28,61,31,9,35,2,12,1,4,1,3,1,52,5,72,71,72,46,63,30,1,12,16,4,51,65,16,2,66,46,32,72,38,51,72,65,9,9,66,44,50,15,8,66,57,7,10,62,40,20,7,25,23,66,72,49,43,46,72,10,40,65,31,68,56,10,68,43,1,49,15,20,1,50,2,24,3,1,35,17,8,10,68,45,2,37,4,10,1,65,57,3,2,49,4,70,53,53,1,22,52,65,48,2,3,45,1,61,3,40,1,1,51,2,52,51,1,31,47,3,22,1,72,3,47,72,66,35,29,2,4,25,65,27,29,29,1,20,58,14,72,46,71,32,26,68,2,61,4,3,33,9,22,5,30,65,45,5,25,72,27,32,30,70,42,72,47,2,10,61,5,72,72,3,48,63,27,70,7,0,2,20,66,3,15,72,1,22,3,72,65,11,22,14,41,17,11,15,1,5,33,72,3,2,59,2,71,5,27,1,63,46,72,34,24,72,60,68,8,34,6,2,31,20,1,62,70,10,39,46,6,72,18,71,40,1,58,70,42,34,5,25,2,55,21,70,61,43,47,5,62,16,7,14,60,34,50,38,70,37,4,60,62,1,36,44,55,72,12,13,1,15,65,12,72,72,72,52,2,5,68,62,72,1,66,72,26,64,20,3,22,4,62,5,59,3,72,57,66,60,45,3,15,51,60,33,10,26,6,67,49,1,7,27,37,63,31,50,32,1,63,30,71,53,12,50,2,9,17,56,67,9,4,19,8,71,10,15,72,12,72,1,23,72,26,21,60,12,16,63,22,32,3,13,68,30,16,33,72,4,12,4,0,6,65,15,24,13,24,72,54,3,4,32,35,35,2,8,22,15,22,1,71,4,25,32,7,17,8,56,1,8,7,3,71,2,1,49,58,44,59,71,1,11,62,35,20,40,39,1,72,33,12,1,27,34,56,58,22,10,13,35,34,4,72,2,7,27,4,37,21,53,18,2,32,23,3,71,9,1,18,12,71,64,4,23,39,28,5,45,37,60,8,47,26,3,50,27,8,62,71,66,68,13,56,38,14,16,14,32,8,43,52,3,29,1,12,16,40,5,40,36,5,10,2,23,26,72,34,10,14,23,47,24,49,20,2,2,22,7,1,59,58,41,59,3,32,46,0,2,52,13,11,32,17,16,51,29,70,71,41,1,7,25,67,5,15,20,3,54,42,9,63,69,69,40,60,4,71,37,32,39,38,52,48,70,20,50,19,25,12,39,7,23,27,47,26,14,11,2,26,72,63,71,11,14,13,6,11,18,1,32,29,3,2,13,41,1,7,52,45,70,53,62,60,3,23,1,67,12,71,25,5,26,1,70,72,60,32,1,14,13,6,46,15,43,39,21,57,53,18,1,58,71,35,3,38,35,7,47,14,20,66,15,42,17,37,12,53,60,18,1,3,9,1,56,17,11,7,69,19,3,54,62,24,62,17,9,64,2,1,16,72,30,49,61,47,20,34,70,54,61,3,13,16,3,25,30,21,1,15,23,45,24,11,1,56,1,1,7,55,2,72,45,47,46,2,2,12,68,69,56,4,64,59,62,63,53,5,49,62,55,71,72,36,25,72,36,1,72,59,7,1,30,64,63,72,8,62,67,6,70,20,5,24,11,72,66,45,69,15,28,70,36,16,18,34,42,48,47,39,11,7,3,8,1,32,60,10,71,4,1,43,59,23,72,22,1,69,50,1,2,15,31,1,66,0,3,8,64,28,57,14,19,10,51,67,11,72,66,18,9,9,48,10,9,13,4,4,72,51,59,10,61,54,33,27,1,23,1,45,39,5,72,58,70,61,2,46,1,22,48,64,72,12,34,72,29,33,1,62,41,64,4,24,14,3,4,18,8,35,1,66,8,71,43,2,29,15,65,35,64,58,18,67,63,60,9,70,15,48,12,71,44,1,45,23,43,35,9,12,65,2,27,40,5,8,58,52,3,41,20,1,4,23,6,8,18,52,31,29,36,16,42,1,60,5,22,36,4,9,1,12,23,62,37,8,31,13,24,45,69,2,61,41,44,39,72,13,51,71,22,2,56,1,23,66,1,19,11,8,52,3,51,15,64,37,13,49,45,18,1,68,54,23,17,71,67,14,1,63,41,17,56,5,2,3,37,29,8,63,7,3,72,19,59,2,35,14,14,69,7,69,72,8,4,63,72,46,5,30,63,60,63,25,1,6,22,31,39,26,53,1,12,16,2,39,1,7,4,10,55,72,10,11,15,23,1,3,47,15,66,68,17,7,12,21,21,56,6,65,42,68,48,50,7,63,17,42,4,62,2,2,48,27,70,1,46,30,15,69,65,72,13,17,51,51,72,67,34,67,49,53,27,23,69,2,35,46,54,56,9,20,11,30,68,38,17,48,1,63,3,48,66,68,17,7,72,29,37,34,42,59,11,60,27,1,1,17,58,1,3,53,35,50,68,47,65,5,51,46,9,8,14,45,8,1,66,72,41,23,29,4,6,67,7,56,72,72,23,35,27,26,12,40,7,70,60,39,72,1,54,3,63,71,42,47,66,21,11,1,55,69,3,4,30,5,71,29,52,68,46,8,72,17,3,2,9,51,6,3,17,30,31,45,64,1,1,61,1,9,72,1,7,66,1,40,16,2,67,41,56,72,3,54,52,50,14,27,72,62,12,44,54,68,20,50,58,35,2,63,58,27,71,63,71,41,13,2,68,1,65,72,28,72,2,18,60,26,1,4,68,38,42,57,54,12,44,42,72,71,19,23,30,35,10,1,22,7,36,34,72,36,1,23,32,71,23,17,1,12,72,1,72,60,61,6,32,31,19,72,32,65,45,42,8,32,22,57,1,1,1,24,1,54,4,65,56,45,71,59,69,19,55,38,10,47,2,1,1,1,46,38,65,19,52,71,1,52,6,26,48,64,3,1,72,1,51,41,72,43,72,47,72,3,1,2,26,29,35,27,24,67,16,23,14,1,1,4,16,46,68,38,30,5,17,4,12,72,3,56,41,40,7,69,7,5,72,44,65,3,24,44,72,24,1,22,70,25,37,22,59,49,47,31,1,3,53,1,20,3,51,51,13,1,1,63,3,46,1,8,71,55,70,2,67,65,14,20,1,1,49,72,46,24,5,33,42,23,8,66,24,24,69,53,60,7,20,23,72,11,21,1,31,57,45,10,58,14,27,14,12,69,25,58,35,16,45,17,1,22,1,67,67,2,23,9,5,54,57,24,49,5,2,4,70,5,53,47,31,13,28,10,38,1,67,52,62,16,5,12,72,71,24,15,67,2,5,15,1,41,43,1,1,26,22,71,7,28,16,7,69,1,3,21,69,71,69,48,47,2,45,51,22,72,37,71,7,66,51,30,34,64,65,47,1,49,67,39,14,43,56,14,1,16,70,72,23,21,1,1,32,17,4,36,50,48,50,72,10,18,1,1,9,2,40,69,37,18,11,8,3,55,33,46,34,3,30,33,45,40,71,1,72,22,46,55,1,12,31,5,67,1,40,41,1,51,42,23,1,1,56,15,12,54,7,33,16,21,30,3,11,62,18,6,46,21,68,1,25,24,30,2,51,57,15,72,2,28,29,70,13,59,13,7,62,21,2,1,4,19,30,67,72,53,5,71,50,56,2,2,24,46,71,29,69,71,1,56,56,1,28,19,66,17,52,19,36,7,72,67,34,57,7,1,8,69,50,10,12,14,70,64,66,71,20,72,71,38,28,17,33,23,58,70,4,45,10,36,54,23,41,5,27,1,67,72,56,44,66,34,69,1,40,30,11,15,11,64,72,72,1,15,60,56,8,3,49,2,6,70,12,52,72,40,1,3,40,1,30,23,1,44,65,7,72,8,16,66,1,3,53,8,69,5,72,13,4,54,72,12,1,1,54,69,48,48,8,71,2,67,34,3,9,71,57,72,48,18,43,72,35,4,49,71,11,63,65,49,29,15,4,72,26,35,57,28,25,47,57,16,5,17,56,72,21,48,68,30,3,14,4,71,8,61,72,5,49,8,3,9,67,46,67,55,33,62,1,49,1,14,18,1,1,72,64,69,1,71,66,2,71,11,47,35,32,60,11,29,21,48,3,43,5,1,71,8,8,20,33,71,31,38,1,2,12,9,11,6,71,42,8,5,2,45,28,43,60,42,7,25,40,27,10,27,11,4,68,1,18,57,26,17,1,38,59,30,2,50,9,3,14,31,7,8,17,32,2,7,72,31,27,18,7,14,11,72,28,15,4,71,5,47,57,50,8,48,70,1,8,1,1,60,49,4,29,67,53,67,6,47,53,69,3,4,56,59,61,2,46,12,14,28,24,31,68,39,42,13,6,35,38,18,4,27,41,50,72,70,44,2,34,72,71,64,72,1,29,23,52,25,64,16,1,24,2,34,36,53,47,72,72,1,9,8,45,7,71,41,67,69,70,25,72,34,65,70,72,35,13,12,62,25,52,8,2,56,12,47,2,18,8,45,3,38,72,46,71,66,25,18,13,65,60,15,72,30,42,71,1,39,35,53,1,31,48,30,10,12,57,58,37,44,27,8,3,25,57,12,62,65,71,21,71,7,72,1,72,64,72,29,13,31,1,7,61,39,10,14,1,67,72,6,1,25,33,18,71,28,2,17,56,60,33,1,2,63,7,55,65,1,63,70,36,52,22,22,5,47,33,18,1,56,2,35,64,15,24,1,70,1,4,39,29,14,61,13,66,2,59,62,33,66,72,1,19,51,63,27,22,4,42,29,4,30,4,71,46,4,7,69,72,19,28,5,72,8,7,22,72,8,52,68,71,2,34,35,61,1,1,53,72,2,3,13,41,24,28,8,1,54,41,19,72,62,56,15,10,32,21,62,2,27,5,25,2,49,63,4,1,11,52,60,64,43,61,1,5,66,67,42,1,31,7,4,34,3,19,31,1,3,46,1,69,5,1,26,10,25,64,30,13,64,46,12,15,17,13,67,24,6,53,16,10,13,9,25,7,38,43,4,25,27,72,71,24,50,57,15,4,28,9,55,3,10,55,20,62,32,43,9,60,58,7,2,37,65,39,66,68,62,3,72,41,29,4,53,1,41,39,63,15,13,1,1,8,60,12,40,66,42,66,49,1,41,41,23,3,4,52,4,11,2,26,24,12,60,64,66,60,17,42,1,47,10,70,67,1,7,1,4,66,12,24,26,6,57,14,42,25,64,22,19,61,22,70,12,31,11,68,72,67,60,1,1,58,47,1,1,22,48,37,13,43,6,71,1,72,6,12,25,21,6,20,18,43,35,1,32,52,32,72,51,68,8,49,72,9,28,54,11,50,69,1,68,40,31,33,55,68,12,71,40,64,53,12,53,72,46,40,12,9,51,49,41,56,4,20,26,20,7,7,51,4,1,27,22,12,3,34,24,51,14,59,3,65,5,59,72,62,28,3,19,1,24,57,72,67,52,71,26,35,55,33,72,1,10,37,12,1,62,1,18,69,2,19,12,9,27,27,1,24,14,32,11,1,38,9,54,29,44,59,3,18,67,22,33,5,2,72,9,67,16,8,5,23,1,50,17,68,1,25,67,32,67,72,71,1,46,2,1,48,61,32,2,3,5,71,37,65,67,49,50,25,17,64,25,23,24,37,21,1,10,6,51,10,6,47,61,52,35,71,6,45,2,4,2,4,51,60,9,3,17,8,46,68,1,4,1,28,39,11,71,2,30,17,55,58,5,1,9,26,50,72,43,56,1,72,72,36,5,13,44,70,44,32,69,16,68,16,68,4,26,29,5,70,24,72,1,70,36,38,17,41,1,2,14,2,1,13,6,4,5,15,47,8,17,15,26,23,4,29,25,9,18,3,69,14,19,39,31,24,14,64,50,52,28,21,25,17,58,17,51,72,52,27,3,64,45,3,71,1,58,34,8,15,66,12,58,3,43,9,3,22,40,68,54,50,1,72,40,72,6,5,48,1,64,17,40,41,51,41,1,2,68,24,70,3,2,3,7,13,7,12,53,12,63,15,36,4,24,61,16,65,26,16,54,1,5,19,10,23,3,72,10,10,11,37,17,36,17,66,61,22,1,6,31,68,34,52,10,29,72,47,24,65,4,12,1,33,34,14,4,13,65,23,55,49,60,69,40,67,35,19,13,41,4,24,5,5,1,72,24,42,4,68,33,1,31,4,69,38,3,48,15,25,1,48,1,1,37,66,26,63,10,2,18,64,9,28,1,4,38,66,1,18,51,0,1,12,41,12,55,7,12,68,5,49,40,16,10,72,2,23,71,11,1,16,1,12,54,68,4,1,27,21,13,64,1,57,21,19,31,52,46,11,53,11,57,2,2,71,1,68,72,2,1,41,72,6,4,12,58,7,65,1,56,4,58,62,26,62,58,68,61,42,18,56,4,4,35,64,31,67,4,70,3,53,2,29,47,68,12,8,54,69,26,72,70,1,10,28,1,21,51,53,53,24,70,61,11,2,25,41,18,72,71,34,29,40,36,46,58,39,4,52,70,65,1,70,29,1,67,1,26,30,48,55,7,37,31,4,72,5,1,15,8,35,56,42,65,2,65,18,23,4,70,4,19,18,38,2,47,52,9,26,8,44,3,2,9,1,25,2,43,1,58,59,44,66,68,9,19,4,70,1,8,53,51,11,60,17,3,70,1,43,16,57,37,72,11,50,5,1,16,2,17,16,15,10,46,64,1,25,71,8,72,49,29,72,31,50,71,70,71,61,32,1,68,62,7,20,6,33,28,27,7,26,5,30,63,1,53,14,21,17,16,35,32,28,1,59,72,36,40,40,9,63,3,40,8,34,5,9,9,31,50,2,1,8,9,2,3,25,1,45,51,55,38,2,38,34,70,13,39,61,12,41,21,55,69,26,69,18,47,72,33,2,72,37,62,71,23,16,9,17,4,1,24,1,72,72,11,9,2,60,29,49,30,53,39,9,39,8,51,71,71,70,1,38,28,32,49,37,10,67,7,51,9,9,4,71,50,24,22,44,33,1,54,42,1,1,30,1,16,1,9,46,1,71,43,50,13,19,41,1,24,40,3,37,67,32,6,32,59,30,20,27,20,9,68,69,26,69,11,1,10,55,44,46,69,11,11,29,57,28,42,2,23,18,62,1,16,3,67,62,57,2,23,25,72,2,8,5,35,24,2,72,41,4,26,7,1,4,48,2,12,60,55,1,1,4,1,42,1,7,3,72,15,4,11,5,1,72,55,40,57,1,1,1,52,41,43,47,3,66,55,29,12,66,35,10,27,58,54,9,2,6,26,9,8,12,15,43,42,31,66,18,1,61,10,1,18,24,3,50,1,2,17,69,72,3,50,53,58,46,72,1,6,72,4,52,0,2,65,43,4,25,51,12,57,24,64,4,26,15,64,36,27,1,35,4,8,10,2,58,51,46,1,46,50,53,61,5,47,54,19,26,70,17,30,1,19,26,21,50,68,3,9,51,9,41,22,21,71,1,26,71,4,12,18,3,72,11,1,13,72,42,17,7,68,56,38,72,48,52,35,67,1,53,34,3,1,19,60,11,47,18,60,72,39,59,2,1,20,6,71,24,67,1,48,37,11,3,18,50,67,25,2,9,10,70,9,4,2,1,19,7,1,1,9,3,9,5,56,18,49,70,72,6,17,29,6,63,16,59,3,8,7,68,68,52,72,32,72,1,42,25,45,43,37,20,4,63,3,66,28,8,71,1,72,16,66,11,51,8,14,4,70,70,54,28,24,69,42,2,39,45,72,38,72,1,72,55,51,63,1,23,1,2,52,36,1,28,7,14,72,1,10,42,7,4,72,20,63,56,5,72,68,67,8,52,18,59,60,7,59,46,5,59,70,14,44,64,58,46,58,72,30,11,34,54,3,72,40,2,54,14,1,10,1,1,56,68,14,68,55,16,9,14,58,53,70,14,22,10,29,1,49,68,1,30,72,10,7,9,1,20,1,29,1,3,20,64,1,6,50,6,7,72,8,67,24,72,33,2,70,22,59,36,51,53,20,63,40,35,26,27,53,34,19,43,6,56,57,34,10,1,13,56,55,36,47,12,1,24,63,35,67,25,21,13,35,71,29,71,7,57,65,27,6,72,1,11,39,59,26,2,72,65,72,6,32,50,61,15,72,9,1,12,37,61,18,21,68,12,2,62,29,1,5,1,62,36,28,69,11,63,23,10,71,45,70,22,52,55,65,72,10,7,5,24,72,21,69,44,61,24,1,6,4,72,72,14,7,48,55,1,45,3,71,8,3,69,1,72,11,71,1,33,16,56,1,5,57,56,8,22,1,40,46,63,68,69,56,10,63,24,19,22,29,13,70,49,43,3,42,57,2,72,46,66,62,72,35,17,72,28,56,31,45,1,2,6,48,25,64,50,52,4,32,45,9,66,3,54,1,64,31,14,12,67,35,45,10,29,24,66,51,45,49,29,40,37,25,22,72,7,33,23,24,1,69,3,56,65,71,14,2,32,40,1,1,7,15,17,19,71,54,31,11,18,72,71,5,38,5,2,52,8,68,69,42,50,1,1,33,7,64,1,59,6,3,15,13,23,31,29,49,56,63,63,24,36,9,3,21,13,1,25,71,66,45,22,67,68,0,49,4,63,2,21,55,1,17,30,22,9,1,21,19,69,1,72,70,66,7,46,39,32,24,6,37,8,72,71,16,57,66,17,21,66,17,1,58,8,27,34,30,33,1,14,16,49,19,70,32,18,37,4,16,17,19,60,51,28,43,42,3,1,3,63,3,68,30,60,15,45,70,10,4,1,68,22,38,1,18,29,16,1,12,31,4,48,15,50,7,41,68,26,57,3,1,19,3,59,1,42,7,67,1,66,61,4,42,64,54,1,54,18,3,1,72,60,11,12,61,39,55,17,37,72,72,8,22,1,38,17,70,72,28,15,72,11,8,57,1,46,30,10,23,32,13,39,44,9,67,9,15,71,1,30,1,17,3,67,1,1,32,41,1,1,12,62,22,17,72,56,9,72,20,19,2,53,27,6,9,8,71,10,1,71,68,34,26,22,7,20,60,72,72,4,16,62,10,31,71,58,70,71,69,1,72,26,33,10,57,10,39,11,21,68,18,6,18,52,56,45,67,3,65,63,11,1,55,25,72,72,65,54,7,72,21,2,4,3,72,6,52,69,8,8,63,60,12,13,22,5,1,72,2,40,44,71,2,26,1,1,65,3,13,33,1,4,2,72,37,15,23,30,42,32,22,42,8,65,2,70,22,4,2,67,25,20,2,51,46,25,13,25,26,43,19,10,2,72,18,9,27,24,69,46,72,22,70,2,31,56,16,52,13,35,59,72,66,49,2,21,54,24,1,6,1,49,56,56,6,32,50,58,65,64,66,38,20,36,64,1,60,1,50,1,72,60,46,69,31,19,71,12,39,44,56,72,5,11,24,15,72,56,64,34,2,35,22,5,9,11,23,4,68,33,31,1,56,1,66,72,34,58,2,37,71,1,71,35,6,3,69,44,53,24,5,2,62,19,9,53,5,71,1,18,72,4,59,1,31,3,65,49,2,53,55,72,36,10,1,72,28,38,61,52,67,34,54,1,15,4,9,46,22,38,55,1,64,53,58,56,72,1,72,22,8,16,39,12,54,18,32,41,67,65,25,1,67,7,43,24,9,69,37,20,7,37,5,41,54,3,69,53,18,64,31,20,57,63,13,48,2,57,71,7,16,34,37,16,48,58,72,7,38,48,10,30,31,46,50,28,66,8,41,72,7,38,44,47,53,4,20,2,57,44,24,15,3,4,37,1,24,5,33,58,72,71,28,51,30,72,36,14,72,22,2,15,51,70,71,39,61,52,1,64,62,30,4,63,1,15,27,4,72,45,45,36,17,1,16,3,4,71,10,20,4,26,4,5,4,29,2,29,1,1,8,13,59,1,50,18,17,47,26,6,19,3,68,2,7,18,71,13,3,72,66,24,1,56,22,14,61,40,42,72,12,71,26,7,6,58,51,72,18,7,47,2,62,16,6,19,69,11,64,39,15,25,6,66,61,43,12,23,71,34,5,41,72,14,41,23,71,1,72,6,23,10,72,7,6,9,12,1,48,20,16,2,10,2,20,20,19,19,22,35,1,39,54,1,66,56,18,16,68,53,72,9,30,36,18,55,39,21,2,33,44,30,71,4,35,1,23,22,49,42,33,7,67,15,67,53,21,40,22,39,45,2,57,8,7,6,7,49,65,55,71,35,3,11,1,17,72,28,18,40,52,47,23,66,8,47,7,71,50,46,1,66,42,5,7,29,27,15,25,11,57,67,47,13,8,44,71,24,15,1,2,55,71,50,1,5,66,49,3,66,11,28,65,62,2,2,55,41,17,30,17,16,72,9,1,23,8,19,7,1,61,57,9,15,1,12,54,4,7,20,26,36,53,3,68,72,12,34,68,50,1,41,30,1,29,23,60,72,22,72,66,72,47,51,70,9,59,3,38,37,37,24,14,72,53,8,72,17,2,8,48,10,0,1,29,65,8,61,45,72,12,7,9,43,58,16,2,8,40,9,41,26,33,68,65,55,20,19,45,70,2,27,12,72,12,5,71,35,70,31,52,37,69,30,33,54,59,55,69,66,37,9,69,10,40,13,6,69,66,11,46,6,56,70,33,72,3,19,5,71,8,1,1,61,71,68,46,33,53,50,57,54,60,28,1,29,10,43,13,43,19,1,69,61,43,6,1,56,70,1,49,6,32,72,37,69,26,58,24,5,15,30,55,25,10,44,47,13,49,64,1,20,37,30,38,1,37,52,71,26,66,72,25,69,53,12,26,21,1,48,26,60,18,10,5,4,65,70,18,62,66,65,3,34,16,54,50,71,10,1,18,4,58,56,2,32,56,36,4,53,10,4,1,51,12,6,63,1,48,5,35,6,2,50,33,31,9,54,46,34,71,63,51,26,64,1,61,15,64,18,57,14,18,72,70,38,68,13,65,30,51,31,9,72,10,37,2,55,33,46,1,20,9,32,19,70,61,26,45,62,1,3,41,67,1,71,37,60,1,6,13,11,7,10,34,62,64,1,25,26,10,53,7,33,71,29,24,20,1,54,5,72,52,9,1,1,33,55,69,1,54,33,45,11,6,21,65,6,8,11,43,49,1,15,60,17,16,35,44,12,1,28,70,5,18,70,9,67,1,18,4,71,30,1,55,59,1,7,45,54,51,72,44,2,66,68,31,21,21,55,9,71,1,22,1,61,67,14,59,21,4,3,70,3,21,20,22,1,63,70,13,5,72,13,61,1,56,4,35,18,72,49,44,3,37,61,70,1,41,70,1,51,42,70,48,68,48,26,11,1,27,46,1,46,25,4,13,31,23,2,65,22,55,9,7,35,6,1,17,10,15,40,13,29,3,58,45,72,68,1,38,2,11,20,72,3,23,40,62,22,11,7,13,1,39,3,58,6,1,22,14,64,1,6,1,39,20,1,1,64,1,46,28,33,39,42,1,7,70,65,1,18,24,63,44,4,1,37,10,34,35,4,39,43,17,61,49,4,64,3,1,40,1,8,1,34,1,39,58,45,6,43,41,5,72,4,9,72,33,72,22,70,21,15,29,15,71,72,19,1,1,2,11,12,70,20,23,49,4,32,2,69,6,24,32,27,27,58,1,18,47,70,13,36,67,10,19,71,72,48,1,18,1,67,69,19,72,38,40,61,10,32,21,59,13,47,69,2,22,15,53,28,22,1,16,48,30,3,57,68,23,65,44,71,37,12,69,35,5,58,72,72,1,39,53,27,1,1,18,46,72,36,4,25,40,63,15,14,72,39,47,19,5,13,17,34,42,5,71,19,2,57,72,6,17,61,1,48,16,9,3,1,65,70,60,69,35,22,66,1,1,34,72,31,30,9,20,19,65,30,6,2,53,7,61,70,13,35,2,3,3,62,72,63,20,35,21,62,15,55,11,17,61,71,2,35,17,21,47,3,3,44,1,44,5,24,1,18,10,65,1,53,3,33,3,34,14,13,46,23,47,17,49,59,69,11,10,12,45,39,71,71,33,67,37,49,9,52,70,1,14,1,1,52,6,7,47,26,25,69,72,4,59,67,26,27,72,6,62,20,6,51,61,62,72,13,5,3,26,13,38,8,34,18,56,36,9,1,12,57,42,33,70,68,1,37,4,1,20,72,31,18,11,33,62,1,16,22,49,36,42,4,12,31,5,66,15,64,10,7,29,57,46,53,17,38,15,22,14,57,11,1,12,3,36,16,65,2,42,72,62,6,48,35,52,1,6,71,67,60,23,39,15,53,24,37,5,50,54,3,68,5,33,41,34,13,20,51,3,41,13,35,12,4,43,12,68,25,7,66,53,63,70,27,1,5,37,3,12,38,9,13,29,47,61,16,41,43,36,6,58,19,11,39,8,26,53,70,1,59,2,7,12,59,61,72,13,64,1,10,65,62,55,25,1,1,59,64,36,3,61,26,1,1,68,2,72,71,57,4,1,72,21,71,29,69,64,16,4,52,2,1,18,2,19,40,66,21,8,72,48,69,72,14,6,8,17,65,57,13,19,56,14,52,58,47,67,2,6,71,46,5,67,3,3,52,42,50,23,67,25,39,69,1,32,9,16,60,72,5,26,3,2,2,36,7,60,19,45,4,31,47,1,1,1,59,10,35,4,32,43,4,54,11,66,61,72,44,41,50,47,8,18,72,1,42,18,13,68,4,69,17,25,43,59,5,21,69,13,42,52,46,61,29,25,5,15,19,44,6,58,62,70,1,10,26,66,7,51,72,65,2,70,72,1,1,5,3,58,22,33,1,54,72,1,3,72,72,54,59,54,60,60,3,69,1,50,56,60,69,1,1,3,60,13,62,45,25,44,2,33,1,22,35,29,27,54,2,57,62,15,2,70,21,23,6,4,3,23,26,8,26,2,67,71,59,39,21,1,48,31,64,46,52,67,67,5,71,9,26,71,32,2,71,60,55,54,2,6,48,63,1,12,54,30,30,4,40,9,17,62,28,70,46,23,47,68,60,67,14,57,55,1,1,23,13,47,38,38,2,1,15,26,35,3,50,42,10,61,68,10,65,72,55,1,7,2,9,27,7,64,70,2,67,45,24,4,44,72,1,66,1,13,10,65,1,38,23,10,4,72,35,1,58,70,38,60,26,8,41,36,54,71,55,72,3,54,72,52,60,39,15,69,43,63,2,72,32,40,58,67,51,31,69,32,21,52,72,72,52,41,41,6,67,16,17,35,58,1,52,70,19,1,35,32,17,67,9,31,4,58,60,58,1,27,66,15,47,41,59,50,17,6,51,44,49,2,59,50,59,18,10,14,35,8,18,60,1,6,19,53,72,60,1,13,5,1,13,37,64,5,61,1,1,26,1,24,17,26,1,40,52,1,1,21,67,44,70,3,56,13,58,42,1,46,63,11,15,72,29,1,6,1,63,2,18,43,15,10,55,49,6,70,2,63,25,18,28,53,35,1,70,2,26,34,19,15,62,42,9,24,68,31,1,21,63,2,61,1,18,6,33,16,56,23,9,14,15,5,61,70,15,8,8,4,34,68,45,9,22,2,70,10,72,49,54,71,22,50,43,45,64,23,68,1,2,26,55,14,71,64,7,57,13,3,72,40,14,2,66,38,1,22,1,5,29,1,3,71,9,43,48,26,9,1,46,2,1,64,12,6,59,7,72,16,25,34,1,10,24,10,69,57,50,28,16,25,3,61,2,51,71,20,6,6,29,36,28,7,63,48,49,27,72,1,72,47,1,36,43,27,9,38,35,0,59,27,2,7,36,41,13,19,60,48,3,69,43,11,45,72,2,12,67,37,39,41,25,8,71,5,30,40,54,72,28,18,2,59,22,1,72,14,50,48,49,28,68,13,11,3,57,3,72,70,49,67,46,64,37,2,13,72,68,15,24,24,27,12,71,67,63,1,4,40,12,52,10,68,54,4,52,1,70,43,52,12,56,0,42,22,51,27,51,4,1,35,71,1,69,14,57,72,48,4,31,38,37,1,57,62,3,72,29,13,3,11,21,19,61,11,35,25,1,67,19,56,72,43,55,2,27,13,70,14,19,20,43,5,70,40,6,39,4,15,1,45,64,57,72,1,72,3,55,59,18,32,4,66,27,4,60,8,8,35,7,53,18,15,67,6,6,13,11,1,5,13,9,29,1,1,18,2,30,66,38,44,54,2,42,58,58,25,71,37,14,4,48,3,8,1,67,13,45,49,52,63,68,31,64,62,1,6,21,72,32,71,34,3,12,8,35,3,3,53,4,48,6,3,54,1,62,22,1,51,30,56,35,64,30,25,41,9,1,70,57,9,69,43,72,44,72,33,54,27,54,3,53,1,15,56,5,48,25,3,58,10,1,71,65,5,28,67,35,72,61,68,1,3,70,48,68,47,32,5,49,48,13,15,12,67,9,13,38,42,24,27,9,49,61,50,25,22,1,4,18,56,53,51,24,62,24,70,1,16,8,72,23,31,37,30,35,23,20,36,8,71,50,43,57,41,27,13,3,67,3,64,26,38,23,40,72,3,23,1,4,62,40,41,34,1,51,1,39,12,12,72,63,44,18,9,13,68,6,2,55,1,38,67,19,12,72,24,72,11,4,66],\"x0\":\" \",\"xaxis\":\"x\",\"y0\":\" \",\"yaxis\":\"y\",\"type\":\"violin\",\"line\":{\"color\":\"bLACK\"},\"fillcolor\":\"#87CEFA\",\"opacity\":0.5}],                        {\"template\":{\"data\":{\"bar\":[{\"error_x\":{\"color\":\"#2a3f5f\"},\"error_y\":{\"color\":\"#2a3f5f\"},\"marker\":{\"line\":{\"color\":\"#E5ECF6\",\"width\":0.5},\"pattern\":{\"fillmode\":\"overlay\",\"size\":10,\"solidity\":0.2}},\"type\":\"bar\"}],\"barpolar\":[{\"marker\":{\"line\":{\"color\":\"#E5ECF6\",\"width\":0.5},\"pattern\":{\"fillmode\":\"overlay\",\"size\":10,\"solidity\":0.2}},\"type\":\"barpolar\"}],\"carpet\":[{\"aaxis\":{\"endlinecolor\":\"#2a3f5f\",\"gridcolor\":\"white\",\"linecolor\":\"white\",\"minorgridcolor\":\"white\",\"startlinecolor\":\"#2a3f5f\"},\"baxis\":{\"endlinecolor\":\"#2a3f5f\",\"gridcolor\":\"white\",\"linecolor\":\"white\",\"minorgridcolor\":\"white\",\"startlinecolor\":\"#2a3f5f\"},\"type\":\"carpet\"}],\"choropleth\":[{\"colorbar\":{\"outlinewidth\":0,\"ticks\":\"\"},\"type\":\"choropleth\"}],\"contour\":[{\"colorbar\":{\"outlinewidth\":0,\"ticks\":\"\"},\"colorscale\":[[0.0,\"#0d0887\"],[0.1111111111111111,\"#46039f\"],[0.2222222222222222,\"#7201a8\"],[0.3333333333333333,\"#9c179e\"],[0.4444444444444444,\"#bd3786\"],[0.5555555555555556,\"#d8576b\"],[0.6666666666666666,\"#ed7953\"],[0.7777777777777778,\"#fb9f3a\"],[0.8888888888888888,\"#fdca26\"],[1.0,\"#f0f921\"]],\"type\":\"contour\"}],\"contourcarpet\":[{\"colorbar\":{\"outlinewidth\":0,\"ticks\":\"\"},\"type\":\"contourcarpet\"}],\"heatmap\":[{\"colorbar\":{\"outlinewidth\":0,\"ticks\":\"\"},\"colorscale\":[[0.0,\"#0d0887\"],[0.1111111111111111,\"#46039f\"],[0.2222222222222222,\"#7201a8\"],[0.3333333333333333,\"#9c179e\"],[0.4444444444444444,\"#bd3786\"],[0.5555555555555556,\"#d8576b\"],[0.6666666666666666,\"#ed7953\"],[0.7777777777777778,\"#fb9f3a\"],[0.8888888888888888,\"#fdca26\"],[1.0,\"#f0f921\"]],\"type\":\"heatmap\"}],\"heatmapgl\":[{\"colorbar\":{\"outlinewidth\":0,\"ticks\":\"\"},\"colorscale\":[[0.0,\"#0d0887\"],[0.1111111111111111,\"#46039f\"],[0.2222222222222222,\"#7201a8\"],[0.3333333333333333,\"#9c179e\"],[0.4444444444444444,\"#bd3786\"],[0.5555555555555556,\"#d8576b\"],[0.6666666666666666,\"#ed7953\"],[0.7777777777777778,\"#fb9f3a\"],[0.8888888888888888,\"#fdca26\"],[1.0,\"#f0f921\"]],\"type\":\"heatmapgl\"}],\"histogram\":[{\"marker\":{\"pattern\":{\"fillmode\":\"overlay\",\"size\":10,\"solidity\":0.2}},\"type\":\"histogram\"}],\"histogram2d\":[{\"colorbar\":{\"outlinewidth\":0,\"ticks\":\"\"},\"colorscale\":[[0.0,\"#0d0887\"],[0.1111111111111111,\"#46039f\"],[0.2222222222222222,\"#7201a8\"],[0.3333333333333333,\"#9c179e\"],[0.4444444444444444,\"#bd3786\"],[0.5555555555555556,\"#d8576b\"],[0.6666666666666666,\"#ed7953\"],[0.7777777777777778,\"#fb9f3a\"],[0.8888888888888888,\"#fdca26\"],[1.0,\"#f0f921\"]],\"type\":\"histogram2d\"}],\"histogram2dcontour\":[{\"colorbar\":{\"outlinewidth\":0,\"ticks\":\"\"},\"colorscale\":[[0.0,\"#0d0887\"],[0.1111111111111111,\"#46039f\"],[0.2222222222222222,\"#7201a8\"],[0.3333333333333333,\"#9c179e\"],[0.4444444444444444,\"#bd3786\"],[0.5555555555555556,\"#d8576b\"],[0.6666666666666666,\"#ed7953\"],[0.7777777777777778,\"#fb9f3a\"],[0.8888888888888888,\"#fdca26\"],[1.0,\"#f0f921\"]],\"type\":\"histogram2dcontour\"}],\"mesh3d\":[{\"colorbar\":{\"outlinewidth\":0,\"ticks\":\"\"},\"type\":\"mesh3d\"}],\"parcoords\":[{\"line\":{\"colorbar\":{\"outlinewidth\":0,\"ticks\":\"\"}},\"type\":\"parcoords\"}],\"pie\":[{\"automargin\":true,\"type\":\"pie\"}],\"scatter\":[{\"marker\":{\"colorbar\":{\"outlinewidth\":0,\"ticks\":\"\"}},\"type\":\"scatter\"}],\"scatter3d\":[{\"line\":{\"colorbar\":{\"outlinewidth\":0,\"ticks\":\"\"}},\"marker\":{\"colorbar\":{\"outlinewidth\":0,\"ticks\":\"\"}},\"type\":\"scatter3d\"}],\"scattercarpet\":[{\"marker\":{\"colorbar\":{\"outlinewidth\":0,\"ticks\":\"\"}},\"type\":\"scattercarpet\"}],\"scattergeo\":[{\"marker\":{\"colorbar\":{\"outlinewidth\":0,\"ticks\":\"\"}},\"type\":\"scattergeo\"}],\"scattergl\":[{\"marker\":{\"colorbar\":{\"outlinewidth\":0,\"ticks\":\"\"}},\"type\":\"scattergl\"}],\"scattermapbox\":[{\"marker\":{\"colorbar\":{\"outlinewidth\":0,\"ticks\":\"\"}},\"type\":\"scattermapbox\"}],\"scatterpolar\":[{\"marker\":{\"colorbar\":{\"outlinewidth\":0,\"ticks\":\"\"}},\"type\":\"scatterpolar\"}],\"scatterpolargl\":[{\"marker\":{\"colorbar\":{\"outlinewidth\":0,\"ticks\":\"\"}},\"type\":\"scatterpolargl\"}],\"scatterternary\":[{\"marker\":{\"colorbar\":{\"outlinewidth\":0,\"ticks\":\"\"}},\"type\":\"scatterternary\"}],\"surface\":[{\"colorbar\":{\"outlinewidth\":0,\"ticks\":\"\"},\"colorscale\":[[0.0,\"#0d0887\"],[0.1111111111111111,\"#46039f\"],[0.2222222222222222,\"#7201a8\"],[0.3333333333333333,\"#9c179e\"],[0.4444444444444444,\"#bd3786\"],[0.5555555555555556,\"#d8576b\"],[0.6666666666666666,\"#ed7953\"],[0.7777777777777778,\"#fb9f3a\"],[0.8888888888888888,\"#fdca26\"],[1.0,\"#f0f921\"]],\"type\":\"surface\"}],\"table\":[{\"cells\":{\"fill\":{\"color\":\"#EBF0F8\"},\"line\":{\"color\":\"white\"}},\"header\":{\"fill\":{\"color\":\"#C8D4E3\"},\"line\":{\"color\":\"white\"}},\"type\":\"table\"}]},\"layout\":{\"annotationdefaults\":{\"arrowcolor\":\"#2a3f5f\",\"arrowhead\":0,\"arrowwidth\":1},\"autotypenumbers\":\"strict\",\"coloraxis\":{\"colorbar\":{\"outlinewidth\":0,\"ticks\":\"\"}},\"colorscale\":{\"diverging\":[[0,\"#8e0152\"],[0.1,\"#c51b7d\"],[0.2,\"#de77ae\"],[0.3,\"#f1b6da\"],[0.4,\"#fde0ef\"],[0.5,\"#f7f7f7\"],[0.6,\"#e6f5d0\"],[0.7,\"#b8e186\"],[0.8,\"#7fbc41\"],[0.9,\"#4d9221\"],[1,\"#276419\"]],\"sequential\":[[0.0,\"#0d0887\"],[0.1111111111111111,\"#46039f\"],[0.2222222222222222,\"#7201a8\"],[0.3333333333333333,\"#9c179e\"],[0.4444444444444444,\"#bd3786\"],[0.5555555555555556,\"#d8576b\"],[0.6666666666666666,\"#ed7953\"],[0.7777777777777778,\"#fb9f3a\"],[0.8888888888888888,\"#fdca26\"],[1.0,\"#f0f921\"]],\"sequentialminus\":[[0.0,\"#0d0887\"],[0.1111111111111111,\"#46039f\"],[0.2222222222222222,\"#7201a8\"],[0.3333333333333333,\"#9c179e\"],[0.4444444444444444,\"#bd3786\"],[0.5555555555555556,\"#d8576b\"],[0.6666666666666666,\"#ed7953\"],[0.7777777777777778,\"#fb9f3a\"],[0.8888888888888888,\"#fdca26\"],[1.0,\"#f0f921\"]]},\"colorway\":[\"#636efa\",\"#EF553B\",\"#00cc96\",\"#ab63fa\",\"#FFA15A\",\"#19d3f3\",\"#FF6692\",\"#B6E880\",\"#FF97FF\",\"#FECB52\"],\"font\":{\"color\":\"#2a3f5f\"},\"geo\":{\"bgcolor\":\"white\",\"lakecolor\":\"white\",\"landcolor\":\"#E5ECF6\",\"showlakes\":true,\"showland\":true,\"subunitcolor\":\"white\"},\"hoverlabel\":{\"align\":\"left\"},\"hovermode\":\"closest\",\"mapbox\":{\"style\":\"light\"},\"paper_bgcolor\":\"white\",\"plot_bgcolor\":\"#E5ECF6\",\"polar\":{\"angularaxis\":{\"gridcolor\":\"white\",\"linecolor\":\"white\",\"ticks\":\"\"},\"bgcolor\":\"#E5ECF6\",\"radialaxis\":{\"gridcolor\":\"white\",\"linecolor\":\"white\",\"ticks\":\"\"}},\"scene\":{\"xaxis\":{\"backgroundcolor\":\"#E5ECF6\",\"gridcolor\":\"white\",\"gridwidth\":2,\"linecolor\":\"white\",\"showbackground\":true,\"ticks\":\"\",\"zerolinecolor\":\"white\"},\"yaxis\":{\"backgroundcolor\":\"#E5ECF6\",\"gridcolor\":\"white\",\"gridwidth\":2,\"linecolor\":\"white\",\"showbackground\":true,\"ticks\":\"\",\"zerolinecolor\":\"white\"},\"zaxis\":{\"backgroundcolor\":\"#E5ECF6\",\"gridcolor\":\"white\",\"gridwidth\":2,\"linecolor\":\"white\",\"showbackground\":true,\"ticks\":\"\",\"zerolinecolor\":\"white\"}},\"shapedefaults\":{\"line\":{\"color\":\"#2a3f5f\"}},\"ternary\":{\"aaxis\":{\"gridcolor\":\"white\",\"linecolor\":\"white\",\"ticks\":\"\"},\"baxis\":{\"gridcolor\":\"white\",\"linecolor\":\"white\",\"ticks\":\"\"},\"bgcolor\":\"#E5ECF6\",\"caxis\":{\"gridcolor\":\"white\",\"linecolor\":\"white\",\"ticks\":\"\"}},\"title\":{\"x\":0.05},\"xaxis\":{\"automargin\":true,\"gridcolor\":\"white\",\"linecolor\":\"white\",\"ticks\":\"\",\"title\":{\"standoff\":15},\"zerolinecolor\":\"white\",\"zerolinewidth\":2},\"yaxis\":{\"automargin\":true,\"gridcolor\":\"white\",\"linecolor\":\"white\",\"ticks\":\"\",\"title\":{\"standoff\":15},\"zerolinecolor\":\"white\",\"zerolinewidth\":2}}},\"xaxis\":{\"anchor\":\"y\",\"domain\":[0.0,1.0],\"title\":{\"text\":\"MESES_COMO_CLIENTE\"}},\"yaxis\":{\"anchor\":\"x\",\"domain\":[0.0,1.0]},\"legend\":{\"tracegroupgap\":0},\"title\":{\"text\":\"Meses de permanencia del Cliente\"},\"violinmode\":\"group\"},                        {\"responsive\": true}                    ).then(function(){\n",
              "                            \n",
              "var gd = document.getElementById('10b77be9-c0a8-445f-93e6-3269042e2574');\n",
              "var x = new MutationObserver(function (mutations, observer) {{\n",
              "        var display = window.getComputedStyle(gd).display;\n",
              "        if (!display || display === 'none') {{\n",
              "            console.log([gd, 'removed!']);\n",
              "            Plotly.purge(gd);\n",
              "            observer.disconnect();\n",
              "        }}\n",
              "}});\n",
              "\n",
              "// Listen for the removal of the full notebook cells\n",
              "var notebookContainer = gd.closest('#notebook-container');\n",
              "if (notebookContainer) {{\n",
              "    x.observe(notebookContainer, {childList: true});\n",
              "}}\n",
              "\n",
              "// Listen for the clearing of the current output cell\n",
              "var outputEl = gd.closest('.output');\n",
              "if (outputEl) {{\n",
              "    x.observe(outputEl, {childList: true});\n",
              "}}\n",
              "\n",
              "                        })                };                            </script>        </div>\n",
              "</body>\n",
              "</html>"
            ]
          },
          "metadata": {}
        }
      ]
    },
    {
      "cell_type": "markdown",
      "source": [
        "### - TIENE TELEFONIA"
      ],
      "metadata": {
        "id": "KdiZmoiTaR3S"
      }
    },
    {
      "cell_type": "code",
      "source": [
        "tabla_describe_pl=DF.groupby([\"TIENE_TELEFONIA\"]).size()\n",
        "tabla_describe_pl= tabla_describe_pl.reset_index(name=\"conteo\")\n",
        "fig= px.pie(tabla_describe_pl, values = \"conteo\", names = \"TIENE_TELEFONIA\", \n",
        "            title= \"El cliente Tiene servicio de telefonia activo\")\n",
        "fig.show()"
      ],
      "metadata": {
        "colab": {
          "base_uri": "https://localhost:8080/",
          "height": 542
        },
        "id": "VC0Ti5jwvpIr",
        "outputId": "1fdd9adb-0b4f-4009-f8b7-fcddb10399f5"
      },
      "execution_count": 102,
      "outputs": [
        {
          "output_type": "display_data",
          "data": {
            "text/html": [
              "<html>\n",
              "<head><meta charset=\"utf-8\" /></head>\n",
              "<body>\n",
              "    <div>            <script src=\"https://cdnjs.cloudflare.com/ajax/libs/mathjax/2.7.5/MathJax.js?config=TeX-AMS-MML_SVG\"></script><script type=\"text/javascript\">if (window.MathJax) {MathJax.Hub.Config({SVG: {font: \"STIX-Web\"}});}</script>                <script type=\"text/javascript\">window.PlotlyConfig = {MathJaxConfig: 'local'};</script>\n",
              "        <script src=\"https://cdn.plot.ly/plotly-2.8.3.min.js\"></script>                <div id=\"c4b5ff92-b8d8-4b46-9672-846ed630821b\" class=\"plotly-graph-div\" style=\"height:525px; width:100%;\"></div>            <script type=\"text/javascript\">                                    window.PLOTLYENV=window.PLOTLYENV || {};                                    if (document.getElementById(\"c4b5ff92-b8d8-4b46-9672-846ed630821b\")) {                    Plotly.newPlot(                        \"c4b5ff92-b8d8-4b46-9672-846ed630821b\",                        [{\"domain\":{\"x\":[0.0,1.0],\"y\":[0.0,1.0]},\"hovertemplate\":\"TIENE_TELEFONIA=%{label}<br>conteo=%{value}<extra></extra>\",\"labels\":[\"No\",\"Yes\"],\"legendgroup\":\"\",\"name\":\"\",\"showlegend\":true,\"values\":[682,6361],\"type\":\"pie\"}],                        {\"template\":{\"data\":{\"bar\":[{\"error_x\":{\"color\":\"#2a3f5f\"},\"error_y\":{\"color\":\"#2a3f5f\"},\"marker\":{\"line\":{\"color\":\"#E5ECF6\",\"width\":0.5},\"pattern\":{\"fillmode\":\"overlay\",\"size\":10,\"solidity\":0.2}},\"type\":\"bar\"}],\"barpolar\":[{\"marker\":{\"line\":{\"color\":\"#E5ECF6\",\"width\":0.5},\"pattern\":{\"fillmode\":\"overlay\",\"size\":10,\"solidity\":0.2}},\"type\":\"barpolar\"}],\"carpet\":[{\"aaxis\":{\"endlinecolor\":\"#2a3f5f\",\"gridcolor\":\"white\",\"linecolor\":\"white\",\"minorgridcolor\":\"white\",\"startlinecolor\":\"#2a3f5f\"},\"baxis\":{\"endlinecolor\":\"#2a3f5f\",\"gridcolor\":\"white\",\"linecolor\":\"white\",\"minorgridcolor\":\"white\",\"startlinecolor\":\"#2a3f5f\"},\"type\":\"carpet\"}],\"choropleth\":[{\"colorbar\":{\"outlinewidth\":0,\"ticks\":\"\"},\"type\":\"choropleth\"}],\"contour\":[{\"colorbar\":{\"outlinewidth\":0,\"ticks\":\"\"},\"colorscale\":[[0.0,\"#0d0887\"],[0.1111111111111111,\"#46039f\"],[0.2222222222222222,\"#7201a8\"],[0.3333333333333333,\"#9c179e\"],[0.4444444444444444,\"#bd3786\"],[0.5555555555555556,\"#d8576b\"],[0.6666666666666666,\"#ed7953\"],[0.7777777777777778,\"#fb9f3a\"],[0.8888888888888888,\"#fdca26\"],[1.0,\"#f0f921\"]],\"type\":\"contour\"}],\"contourcarpet\":[{\"colorbar\":{\"outlinewidth\":0,\"ticks\":\"\"},\"type\":\"contourcarpet\"}],\"heatmap\":[{\"colorbar\":{\"outlinewidth\":0,\"ticks\":\"\"},\"colorscale\":[[0.0,\"#0d0887\"],[0.1111111111111111,\"#46039f\"],[0.2222222222222222,\"#7201a8\"],[0.3333333333333333,\"#9c179e\"],[0.4444444444444444,\"#bd3786\"],[0.5555555555555556,\"#d8576b\"],[0.6666666666666666,\"#ed7953\"],[0.7777777777777778,\"#fb9f3a\"],[0.8888888888888888,\"#fdca26\"],[1.0,\"#f0f921\"]],\"type\":\"heatmap\"}],\"heatmapgl\":[{\"colorbar\":{\"outlinewidth\":0,\"ticks\":\"\"},\"colorscale\":[[0.0,\"#0d0887\"],[0.1111111111111111,\"#46039f\"],[0.2222222222222222,\"#7201a8\"],[0.3333333333333333,\"#9c179e\"],[0.4444444444444444,\"#bd3786\"],[0.5555555555555556,\"#d8576b\"],[0.6666666666666666,\"#ed7953\"],[0.7777777777777778,\"#fb9f3a\"],[0.8888888888888888,\"#fdca26\"],[1.0,\"#f0f921\"]],\"type\":\"heatmapgl\"}],\"histogram\":[{\"marker\":{\"pattern\":{\"fillmode\":\"overlay\",\"size\":10,\"solidity\":0.2}},\"type\":\"histogram\"}],\"histogram2d\":[{\"colorbar\":{\"outlinewidth\":0,\"ticks\":\"\"},\"colorscale\":[[0.0,\"#0d0887\"],[0.1111111111111111,\"#46039f\"],[0.2222222222222222,\"#7201a8\"],[0.3333333333333333,\"#9c179e\"],[0.4444444444444444,\"#bd3786\"],[0.5555555555555556,\"#d8576b\"],[0.6666666666666666,\"#ed7953\"],[0.7777777777777778,\"#fb9f3a\"],[0.8888888888888888,\"#fdca26\"],[1.0,\"#f0f921\"]],\"type\":\"histogram2d\"}],\"histogram2dcontour\":[{\"colorbar\":{\"outlinewidth\":0,\"ticks\":\"\"},\"colorscale\":[[0.0,\"#0d0887\"],[0.1111111111111111,\"#46039f\"],[0.2222222222222222,\"#7201a8\"],[0.3333333333333333,\"#9c179e\"],[0.4444444444444444,\"#bd3786\"],[0.5555555555555556,\"#d8576b\"],[0.6666666666666666,\"#ed7953\"],[0.7777777777777778,\"#fb9f3a\"],[0.8888888888888888,\"#fdca26\"],[1.0,\"#f0f921\"]],\"type\":\"histogram2dcontour\"}],\"mesh3d\":[{\"colorbar\":{\"outlinewidth\":0,\"ticks\":\"\"},\"type\":\"mesh3d\"}],\"parcoords\":[{\"line\":{\"colorbar\":{\"outlinewidth\":0,\"ticks\":\"\"}},\"type\":\"parcoords\"}],\"pie\":[{\"automargin\":true,\"type\":\"pie\"}],\"scatter\":[{\"marker\":{\"colorbar\":{\"outlinewidth\":0,\"ticks\":\"\"}},\"type\":\"scatter\"}],\"scatter3d\":[{\"line\":{\"colorbar\":{\"outlinewidth\":0,\"ticks\":\"\"}},\"marker\":{\"colorbar\":{\"outlinewidth\":0,\"ticks\":\"\"}},\"type\":\"scatter3d\"}],\"scattercarpet\":[{\"marker\":{\"colorbar\":{\"outlinewidth\":0,\"ticks\":\"\"}},\"type\":\"scattercarpet\"}],\"scattergeo\":[{\"marker\":{\"colorbar\":{\"outlinewidth\":0,\"ticks\":\"\"}},\"type\":\"scattergeo\"}],\"scattergl\":[{\"marker\":{\"colorbar\":{\"outlinewidth\":0,\"ticks\":\"\"}},\"type\":\"scattergl\"}],\"scattermapbox\":[{\"marker\":{\"colorbar\":{\"outlinewidth\":0,\"ticks\":\"\"}},\"type\":\"scattermapbox\"}],\"scatterpolar\":[{\"marker\":{\"colorbar\":{\"outlinewidth\":0,\"ticks\":\"\"}},\"type\":\"scatterpolar\"}],\"scatterpolargl\":[{\"marker\":{\"colorbar\":{\"outlinewidth\":0,\"ticks\":\"\"}},\"type\":\"scatterpolargl\"}],\"scatterternary\":[{\"marker\":{\"colorbar\":{\"outlinewidth\":0,\"ticks\":\"\"}},\"type\":\"scatterternary\"}],\"surface\":[{\"colorbar\":{\"outlinewidth\":0,\"ticks\":\"\"},\"colorscale\":[[0.0,\"#0d0887\"],[0.1111111111111111,\"#46039f\"],[0.2222222222222222,\"#7201a8\"],[0.3333333333333333,\"#9c179e\"],[0.4444444444444444,\"#bd3786\"],[0.5555555555555556,\"#d8576b\"],[0.6666666666666666,\"#ed7953\"],[0.7777777777777778,\"#fb9f3a\"],[0.8888888888888888,\"#fdca26\"],[1.0,\"#f0f921\"]],\"type\":\"surface\"}],\"table\":[{\"cells\":{\"fill\":{\"color\":\"#EBF0F8\"},\"line\":{\"color\":\"white\"}},\"header\":{\"fill\":{\"color\":\"#C8D4E3\"},\"line\":{\"color\":\"white\"}},\"type\":\"table\"}]},\"layout\":{\"annotationdefaults\":{\"arrowcolor\":\"#2a3f5f\",\"arrowhead\":0,\"arrowwidth\":1},\"autotypenumbers\":\"strict\",\"coloraxis\":{\"colorbar\":{\"outlinewidth\":0,\"ticks\":\"\"}},\"colorscale\":{\"diverging\":[[0,\"#8e0152\"],[0.1,\"#c51b7d\"],[0.2,\"#de77ae\"],[0.3,\"#f1b6da\"],[0.4,\"#fde0ef\"],[0.5,\"#f7f7f7\"],[0.6,\"#e6f5d0\"],[0.7,\"#b8e186\"],[0.8,\"#7fbc41\"],[0.9,\"#4d9221\"],[1,\"#276419\"]],\"sequential\":[[0.0,\"#0d0887\"],[0.1111111111111111,\"#46039f\"],[0.2222222222222222,\"#7201a8\"],[0.3333333333333333,\"#9c179e\"],[0.4444444444444444,\"#bd3786\"],[0.5555555555555556,\"#d8576b\"],[0.6666666666666666,\"#ed7953\"],[0.7777777777777778,\"#fb9f3a\"],[0.8888888888888888,\"#fdca26\"],[1.0,\"#f0f921\"]],\"sequentialminus\":[[0.0,\"#0d0887\"],[0.1111111111111111,\"#46039f\"],[0.2222222222222222,\"#7201a8\"],[0.3333333333333333,\"#9c179e\"],[0.4444444444444444,\"#bd3786\"],[0.5555555555555556,\"#d8576b\"],[0.6666666666666666,\"#ed7953\"],[0.7777777777777778,\"#fb9f3a\"],[0.8888888888888888,\"#fdca26\"],[1.0,\"#f0f921\"]]},\"colorway\":[\"#636efa\",\"#EF553B\",\"#00cc96\",\"#ab63fa\",\"#FFA15A\",\"#19d3f3\",\"#FF6692\",\"#B6E880\",\"#FF97FF\",\"#FECB52\"],\"font\":{\"color\":\"#2a3f5f\"},\"geo\":{\"bgcolor\":\"white\",\"lakecolor\":\"white\",\"landcolor\":\"#E5ECF6\",\"showlakes\":true,\"showland\":true,\"subunitcolor\":\"white\"},\"hoverlabel\":{\"align\":\"left\"},\"hovermode\":\"closest\",\"mapbox\":{\"style\":\"light\"},\"paper_bgcolor\":\"white\",\"plot_bgcolor\":\"#E5ECF6\",\"polar\":{\"angularaxis\":{\"gridcolor\":\"white\",\"linecolor\":\"white\",\"ticks\":\"\"},\"bgcolor\":\"#E5ECF6\",\"radialaxis\":{\"gridcolor\":\"white\",\"linecolor\":\"white\",\"ticks\":\"\"}},\"scene\":{\"xaxis\":{\"backgroundcolor\":\"#E5ECF6\",\"gridcolor\":\"white\",\"gridwidth\":2,\"linecolor\":\"white\",\"showbackground\":true,\"ticks\":\"\",\"zerolinecolor\":\"white\"},\"yaxis\":{\"backgroundcolor\":\"#E5ECF6\",\"gridcolor\":\"white\",\"gridwidth\":2,\"linecolor\":\"white\",\"showbackground\":true,\"ticks\":\"\",\"zerolinecolor\":\"white\"},\"zaxis\":{\"backgroundcolor\":\"#E5ECF6\",\"gridcolor\":\"white\",\"gridwidth\":2,\"linecolor\":\"white\",\"showbackground\":true,\"ticks\":\"\",\"zerolinecolor\":\"white\"}},\"shapedefaults\":{\"line\":{\"color\":\"#2a3f5f\"}},\"ternary\":{\"aaxis\":{\"gridcolor\":\"white\",\"linecolor\":\"white\",\"ticks\":\"\"},\"baxis\":{\"gridcolor\":\"white\",\"linecolor\":\"white\",\"ticks\":\"\"},\"bgcolor\":\"#E5ECF6\",\"caxis\":{\"gridcolor\":\"white\",\"linecolor\":\"white\",\"ticks\":\"\"}},\"title\":{\"x\":0.05},\"xaxis\":{\"automargin\":true,\"gridcolor\":\"white\",\"linecolor\":\"white\",\"ticks\":\"\",\"title\":{\"standoff\":15},\"zerolinecolor\":\"white\",\"zerolinewidth\":2},\"yaxis\":{\"automargin\":true,\"gridcolor\":\"white\",\"linecolor\":\"white\",\"ticks\":\"\",\"title\":{\"standoff\":15},\"zerolinecolor\":\"white\",\"zerolinewidth\":2}}},\"legend\":{\"tracegroupgap\":0},\"title\":{\"text\":\"El cliente Tiene servicio de telefonia activo\"}},                        {\"responsive\": true}                    ).then(function(){\n",
              "                            \n",
              "var gd = document.getElementById('c4b5ff92-b8d8-4b46-9672-846ed630821b');\n",
              "var x = new MutationObserver(function (mutations, observer) {{\n",
              "        var display = window.getComputedStyle(gd).display;\n",
              "        if (!display || display === 'none') {{\n",
              "            console.log([gd, 'removed!']);\n",
              "            Plotly.purge(gd);\n",
              "            observer.disconnect();\n",
              "        }}\n",
              "}});\n",
              "\n",
              "// Listen for the removal of the full notebook cells\n",
              "var notebookContainer = gd.closest('#notebook-container');\n",
              "if (notebookContainer) {{\n",
              "    x.observe(notebookContainer, {childList: true});\n",
              "}}\n",
              "\n",
              "// Listen for the clearing of the current output cell\n",
              "var outputEl = gd.closest('.output');\n",
              "if (outputEl) {{\n",
              "    x.observe(outputEl, {childList: true});\n",
              "}}\n",
              "\n",
              "                        })                };                            </script>        </div>\n",
              "</body>\n",
              "</html>"
            ]
          },
          "metadata": {}
        }
      ]
    },
    {
      "cell_type": "markdown",
      "source": [
        "### - VARIAS LINEAS"
      ],
      "metadata": {
        "id": "ym58CyEk3Ujm"
      }
    },
    {
      "cell_type": "code",
      "source": [
        "tabla_describe_pl=DF.groupby([\"VARIAS_LINEAS\"]).size()\n",
        "tabla_describe_pl= tabla_describe_pl.reset_index(name=\"conteo\")\n",
        "fig= px.pie(tabla_describe_pl, values = \"conteo\", names = \"VARIAS_LINEAS\", \n",
        "            title= \"El cliente Tiene  Varias lineas de Telefonia\")\n",
        "fig.show()"
      ],
      "metadata": {
        "colab": {
          "base_uri": "https://localhost:8080/",
          "height": 542
        },
        "id": "UlZvDaOt56Bx",
        "outputId": "cc7b0e6e-f3c6-4057-e5b0-5884626dbdfa"
      },
      "execution_count": 103,
      "outputs": [
        {
          "output_type": "display_data",
          "data": {
            "text/html": [
              "<html>\n",
              "<head><meta charset=\"utf-8\" /></head>\n",
              "<body>\n",
              "    <div>            <script src=\"https://cdnjs.cloudflare.com/ajax/libs/mathjax/2.7.5/MathJax.js?config=TeX-AMS-MML_SVG\"></script><script type=\"text/javascript\">if (window.MathJax) {MathJax.Hub.Config({SVG: {font: \"STIX-Web\"}});}</script>                <script type=\"text/javascript\">window.PlotlyConfig = {MathJaxConfig: 'local'};</script>\n",
              "        <script src=\"https://cdn.plot.ly/plotly-2.8.3.min.js\"></script>                <div id=\"e996b77b-cee0-43e5-8bbb-52c1b8fc1c72\" class=\"plotly-graph-div\" style=\"height:525px; width:100%;\"></div>            <script type=\"text/javascript\">                                    window.PLOTLYENV=window.PLOTLYENV || {};                                    if (document.getElementById(\"e996b77b-cee0-43e5-8bbb-52c1b8fc1c72\")) {                    Plotly.newPlot(                        \"e996b77b-cee0-43e5-8bbb-52c1b8fc1c72\",                        [{\"domain\":{\"x\":[0.0,1.0],\"y\":[0.0,1.0]},\"hovertemplate\":\"VARIAS_LINEAS=%{label}<br>conteo=%{value}<extra></extra>\",\"labels\":[\"No\",\"No phone service\",\"Yes\"],\"legendgroup\":\"\",\"name\":\"\",\"showlegend\":true,\"values\":[3390,682,2971],\"type\":\"pie\"}],                        {\"template\":{\"data\":{\"bar\":[{\"error_x\":{\"color\":\"#2a3f5f\"},\"error_y\":{\"color\":\"#2a3f5f\"},\"marker\":{\"line\":{\"color\":\"#E5ECF6\",\"width\":0.5},\"pattern\":{\"fillmode\":\"overlay\",\"size\":10,\"solidity\":0.2}},\"type\":\"bar\"}],\"barpolar\":[{\"marker\":{\"line\":{\"color\":\"#E5ECF6\",\"width\":0.5},\"pattern\":{\"fillmode\":\"overlay\",\"size\":10,\"solidity\":0.2}},\"type\":\"barpolar\"}],\"carpet\":[{\"aaxis\":{\"endlinecolor\":\"#2a3f5f\",\"gridcolor\":\"white\",\"linecolor\":\"white\",\"minorgridcolor\":\"white\",\"startlinecolor\":\"#2a3f5f\"},\"baxis\":{\"endlinecolor\":\"#2a3f5f\",\"gridcolor\":\"white\",\"linecolor\":\"white\",\"minorgridcolor\":\"white\",\"startlinecolor\":\"#2a3f5f\"},\"type\":\"carpet\"}],\"choropleth\":[{\"colorbar\":{\"outlinewidth\":0,\"ticks\":\"\"},\"type\":\"choropleth\"}],\"contour\":[{\"colorbar\":{\"outlinewidth\":0,\"ticks\":\"\"},\"colorscale\":[[0.0,\"#0d0887\"],[0.1111111111111111,\"#46039f\"],[0.2222222222222222,\"#7201a8\"],[0.3333333333333333,\"#9c179e\"],[0.4444444444444444,\"#bd3786\"],[0.5555555555555556,\"#d8576b\"],[0.6666666666666666,\"#ed7953\"],[0.7777777777777778,\"#fb9f3a\"],[0.8888888888888888,\"#fdca26\"],[1.0,\"#f0f921\"]],\"type\":\"contour\"}],\"contourcarpet\":[{\"colorbar\":{\"outlinewidth\":0,\"ticks\":\"\"},\"type\":\"contourcarpet\"}],\"heatmap\":[{\"colorbar\":{\"outlinewidth\":0,\"ticks\":\"\"},\"colorscale\":[[0.0,\"#0d0887\"],[0.1111111111111111,\"#46039f\"],[0.2222222222222222,\"#7201a8\"],[0.3333333333333333,\"#9c179e\"],[0.4444444444444444,\"#bd3786\"],[0.5555555555555556,\"#d8576b\"],[0.6666666666666666,\"#ed7953\"],[0.7777777777777778,\"#fb9f3a\"],[0.8888888888888888,\"#fdca26\"],[1.0,\"#f0f921\"]],\"type\":\"heatmap\"}],\"heatmapgl\":[{\"colorbar\":{\"outlinewidth\":0,\"ticks\":\"\"},\"colorscale\":[[0.0,\"#0d0887\"],[0.1111111111111111,\"#46039f\"],[0.2222222222222222,\"#7201a8\"],[0.3333333333333333,\"#9c179e\"],[0.4444444444444444,\"#bd3786\"],[0.5555555555555556,\"#d8576b\"],[0.6666666666666666,\"#ed7953\"],[0.7777777777777778,\"#fb9f3a\"],[0.8888888888888888,\"#fdca26\"],[1.0,\"#f0f921\"]],\"type\":\"heatmapgl\"}],\"histogram\":[{\"marker\":{\"pattern\":{\"fillmode\":\"overlay\",\"size\":10,\"solidity\":0.2}},\"type\":\"histogram\"}],\"histogram2d\":[{\"colorbar\":{\"outlinewidth\":0,\"ticks\":\"\"},\"colorscale\":[[0.0,\"#0d0887\"],[0.1111111111111111,\"#46039f\"],[0.2222222222222222,\"#7201a8\"],[0.3333333333333333,\"#9c179e\"],[0.4444444444444444,\"#bd3786\"],[0.5555555555555556,\"#d8576b\"],[0.6666666666666666,\"#ed7953\"],[0.7777777777777778,\"#fb9f3a\"],[0.8888888888888888,\"#fdca26\"],[1.0,\"#f0f921\"]],\"type\":\"histogram2d\"}],\"histogram2dcontour\":[{\"colorbar\":{\"outlinewidth\":0,\"ticks\":\"\"},\"colorscale\":[[0.0,\"#0d0887\"],[0.1111111111111111,\"#46039f\"],[0.2222222222222222,\"#7201a8\"],[0.3333333333333333,\"#9c179e\"],[0.4444444444444444,\"#bd3786\"],[0.5555555555555556,\"#d8576b\"],[0.6666666666666666,\"#ed7953\"],[0.7777777777777778,\"#fb9f3a\"],[0.8888888888888888,\"#fdca26\"],[1.0,\"#f0f921\"]],\"type\":\"histogram2dcontour\"}],\"mesh3d\":[{\"colorbar\":{\"outlinewidth\":0,\"ticks\":\"\"},\"type\":\"mesh3d\"}],\"parcoords\":[{\"line\":{\"colorbar\":{\"outlinewidth\":0,\"ticks\":\"\"}},\"type\":\"parcoords\"}],\"pie\":[{\"automargin\":true,\"type\":\"pie\"}],\"scatter\":[{\"marker\":{\"colorbar\":{\"outlinewidth\":0,\"ticks\":\"\"}},\"type\":\"scatter\"}],\"scatter3d\":[{\"line\":{\"colorbar\":{\"outlinewidth\":0,\"ticks\":\"\"}},\"marker\":{\"colorbar\":{\"outlinewidth\":0,\"ticks\":\"\"}},\"type\":\"scatter3d\"}],\"scattercarpet\":[{\"marker\":{\"colorbar\":{\"outlinewidth\":0,\"ticks\":\"\"}},\"type\":\"scattercarpet\"}],\"scattergeo\":[{\"marker\":{\"colorbar\":{\"outlinewidth\":0,\"ticks\":\"\"}},\"type\":\"scattergeo\"}],\"scattergl\":[{\"marker\":{\"colorbar\":{\"outlinewidth\":0,\"ticks\":\"\"}},\"type\":\"scattergl\"}],\"scattermapbox\":[{\"marker\":{\"colorbar\":{\"outlinewidth\":0,\"ticks\":\"\"}},\"type\":\"scattermapbox\"}],\"scatterpolar\":[{\"marker\":{\"colorbar\":{\"outlinewidth\":0,\"ticks\":\"\"}},\"type\":\"scatterpolar\"}],\"scatterpolargl\":[{\"marker\":{\"colorbar\":{\"outlinewidth\":0,\"ticks\":\"\"}},\"type\":\"scatterpolargl\"}],\"scatterternary\":[{\"marker\":{\"colorbar\":{\"outlinewidth\":0,\"ticks\":\"\"}},\"type\":\"scatterternary\"}],\"surface\":[{\"colorbar\":{\"outlinewidth\":0,\"ticks\":\"\"},\"colorscale\":[[0.0,\"#0d0887\"],[0.1111111111111111,\"#46039f\"],[0.2222222222222222,\"#7201a8\"],[0.3333333333333333,\"#9c179e\"],[0.4444444444444444,\"#bd3786\"],[0.5555555555555556,\"#d8576b\"],[0.6666666666666666,\"#ed7953\"],[0.7777777777777778,\"#fb9f3a\"],[0.8888888888888888,\"#fdca26\"],[1.0,\"#f0f921\"]],\"type\":\"surface\"}],\"table\":[{\"cells\":{\"fill\":{\"color\":\"#EBF0F8\"},\"line\":{\"color\":\"white\"}},\"header\":{\"fill\":{\"color\":\"#C8D4E3\"},\"line\":{\"color\":\"white\"}},\"type\":\"table\"}]},\"layout\":{\"annotationdefaults\":{\"arrowcolor\":\"#2a3f5f\",\"arrowhead\":0,\"arrowwidth\":1},\"autotypenumbers\":\"strict\",\"coloraxis\":{\"colorbar\":{\"outlinewidth\":0,\"ticks\":\"\"}},\"colorscale\":{\"diverging\":[[0,\"#8e0152\"],[0.1,\"#c51b7d\"],[0.2,\"#de77ae\"],[0.3,\"#f1b6da\"],[0.4,\"#fde0ef\"],[0.5,\"#f7f7f7\"],[0.6,\"#e6f5d0\"],[0.7,\"#b8e186\"],[0.8,\"#7fbc41\"],[0.9,\"#4d9221\"],[1,\"#276419\"]],\"sequential\":[[0.0,\"#0d0887\"],[0.1111111111111111,\"#46039f\"],[0.2222222222222222,\"#7201a8\"],[0.3333333333333333,\"#9c179e\"],[0.4444444444444444,\"#bd3786\"],[0.5555555555555556,\"#d8576b\"],[0.6666666666666666,\"#ed7953\"],[0.7777777777777778,\"#fb9f3a\"],[0.8888888888888888,\"#fdca26\"],[1.0,\"#f0f921\"]],\"sequentialminus\":[[0.0,\"#0d0887\"],[0.1111111111111111,\"#46039f\"],[0.2222222222222222,\"#7201a8\"],[0.3333333333333333,\"#9c179e\"],[0.4444444444444444,\"#bd3786\"],[0.5555555555555556,\"#d8576b\"],[0.6666666666666666,\"#ed7953\"],[0.7777777777777778,\"#fb9f3a\"],[0.8888888888888888,\"#fdca26\"],[1.0,\"#f0f921\"]]},\"colorway\":[\"#636efa\",\"#EF553B\",\"#00cc96\",\"#ab63fa\",\"#FFA15A\",\"#19d3f3\",\"#FF6692\",\"#B6E880\",\"#FF97FF\",\"#FECB52\"],\"font\":{\"color\":\"#2a3f5f\"},\"geo\":{\"bgcolor\":\"white\",\"lakecolor\":\"white\",\"landcolor\":\"#E5ECF6\",\"showlakes\":true,\"showland\":true,\"subunitcolor\":\"white\"},\"hoverlabel\":{\"align\":\"left\"},\"hovermode\":\"closest\",\"mapbox\":{\"style\":\"light\"},\"paper_bgcolor\":\"white\",\"plot_bgcolor\":\"#E5ECF6\",\"polar\":{\"angularaxis\":{\"gridcolor\":\"white\",\"linecolor\":\"white\",\"ticks\":\"\"},\"bgcolor\":\"#E5ECF6\",\"radialaxis\":{\"gridcolor\":\"white\",\"linecolor\":\"white\",\"ticks\":\"\"}},\"scene\":{\"xaxis\":{\"backgroundcolor\":\"#E5ECF6\",\"gridcolor\":\"white\",\"gridwidth\":2,\"linecolor\":\"white\",\"showbackground\":true,\"ticks\":\"\",\"zerolinecolor\":\"white\"},\"yaxis\":{\"backgroundcolor\":\"#E5ECF6\",\"gridcolor\":\"white\",\"gridwidth\":2,\"linecolor\":\"white\",\"showbackground\":true,\"ticks\":\"\",\"zerolinecolor\":\"white\"},\"zaxis\":{\"backgroundcolor\":\"#E5ECF6\",\"gridcolor\":\"white\",\"gridwidth\":2,\"linecolor\":\"white\",\"showbackground\":true,\"ticks\":\"\",\"zerolinecolor\":\"white\"}},\"shapedefaults\":{\"line\":{\"color\":\"#2a3f5f\"}},\"ternary\":{\"aaxis\":{\"gridcolor\":\"white\",\"linecolor\":\"white\",\"ticks\":\"\"},\"baxis\":{\"gridcolor\":\"white\",\"linecolor\":\"white\",\"ticks\":\"\"},\"bgcolor\":\"#E5ECF6\",\"caxis\":{\"gridcolor\":\"white\",\"linecolor\":\"white\",\"ticks\":\"\"}},\"title\":{\"x\":0.05},\"xaxis\":{\"automargin\":true,\"gridcolor\":\"white\",\"linecolor\":\"white\",\"ticks\":\"\",\"title\":{\"standoff\":15},\"zerolinecolor\":\"white\",\"zerolinewidth\":2},\"yaxis\":{\"automargin\":true,\"gridcolor\":\"white\",\"linecolor\":\"white\",\"ticks\":\"\",\"title\":{\"standoff\":15},\"zerolinecolor\":\"white\",\"zerolinewidth\":2}}},\"legend\":{\"tracegroupgap\":0},\"title\":{\"text\":\"El cliente Tiene  Varias lineas de Telefonia\"}},                        {\"responsive\": true}                    ).then(function(){\n",
              "                            \n",
              "var gd = document.getElementById('e996b77b-cee0-43e5-8bbb-52c1b8fc1c72');\n",
              "var x = new MutationObserver(function (mutations, observer) {{\n",
              "        var display = window.getComputedStyle(gd).display;\n",
              "        if (!display || display === 'none') {{\n",
              "            console.log([gd, 'removed!']);\n",
              "            Plotly.purge(gd);\n",
              "            observer.disconnect();\n",
              "        }}\n",
              "}});\n",
              "\n",
              "// Listen for the removal of the full notebook cells\n",
              "var notebookContainer = gd.closest('#notebook-container');\n",
              "if (notebookContainer) {{\n",
              "    x.observe(notebookContainer, {childList: true});\n",
              "}}\n",
              "\n",
              "// Listen for the clearing of the current output cell\n",
              "var outputEl = gd.closest('.output');\n",
              "if (outputEl) {{\n",
              "    x.observe(outputEl, {childList: true});\n",
              "}}\n",
              "\n",
              "                        })                };                            </script>        </div>\n",
              "</body>\n",
              "</html>"
            ]
          },
          "metadata": {}
        }
      ]
    },
    {
      "cell_type": "markdown",
      "source": [
        "### - TIPO INTERNET"
      ],
      "metadata": {
        "id": "s8lkoWLy6PZW"
      }
    },
    {
      "cell_type": "code",
      "source": [
        "tabla_describe_pl=DF.groupby([\"TIPO_INTERNET\"]).size()\n",
        "tabla_describe_pl= tabla_describe_pl.reset_index(name=\"conteo\")\n",
        "fig= px.bar(tabla_describe_pl, y = \"conteo\", x = \"TIPO_INTERNET\", \n",
        "            title= \"Tipo De internet del usuario\", color = \"TIPO_INTERNET\", text = \"conteo\")\n",
        "fig.show()"
      ],
      "metadata": {
        "colab": {
          "base_uri": "https://localhost:8080/",
          "height": 542
        },
        "id": "m4liCYAv6Ya7",
        "outputId": "5d8cc43f-e736-4fd1-a058-21f8d3c3fe27"
      },
      "execution_count": 104,
      "outputs": [
        {
          "output_type": "display_data",
          "data": {
            "text/html": [
              "<html>\n",
              "<head><meta charset=\"utf-8\" /></head>\n",
              "<body>\n",
              "    <div>            <script src=\"https://cdnjs.cloudflare.com/ajax/libs/mathjax/2.7.5/MathJax.js?config=TeX-AMS-MML_SVG\"></script><script type=\"text/javascript\">if (window.MathJax) {MathJax.Hub.Config({SVG: {font: \"STIX-Web\"}});}</script>                <script type=\"text/javascript\">window.PlotlyConfig = {MathJaxConfig: 'local'};</script>\n",
              "        <script src=\"https://cdn.plot.ly/plotly-2.8.3.min.js\"></script>                <div id=\"1103349f-40a1-4e3b-8094-6d0833570ea1\" class=\"plotly-graph-div\" style=\"height:525px; width:100%;\"></div>            <script type=\"text/javascript\">                                    window.PLOTLYENV=window.PLOTLYENV || {};                                    if (document.getElementById(\"1103349f-40a1-4e3b-8094-6d0833570ea1\")) {                    Plotly.newPlot(                        \"1103349f-40a1-4e3b-8094-6d0833570ea1\",                        [{\"alignmentgroup\":\"True\",\"hovertemplate\":\"TIPO_INTERNET=%{x}<br>conteo=%{text}<extra></extra>\",\"legendgroup\":\"DSL\",\"marker\":{\"color\":\"#636efa\",\"pattern\":{\"shape\":\"\"}},\"name\":\"DSL\",\"offsetgroup\":\"DSL\",\"orientation\":\"v\",\"showlegend\":true,\"text\":[2421.0],\"textposition\":\"auto\",\"x\":[\"DSL\"],\"xaxis\":\"x\",\"y\":[2421],\"yaxis\":\"y\",\"type\":\"bar\"},{\"alignmentgroup\":\"True\",\"hovertemplate\":\"TIPO_INTERNET=%{x}<br>conteo=%{text}<extra></extra>\",\"legendgroup\":\"Fiber optic\",\"marker\":{\"color\":\"#EF553B\",\"pattern\":{\"shape\":\"\"}},\"name\":\"Fiber optic\",\"offsetgroup\":\"Fiber optic\",\"orientation\":\"v\",\"showlegend\":true,\"text\":[3096.0],\"textposition\":\"auto\",\"x\":[\"Fiber optic\"],\"xaxis\":\"x\",\"y\":[3096],\"yaxis\":\"y\",\"type\":\"bar\"},{\"alignmentgroup\":\"True\",\"hovertemplate\":\"TIPO_INTERNET=%{x}<br>conteo=%{text}<extra></extra>\",\"legendgroup\":\"No\",\"marker\":{\"color\":\"#00cc96\",\"pattern\":{\"shape\":\"\"}},\"name\":\"No\",\"offsetgroup\":\"No\",\"orientation\":\"v\",\"showlegend\":true,\"text\":[1526.0],\"textposition\":\"auto\",\"x\":[\"No\"],\"xaxis\":\"x\",\"y\":[1526],\"yaxis\":\"y\",\"type\":\"bar\"}],                        {\"template\":{\"data\":{\"bar\":[{\"error_x\":{\"color\":\"#2a3f5f\"},\"error_y\":{\"color\":\"#2a3f5f\"},\"marker\":{\"line\":{\"color\":\"#E5ECF6\",\"width\":0.5},\"pattern\":{\"fillmode\":\"overlay\",\"size\":10,\"solidity\":0.2}},\"type\":\"bar\"}],\"barpolar\":[{\"marker\":{\"line\":{\"color\":\"#E5ECF6\",\"width\":0.5},\"pattern\":{\"fillmode\":\"overlay\",\"size\":10,\"solidity\":0.2}},\"type\":\"barpolar\"}],\"carpet\":[{\"aaxis\":{\"endlinecolor\":\"#2a3f5f\",\"gridcolor\":\"white\",\"linecolor\":\"white\",\"minorgridcolor\":\"white\",\"startlinecolor\":\"#2a3f5f\"},\"baxis\":{\"endlinecolor\":\"#2a3f5f\",\"gridcolor\":\"white\",\"linecolor\":\"white\",\"minorgridcolor\":\"white\",\"startlinecolor\":\"#2a3f5f\"},\"type\":\"carpet\"}],\"choropleth\":[{\"colorbar\":{\"outlinewidth\":0,\"ticks\":\"\"},\"type\":\"choropleth\"}],\"contour\":[{\"colorbar\":{\"outlinewidth\":0,\"ticks\":\"\"},\"colorscale\":[[0.0,\"#0d0887\"],[0.1111111111111111,\"#46039f\"],[0.2222222222222222,\"#7201a8\"],[0.3333333333333333,\"#9c179e\"],[0.4444444444444444,\"#bd3786\"],[0.5555555555555556,\"#d8576b\"],[0.6666666666666666,\"#ed7953\"],[0.7777777777777778,\"#fb9f3a\"],[0.8888888888888888,\"#fdca26\"],[1.0,\"#f0f921\"]],\"type\":\"contour\"}],\"contourcarpet\":[{\"colorbar\":{\"outlinewidth\":0,\"ticks\":\"\"},\"type\":\"contourcarpet\"}],\"heatmap\":[{\"colorbar\":{\"outlinewidth\":0,\"ticks\":\"\"},\"colorscale\":[[0.0,\"#0d0887\"],[0.1111111111111111,\"#46039f\"],[0.2222222222222222,\"#7201a8\"],[0.3333333333333333,\"#9c179e\"],[0.4444444444444444,\"#bd3786\"],[0.5555555555555556,\"#d8576b\"],[0.6666666666666666,\"#ed7953\"],[0.7777777777777778,\"#fb9f3a\"],[0.8888888888888888,\"#fdca26\"],[1.0,\"#f0f921\"]],\"type\":\"heatmap\"}],\"heatmapgl\":[{\"colorbar\":{\"outlinewidth\":0,\"ticks\":\"\"},\"colorscale\":[[0.0,\"#0d0887\"],[0.1111111111111111,\"#46039f\"],[0.2222222222222222,\"#7201a8\"],[0.3333333333333333,\"#9c179e\"],[0.4444444444444444,\"#bd3786\"],[0.5555555555555556,\"#d8576b\"],[0.6666666666666666,\"#ed7953\"],[0.7777777777777778,\"#fb9f3a\"],[0.8888888888888888,\"#fdca26\"],[1.0,\"#f0f921\"]],\"type\":\"heatmapgl\"}],\"histogram\":[{\"marker\":{\"pattern\":{\"fillmode\":\"overlay\",\"size\":10,\"solidity\":0.2}},\"type\":\"histogram\"}],\"histogram2d\":[{\"colorbar\":{\"outlinewidth\":0,\"ticks\":\"\"},\"colorscale\":[[0.0,\"#0d0887\"],[0.1111111111111111,\"#46039f\"],[0.2222222222222222,\"#7201a8\"],[0.3333333333333333,\"#9c179e\"],[0.4444444444444444,\"#bd3786\"],[0.5555555555555556,\"#d8576b\"],[0.6666666666666666,\"#ed7953\"],[0.7777777777777778,\"#fb9f3a\"],[0.8888888888888888,\"#fdca26\"],[1.0,\"#f0f921\"]],\"type\":\"histogram2d\"}],\"histogram2dcontour\":[{\"colorbar\":{\"outlinewidth\":0,\"ticks\":\"\"},\"colorscale\":[[0.0,\"#0d0887\"],[0.1111111111111111,\"#46039f\"],[0.2222222222222222,\"#7201a8\"],[0.3333333333333333,\"#9c179e\"],[0.4444444444444444,\"#bd3786\"],[0.5555555555555556,\"#d8576b\"],[0.6666666666666666,\"#ed7953\"],[0.7777777777777778,\"#fb9f3a\"],[0.8888888888888888,\"#fdca26\"],[1.0,\"#f0f921\"]],\"type\":\"histogram2dcontour\"}],\"mesh3d\":[{\"colorbar\":{\"outlinewidth\":0,\"ticks\":\"\"},\"type\":\"mesh3d\"}],\"parcoords\":[{\"line\":{\"colorbar\":{\"outlinewidth\":0,\"ticks\":\"\"}},\"type\":\"parcoords\"}],\"pie\":[{\"automargin\":true,\"type\":\"pie\"}],\"scatter\":[{\"marker\":{\"colorbar\":{\"outlinewidth\":0,\"ticks\":\"\"}},\"type\":\"scatter\"}],\"scatter3d\":[{\"line\":{\"colorbar\":{\"outlinewidth\":0,\"ticks\":\"\"}},\"marker\":{\"colorbar\":{\"outlinewidth\":0,\"ticks\":\"\"}},\"type\":\"scatter3d\"}],\"scattercarpet\":[{\"marker\":{\"colorbar\":{\"outlinewidth\":0,\"ticks\":\"\"}},\"type\":\"scattercarpet\"}],\"scattergeo\":[{\"marker\":{\"colorbar\":{\"outlinewidth\":0,\"ticks\":\"\"}},\"type\":\"scattergeo\"}],\"scattergl\":[{\"marker\":{\"colorbar\":{\"outlinewidth\":0,\"ticks\":\"\"}},\"type\":\"scattergl\"}],\"scattermapbox\":[{\"marker\":{\"colorbar\":{\"outlinewidth\":0,\"ticks\":\"\"}},\"type\":\"scattermapbox\"}],\"scatterpolar\":[{\"marker\":{\"colorbar\":{\"outlinewidth\":0,\"ticks\":\"\"}},\"type\":\"scatterpolar\"}],\"scatterpolargl\":[{\"marker\":{\"colorbar\":{\"outlinewidth\":0,\"ticks\":\"\"}},\"type\":\"scatterpolargl\"}],\"scatterternary\":[{\"marker\":{\"colorbar\":{\"outlinewidth\":0,\"ticks\":\"\"}},\"type\":\"scatterternary\"}],\"surface\":[{\"colorbar\":{\"outlinewidth\":0,\"ticks\":\"\"},\"colorscale\":[[0.0,\"#0d0887\"],[0.1111111111111111,\"#46039f\"],[0.2222222222222222,\"#7201a8\"],[0.3333333333333333,\"#9c179e\"],[0.4444444444444444,\"#bd3786\"],[0.5555555555555556,\"#d8576b\"],[0.6666666666666666,\"#ed7953\"],[0.7777777777777778,\"#fb9f3a\"],[0.8888888888888888,\"#fdca26\"],[1.0,\"#f0f921\"]],\"type\":\"surface\"}],\"table\":[{\"cells\":{\"fill\":{\"color\":\"#EBF0F8\"},\"line\":{\"color\":\"white\"}},\"header\":{\"fill\":{\"color\":\"#C8D4E3\"},\"line\":{\"color\":\"white\"}},\"type\":\"table\"}]},\"layout\":{\"annotationdefaults\":{\"arrowcolor\":\"#2a3f5f\",\"arrowhead\":0,\"arrowwidth\":1},\"autotypenumbers\":\"strict\",\"coloraxis\":{\"colorbar\":{\"outlinewidth\":0,\"ticks\":\"\"}},\"colorscale\":{\"diverging\":[[0,\"#8e0152\"],[0.1,\"#c51b7d\"],[0.2,\"#de77ae\"],[0.3,\"#f1b6da\"],[0.4,\"#fde0ef\"],[0.5,\"#f7f7f7\"],[0.6,\"#e6f5d0\"],[0.7,\"#b8e186\"],[0.8,\"#7fbc41\"],[0.9,\"#4d9221\"],[1,\"#276419\"]],\"sequential\":[[0.0,\"#0d0887\"],[0.1111111111111111,\"#46039f\"],[0.2222222222222222,\"#7201a8\"],[0.3333333333333333,\"#9c179e\"],[0.4444444444444444,\"#bd3786\"],[0.5555555555555556,\"#d8576b\"],[0.6666666666666666,\"#ed7953\"],[0.7777777777777778,\"#fb9f3a\"],[0.8888888888888888,\"#fdca26\"],[1.0,\"#f0f921\"]],\"sequentialminus\":[[0.0,\"#0d0887\"],[0.1111111111111111,\"#46039f\"],[0.2222222222222222,\"#7201a8\"],[0.3333333333333333,\"#9c179e\"],[0.4444444444444444,\"#bd3786\"],[0.5555555555555556,\"#d8576b\"],[0.6666666666666666,\"#ed7953\"],[0.7777777777777778,\"#fb9f3a\"],[0.8888888888888888,\"#fdca26\"],[1.0,\"#f0f921\"]]},\"colorway\":[\"#636efa\",\"#EF553B\",\"#00cc96\",\"#ab63fa\",\"#FFA15A\",\"#19d3f3\",\"#FF6692\",\"#B6E880\",\"#FF97FF\",\"#FECB52\"],\"font\":{\"color\":\"#2a3f5f\"},\"geo\":{\"bgcolor\":\"white\",\"lakecolor\":\"white\",\"landcolor\":\"#E5ECF6\",\"showlakes\":true,\"showland\":true,\"subunitcolor\":\"white\"},\"hoverlabel\":{\"align\":\"left\"},\"hovermode\":\"closest\",\"mapbox\":{\"style\":\"light\"},\"paper_bgcolor\":\"white\",\"plot_bgcolor\":\"#E5ECF6\",\"polar\":{\"angularaxis\":{\"gridcolor\":\"white\",\"linecolor\":\"white\",\"ticks\":\"\"},\"bgcolor\":\"#E5ECF6\",\"radialaxis\":{\"gridcolor\":\"white\",\"linecolor\":\"white\",\"ticks\":\"\"}},\"scene\":{\"xaxis\":{\"backgroundcolor\":\"#E5ECF6\",\"gridcolor\":\"white\",\"gridwidth\":2,\"linecolor\":\"white\",\"showbackground\":true,\"ticks\":\"\",\"zerolinecolor\":\"white\"},\"yaxis\":{\"backgroundcolor\":\"#E5ECF6\",\"gridcolor\":\"white\",\"gridwidth\":2,\"linecolor\":\"white\",\"showbackground\":true,\"ticks\":\"\",\"zerolinecolor\":\"white\"},\"zaxis\":{\"backgroundcolor\":\"#E5ECF6\",\"gridcolor\":\"white\",\"gridwidth\":2,\"linecolor\":\"white\",\"showbackground\":true,\"ticks\":\"\",\"zerolinecolor\":\"white\"}},\"shapedefaults\":{\"line\":{\"color\":\"#2a3f5f\"}},\"ternary\":{\"aaxis\":{\"gridcolor\":\"white\",\"linecolor\":\"white\",\"ticks\":\"\"},\"baxis\":{\"gridcolor\":\"white\",\"linecolor\":\"white\",\"ticks\":\"\"},\"bgcolor\":\"#E5ECF6\",\"caxis\":{\"gridcolor\":\"white\",\"linecolor\":\"white\",\"ticks\":\"\"}},\"title\":{\"x\":0.05},\"xaxis\":{\"automargin\":true,\"gridcolor\":\"white\",\"linecolor\":\"white\",\"ticks\":\"\",\"title\":{\"standoff\":15},\"zerolinecolor\":\"white\",\"zerolinewidth\":2},\"yaxis\":{\"automargin\":true,\"gridcolor\":\"white\",\"linecolor\":\"white\",\"ticks\":\"\",\"title\":{\"standoff\":15},\"zerolinecolor\":\"white\",\"zerolinewidth\":2}}},\"xaxis\":{\"anchor\":\"y\",\"domain\":[0.0,1.0],\"title\":{\"text\":\"TIPO_INTERNET\"},\"categoryorder\":\"array\",\"categoryarray\":[\"DSL\",\"Fiber optic\",\"No\"]},\"yaxis\":{\"anchor\":\"x\",\"domain\":[0.0,1.0],\"title\":{\"text\":\"conteo\"}},\"legend\":{\"title\":{\"text\":\"TIPO_INTERNET\"},\"tracegroupgap\":0},\"title\":{\"text\":\"Tipo De internet del usuario\"},\"barmode\":\"relative\"},                        {\"responsive\": true}                    ).then(function(){\n",
              "                            \n",
              "var gd = document.getElementById('1103349f-40a1-4e3b-8094-6d0833570ea1');\n",
              "var x = new MutationObserver(function (mutations, observer) {{\n",
              "        var display = window.getComputedStyle(gd).display;\n",
              "        if (!display || display === 'none') {{\n",
              "            console.log([gd, 'removed!']);\n",
              "            Plotly.purge(gd);\n",
              "            observer.disconnect();\n",
              "        }}\n",
              "}});\n",
              "\n",
              "// Listen for the removal of the full notebook cells\n",
              "var notebookContainer = gd.closest('#notebook-container');\n",
              "if (notebookContainer) {{\n",
              "    x.observe(notebookContainer, {childList: true});\n",
              "}}\n",
              "\n",
              "// Listen for the clearing of the current output cell\n",
              "var outputEl = gd.closest('.output');\n",
              "if (outputEl) {{\n",
              "    x.observe(outputEl, {childList: true});\n",
              "}}\n",
              "\n",
              "                        })                };                            </script>        </div>\n",
              "</body>\n",
              "</html>"
            ]
          },
          "metadata": {}
        }
      ]
    },
    {
      "cell_type": "markdown",
      "source": [
        "### - SEGURIDAD EN LINEA"
      ],
      "metadata": {
        "id": "-p-57hhf7_7r"
      }
    },
    {
      "cell_type": "code",
      "source": [
        "tabla_describe_pl=DF.groupby([\"SEGURIDAD_EN_LINEA\"]).size()\n",
        "tabla_describe_pl= tabla_describe_pl.reset_index(name=\"conteo\")\n",
        "fig= px.pie(tabla_describe_pl, values = \"conteo\", names = \"SEGURIDAD_EN_LINEA\", \n",
        "            title= \"El cliente Cuenta con servicio de seguridad en linea\")\n",
        "fig.show()"
      ],
      "metadata": {
        "colab": {
          "base_uri": "https://localhost:8080/",
          "height": 542
        },
        "id": "TQnOaS6H8IUJ",
        "outputId": "2a9f1318-cf01-4eca-b3fd-03dc68da6245"
      },
      "execution_count": 105,
      "outputs": [
        {
          "output_type": "display_data",
          "data": {
            "text/html": [
              "<html>\n",
              "<head><meta charset=\"utf-8\" /></head>\n",
              "<body>\n",
              "    <div>            <script src=\"https://cdnjs.cloudflare.com/ajax/libs/mathjax/2.7.5/MathJax.js?config=TeX-AMS-MML_SVG\"></script><script type=\"text/javascript\">if (window.MathJax) {MathJax.Hub.Config({SVG: {font: \"STIX-Web\"}});}</script>                <script type=\"text/javascript\">window.PlotlyConfig = {MathJaxConfig: 'local'};</script>\n",
              "        <script src=\"https://cdn.plot.ly/plotly-2.8.3.min.js\"></script>                <div id=\"a5ac7266-00c9-472a-a208-ad815d82523e\" class=\"plotly-graph-div\" style=\"height:525px; width:100%;\"></div>            <script type=\"text/javascript\">                                    window.PLOTLYENV=window.PLOTLYENV || {};                                    if (document.getElementById(\"a5ac7266-00c9-472a-a208-ad815d82523e\")) {                    Plotly.newPlot(                        \"a5ac7266-00c9-472a-a208-ad815d82523e\",                        [{\"domain\":{\"x\":[0.0,1.0],\"y\":[0.0,1.0]},\"hovertemplate\":\"SEGURIDAD_EN_LINEA=%{label}<br>conteo=%{value}<extra></extra>\",\"labels\":[\"No\",\"No internet service\",\"Yes\"],\"legendgroup\":\"\",\"name\":\"\",\"showlegend\":true,\"values\":[3498,1526,2019],\"type\":\"pie\"}],                        {\"template\":{\"data\":{\"bar\":[{\"error_x\":{\"color\":\"#2a3f5f\"},\"error_y\":{\"color\":\"#2a3f5f\"},\"marker\":{\"line\":{\"color\":\"#E5ECF6\",\"width\":0.5},\"pattern\":{\"fillmode\":\"overlay\",\"size\":10,\"solidity\":0.2}},\"type\":\"bar\"}],\"barpolar\":[{\"marker\":{\"line\":{\"color\":\"#E5ECF6\",\"width\":0.5},\"pattern\":{\"fillmode\":\"overlay\",\"size\":10,\"solidity\":0.2}},\"type\":\"barpolar\"}],\"carpet\":[{\"aaxis\":{\"endlinecolor\":\"#2a3f5f\",\"gridcolor\":\"white\",\"linecolor\":\"white\",\"minorgridcolor\":\"white\",\"startlinecolor\":\"#2a3f5f\"},\"baxis\":{\"endlinecolor\":\"#2a3f5f\",\"gridcolor\":\"white\",\"linecolor\":\"white\",\"minorgridcolor\":\"white\",\"startlinecolor\":\"#2a3f5f\"},\"type\":\"carpet\"}],\"choropleth\":[{\"colorbar\":{\"outlinewidth\":0,\"ticks\":\"\"},\"type\":\"choropleth\"}],\"contour\":[{\"colorbar\":{\"outlinewidth\":0,\"ticks\":\"\"},\"colorscale\":[[0.0,\"#0d0887\"],[0.1111111111111111,\"#46039f\"],[0.2222222222222222,\"#7201a8\"],[0.3333333333333333,\"#9c179e\"],[0.4444444444444444,\"#bd3786\"],[0.5555555555555556,\"#d8576b\"],[0.6666666666666666,\"#ed7953\"],[0.7777777777777778,\"#fb9f3a\"],[0.8888888888888888,\"#fdca26\"],[1.0,\"#f0f921\"]],\"type\":\"contour\"}],\"contourcarpet\":[{\"colorbar\":{\"outlinewidth\":0,\"ticks\":\"\"},\"type\":\"contourcarpet\"}],\"heatmap\":[{\"colorbar\":{\"outlinewidth\":0,\"ticks\":\"\"},\"colorscale\":[[0.0,\"#0d0887\"],[0.1111111111111111,\"#46039f\"],[0.2222222222222222,\"#7201a8\"],[0.3333333333333333,\"#9c179e\"],[0.4444444444444444,\"#bd3786\"],[0.5555555555555556,\"#d8576b\"],[0.6666666666666666,\"#ed7953\"],[0.7777777777777778,\"#fb9f3a\"],[0.8888888888888888,\"#fdca26\"],[1.0,\"#f0f921\"]],\"type\":\"heatmap\"}],\"heatmapgl\":[{\"colorbar\":{\"outlinewidth\":0,\"ticks\":\"\"},\"colorscale\":[[0.0,\"#0d0887\"],[0.1111111111111111,\"#46039f\"],[0.2222222222222222,\"#7201a8\"],[0.3333333333333333,\"#9c179e\"],[0.4444444444444444,\"#bd3786\"],[0.5555555555555556,\"#d8576b\"],[0.6666666666666666,\"#ed7953\"],[0.7777777777777778,\"#fb9f3a\"],[0.8888888888888888,\"#fdca26\"],[1.0,\"#f0f921\"]],\"type\":\"heatmapgl\"}],\"histogram\":[{\"marker\":{\"pattern\":{\"fillmode\":\"overlay\",\"size\":10,\"solidity\":0.2}},\"type\":\"histogram\"}],\"histogram2d\":[{\"colorbar\":{\"outlinewidth\":0,\"ticks\":\"\"},\"colorscale\":[[0.0,\"#0d0887\"],[0.1111111111111111,\"#46039f\"],[0.2222222222222222,\"#7201a8\"],[0.3333333333333333,\"#9c179e\"],[0.4444444444444444,\"#bd3786\"],[0.5555555555555556,\"#d8576b\"],[0.6666666666666666,\"#ed7953\"],[0.7777777777777778,\"#fb9f3a\"],[0.8888888888888888,\"#fdca26\"],[1.0,\"#f0f921\"]],\"type\":\"histogram2d\"}],\"histogram2dcontour\":[{\"colorbar\":{\"outlinewidth\":0,\"ticks\":\"\"},\"colorscale\":[[0.0,\"#0d0887\"],[0.1111111111111111,\"#46039f\"],[0.2222222222222222,\"#7201a8\"],[0.3333333333333333,\"#9c179e\"],[0.4444444444444444,\"#bd3786\"],[0.5555555555555556,\"#d8576b\"],[0.6666666666666666,\"#ed7953\"],[0.7777777777777778,\"#fb9f3a\"],[0.8888888888888888,\"#fdca26\"],[1.0,\"#f0f921\"]],\"type\":\"histogram2dcontour\"}],\"mesh3d\":[{\"colorbar\":{\"outlinewidth\":0,\"ticks\":\"\"},\"type\":\"mesh3d\"}],\"parcoords\":[{\"line\":{\"colorbar\":{\"outlinewidth\":0,\"ticks\":\"\"}},\"type\":\"parcoords\"}],\"pie\":[{\"automargin\":true,\"type\":\"pie\"}],\"scatter\":[{\"marker\":{\"colorbar\":{\"outlinewidth\":0,\"ticks\":\"\"}},\"type\":\"scatter\"}],\"scatter3d\":[{\"line\":{\"colorbar\":{\"outlinewidth\":0,\"ticks\":\"\"}},\"marker\":{\"colorbar\":{\"outlinewidth\":0,\"ticks\":\"\"}},\"type\":\"scatter3d\"}],\"scattercarpet\":[{\"marker\":{\"colorbar\":{\"outlinewidth\":0,\"ticks\":\"\"}},\"type\":\"scattercarpet\"}],\"scattergeo\":[{\"marker\":{\"colorbar\":{\"outlinewidth\":0,\"ticks\":\"\"}},\"type\":\"scattergeo\"}],\"scattergl\":[{\"marker\":{\"colorbar\":{\"outlinewidth\":0,\"ticks\":\"\"}},\"type\":\"scattergl\"}],\"scattermapbox\":[{\"marker\":{\"colorbar\":{\"outlinewidth\":0,\"ticks\":\"\"}},\"type\":\"scattermapbox\"}],\"scatterpolar\":[{\"marker\":{\"colorbar\":{\"outlinewidth\":0,\"ticks\":\"\"}},\"type\":\"scatterpolar\"}],\"scatterpolargl\":[{\"marker\":{\"colorbar\":{\"outlinewidth\":0,\"ticks\":\"\"}},\"type\":\"scatterpolargl\"}],\"scatterternary\":[{\"marker\":{\"colorbar\":{\"outlinewidth\":0,\"ticks\":\"\"}},\"type\":\"scatterternary\"}],\"surface\":[{\"colorbar\":{\"outlinewidth\":0,\"ticks\":\"\"},\"colorscale\":[[0.0,\"#0d0887\"],[0.1111111111111111,\"#46039f\"],[0.2222222222222222,\"#7201a8\"],[0.3333333333333333,\"#9c179e\"],[0.4444444444444444,\"#bd3786\"],[0.5555555555555556,\"#d8576b\"],[0.6666666666666666,\"#ed7953\"],[0.7777777777777778,\"#fb9f3a\"],[0.8888888888888888,\"#fdca26\"],[1.0,\"#f0f921\"]],\"type\":\"surface\"}],\"table\":[{\"cells\":{\"fill\":{\"color\":\"#EBF0F8\"},\"line\":{\"color\":\"white\"}},\"header\":{\"fill\":{\"color\":\"#C8D4E3\"},\"line\":{\"color\":\"white\"}},\"type\":\"table\"}]},\"layout\":{\"annotationdefaults\":{\"arrowcolor\":\"#2a3f5f\",\"arrowhead\":0,\"arrowwidth\":1},\"autotypenumbers\":\"strict\",\"coloraxis\":{\"colorbar\":{\"outlinewidth\":0,\"ticks\":\"\"}},\"colorscale\":{\"diverging\":[[0,\"#8e0152\"],[0.1,\"#c51b7d\"],[0.2,\"#de77ae\"],[0.3,\"#f1b6da\"],[0.4,\"#fde0ef\"],[0.5,\"#f7f7f7\"],[0.6,\"#e6f5d0\"],[0.7,\"#b8e186\"],[0.8,\"#7fbc41\"],[0.9,\"#4d9221\"],[1,\"#276419\"]],\"sequential\":[[0.0,\"#0d0887\"],[0.1111111111111111,\"#46039f\"],[0.2222222222222222,\"#7201a8\"],[0.3333333333333333,\"#9c179e\"],[0.4444444444444444,\"#bd3786\"],[0.5555555555555556,\"#d8576b\"],[0.6666666666666666,\"#ed7953\"],[0.7777777777777778,\"#fb9f3a\"],[0.8888888888888888,\"#fdca26\"],[1.0,\"#f0f921\"]],\"sequentialminus\":[[0.0,\"#0d0887\"],[0.1111111111111111,\"#46039f\"],[0.2222222222222222,\"#7201a8\"],[0.3333333333333333,\"#9c179e\"],[0.4444444444444444,\"#bd3786\"],[0.5555555555555556,\"#d8576b\"],[0.6666666666666666,\"#ed7953\"],[0.7777777777777778,\"#fb9f3a\"],[0.8888888888888888,\"#fdca26\"],[1.0,\"#f0f921\"]]},\"colorway\":[\"#636efa\",\"#EF553B\",\"#00cc96\",\"#ab63fa\",\"#FFA15A\",\"#19d3f3\",\"#FF6692\",\"#B6E880\",\"#FF97FF\",\"#FECB52\"],\"font\":{\"color\":\"#2a3f5f\"},\"geo\":{\"bgcolor\":\"white\",\"lakecolor\":\"white\",\"landcolor\":\"#E5ECF6\",\"showlakes\":true,\"showland\":true,\"subunitcolor\":\"white\"},\"hoverlabel\":{\"align\":\"left\"},\"hovermode\":\"closest\",\"mapbox\":{\"style\":\"light\"},\"paper_bgcolor\":\"white\",\"plot_bgcolor\":\"#E5ECF6\",\"polar\":{\"angularaxis\":{\"gridcolor\":\"white\",\"linecolor\":\"white\",\"ticks\":\"\"},\"bgcolor\":\"#E5ECF6\",\"radialaxis\":{\"gridcolor\":\"white\",\"linecolor\":\"white\",\"ticks\":\"\"}},\"scene\":{\"xaxis\":{\"backgroundcolor\":\"#E5ECF6\",\"gridcolor\":\"white\",\"gridwidth\":2,\"linecolor\":\"white\",\"showbackground\":true,\"ticks\":\"\",\"zerolinecolor\":\"white\"},\"yaxis\":{\"backgroundcolor\":\"#E5ECF6\",\"gridcolor\":\"white\",\"gridwidth\":2,\"linecolor\":\"white\",\"showbackground\":true,\"ticks\":\"\",\"zerolinecolor\":\"white\"},\"zaxis\":{\"backgroundcolor\":\"#E5ECF6\",\"gridcolor\":\"white\",\"gridwidth\":2,\"linecolor\":\"white\",\"showbackground\":true,\"ticks\":\"\",\"zerolinecolor\":\"white\"}},\"shapedefaults\":{\"line\":{\"color\":\"#2a3f5f\"}},\"ternary\":{\"aaxis\":{\"gridcolor\":\"white\",\"linecolor\":\"white\",\"ticks\":\"\"},\"baxis\":{\"gridcolor\":\"white\",\"linecolor\":\"white\",\"ticks\":\"\"},\"bgcolor\":\"#E5ECF6\",\"caxis\":{\"gridcolor\":\"white\",\"linecolor\":\"white\",\"ticks\":\"\"}},\"title\":{\"x\":0.05},\"xaxis\":{\"automargin\":true,\"gridcolor\":\"white\",\"linecolor\":\"white\",\"ticks\":\"\",\"title\":{\"standoff\":15},\"zerolinecolor\":\"white\",\"zerolinewidth\":2},\"yaxis\":{\"automargin\":true,\"gridcolor\":\"white\",\"linecolor\":\"white\",\"ticks\":\"\",\"title\":{\"standoff\":15},\"zerolinecolor\":\"white\",\"zerolinewidth\":2}}},\"legend\":{\"tracegroupgap\":0},\"title\":{\"text\":\"El cliente Cuenta con servicio de seguridad en linea\"}},                        {\"responsive\": true}                    ).then(function(){\n",
              "                            \n",
              "var gd = document.getElementById('a5ac7266-00c9-472a-a208-ad815d82523e');\n",
              "var x = new MutationObserver(function (mutations, observer) {{\n",
              "        var display = window.getComputedStyle(gd).display;\n",
              "        if (!display || display === 'none') {{\n",
              "            console.log([gd, 'removed!']);\n",
              "            Plotly.purge(gd);\n",
              "            observer.disconnect();\n",
              "        }}\n",
              "}});\n",
              "\n",
              "// Listen for the removal of the full notebook cells\n",
              "var notebookContainer = gd.closest('#notebook-container');\n",
              "if (notebookContainer) {{\n",
              "    x.observe(notebookContainer, {childList: true});\n",
              "}}\n",
              "\n",
              "// Listen for the clearing of the current output cell\n",
              "var outputEl = gd.closest('.output');\n",
              "if (outputEl) {{\n",
              "    x.observe(outputEl, {childList: true});\n",
              "}}\n",
              "\n",
              "                        })                };                            </script>        </div>\n",
              "</body>\n",
              "</html>"
            ]
          },
          "metadata": {}
        }
      ]
    },
    {
      "cell_type": "markdown",
      "source": [
        "### - COPIA DE SEGURIDAD"
      ],
      "metadata": {
        "id": "ezQxvcbq8wxw"
      }
    },
    {
      "cell_type": "code",
      "source": [
        "tabla_describe_pl=DF.groupby([\"COPIA_DE_SEGURIDAD\"]).size()\n",
        "tabla_describe_pl= tabla_describe_pl.reset_index(name=\"conteo\")\n",
        "fig= px.pie(tabla_describe_pl, values = \"conteo\", names = \"COPIA_DE_SEGURIDAD\", \n",
        "            title= \"El cliente Cuenta con Copia de seguridad en linea\")\n",
        "fig.show()"
      ],
      "metadata": {
        "colab": {
          "base_uri": "https://localhost:8080/",
          "height": 542
        },
        "id": "aO3kPFVU84RR",
        "outputId": "b5e8b6ea-e33a-46e8-8e95-91459b0595bb"
      },
      "execution_count": 106,
      "outputs": [
        {
          "output_type": "display_data",
          "data": {
            "text/html": [
              "<html>\n",
              "<head><meta charset=\"utf-8\" /></head>\n",
              "<body>\n",
              "    <div>            <script src=\"https://cdnjs.cloudflare.com/ajax/libs/mathjax/2.7.5/MathJax.js?config=TeX-AMS-MML_SVG\"></script><script type=\"text/javascript\">if (window.MathJax) {MathJax.Hub.Config({SVG: {font: \"STIX-Web\"}});}</script>                <script type=\"text/javascript\">window.PlotlyConfig = {MathJaxConfig: 'local'};</script>\n",
              "        <script src=\"https://cdn.plot.ly/plotly-2.8.3.min.js\"></script>                <div id=\"5e45e104-e206-4208-862e-62ee1d81ab37\" class=\"plotly-graph-div\" style=\"height:525px; width:100%;\"></div>            <script type=\"text/javascript\">                                    window.PLOTLYENV=window.PLOTLYENV || {};                                    if (document.getElementById(\"5e45e104-e206-4208-862e-62ee1d81ab37\")) {                    Plotly.newPlot(                        \"5e45e104-e206-4208-862e-62ee1d81ab37\",                        [{\"domain\":{\"x\":[0.0,1.0],\"y\":[0.0,1.0]},\"hovertemplate\":\"COPIA_DE_SEGURIDAD=%{label}<br>conteo=%{value}<extra></extra>\",\"labels\":[\"No\",\"No internet service\",\"Yes\"],\"legendgroup\":\"\",\"name\":\"\",\"showlegend\":true,\"values\":[3088,1526,2429],\"type\":\"pie\"}],                        {\"template\":{\"data\":{\"bar\":[{\"error_x\":{\"color\":\"#2a3f5f\"},\"error_y\":{\"color\":\"#2a3f5f\"},\"marker\":{\"line\":{\"color\":\"#E5ECF6\",\"width\":0.5},\"pattern\":{\"fillmode\":\"overlay\",\"size\":10,\"solidity\":0.2}},\"type\":\"bar\"}],\"barpolar\":[{\"marker\":{\"line\":{\"color\":\"#E5ECF6\",\"width\":0.5},\"pattern\":{\"fillmode\":\"overlay\",\"size\":10,\"solidity\":0.2}},\"type\":\"barpolar\"}],\"carpet\":[{\"aaxis\":{\"endlinecolor\":\"#2a3f5f\",\"gridcolor\":\"white\",\"linecolor\":\"white\",\"minorgridcolor\":\"white\",\"startlinecolor\":\"#2a3f5f\"},\"baxis\":{\"endlinecolor\":\"#2a3f5f\",\"gridcolor\":\"white\",\"linecolor\":\"white\",\"minorgridcolor\":\"white\",\"startlinecolor\":\"#2a3f5f\"},\"type\":\"carpet\"}],\"choropleth\":[{\"colorbar\":{\"outlinewidth\":0,\"ticks\":\"\"},\"type\":\"choropleth\"}],\"contour\":[{\"colorbar\":{\"outlinewidth\":0,\"ticks\":\"\"},\"colorscale\":[[0.0,\"#0d0887\"],[0.1111111111111111,\"#46039f\"],[0.2222222222222222,\"#7201a8\"],[0.3333333333333333,\"#9c179e\"],[0.4444444444444444,\"#bd3786\"],[0.5555555555555556,\"#d8576b\"],[0.6666666666666666,\"#ed7953\"],[0.7777777777777778,\"#fb9f3a\"],[0.8888888888888888,\"#fdca26\"],[1.0,\"#f0f921\"]],\"type\":\"contour\"}],\"contourcarpet\":[{\"colorbar\":{\"outlinewidth\":0,\"ticks\":\"\"},\"type\":\"contourcarpet\"}],\"heatmap\":[{\"colorbar\":{\"outlinewidth\":0,\"ticks\":\"\"},\"colorscale\":[[0.0,\"#0d0887\"],[0.1111111111111111,\"#46039f\"],[0.2222222222222222,\"#7201a8\"],[0.3333333333333333,\"#9c179e\"],[0.4444444444444444,\"#bd3786\"],[0.5555555555555556,\"#d8576b\"],[0.6666666666666666,\"#ed7953\"],[0.7777777777777778,\"#fb9f3a\"],[0.8888888888888888,\"#fdca26\"],[1.0,\"#f0f921\"]],\"type\":\"heatmap\"}],\"heatmapgl\":[{\"colorbar\":{\"outlinewidth\":0,\"ticks\":\"\"},\"colorscale\":[[0.0,\"#0d0887\"],[0.1111111111111111,\"#46039f\"],[0.2222222222222222,\"#7201a8\"],[0.3333333333333333,\"#9c179e\"],[0.4444444444444444,\"#bd3786\"],[0.5555555555555556,\"#d8576b\"],[0.6666666666666666,\"#ed7953\"],[0.7777777777777778,\"#fb9f3a\"],[0.8888888888888888,\"#fdca26\"],[1.0,\"#f0f921\"]],\"type\":\"heatmapgl\"}],\"histogram\":[{\"marker\":{\"pattern\":{\"fillmode\":\"overlay\",\"size\":10,\"solidity\":0.2}},\"type\":\"histogram\"}],\"histogram2d\":[{\"colorbar\":{\"outlinewidth\":0,\"ticks\":\"\"},\"colorscale\":[[0.0,\"#0d0887\"],[0.1111111111111111,\"#46039f\"],[0.2222222222222222,\"#7201a8\"],[0.3333333333333333,\"#9c179e\"],[0.4444444444444444,\"#bd3786\"],[0.5555555555555556,\"#d8576b\"],[0.6666666666666666,\"#ed7953\"],[0.7777777777777778,\"#fb9f3a\"],[0.8888888888888888,\"#fdca26\"],[1.0,\"#f0f921\"]],\"type\":\"histogram2d\"}],\"histogram2dcontour\":[{\"colorbar\":{\"outlinewidth\":0,\"ticks\":\"\"},\"colorscale\":[[0.0,\"#0d0887\"],[0.1111111111111111,\"#46039f\"],[0.2222222222222222,\"#7201a8\"],[0.3333333333333333,\"#9c179e\"],[0.4444444444444444,\"#bd3786\"],[0.5555555555555556,\"#d8576b\"],[0.6666666666666666,\"#ed7953\"],[0.7777777777777778,\"#fb9f3a\"],[0.8888888888888888,\"#fdca26\"],[1.0,\"#f0f921\"]],\"type\":\"histogram2dcontour\"}],\"mesh3d\":[{\"colorbar\":{\"outlinewidth\":0,\"ticks\":\"\"},\"type\":\"mesh3d\"}],\"parcoords\":[{\"line\":{\"colorbar\":{\"outlinewidth\":0,\"ticks\":\"\"}},\"type\":\"parcoords\"}],\"pie\":[{\"automargin\":true,\"type\":\"pie\"}],\"scatter\":[{\"marker\":{\"colorbar\":{\"outlinewidth\":0,\"ticks\":\"\"}},\"type\":\"scatter\"}],\"scatter3d\":[{\"line\":{\"colorbar\":{\"outlinewidth\":0,\"ticks\":\"\"}},\"marker\":{\"colorbar\":{\"outlinewidth\":0,\"ticks\":\"\"}},\"type\":\"scatter3d\"}],\"scattercarpet\":[{\"marker\":{\"colorbar\":{\"outlinewidth\":0,\"ticks\":\"\"}},\"type\":\"scattercarpet\"}],\"scattergeo\":[{\"marker\":{\"colorbar\":{\"outlinewidth\":0,\"ticks\":\"\"}},\"type\":\"scattergeo\"}],\"scattergl\":[{\"marker\":{\"colorbar\":{\"outlinewidth\":0,\"ticks\":\"\"}},\"type\":\"scattergl\"}],\"scattermapbox\":[{\"marker\":{\"colorbar\":{\"outlinewidth\":0,\"ticks\":\"\"}},\"type\":\"scattermapbox\"}],\"scatterpolar\":[{\"marker\":{\"colorbar\":{\"outlinewidth\":0,\"ticks\":\"\"}},\"type\":\"scatterpolar\"}],\"scatterpolargl\":[{\"marker\":{\"colorbar\":{\"outlinewidth\":0,\"ticks\":\"\"}},\"type\":\"scatterpolargl\"}],\"scatterternary\":[{\"marker\":{\"colorbar\":{\"outlinewidth\":0,\"ticks\":\"\"}},\"type\":\"scatterternary\"}],\"surface\":[{\"colorbar\":{\"outlinewidth\":0,\"ticks\":\"\"},\"colorscale\":[[0.0,\"#0d0887\"],[0.1111111111111111,\"#46039f\"],[0.2222222222222222,\"#7201a8\"],[0.3333333333333333,\"#9c179e\"],[0.4444444444444444,\"#bd3786\"],[0.5555555555555556,\"#d8576b\"],[0.6666666666666666,\"#ed7953\"],[0.7777777777777778,\"#fb9f3a\"],[0.8888888888888888,\"#fdca26\"],[1.0,\"#f0f921\"]],\"type\":\"surface\"}],\"table\":[{\"cells\":{\"fill\":{\"color\":\"#EBF0F8\"},\"line\":{\"color\":\"white\"}},\"header\":{\"fill\":{\"color\":\"#C8D4E3\"},\"line\":{\"color\":\"white\"}},\"type\":\"table\"}]},\"layout\":{\"annotationdefaults\":{\"arrowcolor\":\"#2a3f5f\",\"arrowhead\":0,\"arrowwidth\":1},\"autotypenumbers\":\"strict\",\"coloraxis\":{\"colorbar\":{\"outlinewidth\":0,\"ticks\":\"\"}},\"colorscale\":{\"diverging\":[[0,\"#8e0152\"],[0.1,\"#c51b7d\"],[0.2,\"#de77ae\"],[0.3,\"#f1b6da\"],[0.4,\"#fde0ef\"],[0.5,\"#f7f7f7\"],[0.6,\"#e6f5d0\"],[0.7,\"#b8e186\"],[0.8,\"#7fbc41\"],[0.9,\"#4d9221\"],[1,\"#276419\"]],\"sequential\":[[0.0,\"#0d0887\"],[0.1111111111111111,\"#46039f\"],[0.2222222222222222,\"#7201a8\"],[0.3333333333333333,\"#9c179e\"],[0.4444444444444444,\"#bd3786\"],[0.5555555555555556,\"#d8576b\"],[0.6666666666666666,\"#ed7953\"],[0.7777777777777778,\"#fb9f3a\"],[0.8888888888888888,\"#fdca26\"],[1.0,\"#f0f921\"]],\"sequentialminus\":[[0.0,\"#0d0887\"],[0.1111111111111111,\"#46039f\"],[0.2222222222222222,\"#7201a8\"],[0.3333333333333333,\"#9c179e\"],[0.4444444444444444,\"#bd3786\"],[0.5555555555555556,\"#d8576b\"],[0.6666666666666666,\"#ed7953\"],[0.7777777777777778,\"#fb9f3a\"],[0.8888888888888888,\"#fdca26\"],[1.0,\"#f0f921\"]]},\"colorway\":[\"#636efa\",\"#EF553B\",\"#00cc96\",\"#ab63fa\",\"#FFA15A\",\"#19d3f3\",\"#FF6692\",\"#B6E880\",\"#FF97FF\",\"#FECB52\"],\"font\":{\"color\":\"#2a3f5f\"},\"geo\":{\"bgcolor\":\"white\",\"lakecolor\":\"white\",\"landcolor\":\"#E5ECF6\",\"showlakes\":true,\"showland\":true,\"subunitcolor\":\"white\"},\"hoverlabel\":{\"align\":\"left\"},\"hovermode\":\"closest\",\"mapbox\":{\"style\":\"light\"},\"paper_bgcolor\":\"white\",\"plot_bgcolor\":\"#E5ECF6\",\"polar\":{\"angularaxis\":{\"gridcolor\":\"white\",\"linecolor\":\"white\",\"ticks\":\"\"},\"bgcolor\":\"#E5ECF6\",\"radialaxis\":{\"gridcolor\":\"white\",\"linecolor\":\"white\",\"ticks\":\"\"}},\"scene\":{\"xaxis\":{\"backgroundcolor\":\"#E5ECF6\",\"gridcolor\":\"white\",\"gridwidth\":2,\"linecolor\":\"white\",\"showbackground\":true,\"ticks\":\"\",\"zerolinecolor\":\"white\"},\"yaxis\":{\"backgroundcolor\":\"#E5ECF6\",\"gridcolor\":\"white\",\"gridwidth\":2,\"linecolor\":\"white\",\"showbackground\":true,\"ticks\":\"\",\"zerolinecolor\":\"white\"},\"zaxis\":{\"backgroundcolor\":\"#E5ECF6\",\"gridcolor\":\"white\",\"gridwidth\":2,\"linecolor\":\"white\",\"showbackground\":true,\"ticks\":\"\",\"zerolinecolor\":\"white\"}},\"shapedefaults\":{\"line\":{\"color\":\"#2a3f5f\"}},\"ternary\":{\"aaxis\":{\"gridcolor\":\"white\",\"linecolor\":\"white\",\"ticks\":\"\"},\"baxis\":{\"gridcolor\":\"white\",\"linecolor\":\"white\",\"ticks\":\"\"},\"bgcolor\":\"#E5ECF6\",\"caxis\":{\"gridcolor\":\"white\",\"linecolor\":\"white\",\"ticks\":\"\"}},\"title\":{\"x\":0.05},\"xaxis\":{\"automargin\":true,\"gridcolor\":\"white\",\"linecolor\":\"white\",\"ticks\":\"\",\"title\":{\"standoff\":15},\"zerolinecolor\":\"white\",\"zerolinewidth\":2},\"yaxis\":{\"automargin\":true,\"gridcolor\":\"white\",\"linecolor\":\"white\",\"ticks\":\"\",\"title\":{\"standoff\":15},\"zerolinecolor\":\"white\",\"zerolinewidth\":2}}},\"legend\":{\"tracegroupgap\":0},\"title\":{\"text\":\"El cliente Cuenta con Copia de seguridad en linea\"}},                        {\"responsive\": true}                    ).then(function(){\n",
              "                            \n",
              "var gd = document.getElementById('5e45e104-e206-4208-862e-62ee1d81ab37');\n",
              "var x = new MutationObserver(function (mutations, observer) {{\n",
              "        var display = window.getComputedStyle(gd).display;\n",
              "        if (!display || display === 'none') {{\n",
              "            console.log([gd, 'removed!']);\n",
              "            Plotly.purge(gd);\n",
              "            observer.disconnect();\n",
              "        }}\n",
              "}});\n",
              "\n",
              "// Listen for the removal of the full notebook cells\n",
              "var notebookContainer = gd.closest('#notebook-container');\n",
              "if (notebookContainer) {{\n",
              "    x.observe(notebookContainer, {childList: true});\n",
              "}}\n",
              "\n",
              "// Listen for the clearing of the current output cell\n",
              "var outputEl = gd.closest('.output');\n",
              "if (outputEl) {{\n",
              "    x.observe(outputEl, {childList: true});\n",
              "}}\n",
              "\n",
              "                        })                };                            </script>        </div>\n",
              "</body>\n",
              "</html>"
            ]
          },
          "metadata": {}
        }
      ]
    },
    {
      "cell_type": "markdown",
      "source": [
        "### - PROTECCION DISPOSITIVO"
      ],
      "metadata": {
        "id": "AoN8Dv0W9G_c"
      }
    },
    {
      "cell_type": "code",
      "source": [
        "tabla_describe_pl=DF.groupby([\"PROTECCION_DISPOSITIVO\"]).size()\n",
        "tabla_describe_pl= tabla_describe_pl.reset_index(name=\"conteo\")\n",
        "fig= px.pie(tabla_describe_pl, values = \"conteo\", names = \"PROTECCION_DISPOSITIVO\", \n",
        "            title= \"El cliente Cuenta con proteccion del dispositivo\")\n",
        "fig.show()"
      ],
      "metadata": {
        "colab": {
          "base_uri": "https://localhost:8080/",
          "height": 542
        },
        "id": "TqAyeQ2v9OXB",
        "outputId": "a7e62bd9-ade4-4420-cdb8-85b2a4f213a8"
      },
      "execution_count": 107,
      "outputs": [
        {
          "output_type": "display_data",
          "data": {
            "text/html": [
              "<html>\n",
              "<head><meta charset=\"utf-8\" /></head>\n",
              "<body>\n",
              "    <div>            <script src=\"https://cdnjs.cloudflare.com/ajax/libs/mathjax/2.7.5/MathJax.js?config=TeX-AMS-MML_SVG\"></script><script type=\"text/javascript\">if (window.MathJax) {MathJax.Hub.Config({SVG: {font: \"STIX-Web\"}});}</script>                <script type=\"text/javascript\">window.PlotlyConfig = {MathJaxConfig: 'local'};</script>\n",
              "        <script src=\"https://cdn.plot.ly/plotly-2.8.3.min.js\"></script>                <div id=\"619b4a4f-bd43-4d5f-ac38-cff8b77177a8\" class=\"plotly-graph-div\" style=\"height:525px; width:100%;\"></div>            <script type=\"text/javascript\">                                    window.PLOTLYENV=window.PLOTLYENV || {};                                    if (document.getElementById(\"619b4a4f-bd43-4d5f-ac38-cff8b77177a8\")) {                    Plotly.newPlot(                        \"619b4a4f-bd43-4d5f-ac38-cff8b77177a8\",                        [{\"domain\":{\"x\":[0.0,1.0],\"y\":[0.0,1.0]},\"hovertemplate\":\"PROTECCION_DISPOSITIVO=%{label}<br>conteo=%{value}<extra></extra>\",\"labels\":[\"No\",\"No internet service\",\"Yes\"],\"legendgroup\":\"\",\"name\":\"\",\"showlegend\":true,\"values\":[3095,1526,2422],\"type\":\"pie\"}],                        {\"template\":{\"data\":{\"bar\":[{\"error_x\":{\"color\":\"#2a3f5f\"},\"error_y\":{\"color\":\"#2a3f5f\"},\"marker\":{\"line\":{\"color\":\"#E5ECF6\",\"width\":0.5},\"pattern\":{\"fillmode\":\"overlay\",\"size\":10,\"solidity\":0.2}},\"type\":\"bar\"}],\"barpolar\":[{\"marker\":{\"line\":{\"color\":\"#E5ECF6\",\"width\":0.5},\"pattern\":{\"fillmode\":\"overlay\",\"size\":10,\"solidity\":0.2}},\"type\":\"barpolar\"}],\"carpet\":[{\"aaxis\":{\"endlinecolor\":\"#2a3f5f\",\"gridcolor\":\"white\",\"linecolor\":\"white\",\"minorgridcolor\":\"white\",\"startlinecolor\":\"#2a3f5f\"},\"baxis\":{\"endlinecolor\":\"#2a3f5f\",\"gridcolor\":\"white\",\"linecolor\":\"white\",\"minorgridcolor\":\"white\",\"startlinecolor\":\"#2a3f5f\"},\"type\":\"carpet\"}],\"choropleth\":[{\"colorbar\":{\"outlinewidth\":0,\"ticks\":\"\"},\"type\":\"choropleth\"}],\"contour\":[{\"colorbar\":{\"outlinewidth\":0,\"ticks\":\"\"},\"colorscale\":[[0.0,\"#0d0887\"],[0.1111111111111111,\"#46039f\"],[0.2222222222222222,\"#7201a8\"],[0.3333333333333333,\"#9c179e\"],[0.4444444444444444,\"#bd3786\"],[0.5555555555555556,\"#d8576b\"],[0.6666666666666666,\"#ed7953\"],[0.7777777777777778,\"#fb9f3a\"],[0.8888888888888888,\"#fdca26\"],[1.0,\"#f0f921\"]],\"type\":\"contour\"}],\"contourcarpet\":[{\"colorbar\":{\"outlinewidth\":0,\"ticks\":\"\"},\"type\":\"contourcarpet\"}],\"heatmap\":[{\"colorbar\":{\"outlinewidth\":0,\"ticks\":\"\"},\"colorscale\":[[0.0,\"#0d0887\"],[0.1111111111111111,\"#46039f\"],[0.2222222222222222,\"#7201a8\"],[0.3333333333333333,\"#9c179e\"],[0.4444444444444444,\"#bd3786\"],[0.5555555555555556,\"#d8576b\"],[0.6666666666666666,\"#ed7953\"],[0.7777777777777778,\"#fb9f3a\"],[0.8888888888888888,\"#fdca26\"],[1.0,\"#f0f921\"]],\"type\":\"heatmap\"}],\"heatmapgl\":[{\"colorbar\":{\"outlinewidth\":0,\"ticks\":\"\"},\"colorscale\":[[0.0,\"#0d0887\"],[0.1111111111111111,\"#46039f\"],[0.2222222222222222,\"#7201a8\"],[0.3333333333333333,\"#9c179e\"],[0.4444444444444444,\"#bd3786\"],[0.5555555555555556,\"#d8576b\"],[0.6666666666666666,\"#ed7953\"],[0.7777777777777778,\"#fb9f3a\"],[0.8888888888888888,\"#fdca26\"],[1.0,\"#f0f921\"]],\"type\":\"heatmapgl\"}],\"histogram\":[{\"marker\":{\"pattern\":{\"fillmode\":\"overlay\",\"size\":10,\"solidity\":0.2}},\"type\":\"histogram\"}],\"histogram2d\":[{\"colorbar\":{\"outlinewidth\":0,\"ticks\":\"\"},\"colorscale\":[[0.0,\"#0d0887\"],[0.1111111111111111,\"#46039f\"],[0.2222222222222222,\"#7201a8\"],[0.3333333333333333,\"#9c179e\"],[0.4444444444444444,\"#bd3786\"],[0.5555555555555556,\"#d8576b\"],[0.6666666666666666,\"#ed7953\"],[0.7777777777777778,\"#fb9f3a\"],[0.8888888888888888,\"#fdca26\"],[1.0,\"#f0f921\"]],\"type\":\"histogram2d\"}],\"histogram2dcontour\":[{\"colorbar\":{\"outlinewidth\":0,\"ticks\":\"\"},\"colorscale\":[[0.0,\"#0d0887\"],[0.1111111111111111,\"#46039f\"],[0.2222222222222222,\"#7201a8\"],[0.3333333333333333,\"#9c179e\"],[0.4444444444444444,\"#bd3786\"],[0.5555555555555556,\"#d8576b\"],[0.6666666666666666,\"#ed7953\"],[0.7777777777777778,\"#fb9f3a\"],[0.8888888888888888,\"#fdca26\"],[1.0,\"#f0f921\"]],\"type\":\"histogram2dcontour\"}],\"mesh3d\":[{\"colorbar\":{\"outlinewidth\":0,\"ticks\":\"\"},\"type\":\"mesh3d\"}],\"parcoords\":[{\"line\":{\"colorbar\":{\"outlinewidth\":0,\"ticks\":\"\"}},\"type\":\"parcoords\"}],\"pie\":[{\"automargin\":true,\"type\":\"pie\"}],\"scatter\":[{\"marker\":{\"colorbar\":{\"outlinewidth\":0,\"ticks\":\"\"}},\"type\":\"scatter\"}],\"scatter3d\":[{\"line\":{\"colorbar\":{\"outlinewidth\":0,\"ticks\":\"\"}},\"marker\":{\"colorbar\":{\"outlinewidth\":0,\"ticks\":\"\"}},\"type\":\"scatter3d\"}],\"scattercarpet\":[{\"marker\":{\"colorbar\":{\"outlinewidth\":0,\"ticks\":\"\"}},\"type\":\"scattercarpet\"}],\"scattergeo\":[{\"marker\":{\"colorbar\":{\"outlinewidth\":0,\"ticks\":\"\"}},\"type\":\"scattergeo\"}],\"scattergl\":[{\"marker\":{\"colorbar\":{\"outlinewidth\":0,\"ticks\":\"\"}},\"type\":\"scattergl\"}],\"scattermapbox\":[{\"marker\":{\"colorbar\":{\"outlinewidth\":0,\"ticks\":\"\"}},\"type\":\"scattermapbox\"}],\"scatterpolar\":[{\"marker\":{\"colorbar\":{\"outlinewidth\":0,\"ticks\":\"\"}},\"type\":\"scatterpolar\"}],\"scatterpolargl\":[{\"marker\":{\"colorbar\":{\"outlinewidth\":0,\"ticks\":\"\"}},\"type\":\"scatterpolargl\"}],\"scatterternary\":[{\"marker\":{\"colorbar\":{\"outlinewidth\":0,\"ticks\":\"\"}},\"type\":\"scatterternary\"}],\"surface\":[{\"colorbar\":{\"outlinewidth\":0,\"ticks\":\"\"},\"colorscale\":[[0.0,\"#0d0887\"],[0.1111111111111111,\"#46039f\"],[0.2222222222222222,\"#7201a8\"],[0.3333333333333333,\"#9c179e\"],[0.4444444444444444,\"#bd3786\"],[0.5555555555555556,\"#d8576b\"],[0.6666666666666666,\"#ed7953\"],[0.7777777777777778,\"#fb9f3a\"],[0.8888888888888888,\"#fdca26\"],[1.0,\"#f0f921\"]],\"type\":\"surface\"}],\"table\":[{\"cells\":{\"fill\":{\"color\":\"#EBF0F8\"},\"line\":{\"color\":\"white\"}},\"header\":{\"fill\":{\"color\":\"#C8D4E3\"},\"line\":{\"color\":\"white\"}},\"type\":\"table\"}]},\"layout\":{\"annotationdefaults\":{\"arrowcolor\":\"#2a3f5f\",\"arrowhead\":0,\"arrowwidth\":1},\"autotypenumbers\":\"strict\",\"coloraxis\":{\"colorbar\":{\"outlinewidth\":0,\"ticks\":\"\"}},\"colorscale\":{\"diverging\":[[0,\"#8e0152\"],[0.1,\"#c51b7d\"],[0.2,\"#de77ae\"],[0.3,\"#f1b6da\"],[0.4,\"#fde0ef\"],[0.5,\"#f7f7f7\"],[0.6,\"#e6f5d0\"],[0.7,\"#b8e186\"],[0.8,\"#7fbc41\"],[0.9,\"#4d9221\"],[1,\"#276419\"]],\"sequential\":[[0.0,\"#0d0887\"],[0.1111111111111111,\"#46039f\"],[0.2222222222222222,\"#7201a8\"],[0.3333333333333333,\"#9c179e\"],[0.4444444444444444,\"#bd3786\"],[0.5555555555555556,\"#d8576b\"],[0.6666666666666666,\"#ed7953\"],[0.7777777777777778,\"#fb9f3a\"],[0.8888888888888888,\"#fdca26\"],[1.0,\"#f0f921\"]],\"sequentialminus\":[[0.0,\"#0d0887\"],[0.1111111111111111,\"#46039f\"],[0.2222222222222222,\"#7201a8\"],[0.3333333333333333,\"#9c179e\"],[0.4444444444444444,\"#bd3786\"],[0.5555555555555556,\"#d8576b\"],[0.6666666666666666,\"#ed7953\"],[0.7777777777777778,\"#fb9f3a\"],[0.8888888888888888,\"#fdca26\"],[1.0,\"#f0f921\"]]},\"colorway\":[\"#636efa\",\"#EF553B\",\"#00cc96\",\"#ab63fa\",\"#FFA15A\",\"#19d3f3\",\"#FF6692\",\"#B6E880\",\"#FF97FF\",\"#FECB52\"],\"font\":{\"color\":\"#2a3f5f\"},\"geo\":{\"bgcolor\":\"white\",\"lakecolor\":\"white\",\"landcolor\":\"#E5ECF6\",\"showlakes\":true,\"showland\":true,\"subunitcolor\":\"white\"},\"hoverlabel\":{\"align\":\"left\"},\"hovermode\":\"closest\",\"mapbox\":{\"style\":\"light\"},\"paper_bgcolor\":\"white\",\"plot_bgcolor\":\"#E5ECF6\",\"polar\":{\"angularaxis\":{\"gridcolor\":\"white\",\"linecolor\":\"white\",\"ticks\":\"\"},\"bgcolor\":\"#E5ECF6\",\"radialaxis\":{\"gridcolor\":\"white\",\"linecolor\":\"white\",\"ticks\":\"\"}},\"scene\":{\"xaxis\":{\"backgroundcolor\":\"#E5ECF6\",\"gridcolor\":\"white\",\"gridwidth\":2,\"linecolor\":\"white\",\"showbackground\":true,\"ticks\":\"\",\"zerolinecolor\":\"white\"},\"yaxis\":{\"backgroundcolor\":\"#E5ECF6\",\"gridcolor\":\"white\",\"gridwidth\":2,\"linecolor\":\"white\",\"showbackground\":true,\"ticks\":\"\",\"zerolinecolor\":\"white\"},\"zaxis\":{\"backgroundcolor\":\"#E5ECF6\",\"gridcolor\":\"white\",\"gridwidth\":2,\"linecolor\":\"white\",\"showbackground\":true,\"ticks\":\"\",\"zerolinecolor\":\"white\"}},\"shapedefaults\":{\"line\":{\"color\":\"#2a3f5f\"}},\"ternary\":{\"aaxis\":{\"gridcolor\":\"white\",\"linecolor\":\"white\",\"ticks\":\"\"},\"baxis\":{\"gridcolor\":\"white\",\"linecolor\":\"white\",\"ticks\":\"\"},\"bgcolor\":\"#E5ECF6\",\"caxis\":{\"gridcolor\":\"white\",\"linecolor\":\"white\",\"ticks\":\"\"}},\"title\":{\"x\":0.05},\"xaxis\":{\"automargin\":true,\"gridcolor\":\"white\",\"linecolor\":\"white\",\"ticks\":\"\",\"title\":{\"standoff\":15},\"zerolinecolor\":\"white\",\"zerolinewidth\":2},\"yaxis\":{\"automargin\":true,\"gridcolor\":\"white\",\"linecolor\":\"white\",\"ticks\":\"\",\"title\":{\"standoff\":15},\"zerolinecolor\":\"white\",\"zerolinewidth\":2}}},\"legend\":{\"tracegroupgap\":0},\"title\":{\"text\":\"El cliente Cuenta con proteccion del dispositivo\"}},                        {\"responsive\": true}                    ).then(function(){\n",
              "                            \n",
              "var gd = document.getElementById('619b4a4f-bd43-4d5f-ac38-cff8b77177a8');\n",
              "var x = new MutationObserver(function (mutations, observer) {{\n",
              "        var display = window.getComputedStyle(gd).display;\n",
              "        if (!display || display === 'none') {{\n",
              "            console.log([gd, 'removed!']);\n",
              "            Plotly.purge(gd);\n",
              "            observer.disconnect();\n",
              "        }}\n",
              "}});\n",
              "\n",
              "// Listen for the removal of the full notebook cells\n",
              "var notebookContainer = gd.closest('#notebook-container');\n",
              "if (notebookContainer) {{\n",
              "    x.observe(notebookContainer, {childList: true});\n",
              "}}\n",
              "\n",
              "// Listen for the clearing of the current output cell\n",
              "var outputEl = gd.closest('.output');\n",
              "if (outputEl) {{\n",
              "    x.observe(outputEl, {childList: true});\n",
              "}}\n",
              "\n",
              "                        })                };                            </script>        </div>\n",
              "</body>\n",
              "</html>"
            ]
          },
          "metadata": {}
        }
      ]
    },
    {
      "cell_type": "markdown",
      "source": [
        "### - SOPORTE TECNICO"
      ],
      "metadata": {
        "id": "WPWHTKeA9jiZ"
      }
    },
    {
      "cell_type": "code",
      "source": [
        "tabla_describe_pl=DF.groupby([\"SOPORTE_TECNICO\"]).size()\n",
        "tabla_describe_pl= tabla_describe_pl.reset_index(name=\"conteo\")\n",
        "fig= px.pie(tabla_describe_pl, values = \"conteo\", names = \"SOPORTE_TECNICO\", \n",
        "            title= \"El cliente a solicitado soporte tecnico\")\n",
        "fig.show()"
      ],
      "metadata": {
        "colab": {
          "base_uri": "https://localhost:8080/",
          "height": 542
        },
        "id": "imO3pKAL-Exg",
        "outputId": "9628241b-4133-4f74-e9c0-3e1848295b30"
      },
      "execution_count": 108,
      "outputs": [
        {
          "output_type": "display_data",
          "data": {
            "text/html": [
              "<html>\n",
              "<head><meta charset=\"utf-8\" /></head>\n",
              "<body>\n",
              "    <div>            <script src=\"https://cdnjs.cloudflare.com/ajax/libs/mathjax/2.7.5/MathJax.js?config=TeX-AMS-MML_SVG\"></script><script type=\"text/javascript\">if (window.MathJax) {MathJax.Hub.Config({SVG: {font: \"STIX-Web\"}});}</script>                <script type=\"text/javascript\">window.PlotlyConfig = {MathJaxConfig: 'local'};</script>\n",
              "        <script src=\"https://cdn.plot.ly/plotly-2.8.3.min.js\"></script>                <div id=\"5c7d3b33-213e-4bb5-b177-42afcc64dafd\" class=\"plotly-graph-div\" style=\"height:525px; width:100%;\"></div>            <script type=\"text/javascript\">                                    window.PLOTLYENV=window.PLOTLYENV || {};                                    if (document.getElementById(\"5c7d3b33-213e-4bb5-b177-42afcc64dafd\")) {                    Plotly.newPlot(                        \"5c7d3b33-213e-4bb5-b177-42afcc64dafd\",                        [{\"domain\":{\"x\":[0.0,1.0],\"y\":[0.0,1.0]},\"hovertemplate\":\"SOPORTE_TECNICO=%{label}<br>conteo=%{value}<extra></extra>\",\"labels\":[\"No\",\"No internet service\",\"Yes\"],\"legendgroup\":\"\",\"name\":\"\",\"showlegend\":true,\"values\":[3473,1526,2044],\"type\":\"pie\"}],                        {\"template\":{\"data\":{\"bar\":[{\"error_x\":{\"color\":\"#2a3f5f\"},\"error_y\":{\"color\":\"#2a3f5f\"},\"marker\":{\"line\":{\"color\":\"#E5ECF6\",\"width\":0.5},\"pattern\":{\"fillmode\":\"overlay\",\"size\":10,\"solidity\":0.2}},\"type\":\"bar\"}],\"barpolar\":[{\"marker\":{\"line\":{\"color\":\"#E5ECF6\",\"width\":0.5},\"pattern\":{\"fillmode\":\"overlay\",\"size\":10,\"solidity\":0.2}},\"type\":\"barpolar\"}],\"carpet\":[{\"aaxis\":{\"endlinecolor\":\"#2a3f5f\",\"gridcolor\":\"white\",\"linecolor\":\"white\",\"minorgridcolor\":\"white\",\"startlinecolor\":\"#2a3f5f\"},\"baxis\":{\"endlinecolor\":\"#2a3f5f\",\"gridcolor\":\"white\",\"linecolor\":\"white\",\"minorgridcolor\":\"white\",\"startlinecolor\":\"#2a3f5f\"},\"type\":\"carpet\"}],\"choropleth\":[{\"colorbar\":{\"outlinewidth\":0,\"ticks\":\"\"},\"type\":\"choropleth\"}],\"contour\":[{\"colorbar\":{\"outlinewidth\":0,\"ticks\":\"\"},\"colorscale\":[[0.0,\"#0d0887\"],[0.1111111111111111,\"#46039f\"],[0.2222222222222222,\"#7201a8\"],[0.3333333333333333,\"#9c179e\"],[0.4444444444444444,\"#bd3786\"],[0.5555555555555556,\"#d8576b\"],[0.6666666666666666,\"#ed7953\"],[0.7777777777777778,\"#fb9f3a\"],[0.8888888888888888,\"#fdca26\"],[1.0,\"#f0f921\"]],\"type\":\"contour\"}],\"contourcarpet\":[{\"colorbar\":{\"outlinewidth\":0,\"ticks\":\"\"},\"type\":\"contourcarpet\"}],\"heatmap\":[{\"colorbar\":{\"outlinewidth\":0,\"ticks\":\"\"},\"colorscale\":[[0.0,\"#0d0887\"],[0.1111111111111111,\"#46039f\"],[0.2222222222222222,\"#7201a8\"],[0.3333333333333333,\"#9c179e\"],[0.4444444444444444,\"#bd3786\"],[0.5555555555555556,\"#d8576b\"],[0.6666666666666666,\"#ed7953\"],[0.7777777777777778,\"#fb9f3a\"],[0.8888888888888888,\"#fdca26\"],[1.0,\"#f0f921\"]],\"type\":\"heatmap\"}],\"heatmapgl\":[{\"colorbar\":{\"outlinewidth\":0,\"ticks\":\"\"},\"colorscale\":[[0.0,\"#0d0887\"],[0.1111111111111111,\"#46039f\"],[0.2222222222222222,\"#7201a8\"],[0.3333333333333333,\"#9c179e\"],[0.4444444444444444,\"#bd3786\"],[0.5555555555555556,\"#d8576b\"],[0.6666666666666666,\"#ed7953\"],[0.7777777777777778,\"#fb9f3a\"],[0.8888888888888888,\"#fdca26\"],[1.0,\"#f0f921\"]],\"type\":\"heatmapgl\"}],\"histogram\":[{\"marker\":{\"pattern\":{\"fillmode\":\"overlay\",\"size\":10,\"solidity\":0.2}},\"type\":\"histogram\"}],\"histogram2d\":[{\"colorbar\":{\"outlinewidth\":0,\"ticks\":\"\"},\"colorscale\":[[0.0,\"#0d0887\"],[0.1111111111111111,\"#46039f\"],[0.2222222222222222,\"#7201a8\"],[0.3333333333333333,\"#9c179e\"],[0.4444444444444444,\"#bd3786\"],[0.5555555555555556,\"#d8576b\"],[0.6666666666666666,\"#ed7953\"],[0.7777777777777778,\"#fb9f3a\"],[0.8888888888888888,\"#fdca26\"],[1.0,\"#f0f921\"]],\"type\":\"histogram2d\"}],\"histogram2dcontour\":[{\"colorbar\":{\"outlinewidth\":0,\"ticks\":\"\"},\"colorscale\":[[0.0,\"#0d0887\"],[0.1111111111111111,\"#46039f\"],[0.2222222222222222,\"#7201a8\"],[0.3333333333333333,\"#9c179e\"],[0.4444444444444444,\"#bd3786\"],[0.5555555555555556,\"#d8576b\"],[0.6666666666666666,\"#ed7953\"],[0.7777777777777778,\"#fb9f3a\"],[0.8888888888888888,\"#fdca26\"],[1.0,\"#f0f921\"]],\"type\":\"histogram2dcontour\"}],\"mesh3d\":[{\"colorbar\":{\"outlinewidth\":0,\"ticks\":\"\"},\"type\":\"mesh3d\"}],\"parcoords\":[{\"line\":{\"colorbar\":{\"outlinewidth\":0,\"ticks\":\"\"}},\"type\":\"parcoords\"}],\"pie\":[{\"automargin\":true,\"type\":\"pie\"}],\"scatter\":[{\"marker\":{\"colorbar\":{\"outlinewidth\":0,\"ticks\":\"\"}},\"type\":\"scatter\"}],\"scatter3d\":[{\"line\":{\"colorbar\":{\"outlinewidth\":0,\"ticks\":\"\"}},\"marker\":{\"colorbar\":{\"outlinewidth\":0,\"ticks\":\"\"}},\"type\":\"scatter3d\"}],\"scattercarpet\":[{\"marker\":{\"colorbar\":{\"outlinewidth\":0,\"ticks\":\"\"}},\"type\":\"scattercarpet\"}],\"scattergeo\":[{\"marker\":{\"colorbar\":{\"outlinewidth\":0,\"ticks\":\"\"}},\"type\":\"scattergeo\"}],\"scattergl\":[{\"marker\":{\"colorbar\":{\"outlinewidth\":0,\"ticks\":\"\"}},\"type\":\"scattergl\"}],\"scattermapbox\":[{\"marker\":{\"colorbar\":{\"outlinewidth\":0,\"ticks\":\"\"}},\"type\":\"scattermapbox\"}],\"scatterpolar\":[{\"marker\":{\"colorbar\":{\"outlinewidth\":0,\"ticks\":\"\"}},\"type\":\"scatterpolar\"}],\"scatterpolargl\":[{\"marker\":{\"colorbar\":{\"outlinewidth\":0,\"ticks\":\"\"}},\"type\":\"scatterpolargl\"}],\"scatterternary\":[{\"marker\":{\"colorbar\":{\"outlinewidth\":0,\"ticks\":\"\"}},\"type\":\"scatterternary\"}],\"surface\":[{\"colorbar\":{\"outlinewidth\":0,\"ticks\":\"\"},\"colorscale\":[[0.0,\"#0d0887\"],[0.1111111111111111,\"#46039f\"],[0.2222222222222222,\"#7201a8\"],[0.3333333333333333,\"#9c179e\"],[0.4444444444444444,\"#bd3786\"],[0.5555555555555556,\"#d8576b\"],[0.6666666666666666,\"#ed7953\"],[0.7777777777777778,\"#fb9f3a\"],[0.8888888888888888,\"#fdca26\"],[1.0,\"#f0f921\"]],\"type\":\"surface\"}],\"table\":[{\"cells\":{\"fill\":{\"color\":\"#EBF0F8\"},\"line\":{\"color\":\"white\"}},\"header\":{\"fill\":{\"color\":\"#C8D4E3\"},\"line\":{\"color\":\"white\"}},\"type\":\"table\"}]},\"layout\":{\"annotationdefaults\":{\"arrowcolor\":\"#2a3f5f\",\"arrowhead\":0,\"arrowwidth\":1},\"autotypenumbers\":\"strict\",\"coloraxis\":{\"colorbar\":{\"outlinewidth\":0,\"ticks\":\"\"}},\"colorscale\":{\"diverging\":[[0,\"#8e0152\"],[0.1,\"#c51b7d\"],[0.2,\"#de77ae\"],[0.3,\"#f1b6da\"],[0.4,\"#fde0ef\"],[0.5,\"#f7f7f7\"],[0.6,\"#e6f5d0\"],[0.7,\"#b8e186\"],[0.8,\"#7fbc41\"],[0.9,\"#4d9221\"],[1,\"#276419\"]],\"sequential\":[[0.0,\"#0d0887\"],[0.1111111111111111,\"#46039f\"],[0.2222222222222222,\"#7201a8\"],[0.3333333333333333,\"#9c179e\"],[0.4444444444444444,\"#bd3786\"],[0.5555555555555556,\"#d8576b\"],[0.6666666666666666,\"#ed7953\"],[0.7777777777777778,\"#fb9f3a\"],[0.8888888888888888,\"#fdca26\"],[1.0,\"#f0f921\"]],\"sequentialminus\":[[0.0,\"#0d0887\"],[0.1111111111111111,\"#46039f\"],[0.2222222222222222,\"#7201a8\"],[0.3333333333333333,\"#9c179e\"],[0.4444444444444444,\"#bd3786\"],[0.5555555555555556,\"#d8576b\"],[0.6666666666666666,\"#ed7953\"],[0.7777777777777778,\"#fb9f3a\"],[0.8888888888888888,\"#fdca26\"],[1.0,\"#f0f921\"]]},\"colorway\":[\"#636efa\",\"#EF553B\",\"#00cc96\",\"#ab63fa\",\"#FFA15A\",\"#19d3f3\",\"#FF6692\",\"#B6E880\",\"#FF97FF\",\"#FECB52\"],\"font\":{\"color\":\"#2a3f5f\"},\"geo\":{\"bgcolor\":\"white\",\"lakecolor\":\"white\",\"landcolor\":\"#E5ECF6\",\"showlakes\":true,\"showland\":true,\"subunitcolor\":\"white\"},\"hoverlabel\":{\"align\":\"left\"},\"hovermode\":\"closest\",\"mapbox\":{\"style\":\"light\"},\"paper_bgcolor\":\"white\",\"plot_bgcolor\":\"#E5ECF6\",\"polar\":{\"angularaxis\":{\"gridcolor\":\"white\",\"linecolor\":\"white\",\"ticks\":\"\"},\"bgcolor\":\"#E5ECF6\",\"radialaxis\":{\"gridcolor\":\"white\",\"linecolor\":\"white\",\"ticks\":\"\"}},\"scene\":{\"xaxis\":{\"backgroundcolor\":\"#E5ECF6\",\"gridcolor\":\"white\",\"gridwidth\":2,\"linecolor\":\"white\",\"showbackground\":true,\"ticks\":\"\",\"zerolinecolor\":\"white\"},\"yaxis\":{\"backgroundcolor\":\"#E5ECF6\",\"gridcolor\":\"white\",\"gridwidth\":2,\"linecolor\":\"white\",\"showbackground\":true,\"ticks\":\"\",\"zerolinecolor\":\"white\"},\"zaxis\":{\"backgroundcolor\":\"#E5ECF6\",\"gridcolor\":\"white\",\"gridwidth\":2,\"linecolor\":\"white\",\"showbackground\":true,\"ticks\":\"\",\"zerolinecolor\":\"white\"}},\"shapedefaults\":{\"line\":{\"color\":\"#2a3f5f\"}},\"ternary\":{\"aaxis\":{\"gridcolor\":\"white\",\"linecolor\":\"white\",\"ticks\":\"\"},\"baxis\":{\"gridcolor\":\"white\",\"linecolor\":\"white\",\"ticks\":\"\"},\"bgcolor\":\"#E5ECF6\",\"caxis\":{\"gridcolor\":\"white\",\"linecolor\":\"white\",\"ticks\":\"\"}},\"title\":{\"x\":0.05},\"xaxis\":{\"automargin\":true,\"gridcolor\":\"white\",\"linecolor\":\"white\",\"ticks\":\"\",\"title\":{\"standoff\":15},\"zerolinecolor\":\"white\",\"zerolinewidth\":2},\"yaxis\":{\"automargin\":true,\"gridcolor\":\"white\",\"linecolor\":\"white\",\"ticks\":\"\",\"title\":{\"standoff\":15},\"zerolinecolor\":\"white\",\"zerolinewidth\":2}}},\"legend\":{\"tracegroupgap\":0},\"title\":{\"text\":\"El cliente a solicitado soporte tecnico\"}},                        {\"responsive\": true}                    ).then(function(){\n",
              "                            \n",
              "var gd = document.getElementById('5c7d3b33-213e-4bb5-b177-42afcc64dafd');\n",
              "var x = new MutationObserver(function (mutations, observer) {{\n",
              "        var display = window.getComputedStyle(gd).display;\n",
              "        if (!display || display === 'none') {{\n",
              "            console.log([gd, 'removed!']);\n",
              "            Plotly.purge(gd);\n",
              "            observer.disconnect();\n",
              "        }}\n",
              "}});\n",
              "\n",
              "// Listen for the removal of the full notebook cells\n",
              "var notebookContainer = gd.closest('#notebook-container');\n",
              "if (notebookContainer) {{\n",
              "    x.observe(notebookContainer, {childList: true});\n",
              "}}\n",
              "\n",
              "// Listen for the clearing of the current output cell\n",
              "var outputEl = gd.closest('.output');\n",
              "if (outputEl) {{\n",
              "    x.observe(outputEl, {childList: true});\n",
              "}}\n",
              "\n",
              "                        })                };                            </script>        </div>\n",
              "</body>\n",
              "</html>"
            ]
          },
          "metadata": {}
        }
      ]
    },
    {
      "cell_type": "markdown",
      "source": [
        "### SERVICIO TV "
      ],
      "metadata": {
        "id": "iO1BplWx-cma"
      }
    },
    {
      "cell_type": "code",
      "source": [
        "tabla_describe_pl=DF.groupby([\"SERVICIO_TV\"]).size()\n",
        "tabla_describe_pl= tabla_describe_pl.reset_index(name=\"conteo\")\n",
        "fig= px.pie(tabla_describe_pl, values = \"conteo\", names = \"SERVICIO_TV\", \n",
        "            title= \"El cliente cuenta con servicio de Tv\")\n",
        "fig.show()"
      ],
      "metadata": {
        "colab": {
          "base_uri": "https://localhost:8080/",
          "height": 542
        },
        "id": "UauuMODd-hbI",
        "outputId": "faeaf26e-4446-40b4-eb09-8cc13b4e27c5"
      },
      "execution_count": 109,
      "outputs": [
        {
          "output_type": "display_data",
          "data": {
            "text/html": [
              "<html>\n",
              "<head><meta charset=\"utf-8\" /></head>\n",
              "<body>\n",
              "    <div>            <script src=\"https://cdnjs.cloudflare.com/ajax/libs/mathjax/2.7.5/MathJax.js?config=TeX-AMS-MML_SVG\"></script><script type=\"text/javascript\">if (window.MathJax) {MathJax.Hub.Config({SVG: {font: \"STIX-Web\"}});}</script>                <script type=\"text/javascript\">window.PlotlyConfig = {MathJaxConfig: 'local'};</script>\n",
              "        <script src=\"https://cdn.plot.ly/plotly-2.8.3.min.js\"></script>                <div id=\"2dfd4125-8332-4ed3-8277-0ed519e61996\" class=\"plotly-graph-div\" style=\"height:525px; width:100%;\"></div>            <script type=\"text/javascript\">                                    window.PLOTLYENV=window.PLOTLYENV || {};                                    if (document.getElementById(\"2dfd4125-8332-4ed3-8277-0ed519e61996\")) {                    Plotly.newPlot(                        \"2dfd4125-8332-4ed3-8277-0ed519e61996\",                        [{\"domain\":{\"x\":[0.0,1.0],\"y\":[0.0,1.0]},\"hovertemplate\":\"SERVICIO_TV=%{label}<br>conteo=%{value}<extra></extra>\",\"labels\":[\"No\",\"No internet service\",\"Yes\"],\"legendgroup\":\"\",\"name\":\"\",\"showlegend\":true,\"values\":[2810,1526,2707],\"type\":\"pie\"}],                        {\"template\":{\"data\":{\"bar\":[{\"error_x\":{\"color\":\"#2a3f5f\"},\"error_y\":{\"color\":\"#2a3f5f\"},\"marker\":{\"line\":{\"color\":\"#E5ECF6\",\"width\":0.5},\"pattern\":{\"fillmode\":\"overlay\",\"size\":10,\"solidity\":0.2}},\"type\":\"bar\"}],\"barpolar\":[{\"marker\":{\"line\":{\"color\":\"#E5ECF6\",\"width\":0.5},\"pattern\":{\"fillmode\":\"overlay\",\"size\":10,\"solidity\":0.2}},\"type\":\"barpolar\"}],\"carpet\":[{\"aaxis\":{\"endlinecolor\":\"#2a3f5f\",\"gridcolor\":\"white\",\"linecolor\":\"white\",\"minorgridcolor\":\"white\",\"startlinecolor\":\"#2a3f5f\"},\"baxis\":{\"endlinecolor\":\"#2a3f5f\",\"gridcolor\":\"white\",\"linecolor\":\"white\",\"minorgridcolor\":\"white\",\"startlinecolor\":\"#2a3f5f\"},\"type\":\"carpet\"}],\"choropleth\":[{\"colorbar\":{\"outlinewidth\":0,\"ticks\":\"\"},\"type\":\"choropleth\"}],\"contour\":[{\"colorbar\":{\"outlinewidth\":0,\"ticks\":\"\"},\"colorscale\":[[0.0,\"#0d0887\"],[0.1111111111111111,\"#46039f\"],[0.2222222222222222,\"#7201a8\"],[0.3333333333333333,\"#9c179e\"],[0.4444444444444444,\"#bd3786\"],[0.5555555555555556,\"#d8576b\"],[0.6666666666666666,\"#ed7953\"],[0.7777777777777778,\"#fb9f3a\"],[0.8888888888888888,\"#fdca26\"],[1.0,\"#f0f921\"]],\"type\":\"contour\"}],\"contourcarpet\":[{\"colorbar\":{\"outlinewidth\":0,\"ticks\":\"\"},\"type\":\"contourcarpet\"}],\"heatmap\":[{\"colorbar\":{\"outlinewidth\":0,\"ticks\":\"\"},\"colorscale\":[[0.0,\"#0d0887\"],[0.1111111111111111,\"#46039f\"],[0.2222222222222222,\"#7201a8\"],[0.3333333333333333,\"#9c179e\"],[0.4444444444444444,\"#bd3786\"],[0.5555555555555556,\"#d8576b\"],[0.6666666666666666,\"#ed7953\"],[0.7777777777777778,\"#fb9f3a\"],[0.8888888888888888,\"#fdca26\"],[1.0,\"#f0f921\"]],\"type\":\"heatmap\"}],\"heatmapgl\":[{\"colorbar\":{\"outlinewidth\":0,\"ticks\":\"\"},\"colorscale\":[[0.0,\"#0d0887\"],[0.1111111111111111,\"#46039f\"],[0.2222222222222222,\"#7201a8\"],[0.3333333333333333,\"#9c179e\"],[0.4444444444444444,\"#bd3786\"],[0.5555555555555556,\"#d8576b\"],[0.6666666666666666,\"#ed7953\"],[0.7777777777777778,\"#fb9f3a\"],[0.8888888888888888,\"#fdca26\"],[1.0,\"#f0f921\"]],\"type\":\"heatmapgl\"}],\"histogram\":[{\"marker\":{\"pattern\":{\"fillmode\":\"overlay\",\"size\":10,\"solidity\":0.2}},\"type\":\"histogram\"}],\"histogram2d\":[{\"colorbar\":{\"outlinewidth\":0,\"ticks\":\"\"},\"colorscale\":[[0.0,\"#0d0887\"],[0.1111111111111111,\"#46039f\"],[0.2222222222222222,\"#7201a8\"],[0.3333333333333333,\"#9c179e\"],[0.4444444444444444,\"#bd3786\"],[0.5555555555555556,\"#d8576b\"],[0.6666666666666666,\"#ed7953\"],[0.7777777777777778,\"#fb9f3a\"],[0.8888888888888888,\"#fdca26\"],[1.0,\"#f0f921\"]],\"type\":\"histogram2d\"}],\"histogram2dcontour\":[{\"colorbar\":{\"outlinewidth\":0,\"ticks\":\"\"},\"colorscale\":[[0.0,\"#0d0887\"],[0.1111111111111111,\"#46039f\"],[0.2222222222222222,\"#7201a8\"],[0.3333333333333333,\"#9c179e\"],[0.4444444444444444,\"#bd3786\"],[0.5555555555555556,\"#d8576b\"],[0.6666666666666666,\"#ed7953\"],[0.7777777777777778,\"#fb9f3a\"],[0.8888888888888888,\"#fdca26\"],[1.0,\"#f0f921\"]],\"type\":\"histogram2dcontour\"}],\"mesh3d\":[{\"colorbar\":{\"outlinewidth\":0,\"ticks\":\"\"},\"type\":\"mesh3d\"}],\"parcoords\":[{\"line\":{\"colorbar\":{\"outlinewidth\":0,\"ticks\":\"\"}},\"type\":\"parcoords\"}],\"pie\":[{\"automargin\":true,\"type\":\"pie\"}],\"scatter\":[{\"marker\":{\"colorbar\":{\"outlinewidth\":0,\"ticks\":\"\"}},\"type\":\"scatter\"}],\"scatter3d\":[{\"line\":{\"colorbar\":{\"outlinewidth\":0,\"ticks\":\"\"}},\"marker\":{\"colorbar\":{\"outlinewidth\":0,\"ticks\":\"\"}},\"type\":\"scatter3d\"}],\"scattercarpet\":[{\"marker\":{\"colorbar\":{\"outlinewidth\":0,\"ticks\":\"\"}},\"type\":\"scattercarpet\"}],\"scattergeo\":[{\"marker\":{\"colorbar\":{\"outlinewidth\":0,\"ticks\":\"\"}},\"type\":\"scattergeo\"}],\"scattergl\":[{\"marker\":{\"colorbar\":{\"outlinewidth\":0,\"ticks\":\"\"}},\"type\":\"scattergl\"}],\"scattermapbox\":[{\"marker\":{\"colorbar\":{\"outlinewidth\":0,\"ticks\":\"\"}},\"type\":\"scattermapbox\"}],\"scatterpolar\":[{\"marker\":{\"colorbar\":{\"outlinewidth\":0,\"ticks\":\"\"}},\"type\":\"scatterpolar\"}],\"scatterpolargl\":[{\"marker\":{\"colorbar\":{\"outlinewidth\":0,\"ticks\":\"\"}},\"type\":\"scatterpolargl\"}],\"scatterternary\":[{\"marker\":{\"colorbar\":{\"outlinewidth\":0,\"ticks\":\"\"}},\"type\":\"scatterternary\"}],\"surface\":[{\"colorbar\":{\"outlinewidth\":0,\"ticks\":\"\"},\"colorscale\":[[0.0,\"#0d0887\"],[0.1111111111111111,\"#46039f\"],[0.2222222222222222,\"#7201a8\"],[0.3333333333333333,\"#9c179e\"],[0.4444444444444444,\"#bd3786\"],[0.5555555555555556,\"#d8576b\"],[0.6666666666666666,\"#ed7953\"],[0.7777777777777778,\"#fb9f3a\"],[0.8888888888888888,\"#fdca26\"],[1.0,\"#f0f921\"]],\"type\":\"surface\"}],\"table\":[{\"cells\":{\"fill\":{\"color\":\"#EBF0F8\"},\"line\":{\"color\":\"white\"}},\"header\":{\"fill\":{\"color\":\"#C8D4E3\"},\"line\":{\"color\":\"white\"}},\"type\":\"table\"}]},\"layout\":{\"annotationdefaults\":{\"arrowcolor\":\"#2a3f5f\",\"arrowhead\":0,\"arrowwidth\":1},\"autotypenumbers\":\"strict\",\"coloraxis\":{\"colorbar\":{\"outlinewidth\":0,\"ticks\":\"\"}},\"colorscale\":{\"diverging\":[[0,\"#8e0152\"],[0.1,\"#c51b7d\"],[0.2,\"#de77ae\"],[0.3,\"#f1b6da\"],[0.4,\"#fde0ef\"],[0.5,\"#f7f7f7\"],[0.6,\"#e6f5d0\"],[0.7,\"#b8e186\"],[0.8,\"#7fbc41\"],[0.9,\"#4d9221\"],[1,\"#276419\"]],\"sequential\":[[0.0,\"#0d0887\"],[0.1111111111111111,\"#46039f\"],[0.2222222222222222,\"#7201a8\"],[0.3333333333333333,\"#9c179e\"],[0.4444444444444444,\"#bd3786\"],[0.5555555555555556,\"#d8576b\"],[0.6666666666666666,\"#ed7953\"],[0.7777777777777778,\"#fb9f3a\"],[0.8888888888888888,\"#fdca26\"],[1.0,\"#f0f921\"]],\"sequentialminus\":[[0.0,\"#0d0887\"],[0.1111111111111111,\"#46039f\"],[0.2222222222222222,\"#7201a8\"],[0.3333333333333333,\"#9c179e\"],[0.4444444444444444,\"#bd3786\"],[0.5555555555555556,\"#d8576b\"],[0.6666666666666666,\"#ed7953\"],[0.7777777777777778,\"#fb9f3a\"],[0.8888888888888888,\"#fdca26\"],[1.0,\"#f0f921\"]]},\"colorway\":[\"#636efa\",\"#EF553B\",\"#00cc96\",\"#ab63fa\",\"#FFA15A\",\"#19d3f3\",\"#FF6692\",\"#B6E880\",\"#FF97FF\",\"#FECB52\"],\"font\":{\"color\":\"#2a3f5f\"},\"geo\":{\"bgcolor\":\"white\",\"lakecolor\":\"white\",\"landcolor\":\"#E5ECF6\",\"showlakes\":true,\"showland\":true,\"subunitcolor\":\"white\"},\"hoverlabel\":{\"align\":\"left\"},\"hovermode\":\"closest\",\"mapbox\":{\"style\":\"light\"},\"paper_bgcolor\":\"white\",\"plot_bgcolor\":\"#E5ECF6\",\"polar\":{\"angularaxis\":{\"gridcolor\":\"white\",\"linecolor\":\"white\",\"ticks\":\"\"},\"bgcolor\":\"#E5ECF6\",\"radialaxis\":{\"gridcolor\":\"white\",\"linecolor\":\"white\",\"ticks\":\"\"}},\"scene\":{\"xaxis\":{\"backgroundcolor\":\"#E5ECF6\",\"gridcolor\":\"white\",\"gridwidth\":2,\"linecolor\":\"white\",\"showbackground\":true,\"ticks\":\"\",\"zerolinecolor\":\"white\"},\"yaxis\":{\"backgroundcolor\":\"#E5ECF6\",\"gridcolor\":\"white\",\"gridwidth\":2,\"linecolor\":\"white\",\"showbackground\":true,\"ticks\":\"\",\"zerolinecolor\":\"white\"},\"zaxis\":{\"backgroundcolor\":\"#E5ECF6\",\"gridcolor\":\"white\",\"gridwidth\":2,\"linecolor\":\"white\",\"showbackground\":true,\"ticks\":\"\",\"zerolinecolor\":\"white\"}},\"shapedefaults\":{\"line\":{\"color\":\"#2a3f5f\"}},\"ternary\":{\"aaxis\":{\"gridcolor\":\"white\",\"linecolor\":\"white\",\"ticks\":\"\"},\"baxis\":{\"gridcolor\":\"white\",\"linecolor\":\"white\",\"ticks\":\"\"},\"bgcolor\":\"#E5ECF6\",\"caxis\":{\"gridcolor\":\"white\",\"linecolor\":\"white\",\"ticks\":\"\"}},\"title\":{\"x\":0.05},\"xaxis\":{\"automargin\":true,\"gridcolor\":\"white\",\"linecolor\":\"white\",\"ticks\":\"\",\"title\":{\"standoff\":15},\"zerolinecolor\":\"white\",\"zerolinewidth\":2},\"yaxis\":{\"automargin\":true,\"gridcolor\":\"white\",\"linecolor\":\"white\",\"ticks\":\"\",\"title\":{\"standoff\":15},\"zerolinecolor\":\"white\",\"zerolinewidth\":2}}},\"legend\":{\"tracegroupgap\":0},\"title\":{\"text\":\"El cliente cuenta con servicio de Tv\"}},                        {\"responsive\": true}                    ).then(function(){\n",
              "                            \n",
              "var gd = document.getElementById('2dfd4125-8332-4ed3-8277-0ed519e61996');\n",
              "var x = new MutationObserver(function (mutations, observer) {{\n",
              "        var display = window.getComputedStyle(gd).display;\n",
              "        if (!display || display === 'none') {{\n",
              "            console.log([gd, 'removed!']);\n",
              "            Plotly.purge(gd);\n",
              "            observer.disconnect();\n",
              "        }}\n",
              "}});\n",
              "\n",
              "// Listen for the removal of the full notebook cells\n",
              "var notebookContainer = gd.closest('#notebook-container');\n",
              "if (notebookContainer) {{\n",
              "    x.observe(notebookContainer, {childList: true});\n",
              "}}\n",
              "\n",
              "// Listen for the clearing of the current output cell\n",
              "var outputEl = gd.closest('.output');\n",
              "if (outputEl) {{\n",
              "    x.observe(outputEl, {childList: true});\n",
              "}}\n",
              "\n",
              "                        })                };                            </script>        </div>\n",
              "</body>\n",
              "</html>"
            ]
          },
          "metadata": {}
        }
      ]
    },
    {
      "cell_type": "markdown",
      "source": [
        "### - SERVICIOS STREAMING"
      ],
      "metadata": {
        "id": "g86dZQAw-vBg"
      }
    },
    {
      "cell_type": "code",
      "source": [
        "tabla_describe_pl=DF.groupby([\"SERVICIOS_STREAMING\"]).size()\n",
        "tabla_describe_pl= tabla_describe_pl.reset_index(name=\"conteo\")\n",
        "fig= px.pie(tabla_describe_pl, values = \"conteo\", names = \"SERVICIOS_STREAMING\", \n",
        "            title= \"El cliente cuenta con servicio de streaming\")\n",
        "fig.show()"
      ],
      "metadata": {
        "colab": {
          "base_uri": "https://localhost:8080/",
          "height": 542
        },
        "id": "zixTxQx3-zb4",
        "outputId": "b7c4d293-9411-4614-f2f7-63a8f11a973c"
      },
      "execution_count": 110,
      "outputs": [
        {
          "output_type": "display_data",
          "data": {
            "text/html": [
              "<html>\n",
              "<head><meta charset=\"utf-8\" /></head>\n",
              "<body>\n",
              "    <div>            <script src=\"https://cdnjs.cloudflare.com/ajax/libs/mathjax/2.7.5/MathJax.js?config=TeX-AMS-MML_SVG\"></script><script type=\"text/javascript\">if (window.MathJax) {MathJax.Hub.Config({SVG: {font: \"STIX-Web\"}});}</script>                <script type=\"text/javascript\">window.PlotlyConfig = {MathJaxConfig: 'local'};</script>\n",
              "        <script src=\"https://cdn.plot.ly/plotly-2.8.3.min.js\"></script>                <div id=\"94ee9aab-7c40-4760-843a-03d926dfd7b5\" class=\"plotly-graph-div\" style=\"height:525px; width:100%;\"></div>            <script type=\"text/javascript\">                                    window.PLOTLYENV=window.PLOTLYENV || {};                                    if (document.getElementById(\"94ee9aab-7c40-4760-843a-03d926dfd7b5\")) {                    Plotly.newPlot(                        \"94ee9aab-7c40-4760-843a-03d926dfd7b5\",                        [{\"domain\":{\"x\":[0.0,1.0],\"y\":[0.0,1.0]},\"hovertemplate\":\"SERVICIOS_STREAMING=%{label}<br>conteo=%{value}<extra></extra>\",\"labels\":[\"No\",\"No internet service\",\"Yes\"],\"legendgroup\":\"\",\"name\":\"\",\"showlegend\":true,\"values\":[2785,1526,2732],\"type\":\"pie\"}],                        {\"template\":{\"data\":{\"bar\":[{\"error_x\":{\"color\":\"#2a3f5f\"},\"error_y\":{\"color\":\"#2a3f5f\"},\"marker\":{\"line\":{\"color\":\"#E5ECF6\",\"width\":0.5},\"pattern\":{\"fillmode\":\"overlay\",\"size\":10,\"solidity\":0.2}},\"type\":\"bar\"}],\"barpolar\":[{\"marker\":{\"line\":{\"color\":\"#E5ECF6\",\"width\":0.5},\"pattern\":{\"fillmode\":\"overlay\",\"size\":10,\"solidity\":0.2}},\"type\":\"barpolar\"}],\"carpet\":[{\"aaxis\":{\"endlinecolor\":\"#2a3f5f\",\"gridcolor\":\"white\",\"linecolor\":\"white\",\"minorgridcolor\":\"white\",\"startlinecolor\":\"#2a3f5f\"},\"baxis\":{\"endlinecolor\":\"#2a3f5f\",\"gridcolor\":\"white\",\"linecolor\":\"white\",\"minorgridcolor\":\"white\",\"startlinecolor\":\"#2a3f5f\"},\"type\":\"carpet\"}],\"choropleth\":[{\"colorbar\":{\"outlinewidth\":0,\"ticks\":\"\"},\"type\":\"choropleth\"}],\"contour\":[{\"colorbar\":{\"outlinewidth\":0,\"ticks\":\"\"},\"colorscale\":[[0.0,\"#0d0887\"],[0.1111111111111111,\"#46039f\"],[0.2222222222222222,\"#7201a8\"],[0.3333333333333333,\"#9c179e\"],[0.4444444444444444,\"#bd3786\"],[0.5555555555555556,\"#d8576b\"],[0.6666666666666666,\"#ed7953\"],[0.7777777777777778,\"#fb9f3a\"],[0.8888888888888888,\"#fdca26\"],[1.0,\"#f0f921\"]],\"type\":\"contour\"}],\"contourcarpet\":[{\"colorbar\":{\"outlinewidth\":0,\"ticks\":\"\"},\"type\":\"contourcarpet\"}],\"heatmap\":[{\"colorbar\":{\"outlinewidth\":0,\"ticks\":\"\"},\"colorscale\":[[0.0,\"#0d0887\"],[0.1111111111111111,\"#46039f\"],[0.2222222222222222,\"#7201a8\"],[0.3333333333333333,\"#9c179e\"],[0.4444444444444444,\"#bd3786\"],[0.5555555555555556,\"#d8576b\"],[0.6666666666666666,\"#ed7953\"],[0.7777777777777778,\"#fb9f3a\"],[0.8888888888888888,\"#fdca26\"],[1.0,\"#f0f921\"]],\"type\":\"heatmap\"}],\"heatmapgl\":[{\"colorbar\":{\"outlinewidth\":0,\"ticks\":\"\"},\"colorscale\":[[0.0,\"#0d0887\"],[0.1111111111111111,\"#46039f\"],[0.2222222222222222,\"#7201a8\"],[0.3333333333333333,\"#9c179e\"],[0.4444444444444444,\"#bd3786\"],[0.5555555555555556,\"#d8576b\"],[0.6666666666666666,\"#ed7953\"],[0.7777777777777778,\"#fb9f3a\"],[0.8888888888888888,\"#fdca26\"],[1.0,\"#f0f921\"]],\"type\":\"heatmapgl\"}],\"histogram\":[{\"marker\":{\"pattern\":{\"fillmode\":\"overlay\",\"size\":10,\"solidity\":0.2}},\"type\":\"histogram\"}],\"histogram2d\":[{\"colorbar\":{\"outlinewidth\":0,\"ticks\":\"\"},\"colorscale\":[[0.0,\"#0d0887\"],[0.1111111111111111,\"#46039f\"],[0.2222222222222222,\"#7201a8\"],[0.3333333333333333,\"#9c179e\"],[0.4444444444444444,\"#bd3786\"],[0.5555555555555556,\"#d8576b\"],[0.6666666666666666,\"#ed7953\"],[0.7777777777777778,\"#fb9f3a\"],[0.8888888888888888,\"#fdca26\"],[1.0,\"#f0f921\"]],\"type\":\"histogram2d\"}],\"histogram2dcontour\":[{\"colorbar\":{\"outlinewidth\":0,\"ticks\":\"\"},\"colorscale\":[[0.0,\"#0d0887\"],[0.1111111111111111,\"#46039f\"],[0.2222222222222222,\"#7201a8\"],[0.3333333333333333,\"#9c179e\"],[0.4444444444444444,\"#bd3786\"],[0.5555555555555556,\"#d8576b\"],[0.6666666666666666,\"#ed7953\"],[0.7777777777777778,\"#fb9f3a\"],[0.8888888888888888,\"#fdca26\"],[1.0,\"#f0f921\"]],\"type\":\"histogram2dcontour\"}],\"mesh3d\":[{\"colorbar\":{\"outlinewidth\":0,\"ticks\":\"\"},\"type\":\"mesh3d\"}],\"parcoords\":[{\"line\":{\"colorbar\":{\"outlinewidth\":0,\"ticks\":\"\"}},\"type\":\"parcoords\"}],\"pie\":[{\"automargin\":true,\"type\":\"pie\"}],\"scatter\":[{\"marker\":{\"colorbar\":{\"outlinewidth\":0,\"ticks\":\"\"}},\"type\":\"scatter\"}],\"scatter3d\":[{\"line\":{\"colorbar\":{\"outlinewidth\":0,\"ticks\":\"\"}},\"marker\":{\"colorbar\":{\"outlinewidth\":0,\"ticks\":\"\"}},\"type\":\"scatter3d\"}],\"scattercarpet\":[{\"marker\":{\"colorbar\":{\"outlinewidth\":0,\"ticks\":\"\"}},\"type\":\"scattercarpet\"}],\"scattergeo\":[{\"marker\":{\"colorbar\":{\"outlinewidth\":0,\"ticks\":\"\"}},\"type\":\"scattergeo\"}],\"scattergl\":[{\"marker\":{\"colorbar\":{\"outlinewidth\":0,\"ticks\":\"\"}},\"type\":\"scattergl\"}],\"scattermapbox\":[{\"marker\":{\"colorbar\":{\"outlinewidth\":0,\"ticks\":\"\"}},\"type\":\"scattermapbox\"}],\"scatterpolar\":[{\"marker\":{\"colorbar\":{\"outlinewidth\":0,\"ticks\":\"\"}},\"type\":\"scatterpolar\"}],\"scatterpolargl\":[{\"marker\":{\"colorbar\":{\"outlinewidth\":0,\"ticks\":\"\"}},\"type\":\"scatterpolargl\"}],\"scatterternary\":[{\"marker\":{\"colorbar\":{\"outlinewidth\":0,\"ticks\":\"\"}},\"type\":\"scatterternary\"}],\"surface\":[{\"colorbar\":{\"outlinewidth\":0,\"ticks\":\"\"},\"colorscale\":[[0.0,\"#0d0887\"],[0.1111111111111111,\"#46039f\"],[0.2222222222222222,\"#7201a8\"],[0.3333333333333333,\"#9c179e\"],[0.4444444444444444,\"#bd3786\"],[0.5555555555555556,\"#d8576b\"],[0.6666666666666666,\"#ed7953\"],[0.7777777777777778,\"#fb9f3a\"],[0.8888888888888888,\"#fdca26\"],[1.0,\"#f0f921\"]],\"type\":\"surface\"}],\"table\":[{\"cells\":{\"fill\":{\"color\":\"#EBF0F8\"},\"line\":{\"color\":\"white\"}},\"header\":{\"fill\":{\"color\":\"#C8D4E3\"},\"line\":{\"color\":\"white\"}},\"type\":\"table\"}]},\"layout\":{\"annotationdefaults\":{\"arrowcolor\":\"#2a3f5f\",\"arrowhead\":0,\"arrowwidth\":1},\"autotypenumbers\":\"strict\",\"coloraxis\":{\"colorbar\":{\"outlinewidth\":0,\"ticks\":\"\"}},\"colorscale\":{\"diverging\":[[0,\"#8e0152\"],[0.1,\"#c51b7d\"],[0.2,\"#de77ae\"],[0.3,\"#f1b6da\"],[0.4,\"#fde0ef\"],[0.5,\"#f7f7f7\"],[0.6,\"#e6f5d0\"],[0.7,\"#b8e186\"],[0.8,\"#7fbc41\"],[0.9,\"#4d9221\"],[1,\"#276419\"]],\"sequential\":[[0.0,\"#0d0887\"],[0.1111111111111111,\"#46039f\"],[0.2222222222222222,\"#7201a8\"],[0.3333333333333333,\"#9c179e\"],[0.4444444444444444,\"#bd3786\"],[0.5555555555555556,\"#d8576b\"],[0.6666666666666666,\"#ed7953\"],[0.7777777777777778,\"#fb9f3a\"],[0.8888888888888888,\"#fdca26\"],[1.0,\"#f0f921\"]],\"sequentialminus\":[[0.0,\"#0d0887\"],[0.1111111111111111,\"#46039f\"],[0.2222222222222222,\"#7201a8\"],[0.3333333333333333,\"#9c179e\"],[0.4444444444444444,\"#bd3786\"],[0.5555555555555556,\"#d8576b\"],[0.6666666666666666,\"#ed7953\"],[0.7777777777777778,\"#fb9f3a\"],[0.8888888888888888,\"#fdca26\"],[1.0,\"#f0f921\"]]},\"colorway\":[\"#636efa\",\"#EF553B\",\"#00cc96\",\"#ab63fa\",\"#FFA15A\",\"#19d3f3\",\"#FF6692\",\"#B6E880\",\"#FF97FF\",\"#FECB52\"],\"font\":{\"color\":\"#2a3f5f\"},\"geo\":{\"bgcolor\":\"white\",\"lakecolor\":\"white\",\"landcolor\":\"#E5ECF6\",\"showlakes\":true,\"showland\":true,\"subunitcolor\":\"white\"},\"hoverlabel\":{\"align\":\"left\"},\"hovermode\":\"closest\",\"mapbox\":{\"style\":\"light\"},\"paper_bgcolor\":\"white\",\"plot_bgcolor\":\"#E5ECF6\",\"polar\":{\"angularaxis\":{\"gridcolor\":\"white\",\"linecolor\":\"white\",\"ticks\":\"\"},\"bgcolor\":\"#E5ECF6\",\"radialaxis\":{\"gridcolor\":\"white\",\"linecolor\":\"white\",\"ticks\":\"\"}},\"scene\":{\"xaxis\":{\"backgroundcolor\":\"#E5ECF6\",\"gridcolor\":\"white\",\"gridwidth\":2,\"linecolor\":\"white\",\"showbackground\":true,\"ticks\":\"\",\"zerolinecolor\":\"white\"},\"yaxis\":{\"backgroundcolor\":\"#E5ECF6\",\"gridcolor\":\"white\",\"gridwidth\":2,\"linecolor\":\"white\",\"showbackground\":true,\"ticks\":\"\",\"zerolinecolor\":\"white\"},\"zaxis\":{\"backgroundcolor\":\"#E5ECF6\",\"gridcolor\":\"white\",\"gridwidth\":2,\"linecolor\":\"white\",\"showbackground\":true,\"ticks\":\"\",\"zerolinecolor\":\"white\"}},\"shapedefaults\":{\"line\":{\"color\":\"#2a3f5f\"}},\"ternary\":{\"aaxis\":{\"gridcolor\":\"white\",\"linecolor\":\"white\",\"ticks\":\"\"},\"baxis\":{\"gridcolor\":\"white\",\"linecolor\":\"white\",\"ticks\":\"\"},\"bgcolor\":\"#E5ECF6\",\"caxis\":{\"gridcolor\":\"white\",\"linecolor\":\"white\",\"ticks\":\"\"}},\"title\":{\"x\":0.05},\"xaxis\":{\"automargin\":true,\"gridcolor\":\"white\",\"linecolor\":\"white\",\"ticks\":\"\",\"title\":{\"standoff\":15},\"zerolinecolor\":\"white\",\"zerolinewidth\":2},\"yaxis\":{\"automargin\":true,\"gridcolor\":\"white\",\"linecolor\":\"white\",\"ticks\":\"\",\"title\":{\"standoff\":15},\"zerolinecolor\":\"white\",\"zerolinewidth\":2}}},\"legend\":{\"tracegroupgap\":0},\"title\":{\"text\":\"El cliente cuenta con servicio de streaming\"}},                        {\"responsive\": true}                    ).then(function(){\n",
              "                            \n",
              "var gd = document.getElementById('94ee9aab-7c40-4760-843a-03d926dfd7b5');\n",
              "var x = new MutationObserver(function (mutations, observer) {{\n",
              "        var display = window.getComputedStyle(gd).display;\n",
              "        if (!display || display === 'none') {{\n",
              "            console.log([gd, 'removed!']);\n",
              "            Plotly.purge(gd);\n",
              "            observer.disconnect();\n",
              "        }}\n",
              "}});\n",
              "\n",
              "// Listen for the removal of the full notebook cells\n",
              "var notebookContainer = gd.closest('#notebook-container');\n",
              "if (notebookContainer) {{\n",
              "    x.observe(notebookContainer, {childList: true});\n",
              "}}\n",
              "\n",
              "// Listen for the clearing of the current output cell\n",
              "var outputEl = gd.closest('.output');\n",
              "if (outputEl) {{\n",
              "    x.observe(outputEl, {childList: true});\n",
              "}}\n",
              "\n",
              "                        })                };                            </script>        </div>\n",
              "</body>\n",
              "</html>"
            ]
          },
          "metadata": {}
        }
      ]
    },
    {
      "cell_type": "markdown",
      "source": [
        "### - PERIODO CONTRATO"
      ],
      "metadata": {
        "id": "gylRedX--89_"
      }
    },
    {
      "cell_type": "code",
      "source": [
        "tabla_describe_pl=DF.groupby([\"PERIODO_CONTRATO\"]).size()\n",
        "tabla_describe_pl= tabla_describe_pl.reset_index(name=\"conteo\")\n",
        "fig= px.bar(tabla_describe_pl, y = \"conteo\", x = \"PERIODO_CONTRATO\", \n",
        "            title= \"Periodo de duración del contrato\", color = \"PERIODO_CONTRATO\", text = \"conteo\")\n",
        "fig.show()"
      ],
      "metadata": {
        "colab": {
          "base_uri": "https://localhost:8080/",
          "height": 542
        },
        "id": "Y6K93coh_I6x",
        "outputId": "eb7a2467-6036-49cb-e660-db2a9b948a95"
      },
      "execution_count": 111,
      "outputs": [
        {
          "output_type": "display_data",
          "data": {
            "text/html": [
              "<html>\n",
              "<head><meta charset=\"utf-8\" /></head>\n",
              "<body>\n",
              "    <div>            <script src=\"https://cdnjs.cloudflare.com/ajax/libs/mathjax/2.7.5/MathJax.js?config=TeX-AMS-MML_SVG\"></script><script type=\"text/javascript\">if (window.MathJax) {MathJax.Hub.Config({SVG: {font: \"STIX-Web\"}});}</script>                <script type=\"text/javascript\">window.PlotlyConfig = {MathJaxConfig: 'local'};</script>\n",
              "        <script src=\"https://cdn.plot.ly/plotly-2.8.3.min.js\"></script>                <div id=\"01071a07-e732-43f5-9c56-27b5c90bf024\" class=\"plotly-graph-div\" style=\"height:525px; width:100%;\"></div>            <script type=\"text/javascript\">                                    window.PLOTLYENV=window.PLOTLYENV || {};                                    if (document.getElementById(\"01071a07-e732-43f5-9c56-27b5c90bf024\")) {                    Plotly.newPlot(                        \"01071a07-e732-43f5-9c56-27b5c90bf024\",                        [{\"alignmentgroup\":\"True\",\"hovertemplate\":\"PERIODO_CONTRATO=%{x}<br>conteo=%{text}<extra></extra>\",\"legendgroup\":\"Month-to-month\",\"marker\":{\"color\":\"#636efa\",\"pattern\":{\"shape\":\"\"}},\"name\":\"Month-to-month\",\"offsetgroup\":\"Month-to-month\",\"orientation\":\"v\",\"showlegend\":true,\"text\":[3875.0],\"textposition\":\"auto\",\"x\":[\"Month-to-month\"],\"xaxis\":\"x\",\"y\":[3875],\"yaxis\":\"y\",\"type\":\"bar\"},{\"alignmentgroup\":\"True\",\"hovertemplate\":\"PERIODO_CONTRATO=%{x}<br>conteo=%{text}<extra></extra>\",\"legendgroup\":\"One year\",\"marker\":{\"color\":\"#EF553B\",\"pattern\":{\"shape\":\"\"}},\"name\":\"One year\",\"offsetgroup\":\"One year\",\"orientation\":\"v\",\"showlegend\":true,\"text\":[1473.0],\"textposition\":\"auto\",\"x\":[\"One year\"],\"xaxis\":\"x\",\"y\":[1473],\"yaxis\":\"y\",\"type\":\"bar\"},{\"alignmentgroup\":\"True\",\"hovertemplate\":\"PERIODO_CONTRATO=%{x}<br>conteo=%{text}<extra></extra>\",\"legendgroup\":\"Two year\",\"marker\":{\"color\":\"#00cc96\",\"pattern\":{\"shape\":\"\"}},\"name\":\"Two year\",\"offsetgroup\":\"Two year\",\"orientation\":\"v\",\"showlegend\":true,\"text\":[1695.0],\"textposition\":\"auto\",\"x\":[\"Two year\"],\"xaxis\":\"x\",\"y\":[1695],\"yaxis\":\"y\",\"type\":\"bar\"}],                        {\"template\":{\"data\":{\"bar\":[{\"error_x\":{\"color\":\"#2a3f5f\"},\"error_y\":{\"color\":\"#2a3f5f\"},\"marker\":{\"line\":{\"color\":\"#E5ECF6\",\"width\":0.5},\"pattern\":{\"fillmode\":\"overlay\",\"size\":10,\"solidity\":0.2}},\"type\":\"bar\"}],\"barpolar\":[{\"marker\":{\"line\":{\"color\":\"#E5ECF6\",\"width\":0.5},\"pattern\":{\"fillmode\":\"overlay\",\"size\":10,\"solidity\":0.2}},\"type\":\"barpolar\"}],\"carpet\":[{\"aaxis\":{\"endlinecolor\":\"#2a3f5f\",\"gridcolor\":\"white\",\"linecolor\":\"white\",\"minorgridcolor\":\"white\",\"startlinecolor\":\"#2a3f5f\"},\"baxis\":{\"endlinecolor\":\"#2a3f5f\",\"gridcolor\":\"white\",\"linecolor\":\"white\",\"minorgridcolor\":\"white\",\"startlinecolor\":\"#2a3f5f\"},\"type\":\"carpet\"}],\"choropleth\":[{\"colorbar\":{\"outlinewidth\":0,\"ticks\":\"\"},\"type\":\"choropleth\"}],\"contour\":[{\"colorbar\":{\"outlinewidth\":0,\"ticks\":\"\"},\"colorscale\":[[0.0,\"#0d0887\"],[0.1111111111111111,\"#46039f\"],[0.2222222222222222,\"#7201a8\"],[0.3333333333333333,\"#9c179e\"],[0.4444444444444444,\"#bd3786\"],[0.5555555555555556,\"#d8576b\"],[0.6666666666666666,\"#ed7953\"],[0.7777777777777778,\"#fb9f3a\"],[0.8888888888888888,\"#fdca26\"],[1.0,\"#f0f921\"]],\"type\":\"contour\"}],\"contourcarpet\":[{\"colorbar\":{\"outlinewidth\":0,\"ticks\":\"\"},\"type\":\"contourcarpet\"}],\"heatmap\":[{\"colorbar\":{\"outlinewidth\":0,\"ticks\":\"\"},\"colorscale\":[[0.0,\"#0d0887\"],[0.1111111111111111,\"#46039f\"],[0.2222222222222222,\"#7201a8\"],[0.3333333333333333,\"#9c179e\"],[0.4444444444444444,\"#bd3786\"],[0.5555555555555556,\"#d8576b\"],[0.6666666666666666,\"#ed7953\"],[0.7777777777777778,\"#fb9f3a\"],[0.8888888888888888,\"#fdca26\"],[1.0,\"#f0f921\"]],\"type\":\"heatmap\"}],\"heatmapgl\":[{\"colorbar\":{\"outlinewidth\":0,\"ticks\":\"\"},\"colorscale\":[[0.0,\"#0d0887\"],[0.1111111111111111,\"#46039f\"],[0.2222222222222222,\"#7201a8\"],[0.3333333333333333,\"#9c179e\"],[0.4444444444444444,\"#bd3786\"],[0.5555555555555556,\"#d8576b\"],[0.6666666666666666,\"#ed7953\"],[0.7777777777777778,\"#fb9f3a\"],[0.8888888888888888,\"#fdca26\"],[1.0,\"#f0f921\"]],\"type\":\"heatmapgl\"}],\"histogram\":[{\"marker\":{\"pattern\":{\"fillmode\":\"overlay\",\"size\":10,\"solidity\":0.2}},\"type\":\"histogram\"}],\"histogram2d\":[{\"colorbar\":{\"outlinewidth\":0,\"ticks\":\"\"},\"colorscale\":[[0.0,\"#0d0887\"],[0.1111111111111111,\"#46039f\"],[0.2222222222222222,\"#7201a8\"],[0.3333333333333333,\"#9c179e\"],[0.4444444444444444,\"#bd3786\"],[0.5555555555555556,\"#d8576b\"],[0.6666666666666666,\"#ed7953\"],[0.7777777777777778,\"#fb9f3a\"],[0.8888888888888888,\"#fdca26\"],[1.0,\"#f0f921\"]],\"type\":\"histogram2d\"}],\"histogram2dcontour\":[{\"colorbar\":{\"outlinewidth\":0,\"ticks\":\"\"},\"colorscale\":[[0.0,\"#0d0887\"],[0.1111111111111111,\"#46039f\"],[0.2222222222222222,\"#7201a8\"],[0.3333333333333333,\"#9c179e\"],[0.4444444444444444,\"#bd3786\"],[0.5555555555555556,\"#d8576b\"],[0.6666666666666666,\"#ed7953\"],[0.7777777777777778,\"#fb9f3a\"],[0.8888888888888888,\"#fdca26\"],[1.0,\"#f0f921\"]],\"type\":\"histogram2dcontour\"}],\"mesh3d\":[{\"colorbar\":{\"outlinewidth\":0,\"ticks\":\"\"},\"type\":\"mesh3d\"}],\"parcoords\":[{\"line\":{\"colorbar\":{\"outlinewidth\":0,\"ticks\":\"\"}},\"type\":\"parcoords\"}],\"pie\":[{\"automargin\":true,\"type\":\"pie\"}],\"scatter\":[{\"marker\":{\"colorbar\":{\"outlinewidth\":0,\"ticks\":\"\"}},\"type\":\"scatter\"}],\"scatter3d\":[{\"line\":{\"colorbar\":{\"outlinewidth\":0,\"ticks\":\"\"}},\"marker\":{\"colorbar\":{\"outlinewidth\":0,\"ticks\":\"\"}},\"type\":\"scatter3d\"}],\"scattercarpet\":[{\"marker\":{\"colorbar\":{\"outlinewidth\":0,\"ticks\":\"\"}},\"type\":\"scattercarpet\"}],\"scattergeo\":[{\"marker\":{\"colorbar\":{\"outlinewidth\":0,\"ticks\":\"\"}},\"type\":\"scattergeo\"}],\"scattergl\":[{\"marker\":{\"colorbar\":{\"outlinewidth\":0,\"ticks\":\"\"}},\"type\":\"scattergl\"}],\"scattermapbox\":[{\"marker\":{\"colorbar\":{\"outlinewidth\":0,\"ticks\":\"\"}},\"type\":\"scattermapbox\"}],\"scatterpolar\":[{\"marker\":{\"colorbar\":{\"outlinewidth\":0,\"ticks\":\"\"}},\"type\":\"scatterpolar\"}],\"scatterpolargl\":[{\"marker\":{\"colorbar\":{\"outlinewidth\":0,\"ticks\":\"\"}},\"type\":\"scatterpolargl\"}],\"scatterternary\":[{\"marker\":{\"colorbar\":{\"outlinewidth\":0,\"ticks\":\"\"}},\"type\":\"scatterternary\"}],\"surface\":[{\"colorbar\":{\"outlinewidth\":0,\"ticks\":\"\"},\"colorscale\":[[0.0,\"#0d0887\"],[0.1111111111111111,\"#46039f\"],[0.2222222222222222,\"#7201a8\"],[0.3333333333333333,\"#9c179e\"],[0.4444444444444444,\"#bd3786\"],[0.5555555555555556,\"#d8576b\"],[0.6666666666666666,\"#ed7953\"],[0.7777777777777778,\"#fb9f3a\"],[0.8888888888888888,\"#fdca26\"],[1.0,\"#f0f921\"]],\"type\":\"surface\"}],\"table\":[{\"cells\":{\"fill\":{\"color\":\"#EBF0F8\"},\"line\":{\"color\":\"white\"}},\"header\":{\"fill\":{\"color\":\"#C8D4E3\"},\"line\":{\"color\":\"white\"}},\"type\":\"table\"}]},\"layout\":{\"annotationdefaults\":{\"arrowcolor\":\"#2a3f5f\",\"arrowhead\":0,\"arrowwidth\":1},\"autotypenumbers\":\"strict\",\"coloraxis\":{\"colorbar\":{\"outlinewidth\":0,\"ticks\":\"\"}},\"colorscale\":{\"diverging\":[[0,\"#8e0152\"],[0.1,\"#c51b7d\"],[0.2,\"#de77ae\"],[0.3,\"#f1b6da\"],[0.4,\"#fde0ef\"],[0.5,\"#f7f7f7\"],[0.6,\"#e6f5d0\"],[0.7,\"#b8e186\"],[0.8,\"#7fbc41\"],[0.9,\"#4d9221\"],[1,\"#276419\"]],\"sequential\":[[0.0,\"#0d0887\"],[0.1111111111111111,\"#46039f\"],[0.2222222222222222,\"#7201a8\"],[0.3333333333333333,\"#9c179e\"],[0.4444444444444444,\"#bd3786\"],[0.5555555555555556,\"#d8576b\"],[0.6666666666666666,\"#ed7953\"],[0.7777777777777778,\"#fb9f3a\"],[0.8888888888888888,\"#fdca26\"],[1.0,\"#f0f921\"]],\"sequentialminus\":[[0.0,\"#0d0887\"],[0.1111111111111111,\"#46039f\"],[0.2222222222222222,\"#7201a8\"],[0.3333333333333333,\"#9c179e\"],[0.4444444444444444,\"#bd3786\"],[0.5555555555555556,\"#d8576b\"],[0.6666666666666666,\"#ed7953\"],[0.7777777777777778,\"#fb9f3a\"],[0.8888888888888888,\"#fdca26\"],[1.0,\"#f0f921\"]]},\"colorway\":[\"#636efa\",\"#EF553B\",\"#00cc96\",\"#ab63fa\",\"#FFA15A\",\"#19d3f3\",\"#FF6692\",\"#B6E880\",\"#FF97FF\",\"#FECB52\"],\"font\":{\"color\":\"#2a3f5f\"},\"geo\":{\"bgcolor\":\"white\",\"lakecolor\":\"white\",\"landcolor\":\"#E5ECF6\",\"showlakes\":true,\"showland\":true,\"subunitcolor\":\"white\"},\"hoverlabel\":{\"align\":\"left\"},\"hovermode\":\"closest\",\"mapbox\":{\"style\":\"light\"},\"paper_bgcolor\":\"white\",\"plot_bgcolor\":\"#E5ECF6\",\"polar\":{\"angularaxis\":{\"gridcolor\":\"white\",\"linecolor\":\"white\",\"ticks\":\"\"},\"bgcolor\":\"#E5ECF6\",\"radialaxis\":{\"gridcolor\":\"white\",\"linecolor\":\"white\",\"ticks\":\"\"}},\"scene\":{\"xaxis\":{\"backgroundcolor\":\"#E5ECF6\",\"gridcolor\":\"white\",\"gridwidth\":2,\"linecolor\":\"white\",\"showbackground\":true,\"ticks\":\"\",\"zerolinecolor\":\"white\"},\"yaxis\":{\"backgroundcolor\":\"#E5ECF6\",\"gridcolor\":\"white\",\"gridwidth\":2,\"linecolor\":\"white\",\"showbackground\":true,\"ticks\":\"\",\"zerolinecolor\":\"white\"},\"zaxis\":{\"backgroundcolor\":\"#E5ECF6\",\"gridcolor\":\"white\",\"gridwidth\":2,\"linecolor\":\"white\",\"showbackground\":true,\"ticks\":\"\",\"zerolinecolor\":\"white\"}},\"shapedefaults\":{\"line\":{\"color\":\"#2a3f5f\"}},\"ternary\":{\"aaxis\":{\"gridcolor\":\"white\",\"linecolor\":\"white\",\"ticks\":\"\"},\"baxis\":{\"gridcolor\":\"white\",\"linecolor\":\"white\",\"ticks\":\"\"},\"bgcolor\":\"#E5ECF6\",\"caxis\":{\"gridcolor\":\"white\",\"linecolor\":\"white\",\"ticks\":\"\"}},\"title\":{\"x\":0.05},\"xaxis\":{\"automargin\":true,\"gridcolor\":\"white\",\"linecolor\":\"white\",\"ticks\":\"\",\"title\":{\"standoff\":15},\"zerolinecolor\":\"white\",\"zerolinewidth\":2},\"yaxis\":{\"automargin\":true,\"gridcolor\":\"white\",\"linecolor\":\"white\",\"ticks\":\"\",\"title\":{\"standoff\":15},\"zerolinecolor\":\"white\",\"zerolinewidth\":2}}},\"xaxis\":{\"anchor\":\"y\",\"domain\":[0.0,1.0],\"title\":{\"text\":\"PERIODO_CONTRATO\"},\"categoryorder\":\"array\",\"categoryarray\":[\"Month-to-month\",\"One year\",\"Two year\"]},\"yaxis\":{\"anchor\":\"x\",\"domain\":[0.0,1.0],\"title\":{\"text\":\"conteo\"}},\"legend\":{\"title\":{\"text\":\"PERIODO_CONTRATO\"},\"tracegroupgap\":0},\"title\":{\"text\":\"Periodo de duraci\\u00f3n del contrato\"},\"barmode\":\"relative\"},                        {\"responsive\": true}                    ).then(function(){\n",
              "                            \n",
              "var gd = document.getElementById('01071a07-e732-43f5-9c56-27b5c90bf024');\n",
              "var x = new MutationObserver(function (mutations, observer) {{\n",
              "        var display = window.getComputedStyle(gd).display;\n",
              "        if (!display || display === 'none') {{\n",
              "            console.log([gd, 'removed!']);\n",
              "            Plotly.purge(gd);\n",
              "            observer.disconnect();\n",
              "        }}\n",
              "}});\n",
              "\n",
              "// Listen for the removal of the full notebook cells\n",
              "var notebookContainer = gd.closest('#notebook-container');\n",
              "if (notebookContainer) {{\n",
              "    x.observe(notebookContainer, {childList: true});\n",
              "}}\n",
              "\n",
              "// Listen for the clearing of the current output cell\n",
              "var outputEl = gd.closest('.output');\n",
              "if (outputEl) {{\n",
              "    x.observe(outputEl, {childList: true});\n",
              "}}\n",
              "\n",
              "                        })                };                            </script>        </div>\n",
              "</body>\n",
              "</html>"
            ]
          },
          "metadata": {}
        }
      ]
    },
    {
      "cell_type": "markdown",
      "source": [
        "### - FACTURACION ELECTRONICA"
      ],
      "metadata": {
        "id": "tK4GbJ0m_apq"
      }
    },
    {
      "cell_type": "code",
      "source": [
        "tabla_describe_pl=DF.groupby([\"FACTURACION_ELECTRONICA\"]).size()\n",
        "tabla_describe_pl= tabla_describe_pl.reset_index(name=\"conteo\")\n",
        "fig= px.pie(tabla_describe_pl, values = \"conteo\", names = \"FACTURACION_ELECTRONICA\", \n",
        "            title= \"El cliente tiene Facturación Electronica\")\n",
        "fig.show()"
      ],
      "metadata": {
        "colab": {
          "base_uri": "https://localhost:8080/",
          "height": 542
        },
        "id": "489rPyMf_goY",
        "outputId": "60da862e-4cb0-4131-fb9f-d7e93f29c234"
      },
      "execution_count": 112,
      "outputs": [
        {
          "output_type": "display_data",
          "data": {
            "text/html": [
              "<html>\n",
              "<head><meta charset=\"utf-8\" /></head>\n",
              "<body>\n",
              "    <div>            <script src=\"https://cdnjs.cloudflare.com/ajax/libs/mathjax/2.7.5/MathJax.js?config=TeX-AMS-MML_SVG\"></script><script type=\"text/javascript\">if (window.MathJax) {MathJax.Hub.Config({SVG: {font: \"STIX-Web\"}});}</script>                <script type=\"text/javascript\">window.PlotlyConfig = {MathJaxConfig: 'local'};</script>\n",
              "        <script src=\"https://cdn.plot.ly/plotly-2.8.3.min.js\"></script>                <div id=\"27654507-d6e9-44fc-9101-8947d11a7e8a\" class=\"plotly-graph-div\" style=\"height:525px; width:100%;\"></div>            <script type=\"text/javascript\">                                    window.PLOTLYENV=window.PLOTLYENV || {};                                    if (document.getElementById(\"27654507-d6e9-44fc-9101-8947d11a7e8a\")) {                    Plotly.newPlot(                        \"27654507-d6e9-44fc-9101-8947d11a7e8a\",                        [{\"domain\":{\"x\":[0.0,1.0],\"y\":[0.0,1.0]},\"hovertemplate\":\"FACTURACION_ELECTRONICA=%{label}<br>conteo=%{value}<extra></extra>\",\"labels\":[\"No\",\"Yes\"],\"legendgroup\":\"\",\"name\":\"\",\"showlegend\":true,\"values\":[2872,4171],\"type\":\"pie\"}],                        {\"template\":{\"data\":{\"bar\":[{\"error_x\":{\"color\":\"#2a3f5f\"},\"error_y\":{\"color\":\"#2a3f5f\"},\"marker\":{\"line\":{\"color\":\"#E5ECF6\",\"width\":0.5},\"pattern\":{\"fillmode\":\"overlay\",\"size\":10,\"solidity\":0.2}},\"type\":\"bar\"}],\"barpolar\":[{\"marker\":{\"line\":{\"color\":\"#E5ECF6\",\"width\":0.5},\"pattern\":{\"fillmode\":\"overlay\",\"size\":10,\"solidity\":0.2}},\"type\":\"barpolar\"}],\"carpet\":[{\"aaxis\":{\"endlinecolor\":\"#2a3f5f\",\"gridcolor\":\"white\",\"linecolor\":\"white\",\"minorgridcolor\":\"white\",\"startlinecolor\":\"#2a3f5f\"},\"baxis\":{\"endlinecolor\":\"#2a3f5f\",\"gridcolor\":\"white\",\"linecolor\":\"white\",\"minorgridcolor\":\"white\",\"startlinecolor\":\"#2a3f5f\"},\"type\":\"carpet\"}],\"choropleth\":[{\"colorbar\":{\"outlinewidth\":0,\"ticks\":\"\"},\"type\":\"choropleth\"}],\"contour\":[{\"colorbar\":{\"outlinewidth\":0,\"ticks\":\"\"},\"colorscale\":[[0.0,\"#0d0887\"],[0.1111111111111111,\"#46039f\"],[0.2222222222222222,\"#7201a8\"],[0.3333333333333333,\"#9c179e\"],[0.4444444444444444,\"#bd3786\"],[0.5555555555555556,\"#d8576b\"],[0.6666666666666666,\"#ed7953\"],[0.7777777777777778,\"#fb9f3a\"],[0.8888888888888888,\"#fdca26\"],[1.0,\"#f0f921\"]],\"type\":\"contour\"}],\"contourcarpet\":[{\"colorbar\":{\"outlinewidth\":0,\"ticks\":\"\"},\"type\":\"contourcarpet\"}],\"heatmap\":[{\"colorbar\":{\"outlinewidth\":0,\"ticks\":\"\"},\"colorscale\":[[0.0,\"#0d0887\"],[0.1111111111111111,\"#46039f\"],[0.2222222222222222,\"#7201a8\"],[0.3333333333333333,\"#9c179e\"],[0.4444444444444444,\"#bd3786\"],[0.5555555555555556,\"#d8576b\"],[0.6666666666666666,\"#ed7953\"],[0.7777777777777778,\"#fb9f3a\"],[0.8888888888888888,\"#fdca26\"],[1.0,\"#f0f921\"]],\"type\":\"heatmap\"}],\"heatmapgl\":[{\"colorbar\":{\"outlinewidth\":0,\"ticks\":\"\"},\"colorscale\":[[0.0,\"#0d0887\"],[0.1111111111111111,\"#46039f\"],[0.2222222222222222,\"#7201a8\"],[0.3333333333333333,\"#9c179e\"],[0.4444444444444444,\"#bd3786\"],[0.5555555555555556,\"#d8576b\"],[0.6666666666666666,\"#ed7953\"],[0.7777777777777778,\"#fb9f3a\"],[0.8888888888888888,\"#fdca26\"],[1.0,\"#f0f921\"]],\"type\":\"heatmapgl\"}],\"histogram\":[{\"marker\":{\"pattern\":{\"fillmode\":\"overlay\",\"size\":10,\"solidity\":0.2}},\"type\":\"histogram\"}],\"histogram2d\":[{\"colorbar\":{\"outlinewidth\":0,\"ticks\":\"\"},\"colorscale\":[[0.0,\"#0d0887\"],[0.1111111111111111,\"#46039f\"],[0.2222222222222222,\"#7201a8\"],[0.3333333333333333,\"#9c179e\"],[0.4444444444444444,\"#bd3786\"],[0.5555555555555556,\"#d8576b\"],[0.6666666666666666,\"#ed7953\"],[0.7777777777777778,\"#fb9f3a\"],[0.8888888888888888,\"#fdca26\"],[1.0,\"#f0f921\"]],\"type\":\"histogram2d\"}],\"histogram2dcontour\":[{\"colorbar\":{\"outlinewidth\":0,\"ticks\":\"\"},\"colorscale\":[[0.0,\"#0d0887\"],[0.1111111111111111,\"#46039f\"],[0.2222222222222222,\"#7201a8\"],[0.3333333333333333,\"#9c179e\"],[0.4444444444444444,\"#bd3786\"],[0.5555555555555556,\"#d8576b\"],[0.6666666666666666,\"#ed7953\"],[0.7777777777777778,\"#fb9f3a\"],[0.8888888888888888,\"#fdca26\"],[1.0,\"#f0f921\"]],\"type\":\"histogram2dcontour\"}],\"mesh3d\":[{\"colorbar\":{\"outlinewidth\":0,\"ticks\":\"\"},\"type\":\"mesh3d\"}],\"parcoords\":[{\"line\":{\"colorbar\":{\"outlinewidth\":0,\"ticks\":\"\"}},\"type\":\"parcoords\"}],\"pie\":[{\"automargin\":true,\"type\":\"pie\"}],\"scatter\":[{\"marker\":{\"colorbar\":{\"outlinewidth\":0,\"ticks\":\"\"}},\"type\":\"scatter\"}],\"scatter3d\":[{\"line\":{\"colorbar\":{\"outlinewidth\":0,\"ticks\":\"\"}},\"marker\":{\"colorbar\":{\"outlinewidth\":0,\"ticks\":\"\"}},\"type\":\"scatter3d\"}],\"scattercarpet\":[{\"marker\":{\"colorbar\":{\"outlinewidth\":0,\"ticks\":\"\"}},\"type\":\"scattercarpet\"}],\"scattergeo\":[{\"marker\":{\"colorbar\":{\"outlinewidth\":0,\"ticks\":\"\"}},\"type\":\"scattergeo\"}],\"scattergl\":[{\"marker\":{\"colorbar\":{\"outlinewidth\":0,\"ticks\":\"\"}},\"type\":\"scattergl\"}],\"scattermapbox\":[{\"marker\":{\"colorbar\":{\"outlinewidth\":0,\"ticks\":\"\"}},\"type\":\"scattermapbox\"}],\"scatterpolar\":[{\"marker\":{\"colorbar\":{\"outlinewidth\":0,\"ticks\":\"\"}},\"type\":\"scatterpolar\"}],\"scatterpolargl\":[{\"marker\":{\"colorbar\":{\"outlinewidth\":0,\"ticks\":\"\"}},\"type\":\"scatterpolargl\"}],\"scatterternary\":[{\"marker\":{\"colorbar\":{\"outlinewidth\":0,\"ticks\":\"\"}},\"type\":\"scatterternary\"}],\"surface\":[{\"colorbar\":{\"outlinewidth\":0,\"ticks\":\"\"},\"colorscale\":[[0.0,\"#0d0887\"],[0.1111111111111111,\"#46039f\"],[0.2222222222222222,\"#7201a8\"],[0.3333333333333333,\"#9c179e\"],[0.4444444444444444,\"#bd3786\"],[0.5555555555555556,\"#d8576b\"],[0.6666666666666666,\"#ed7953\"],[0.7777777777777778,\"#fb9f3a\"],[0.8888888888888888,\"#fdca26\"],[1.0,\"#f0f921\"]],\"type\":\"surface\"}],\"table\":[{\"cells\":{\"fill\":{\"color\":\"#EBF0F8\"},\"line\":{\"color\":\"white\"}},\"header\":{\"fill\":{\"color\":\"#C8D4E3\"},\"line\":{\"color\":\"white\"}},\"type\":\"table\"}]},\"layout\":{\"annotationdefaults\":{\"arrowcolor\":\"#2a3f5f\",\"arrowhead\":0,\"arrowwidth\":1},\"autotypenumbers\":\"strict\",\"coloraxis\":{\"colorbar\":{\"outlinewidth\":0,\"ticks\":\"\"}},\"colorscale\":{\"diverging\":[[0,\"#8e0152\"],[0.1,\"#c51b7d\"],[0.2,\"#de77ae\"],[0.3,\"#f1b6da\"],[0.4,\"#fde0ef\"],[0.5,\"#f7f7f7\"],[0.6,\"#e6f5d0\"],[0.7,\"#b8e186\"],[0.8,\"#7fbc41\"],[0.9,\"#4d9221\"],[1,\"#276419\"]],\"sequential\":[[0.0,\"#0d0887\"],[0.1111111111111111,\"#46039f\"],[0.2222222222222222,\"#7201a8\"],[0.3333333333333333,\"#9c179e\"],[0.4444444444444444,\"#bd3786\"],[0.5555555555555556,\"#d8576b\"],[0.6666666666666666,\"#ed7953\"],[0.7777777777777778,\"#fb9f3a\"],[0.8888888888888888,\"#fdca26\"],[1.0,\"#f0f921\"]],\"sequentialminus\":[[0.0,\"#0d0887\"],[0.1111111111111111,\"#46039f\"],[0.2222222222222222,\"#7201a8\"],[0.3333333333333333,\"#9c179e\"],[0.4444444444444444,\"#bd3786\"],[0.5555555555555556,\"#d8576b\"],[0.6666666666666666,\"#ed7953\"],[0.7777777777777778,\"#fb9f3a\"],[0.8888888888888888,\"#fdca26\"],[1.0,\"#f0f921\"]]},\"colorway\":[\"#636efa\",\"#EF553B\",\"#00cc96\",\"#ab63fa\",\"#FFA15A\",\"#19d3f3\",\"#FF6692\",\"#B6E880\",\"#FF97FF\",\"#FECB52\"],\"font\":{\"color\":\"#2a3f5f\"},\"geo\":{\"bgcolor\":\"white\",\"lakecolor\":\"white\",\"landcolor\":\"#E5ECF6\",\"showlakes\":true,\"showland\":true,\"subunitcolor\":\"white\"},\"hoverlabel\":{\"align\":\"left\"},\"hovermode\":\"closest\",\"mapbox\":{\"style\":\"light\"},\"paper_bgcolor\":\"white\",\"plot_bgcolor\":\"#E5ECF6\",\"polar\":{\"angularaxis\":{\"gridcolor\":\"white\",\"linecolor\":\"white\",\"ticks\":\"\"},\"bgcolor\":\"#E5ECF6\",\"radialaxis\":{\"gridcolor\":\"white\",\"linecolor\":\"white\",\"ticks\":\"\"}},\"scene\":{\"xaxis\":{\"backgroundcolor\":\"#E5ECF6\",\"gridcolor\":\"white\",\"gridwidth\":2,\"linecolor\":\"white\",\"showbackground\":true,\"ticks\":\"\",\"zerolinecolor\":\"white\"},\"yaxis\":{\"backgroundcolor\":\"#E5ECF6\",\"gridcolor\":\"white\",\"gridwidth\":2,\"linecolor\":\"white\",\"showbackground\":true,\"ticks\":\"\",\"zerolinecolor\":\"white\"},\"zaxis\":{\"backgroundcolor\":\"#E5ECF6\",\"gridcolor\":\"white\",\"gridwidth\":2,\"linecolor\":\"white\",\"showbackground\":true,\"ticks\":\"\",\"zerolinecolor\":\"white\"}},\"shapedefaults\":{\"line\":{\"color\":\"#2a3f5f\"}},\"ternary\":{\"aaxis\":{\"gridcolor\":\"white\",\"linecolor\":\"white\",\"ticks\":\"\"},\"baxis\":{\"gridcolor\":\"white\",\"linecolor\":\"white\",\"ticks\":\"\"},\"bgcolor\":\"#E5ECF6\",\"caxis\":{\"gridcolor\":\"white\",\"linecolor\":\"white\",\"ticks\":\"\"}},\"title\":{\"x\":0.05},\"xaxis\":{\"automargin\":true,\"gridcolor\":\"white\",\"linecolor\":\"white\",\"ticks\":\"\",\"title\":{\"standoff\":15},\"zerolinecolor\":\"white\",\"zerolinewidth\":2},\"yaxis\":{\"automargin\":true,\"gridcolor\":\"white\",\"linecolor\":\"white\",\"ticks\":\"\",\"title\":{\"standoff\":15},\"zerolinecolor\":\"white\",\"zerolinewidth\":2}}},\"legend\":{\"tracegroupgap\":0},\"title\":{\"text\":\"El cliente tiene Facturaci\\u00f3n Electronica\"}},                        {\"responsive\": true}                    ).then(function(){\n",
              "                            \n",
              "var gd = document.getElementById('27654507-d6e9-44fc-9101-8947d11a7e8a');\n",
              "var x = new MutationObserver(function (mutations, observer) {{\n",
              "        var display = window.getComputedStyle(gd).display;\n",
              "        if (!display || display === 'none') {{\n",
              "            console.log([gd, 'removed!']);\n",
              "            Plotly.purge(gd);\n",
              "            observer.disconnect();\n",
              "        }}\n",
              "}});\n",
              "\n",
              "// Listen for the removal of the full notebook cells\n",
              "var notebookContainer = gd.closest('#notebook-container');\n",
              "if (notebookContainer) {{\n",
              "    x.observe(notebookContainer, {childList: true});\n",
              "}}\n",
              "\n",
              "// Listen for the clearing of the current output cell\n",
              "var outputEl = gd.closest('.output');\n",
              "if (outputEl) {{\n",
              "    x.observe(outputEl, {childList: true});\n",
              "}}\n",
              "\n",
              "                        })                };                            </script>        </div>\n",
              "</body>\n",
              "</html>"
            ]
          },
          "metadata": {}
        }
      ]
    },
    {
      "cell_type": "markdown",
      "source": [
        "### - METODO PAGO"
      ],
      "metadata": {
        "id": "_cHzwfqo_4UL"
      }
    },
    {
      "cell_type": "code",
      "source": [
        "tabla_describe_pl=DF.groupby([\"METODO_PAGO\"]).size()\n",
        "tabla_describe_pl= tabla_describe_pl.reset_index(name=\"conteo\")\n",
        "fig= px.bar(tabla_describe_pl, y = \"conteo\", x = \"METODO_PAGO\", \n",
        "            title= \"Metodo de pago del cliente\", color = \"METODO_PAGO\", text = \"conteo\")\n",
        "fig.show()"
      ],
      "metadata": {
        "colab": {
          "base_uri": "https://localhost:8080/",
          "height": 542
        },
        "id": "F5rh1ocIAKo7",
        "outputId": "cfb3e8ae-0302-4c7e-e16e-0b7cb1fd2309"
      },
      "execution_count": 113,
      "outputs": [
        {
          "output_type": "display_data",
          "data": {
            "text/html": [
              "<html>\n",
              "<head><meta charset=\"utf-8\" /></head>\n",
              "<body>\n",
              "    <div>            <script src=\"https://cdnjs.cloudflare.com/ajax/libs/mathjax/2.7.5/MathJax.js?config=TeX-AMS-MML_SVG\"></script><script type=\"text/javascript\">if (window.MathJax) {MathJax.Hub.Config({SVG: {font: \"STIX-Web\"}});}</script>                <script type=\"text/javascript\">window.PlotlyConfig = {MathJaxConfig: 'local'};</script>\n",
              "        <script src=\"https://cdn.plot.ly/plotly-2.8.3.min.js\"></script>                <div id=\"7fd0468c-9abb-4978-8a1b-74d6fa1d132f\" class=\"plotly-graph-div\" style=\"height:525px; width:100%;\"></div>            <script type=\"text/javascript\">                                    window.PLOTLYENV=window.PLOTLYENV || {};                                    if (document.getElementById(\"7fd0468c-9abb-4978-8a1b-74d6fa1d132f\")) {                    Plotly.newPlot(                        \"7fd0468c-9abb-4978-8a1b-74d6fa1d132f\",                        [{\"alignmentgroup\":\"True\",\"hovertemplate\":\"METODO_PAGO=%{x}<br>conteo=%{text}<extra></extra>\",\"legendgroup\":\"Bank transfer (automatic)\",\"marker\":{\"color\":\"#636efa\",\"pattern\":{\"shape\":\"\"}},\"name\":\"Bank transfer (automatic)\",\"offsetgroup\":\"Bank transfer (automatic)\",\"orientation\":\"v\",\"showlegend\":true,\"text\":[1544.0],\"textposition\":\"auto\",\"x\":[\"Bank transfer (automatic)\"],\"xaxis\":\"x\",\"y\":[1544],\"yaxis\":\"y\",\"type\":\"bar\"},{\"alignmentgroup\":\"True\",\"hovertemplate\":\"METODO_PAGO=%{x}<br>conteo=%{text}<extra></extra>\",\"legendgroup\":\"Credit card (automatic)\",\"marker\":{\"color\":\"#EF553B\",\"pattern\":{\"shape\":\"\"}},\"name\":\"Credit card (automatic)\",\"offsetgroup\":\"Credit card (automatic)\",\"orientation\":\"v\",\"showlegend\":true,\"text\":[1522.0],\"textposition\":\"auto\",\"x\":[\"Credit card (automatic)\"],\"xaxis\":\"x\",\"y\":[1522],\"yaxis\":\"y\",\"type\":\"bar\"},{\"alignmentgroup\":\"True\",\"hovertemplate\":\"METODO_PAGO=%{x}<br>conteo=%{text}<extra></extra>\",\"legendgroup\":\"Electronic check\",\"marker\":{\"color\":\"#00cc96\",\"pattern\":{\"shape\":\"\"}},\"name\":\"Electronic check\",\"offsetgroup\":\"Electronic check\",\"orientation\":\"v\",\"showlegend\":true,\"text\":[2365.0],\"textposition\":\"auto\",\"x\":[\"Electronic check\"],\"xaxis\":\"x\",\"y\":[2365],\"yaxis\":\"y\",\"type\":\"bar\"},{\"alignmentgroup\":\"True\",\"hovertemplate\":\"METODO_PAGO=%{x}<br>conteo=%{text}<extra></extra>\",\"legendgroup\":\"Mailed check\",\"marker\":{\"color\":\"#ab63fa\",\"pattern\":{\"shape\":\"\"}},\"name\":\"Mailed check\",\"offsetgroup\":\"Mailed check\",\"orientation\":\"v\",\"showlegend\":true,\"text\":[1612.0],\"textposition\":\"auto\",\"x\":[\"Mailed check\"],\"xaxis\":\"x\",\"y\":[1612],\"yaxis\":\"y\",\"type\":\"bar\"}],                        {\"template\":{\"data\":{\"bar\":[{\"error_x\":{\"color\":\"#2a3f5f\"},\"error_y\":{\"color\":\"#2a3f5f\"},\"marker\":{\"line\":{\"color\":\"#E5ECF6\",\"width\":0.5},\"pattern\":{\"fillmode\":\"overlay\",\"size\":10,\"solidity\":0.2}},\"type\":\"bar\"}],\"barpolar\":[{\"marker\":{\"line\":{\"color\":\"#E5ECF6\",\"width\":0.5},\"pattern\":{\"fillmode\":\"overlay\",\"size\":10,\"solidity\":0.2}},\"type\":\"barpolar\"}],\"carpet\":[{\"aaxis\":{\"endlinecolor\":\"#2a3f5f\",\"gridcolor\":\"white\",\"linecolor\":\"white\",\"minorgridcolor\":\"white\",\"startlinecolor\":\"#2a3f5f\"},\"baxis\":{\"endlinecolor\":\"#2a3f5f\",\"gridcolor\":\"white\",\"linecolor\":\"white\",\"minorgridcolor\":\"white\",\"startlinecolor\":\"#2a3f5f\"},\"type\":\"carpet\"}],\"choropleth\":[{\"colorbar\":{\"outlinewidth\":0,\"ticks\":\"\"},\"type\":\"choropleth\"}],\"contour\":[{\"colorbar\":{\"outlinewidth\":0,\"ticks\":\"\"},\"colorscale\":[[0.0,\"#0d0887\"],[0.1111111111111111,\"#46039f\"],[0.2222222222222222,\"#7201a8\"],[0.3333333333333333,\"#9c179e\"],[0.4444444444444444,\"#bd3786\"],[0.5555555555555556,\"#d8576b\"],[0.6666666666666666,\"#ed7953\"],[0.7777777777777778,\"#fb9f3a\"],[0.8888888888888888,\"#fdca26\"],[1.0,\"#f0f921\"]],\"type\":\"contour\"}],\"contourcarpet\":[{\"colorbar\":{\"outlinewidth\":0,\"ticks\":\"\"},\"type\":\"contourcarpet\"}],\"heatmap\":[{\"colorbar\":{\"outlinewidth\":0,\"ticks\":\"\"},\"colorscale\":[[0.0,\"#0d0887\"],[0.1111111111111111,\"#46039f\"],[0.2222222222222222,\"#7201a8\"],[0.3333333333333333,\"#9c179e\"],[0.4444444444444444,\"#bd3786\"],[0.5555555555555556,\"#d8576b\"],[0.6666666666666666,\"#ed7953\"],[0.7777777777777778,\"#fb9f3a\"],[0.8888888888888888,\"#fdca26\"],[1.0,\"#f0f921\"]],\"type\":\"heatmap\"}],\"heatmapgl\":[{\"colorbar\":{\"outlinewidth\":0,\"ticks\":\"\"},\"colorscale\":[[0.0,\"#0d0887\"],[0.1111111111111111,\"#46039f\"],[0.2222222222222222,\"#7201a8\"],[0.3333333333333333,\"#9c179e\"],[0.4444444444444444,\"#bd3786\"],[0.5555555555555556,\"#d8576b\"],[0.6666666666666666,\"#ed7953\"],[0.7777777777777778,\"#fb9f3a\"],[0.8888888888888888,\"#fdca26\"],[1.0,\"#f0f921\"]],\"type\":\"heatmapgl\"}],\"histogram\":[{\"marker\":{\"pattern\":{\"fillmode\":\"overlay\",\"size\":10,\"solidity\":0.2}},\"type\":\"histogram\"}],\"histogram2d\":[{\"colorbar\":{\"outlinewidth\":0,\"ticks\":\"\"},\"colorscale\":[[0.0,\"#0d0887\"],[0.1111111111111111,\"#46039f\"],[0.2222222222222222,\"#7201a8\"],[0.3333333333333333,\"#9c179e\"],[0.4444444444444444,\"#bd3786\"],[0.5555555555555556,\"#d8576b\"],[0.6666666666666666,\"#ed7953\"],[0.7777777777777778,\"#fb9f3a\"],[0.8888888888888888,\"#fdca26\"],[1.0,\"#f0f921\"]],\"type\":\"histogram2d\"}],\"histogram2dcontour\":[{\"colorbar\":{\"outlinewidth\":0,\"ticks\":\"\"},\"colorscale\":[[0.0,\"#0d0887\"],[0.1111111111111111,\"#46039f\"],[0.2222222222222222,\"#7201a8\"],[0.3333333333333333,\"#9c179e\"],[0.4444444444444444,\"#bd3786\"],[0.5555555555555556,\"#d8576b\"],[0.6666666666666666,\"#ed7953\"],[0.7777777777777778,\"#fb9f3a\"],[0.8888888888888888,\"#fdca26\"],[1.0,\"#f0f921\"]],\"type\":\"histogram2dcontour\"}],\"mesh3d\":[{\"colorbar\":{\"outlinewidth\":0,\"ticks\":\"\"},\"type\":\"mesh3d\"}],\"parcoords\":[{\"line\":{\"colorbar\":{\"outlinewidth\":0,\"ticks\":\"\"}},\"type\":\"parcoords\"}],\"pie\":[{\"automargin\":true,\"type\":\"pie\"}],\"scatter\":[{\"marker\":{\"colorbar\":{\"outlinewidth\":0,\"ticks\":\"\"}},\"type\":\"scatter\"}],\"scatter3d\":[{\"line\":{\"colorbar\":{\"outlinewidth\":0,\"ticks\":\"\"}},\"marker\":{\"colorbar\":{\"outlinewidth\":0,\"ticks\":\"\"}},\"type\":\"scatter3d\"}],\"scattercarpet\":[{\"marker\":{\"colorbar\":{\"outlinewidth\":0,\"ticks\":\"\"}},\"type\":\"scattercarpet\"}],\"scattergeo\":[{\"marker\":{\"colorbar\":{\"outlinewidth\":0,\"ticks\":\"\"}},\"type\":\"scattergeo\"}],\"scattergl\":[{\"marker\":{\"colorbar\":{\"outlinewidth\":0,\"ticks\":\"\"}},\"type\":\"scattergl\"}],\"scattermapbox\":[{\"marker\":{\"colorbar\":{\"outlinewidth\":0,\"ticks\":\"\"}},\"type\":\"scattermapbox\"}],\"scatterpolar\":[{\"marker\":{\"colorbar\":{\"outlinewidth\":0,\"ticks\":\"\"}},\"type\":\"scatterpolar\"}],\"scatterpolargl\":[{\"marker\":{\"colorbar\":{\"outlinewidth\":0,\"ticks\":\"\"}},\"type\":\"scatterpolargl\"}],\"scatterternary\":[{\"marker\":{\"colorbar\":{\"outlinewidth\":0,\"ticks\":\"\"}},\"type\":\"scatterternary\"}],\"surface\":[{\"colorbar\":{\"outlinewidth\":0,\"ticks\":\"\"},\"colorscale\":[[0.0,\"#0d0887\"],[0.1111111111111111,\"#46039f\"],[0.2222222222222222,\"#7201a8\"],[0.3333333333333333,\"#9c179e\"],[0.4444444444444444,\"#bd3786\"],[0.5555555555555556,\"#d8576b\"],[0.6666666666666666,\"#ed7953\"],[0.7777777777777778,\"#fb9f3a\"],[0.8888888888888888,\"#fdca26\"],[1.0,\"#f0f921\"]],\"type\":\"surface\"}],\"table\":[{\"cells\":{\"fill\":{\"color\":\"#EBF0F8\"},\"line\":{\"color\":\"white\"}},\"header\":{\"fill\":{\"color\":\"#C8D4E3\"},\"line\":{\"color\":\"white\"}},\"type\":\"table\"}]},\"layout\":{\"annotationdefaults\":{\"arrowcolor\":\"#2a3f5f\",\"arrowhead\":0,\"arrowwidth\":1},\"autotypenumbers\":\"strict\",\"coloraxis\":{\"colorbar\":{\"outlinewidth\":0,\"ticks\":\"\"}},\"colorscale\":{\"diverging\":[[0,\"#8e0152\"],[0.1,\"#c51b7d\"],[0.2,\"#de77ae\"],[0.3,\"#f1b6da\"],[0.4,\"#fde0ef\"],[0.5,\"#f7f7f7\"],[0.6,\"#e6f5d0\"],[0.7,\"#b8e186\"],[0.8,\"#7fbc41\"],[0.9,\"#4d9221\"],[1,\"#276419\"]],\"sequential\":[[0.0,\"#0d0887\"],[0.1111111111111111,\"#46039f\"],[0.2222222222222222,\"#7201a8\"],[0.3333333333333333,\"#9c179e\"],[0.4444444444444444,\"#bd3786\"],[0.5555555555555556,\"#d8576b\"],[0.6666666666666666,\"#ed7953\"],[0.7777777777777778,\"#fb9f3a\"],[0.8888888888888888,\"#fdca26\"],[1.0,\"#f0f921\"]],\"sequentialminus\":[[0.0,\"#0d0887\"],[0.1111111111111111,\"#46039f\"],[0.2222222222222222,\"#7201a8\"],[0.3333333333333333,\"#9c179e\"],[0.4444444444444444,\"#bd3786\"],[0.5555555555555556,\"#d8576b\"],[0.6666666666666666,\"#ed7953\"],[0.7777777777777778,\"#fb9f3a\"],[0.8888888888888888,\"#fdca26\"],[1.0,\"#f0f921\"]]},\"colorway\":[\"#636efa\",\"#EF553B\",\"#00cc96\",\"#ab63fa\",\"#FFA15A\",\"#19d3f3\",\"#FF6692\",\"#B6E880\",\"#FF97FF\",\"#FECB52\"],\"font\":{\"color\":\"#2a3f5f\"},\"geo\":{\"bgcolor\":\"white\",\"lakecolor\":\"white\",\"landcolor\":\"#E5ECF6\",\"showlakes\":true,\"showland\":true,\"subunitcolor\":\"white\"},\"hoverlabel\":{\"align\":\"left\"},\"hovermode\":\"closest\",\"mapbox\":{\"style\":\"light\"},\"paper_bgcolor\":\"white\",\"plot_bgcolor\":\"#E5ECF6\",\"polar\":{\"angularaxis\":{\"gridcolor\":\"white\",\"linecolor\":\"white\",\"ticks\":\"\"},\"bgcolor\":\"#E5ECF6\",\"radialaxis\":{\"gridcolor\":\"white\",\"linecolor\":\"white\",\"ticks\":\"\"}},\"scene\":{\"xaxis\":{\"backgroundcolor\":\"#E5ECF6\",\"gridcolor\":\"white\",\"gridwidth\":2,\"linecolor\":\"white\",\"showbackground\":true,\"ticks\":\"\",\"zerolinecolor\":\"white\"},\"yaxis\":{\"backgroundcolor\":\"#E5ECF6\",\"gridcolor\":\"white\",\"gridwidth\":2,\"linecolor\":\"white\",\"showbackground\":true,\"ticks\":\"\",\"zerolinecolor\":\"white\"},\"zaxis\":{\"backgroundcolor\":\"#E5ECF6\",\"gridcolor\":\"white\",\"gridwidth\":2,\"linecolor\":\"white\",\"showbackground\":true,\"ticks\":\"\",\"zerolinecolor\":\"white\"}},\"shapedefaults\":{\"line\":{\"color\":\"#2a3f5f\"}},\"ternary\":{\"aaxis\":{\"gridcolor\":\"white\",\"linecolor\":\"white\",\"ticks\":\"\"},\"baxis\":{\"gridcolor\":\"white\",\"linecolor\":\"white\",\"ticks\":\"\"},\"bgcolor\":\"#E5ECF6\",\"caxis\":{\"gridcolor\":\"white\",\"linecolor\":\"white\",\"ticks\":\"\"}},\"title\":{\"x\":0.05},\"xaxis\":{\"automargin\":true,\"gridcolor\":\"white\",\"linecolor\":\"white\",\"ticks\":\"\",\"title\":{\"standoff\":15},\"zerolinecolor\":\"white\",\"zerolinewidth\":2},\"yaxis\":{\"automargin\":true,\"gridcolor\":\"white\",\"linecolor\":\"white\",\"ticks\":\"\",\"title\":{\"standoff\":15},\"zerolinecolor\":\"white\",\"zerolinewidth\":2}}},\"xaxis\":{\"anchor\":\"y\",\"domain\":[0.0,1.0],\"title\":{\"text\":\"METODO_PAGO\"},\"categoryorder\":\"array\",\"categoryarray\":[\"Bank transfer (automatic)\",\"Credit card (automatic)\",\"Electronic check\",\"Mailed check\"]},\"yaxis\":{\"anchor\":\"x\",\"domain\":[0.0,1.0],\"title\":{\"text\":\"conteo\"}},\"legend\":{\"title\":{\"text\":\"METODO_PAGO\"},\"tracegroupgap\":0},\"title\":{\"text\":\"Metodo de pago del cliente\"},\"barmode\":\"relative\"},                        {\"responsive\": true}                    ).then(function(){\n",
              "                            \n",
              "var gd = document.getElementById('7fd0468c-9abb-4978-8a1b-74d6fa1d132f');\n",
              "var x = new MutationObserver(function (mutations, observer) {{\n",
              "        var display = window.getComputedStyle(gd).display;\n",
              "        if (!display || display === 'none') {{\n",
              "            console.log([gd, 'removed!']);\n",
              "            Plotly.purge(gd);\n",
              "            observer.disconnect();\n",
              "        }}\n",
              "}});\n",
              "\n",
              "// Listen for the removal of the full notebook cells\n",
              "var notebookContainer = gd.closest('#notebook-container');\n",
              "if (notebookContainer) {{\n",
              "    x.observe(notebookContainer, {childList: true});\n",
              "}}\n",
              "\n",
              "// Listen for the clearing of the current output cell\n",
              "var outputEl = gd.closest('.output');\n",
              "if (outputEl) {{\n",
              "    x.observe(outputEl, {childList: true});\n",
              "}}\n",
              "\n",
              "                        })                };                            </script>        </div>\n",
              "</body>\n",
              "</html>"
            ]
          },
          "metadata": {}
        }
      ]
    },
    {
      "cell_type": "markdown",
      "source": [
        "### - COBRO MENSUAL"
      ],
      "metadata": {
        "id": "ldVojKjSAWGC"
      }
    },
    {
      "cell_type": "code",
      "source": [
        "fig = px.violin(DF, x= \"COBRO_MENSUAL\", box = True, points = \"all\", \n",
        "                title = \"Cobro Mensual al cliente\")\n",
        "\n",
        "fig.update_traces(fillcolor = \"#87CEFA\",   # Color de fondo\n",
        "                  line_color = 'bLACK',   # Color de borde\n",
        "                  marker_line_outliercolor = 'black', # Color de borde de los atípicos\n",
        "                  box_fillcolor = 'red', # Color del box plot\n",
        "                  opacity = 0.5)         # Opacidad\n",
        "\n",
        "fig.show()"
      ],
      "metadata": {
        "colab": {
          "base_uri": "https://localhost:8080/",
          "height": 542
        },
        "id": "NJ4S81oNAgTY",
        "outputId": "792c6c4f-5df4-4395-fbc4-418149b51fbf"
      },
      "execution_count": 114,
      "outputs": [
        {
          "output_type": "display_data",
          "data": {
            "text/html": [
              "<html>\n",
              "<head><meta charset=\"utf-8\" /></head>\n",
              "<body>\n",
              "    <div>            <script src=\"https://cdnjs.cloudflare.com/ajax/libs/mathjax/2.7.5/MathJax.js?config=TeX-AMS-MML_SVG\"></script><script type=\"text/javascript\">if (window.MathJax) {MathJax.Hub.Config({SVG: {font: \"STIX-Web\"}});}</script>                <script type=\"text/javascript\">window.PlotlyConfig = {MathJaxConfig: 'local'};</script>\n",
              "        <script src=\"https://cdn.plot.ly/plotly-2.8.3.min.js\"></script>                <div id=\"4bd5e111-610f-4e6a-8b5f-cccc9b9468ec\" class=\"plotly-graph-div\" style=\"height:525px; width:100%;\"></div>            <script type=\"text/javascript\">                                    window.PLOTLYENV=window.PLOTLYENV || {};                                    if (document.getElementById(\"4bd5e111-610f-4e6a-8b5f-cccc9b9468ec\")) {                    Plotly.newPlot(                        \"4bd5e111-610f-4e6a-8b5f-cccc9b9468ec\",                        [{\"alignmentgroup\":\"True\",\"box\":{\"visible\":true,\"fillcolor\":\"red\"},\"hovertemplate\":\"COBRO_MENSUAL=%{x}<extra></extra>\",\"legendgroup\":\"\",\"marker\":{\"color\":\"#636efa\",\"line\":{\"outliercolor\":\"black\"}},\"name\":\"\",\"offsetgroup\":\"\",\"orientation\":\"h\",\"points\":\"all\",\"scalegroup\":\"True\",\"showlegend\":false,\"x\":[29.85,56.95,53.85,42.3,70.7,99.65,89.1,29.75,104.8,56.15,49.95,18.95,100.35,103.7,105.5,113.25,20.65,106.7,55.2,90.05,39.65,19.8,20.15,59.9,59.6,55.3,99.35,30.2,90.25,64.7,96.35,95.5,66.15,20.2,45.25,99.9,69.7,74.8,106.35,97.85,49.55,69.2,20.75,79.85,76.2,84.5,49.25,80.65,79.75,64.15,90.25,99.1,69.5,80.65,74.85,95.45,99.65,108.45,24.95,107.5,100.5,89.9,42.1,54.4,94.4,75.3,78.9,79.2,20.15,79.85,49.05,20.4,111.6,24.25,64.5,110.5,55.65,54.65,74.75,25.9,79.35,50.55,75.15,103.8,20.15,99.3,62.15,20.65,19.95,33.75,82.05,74.7,84.0,111.05,100.9,78.95,66.85,21.05,21.0,98.5,20.2,19.45,95.0,45.55,110.0,24.3,104.15,30.15,94.35,19.4,96.75,57.95,91.65,76.5,54.6,89.85,31.05,100.25,20.65,85.2,99.8,20.7,74.4,50.7,20.85,88.95,78.05,23.55,19.75,56.45,85.95,58.6,50.55,35.45,44.35,25.7,75.0,20.2,19.6,70.45,88.05,71.15,101.05,84.3,23.95,99.05,19.6,45.65,64.5,69.5,68.55,95.0,108.15,86.1,19.7,80.9,84.15,20.15,64.25,25.7,56.0,82.4,69.7,73.9,20.6,19.9,70.9,89.05,45.3,20.4,84.25,104.4,81.95,94.85,20.55,24.7,74.45,76.45,105.35,20.55,29.95,45.3,84.5,74.75,79.25,24.8,51.8,30.4,19.65,56.6,71.9,91.0,19.75,109.7,19.3,96.55,24.1,111.35,112.25,20.75,101.9,80.05,105.55,78.3,68.85,79.95,55.45,79.9,106.6,102.45,46.0,25.25,19.75,20.0,86.8,58.75,45.25,56.6,84.2,80.0,70.15,24.75,20.2,50.05,19.35,50.6,81.15,55.2,89.9,85.3,108.0,93.5,84.6,20.25,25.15,54.4,29.6,73.15,95.0,19.75,86.6,109.2,74.7,94.4,54.8,75.35,65.0,74.4,48.55,99.0,93.5,70.4,40.2,83.7,19.85,59.55,115.1,114.35,44.6,45.0,41.15,106.9,89.85,49.85,113.3,88.1,24.9,105.0,19.35,24.25,94.45,59.75,24.8,107.05,70.6,85.4,105.05,64.95,55.0,50.55,55.15,51.2,25.4,54.45,95.15,76.0,44.35,70.0,74.5,44.85,76.1,61.2,86.8,89.35,19.7,20.25,76.05,100.8,74.55,73.6,64.9,95.45,90.4,60.3,81.85,24.8,74.9,75.55,101.15,78.75,19.25,89.05,115.05,69.35,80.6,110.05,19.9,80.3,93.15,91.5,82.45,60.0,44.8,48.6,60.05,102.7,82.9,70.35,35.9,82.65,19.85,19.2,94.9,73.85,80.6,75.8,104.6,88.15,94.8,103.4,54.65,85.75,67.45,20.5,20.25,72.1,90.4,19.45,44.95,97.0,62.8,44.6,89.15,84.8,41.9,80.25,54.1,105.25,30.75,97.1,20.2,98.8,50.3,20.55,75.9,96.5,59.95,19.15,98.65,112.6,20.6,85.65,35.75,99.75,96.1,85.1,25.35,104.95,89.65,86.75,86.2,50.65,64.8,90.85,108.1,19.95,85.45,54.75,90.4,44.0,95.6,84.8,44.3,19.9,95.05,90.05,109.9,73.95,54.6,20.05,19.75,20.05,99.45,55.9,19.7,19.8,95.4,93.95,19.9,19.6,81.35,24.45,74.95,87.35,70.65,73.25,98.7,24.8,83.3,75.3,24.3,69.85,100.55,25.7,40.7,51.65,105.1,85.95,75.6,58.25,19.4,65.2,53.45,45.4,19.75,44.45,20.85,114.05,89.85,55.05,112.95,101.55,114.65,64.8,80.4,105.9,69.55,25.05,94.75,105.5,24.7,69.75,60.2,81.05,24.4,104.15,92.9,80.8,20.0,75.1,19.65,69.45,101.15,99.8,116.05,40.05,102.1,89.7,19.9,55.95,20.65,55.0,70.05,53.6,74.7,80.25,76.05,75.7,96.1,69.0,19.65,45.3,81.45,108.5,83.55,84.5,100.15,88.6,52.55,74.35,104.8,59.0,74.4,64.05,20.4,43.75,60.9,19.8,28.45,99.7,116.25,80.7,65.2,84.05,79.45,94.1,78.0,94.2,80.5,19.85,94.3,106.45,74.35,105.45,95.0,104.8,54.3,70.05,75.2,20.05,105.4,51.6,85.5,75.6,100.05,91.25,115.75,94.7,19.6,99.9,21.1,20.05,79.95,107.15,85.0,89.55,81.55,58.45,95.65,80.6,113.1,58.95,19.55,86.05,45.55,78.95,86.3,105.05,101.9,19.75,110.3,115.6,19.35,25.6,80.35,68.75,19.9,70.6,70.2,49.3,107.25,23.6,69.7,99.5,64.3,70.85,101.9,73.5,100.25,40.4,19.25,59.6,64.9,100.3,110.85,81.05,98.05,70.5,94.55,19.65,19.0,75.3,89.2,19.0,20.0,85.7,63.25,20.1,99.15,90.4,111.9,24.9,83.5,84.3,45.6,61.65,54.85,65.55,90.35,20.4,74.55,19.95,74.25,108.65,109.55,86.65,81.0,47.85,114.55,105.25,29.95,65.0,20.55,109.8,69.5,48.85,25.25,102.85,87.55,78.55,34.55,92.05,85.05,19.7,20.0,95.15,84.25,104.6,111.65,90.05,110.75,55.0,89.85,20.35,54.55,105.5,99.45,70.9,104.55,85.25,25.4,56.15,89.55,89.85,25.25,94.55,45.7,69.65,89.5,70.0,69.55,74.6,20.1,24.8,19.65,95.1,88.85,78.8,19.85,20.35,24.25,45.25,20.05,69.55,19.5,74.75,69.65,30.2,45.65,57.8,19.85,25.55,75.05,24.85,49.15,110.35,24.55,34.7,107.95,81.4,80.0,73.8,64.4,103.75,71.1,49.9,24.6,49.25,30.1,83.4,20.45,75.25,20.55,75.1,20.05,20.65,85.15,50.15,84.95,66.5,63.3,83.15,84.9,20.55,49.25,79.85,59.6,104.65,75.3,80.1,19.55,81.0,24.7,86.0,25.4,89.15,58.25,85.65,50.35,80.35,20.2,20.55,85.95,45.35,94.5,21.25,26.25,80.85,91.7,74.2,87.25,20.35,75.5,79.05,90.15,50.6,110.45,101.0,79.35,89.85,65.0,80.45,98.55,24.1,44.05,110.8,114.95,75.05,19.25,90.05,56.7,80.15,71.35,20.25,90.35,98.55,19.7,19.85,85.9,90.35,20.8,89.25,70.3,66.85,19.9,35.8,78.85,20.4,74.25,64.8,20.45,93.35,19.9,88.9,95.8,110.65,40.3,82.0,107.0,45.35,73.35,44.8,54.75,52.2,40.6,110.0,55.3,60.85,78.4,69.65,59.85,76.9,19.85,67.65,45.0,64.2,81.7,25.55,20.0,96.75,75.65,98.5,23.8,64.2,85.35,76.8,55.2,108.55,101.3,69.55,103.25,104.0,25.25,30.4,20.05,84.6,86.2,103.7,111.2,88.0,106.35,79.15,103.1,63.95,25.8,89.45,95.6,25.55,90.95,44.85,108.55,25.05,74.1,88.8,78.85,93.25,71.4,44.4,79.2,20.4,100.0,105.0,19.8,30.85,89.9,20.55,84.85,33.15,92.0,89.8,115.8,85.15,24.85,64.35,20.5,100.15,86.05,50.8,89.0,64.8,19.8,93.4,73.65,95.1,94.65,80.6,39.0,20.5,85.55,26.4,98.2,97.55,19.95,50.8,99.7,34.8,105.1,60.15,64.75,54.65,110.1,19.3,83.9,111.25,35.8,20.05,84.35,110.5,91.2,100.55,89.3,103.85,81.1,24.6,81.2,94.3,116.1,105.55,98.9,94.4,19.5,98.3,93.85,105.6,81.35,100.5,56.4,65.35,19.95,111.25,72.85,89.0,106.1,20.05,25.2,73.55,75.4,65.55,80.7,104.55,24.15,20.45,75.4,79.7,81.7,76.3,79.4,81.15,103.75,86.45,75.1,80.6,19.3,84.6,33.6,83.25,80.85,79.05,108.05,19.9,21.05,30.15,79.85,65.5,104.1,74.4,20.5,91.35,99.05,20.5,44.95,75.6,55.1,58.95,95.1,44.7,25.45,56.75,81.75,86.1,29.8,20.5,60.9,73.25,45.7,100.3,19.25,20.85,77.35,96.0,90.55,93.85,70.1,30.35,75.95,108.05,69.9,75.25,103.75,54.95,19.5,19.6,47.85,86.6,23.75,80.6,43.8,19.75,19.15,19.6,80.3,24.35,25.25,26.1,20.0,85.3,70.0,94.3,20.7,70.3,95.35,75.5,69.55,19.85,20.0,95.85,90.1,68.95,99.55,20.75,50.15,58.65,95.9,49.5,57.45,53.65,80.1,24.4,40.05,19.5,51.05,54.35,84.7,86.1,70.35,110.0,100.6,94.9,83.75,88.3,69.75,71.6,92.1,23.65,81.85,25.1,114.7,49.15,80.9,79.45,90.45,19.3,70.2,69.75,54.25,99.3,74.0,50.25,19.8,19.65,43.65,35.5,80.75,39.5,97.1,19.55,80.0,84.7,89.55,90.6,20.05,112.4,50.2,62.25,55.7,90.05,19.65,89.25,99.05,54.0,69.75,49.05,56.75,98.05,21.1,96.65,24.5,114.5,79.2,69.55,20.05,98.85,25.75,80.95,19.6,74.3,89.7,87.65,100.45,74.75,107.45,75.35,64.95,100.45,68.5,80.55,81.25,90.4,89.55,55.7,24.8,20.0,56.15,105.2,19.55,79.75,97.45,24.25,24.6,50.15,39.6,94.4,89.85,78.95,98.85,53.85,24.25,89.45,105.25,59.5,70.55,82.5,44.85,61.6,49.05,105.65,74.65,66.25,19.4,86.05,19.15,64.7,104.05,19.25,81.95,114.65,20.0,19.8,65.15,19.65,88.95,20.2,75.2,56.8,35.55,75.5,35.6,60.25,95.15,96.65,40.35,18.85,54.85,64.3,24.65,76.1,18.7,97.95,94.1,80.4,95.1,31.35,72.35,89.75,82.7,19.9,53.8,51.55,19.65,44.05,114.0,94.4,100.4,19.85,54.25,80.0,109.9,79.2,101.35,94.3,49.8,60.05,53.75,93.45,87.9,60.15,61.05,104.05,99.25,85.7,104.85,69.15,90.45,74.45,50.45,60.0,85.25,19.45,20.75,78.9,104.5,49.4,94.25,25.0,25.55,74.9,70.15,69.4,80.25,93.15,69.0,66.35,69.55,20.2,86.0,80.3,20.4,23.75,90.55,70.45,65.75,24.6,69.25,75.9,45.85,49.95,24.65,90.4,100.85,75.35,87.2,64.4,78.3,24.7,105.85,98.3,76.95,19.45,96.15,58.7,20.15,64.5,28.5,45.3,19.4,90.45,105.15,83.15,90.15,45.05,103.2,75.8,19.45,79.3,88.8,30.9,85.9,34.2,20.15,95.25,50.3,80.15,51.25,89.6,95.2,94.8,80.25,76.1,110.15,115.55,24.65,53.6,19.45,88.2,101.15,56.8,99.4,20.1,60.7,20.95,114.85,19.25,62.8,105.5,19.85,89.5,74.1,107.5,19.55,68.8,84.45,75.0,84.5,111.2,44.75,80.6,80.7,75.6,57.6,44.05,110.6,58.2,81.0,19.7,85.6,59.55,115.55,75.55,86.6,85.2,97.65,45.1,70.95,109.55,89.55,20.9,19.95,24.6,66.7,19.45,94.8,65.85,19.95,24.65,20.35,69.25,51.25,99.5,54.25,19.4,56.25,25.15,23.95,35.4,25.2,45.0,75.35,20.4,20.15,105.0,56.05,54.7,20.0,73.05,20.5,100.75,87.25,19.95,79.95,49.65,65.65,20.45,60.95,20.35,88.35,19.5,75.2,111.45,70.15,94.75,95.05,78.45,70.2,92.0,85.5,41.05,85.6,82.15,84.4,60.9,20.25,79.2,95.3,19.85,84.35,19.85,70.0,82.3,66.8,44.6,98.45,70.7,24.95,49.95,69.25,102.5,86.55,24.3,58.35,94.25,68.75,85.8,20.1,20.35,110.8,73.0,100.05,82.85,84.35,19.55,19.95,99.8,35.0,66.25,23.3,76.0,25.3,44.55,104.1,92.55,93.85,101.45,84.3,94.55,95.5,100.3,55.5,49.85,89.55,19.15,99.8,84.4,113.05,101.1,19.95,74.15,92.0,73.85,50.45,24.45,24.8,64.85,20.75,68.95,99.95,109.4,91.4,49.0,50.25,75.55,19.9,97.8,100.3,55.8,111.15,98.55,50.05,80.8,20.85,19.5,19.35,69.5,48.8,94.5,20.65,106.05,100.0,108.3,20.55,99.65,85.3,95.9,20.0,70.4,64.95,74.6,49.2,73.75,92.3,98.8,19.2,88.65,74.4,98.75,95.95,105.4,20.25,106.0,104.7,49.05,35.55,65.1,96.85,69.75,99.2,96.7,55.05,106.8,51.25,57.75,70.85,19.55,88.2,79.5,19.75,98.15,20.25,79.15,75.65,94.25,40.2,19.95,55.35,102.15,71.1,74.7,54.1,19.65,88.45,76.65,80.4,19.25,84.8,25.8,19.5,68.6,92.6,100.55,20.55,42.6,19.6,67.45,68.85,43.55,109.85,20.65,95.4,21.0,56.2,18.4,90.0,25.75,19.6,75.35,19.8,64.2,75.75,78.95,100.85,50.3,80.3,19.85,21.1,69.95,50.0,104.75,19.85,107.5,85.9,45.85,80.8,25.25,80.55,81.5,20.9,106.1,91.7,67.25,95.6,20.35,45.05,74.95,34.65,69.35,95.35,81.55,75.4,67.8,111.4,46.3,20.4,20.05,45.0,96.1,19.65,99.5,60.65,98.6,59.5,80.45,71.7,36.0,65.2,48.95,53.5,80.45,109.05,26.3,106.8,64.95,19.35,21.1,77.95,18.85,26.0,74.7,70.35,96.9,19.55,80.4,88.8,94.65,90.25,64.65,95.75,19.55,104.1,89.05,20.1,111.55,60.5,90.95,87.4,19.7,50.95,20.05,19.4,59.45,94.75,81.5,29.05,86.45,70.6,97.2,98.25,75.75,59.2,75.9,90.05,70.95,102.6,85.35,106.1,43.8,59.0,69.95,24.35,29.45,84.4,45.05,20.65,87.1,19.85,90.35,109.8,84.65,65.5,79.5,80.95,56.15,85.8,79.1,34.4,20.75,18.8,44.3,90.8,25.6,105.95,70.8,25.4,108.8,69.75,94.65,96.05,76.85,20.25,24.8,115.65,74.6,50.15,103.15,72.1,113.6,25.1,78.9,80.15,25.4,105.4,45.75,24.45,25.0,85.25,19.6,50.15,70.55,60.05,26.4,20.15,58.85,97.55,19.65,25.25,114.45,34.7,70.7,85.3,75.55,84.8,20.65,20.45,102.45,104.4,35.65,99.75,90.45,97.65,73.85,74.4,69.1,82.75,24.4,55.25,61.35,76.75,19.4,54.75,19.7,19.9,107.95,83.8,74.25,56.4,20.1,94.9,94.2,49.9,71.05,81.65,89.45,59.85,69.6,99.0,19.05,45.4,114.45,19.5,44.25,90.55,69.9,20.4,71.4,87.15,24.85,104.45,19.8,116.45,84.75,20.05,110.75,89.7,89.95,48.7,96.6,74.3,54.3,74.85,79.95,20.05,19.4,54.9,24.45,89.65,45.4,75.7,110.65,20.55,115.15,58.55,93.25,113.2,90.5,79.0,19.35,48.75,109.05,25.0,54.9,24.75,91.15,20.15,104.35,66.05,71.65,20.35,92.2,84.25,105.2,19.6,30.4,78.1,61.5,69.4,24.75,91.05,89.65,73.65,19.4,26.2,98.7,43.85,69.7,38.55,53.1,20.65,64.45,25.1,76.35,79.15,85.0,95.15,79.35,96.65,75.5,19.7,20.5,19.2,98.35,74.35,51.35,45.65,85.3,86.55,73.85,20.3,54.2,90.65,50.9,25.05,74.85,20.5,63.55,44.85,47.95,45.1,45.0,96.0,20.05,90.05,25.3,108.65,24.3,75.95,19.7,66.4,35.75,18.8,19.4,19.3,45.55,67.45,35.1,46.2,45.15,43.3,20.1,57.15,58.9,73.2,85.35,19.45,45.95,50.5,25.1,60.7,99.0,104.4,83.75,44.05,24.1,45.55,93.8,19.7,70.65,86.45,114.1,95.2,88.55,20.75,70.05,86.0,44.65,60.2,100.5,55.45,70.3,60.4,72.65,55.8,31.1,21.0,45.1,50.95,69.1,43.95,86.5,69.95,50.4,78.95,90.95,19.9,20.15,90.6,92.0,94.45,24.85,36.0,78.5,19.95,20.65,30.5,106.1,20.5,95.5,64.6,51.1,84.8,89.1,54.95,50.9,20.45,85.95,60.35,19.8,85.35,72.1,99.8,107.35,19.55,81.05,20.5,111.8,20.2,19.7,79.1,19.85,60.5,19.55,20.9,21.05,71.5,54.65,19.2,49.8,25.5,20.5,90.4,90.25,80.75,104.6,91.85,50.2,95.5,75.35,75.45,95.4,101.3,53.1,84.85,34.25,88.6,60.15,99.95,70.7,54.8,49.55,54.8,78.6,100.3,53.6,81.1,19.35,85.6,80.8,74.95,19.6,93.55,90.7,69.75,20.0,95.25,102.1,19.95,80.85,90.9,29.2,93.3,89.15,108.85,46.35,84.75,78.75,83.55,45.7,19.6,69.95,67.85,105.65,44.6,74.95,75.5,20.15,45.2,95.25,89.85,100.45,47.15,80.2,87.1,79.25,75.9,85.7,98.75,20.1,61.8,49.9,86.45,20.4,45.3,104.1,75.4,108.15,86.25,81.0,95.7,116.85,105.75,20.15,19.6,90.6,60.95,25.05,88.15,20.2,60.3,63.95,74.3,70.6,90.8,79.35,90.55,19.45,64.45,69.65,19.5,110.5,24.7,77.4,96.8,85.4,47.6,19.4,103.85,83.35,49.4,108.45,81.0,79.2,86.65,92.95,90.35,48.7,25.15,76.4,19.55,85.35,24.8,103.15,100.75,95.6,59.75,94.1,19.35,19.9,108.15,101.05,59.1,71.35,55.85,106.05,84.1,75.3,24.7,20.15,69.75,93.2,80.85,33.65,55.8,39.7,29.5,20.15,79.55,24.8,19.65,79.95,19.3,94.05,90.75,78.85,99.5,99.2,80.55,70.2,85.2,75.25,59.45,93.35,44.95,26.1,20.2,21.25,59.4,95.0,61.9,118.65,54.35,64.45,80.15,20.2,21.0,20.45,75.85,80.45,24.95,75.5,44.45,42.35,74.55,75.3,94.8,48.15,19.65,70.55,20.15,106.6,91.0,25.4,69.95,66.85,86.15,20.15,64.85,74.85,50.5,72.9,115.05,19.0,19.55,101.1,84.1,24.15,50.1,74.6,19.75,85.0,80.55,106.8,84.5,25.05,83.7,75.8,96.6,98.5,101.1,20.2,94.05,95.25,74.4,81.0,60.25,60.85,43.95,86.05,20.25,85.15,19.4,102.65,19.9,19.55,95.5,84.15,103.2,50.2,88.55,54.75,19.95,116.25,31.2,24.45,84.2,91.3,85.65,21.2,79.5,25.55,20.2,63.85,61.95,25.75,58.2,85.85,70.1,104.9,111.3,99.85,95.25,86.25,100.8,19.55,104.0,104.4,19.5,25.25,86.3,49.85,108.95,89.9,82.0,89.95,79.35,64.05,101.15,89.95,76.45,39.1,34.6,19.55,104.45,70.5,20.35,70.0,19.45,69.9,59.7,78.35,71.45,45.85,95.85,35.7,89.55,24.95,24.85,100.8,64.4,105.35,102.45,19.65,54.45,70.5,20.1,69.35,19.8,74.4,93.05,51.2,65.6,80.55,52.7,20.85,80.1,52.15,80.2,98.15,114.95,112.95,104.45,113.65,20.6,70.9,86.85,91.55,49.85,19.8,99.85,74.5,104.15,109.15,48.2,25.1,100.15,65.2,99.5,71.55,55.9,93.9,64.4,108.4,85.3,107.45,48.75,85.65,91.3,85.95,106.7,25.15,45.2,110.35,79.2,55.5,103.25,90.25,91.25,47.8,100.9,97.7,69.85,65.6,104.65,90.45,63.7,104.5,20.1,104.3,93.25,73.45,20.7,25.25,100.5,90.6,89.4,95.45,20.45,98.6,83.05,19.95,109.15,85.7,102.05,94.7,64.4,26.8,66.05,65.2,85.05,55.8,70.4,104.75,19.95,94.25,45.0,114.9,106.4,46.1,39.7,20.05,95.75,24.4,33.6,90.45,84.0,67.4,19.7,80.35,19.6,54.2,45.2,75.1,19.7,72.75,20.05,45.95,39.2,44.75,82.65,93.9,70.15,85.55,117.15,99.25,112.55,25.7,90.3,49.4,19.4,109.7,61.25,55.3,70.3,106.35,103.75,19.5,39.5,26.05,91.05,29.65,50.2,105.3,55.45,85.45,19.8,59.25,90.7,103.7,79.05,90.7,95.0,88.35,30.25,49.85,93.0,54.55,19.7,84.8,94.45,94.2,96.25,70.7,20.85,60.0,80.45,84.95,33.55,49.65,20.2,94.55,100.5,35.75,86.45,53.8,38.55,39.9,70.05,20.1,112.95,20.3,35.65,35.9,99.25,82.95,55.65,24.45,25.2,50.8,19.65,59.8,73.55,61.4,103.35,19.9,19.45,81.5,84.8,109.55,99.95,74.4,90.0,74.9,104.85,59.65,110.45,106.1,74.2,74.45,24.55,89.35,24.55,90.65,105.05,20.45,19.55,19.7,70.45,85.65,77.15,35.25,20.55,97.95,48.55,20.0,25.25,98.4,70.9,19.85,106.35,99.5,84.7,86.05,44.55,75.85,93.85,25.0,45.0,100.7,20.5,80.45,90.45,60.45,55.25,78.45,100.55,20.35,54.45,90.75,75.35,20.25,20.05,19.6,53.8,70.2,75.5,20.35,26.05,20.6,75.7,20.1,24.3,24.5,110.5,25.25,74.25,90.1,68.75,19.2,89.7,115.1,96.4,69.5,99.65,91.45,84.75,85.25,78.75,20.25,19.9,97.75,19.4,83.3,80.1,62.7,100.4,24.45,101.1,50.9,107.2,92.2,25.3,113.4,40.55,26.0,111.95,53.8,72.1,98.15,78.85,70.75,76.15,39.1,69.95,20.05,20.05,19.45,26.9,19.2,50.0,60.0,84.55,45.45,20.05,115.55,93.7,99.0,50.55,105.95,82.0,25.0,91.55,95.75,19.35,24.85,94.05,100.4,25.0,54.75,95.65,19.25,108.25,94.6,98.9,20.15,101.3,20.0,105.3,69.85,65.25,19.8,19.6,20.05,49.4,76.05,88.4,100.6,19.45,20.3,107.65,80.45,58.85,109.6,75.15,73.0,70.1,98.65,111.45,114.9,100.55,20.4,104.35,69.75,34.5,105.55,30.1,70.3,80.45,80.2,94.35,91.35,44.6,19.6,19.9,110.45,68.35,79.1,51.0,80.55,66.7,86.4,50.05,25.7,83.4,70.7,84.65,99.25,64.75,100.15,84.8,25.25,113.0,40.65,105.0,54.45,94.95,59.9,85.3,83.35,33.5,19.8,81.8,20.0,59.6,25.0,84.35,90.35,55.55,75.35,90.75,89.6,59.3,66.1,18.8,86.45,52.1,47.4,49.25,109.15,94.95,93.55,79.5,115.05,19.75,95.15,95.15,105.4,20.1,101.35,20.05,20.7,20.35,70.05,19.7,74.65,85.45,40.4,50.4,79.65,105.2,100.65,79.85,91.0,78.75,116.75,80.45,59.1,49.8,19.3,19.65,81.4,38.9,87.95,19.85,96.35,24.15,19.1,44.0,50.1,60.6,25.65,76.4,98.7,100.8,53.95,20.4,90.1,29.35,20.45,95.1,25.25,44.9,92.65,43.7,72.6,51.55,79.25,18.95,20.5,19.95,24.5,20.6,94.85,61.05,85.7,106.65,108.25,20.4,55.3,20.25,72.95,89.45,104.65,75.2,101.15,44.4,89.5,68.75,111.05,99.0,86.05,21.0,19.4,44.55,77.2,19.45,24.85,35.4,95.65,41.35,19.6,20.95,84.45,20.25,19.65,20.65,34.7,99.3,81.05,67.6,70.15,115.0,84.8,19.7,19.75,92.55,63.15,74.0,29.1,50.05,60.05,74.3,20.0,74.65,85.35,74.3,44.4,85.4,94.1,98.1,108.9,56.2,26.1,85.45,88.95,109.65,74.35,48.85,80.1,56.05,74.55,89.8,100.95,94.9,19.1,20.35,106.05,104.9,19.65,24.1,59.85,86.1,19.45,97.1,36.65,103.9,19.75,104.05,24.55,48.7,88.35,109.55,20.65,94.65,55.2,24.05,74.4,79.9,20.45,19.25,26.35,43.8,50.15,20.45,69.7,61.4,98.1,70.75,61.15,20.25,63.85,98.7,20.5,20.0,19.3,84.4,25.1,48.25,19.85,99.6,94.2,62.15,79.3,56.25,20.3,99.0,90.6,85.9,79.2,70.35,19.35,50.15,63.8,20.55,88.55,101.4,81.95,69.35,44.6,63.75,109.25,84.6,20.45,85.75,91.1,107.95,86.1,22.95,94.7,19.45,85.1,19.7,99.15,87.0,102.95,79.95,64.0,64.9,25.75,90.15,116.1,104.95,45.05,71.0,50.0,70.55,79.7,20.45,59.0,60.35,19.85,19.95,26.45,63.4,53.95,69.25,95.1,74.1,35.5,70.95,79.2,48.8,89.0,99.4,55.45,25.4,73.5,93.5,63.9,64.85,63.8,44.45,19.95,43.35,49.65,85.1,95.5,92.35,89.8,74.55,103.05,116.0,69.9,95.1,40.25,25.75,105.35,113.6,24.0,19.4,86.1,102.65,92.85,97.75,83.8,54.45,97.95,19.95,24.6,50.95,75.6,80.75,90.4,99.8,60.25,20.2,64.15,20.25,105.85,75.45,93.85,99.0,80.3,19.55,100.75,100.75,53.75,31.0,25.6,58.35,80.0,46.35,113.75,90.4,109.3,70.25,90.3,65.25,100.15,94.5,60.65,24.1,19.5,85.95,53.5,25.45,20.5,20.85,89.9,26.0,113.2,69.05,20.1,109.65,19.2,33.9,90.0,34.0,20.4,38.6,25.25,60.6,89.95,74.75,20.6,84.45,20.4,81.7,79.5,89.15,20.3,74.95,74.4,20.0,25.0,80.45,19.75,65.65,71.0,89.2,86.75,55.3,61.5,25.1,55.15,34.05,19.95,19.95,89.7,20.4,26.3,84.95,20.7,43.25,48.35,79.55,71.05,19.45,110.8,84.5,69.3,49.35,20.35,105.6,64.45,108.6,49.9,30.3,30.4,45.4,65.65,103.3,84.15,44.45,19.75,85.4,89.9,55.05,104.1,106.6,75.2,70.5,19.6,55.85,24.05,38.1,106.4,34.25,100.05,68.65,45.8,75.75,84.4,96.4,20.55,50.95,90.5,79.4,58.75,59.45,105.7,56.25,53.3,85.55,68.65,24.3,77.85,59.9,23.95,20.15,105.35,95.65,87.05,81.0,82.45,53.5,20.5,25.1,54.4,58.6,84.8,61.4,20.4,79.65,20.15,94.45,79.8,54.2,19.45,74.05,49.15,19.4,113.65,106.0,25.95,19.1,103.4,100.55,95.4,75.15,84.45,89.15,107.9,19.5,85.95,24.95,59.4,19.5,69.95,82.85,19.0,38.85,30.6,20.35,95.0,74.4,78.45,74.3,51.05,19.2,99.55,70.0,109.1,45.3,29.85,76.45,95.1,19.8,72.8,18.95,76.65,99.15,101.75,75.45,64.1,25.65,75.1,95.85,54.4,72.75,19.85,19.05,44.95,49.55,94.85,46.25,19.35,69.6,90.7,101.4,20.25,48.8,74.35,19.35,68.75,100.2,20.85,95.9,19.35,45.0,81.5,25.5,48.9,84.1,19.6,20.0,81.3,95.2,36.45,83.3,25.05,20.3,89.85,49.85,19.8,54.65,29.35,19.15,19.1,55.55,80.55,20.25,69.5,106.0,25.5,104.3,79.6,55.25,88.05,20.4,117.6,20.0,19.65,70.55,93.85,65.8,20.05,80.0,35.4,79.6,80.25,50.45,20.45,79.6,24.7,77.3,29.75,44.9,29.8,74.65,71.95,20.75,56.3,105.25,94.2,19.55,84.45,53.65,29.9,19.7,43.7,55.3,19.85,19.65,49.45,106.55,20.1,20.45,39.7,54.5,83.8,55.15,111.6,86.65,55.55,20.55,106.75,62.1,104.5,101.8,110.6,84.9,93.2,24.4,70.55,78.45,85.0,87.45,85.8,91.1,70.75,20.1,20.05,74.8,24.8,100.85,101.35,81.7,68.25,105.1,20.4,79.15,20.0,79.4,57.2,58.6,94.8,102.5,20.35,84.9,69.2,95.45,100.95,20.85,88.5,35.0,55.15,50.95,64.0,69.1,80.2,49.3,84.35,20.05,117.2,20.1,69.6,103.45,77.95,109.95,94.75,80.0,79.65,25.2,19.9,78.45,44.8,20.3,19.2,80.05,107.35,47.85,70.8,29.5,70.75,59.1,25.55,84.45,20.25,75.55,85.65,70.15,95.3,70.25,50.3,97.8,19.85,46.3,19.35,106.3,25.0,20.3,75.35,89.4,88.0,83.15,43.8,62.05,20.1,74.15,101.35,84.05,20.9,105.9,99.5,44.15,53.9,85.45,85.05,44.1,90.2,50.85,59.2,53.45,19.95,83.2,74.65,54.9,57.5,103.9,19.65,93.8,89.25,94.15,55.6,48.7,19.25,104.9,75.45,54.85,19.9,19.4,25.05,84.45,19.3,95.1,79.85,25.55,75.5,73.75,96.05,68.4,20.65,55.15,70.6,19.95,19.0,44.1,107.6,61.55,90.7,99.25,91.7,100.7,78.45,84.3,19.55,88.95,20.45,55.6,86.8,20.95,20.05,50.7,113.65,53.4,101.9,59.5,87.8,41.9,83.0,69.85,56.3,109.55,92.15,69.5,97.0,58.35,50.6,89.5,70.4,69.8,94.3,93.8,19.55,95.95,101.05,94.8,107.75,54.6,71.3,19.5,56.3,94.7,104.15,90.55,60.8,98.8,98.15,35.35,103.15,107.75,81.4,61.45,95.7,104.8,70.95,44.95,97.65,35.65,90.55,85.25,19.5,88.8,25.1,100.05,55.7,85.2,91.15,83.85,45.9,25.1,91.4,19.7,91.5,51.3,21.1,104.75,106.15,85.75,20.3,100.75,74.15,78.55,45.3,19.85,50.7,45.0,77.8,83.45,73.25,94.8,20.1,59.9,90.1,51.05,70.95,29.2,46.6,85.35,75.35,74.3,69.3,75.2,20.9,94.3,76.45,54.0,104.25,19.95,24.95,84.75,19.75,113.65,44.9,75.25,24.6,25.0,20.95,110.6,55.5,43.3,109.5,19.45,84.85,19.6,53.45,19.8,112.1,84.8,95.05,50.35,74.6,19.7,74.2,69.0,19.35,59.45,19.8,105.2,109.2,79.15,53.65,100.2,45.15,108.65,40.65,55.35,105.6,93.8,95.7,83.2,90.05,97.65,68.05,96.2,79.6,102.1,23.4,71.05,85.25,19.45,59.45,92.2,19.85,43.9,80.5,89.8,90.5,90.45,50.75,84.6,89.65,99.15,19.95,20.5,62.1,79.5,19.55,20.35,51.7,23.3,65.4,65.1,81.2,72.9,74.5,80.5,60.3,75.0,90.15,40.0,99.45,69.05,59.7,19.85,86.25,45.65,70.1,40.75,70.2,55.35,95.7,46.3,81.3,84.2,20.0,66.15,45.85,19.6,49.8,101.75,55.15,75.25,103.95,100.15,99.65,73.7,50.05,60.25,105.75,87.3,48.35,54.25,85.3,50.0,24.4,90.95,72.25,96.1,19.85,55.3,20.1,69.5,25.15,20.95,49.55,79.65,71.25,113.8,24.55,19.7,20.25,50.15,100.5,95.9,74.45,104.1,19.05,25.0,19.05,81.9,69.7,90.15,25.35,24.65,19.55,25.25,60.0,89.9,19.4,49.8,24.1,54.25,109.9,35.5,87.55,45.15,88.4,50.8,99.0,84.4,96.55,59.75,111.5,24.25,75.1,70.15,101.75,45.8,20.5,70.4,30.55,84.9,20.1,40.65,101.0,69.1,54.5,75.35,44.45,75.0,100.0,98.05,71.15,54.15,63.9,69.15,64.65,108.75,98.85,49.15,89.6,83.25,70.25,19.4,24.5,79.15,20.1,73.0,61.4,84.3,19.9,20.4,50.75,20.45,75.75,65.4,80.4,59.75,78.5,102.0,48.95,99.65,18.25,54.55,20.65,40.65,20.45,24.8,70.8,89.05,96.6,88.8,20.05,104.5,69.8,77.15,35.05,108.1,84.05,20.2,50.6,49.2,24.6,71.65,104.9,106.5,49.35,75.5,94.25,68.95,58.5,78.9,93.85,79.2,109.45,59.2,29.15,20.05,76.05,24.45,66.5,49.55,89.35,73.6,82.65,49.0,80.35,25.2,25.45,55.8,110.9,77.75,26.2,19.9,79.05,95.0,25.2,80.85,98.4,56.35,19.3,50.4,79.4,55.25,19.1,84.05,105.2,101.4,89.8,75.75,95.3,109.75,19.85,19.3,69.1,91.25,20.25,54.75,81.45,49.1,80.2,100.3,65.25,90.95,85.45,20.0,94.1,79.85,71.65,73.55,104.65,19.3,20.15,44.55,54.45,19.65,105.0,88.7,74.25,75.15,20.25,109.1,30.75,112.9,74.2,94.05,78.85,55.3,19.35,25.35,20.45,19.35,101.0,100.2,89.05,78.65,74.75,70.1,19.9,58.35,105.65,100.5,20.05,25.65,96.5,95.0,70.85,85.95,73.9,45.45,20.0,49.2,109.45,83.25,19.25,19.65,72.8,109.65,65.0,114.1,20.65,86.95,94.75,25.35,105.45,25.4,102.55,100.2,24.0,25.6,73.5,74.05,98.25,54.4,101.55,103.1,34.2,43.75,111.95,100.65,55.95,116.05,45.75,82.0,65.15,44.8,79.8,88.85,74.95,106.85,74.95,80.15,19.3,109.25,56.1,19.7,51.3,118.6,24.15,20.3,115.5,25.05,109.1,19.65,111.3,29.9,80.6,20.8,35.2,78.8,89.95,116.05,19.55,106.4,49.4,115.25,24.8,19.9,81.25,69.95,69.1,90.2,93.55,86.4,66.3,94.65,80.85,82.05,72.1,34.7,20.55,95.95,44.8,109.4,71.05,78.55,19.7,40.25,19.85,68.25,20.15,50.95,78.65,25.15,20.25,42.9,44.0,20.25,34.25,58.5,55.8,88.9,57.65,96.2,79.15,108.05,74.4,94.8,45.9,105.3,102.6,73.85,61.35,57.55,29.25,84.55,19.6,111.75,106.5,107.7,19.3,20.05,69.95,63.7,24.75,50.9,60.4,79.25,85.8,24.45,110.1,90.7,25.3,105.7,85.2,24.35,24.25,25.1,54.55,96.6,76.5,81.15,38.5,92.9,93.5,84.7,66.0,101.5,74.9,20.75,61.45,54.5,69.6,99.75,109.75,80.85,20.3,67.8,24.05,19.8,25.7,56.15,86.7,20.4,19.65,50.55,54.35,108.1,54.45,45.35,59.0,69.45,100.55,64.95,20.5,18.85,19.8,25.05,74.8,114.3,24.45,109.2,45.05,51.0,110.45,84.65,60.05,44.65,93.25,20.25,25.45,20.6,94.1,34.8,60.75,51.35,64.05,84.8,71.0,50.15,94.6,59.75,100.25,98.9,97.7,40.3,60.25,56.25,46.2,50.6,24.9,84.85,65.7,63.35,50.1,70.5,94.85,50.15,19.75,64.65,79.6,19.5,99.55,74.0,38.9,79.55,65.45,98.7,46.3,99.35,95.8,67.5,78.15,26.1,69.6,84.35,100.2,78.05,40.35,79.2,20.9,73.6,74.75,49.9,68.9,20.25,76.0,74.0,82.3,89.4,99.15,20.2,29.45,19.8,59.15,44.75,90.8,49.55,106.7,93.55,94.45,19.45,25.05,67.95,65.25,99.45,20.35,19.95,77.4,19.7,99.7,74.8,19.15,78.95,95.55,62.85,71.55,94.95,86.1,19.55,24.8,39.3,84.05,36.25,20.25,23.9,98.6,103.65,92.9,19.9,20.1,85.45,80.5,99.9,39.85,60.5,84.8,103.85,67.8,75.2,24.85,19.35,49.35,89.0,55.0,76.15,20.3,74.9,117.35,19.75,45.2,25.2,89.75,75.0,49.95,65.7,67.05,110.9,87.95,19.8,75.7,62.15,101.25,115.15,18.95,19.5,86.55,28.6,20.4,19.8,45.65,56.4,73.3,24.35,101.35,98.65,33.6,79.9,20.7,104.05,20.25,103.3,73.7,96.2,108.75,20.15,19.75,25.95,70.05,24.05,84.75,23.05,104.15,59.95,19.55,19.6,20.05,85.55,78.6,116.8,43.55,60.8,54.9,65.2,102.95,90.6,50.8,90.05,108.2,92.0,75.1,25.05,75.15,19.5,19.3,112.2,70.3,19.6,20.25,75.85,80.65,68.5,115.75,73.5,80.6,69.95,59.55,19.05,95.65,19.95,70.05,19.4,36.1,94.0,61.15,19.75,64.1,19.75,19.7,110.2,106.35,90.55,65.9,104.5,52.5,56.1,88.75,84.45,75.3,26.0,99.4,109.55,19.6,73.15,54.65,66.4,115.55,104.45,100.05,102.0,91.15,89.7,90.2,92.4,19.9,25.15,79.85,18.85,25.75,49.6,20.95,97.05,25.4,19.7,35.0,101.25,70.2,90.95,73.85,88.05,105.95,91.85,20.1,40.1,110.3,73.9,89.8,85.15,60.95,72.25,73.55,46.0,58.55,24.6,19.75,86.35,25.5,19.0,19.55,110.1,96.55,69.75,50.6,65.6,40.1,82.1,79.1,101.25,79.55,90.65,20.55,75.75,110.0,20.85,80.35,70.15,84.05,67.45,20.75,89.1,69.9,51.1,94.4,78.25,25.55,60.0,90.55,76.4,84.95,110.1,99.65,45.4,69.0,48.65,44.15,59.85,75.75,80.65,20.55,66.4,100.2,19.1,80.3,44.55,20.35,91.8,74.9,20.2,50.35,18.8,20.45,64.75,98.7,89.45,58.75,20.7,85.6,80.3,79.8,79.85,54.1,80.85,24.75,80.9,24.5,20.15,20.05,19.6,114.3,100.3,80.0,20.85,89.95,20.0,90.85,48.75,80.0,79.7,20.35,57.55,20.25,19.4,100.4,57.95,59.5,19.2,86.5,59.55,103.95,25.1,103.95,68.95,103.1,24.7,110.2,48.95,62.45,89.55,83.55,78.9,20.35,71.45,46.35,94.65,49.9,25.45,89.15,20.75,66.1,75.4,70.45,60.3,21.05,69.35,88.85,97.0,66.4,24.75,69.2,79.5,100.65,103.3,79.7,61.4,69.8,40.55,75.65,90.7,80.5,60.6,101.15,24.95,20.3,60.0,20.25,78.5,44.75,19.85,98.0,79.9,107.7,99.7,104.7,58.6,93.9,86.45,98.5,19.4,50.45,24.95,75.0,94.65,100.25,78.2,94.2,88.45,69.85,81.7,50.05,79.9,69.55,25.4,90.1,44.65,83.75,80.35,98.1,53.35,19.55,20.9,48.95,54.2,24.45,69.4,40.15,74.9,25.6,70.35,91.7,89.2,24.1,74.15,53.85,115.6,19.75,24.05,25.3,84.3,70.1,89.75,97.95,20.0,78.3,103.9,20.7,96.8,94.4,20.15,26.0,77.35,66.05,19.9,84.3,68.15,80.85,75.5,92.45,80.6,83.2,87.55,99.55,81.25,109.4,19.95,45.55,20.7,75.3,99.25,93.4,73.75,80.45,88.15,49.2,19.65,79.35,79.75,105.15,49.0,100.05,69.35,49.8,85.8,79.7,20.95,50.55,79.3,19.5,80.55,44.15,84.5,105.5,84.3,92.7,26.25,96.95,20.45,115.8,108.2,20.2,67.75,54.9,85.25,20.15,90.35,55.75,114.6,80.05,20.0,66.8,100.3,105.35,85.2,48.8,18.95,69.8,106.15,20.55,105.75,25.25,19.75,104.85,60.95,81.15,19.1,20.8,90.15,90.1,74.1,85.05,118.75,85.9,95.0,20.15,101.3,21.2,24.2,20.3,102.8,85.3,89.6,99.95,56.25,50.95,115.85,103.65,26.1,35.1,99.1,67.25,25.0,59.55,77.8,55.1,117.8,24.15,45.25,79.5,20.25,64.75,54.6,20.7,94.75,79.65,115.8,49.45,83.8,95.35,94.7,74.05,89.6,116.6,54.2,19.3,65.05,92.5,19.45,24.05,18.75,20.15,20.0,71.0,75.55,93.6,70.0,24.4,74.8,65.25,50.55,104.4,70.7,45.25,70.3,108.95,26.45,86.2,19.65,51.2,19.05,74.75,75.8,25.1,44.45,104.3,19.5,89.0,20.15,74.9,74.9,36.15,19.2,19.25,61.2,20.45,35.05,100.25,44.0,102.8,50.35,100.0,20.0,99.85,94.2,86.4,58.4,83.85,88.3,94.1,104.05,108.9,107.4,94.7,90.85,19.9,66.4,100.65,100.7,25.6,19.85,20.75,95.8,94.65,80.55,106.65,45.85,104.35,55.45,78.85,61.15,78.95,44.45,109.2,61.3,96.85,40.55,19.8,108.25,105.05,90.45,86.4,66.9,110.7,20.0,84.9,102.1,20.25,70.15,74.35,80.05,62.05,49.2,20.5,38.25,54.95,96.6,19.9,19.9,84.6,80.0,85.25,81.25,115.5,104.1,79.0,39.1,94.65,20.8,59.5,20.05,100.45,76.5,20.6,20.3,49.2,39.55,23.15,20.45,80.85,25.25,91.25,72.45,60.1,19.7,78.95,75.1,25.0,69.15,91.55,45.15,35.8,113.15,19.85,19.8,19.9,19.7,79.4,59.1,53.95,91.15,99.3,68.95,51.55,24.4,96.8,70.05,19.5,78.75,69.2,19.55,80.65,103.65,54.7,54.15,71.1,84.85,20.0,106.25,99.25,19.35,20.8,94.75,114.05,74.9,19.8,94.0,80.85,54.65,91.7,118.6,24.55,19.45,116.15,80.6,20.3,89.85,46.0,66.25,99.8,90.0,70.45,75.0,19.9,80.3,19.75,84.3,54.05,104.9,53.95,97.25,83.05,105.5,81.0,41.1,45.0,74.55,40.2,70.5,19.75,24.65,104.25,78.35,69.8,109.7,73.75,33.45,94.6,54.55,20.2,20.3,39.4,69.15,76.25,93.9,51.35,100.05,70.4,20.3,94.45,46.4,104.05,91.15,24.9,59.6,108.5,40.55,58.95,70.95,20.75,113.15,48.8,63.05,100.85,99.5,80.55,64.4,75.2,84.9,19.3,83.9,117.45,104.4,74.65,59.05,69.1,20.55,76.55,62.5,29.4,94.9,111.65,19.9,20.45,106.05,113.45,92.55,65.6,84.35,44.65,71.1,85.15,49.7,30.2,25.25,84.05,85.7,74.7,56.35,90.8,107.55,19.85,95.9,23.85,106.15,83.85,85.35,84.8,90.85,76.1,74.55,39.2,79.55,19.6,19.55,39.15,20.1,99.95,59.8,49.75,35.75,108.5,60.15,19.05,46.0,84.0,44.55,103.45,80.65,57.2,110.75,24.7,97.05,76.35,89.4,18.9,74.45,19.8,50.9,84.4,24.4,20.05,81.0,98.35,55.5,51.0,91.65,84.3,100.2,19.4,90.85,69.4,94.45,20.4,94.75,20.15,95.7,44.35,74.55,73.6,74.95,47.95,50.1,63.6,53.0,19.85,24.35,19.55,25.05,93.8,36.85,103.75,56.75,20.8,44.1,24.45,25.6,50.75,104.4,39.3,59.65,83.3,79.55,24.45,19.2,29.8,45.5,106.45,30.05,65.65,96.05,75.1,74.05,44.7,110.75,19.7,49.5,55.0,43.95,74.35,111.15,104.7,55.7,20.6,19.65,115.8,88.65,94.5,20.1,34.65,52.3,65.0,19.85,35.45,19.7,95.6,19.85,81.85,109.3,70.3,25.4,69.8,20.0,85.55,109.9,50.3,94.5,101.5,89.15,19.4,29.9,78.8,85.35,79.65,19.3,79.6,96.8,20.65,19.8,90.6,104.6,80.05,45.15,73.15,99.1,20.2,106.05,105.35,45.65,79.95,54.45,25.1,84.7,75.85,48.8,99.15,35.2,76.25,55.9,82.35,40.4,24.9,54.3,66.3,20.9,75.35,85.15,75.35,104.45,49.45,19.45,92.15,93.8,19.85,100.25,95.7,93.15,69.7,19.8,71.35,20.75,40.6,20.4,20.35,19.75,54.4,94.7,30.5,20.45,66.15,89.85,45.05,86.85,96.75,77.0,20.1,75.3,106.65,110.15,82.85,20.1,99.2,59.45,58.6,49.7,65.85,73.5,85.5,20.05,113.65,83.4,65.65,70.4,61.35,85.9,75.65,49.75,70.9,49.85,75.3,20.1,94.0,103.05,118.35,99.7,81.9,30.45,96.1,66.2,104.25,80.2,19.75,72.6,116.5,106.8,24.95,89.25,19.25,104.55,87.2,30.75,25.7,86.2,30.1,99.35,19.2,20.1,20.35,25.65,94.55,104.2,94.4,56.1,68.25,24.75,76.25,74.35,54.15,19.45,34.95,53.65,69.65,104.0,70.35,80.8,64.85,19.65,45.9,20.0,44.8,80.3,20.35,45.8,84.1,108.95,69.35,64.35,90.8,24.95,79.6,84.7,70.8,36.45,104.4,101.5,54.3,103.95,91.1,19.95,26.45,89.4,75.1,108.1,110.15,80.35,111.5,106.5,19.9,111.1,70.7,24.85,91.2,65.6,40.65,59.45,109.95,60.45,84.9,38.5,92.55,73.55,20.15,34.7,24.5,19.7,20.6,58.0,107.45,65.5,25.45,100.15,104.45,21.15,96.2,44.4,107.55,94.35,98.75,20.3,101.15,105.75,81.15,89.55,54.75,53.75,105.75,105.85,64.2,88.7,87.7,89.3,20.15,79.75,94.55,20.05,67.2,94.55,69.05,107.5,73.0,114.75,76.05,96.25,101.1,104.7,77.9,90.65,110.45,68.7,44.85,29.8,88.9,58.75,19.85,86.9,59.65,55.25,66.4,90.1,20.15,108.1,53.75,56.9,89.3,109.6,25.15,79.15,66.75,95.2,48.8,45.7,80.7,74.5,20.55,79.65,115.1,59.7,86.45,33.7,80.1,104.05,108.75,41.1,20.35,105.9,101.3,80.05,89.2,65.5,40.45,70.45,78.8,83.65,90.1,82.45,20.25,66.25,19.5,51.25,89.7,64.55,45.6,93.65,49.65,73.6,109.75,61.45,106.4,81.9,105.2,54.6,20.55,20.0,19.7,66.05,34.0,92.5,54.05,58.9,88.35,107.95,96.9,19.1,50.0,45.4,85.45,84.1,74.45,64.75,66.25,76.9,89.8,74.6,116.95,40.65,114.35,69.7,95.5,98.65,61.65,89.35,95.4,35.4,19.95,19.25,29.65,84.5,20.4,24.75,25.35,90.7,20.0,59.75,82.5,70.3,20.35,90.8,103.95,104.95,105.25,74.75,50.8,23.75,61.3,75.8,98.0,80.25,78.9,52.0,84.75,64.4,85.45,45.8,30.5,19.9,69.15,99.45,49.25,39.35,70.6,105.1,81.0,20.1,84.85,19.75,19.75,70.4,20.45,20.35,86.2,95.65,103.8,97.2,63.55,24.95,89.15,99.0,24.8,85.55,94.0,105.65,50.3,95.0,61.4,80.55,78.5,114.3,20.05,62.65,80.85,92.7,100.45,75.2,84.75,89.45,79.5,72.15,19.8,76.4,100.9,95.3,90.95,54.5,61.6,79.9,96.15,49.6,65.3,25.0,45.45,107.75,89.1,19.65,44.75,101.6,103.15,84.65,95.65,75.1,61.35,69.55,19.7,31.05,51.0,51.0,88.85,20.05,65.1,70.15,44.35,20.75,56.05,19.95,98.6,79.7,79.0,89.45,74.2,81.0,49.6,84.6,55.0,84.85,84.2,106.3,69.05,45.4,73.65,73.9,77.75,99.35,50.75,87.1,20.15,98.7,25.2,55.7,65.35,25.3,84.35,84.95,73.85,24.25,51.8,46.0,79.4,60.5,25.1,71.8,20.05,88.4,30.25,20.2,59.9,25.15,46.0,101.3,76.95,55.3,92.45,48.45,19.35,51.75,86.7,94.4,55.7,84.25,64.65,70.15,69.2,54.65,24.75,23.95,105.0,59.85,20.05,92.15,44.8,20.9,95.4,80.35,85.1,34.7,115.05,81.1,19.95,20.55,106.6,86.15,78.85,106.75,86.55,42.4,89.45,24.25,97.9,20.5,19.6,20.25,55.7,20.6,19.8,79.8,80.2,116.4,31.65,94.15,20.65,76.85,20.15,55.25,39.05,82.15,103.0,95.1,83.9,95.15,79.8,74.8,69.85,20.45,78.35,53.55,19.1,20.0,93.9,19.95,113.15,24.0,84.95,80.5,19.3,19.15,91.3,49.65,54.35,19.15,88.45,19.75,75.5,83.75,19.4,26.5,90.5,19.15,94.85,69.95,40.9,80.25,48.6,70.8,60.2,55.2,55.8,54.15,80.15,75.5,100.4,62.55,70.45,85.5,20.2,54.5,20.75,20.35,91.0,104.8,74.75,104.05,51.1,89.8,20.55,64.05,74.85,96.65,20.05,103.45,25.0,20.3,26.35,19.9,54.7,46.35,90.25,19.95,20.65,79.6,25.45,19.5,75.9,76.2,66.15,19.25,69.1,39.1,20.05,59.8,84.3,48.6,79.0,105.35,25.1,49.75,94.75,93.0,71.9,77.55,19.85,70.25,95.25,84.6,25.05,53.15,20.15,101.25,100.55,24.1,25.3,71.8,19.7,49.85,69.6,19.75,80.8,60.0,86.55,20.85,64.2,35.0,50.75,105.5,19.2,85.15,90.65,20.0,74.65,61.2,19.95,54.8,73.45,51.45,80.45,54.2,109.5,104.4,85.3,79.3,76.5,105.1,25.4,86.85,19.65,75.7,45.55,78.1,19.3,110.5,90.8,20.3,81.35,97.95,108.15,55.3,56.55,80.5,19.7,104.05,52.85,104.3,80.65,71.35,24.65,21.3,110.2,89.4,51.05,19.8,19.9,87.3,19.85,89.4,20.0,20.05,83.25,20.6,102.9,39.1,99.95,114.5,20.2,55.8,24.2,81.0,72.8,99.85,99.5,70.15,20.25,26.0,19.9,19.05,96.5,19.85,25.7,20.3,70.15,91.55,39.4,105.7,70.25,93.75,96.55,60.0,59.8,90.65,109.0,68.1,20.4,81.95,60.55,65.6,82.5,82.3,68.15,20.3,95.55,20.2,89.2,69.65,89.3,74.8,20.2,84.4,87.55,25.15,19.8,50.85,102.4,96.3,55.5,109.75,106.4,60.0,88.8,85.2,35.1,80.05,75.55,49.55,81.3,23.9,66.4,19.6,18.8,108.4,85.95,85.45,80.9,71.0,111.8,20.6,85.05,44.6,44.4,105.1,115.15,59.8,26.3,70.55,20.05,79.85,70.3,79.35,90.05,24.45,59.95,25.35,90.8,70.45,34.3,105.05,19.3,19.15,51.4,71.85,75.4,49.7,45.25,78.75,81.6,70.4,75.8,76.1,94.0,103.95,19.95,71.3,110.8,69.1,96.1,48.8,50.55,44.65,88.25,19.45,89.3,70.0,19.25,70.5,97.35,19.65,20.85,19.65,19.35,44.0,94.4,25.9,55.65,69.65,75.4,100.6,71.0,86.0,106.95,21.2,61.05,29.6,79.95,19.7,20.3,59.9,24.35,19.75,50.3,95.6,50.25,85.35,41.6,51.65,24.0,100.85,59.85,25.45,23.9,24.15,75.7,40.2,84.5,50.85,91.6,98.9,85.0,78.95,44.3,20.2,80.2,60.9,34.2,85.2,87.15,54.3,19.1,112.75,19.95,19.5,65.55,78.8,78.2,105.25,89.25,20.65,68.7,78.65,24.75,19.75,89.1,84.7,98.0,94.45,105.0,93.85,59.9,19.95,84.0,108.9,33.6,85.85,34.85,48.75,84.85,56.65,95.3,73.9,24.5,84.6,44.95,24.7,100.3,25.45,50.7,55.0,68.4,89.9,78.55,55.05,19.8,84.45,35.9,80.75,78.65,61.75,63.7,99.45,25.2,74.05,87.6,89.15,20.0,55.0,104.4,20.05,89.75,34.3,20.65,84.25,19.65,79.85,20.2,19.8,50.35,85.15,74.6,79.15,20.35,21.05,94.6,94.7,94.25,72.45,74.95,105.2,111.95,19.85,89.75,20.05,108.95,19.65,24.9,82.85,93.2,84.8,71.75,30.35,54.85,19.5,103.85,24.2,19.35,83.6,100.65,94.1,74.55,108.45,56.15,20.35,80.55,61.25,20.45,18.9,19.6,91.5,45.2,19.45,25.45,80.85,94.9,49.05,29.3,105.3,88.95,20.25,110.85,110.5,109.4,114.2,36.5,70.75,19.95,19.6,40.15,76.6,19.6,85.3,65.85,94.45,20.05,99.4,20.0,78.45,25.1,97.35,55.0,71.1,61.55,45.9,40.3,87.1,49.5,73.8,19.2,45.3,25.0,94.95,35.3,44.55,76.75,81.0,105.55,18.8,24.9,23.45,64.9,61.35,113.95,90.15,54.1,29.7,49.8,101.1,24.4,95.0,50.65,69.9,39.95,55.4,90.6,103.25,86.85,94.25,47.05,20.55,19.65,70.2,81.0,75.9,24.7,99.05,110.25,85.0,19.75,23.9,111.25,55.1,19.95,25.15,54.15,59.8,83.85,104.9,75.3,66.65,109.5,73.85,19.3,118.2,51.45,59.45,19.5,19.55,93.55,59.3,102.25,95.9,109.8,78.1,39.9,64.9,95.05,53.4,24.9,44.7,114.0,20.25,53.85,83.85,20.2,19.95,104.2,50.25,20.35,90.0,54.2,99.5,99.1,66.9,25.85,91.05,71.0,93.2,20.95,109.2,19.35,85.8,19.85,19.65,20.5,89.65,74.35,49.45,89.1,75.15,70.65,104.2,90.05,79.25,44.9,19.4,88.75,70.1,91.0,29.65,90.8,77.85,54.3,18.95,95.15,102.4,99.9,88.7,54.3,55.7,103.95,110.85,20.15,20.05,91.95,80.5,55.65,74.7,104.15,83.65,72.2,110.05,51.5,25.5,89.55,19.5,80.7,77.5,105.1,25.15,95.25,95.65,85.0,80.8,24.85,54.75,85.75,50.75,20.15,20.05,98.25,71.6,81.45,58.4,25.7,53.7,19.6,89.4,69.0,84.2,106.1,25.75,46.05,64.95,85.45,20.05,76.4,100.5,20.7,25.3,40.05,100.6,69.95,74.0,99.4,93.3,49.15,107.45,83.6,99.05,80.1,65.3,89.55,60.8,74.5,99.15,19.25,39.45,44.85,97.2,110.55,35.05,73.0,19.9,76.95,35.4,20.45,96.75,54.2,100.1,45.25,83.85,70.1,20.85,33.45,20.2,85.9,61.0,70.65,86.9,69.4,20.35,20.35,104.3,44.95,49.45,20.6,19.55,99.0,93.5,54.55,20.05,83.95,79.45,116.2,93.7,79.85,100.0,19.6,19.7,20.2,50.4,113.35,80.0,80.95,24.9,54.9,75.55,109.25,77.65,95.0,116.3,19.9,70.35,25.6,44.45,100.15,105.4,95.85,73.85,70.1,25.25,79.15,21.05,24.95,64.5,19.65,79.0,105.95,75.85,91.85,43.6,91.25,89.75,104.4,90.15,40.3,105.25,106.0,104.0,69.65,74.3,100.9,20.25,49.9,96.9,100.35,104.1,20.1,74.95,56.55,49.25,68.6,69.05,19.7,20.05,103.7,94.4,54.95,93.7,110.25,98.9,89.75,80.45,79.4,20.3,62.8,74.9,74.85,25.85,101.95,68.3,48.4,94.0,105.05,89.3,25.15,19.5,92.95,20.7,74.3,19.35,44.65,84.05,80.7,104.35,19.55,74.05,40.1,20.1,101.7,83.55,56.85,20.4,19.55,106.15,78.95,49.75,92.4,58.2,102.6,91.95,65.25,106.0,73.1,59.75,55.1,59.8,116.6,109.3,101.4,50.65,56.15,106.5,19.2,83.0,70.1,108.3,91.05,25.25,45.35,43.9,77.5,79.3,84.9,79.25,71.05,53.75,24.25,54.2,44.25,50.05,20.15,69.25,69.35,19.35,19.15,61.0,20.5,50.5,50.2,79.6,24.9,74.4,106.9,101.35,55.35,50.55,19.5,79.45,90.65,89.85,79.0,104.65,19.55,19.9,116.25,87.75,100.05,81.3,44.3,70.35,44.45,49.15,29.45,100.55,85.3,95.65,69.1,70.35,20.6,74.15,75.05,44.6,21.45,43.45,20.05,94.15,94.4,19.55,75.9,64.15,109.55,110.8,55.0,53.45,69.95,101.45,97.0,90.6,73.55,67.95,94.35,69.5,18.85,19.4,69.2,19.75,54.6,29.8,69.65,101.85,103.05,82.3,20.3,35.1,105.7,56.25,60.35,79.25,59.8,84.6,93.4,94.2,25.05,99.65,50.65,60.9,59.65,64.7,25.1,48.95,54.85,45.3,91.35,85.85,25.1,34.0,45.9,95.2,20.5,100.6,55.3,20.35,74.85,36.1,65.8,20.35,105.8,96.75,102.35,24.4,115.65,79.85,73.05,64.35,20.5,76.0,54.75,104.75,74.65,51.15,41.95,54.35,56.25,106.1,96.0,79.75,61.45,68.65,19.65,19.0,100.0,20.25,98.7,19.8,73.8,100.2,74.9,20.05,106.2,116.55,99.7,19.7,19.5,29.15,55.0,90.8,51.0,90.1,59.05,20.3,72.95,73.55,84.3,78.0,72.1,106.75,19.25,20.55,20.0,24.65,103.5,23.85,25.8,70.85,69.8,59.45,54.55,20.05,82.55,81.25,70.75,74.3,94.1,29.7,109.7,96.35,66.6,44.5,110.9,105.0,25.3,55.15,20.1,80.1,69.05,69.9,20.4,19.7,50.1,101.4,83.45,86.65,20.15,80.8,19.4,62.05,76.45,60.05,91.3,95.75,20.35,94.05,84.1,78.75,55.55,62.65,74.5,102.1,20.1,70.3,53.65,20.75,103.4,50.8,50.15,79.0,74.6,96.5,20.1,19.4,77.55,20.05,19.85,20.2,67.45,18.55,29.75,86.5,24.2,23.55,20.45,81.45,92.3,69.15,53.65,39.65,54.65,104.8,29.3,83.85,79.55,103.65,99.05,73.35,100.05,20.35,43.95,23.5,70.7,94.3,29.15,20.85,37.7,95.5,91.05,92.45,44.15,36.05,50.25,109.75,79.2,20.3,112.35,94.3,41.15,74.65,48.25,76.15,71.1,96.55,79.3,89.6,20.5,106.3,100.35,85.6,45.25,106.15,51.1,19.9,25.7,74.3,99.4,69.7,98.35,85.45,95.9,100.75,89.2,74.1,100.6,75.0,25.75,84.1,79.3,107.05,20.05,70.2,19.5,70.75,45.3,115.15,72.95,19.65,19.55,89.55,50.35,50.25,87.25,20.8,109.25,20.35,55.9,79.2,96.0,79.2,24.0,101.35,100.1,56.5,35.45,85.0,79.4,35.2,19.65,49.85,68.75,61.9,79.9,89.75,59.3,19.4,93.65,49.4,19.9,55.0,72.9,69.2,25.6,19.75,55.7,117.5,19.85,78.9,20.65,62.3,92.5,19.65,79.75,79.95,29.9,19.75,45.0,44.8,69.65,51.1,53.15,24.7,111.6,48.55,109.95,20.8,20.2,25.6,39.65,24.9,108.4,19.55,85.1,56.7,69.05,70.15,111.15,105.95,89.35,89.1,91.25,90.35,105.55,19.1,20.4,100.45,74.95,29.7,50.35,85.7,47.85,94.0,69.85,70.3,25.85,71.1,98.8,93.35,99.85,80.3,50.55,80.45,81.3,20.7,79.05,19.05,19.6,20.2,86.8,20.9,103.6,38.8,88.4,84.2,79.7,99.0,100.75,19.3,55.75,19.95,91.75,89.65,45.85,79.55,55.95,69.0,83.55,65.7,94.9,61.9,111.1,20.0,67.7,25.15,92.85,89.1,111.3,101.9,91.65,88.85,60.6,25.3,65.5,95.45,19.95,91.1,54.15,74.6,94.6,81.15,89.05,49.2,19.45,104.3,69.7,89.5,86.05,25.2,35.15,99.65,105.35,35.15,73.75,101.35,24.3,80.7,89.85,61.1,29.05,99.7,55.9,105.9,46.0,43.95,80.4,100.05,45.1,94.0,68.95,68.45,69.0,43.85,44.5,18.7,70.25,55.35,53.55,114.6,20.1,85.5,108.75,103.0,97.85,19.55,84.05,103.75,89.4,19.7,79.85,74.45,74.1,69.35,18.8,73.85,64.4,55.8,20.05,75.15,99.15,56.75,69.6,104.15,110.8,80.15,35.75,69.9,89.2,55.65,50.7,20.0,30.5,19.1,98.3,45.55,101.05,103.7,36.25,49.4,19.9,107.4,82.0,19.8,45.05,64.55,86.25,19.75,89.1,95.55,75.4,101.25,102.6,56.3,94.2,43.05,89.5,74.4,20.5,74.35,99.75,111.95,94.0,98.85,64.35,72.0,49.7,80.7,24.2,39.0,65.45,74.35,83.2,25.0,40.2,94.1,108.35,69.5,76.0,93.6,95.65,100.55,88.05,24.45,89.55,66.5,76.1,80.5,35.45,20.55,49.9,105.4,35.75,95.1,19.3,104.5,63.1,75.05,81.0,74.45,60.4,84.95,93.4,89.2,85.2,49.95,20.65,70.65,20.15,19.2,59.8,104.95,103.5,84.8,95.05,44.2,73.35,64.1,44.4,20.05,60.0,75.75,69.5,102.95,78.7,60.65,21.15,84.8,103.2,29.6,74.4,105.65],\"x0\":\" \",\"xaxis\":\"x\",\"y0\":\" \",\"yaxis\":\"y\",\"type\":\"violin\",\"line\":{\"color\":\"bLACK\"},\"fillcolor\":\"#87CEFA\",\"opacity\":0.5}],                        {\"template\":{\"data\":{\"bar\":[{\"error_x\":{\"color\":\"#2a3f5f\"},\"error_y\":{\"color\":\"#2a3f5f\"},\"marker\":{\"line\":{\"color\":\"#E5ECF6\",\"width\":0.5},\"pattern\":{\"fillmode\":\"overlay\",\"size\":10,\"solidity\":0.2}},\"type\":\"bar\"}],\"barpolar\":[{\"marker\":{\"line\":{\"color\":\"#E5ECF6\",\"width\":0.5},\"pattern\":{\"fillmode\":\"overlay\",\"size\":10,\"solidity\":0.2}},\"type\":\"barpolar\"}],\"carpet\":[{\"aaxis\":{\"endlinecolor\":\"#2a3f5f\",\"gridcolor\":\"white\",\"linecolor\":\"white\",\"minorgridcolor\":\"white\",\"startlinecolor\":\"#2a3f5f\"},\"baxis\":{\"endlinecolor\":\"#2a3f5f\",\"gridcolor\":\"white\",\"linecolor\":\"white\",\"minorgridcolor\":\"white\",\"startlinecolor\":\"#2a3f5f\"},\"type\":\"carpet\"}],\"choropleth\":[{\"colorbar\":{\"outlinewidth\":0,\"ticks\":\"\"},\"type\":\"choropleth\"}],\"contour\":[{\"colorbar\":{\"outlinewidth\":0,\"ticks\":\"\"},\"colorscale\":[[0.0,\"#0d0887\"],[0.1111111111111111,\"#46039f\"],[0.2222222222222222,\"#7201a8\"],[0.3333333333333333,\"#9c179e\"],[0.4444444444444444,\"#bd3786\"],[0.5555555555555556,\"#d8576b\"],[0.6666666666666666,\"#ed7953\"],[0.7777777777777778,\"#fb9f3a\"],[0.8888888888888888,\"#fdca26\"],[1.0,\"#f0f921\"]],\"type\":\"contour\"}],\"contourcarpet\":[{\"colorbar\":{\"outlinewidth\":0,\"ticks\":\"\"},\"type\":\"contourcarpet\"}],\"heatmap\":[{\"colorbar\":{\"outlinewidth\":0,\"ticks\":\"\"},\"colorscale\":[[0.0,\"#0d0887\"],[0.1111111111111111,\"#46039f\"],[0.2222222222222222,\"#7201a8\"],[0.3333333333333333,\"#9c179e\"],[0.4444444444444444,\"#bd3786\"],[0.5555555555555556,\"#d8576b\"],[0.6666666666666666,\"#ed7953\"],[0.7777777777777778,\"#fb9f3a\"],[0.8888888888888888,\"#fdca26\"],[1.0,\"#f0f921\"]],\"type\":\"heatmap\"}],\"heatmapgl\":[{\"colorbar\":{\"outlinewidth\":0,\"ticks\":\"\"},\"colorscale\":[[0.0,\"#0d0887\"],[0.1111111111111111,\"#46039f\"],[0.2222222222222222,\"#7201a8\"],[0.3333333333333333,\"#9c179e\"],[0.4444444444444444,\"#bd3786\"],[0.5555555555555556,\"#d8576b\"],[0.6666666666666666,\"#ed7953\"],[0.7777777777777778,\"#fb9f3a\"],[0.8888888888888888,\"#fdca26\"],[1.0,\"#f0f921\"]],\"type\":\"heatmapgl\"}],\"histogram\":[{\"marker\":{\"pattern\":{\"fillmode\":\"overlay\",\"size\":10,\"solidity\":0.2}},\"type\":\"histogram\"}],\"histogram2d\":[{\"colorbar\":{\"outlinewidth\":0,\"ticks\":\"\"},\"colorscale\":[[0.0,\"#0d0887\"],[0.1111111111111111,\"#46039f\"],[0.2222222222222222,\"#7201a8\"],[0.3333333333333333,\"#9c179e\"],[0.4444444444444444,\"#bd3786\"],[0.5555555555555556,\"#d8576b\"],[0.6666666666666666,\"#ed7953\"],[0.7777777777777778,\"#fb9f3a\"],[0.8888888888888888,\"#fdca26\"],[1.0,\"#f0f921\"]],\"type\":\"histogram2d\"}],\"histogram2dcontour\":[{\"colorbar\":{\"outlinewidth\":0,\"ticks\":\"\"},\"colorscale\":[[0.0,\"#0d0887\"],[0.1111111111111111,\"#46039f\"],[0.2222222222222222,\"#7201a8\"],[0.3333333333333333,\"#9c179e\"],[0.4444444444444444,\"#bd3786\"],[0.5555555555555556,\"#d8576b\"],[0.6666666666666666,\"#ed7953\"],[0.7777777777777778,\"#fb9f3a\"],[0.8888888888888888,\"#fdca26\"],[1.0,\"#f0f921\"]],\"type\":\"histogram2dcontour\"}],\"mesh3d\":[{\"colorbar\":{\"outlinewidth\":0,\"ticks\":\"\"},\"type\":\"mesh3d\"}],\"parcoords\":[{\"line\":{\"colorbar\":{\"outlinewidth\":0,\"ticks\":\"\"}},\"type\":\"parcoords\"}],\"pie\":[{\"automargin\":true,\"type\":\"pie\"}],\"scatter\":[{\"marker\":{\"colorbar\":{\"outlinewidth\":0,\"ticks\":\"\"}},\"type\":\"scatter\"}],\"scatter3d\":[{\"line\":{\"colorbar\":{\"outlinewidth\":0,\"ticks\":\"\"}},\"marker\":{\"colorbar\":{\"outlinewidth\":0,\"ticks\":\"\"}},\"type\":\"scatter3d\"}],\"scattercarpet\":[{\"marker\":{\"colorbar\":{\"outlinewidth\":0,\"ticks\":\"\"}},\"type\":\"scattercarpet\"}],\"scattergeo\":[{\"marker\":{\"colorbar\":{\"outlinewidth\":0,\"ticks\":\"\"}},\"type\":\"scattergeo\"}],\"scattergl\":[{\"marker\":{\"colorbar\":{\"outlinewidth\":0,\"ticks\":\"\"}},\"type\":\"scattergl\"}],\"scattermapbox\":[{\"marker\":{\"colorbar\":{\"outlinewidth\":0,\"ticks\":\"\"}},\"type\":\"scattermapbox\"}],\"scatterpolar\":[{\"marker\":{\"colorbar\":{\"outlinewidth\":0,\"ticks\":\"\"}},\"type\":\"scatterpolar\"}],\"scatterpolargl\":[{\"marker\":{\"colorbar\":{\"outlinewidth\":0,\"ticks\":\"\"}},\"type\":\"scatterpolargl\"}],\"scatterternary\":[{\"marker\":{\"colorbar\":{\"outlinewidth\":0,\"ticks\":\"\"}},\"type\":\"scatterternary\"}],\"surface\":[{\"colorbar\":{\"outlinewidth\":0,\"ticks\":\"\"},\"colorscale\":[[0.0,\"#0d0887\"],[0.1111111111111111,\"#46039f\"],[0.2222222222222222,\"#7201a8\"],[0.3333333333333333,\"#9c179e\"],[0.4444444444444444,\"#bd3786\"],[0.5555555555555556,\"#d8576b\"],[0.6666666666666666,\"#ed7953\"],[0.7777777777777778,\"#fb9f3a\"],[0.8888888888888888,\"#fdca26\"],[1.0,\"#f0f921\"]],\"type\":\"surface\"}],\"table\":[{\"cells\":{\"fill\":{\"color\":\"#EBF0F8\"},\"line\":{\"color\":\"white\"}},\"header\":{\"fill\":{\"color\":\"#C8D4E3\"},\"line\":{\"color\":\"white\"}},\"type\":\"table\"}]},\"layout\":{\"annotationdefaults\":{\"arrowcolor\":\"#2a3f5f\",\"arrowhead\":0,\"arrowwidth\":1},\"autotypenumbers\":\"strict\",\"coloraxis\":{\"colorbar\":{\"outlinewidth\":0,\"ticks\":\"\"}},\"colorscale\":{\"diverging\":[[0,\"#8e0152\"],[0.1,\"#c51b7d\"],[0.2,\"#de77ae\"],[0.3,\"#f1b6da\"],[0.4,\"#fde0ef\"],[0.5,\"#f7f7f7\"],[0.6,\"#e6f5d0\"],[0.7,\"#b8e186\"],[0.8,\"#7fbc41\"],[0.9,\"#4d9221\"],[1,\"#276419\"]],\"sequential\":[[0.0,\"#0d0887\"],[0.1111111111111111,\"#46039f\"],[0.2222222222222222,\"#7201a8\"],[0.3333333333333333,\"#9c179e\"],[0.4444444444444444,\"#bd3786\"],[0.5555555555555556,\"#d8576b\"],[0.6666666666666666,\"#ed7953\"],[0.7777777777777778,\"#fb9f3a\"],[0.8888888888888888,\"#fdca26\"],[1.0,\"#f0f921\"]],\"sequentialminus\":[[0.0,\"#0d0887\"],[0.1111111111111111,\"#46039f\"],[0.2222222222222222,\"#7201a8\"],[0.3333333333333333,\"#9c179e\"],[0.4444444444444444,\"#bd3786\"],[0.5555555555555556,\"#d8576b\"],[0.6666666666666666,\"#ed7953\"],[0.7777777777777778,\"#fb9f3a\"],[0.8888888888888888,\"#fdca26\"],[1.0,\"#f0f921\"]]},\"colorway\":[\"#636efa\",\"#EF553B\",\"#00cc96\",\"#ab63fa\",\"#FFA15A\",\"#19d3f3\",\"#FF6692\",\"#B6E880\",\"#FF97FF\",\"#FECB52\"],\"font\":{\"color\":\"#2a3f5f\"},\"geo\":{\"bgcolor\":\"white\",\"lakecolor\":\"white\",\"landcolor\":\"#E5ECF6\",\"showlakes\":true,\"showland\":true,\"subunitcolor\":\"white\"},\"hoverlabel\":{\"align\":\"left\"},\"hovermode\":\"closest\",\"mapbox\":{\"style\":\"light\"},\"paper_bgcolor\":\"white\",\"plot_bgcolor\":\"#E5ECF6\",\"polar\":{\"angularaxis\":{\"gridcolor\":\"white\",\"linecolor\":\"white\",\"ticks\":\"\"},\"bgcolor\":\"#E5ECF6\",\"radialaxis\":{\"gridcolor\":\"white\",\"linecolor\":\"white\",\"ticks\":\"\"}},\"scene\":{\"xaxis\":{\"backgroundcolor\":\"#E5ECF6\",\"gridcolor\":\"white\",\"gridwidth\":2,\"linecolor\":\"white\",\"showbackground\":true,\"ticks\":\"\",\"zerolinecolor\":\"white\"},\"yaxis\":{\"backgroundcolor\":\"#E5ECF6\",\"gridcolor\":\"white\",\"gridwidth\":2,\"linecolor\":\"white\",\"showbackground\":true,\"ticks\":\"\",\"zerolinecolor\":\"white\"},\"zaxis\":{\"backgroundcolor\":\"#E5ECF6\",\"gridcolor\":\"white\",\"gridwidth\":2,\"linecolor\":\"white\",\"showbackground\":true,\"ticks\":\"\",\"zerolinecolor\":\"white\"}},\"shapedefaults\":{\"line\":{\"color\":\"#2a3f5f\"}},\"ternary\":{\"aaxis\":{\"gridcolor\":\"white\",\"linecolor\":\"white\",\"ticks\":\"\"},\"baxis\":{\"gridcolor\":\"white\",\"linecolor\":\"white\",\"ticks\":\"\"},\"bgcolor\":\"#E5ECF6\",\"caxis\":{\"gridcolor\":\"white\",\"linecolor\":\"white\",\"ticks\":\"\"}},\"title\":{\"x\":0.05},\"xaxis\":{\"automargin\":true,\"gridcolor\":\"white\",\"linecolor\":\"white\",\"ticks\":\"\",\"title\":{\"standoff\":15},\"zerolinecolor\":\"white\",\"zerolinewidth\":2},\"yaxis\":{\"automargin\":true,\"gridcolor\":\"white\",\"linecolor\":\"white\",\"ticks\":\"\",\"title\":{\"standoff\":15},\"zerolinecolor\":\"white\",\"zerolinewidth\":2}}},\"xaxis\":{\"anchor\":\"y\",\"domain\":[0.0,1.0],\"title\":{\"text\":\"COBRO_MENSUAL\"}},\"yaxis\":{\"anchor\":\"x\",\"domain\":[0.0,1.0]},\"legend\":{\"tracegroupgap\":0},\"title\":{\"text\":\"Cobro Mensual al cliente\"},\"violinmode\":\"group\"},                        {\"responsive\": true}                    ).then(function(){\n",
              "                            \n",
              "var gd = document.getElementById('4bd5e111-610f-4e6a-8b5f-cccc9b9468ec');\n",
              "var x = new MutationObserver(function (mutations, observer) {{\n",
              "        var display = window.getComputedStyle(gd).display;\n",
              "        if (!display || display === 'none') {{\n",
              "            console.log([gd, 'removed!']);\n",
              "            Plotly.purge(gd);\n",
              "            observer.disconnect();\n",
              "        }}\n",
              "}});\n",
              "\n",
              "// Listen for the removal of the full notebook cells\n",
              "var notebookContainer = gd.closest('#notebook-container');\n",
              "if (notebookContainer) {{\n",
              "    x.observe(notebookContainer, {childList: true});\n",
              "}}\n",
              "\n",
              "// Listen for the clearing of the current output cell\n",
              "var outputEl = gd.closest('.output');\n",
              "if (outputEl) {{\n",
              "    x.observe(outputEl, {childList: true});\n",
              "}}\n",
              "\n",
              "                        })                };                            </script>        </div>\n",
              "</body>\n",
              "</html>"
            ]
          },
          "metadata": {}
        }
      ]
    },
    {
      "cell_type": "markdown",
      "source": [
        "### - COBRO TOTAL "
      ],
      "metadata": {
        "id": "wir1azpWHT7i"
      }
    },
    {
      "cell_type": "code",
      "source": [
        "fig = px.violin(DF, x= \"COBRO_TOTAL\", box = True, points = \"all\", \n",
        "                title = \"COBRO TOTAL REALIZADO AL CLIENTE\")\n",
        "\n",
        "fig.update_traces(fillcolor = \"#87CEFA\",   # Color de fondo\n",
        "                  line_color = 'bLACK',   # Color de borde\n",
        "                  marker_line_outliercolor = 'RED', # Color de borde de los atípicos\n",
        "                  box_fillcolor = 'red', # Color del box plot\n",
        "                  opacity = 0.5)         # Opacidad\n",
        "\n",
        "fig.show()"
      ],
      "metadata": {
        "colab": {
          "base_uri": "https://localhost:8080/",
          "height": 542
        },
        "id": "76H6SfN_HTgy",
        "outputId": "e1a1e3b7-0614-4196-cf0c-97e23cdb7e1a"
      },
      "execution_count": 115,
      "outputs": [
        {
          "output_type": "display_data",
          "data": {
            "text/html": [
              "<html>\n",
              "<head><meta charset=\"utf-8\" /></head>\n",
              "<body>\n",
              "    <div>            <script src=\"https://cdnjs.cloudflare.com/ajax/libs/mathjax/2.7.5/MathJax.js?config=TeX-AMS-MML_SVG\"></script><script type=\"text/javascript\">if (window.MathJax) {MathJax.Hub.Config({SVG: {font: \"STIX-Web\"}});}</script>                <script type=\"text/javascript\">window.PlotlyConfig = {MathJaxConfig: 'local'};</script>\n",
              "        <script src=\"https://cdn.plot.ly/plotly-2.8.3.min.js\"></script>                <div id=\"c6a75c2e-35cd-4a80-a2e1-41d594bdf168\" class=\"plotly-graph-div\" style=\"height:525px; width:100%;\"></div>            <script type=\"text/javascript\">                                    window.PLOTLYENV=window.PLOTLYENV || {};                                    if (document.getElementById(\"c6a75c2e-35cd-4a80-a2e1-41d594bdf168\")) {                    Plotly.newPlot(                        \"c6a75c2e-35cd-4a80-a2e1-41d594bdf168\",                        [{\"alignmentgroup\":\"True\",\"box\":{\"visible\":true,\"fillcolor\":\"red\"},\"hovertemplate\":\"COBRO_TOTAL=%{x}<extra></extra>\",\"legendgroup\":\"\",\"marker\":{\"color\":\"#636efa\",\"line\":{\"outliercolor\":\"RED\"}},\"name\":\"\",\"offsetgroup\":\"\",\"orientation\":\"h\",\"points\":\"all\",\"scalegroup\":\"True\",\"showlegend\":false,\"x\":[29.85,1889.5,108.15,1840.75,151.65,820.5,1949.4,301.9,3046.05,3487.95,587.45,326.8,5681.1,5036.3,2686.05,7895.15,1022.95,7382.25,528.35,1862.9,39.65,202.25,20.15,3505.1,2970.3,1530.6,4749.15,30.2,6369.45,1093.1,6766.95,181.65,1874.45,20.2,45.25,7251.7,316.9,3548.3,3549.25,1105.4,475.7,4872.35,418.25,4861.45,981.45,3906.7,97.0,144.15,4217.8,4254.1,3838.75,1426.4,1752.65,633.3,4456.35,1752.55,6311.2,7076.35,894.3,7853.7,4707.1,5450.7,2962.0,957.1,857.25,244.1,3650.35,2497.2,930.9,887.35,49.05,1090.65,7099.0,1424.6,177.4,6139.5,2688.85,482.25,2111.3,1216.6,79.35,565.35,496.9,4327.5,973.35,918.75,2215.45,1057.0,927.1,1009.25,2570.2,74.7,5714.25,7107.0,7459.05,927.35,4748.7,113.85,1107.2,2514.5,20.2,19.45,3605.6,3027.25,7611.85,100.2,7303.05,927.65,3921.3,1363.25,5238.9,3042.25,3954.1,2868.15,3423.5,248.4,1126.35,1064.65,835.15,2151.6,5515.45,112.75,229.55,350.35,62.9,3027.65,2135.5,1723.95,19.75,3985.35,1215.65,1502.65,3260.1,35.45,81.25,1188.2,1778.5,1277.75,1170.55,70.45,6425.65,563.65,5971.25,5289.05,1756.2,6416.7,61.35,45.65,1929.95,1071.4,564.35,655.5,7930.55,5215.25,113.5,1152.8,1821.95,419.9,1024.0,251.6,764.55,1592.35,135.2,3958.25,233.9,1363.45,273.0,6254.45,2651.2,321.4,3539.25,242.8,1181.75,5000.2,654.55,780.2,1145.7,503.6,1559.25,1252.0,29.95,45.3,662.65,2453.3,1111.65,24.8,1023.85,82.15,244.8,2379.1,3173.35,531.0,1375.4,8129.3,1192.7,1901.65,587.4,6519.75,8041.65,20.75,2681.15,1112.3,7405.5,1033.95,2958.95,2684.85,4179.2,79.9,1934.45,6654.1,84.5,25.25,1124.2,540.05,1975.85,3437.45,3139.8,3789.2,5324.5,624.6,268.35,1836.9,20.2,179.35,219.35,1288.75,2545.75,55.2,2723.15,4107.25,5760.65,4747.5,84.6,1566.9,702.0,114.1,299.05,1305.95,1120.3,284.35,6350.5,7878.3,3187.65,6126.15,731.3,273.4,2531.8,1074.3,48.55,4298.45,4619.55,147.15,40.2,2633.3,193.05,4103.9,7008.15,5791.1,80.55,1228.65,132.2,1364.3,4925.35,1520.1,5032.25,5526.75,1195.25,2007.25,1099.6,1732.95,1511.2,3450.15,24.8,2172.05,70.6,401.1,5624.85,1339.8,771.95,244.75,322.9,498.25,25.4,3687.75,1779.95,1783.6,927.15,70.0,606.55,435.4,1712.7,2021.2,1940.8,567.8,220.35,20.25,5436.45,3437.5,3015.75,73.6,1509.8,396.1,356.65,4109.0,3141.7,1229.1,2303.35,2054.4,3741.85,3682.45,19.25,1886.25,4895.1,341.6,415.55,5686.4,1355.1,3058.65,2231.05,3236.35,4350.1,4264.0,44.8,422.3,4176.7,5138.1,880.05,139.05,973.65,1470.05,739.35,161.95,4422.95,511.25,155.8,5293.95,4759.85,6148.45,3565.65,6603.0,1830.1,6223.8,4508.65,1328.15,865.0,72.1,168.2,1303.5,996.85,6430.9,2278.75,681.4,574.35,371.9,840.1,846.0,889.0,6823.4,805.1,4016.75,83.75,3959.15,2878.55,945.7,1373.05,492.55,1406.0,19.15,6962.85,8126.65,690.25,181.5,830.8,5608.4,3646.8,3662.25,25.35,2566.5,5308.7,1410.25,3339.05,50.65,4732.35,90.85,5067.45,214.75,4874.7,2348.45,4063.0,44.0,2595.25,2309.55,89.3,367.55,3944.5,5965.95,3694.7,2524.45,1803.7,415.1,624.15,237.7,7007.6,3848.8,419.4,1468.75,5812.0,2861.45,19.9,19.6,233.7,1066.15,2149.05,4473.0,3545.05,1195.75,6858.9,1024.7,1845.9,75.3,132.25,515.45,2830.45,1110.5,449.3,2838.55,5376.4,858.6,1395.05,3975.7,1182.55,4784.45,119.5,518.9,899.45,1183.8,720.05,8468.2,3161.2,55.05,1882.55,5070.4,6049.5,1166.7,2937.65,6396.45,69.55,1270.25,759.55,7611.55,1642.75,1545.4,3582.4,2227.1,1417.9,2494.65,2768.35,2369.3,38.0,75.1,100.9,1614.05,385.9,673.25,8404.9,2799.75,6538.45,6588.95,868.1,734.35,330.6,55.0,564.4,1315.35,74.7,1861.5,2747.2,554.05,453.4,994.8,225.75,2145.0,1671.6,8003.8,680.05,6130.85,1415.0,6201.95,0.0,74.35,6597.25,114.15,139.4,3902.6,20.4,903.6,1785.65,1397.65,131.05,1238.45,3899.05,5676.0,4543.15,4326.8,5502.55,1782.4,851.8,167.5,502.85,19.85,1818.3,6300.15,334.8,5916.95,2852.4,4131.95,1546.3,302.6,1929.35,265.45,6989.45,1442.0,4713.4,1758.6,3480.0,4738.3,8399.15,5430.35,686.95,5706.3,490.65,1360.25,174.45,7379.8,85.0,1021.75,5029.05,1955.4,6744.2,4946.7,8248.5,601.6,19.55,834.1,597.0,2647.2,3266.0,6744.25,5265.5,311.6,7966.9,8220.4,1153.25,514.75,2596.15,3808.0,19.9,2708.2,760.05,49.3,6033.3,89.05,516.15,5861.75,445.95,4973.4,1667.25,5357.75,3527.6,422.6,1103.25,2754.0,697.25,5614.45,3204.4,4747.65,3082.1,597.9,3365.4,38.8,233.55,75.3,346.2,19.0,61.7,85.7,3342.45,85.1,7422.1,6668.05,8071.05,1174.8,5435.0,2438.6,45.6,713.75,916.15,237.2,4614.55,1414.45,1170.5,47.7,4859.25,4903.2,3608.0,6094.25,3084.9,2356.75,8306.05,6786.4,248.95,663.05,1357.1,4860.35,3418.2,631.4,186.3,6976.75,4884.85,522.95,362.6,5755.8,3355.65,406.95,137.6,2395.7,1968.1,6819.45,7943.45,4547.25,4687.9,2473.95,6562.9,176.3,2236.2,6985.65,3109.9,4911.35,5794.65,855.3,1620.2,2499.3,89.55,4287.2,394.85,1899.65,45.7,3442.15,161.5,1732.6,222.3,74.6,655.3,475.25,164.3,865.1,6132.7,3597.5,35.9,697.65,96.05,428.7,20.05,4459.15,1167.6,238.1,145.15,1453.1,191.05,4039.3,1039.45,1336.1,75.05,493.4,2550.9,7246.15,1203.95,62.25,313.6,3775.85,80.0,4616.05,195.65,4188.4,71.1,49.9,1266.4,91.1,1623.4,4149.45,20.45,2344.5,1013.05,270.7,417.0,20.65,6316.2,168.15,4018.05,4811.6,4189.7,2848.45,2516.2,33.6,208.45,2015.35,3739.8,2964.0,2263.4,2211.8,19.55,1683.7,1519.0,1164.05,1710.9,4245.55,4145.9,2664.3,1277.5,5589.3,34.75,1305.95,381.3,141.5,3105.55,204.55,605.9,356.1,2758.15,4805.65,3941.7,92.75,1901.05,5730.7,2423.4,1653.45,3327.05,7085.5,3344.1,6697.35,2879.9,137.1,1008.55,1551.6,202.15,7882.25,8196.4,202.9,855.1,5817.0,1652.95,5600.15,515.75,0.0,190.5,1842.8,1253.8,57.2,1269.55,6563.4,20.8,1907.85,208.85,4758.8,1292.6,363.15,1600.25,275.7,3089.1,1175.6,237.3,1444.65,19.9,454.15,3036.75,8065.65,92.5,184.65,6152.3,89.5,5154.5,220.45,1510.3,52.2,2588.95,4874.8,3983.6,2003.6,1832.4,4908.25,3590.2,5023.0,146.6,2339.3,298.7,143.65,2548.65,507.4,20.0,6125.4,5411.4,1058.25,903.8,3009.5,489.45,5468.45,1058.1,7616.0,4113.1,69.55,6017.65,7250.15,1108.2,938.65,94.15,2088.05,178.7,5656.75,2317.1,5986.45,6751.35,3566.6,4889.3,318.1,1563.95,1430.25,644.35,372.45,5453.4,1442.6,5610.7,963.95,5222.3,3340.55,292.8,5774.55,4487.3,44.4,2854.95,905.55,5509.3,7589.8,229.6,394.1,89.9,295.95,5459.2,444.75,6782.15,6510.45,8476.5,4461.85,62.0,352.65,1424.9,6413.65,6309.65,50.8,5898.6,4719.75,457.3,5822.3,1463.5,307.4,2104.55,319.15,2337.45,104.3,5084.65,121.25,7015.9,5598.0,1269.1,3027.4,4634.35,113.95,1582.75,3077.0,4039.5,1665.2,1043.3,504.2,497.55,7511.65,1782.0,20.05,609.65,2857.6,3247.55,6215.35,2823.0,5017.9,2619.25,24.6,4965.1,2679.7,8310.55,5682.25,1120.95,4914.9,27.55,923.5,1625.65,6068.65,5398.6,918.6,234.85,1231.85,170.9,7984.15,688.65,1288.3,7848.5,267.0,1798.9,73.55,1643.55,4807.45,2193.0,2239.4,1505.9,255.35,1189.4,4786.15,1820.9,2404.15,205.05,952.3,7039.45,2538.05,1212.85,2651.1,1304.8,360.1,435.45,308.05,0.0,434.5,7118.9,320.45,531.55,382.2,2001.0,4919.7,5645.8,215.8,77.6,2896.55,3395.8,759.35,85.15,535.55,1253.15,955.15,2162.6,44.7,1813.35,245.15,2028.8,2723.75,220.45,365.8,551.95,4054.2,45.7,832.35,112.3,60.65,5550.1,174.8,90.55,4733.1,4048.95,1359.7,4542.35,7532.15,69.9,888.65,6383.35,1916.0,413.0,808.95,1886.4,86.6,1679.25,2656.5,540.95,19.75,537.35,678.8,4513.65,1423.85,555.4,225.55,268.45,2917.5,2416.1,424.45,1492.1,132.4,660.9,1893.95,284.9,784.25,417.7,5016.25,1612.75,119.75,3204.65,485.2,160.85,4145.25,827.45,49.5,990.85,696.35,5585.4,1601.2,162.45,470.2,2066.0,1426.45,392.5,3861.45,2552.9,6668.35,819.4,4615.25,2070.6,273.75,3557.7,1957.1,729.95,1416.75,5924.4,1697.7,7849.85,649.4,4557.5,3013.05,1266.1,360.35,1046.5,2347.9,447.75,4209.95,3877.65,152.3,572.2,19.65,526.95,552.7,3208.65,210.75,3706.95,620.75,412.5,832.05,185.55,1943.2,505.9,8046.85,1815.3,612.95,795.15,2169.8,973.1,2210.2,4853.75,1055.9,144.55,91.1,1304.85,713.0,21.1,5580.8,1497.9,4527.45,4590.35,200.2,614.45,4564.9,0.0,171.15,1012.4,940.35,1047.7,2766.4,1622.45,1129.35,5680.9,2243.9,4523.25,7159.7,2839.95,80.55,580.1,2178.6,6038.55,259.4,324.15,417.65,168.15,5637.85,839.4,769.1,6253.0,1641.8,1678.05,2058.5,2424.5,387.2,6293.45,2839.65,3145.9,2200.7,914.4,4577.75,4997.5,4144.8,1493.55,4179.1,893.55,1611.0,593.05,4284.8,544.55,1533.8,529.8,3865.6,515.75,941.0,1133.65,48.35,2070.05,8333.95,1209.25,1396.25,723.35,228.65,1161.75,98.35,775.3,1074.65,35.55,2324.7,1072.6,170.5,196.9,1162.85,1677.85,18.85,370.4,3410.6,1138.8,5264.25,1005.7,5936.55,5475.9,224.05,2326.05,31.35,4991.5,1052.4,5831.2,510.8,283.95,1295.4,19.65,3011.65,8093.15,5610.25,3217.65,19.85,773.2,1029.35,669.45,3593.8,1553.95,3953.15,1971.15,1236.15,3196.0,4872.2,1500.5,60.15,3478.75,7413.55,3532.0,256.75,3887.25,2490.15,593.45,3510.3,765.45,1259.35,5538.35,340.85,844.45,1348.95,3778.0,611.65,4867.95,1505.05,467.85,74.9,194.2,571.45,80.25,5253.95,1149.65,740.8,521.35,1412.65,1532.45,250.05,1090.6,1446.8,2282.55,4300.45,1111.2,190.1,4447.75,143.35,45.85,810.2,1830.05,2820.65,4847.35,4729.3,4017.45,1398.6,2564.3,1685.9,5826.65,6066.55,228.4,270.2,1529.2,168.6,536.35,1888.45,629.35,45.3,289.3,2117.25,4730.9,2033.05,987.95,45.05,5744.35,75.8,19.45,523.15,4805.3,59.05,6110.75,1596.6,1046.2,4424.2,92.75,194.55,612.1,6127.6,6671.7,5264.3,303.7,4818.8,6448.05,7159.05,1574.5,2879.2,86.05,4159.45,6638.35,3112.05,7168.25,1326.25,2234.55,495.15,8317.95,679.8,62.8,7544.0,1188.25,676.7,74.1,3242.5,1240.15,4111.35,5899.85,632.95,5193.2,7530.8,270.95,5460.2,1614.2,402.5,1367.75,483.7,7962.2,3810.8,3533.6,1396.9,1345.55,1646.45,8127.6,2680.15,1281.0,1553.9,3207.55,2049.05,3629.2,5124.55,3474.45,202.3,147.5,86.35,579.0,19.45,3131.55,3928.3,187.75,1710.15,76.35,69.25,2151.6,5961.1,1221.55,1496.45,1292.2,25.15,1713.1,1748.9,25.2,96.45,1114.55,609.1,20.15,7133.25,0.0,169.45,141.6,4688.65,563.05,5985.0,1258.6,373.5,857.2,2553.35,4322.85,250.8,4549.05,1359.5,1639.3,178.85,633.85,5315.1,735.5,889.9,1290.0,330.05,237.95,6474.4,4421.95,2452.7,813.85,4904.85,4484.05,2033.85,538.2,79.2,2192.9,19.85,3858.05,854.8,347.4,5815.15,3970.4,3058.15,6145.2,129.2,1165.9,49.95,1554.0,4904.25,5632.55,1643.25,740.55,3217.55,4888.2,2440.25,620.55,20.35,6840.95,3001.2,6254.2,319.6,1938.05,294.5,58.3,442.85,553.0,546.45,797.1,76.0,1673.8,343.45,7412.25,4039.0,170.85,2948.6,1308.4,6078.75,3418.2,6603.8,3166.9,865.75,6373.1,1177.05,5985.75,732.5,7869.05,1504.05,936.7,741.4,6585.2,3122.4,50.45,1088.25,615.35,2908.2,739.9,593.85,1132.75,7227.45,193.6,1291.35,2023.55,349.65,153.95,5458.8,5244.45,154.55,4507.15,2031.95,50.05,332.45,473.9,106.8,152.6,1199.4,2555.05,2979.2,654.85,3834.4,1534.75,4586.15,20.55,5941.05,424.15,2234.95,666.75,281.0,547.8,74.6,571.15,1756.6,5731.45,3475.55,156.85,2683.2,896.75,2407.3,4456.65,6998.95,36.8,6547.7,4346.4,2265.0,1309.15,4754.3,1235.55,3562.5,7213.75,2082.95,102.75,5914.4,51.25,1282.85,4738.85,19.55,1775.8,795.65,145.0,4993.4,61.45,4018.55,1146.65,6081.4,1478.85,243.65,2633.95,4735.35,1247.75,74.7,3794.5,1008.7,2130.55,1313.55,5727.15,1372.9,1203.9,25.8,1215.1,2877.05,1579.7,5514.95,96.1,72.4,55.25,2443.3,1970.5,335.4,7002.95,158.95,293.15,1493.75,1093.4,1057.85,190.05,882.55,300.4,1025.95,1436.95,475.0,5388.15,5730.15,819.55,217.1,4896.35,1434.1,937.1,330.15,1474.9,6536.5,1128.1,6873.75,2199.05,45.85,457.1,566.5,2471.6,3107.3,518.3,5769.75,91.7,832.3,1555.65,45.3,1790.6,74.95,246.6,261.65,898.35,4509.5,5480.25,653.15,1183.05,639.45,478.75,20.05,127.1,4391.45,270.6,6710.5,3975.9,1704.95,415.95,950.2,1497.05,780.15,3512.15,273.25,3517.9,3375.9,7508.55,1245.05,5347.95,493.65,1263.85,385.55,3384.0,84.2,1638.7,165.4,120.25,4473.45,520.55,5717.85,88.8,4312.5,2755.35,994.55,6511.25,1218.65,7447.7,1169.35,279.5,5720.35,3121.45,6468.6,5918.8,675.6,3521.7,923.1,1110.35,1611.65,2293.6,5553.25,44.75,3029.1,3231.05,5129.45,5508.35,655.9,1191.2,866.4,2627.2,4741.45,4009.2,1463.45,5082.8,43.8,3707.6,220.45,1133.7,1983.15,5746.75,770.6,134.05,6230.1,573.05,3419.3,3587.25,3541.35,3801.3,868.5,4859.1,1439.35,85.8,79.1,592.75,1185.95,18.8,134.5,4921.2,901.25,5341.8,4859.95,1139.2,7082.45,324.6,4812.75,4399.5,663.55,174.65,321.7,5125.5,548.9,50.15,7031.3,5016.65,4594.95,611.45,2384.15,319.85,153.3,7035.6,344.2,1431.65,1849.2,6083.1,426.65,1655.35,1943.9,1616.15,314.95,804.85,465.7,6669.05,1161.75,947.75,8375.05,34.7,3770.0,264.8,4707.85,6152.4,958.1,943.0,6615.15,2200.25,425.1,99.75,5044.8,6743.55,196.4,299.7,2093.9,417.75,1725.4,1620.2,3169.55,5233.25,967.85,438.05,1421.9,323.15,318.6,163.7,639.65,2928.5,100.35,273.2,1608.15,1441.95,2168.15,3618.7,5692.65,59.85,69.6,5969.3,19.05,418.8,8100.55,19.5,313.45,6130.95,69.9,745.3,1212.1,183.75,1583.5,4162.05,1119.9,8013.55,264.85,1102.4,5832.0,4304.5,1178.4,1421.75,6827.5,4698.05,654.5,3268.05,4362.05,1386.9,415.4,2614.1,1513.6,3161.6,80.95,4676.7,6526.65,583.3,8078.1,3503.5,6669.45,4689.5,1201.15,143.65,1292.65,48.75,7108.2,1802.55,1505.15,1859.1,168.5,390.85,6339.45,1652.4,71.65,77.5,6392.85,3264.5,4599.15,1134.25,1621.35,947.3,2722.2,3058.3,1769.6,6293.75,1761.05,1642.75,578.5,954.9,973.25,43.85,1490.4,280.0,1901.25,716.4,4720.0,930.95,76.35,1676.95,2642.05,6770.85,1835.3,1588.25,75.5,258.35,1502.25,19.2,6929.4,4453.3,3244.4,323.45,2661.1,2697.4,1424.5,1401.15,1739.6,5931.0,2333.85,949.85,572.45,696.8,1381.8,2572.95,47.95,45.1,45.0,2122.45,20.05,4931.8,116.95,6937.95,1261.7,3273.8,1415.85,3958.2,2492.25,279.2,1083.0,755.5,402.6,3252.0,68.75,46.2,45.15,43.3,936.85,2250.65,3857.1,1441.1,4338.6,1378.45,45.95,2566.3,171.0,1597.4,4744.35,6721.6,247.25,44.05,1734.65,45.55,4539.35,804.25,5011.15,3574.5,8086.4,4563.0,6362.35,67.1,70.05,165.45,1156.55,1834.15,3653.35,1477.65,1706.45,3953.7,1194.3,1327.85,419.7,21.0,45.1,207.35,1083.7,2007.85,5882.75,2657.55,1527.5,378.4,1612.2,76.65,260.7,6441.85,266.8,5124.6,962.25,1382.9,571.05,1399.35,150.0,167.2,7657.4,865.05,6153.85,174.2,1269.6,3862.55,6352.4,1348.5,50.9,471.55,5931.75,1404.65,726.1,1961.6,4194.85,4872.45,5118.95,658.95,81.05,76.95,5809.75,20.2,415.9,246.5,996.95,3145.15,265.3,20.9,21.05,4576.3,189.1,908.15,49.8,215.2,1500.95,5099.15,6385.95,159.45,6885.75,5940.85,668.85,1916.2,75.35,75.45,4613.95,7261.25,2459.8,2048.8,163.55,2888.7,2421.6,2292.75,553.4,3465.7,1210.4,1291.3,5356.45,5200.8,3237.05,576.65,433.75,1868.4,5728.55,825.7,390.4,93.55,2845.15,3894.4,886.4,1021.55,5885.4,268.4,2204.35,1259.0,309.1,6398.05,2257.75,6287.25,1662.05,1350.15,3600.65,1329.15,45.7,422.5,69.95,4627.65,6717.9,97.1,1710.45,637.4,117.95,2460.55,5464.65,2165.05,4941.8,223.15,181.1,341.45,5731.85,357.75,4616.1,4533.7,589.25,750.1,1410.25,830.85,743.5,45.3,7040.85,3865.45,6825.65,1340.1,371.65,1184.0,8477.7,7382.85,456.85,331.6,6056.15,134.6,125.5,1390.6,20.2,2511.3,2737.05,74.3,70.6,2361.8,1730.35,6404.0,165.35,1867.6,1043.3,128.6,7455.45,24.7,206.15,2030.3,5869.4,3377.8,1346.2,4946.05,4065.0,106.55,4964.7,4085.75,1742.75,6224.8,3415.25,6325.25,340.25,1683.6,3966.3,608.5,2896.6,1514.85,6792.45,4669.2,95.6,2934.3,6302.8,779.2,283.75,4600.7,5594.0,772.85,71.35,857.8,7554.05,5981.65,1702.9,467.15,20.15,69.75,2931.0,1400.85,137.85,1941.5,1932.75,1423.05,970.85,5810.9,223.9,391.7,79.95,19.3,811.65,174.75,3126.85,6841.45,3754.6,1406.65,834.7,627.4,242.0,3157.0,3092.0,2168.9,980.35,65.95,711.9,1952.8,4368.85,2647.1,8477.6,54.35,4528.0,1790.65,845.6,1210.3,20.45,854.45,2429.1,100.4,5229.45,44.45,1716.45,3023.55,75.3,4837.6,2032.3,436.9,70.55,20.15,5893.95,1430.05,313.0,3871.85,458.1,2745.7,341.35,1336.8,2181.75,147.75,818.45,7133.45,348.8,128.6,4674.4,1737.45,1498.85,50.1,1797.75,498.1,2624.25,184.1,5498.8,4845.4,369.1,6096.9,160.75,2684.35,3004.15,6994.8,273.25,5483.9,1233.65,527.9,4985.9,1258.35,111.4,43.95,308.1,383.65,2555.9,1284.2,7550.3,1110.05,99.6,6707.15,4164.4,5873.75,109.25,179.25,1338.15,862.4,8564.75,926.2,1718.2,5956.85,91.3,4824.45,1238.65,79.5,672.2,382.2,4264.6,1070.7,1345.85,1045.25,3003.55,467.55,7537.5,7482.1,3343.15,5427.05,587.1,100.8,161.15,7028.5,5232.9,225.85,274.7,1180.95,3370.2,7111.3,5958.85,5999.85,1648.45,5753.25,4492.9,3956.7,2625.55,1233.4,1309.0,813.45,1108.8,7349.35,294.2,929.2,740.0,754.5,3883.3,1414.2,3211.2,371.6,1246.4,95.85,2545.7,6448.85,1468.9,1013.6,6690.75,2088.75,7240.65,102.45,830.25,1588.7,829.3,302.45,712.25,1336.65,5360.75,6735.05,51.2,1010.0,4847.05,3019.7,161.65,217.55,2583.75,146.05,567.45,7711.25,1384.75,5481.25,8124.2,827.3,70.9,220.95,3673.6,49.85,576.65,2331.3,74.5,4495.65,6941.2,340.35,1789.9,908.55,1043.35,6822.15,71.55,157.55,5029.2,581.7,7318.2,420.45,7576.7,633.4,321.65,4965.0,6151.9,1253.9,25.15,45.2,5893.15,5420.65,2627.35,5037.55,743.75,6589.6,92.45,6733.15,3410.0,199.85,593.3,7288.4,5229.8,4464.8,5068.05,401.85,4451.85,6688.95,2661.1,73.05,1211.65,7030.65,1020.2,5597.65,6223.3,1024.65,2933.2,1258.3,82.9,7789.6,2067.0,3452.55,5468.95,1802.15,733.55,3021.45,3687.85,1391.15,274.35,1214.05,5510.65,1322.85,1973.75,2196.3,7843.55,3211.9,130.15,692.35,85.5,6849.4,203.95,2117.2,6565.85,424.75,3306.85,168.9,253.8,197.4,3838.2,2065.15,5064.45,1140.05,2447.45,1263.9,45.95,1838.15,44.75,1185.0,1743.9,70.15,85.55,8529.5,6549.45,7806.5,25.7,6287.3,3251.85,50.6,7904.25,729.95,2654.05,2416.55,3520.75,5969.95,226.8,1082.75,565.75,4370.75,90.05,2169.4,550.6,55.45,6300.85,160.05,436.6,1781.35,3467.0,5552.5,2835.5,3591.25,88.35,63.75,617.15,870.25,601.25,111.65,6046.1,3923.8,777.3,512.45,141.45,892.15,1682.05,3398.9,4984.85,1445.3,305.55,507.9,3640.45,2673.45,389.8,2401.05,651.55,156.1,2796.35,70.05,407.05,6465.0,511.25,646.05,35.9,3777.15,4903.15,1653.85,47.5,1306.3,463.6,60.65,824.85,2094.65,438.9,847.3,329.75,674.55,162.55,546.95,7887.25,3186.65,1972.35,1527.35,490.55,1531.4,683.25,8058.85,2847.4,1133.9,294.45,1719.15,461.7,1160.45,5199.8,5163.3,162.3,883.35,1341.5,70.45,659.45,77.15,35.25,1205.05,4917.9,201.0,599.3,1733.15,5149.5,4677.1,119.3,4849.1,5424.25,5878.9,244.85,220.75,4261.2,5574.75,1501.75,89.75,4541.2,255.5,1072.0,2509.25,1440.75,1715.65,5333.35,3895.35,869.9,706.85,512.25,2636.05,814.75,388.6,93.45,1389.85,2894.55,4025.6,1354.4,1856.4,926.0,189.2,682.1,1778.7,1816.2,7069.25,1841.2,74.25,2656.7,1689.45,1054.75,2187.55,7334.05,1581.2,69.5,2404.85,171.45,2839.45,3132.75,3942.45,873.4,1529.65,6991.6,19.4,803.3,679.3,2791.5,715.0,1681.6,4016.2,3281.65,7317.1,6474.45,676.35,8164.1,1325.85,1654.85,7795.95,3952.45,2495.15,1230.25,876.75,4263.45,1992.95,1982.1,562.7,33.7,1090.1,227.45,1250.85,37.2,892.7,487.75,3713.95,141.7,678.2,8425.3,4154.8,7061.65,3364.55,2655.25,1425.45,332.5,5963.95,5742.9,278.85,1871.85,2866.45,4303.65,1753.0,54.75,3759.05,617.65,5935.1,94.6,2911.3,982.95,2974.5,198.7,1275.65,4003.0,3791.6,813.3,780.25,552.9,408.25,231.8,2191.15,5611.7,246.25,1296.15,7082.85,5662.25,1215.45,7854.15,525.0,5265.2,70.1,7129.45,7266.95,8496.7,2878.75,261.3,3205.6,69.75,279.25,6281.45,1131.3,738.2,1137.05,80.2,6341.45,6697.2,260.8,19.6,505.45,3655.45,1299.8,5564.85,1381.8,188.1,1077.05,4922.4,2911.5,826.1,83.4,140.7,5377.8,665.45,3617.1,6643.5,84.8,1559.3,7987.6,1547.35,5426.85,1127.35,2142.8,287.85,4045.65,2757.85,600.0,19.8,4534.45,40.9,2094.9,1584.8,1302.65,2238.5,55.55,5437.75,90.75,365.65,2209.15,1912.15,255.55,5175.3,670.65,3177.25,90.35,6557.75,5791.85,3055.5,5196.1,8405.0,19.75,1789.25,5000.05,6713.2,562.6,2317.1,91.45,828.85,617.35,266.9,625.05,301.4,6029.9,1842.7,206.6,604.7,7386.05,7334.05,1471.75,2626.15,412.1,8277.05,583.45,369.25,1049.05,1414.8,169.75,4354.45,2719.2,6365.35,51.6,3190.25,812.5,1143.8,44.0,50.1,3297.0,1887.0,151.8,293.65,1308.1,2215.4,482.8,2598.95,216.45,20.45,5064.85,996.45,839.65,6733.0,2618.3,4084.35,765.5,793.55,613.95,402.85,1244.8,46.4,581.85,462.8,1540.2,169.8,5168.1,6780.1,94.5,55.3,208.0,3829.75,5294.6,6889.8,3254.35,6383.9,44.4,477.7,4447.55,7321.05,4135.0,86.05,697.7,168.65,174.3,2753.8,69.25,434.8,1077.5,95.65,107.25,851.2,20.95,5848.6,109.8,19.65,595.5,329.8,2513.5,5135.35,2000.2,931.75,7396.15,3958.85,260.9,297.3,1515.1,816.8,4868.4,688.0,288.35,3229.65,1178.25,185.4,966.25,758.6,1863.8,265.8,3297.0,4107.3,396.3,2809.05,1567.55,1851.45,6028.95,2072.75,5551.15,4317.35,736.8,336.15,1522.65,622.9,4959.6,329.95,1048.85,1001.5,442.6,6703.5,3351.55,779.25,259.8,3483.45,4890.5,136.75,184.15,1315.0,6767.1,757.95,6890.0,1657.4,3008.55,262.05,8165.1,875.55,2649.15,220.65,1301.9,74.4,3326.2,790.0,1237.65,378.6,592.65,50.15,20.45,560.85,3638.25,1060.2,2921.75,4017.45,854.9,4174.35,4920.55,20.5,810.3,772.4,1936.85,79.8,202.25,1070.5,347.65,999.9,113.1,2015.8,1454.25,246.7,6017.9,5817.45,5595.3,4765.0,1201.65,867.3,50.15,3007.25,252.75,6306.5,6841.05,81.95,451.1,44.6,226.2,7082.5,1017.35,527.35,2146.5,455.3,5969.85,1235.55,1014.25,2362.1,1225.65,1873.7,386.5,6010.05,1850.65,7101.5,1043.4,1910.75,716.1,1686.15,6716.45,7839.85,6236.75,45.05,71.0,2919.85,3309.25,79.7,20.45,1254.7,2896.4,717.5,253.8,1110.05,348.8,3888.65,69.25,6843.15,450.9,432.25,1767.35,1742.45,297.35,1820.45,1742.95,2444.25,949.8,73.5,2970.8,3334.95,2010.95,4684.3,2181.55,1303.25,371.4,2409.9,6155.4,829.1,2602.9,4667.0,824.75,5153.5,8182.85,69.9,6683.4,1564.05,755.6,3465.05,6292.7,1664.3,198.1,6045.9,4108.15,5980.75,5043.2,1029.75,2854.55,7114.25,907.05,973.95,605.75,661.55,4116.9,4494.65,4259.3,3282.75,55.7,1274.45,493.95,2239.65,480.75,635.6,5038.15,324.2,19.55,2793.55,2095.0,648.65,95.05,917.15,1346.9,4242.35,672.7,6561.25,268.45,7337.55,331.9,5194.05,4478.85,6283.3,2659.4,196.9,439.2,19.5,2107.15,3035.8,1866.45,1430.95,1071.6,6457.15,684.05,3914.05,3842.6,670.35,7880.25,19.2,298.45,3371.75,442.45,20.4,2345.55,25.25,1156.35,6143.15,144.8,414.95,1059.55,181.8,2212.55,2180.55,89.15,459.95,1036.75,2276.95,211.95,25.0,3162.65,210.65,3566.7,2080.1,4040.2,5186.0,196.15,1087.45,1672.15,1206.05,1113.95,107.05,38.15,6339.3,184.1,1688.9,1378.25,137.6,219.0,1067.15,79.55,3444.85,369.05,7553.6,84.5,1813.1,3321.35,707.5,7112.15,4641.1,7690.9,49.9,1380.1,78.65,45.4,3094.65,6518.35,2585.95,82.7,58.85,425.9,6342.7,2030.75,6700.05,7244.7,3678.3,3486.65,411.15,937.5,1559.15,970.4,2483.5,828.2,3810.55,1493.2,45.8,777.3,556.35,4911.05,187.35,307.6,4318.35,4820.55,3038.55,2136.9,7472.15,389.1,2296.25,187.45,261.25,38.45,299.2,3043.6,1506.4,163.7,323.25,1640.0,762.1,3846.35,5646.6,53.5,79.05,25.1,1516.6,2224.5,888.75,4310.35,42.9,2365.15,353.65,5073.1,4526.85,308.25,19.45,678.45,1237.3,1023.95,8182.75,4532.3,1444.05,19.1,7372.65,7325.1,3474.2,392.65,1058.6,3990.75,7475.85,835.5,2628.6,1718.35,1023.9,1193.55,1205.5,5776.45,78.9,1025.15,856.35,122.0,6602.9,1712.9,5682.25,74.3,3635.15,702.9,3734.25,1144.5,4454.25,45.3,75.6,1117.55,180.25,19.8,930.05,110.15,333.6,465.05,1669.4,3545.1,504.05,440.2,1151.55,2475.35,1249.25,317.75,535.05,461.3,431.0,878.35,335.75,3121.4,324.8,1394.55,3413.25,3143.65,439.75,664.4,4759.55,1033.0,3482.85,2688.45,435.25,2448.75,307.0,2689.35,1329.2,1281.25,3527.0,4348.65,561.15,63.6,5129.3,4285.8,93.7,5894.5,25.05,1160.75,3091.75,365.55,272.95,3632.0,381.2,1035.5,52.0,2342.2,653.9,71.2,1498.2,4178.65,1821.8,5278.15,4024.2,55.25,6520.8,854.9,8308.9,109.2,92.05,3420.5,93.85,4068.0,337.9,3168.75,1412.4,3974.7,3439.0,50.45,42.45,5461.45,571.75,5498.2,96.85,111.05,94.4,521.1,923.85,141.1,628.65,5576.3,1046.1,1245.6,1287.85,1939.35,118.25,452.55,2696.55,875.35,1267.05,494.9,799.0,5763.3,20.1,106.9,710.05,568.2,1900.25,159.15,8012.75,856.65,551.3,184.95,4056.75,1096.65,3684.95,1752.45,7210.85,5264.5,2157.3,24.4,433.95,2435.15,5607.75,2874.15,4433.3,964.35,1974.8,1460.85,951.55,1821.2,1600.95,399.25,1218.55,81.7,2171.15,3634.8,292.4,317.25,218.55,5071.9,1423.35,3068.6,4690.65,6157.6,1442.65,3369.05,4671.65,3474.05,1875.55,272.35,3645.05,135.75,1319.85,229.4,370.25,69.1,5714.2,1233.25,3571.6,83.3,8035.95,579.4,69.6,3066.45,305.55,7634.25,3653.0,241.3,3870.3,387.9,527.5,78.45,2104.55,20.3,19.2,3019.1,7051.95,1190.5,4448.8,255.25,146.9,1011.05,1714.95,762.5,535.35,75.55,338.9,2497.35,6273.4,70.25,908.75,4913.3,0.0,46.3,212.3,4443.45,316.2,1079.05,564.65,1095.65,6161.9,446.05,2106.05,2511.55,318.6,811.8,7323.15,186.05,454.0,7521.95,1056.95,44.15,834.15,85.45,999.8,2369.7,6297.65,239.55,59.2,1461.45,416.4,1060.6,4869.35,54.9,3265.95,2254.2,358.15,2939.8,4652.4,4408.45,580.8,2495.2,180.3,5913.95,158.4,104.2,1389.35,19.4,1629.2,6033.1,44.4,95.1,3320.75,1867.7,438.0,325.45,1148.1,3972.25,155.9,3673.15,70.6,1126.75,73.45,2413.05,6912.7,1581.95,5586.45,5846.65,6424.7,6018.65,3373.4,1537.9,1080.55,355.2,82.85,2016.45,5327.25,683.25,1263.05,151.3,7714.65,188.7,5549.4,130.5,2621.75,1875.25,5685.8,837.5,401.5,6118.95,6480.9,1800.05,7104.2,4214.25,50.6,863.1,1992.2,69.8,1948.35,4750.95,1007.9,5036.9,2391.8,6859.05,6521.9,617.85,157.75,516.3,2364.0,1687.95,7689.95,6239.05,2042.05,2807.1,4116.8,1317.95,4594.65,6332.75,3213.75,229.55,4976.15,7308.95,4555.2,44.95,6982.5,1025.15,90.55,5714.2,19.5,2274.35,789.55,4834.0,3131.8,602.55,3369.25,2674.15,199.75,1790.8,449.75,19.7,1400.3,411.6,741.0,5841.35,4512.7,5688.45,31.9,6674.65,1345.75,1843.05,196.95,1433.8,214.55,865.85,1358.6,3147.15,131.05,4535.85,1078.75,542.4,2312.55,415.05,3250.45,98.5,87.9,754.65,75.35,1952.25,153.8,3198.6,20.9,5610.15,4519.5,2440.25,6860.6,1377.7,190.25,1651.95,78.3,7939.25,44.9,576.7,1279.0,1260.7,267.35,6586.85,934.15,123.65,7534.65,19.45,3645.6,314.45,3053.0,677.05,7965.95,906.85,4888.7,237.25,74.6,342.4,140.1,1108.0,295.55,892.65,198.25,4822.85,6741.15,79.15,1355.45,7209.0,438.4,7726.35,2070.75,1636.95,7581.5,3019.5,4729.75,6126.1,6333.4,6687.85,4158.25,3183.4,79.6,7149.35,1429.65,472.65,1734.5,113.5,1884.65,2568.15,470.0,278.4,2088.8,502.6,2595.85,5825.5,50.75,4449.75,1208.35,1956.4,310.6,290.55,2096.1,2665.0,543.8,20.35,3005.8,1623.15,2498.4,2586.0,3292.3,651.4,4674.55,232.35,2448.5,658.1,3128.8,223.45,919.4,653.95,1825.5,943.1,181.65,45.65,551.35,359.4,115.95,165.2,2338.35,46.3,3541.1,4146.05,1087.25,2522.4,81.0,717.3,1734.2,7069.3,742.9,3017.65,6423.0,1164.3,4220.35,1558.7,2743.45,4055.5,2710.25,6055.55,810.7,2538.2,6129.2,1750.85,36.55,6652.45,2575.45,6019.35,1379.6,1284.2,296.15,653.25,412.6,85.5,49.55,1928.7,71.25,7845.8,1750.7,216.2,178.5,115.1,6029.0,2745.2,3721.9,3121.1,990.45,1004.35,157.65,3219.75,572.85,4554.85,1847.55,1766.75,1462.05,25.25,2193.2,2433.5,641.15,2398.4,861.85,583.0,7332.4,249.55,4475.9,416.45,788.6,202.3,6994.6,4116.15,2263.45,1374.35,4915.15,838.5,75.1,3715.65,4273.45,45.8,20.5,2044.75,30.55,1398.25,20.1,328.95,4680.05,69.1,3778.2,3161.4,2188.45,999.45,1888.65,3990.6,71.15,1240.25,2635.0,235.0,2347.85,7156.2,3089.6,270.8,2901.8,4949.1,2198.9,374.5,761.95,1520.9,190.25,5163.0,4059.85,2281.6,1356.7,231.45,50.75,242.4,4264.25,2774.55,3605.2,4069.9,874.2,1145.35,1323.7,5497.05,534.7,2455.05,38.7,947.4,357.0,1476.25,70.8,1448.6,291.9,5903.15,1201.65,5921.35,146.65,1759.4,844.45,7774.05,134.05,140.95,249.95,1701.65,592.65,135.75,7732.65,4282.4,219.65,2018.1,669.0,68.95,224.85,3771.5,196.75,943.85,6572.85,3175.85,29.15,20.05,318.9,24.45,2762.75,49.55,631.85,232.5,5919.35,749.25,307.4,245.15,134.75,55.8,8240.85,4266.4,1077.5,1115.6,79.05,95.0,25.2,4079.55,4187.75,2391.15,890.5,137.25,5154.6,3119.9,529.5,966.55,6936.85,3496.3,914.3,1929.0,5817.7,6110.2,178.8,28.3,435.0,2351.8,186.15,445.85,912.0,679.55,3581.6,4222.95,1994.3,5930.05,1505.85,20.0,5638.3,797.25,71.65,1359.45,2542.45,54.7,989.05,44.55,87.3,351.55,7297.75,6301.7,210.3,3822.45,1048.45,6393.65,1489.3,8061.5,74.2,518.75,5763.15,238.5,1031.7,0.0,34.8,1319.95,4388.4,420.2,2177.45,3950.85,827.05,3913.3,533.5,3756.45,443.9,2599.95,284.3,1740.8,3436.1,2462.55,70.85,3110.1,280.85,411.75,198.6,103.7,6144.55,4089.45,864.2,19.65,3249.4,5405.8,3363.8,7132.15,93.55,4138.9,5121.75,566.1,2715.3,1782.05,1742.5,2983.8,24.0,485.9,1905.7,1565.7,4858.7,3723.65,298.35,970.45,1782.0,405.7,4534.9,2415.95,1157.05,8297.5,45.75,2083.1,4681.75,176.2,1001.2,1594.75,212.4,7677.4,815.5,80.15,259.65,8109.8,2386.85,340.35,419.35,7990.05,1402.25,749.35,8425.15,1171.5,5647.95,708.8,7567.2,29.9,4348.1,635.9,108.95,78.8,1682.4,6925.9,223.15,5127.95,874.8,6758.45,1874.3,791.15,4639.45,143.9,69.1,1776.55,536.4,6172.0,1559.45,6079.0,80.85,4029.95,2658.4,383.55,51.15,1745.5,2230.85,7281.6,1837.7,149.55,180.7,411.45,1328.35,576.95,68.45,123.05,78.65,468.35,174.7,42.9,44.0,172.35,139.35,539.85,300.4,4968.0,992.7,4718.25,5536.5,7806.6,434.1,1563.9,1332.4,545.2,6296.75,1284.2,3645.5,161.45,226.95,646.85,1441.65,7511.3,5621.85,7919.8,593.2,1423.65,69.95,2763.35,692.1,2298.55,2640.55,2911.8,1727.5,86.6,6705.7,237.65,1672.35,2979.5,695.75,1654.6,24.25,1857.85,825.1,6424.25,837.95,4126.2,330.8,1337.45,362.2,5991.05,4891.5,5373.1,2068.55,487.05,4131.2,2301.15,131.65,4036.0,4900.65,5727.45,743.05,4804.65,24.05,1414.65,1443.65,2898.95,5309.5,20.4,451.55,50.55,117.05,5839.3,1893.5,45.35,1654.45,477.05,1415.55,4546.0,20.5,163.2,849.9,189.95,321.9,8058.55,482.8,7049.75,2560.1,286.8,7982.5,5683.6,3994.05,369.15,4631.7,401.95,1534.05,1093.0,701.3,1980.3,2893.4,262.3,3886.85,5917.55,914.0,2139.1,5948.7,3624.35,4753.85,5780.7,6869.7,1172.95,662.95,1765.95,2431.95,155.35,1859.2,3303.05,134.35,3409.1,709.5,70.5,953.45,50.15,19.75,3665.55,5515.8,272.0,6668.0,4052.4,664.4,718.55,937.6,5812.6,2546.85,6944.5,1346.3,1544.05,765.15,692.55,69.6,4059.35,6851.65,78.05,1187.05,5401.9,247.0,520.0,706.6,49.9,1370.35,20.25,2215.25,74.0,214.4,1871.15,6171.2,20.2,161.45,1013.2,336.7,333.65,6511.8,393.45,7009.5,2264.05,6921.7,600.25,56.35,4664.15,1441.8,5623.7,695.85,1028.75,4155.95,395.6,6330.4,2971.7,638.0,2034.25,2510.2,3419.5,2427.35,1760.25,3551.65,122.9,1424.2,2111.45,2909.95,374.0,20.25,300.8,5581.05,5676.65,3379.25,942.95,232.4,85.45,2088.45,6137.0,1434.6,3870.0,2043.45,2215.0,842.25,2576.2,1901.0,601.6,3515.25,605.45,3094.05,4929.55,595.05,469.8,8436.25,19.75,492.0,987.95,5496.9,1908.35,107.1,4575.35,4309.55,7922.75,522.35,587.7,3876.2,3778.85,1457.25,8349.45,185.6,19.5,1066.9,973.55,1226.45,342.3,985.05,3948.45,828.05,41.85,6164.7,2862.75,33.6,343.95,20.7,6590.5,717.95,2890.65,4885.85,1222.05,6871.7,405.6,208.25,1801.9,3062.45,1764.75,1816.75,1255.1,5743.05,3921.1,1463.45,189.45,96.8,408.5,1846.65,8456.75,1011.5,4263.4,2549.1,3965.05,2496.7,90.6,288.05,368.1,7840.6,6632.75,1013.35,152.95,3772.65,1026.35,19.3,5031.85,220.4,1416.5,158.35,256.6,5542.55,68.5,8443.7,791.75,5708.2,69.95,2016.3,326.65,5471.75,19.95,346.4,1061.6,1971.5,773.65,1422.05,19.75,2460.35,856.5,1275.85,7467.5,7261.75,5116.6,660.05,6590.8,1208.15,1033.9,1885.15,2467.1,989.45,2006.95,5025.0,4830.25,59.75,3088.25,3134.7,94.55,8312.4,4863.85,6871.9,6529.25,6637.9,3165.6,1454.15,6786.1,543.0,1327.15,2404.15,867.3,25.75,114.7,109.5,4692.95,546.85,1274.05,1782.4,5301.1,280.35,2897.95,3371.0,801.3,6975.25,257.05,1079.45,40.1,6997.3,2217.15,1129.1,979.05,4119.4,2568.55,3349.1,492.1,1718.95,605.25,1344.5,4267.15,1121.05,918.7,521.8,4469.1,3580.3,1729.35,1073.3,4566.5,293.3,2603.1,1783.75,2440.15,79.55,6322.1,57.4,4284.65,7138.65,1539.75,1058.1,123.8,2781.85,2731.0,20.75,89.1,497.3,711.15,1607.2,1490.95,1898.1,3273.95,2929.75,838.7,1443.65,7746.7,6951.15,214.75,2669.45,235.2,92.65,3103.25,606.25,5330.2,1403.1,2727.8,5038.45,19.1,80.3,1462.6,150.6,5960.5,74.9,1192.3,314.55,56.0,330.8,877.35,2249.1,2807.65,1696.2,1032.05,4902.8,4995.35,5034.05,1857.75,1992.85,751.65,66.95,1714.95,343.6,20.15,520.1,1387.45,7383.7,4483.95,1706.45,1327.4,5974.3,0.0,4515.85,179.85,5040.2,165.0,422.7,3046.4,20.25,358.05,2936.25,1271.8,530.05,19.2,1808.7,1144.6,7446.9,25.1,7556.9,4858.7,6595.0,149.05,4972.1,1880.85,2045.55,2187.15,477.55,2976.95,178.7,5025.85,3353.4,1461.15,2782.4,1699.15,1496.9,452.2,4428.45,1322.55,70.45,3563.8,139.75,1927.3,3000.25,3021.3,2245.4,24.75,944.65,1264.2,4917.75,2012.7,5743.3,1864.65,1221.65,1390.85,302.35,1374.9,1336.9,1297.8,6067.4,1222.25,487.95,2548.55,835.5,242.05,44.75,63.75,6218.45,260.9,7320.9,2967.35,6333.8,939.7,4200.25,5950.2,1037.75,93.4,50.45,1614.9,1573.95,3624.3,100.25,1468.75,2607.6,1422.1,69.85,858.6,1523.4,324.3,3435.6,399.6,4549.45,322.5,3273.55,5375.15,2510.7,3090.05,61.05,20.9,955.6,140.4,1493.1,69.4,1626.05,541.15,1784.9,70.35,6075.9,5500.6,73.1,3229.4,3399.85,6431.05,19.75,1230.9,454.65,235.05,70.1,6595.9,5867.0,196.35,909.25,6449.15,762.45,5283.95,1617.5,785.75,1776.0,5396.25,574.5,400.3,84.3,2656.3,1445.95,5212.65,6440.25,2244.95,1130.0,6463.15,1131.2,585.95,6252.7,19.95,2062.15,587.1,720.45,2186.4,2979.3,956.65,3201.55,3973.2,447.9,1335.2,661.25,1111.85,7555.0,49.0,3046.15,69.35,836.35,272.2,5293.4,20.95,50.55,2570.0,798.2,80.55,44.15,916.9,6487.2,1855.65,1556.85,1988.05,5432.2,147.55,8424.9,2203.7,387.4,116.65,3045.75,2287.25,130.5,767.9,446.8,8100.25,830.7,20.0,4689.15,6754.35,3540.65,2184.6,1054.6,130.55,1540.35,6411.25,1432.55,7629.85,101.9,313.4,6312.9,629.55,2640.55,1372.45,1212.25,6237.05,6310.9,5031.0,85.05,8672.45,2196.45,3008.15,220.8,5779.6,222.65,914.6,246.3,2110.15,5560.0,1633.0,547.65,969.85,2610.65,6567.9,4747.85,1759.55,101.1,6496.15,4234.15,300.7,59.55,4323.35,1466.1,8684.8,1776.45,2933.95,4370.25,144.35,4804.75,1125.2,39.85,422.4,251.75,8332.15,314.6,4331.4,6382.0,740.3,600.15,5538.8,7049.5,690.5,279.3,1427.55,452.7,19.45,1709.15,53.15,777.35,860.85,5012.1,166.3,2404.1,70.0,24.4,4820.15,209.9,610.75,3409.6,70.7,155.35,144.0,7875.0,911.6,1270.2,478.1,1561.5,761.85,2282.95,1615.1,1097.15,369.3,6725.3,31.55,6293.2,432.5,321.75,147.15,2434.45,532.1,375.25,125.95,1042.65,1620.25,2387.75,659.35,2660.2,1285.8,4211.55,377.55,990.9,193.8,6058.95,964.9,790.15,2467.75,2322.85,7262.0,4854.3,7748.75,1914.9,6470.1,57.4,2019.8,5688.05,1522.7,1334.5,252.0,700.45,5655.45,6747.35,5265.1,5174.35,105.6,2271.85,2966.95,1772.25,61.15,494.95,44.45,5290.45,3346.8,5219.65,217.5,607.7,5431.4,6004.85,5957.9,5442.05,4370.25,4428.6,416.45,3067.2,6688.1,20.25,4224.7,74.35,4042.2,62.05,3580.95,1198.8,1755.35,3772.5,2877.95,357.7,1397.3,959.9,3182.95,3704.15,4620.4,8312.75,541.9,929.3,971.3,1285.05,1521.2,3389.25,1198.05,3414.65,162.45,754.0,467.15,216.9,373.0,245.2,481.1,302.75,1728.2,2964.05,2156.25,60.1,1051.9,78.95,5013.0,1738.9,2275.1,5511.65,98.5,1316.9,7993.3,19.85,1388.45,666.0,94.45,244.65,4134.7,2375.4,4862.5,2431.35,351.5,106.2,1413.0,1743.05,657.5,1050.5,426.35,4982.5,19.55,1451.9,7634.8,235.05,3116.15,71.1,2633.4,49.65,6979.8,4920.8,46.35,1021.8,5276.1,8289.2,2659.45,196.75,94.0,5824.75,1517.5,3479.05,7365.7,1331.05,1195.95,3946.9,4299.95,20.3,1424.95,193.6,620.55,4391.25,1993.8,2597.6,4213.9,19.9,5017.7,1052.35,4916.4,2959.8,7559.55,53.95,7133.1,1799.3,829.55,1312.15,1597.05,524.35,4191.45,711.95,2201.75,806.95,1620.45,6812.95,1837.9,69.8,7344.45,545.15,1500.25,2283.15,494.05,1376.5,755.4,825.4,488.65,2841.55,486.85,2075.1,5299.65,204.7,1356.3,5042.75,812.4,6605.55,2995.45,505.95,3509.4,6991.9,590.35,2789.7,137.95,1123.15,7953.25,349.8,1067.05,3527.3,3762.0,1248.9,3035.35,4300.8,6065.3,144.95,3233.6,5438.9,1081.45,2308.6,1882.8,3255.35,1067.65,2065.4,4136.4,221.9,3848.0,8022.85,173.15,781.25,4510.8,5317.8,4779.45,250.1,1745.2,74.9,4140.1,3670.5,1167.8,469.65,58.9,333.55,3171.15,74.7,1381.2,455.5,3645.5,1158.85,6954.15,1672.1,3152.5,4307.1,2530.4,6141.65,3186.7,1054.8,5430.65,849.9,151.75,299.4,1086.75,2692.75,1389.6,3767.4,3641.5,2535.55,35.75,6880.85,3753.2,637.55,181.6,5329.55,44.55,1539.8,2209.75,223.75,7751.7,1174.35,4385.05,2606.35,1539.45,18.9,1261.35,58.15,225.6,5969.3,253.9,400.0,340.85,2515.3,227.35,305.95,365.4,2357.75,198.5,554.25,90.85,69.4,742.95,251.65,5597.65,20.15,4816.7,768.05,1215.8,3522.65,1834.95,305.1,910.45,155.65,3656.25,52.0,150.85,389.25,1873.7,1261.0,108.7,7346.2,3708.4,469.65,44.1,1385.85,548.8,712.75,6405.0,1637.4,2536.55,6042.7,958.25,1730.65,459.6,201.95,285.2,6145.85,1529.45,4664.5,1740.7,552.95,3496.3,93.7,7053.35,301.55,312.7,1046.5,2960.1,834.2,6953.4,4134.85,899.8,541.5,116.85,7942.15,5321.25,4156.8,223.6,768.45,3765.05,2157.5,108.05,1391.65,1379.8,1273.3,810.45,1810.85,7782.85,70.3,1797.1,377.85,445.3,851.75,7624.2,355.1,575.45,906.85,1057.55,19.4,1388.75,1641.3,1375.15,152.7,185.2,195.05,1826.7,417.5,344.5,1660.0,2180.55,2835.9,45.15,2730.85,5437.1,20.2,6981.35,5794.45,747.2,1267.95,3674.95,1275.6,5893.9,724.65,1536.75,3615.6,607.3,4154.55,2184.35,1852.85,77.15,847.8,2390.45,1923.5,1493.2,338.1,3030.6,75.35,2184.85,1031.4,921.3,3875.4,3124.5,144.15,6689.0,1451.1,6368.2,3729.6,350.1,2847.2,452.35,1494.5,930.45,41.85,1272.05,475.1,673.1,208.7,150.75,3199.0,5844.65,2462.6,6263.8,3403.4,237.75,221.35,75.3,1672.1,7881.2,2320.8,370.5,4062.2,3043.7,2723.4,1081.25,4097.05,632.2,4042.3,164.85,8166.8,4113.7,3047.15,70.4,4193.4,3729.75,399.45,331.3,1964.6,1336.15,1147.45,486.05,1078.9,5925.75,7804.15,4747.2,1028.9,226.45,4364.1,4692.55,2433.9,1217.25,19.75,154.3,6382.55,7623.2,1261.45,89.25,86.05,6779.05,4345.0,82.85,1714.55,893.2,810.85,6347.55,1123.65,43.15,35.1,1388.0,3851.45,1743.5,2638.1,946.95,1114.85,1777.6,684.85,74.35,1312.45,159.2,610.2,404.35,69.65,6363.45,4124.65,713.1,950.75,19.65,505.95,1149.65,169.65,526.7,393.15,1147.0,3021.6,5718.2,191.35,4539.6,6397.6,280.4,2718.3,5711.05,3478.15,36.45,4133.95,2917.65,54.3,2964.8,2198.3,1189.9,1914.5,2001.5,5336.35,7238.6,7998.8,3825.85,5703.25,7397.0,164.6,6555.2,225.65,955.75,3382.3,2313.8,933.3,780.85,7852.4,3184.25,764.95,2763.0,1614.7,145.4,156.25,1604.5,270.15,0.0,20.6,1734.5,7047.5,573.15,1538.6,4459.8,7459.0,306.05,639.7,348.15,4533.9,5563.65,1587.55,40.25,842.9,4228.55,784.45,3729.75,1406.9,1857.3,7322.5,6725.5,3627.3,1761.45,1725.95,4192.15,1411.2,164.5,2724.6,264.55,4671.7,1173.55,318.5,7713.55,2471.25,7842.3,2227.8,4990.25,3744.05,7220.35,2351.45,2989.6,6077.75,4070.95,2479.05,2134.3,6000.1,2203.1,183.15,6194.1,638.95,2139.2,831.75,521.3,1337.5,7181.95,608.0,2560.1,577.6,5953.0,1790.15,2531.4,4760.3,292.85,953.65,198.0,5705.05,609.9,20.55,79.65,6993.65,4122.65,5762.95,1537.85,2603.3,5566.4,5431.9,2258.25,1092.35,6401.25,2812.2,80.05,2698.35,616.9,1912.85,849.1,3460.3,1465.75,90.1,5555.3,1278.8,2907.35,146.3,51.25,4952.95,4504.9,45.6,4520.15,267.35,2316.85,8075.35,2302.35,7251.9,2078.55,6225.4,1242.25,99.45,288.05,599.25,3462.1,853.0,934.1,2375.2,2813.05,1222.8,5293.2,6314.35,19.1,1003.05,1593.1,2509.95,3187.65,74.45,2345.2,3330.1,5522.7,2335.3,4798.4,8594.4,970.55,7665.8,3686.05,1115.15,2537.0,1393.6,89.35,4445.3,978.6,1258.15,331.35,291.4,453.75,84.75,1715.1,1715.15,1597.25,1250.1,3996.8,5215.1,235.5,673.2,1442.2,5639.05,5222.35,7291.75,799.65,50.8,424.5,249.4,4415.75,5270.6,144.55,2447.95,2884.9,3050.15,253.0,4517.25,436.2,118.4,19.9,3649.6,1200.15,255.6,2395.05,70.6,5083.55,389.6,644.5,523.5,39.3,989.05,2406.1,638.55,191.1,4524.05,4664.2,3470.8,6910.3,4014.2,1288.0,2277.65,6375.8,24.8,5251.75,1505.45,6903.1,913.3,5535.8,815.55,1411.65,5602.25,8244.3,741.5,4375.8,1008.7,5968.4,3096.9,3901.25,2613.4,853.1,5661.7,794.25,695.05,160.8,5552.05,3275.15,4236.6,54.5,1174.35,741.7,3019.25,962.9,4759.75,1498.35,1233.15,4882.8,5411.65,19.65,148.05,3930.55,6895.5,84.65,6856.95,2658.8,3766.2,69.55,129.55,347.25,581.7,354.05,929.45,679.0,3846.75,4480.7,44.35,499.4,1553.2,219.5,5311.85,586.05,2576.8,6435.25,1993.25,1923.85,939.8,84.6,3092.65,415.55,5986.55,5487.0,651.5,45.4,73.65,2405.05,4458.15,6856.45,50.75,4735.2,682.15,4525.8,321.05,335.65,1424.4,1748.55,474.9,668.4,926.25,1077.95,2541.25,46.0,1156.1,3694.45,382.8,1167.8,746.75,3912.9,368.85,20.2,1654.7,1940.85,221.7,1794.65,5289.8,501.2,6140.85,48.45,309.25,201.1,6179.35,2838.7,55.7,4589.85,3735.45,70.15,477.55,2553.7,1342.15,1216.35,7578.05,2603.95,42.7,6056.9,2983.65,689.35,2025.1,1747.2,4657.95,296.1,8016.6,81.1,433.5,20.55,6428.4,5883.85,1043.8,6252.9,1857.25,146.4,240.45,1724.15,315.3,429.55,356.15,488.25,55.7,1298.7,1378.75,973.45,384.25,8543.25,389.95,5731.85,20.65,4275.75,84.5,1924.1,669.85,5784.3,5166.2,4060.55,267.4,3532.85,4914.8,5315.8,69.85,775.6,5445.95,53.55,1007.8,833.55,6579.05,1004.5,7856.0,1183.05,2169.75,896.9,19.3,501.35,4126.35,49.65,2460.15,477.6,370.65,265.75,2424.45,1849.95,61.05,1698.55,1910.6,998.1,890.6,529.5,1383.6,493.4,48.6,1207.0,563.5,864.55,2109.35,701.05,2265.25,220.6,5749.8,2796.45,5165.7,5696.6,20.2,2076.05,44.2,215.25,1859.5,7470.1,229.5,2470.1,2092.9,5629.55,469.85,733.95,485.25,1244.5,20.05,3994.45,78.25,1131.5,184.05,19.9,1178.75,667.7,5629.15,19.95,109.3,79.6,958.45,403.15,75.9,76.2,4392.5,19.25,3168.0,1096.6,669.45,2343.85,3588.4,48.6,522.95,7511.9,1725.0,49.75,1691.9,2248.05,4479.2,3471.1,63.0,70.25,3314.15,865.55,852.7,1930.9,91.4,3949.15,4304.0,409.9,1554.9,3472.05,117.8,3210.35,207.4,19.75,3132.75,60.0,649.65,20.85,2106.3,35.0,2011.4,6205.5,903.7,503.6,3882.3,879.8,383.65,4390.25,68.2,452.8,5329.0,1758.9,5737.6,1152.7,7674.55,2157.95,1219.85,2414.55,1155.6,7548.1,1809.35,1564.4,19.65,75.7,84.4,864.85,228.75,7752.05,1951.0,470.6,4060.9,384.5,3432.9,108.65,3952.65,463.05,494.05,3416.85,1498.65,2867.75,4807.35,71.35,471.35,1041.8,7689.8,1132.35,1815.0,1311.3,199.45,1637.3,1326.35,6376.55,935.9,20.05,1611.15,20.6,6989.7,2779.5,1931.75,8331.95,735.9,2283.3,1445.2,818.05,2333.05,1992.55,5890.0,916.75,1029.8,1796.55,33.7,454.05,1392.25,1049.6,734.6,475.1,70.15,1540.05,1978.65,3181.8,229.7,5625.55,6581.9,1347.15,3808.2,3974.15,7661.8,2479.25,266.6,5601.4,1982.6,339.9,4828.05,5980.55,4808.7,20.3,3692.85,1068.15,2383.6,69.65,89.3,1438.05,917.45,6096.45,3078.1,99.95,475.2,2036.55,6444.05,1426.75,767.55,7932.5,4040.65,2768.65,1672.35,474.8,446.1,1345.65,2425.4,2077.95,416.3,1663.5,1286.05,35.85,1094.35,7719.5,514.6,1451.6,4932.5,71.0,5443.65,330.25,746.5,122.7,44.4,6631.85,8250.0,3561.15,1763.55,2419.0,470.2,5234.95,70.3,79.35,3097.0,1709.1,1848.8,723.3,809.75,1470.95,577.15,6914.95,602.9,124.4,96.8,3827.9,533.05,2961.4,3264.45,995.35,2815.25,154.8,246.3,257.6,5757.2,7517.7,1234.8,1389.2,3836.3,1474.75,6001.45,720.1,2832.75,472.25,1460.65,1336.35,6388.65,153.05,677.9,1165.6,2119.5,921.55,72.0,68.35,847.25,44.0,4295.35,135.0,1400.55,69.65,1380.4,1060.2,4386.2,86.0,5785.5,52.05,2018.4,79.45,2727.3,263.65,275.4,2816.65,538.5,948.9,846.8,4783.5,2997.45,5897.4,470.6,524.5,269.65,4740.0,2341.5,1789.65,1626.4,800.3,5060.85,1448.8,4254.85,466.6,4627.8,6838.6,85.0,1101.85,44.3,20.2,4297.6,414.1,256.6,3969.35,2274.1,1296.8,1268.85,8192.6,59.25,1147.85,4361.55,2006.1,2078.95,7609.75,487.05,1218.45,1416.2,483.3,1234.6,1311.6,5618.3,6185.15,1237.85,498.1,294.45,2381.55,788.35,756.4,613.4,3625.2,550.35,4793.8,1267.2,442.2,84.85,654.85,5567.45,3160.55,740.3,5706.2,3085.35,24.7,3541.4,84.2,50.7,1165.55,4855.35,2806.9,1422.65,608.15,641.35,4959.15,35.9,1321.3,1663.75,3024.15,2188.5,4138.05,102.5,872.65,2724.25,413.25,1374.2,757.1,6692.65,218.5,608.8,1004.75,1125.6,3847.6,978.0,1387.35,746.05,304.6,1098.85,1139.2,4368.95,827.7,20.35,262.05,279.55,3512.5,1483.25,4653.85,151.75,4400.75,8033.1,1253.65,552.65,1036.0,4025.5,928.4,24.9,460.25,6506.15,5598.3,4374.55,678.75,2191.7,239.75,5485.5,609.05,683.75,404.2,5189.75,5060.9,233.65,7176.55,291.45,689.75,3263.9,1993.2,254.5,347.65,967.9,242.95,1841.9,232.1,809.25,866.45,360.55,2076.2,355.9,7299.65,2291.2,129.15,7491.75,5835.5,7031.45,7723.9,1032.0,70.75,109.6,727.8,130.75,893.0,763.1,781.4,902.25,2653.65,1016.7,5943.65,275.7,3126.45,1070.15,3457.9,340.4,4299.2,1093.2,521.9,1630.4,713.6,1265.65,4003.85,1401.4,45.3,1510.5,178.1,264.8,480.6,4541.9,4976.15,7542.25,251.25,1595.5,23.45,685.55,3874.1,6891.4,4916.95,1373.0,29.7,49.8,6039.9,1548.65,3440.25,151.3,4226.7,1023.75,55.4,90.6,7074.4,156.35,6849.75,3263.6,1252.85,67.55,70.2,5750.0,1549.75,1810.55,2952.85,7467.55,5484.4,294.9,97.5,5916.45,113.35,19.95,476.8,101.65,1130.85,3532.25,6891.45,1570.7,520.95,7854.9,3581.4,1447.9,8547.15,727.85,357.6,159.35,280.85,6069.25,3274.35,1359.0,1777.9,6109.65,1122.4,2020.9,3795.45,4504.55,3579.15,49.7,276.5,8175.9,890.35,259.8,5588.8,50.6,58.0,5568.35,2203.65,938.95,2024.1,3623.95,2369.05,3877.95,4577.9,25.85,2871.5,672.55,1573.7,1270.55,7711.45,126.05,2193.65,64.55,31.2,38.25,3348.1,533.6,2907.55,1620.8,3480.35,293.85,3243.45,4137.2,79.25,44.9,19.4,5348.65,659.65,3180.5,118.5,3023.85,3365.85,195.3,1031.1,997.65,6471.85,6241.35,6501.35,2317.1,2237.55,5231.3,5275.8,165.5,358.5,6614.9,80.5,2421.75,1294.6,1299.1,5733.4,305.55,7430.75,900.5,630.6,3856.75,1222.65,374.8,1625.0,7234.8,331.85,3959.35,5088.4,3969.4,4860.85,788.05,1266.35,470.95,688.2,387.7,845.25,560.6,4230.25,4983.05,4113.15,25.7,521.0,471.85,5976.9,506.9,4299.75,7548.6,1654.75,80.35,4551.5,6227.5,20.05,76.4,514.0,57.5,1474.35,880.2,3270.25,69.95,3919.15,7285.7,93.3,169.05,7658.3,5959.3,5295.7,4693.2,3512.9,5231.2,3603.45,217.45,6875.35,19.25,2021.35,2564.95,5611.75,7610.1,35.05,73.0,45.75,4543.95,450.4,1297.35,4442.75,1423.15,4378.35,74.2,2716.3,70.1,450.65,1175.85,558.8,2220.1,3283.05,142.35,4939.25,4237.5,335.95,33.2,7188.5,926.25,1119.35,116.6,68.8,287.4,2341.55,1362.85,163.6,2254.2,145.15,7752.3,6585.35,4786.1,3835.55,397.0,19.7,1027.25,1580.1,7222.75,3769.7,4233.95,1680.25,3725.5,413.65,7707.7,714.15,2497.2,8309.55,601.55,139.25,1888.25,2773.9,5409.75,5643.4,197.7,401.3,3238.4,1573.05,79.15,235.8,1364.75,1985.15,655.85,303.15,4335.2,647.5,1574.45,2748.7,2483.65,6367.2,4904.2,2044.95,1794.8,7173.15,6441.4,7039.05,921.4,4018.35,5448.6,20.25,49.9,2085.45,1358.85,5135.15,730.1,2869.85,118.25,49.25,1108.6,1815.65,730.4,75.45,5071.05,4014.6,568.85,5860.7,7279.35,1064.95,5769.6,5886.85,4238.45,20.3,418.3,136.05,708.2,788.55,700.85,4378.8,3442.8,181.7,7171.7,4016.85,553.0,96.85,4122.9,1482.3,74.3,1240.8,44.65,1095.3,788.8,6578.55,19.55,2802.3,857.75,184.4,364.55,6093.3,1861.1,20.4,1079.65,7475.1,2862.55,3069.45,2349.8,469.25,4213.35,3301.05,3529.95,7723.7,4144.9,4265.0,154.65,3246.45,8337.45,5731.4,6176.6,1905.4,931.9,7348.8,776.25,5243.05,141.65,7679.65,2954.5,1006.9,2540.1,3097.2,3807.35,2484.0,5785.65,2619.15,1524.85,2790.65,1784.5,3937.45,2276.1,2029.05,802.35,418.4,4653.25,275.9,343.45,2130.45,1191.4,50.5,2554.0,5589.45,467.7,74.4,3756.45,3334.9,920.5,3431.75,150.35,2587.7,367.95,5125.75,4801.1,6219.6,19.55,550.1,7862.25,1242.2,4871.05,3190.65,2666.75,3533.6,792.15,295.65,1459.35,4398.15,4297.95,167.3,4096.9,3454.6,1286.0,1387.0,786.3,641.25,705.45,345.5,345.9,5811.8,94.4,124.45,1375.6,3491.55,7920.7,6640.7,55.0,718.1,320.4,101.45,1334.45,3358.65,4764.0,350.3,5703.0,69.5,18.85,525.55,69.2,483.15,934.8,786.5,69.65,4086.3,5364.8,82.3,20.3,770.4,6816.95,2419.55,4138.7,267.6,3457.45,1115.2,5435.6,4186.3,25.05,4630.2,3221.25,688.5,867.1,4746.05,712.85,48.95,355.1,45.3,5764.7,167.3,428.45,1505.35,693.45,930.4,1177.95,5069.65,324.25,1458.1,156.4,2298.9,1679.65,369.6,2998.0,5206.55,3626.1,24.4,7968.85,152.45,1959.5,2053.05,398.55,1130.85,3425.35,4323.45,703.55,1275.7,2965.75,1647.0,56.25,2249.95,6109.75,159.4,3751.15,68.65,411.25,105.5,3320.6,327.45,5669.5,465.45,704.3,1369.8,1107.25,95.55,6375.2,8152.3,1566.75,130.25,162.15,110.05,1885.15,6302.85,2264.5,816.8,1253.5,41.2,5265.55,693.3,5997.1,3824.2,3886.05,7283.25,412.55,1070.25,817.95,1171.3,6548.65,625.65,1911.5,70.85,134.7,1507.0,2978.3,299.3,5832.65,5567.55,450.8,4166.35,1215.6,91.7,7898.45,3915.4,979.5,90.05,7432.05,4026.4,25.3,1193.05,20.1,398.55,1958.45,69.9,63.15,1301.1,484.05,4528.0,3887.85,2208.75,238.15,80.8,958.15,118.3,76.45,3845.45,1094.5,573.75,1267.0,633.45,6129.65,1218.25,1405.3,2274.9,74.5,1068.85,533.9,676.15,3804.4,1118.8,5236.4,1386.8,762.25,1902.0,239.05,5673.7,39.8,997.75,5574.35,406.05,138.85,123.65,1801.1,689.0,790.7,582.5,1618.2,1173.35,900.9,2122.05,6719.9,69.15,3784.0,1798.65,54.65,3886.45,1224.05,2310.2,723.4,3988.5,3554.6,0.0,6034.85,531.6,85.1,173.0,2511.95,3893.6,357.15,467.5,2288.7,4627.85,289.1,6460.55,1931.3,402.6,2221.55,7758.9,172.85,224.5,7388.45,3460.95,1700.9,3090.65,1293.8,645.8,5224.95,500.1,2427.1,3488.15,1035.7,7565.35,2799.0,1601.5,85.5,6256.2,1232.9,19.9,1937.4,1096.25,5059.75,3023.65,4889.2,2289.9,6503.2,1313.25,990.3,228.0,5746.15,209.1,1864.2,5979.7,3902.45,7142.5,902.0,4481.0,805.2,154.85,528.45,8349.7,4953.25,332.65,470.2,2259.35,1411.35,593.75,6328.7,1411.9,6841.4,20.35,238.5,3233.85,1062.1,4016.3,226.55,7110.75,5440.9,235.1,1958.95,85.0,5528.9,1463.7,1025.05,552.1,3815.4,0.0,3313.4,1938.9,3014.65,460.25,4839.15,184.4,19.9,2010.55,5139.65,69.2,1673.4,309.35,3171.6,8670.1,916.0,299.75,702.05,2354.8,3473.4,19.65,4438.2,4819.75,92.25,1567.0,1242.45,559.2,220.1,531.15,1183.2,465.85,6876.05,501.0,3782.4,460.2,20.2,1790.35,733.35,1334.0,7767.25,876.15,4600.95,113.55,1793.25,886.7,7737.55,1348.9,1686.85,1879.25,4013.8,434.5,7195.35,780.1,107.6,3801.7,308.7,438.25,50.35,3778.1,3147.5,5438.95,5102.35,70.3,1872.2,213.35,5617.75,5386.5,1776.95,2483.05,235.65,5224.35,2272.8,83.75,4663.4,201.7,125.0,684.4,620.35,1146.05,1806.35,603.0,5798.3,519.15,497.6,1301.7,1129.75,19.3,266.95,257.0,865.8,2623.65,45.85,79.55,1082.8,147.8,2570.2,4378.9,3616.25,2924.05,6014.85,32.7,2882.25,1509.9,5305.05,2368.4,7985.9,3545.35,1301.0,372.45,2985.25,77.75,564.35,95.45,1311.75,1135.7,2319.8,3720.35,5025.8,5224.5,6185.8,1498.55,1208.6,6613.65,69.7,573.3,1818.9,1787.35,1051.05,7181.25,3688.6,99.75,871.4,780.5,821.6,239.45,244.45,3357.9,129.6,4977.2,365.35,334.65,2424.05,43.95,4981.15,2090.25,45.1,4905.75,2038.7,4014.0,2441.7,2751.0,1307.8,383.65,2868.05,449.75,53.55,7882.5,1087.7,791.7,7493.05,4414.3,6841.3,819.95,6052.25,3361.05,4869.5,509.3,4308.25,221.1,3833.95,69.35,294.95,4092.85,316.9,2651.2,471.7,216.75,5720.95,503.25,69.6,7365.3,7245.9,385.0,961.4,4615.9,3251.3,3880.05,3088.75,1396.0,30.5,53.05,6859.5,2108.35,6770.5,4730.6,1151.05,232.55,1022.6,5121.3,1127.2,309.4,523.1,4250.1,770.5,246.7,3342.0,3930.6,1747.85,2754.45,897.75,2780.6,5895.45,2208.05,2196.15,1692.6,20.5,265.35,1836.25,6418.9,4871.45,4947.55,1558.65,4284.2,1218.25,5617.95,24.2,679.85,554.45,5237.4,2032.3,789.2,1525.35,2804.45,3726.15,1652.1,1588.75,3366.05,778.1,7113.75,4367.35,993.15,5012.35,2728.6,2093.4,1011.8,106.85,1343.4,130.1,6794.75,1022.5,3691.2,486.2,4036.85,4685.55,256.25,1917.1,74.45,272.15,5150.55,3756.4,3645.75,2874.45,49.95,1020.75,70.65,826.0,239.0,727.8,7544.3,6479.4,3626.35,1679.4,403.35,931.55,4326.25,263.05,39.25,3316.1,75.75,2625.25,6886.25,1495.1,743.3,1419.4,1990.5,7362.9,346.45,306.6,6844.5],\"x0\":\" \",\"xaxis\":\"x\",\"y0\":\" \",\"yaxis\":\"y\",\"type\":\"violin\",\"line\":{\"color\":\"bLACK\"},\"fillcolor\":\"#87CEFA\",\"opacity\":0.5}],                        {\"template\":{\"data\":{\"bar\":[{\"error_x\":{\"color\":\"#2a3f5f\"},\"error_y\":{\"color\":\"#2a3f5f\"},\"marker\":{\"line\":{\"color\":\"#E5ECF6\",\"width\":0.5},\"pattern\":{\"fillmode\":\"overlay\",\"size\":10,\"solidity\":0.2}},\"type\":\"bar\"}],\"barpolar\":[{\"marker\":{\"line\":{\"color\":\"#E5ECF6\",\"width\":0.5},\"pattern\":{\"fillmode\":\"overlay\",\"size\":10,\"solidity\":0.2}},\"type\":\"barpolar\"}],\"carpet\":[{\"aaxis\":{\"endlinecolor\":\"#2a3f5f\",\"gridcolor\":\"white\",\"linecolor\":\"white\",\"minorgridcolor\":\"white\",\"startlinecolor\":\"#2a3f5f\"},\"baxis\":{\"endlinecolor\":\"#2a3f5f\",\"gridcolor\":\"white\",\"linecolor\":\"white\",\"minorgridcolor\":\"white\",\"startlinecolor\":\"#2a3f5f\"},\"type\":\"carpet\"}],\"choropleth\":[{\"colorbar\":{\"outlinewidth\":0,\"ticks\":\"\"},\"type\":\"choropleth\"}],\"contour\":[{\"colorbar\":{\"outlinewidth\":0,\"ticks\":\"\"},\"colorscale\":[[0.0,\"#0d0887\"],[0.1111111111111111,\"#46039f\"],[0.2222222222222222,\"#7201a8\"],[0.3333333333333333,\"#9c179e\"],[0.4444444444444444,\"#bd3786\"],[0.5555555555555556,\"#d8576b\"],[0.6666666666666666,\"#ed7953\"],[0.7777777777777778,\"#fb9f3a\"],[0.8888888888888888,\"#fdca26\"],[1.0,\"#f0f921\"]],\"type\":\"contour\"}],\"contourcarpet\":[{\"colorbar\":{\"outlinewidth\":0,\"ticks\":\"\"},\"type\":\"contourcarpet\"}],\"heatmap\":[{\"colorbar\":{\"outlinewidth\":0,\"ticks\":\"\"},\"colorscale\":[[0.0,\"#0d0887\"],[0.1111111111111111,\"#46039f\"],[0.2222222222222222,\"#7201a8\"],[0.3333333333333333,\"#9c179e\"],[0.4444444444444444,\"#bd3786\"],[0.5555555555555556,\"#d8576b\"],[0.6666666666666666,\"#ed7953\"],[0.7777777777777778,\"#fb9f3a\"],[0.8888888888888888,\"#fdca26\"],[1.0,\"#f0f921\"]],\"type\":\"heatmap\"}],\"heatmapgl\":[{\"colorbar\":{\"outlinewidth\":0,\"ticks\":\"\"},\"colorscale\":[[0.0,\"#0d0887\"],[0.1111111111111111,\"#46039f\"],[0.2222222222222222,\"#7201a8\"],[0.3333333333333333,\"#9c179e\"],[0.4444444444444444,\"#bd3786\"],[0.5555555555555556,\"#d8576b\"],[0.6666666666666666,\"#ed7953\"],[0.7777777777777778,\"#fb9f3a\"],[0.8888888888888888,\"#fdca26\"],[1.0,\"#f0f921\"]],\"type\":\"heatmapgl\"}],\"histogram\":[{\"marker\":{\"pattern\":{\"fillmode\":\"overlay\",\"size\":10,\"solidity\":0.2}},\"type\":\"histogram\"}],\"histogram2d\":[{\"colorbar\":{\"outlinewidth\":0,\"ticks\":\"\"},\"colorscale\":[[0.0,\"#0d0887\"],[0.1111111111111111,\"#46039f\"],[0.2222222222222222,\"#7201a8\"],[0.3333333333333333,\"#9c179e\"],[0.4444444444444444,\"#bd3786\"],[0.5555555555555556,\"#d8576b\"],[0.6666666666666666,\"#ed7953\"],[0.7777777777777778,\"#fb9f3a\"],[0.8888888888888888,\"#fdca26\"],[1.0,\"#f0f921\"]],\"type\":\"histogram2d\"}],\"histogram2dcontour\":[{\"colorbar\":{\"outlinewidth\":0,\"ticks\":\"\"},\"colorscale\":[[0.0,\"#0d0887\"],[0.1111111111111111,\"#46039f\"],[0.2222222222222222,\"#7201a8\"],[0.3333333333333333,\"#9c179e\"],[0.4444444444444444,\"#bd3786\"],[0.5555555555555556,\"#d8576b\"],[0.6666666666666666,\"#ed7953\"],[0.7777777777777778,\"#fb9f3a\"],[0.8888888888888888,\"#fdca26\"],[1.0,\"#f0f921\"]],\"type\":\"histogram2dcontour\"}],\"mesh3d\":[{\"colorbar\":{\"outlinewidth\":0,\"ticks\":\"\"},\"type\":\"mesh3d\"}],\"parcoords\":[{\"line\":{\"colorbar\":{\"outlinewidth\":0,\"ticks\":\"\"}},\"type\":\"parcoords\"}],\"pie\":[{\"automargin\":true,\"type\":\"pie\"}],\"scatter\":[{\"marker\":{\"colorbar\":{\"outlinewidth\":0,\"ticks\":\"\"}},\"type\":\"scatter\"}],\"scatter3d\":[{\"line\":{\"colorbar\":{\"outlinewidth\":0,\"ticks\":\"\"}},\"marker\":{\"colorbar\":{\"outlinewidth\":0,\"ticks\":\"\"}},\"type\":\"scatter3d\"}],\"scattercarpet\":[{\"marker\":{\"colorbar\":{\"outlinewidth\":0,\"ticks\":\"\"}},\"type\":\"scattercarpet\"}],\"scattergeo\":[{\"marker\":{\"colorbar\":{\"outlinewidth\":0,\"ticks\":\"\"}},\"type\":\"scattergeo\"}],\"scattergl\":[{\"marker\":{\"colorbar\":{\"outlinewidth\":0,\"ticks\":\"\"}},\"type\":\"scattergl\"}],\"scattermapbox\":[{\"marker\":{\"colorbar\":{\"outlinewidth\":0,\"ticks\":\"\"}},\"type\":\"scattermapbox\"}],\"scatterpolar\":[{\"marker\":{\"colorbar\":{\"outlinewidth\":0,\"ticks\":\"\"}},\"type\":\"scatterpolar\"}],\"scatterpolargl\":[{\"marker\":{\"colorbar\":{\"outlinewidth\":0,\"ticks\":\"\"}},\"type\":\"scatterpolargl\"}],\"scatterternary\":[{\"marker\":{\"colorbar\":{\"outlinewidth\":0,\"ticks\":\"\"}},\"type\":\"scatterternary\"}],\"surface\":[{\"colorbar\":{\"outlinewidth\":0,\"ticks\":\"\"},\"colorscale\":[[0.0,\"#0d0887\"],[0.1111111111111111,\"#46039f\"],[0.2222222222222222,\"#7201a8\"],[0.3333333333333333,\"#9c179e\"],[0.4444444444444444,\"#bd3786\"],[0.5555555555555556,\"#d8576b\"],[0.6666666666666666,\"#ed7953\"],[0.7777777777777778,\"#fb9f3a\"],[0.8888888888888888,\"#fdca26\"],[1.0,\"#f0f921\"]],\"type\":\"surface\"}],\"table\":[{\"cells\":{\"fill\":{\"color\":\"#EBF0F8\"},\"line\":{\"color\":\"white\"}},\"header\":{\"fill\":{\"color\":\"#C8D4E3\"},\"line\":{\"color\":\"white\"}},\"type\":\"table\"}]},\"layout\":{\"annotationdefaults\":{\"arrowcolor\":\"#2a3f5f\",\"arrowhead\":0,\"arrowwidth\":1},\"autotypenumbers\":\"strict\",\"coloraxis\":{\"colorbar\":{\"outlinewidth\":0,\"ticks\":\"\"}},\"colorscale\":{\"diverging\":[[0,\"#8e0152\"],[0.1,\"#c51b7d\"],[0.2,\"#de77ae\"],[0.3,\"#f1b6da\"],[0.4,\"#fde0ef\"],[0.5,\"#f7f7f7\"],[0.6,\"#e6f5d0\"],[0.7,\"#b8e186\"],[0.8,\"#7fbc41\"],[0.9,\"#4d9221\"],[1,\"#276419\"]],\"sequential\":[[0.0,\"#0d0887\"],[0.1111111111111111,\"#46039f\"],[0.2222222222222222,\"#7201a8\"],[0.3333333333333333,\"#9c179e\"],[0.4444444444444444,\"#bd3786\"],[0.5555555555555556,\"#d8576b\"],[0.6666666666666666,\"#ed7953\"],[0.7777777777777778,\"#fb9f3a\"],[0.8888888888888888,\"#fdca26\"],[1.0,\"#f0f921\"]],\"sequentialminus\":[[0.0,\"#0d0887\"],[0.1111111111111111,\"#46039f\"],[0.2222222222222222,\"#7201a8\"],[0.3333333333333333,\"#9c179e\"],[0.4444444444444444,\"#bd3786\"],[0.5555555555555556,\"#d8576b\"],[0.6666666666666666,\"#ed7953\"],[0.7777777777777778,\"#fb9f3a\"],[0.8888888888888888,\"#fdca26\"],[1.0,\"#f0f921\"]]},\"colorway\":[\"#636efa\",\"#EF553B\",\"#00cc96\",\"#ab63fa\",\"#FFA15A\",\"#19d3f3\",\"#FF6692\",\"#B6E880\",\"#FF97FF\",\"#FECB52\"],\"font\":{\"color\":\"#2a3f5f\"},\"geo\":{\"bgcolor\":\"white\",\"lakecolor\":\"white\",\"landcolor\":\"#E5ECF6\",\"showlakes\":true,\"showland\":true,\"subunitcolor\":\"white\"},\"hoverlabel\":{\"align\":\"left\"},\"hovermode\":\"closest\",\"mapbox\":{\"style\":\"light\"},\"paper_bgcolor\":\"white\",\"plot_bgcolor\":\"#E5ECF6\",\"polar\":{\"angularaxis\":{\"gridcolor\":\"white\",\"linecolor\":\"white\",\"ticks\":\"\"},\"bgcolor\":\"#E5ECF6\",\"radialaxis\":{\"gridcolor\":\"white\",\"linecolor\":\"white\",\"ticks\":\"\"}},\"scene\":{\"xaxis\":{\"backgroundcolor\":\"#E5ECF6\",\"gridcolor\":\"white\",\"gridwidth\":2,\"linecolor\":\"white\",\"showbackground\":true,\"ticks\":\"\",\"zerolinecolor\":\"white\"},\"yaxis\":{\"backgroundcolor\":\"#E5ECF6\",\"gridcolor\":\"white\",\"gridwidth\":2,\"linecolor\":\"white\",\"showbackground\":true,\"ticks\":\"\",\"zerolinecolor\":\"white\"},\"zaxis\":{\"backgroundcolor\":\"#E5ECF6\",\"gridcolor\":\"white\",\"gridwidth\":2,\"linecolor\":\"white\",\"showbackground\":true,\"ticks\":\"\",\"zerolinecolor\":\"white\"}},\"shapedefaults\":{\"line\":{\"color\":\"#2a3f5f\"}},\"ternary\":{\"aaxis\":{\"gridcolor\":\"white\",\"linecolor\":\"white\",\"ticks\":\"\"},\"baxis\":{\"gridcolor\":\"white\",\"linecolor\":\"white\",\"ticks\":\"\"},\"bgcolor\":\"#E5ECF6\",\"caxis\":{\"gridcolor\":\"white\",\"linecolor\":\"white\",\"ticks\":\"\"}},\"title\":{\"x\":0.05},\"xaxis\":{\"automargin\":true,\"gridcolor\":\"white\",\"linecolor\":\"white\",\"ticks\":\"\",\"title\":{\"standoff\":15},\"zerolinecolor\":\"white\",\"zerolinewidth\":2},\"yaxis\":{\"automargin\":true,\"gridcolor\":\"white\",\"linecolor\":\"white\",\"ticks\":\"\",\"title\":{\"standoff\":15},\"zerolinecolor\":\"white\",\"zerolinewidth\":2}}},\"xaxis\":{\"anchor\":\"y\",\"domain\":[0.0,1.0],\"title\":{\"text\":\"COBRO_TOTAL\"}},\"yaxis\":{\"anchor\":\"x\",\"domain\":[0.0,1.0]},\"legend\":{\"tracegroupgap\":0},\"title\":{\"text\":\"COBRO TOTAL REALIZADO AL CLIENTE\"},\"violinmode\":\"group\"},                        {\"responsive\": true}                    ).then(function(){\n",
              "                            \n",
              "var gd = document.getElementById('c6a75c2e-35cd-4a80-a2e1-41d594bdf168');\n",
              "var x = new MutationObserver(function (mutations, observer) {{\n",
              "        var display = window.getComputedStyle(gd).display;\n",
              "        if (!display || display === 'none') {{\n",
              "            console.log([gd, 'removed!']);\n",
              "            Plotly.purge(gd);\n",
              "            observer.disconnect();\n",
              "        }}\n",
              "}});\n",
              "\n",
              "// Listen for the removal of the full notebook cells\n",
              "var notebookContainer = gd.closest('#notebook-container');\n",
              "if (notebookContainer) {{\n",
              "    x.observe(notebookContainer, {childList: true});\n",
              "}}\n",
              "\n",
              "// Listen for the clearing of the current output cell\n",
              "var outputEl = gd.closest('.output');\n",
              "if (outputEl) {{\n",
              "    x.observe(outputEl, {childList: true});\n",
              "}}\n",
              "\n",
              "                        })                };                            </script>        </div>\n",
              "</body>\n",
              "</html>"
            ]
          },
          "metadata": {}
        }
      ]
    },
    {
      "cell_type": "markdown",
      "source": [
        "### - ABANDONO "
      ],
      "metadata": {
        "id": "eIG5Nte3HvOw"
      }
    },
    {
      "cell_type": "code",
      "source": [
        "tabla_describe_pl=DF.groupby([\"ABANDONO\"]).size()\n",
        "tabla_describe_pl= tabla_describe_pl.reset_index(name=\"conteo\")\n",
        "fig= px.pie(tabla_describe_pl, values = \"conteo\", names = \"ABANDONO\", \n",
        "            title= \"El cliente abandono la compañia\")\n",
        "fig.show()"
      ],
      "metadata": {
        "colab": {
          "base_uri": "https://localhost:8080/",
          "height": 542
        },
        "id": "z_VfWenlH2z2",
        "outputId": "7b5cdf2b-0429-4d92-d91d-c281ea71678b"
      },
      "execution_count": 116,
      "outputs": [
        {
          "output_type": "display_data",
          "data": {
            "text/html": [
              "<html>\n",
              "<head><meta charset=\"utf-8\" /></head>\n",
              "<body>\n",
              "    <div>            <script src=\"https://cdnjs.cloudflare.com/ajax/libs/mathjax/2.7.5/MathJax.js?config=TeX-AMS-MML_SVG\"></script><script type=\"text/javascript\">if (window.MathJax) {MathJax.Hub.Config({SVG: {font: \"STIX-Web\"}});}</script>                <script type=\"text/javascript\">window.PlotlyConfig = {MathJaxConfig: 'local'};</script>\n",
              "        <script src=\"https://cdn.plot.ly/plotly-2.8.3.min.js\"></script>                <div id=\"0e4ce807-2c01-430d-8a38-1f59012950e4\" class=\"plotly-graph-div\" style=\"height:525px; width:100%;\"></div>            <script type=\"text/javascript\">                                    window.PLOTLYENV=window.PLOTLYENV || {};                                    if (document.getElementById(\"0e4ce807-2c01-430d-8a38-1f59012950e4\")) {                    Plotly.newPlot(                        \"0e4ce807-2c01-430d-8a38-1f59012950e4\",                        [{\"domain\":{\"x\":[0.0,1.0],\"y\":[0.0,1.0]},\"hovertemplate\":\"ABANDONO=%{label}<br>conteo=%{value}<extra></extra>\",\"labels\":[\"No\",\"Yes\"],\"legendgroup\":\"\",\"name\":\"\",\"showlegend\":true,\"values\":[5174,1869],\"type\":\"pie\"}],                        {\"template\":{\"data\":{\"bar\":[{\"error_x\":{\"color\":\"#2a3f5f\"},\"error_y\":{\"color\":\"#2a3f5f\"},\"marker\":{\"line\":{\"color\":\"#E5ECF6\",\"width\":0.5},\"pattern\":{\"fillmode\":\"overlay\",\"size\":10,\"solidity\":0.2}},\"type\":\"bar\"}],\"barpolar\":[{\"marker\":{\"line\":{\"color\":\"#E5ECF6\",\"width\":0.5},\"pattern\":{\"fillmode\":\"overlay\",\"size\":10,\"solidity\":0.2}},\"type\":\"barpolar\"}],\"carpet\":[{\"aaxis\":{\"endlinecolor\":\"#2a3f5f\",\"gridcolor\":\"white\",\"linecolor\":\"white\",\"minorgridcolor\":\"white\",\"startlinecolor\":\"#2a3f5f\"},\"baxis\":{\"endlinecolor\":\"#2a3f5f\",\"gridcolor\":\"white\",\"linecolor\":\"white\",\"minorgridcolor\":\"white\",\"startlinecolor\":\"#2a3f5f\"},\"type\":\"carpet\"}],\"choropleth\":[{\"colorbar\":{\"outlinewidth\":0,\"ticks\":\"\"},\"type\":\"choropleth\"}],\"contour\":[{\"colorbar\":{\"outlinewidth\":0,\"ticks\":\"\"},\"colorscale\":[[0.0,\"#0d0887\"],[0.1111111111111111,\"#46039f\"],[0.2222222222222222,\"#7201a8\"],[0.3333333333333333,\"#9c179e\"],[0.4444444444444444,\"#bd3786\"],[0.5555555555555556,\"#d8576b\"],[0.6666666666666666,\"#ed7953\"],[0.7777777777777778,\"#fb9f3a\"],[0.8888888888888888,\"#fdca26\"],[1.0,\"#f0f921\"]],\"type\":\"contour\"}],\"contourcarpet\":[{\"colorbar\":{\"outlinewidth\":0,\"ticks\":\"\"},\"type\":\"contourcarpet\"}],\"heatmap\":[{\"colorbar\":{\"outlinewidth\":0,\"ticks\":\"\"},\"colorscale\":[[0.0,\"#0d0887\"],[0.1111111111111111,\"#46039f\"],[0.2222222222222222,\"#7201a8\"],[0.3333333333333333,\"#9c179e\"],[0.4444444444444444,\"#bd3786\"],[0.5555555555555556,\"#d8576b\"],[0.6666666666666666,\"#ed7953\"],[0.7777777777777778,\"#fb9f3a\"],[0.8888888888888888,\"#fdca26\"],[1.0,\"#f0f921\"]],\"type\":\"heatmap\"}],\"heatmapgl\":[{\"colorbar\":{\"outlinewidth\":0,\"ticks\":\"\"},\"colorscale\":[[0.0,\"#0d0887\"],[0.1111111111111111,\"#46039f\"],[0.2222222222222222,\"#7201a8\"],[0.3333333333333333,\"#9c179e\"],[0.4444444444444444,\"#bd3786\"],[0.5555555555555556,\"#d8576b\"],[0.6666666666666666,\"#ed7953\"],[0.7777777777777778,\"#fb9f3a\"],[0.8888888888888888,\"#fdca26\"],[1.0,\"#f0f921\"]],\"type\":\"heatmapgl\"}],\"histogram\":[{\"marker\":{\"pattern\":{\"fillmode\":\"overlay\",\"size\":10,\"solidity\":0.2}},\"type\":\"histogram\"}],\"histogram2d\":[{\"colorbar\":{\"outlinewidth\":0,\"ticks\":\"\"},\"colorscale\":[[0.0,\"#0d0887\"],[0.1111111111111111,\"#46039f\"],[0.2222222222222222,\"#7201a8\"],[0.3333333333333333,\"#9c179e\"],[0.4444444444444444,\"#bd3786\"],[0.5555555555555556,\"#d8576b\"],[0.6666666666666666,\"#ed7953\"],[0.7777777777777778,\"#fb9f3a\"],[0.8888888888888888,\"#fdca26\"],[1.0,\"#f0f921\"]],\"type\":\"histogram2d\"}],\"histogram2dcontour\":[{\"colorbar\":{\"outlinewidth\":0,\"ticks\":\"\"},\"colorscale\":[[0.0,\"#0d0887\"],[0.1111111111111111,\"#46039f\"],[0.2222222222222222,\"#7201a8\"],[0.3333333333333333,\"#9c179e\"],[0.4444444444444444,\"#bd3786\"],[0.5555555555555556,\"#d8576b\"],[0.6666666666666666,\"#ed7953\"],[0.7777777777777778,\"#fb9f3a\"],[0.8888888888888888,\"#fdca26\"],[1.0,\"#f0f921\"]],\"type\":\"histogram2dcontour\"}],\"mesh3d\":[{\"colorbar\":{\"outlinewidth\":0,\"ticks\":\"\"},\"type\":\"mesh3d\"}],\"parcoords\":[{\"line\":{\"colorbar\":{\"outlinewidth\":0,\"ticks\":\"\"}},\"type\":\"parcoords\"}],\"pie\":[{\"automargin\":true,\"type\":\"pie\"}],\"scatter\":[{\"marker\":{\"colorbar\":{\"outlinewidth\":0,\"ticks\":\"\"}},\"type\":\"scatter\"}],\"scatter3d\":[{\"line\":{\"colorbar\":{\"outlinewidth\":0,\"ticks\":\"\"}},\"marker\":{\"colorbar\":{\"outlinewidth\":0,\"ticks\":\"\"}},\"type\":\"scatter3d\"}],\"scattercarpet\":[{\"marker\":{\"colorbar\":{\"outlinewidth\":0,\"ticks\":\"\"}},\"type\":\"scattercarpet\"}],\"scattergeo\":[{\"marker\":{\"colorbar\":{\"outlinewidth\":0,\"ticks\":\"\"}},\"type\":\"scattergeo\"}],\"scattergl\":[{\"marker\":{\"colorbar\":{\"outlinewidth\":0,\"ticks\":\"\"}},\"type\":\"scattergl\"}],\"scattermapbox\":[{\"marker\":{\"colorbar\":{\"outlinewidth\":0,\"ticks\":\"\"}},\"type\":\"scattermapbox\"}],\"scatterpolar\":[{\"marker\":{\"colorbar\":{\"outlinewidth\":0,\"ticks\":\"\"}},\"type\":\"scatterpolar\"}],\"scatterpolargl\":[{\"marker\":{\"colorbar\":{\"outlinewidth\":0,\"ticks\":\"\"}},\"type\":\"scatterpolargl\"}],\"scatterternary\":[{\"marker\":{\"colorbar\":{\"outlinewidth\":0,\"ticks\":\"\"}},\"type\":\"scatterternary\"}],\"surface\":[{\"colorbar\":{\"outlinewidth\":0,\"ticks\":\"\"},\"colorscale\":[[0.0,\"#0d0887\"],[0.1111111111111111,\"#46039f\"],[0.2222222222222222,\"#7201a8\"],[0.3333333333333333,\"#9c179e\"],[0.4444444444444444,\"#bd3786\"],[0.5555555555555556,\"#d8576b\"],[0.6666666666666666,\"#ed7953\"],[0.7777777777777778,\"#fb9f3a\"],[0.8888888888888888,\"#fdca26\"],[1.0,\"#f0f921\"]],\"type\":\"surface\"}],\"table\":[{\"cells\":{\"fill\":{\"color\":\"#EBF0F8\"},\"line\":{\"color\":\"white\"}},\"header\":{\"fill\":{\"color\":\"#C8D4E3\"},\"line\":{\"color\":\"white\"}},\"type\":\"table\"}]},\"layout\":{\"annotationdefaults\":{\"arrowcolor\":\"#2a3f5f\",\"arrowhead\":0,\"arrowwidth\":1},\"autotypenumbers\":\"strict\",\"coloraxis\":{\"colorbar\":{\"outlinewidth\":0,\"ticks\":\"\"}},\"colorscale\":{\"diverging\":[[0,\"#8e0152\"],[0.1,\"#c51b7d\"],[0.2,\"#de77ae\"],[0.3,\"#f1b6da\"],[0.4,\"#fde0ef\"],[0.5,\"#f7f7f7\"],[0.6,\"#e6f5d0\"],[0.7,\"#b8e186\"],[0.8,\"#7fbc41\"],[0.9,\"#4d9221\"],[1,\"#276419\"]],\"sequential\":[[0.0,\"#0d0887\"],[0.1111111111111111,\"#46039f\"],[0.2222222222222222,\"#7201a8\"],[0.3333333333333333,\"#9c179e\"],[0.4444444444444444,\"#bd3786\"],[0.5555555555555556,\"#d8576b\"],[0.6666666666666666,\"#ed7953\"],[0.7777777777777778,\"#fb9f3a\"],[0.8888888888888888,\"#fdca26\"],[1.0,\"#f0f921\"]],\"sequentialminus\":[[0.0,\"#0d0887\"],[0.1111111111111111,\"#46039f\"],[0.2222222222222222,\"#7201a8\"],[0.3333333333333333,\"#9c179e\"],[0.4444444444444444,\"#bd3786\"],[0.5555555555555556,\"#d8576b\"],[0.6666666666666666,\"#ed7953\"],[0.7777777777777778,\"#fb9f3a\"],[0.8888888888888888,\"#fdca26\"],[1.0,\"#f0f921\"]]},\"colorway\":[\"#636efa\",\"#EF553B\",\"#00cc96\",\"#ab63fa\",\"#FFA15A\",\"#19d3f3\",\"#FF6692\",\"#B6E880\",\"#FF97FF\",\"#FECB52\"],\"font\":{\"color\":\"#2a3f5f\"},\"geo\":{\"bgcolor\":\"white\",\"lakecolor\":\"white\",\"landcolor\":\"#E5ECF6\",\"showlakes\":true,\"showland\":true,\"subunitcolor\":\"white\"},\"hoverlabel\":{\"align\":\"left\"},\"hovermode\":\"closest\",\"mapbox\":{\"style\":\"light\"},\"paper_bgcolor\":\"white\",\"plot_bgcolor\":\"#E5ECF6\",\"polar\":{\"angularaxis\":{\"gridcolor\":\"white\",\"linecolor\":\"white\",\"ticks\":\"\"},\"bgcolor\":\"#E5ECF6\",\"radialaxis\":{\"gridcolor\":\"white\",\"linecolor\":\"white\",\"ticks\":\"\"}},\"scene\":{\"xaxis\":{\"backgroundcolor\":\"#E5ECF6\",\"gridcolor\":\"white\",\"gridwidth\":2,\"linecolor\":\"white\",\"showbackground\":true,\"ticks\":\"\",\"zerolinecolor\":\"white\"},\"yaxis\":{\"backgroundcolor\":\"#E5ECF6\",\"gridcolor\":\"white\",\"gridwidth\":2,\"linecolor\":\"white\",\"showbackground\":true,\"ticks\":\"\",\"zerolinecolor\":\"white\"},\"zaxis\":{\"backgroundcolor\":\"#E5ECF6\",\"gridcolor\":\"white\",\"gridwidth\":2,\"linecolor\":\"white\",\"showbackground\":true,\"ticks\":\"\",\"zerolinecolor\":\"white\"}},\"shapedefaults\":{\"line\":{\"color\":\"#2a3f5f\"}},\"ternary\":{\"aaxis\":{\"gridcolor\":\"white\",\"linecolor\":\"white\",\"ticks\":\"\"},\"baxis\":{\"gridcolor\":\"white\",\"linecolor\":\"white\",\"ticks\":\"\"},\"bgcolor\":\"#E5ECF6\",\"caxis\":{\"gridcolor\":\"white\",\"linecolor\":\"white\",\"ticks\":\"\"}},\"title\":{\"x\":0.05},\"xaxis\":{\"automargin\":true,\"gridcolor\":\"white\",\"linecolor\":\"white\",\"ticks\":\"\",\"title\":{\"standoff\":15},\"zerolinecolor\":\"white\",\"zerolinewidth\":2},\"yaxis\":{\"automargin\":true,\"gridcolor\":\"white\",\"linecolor\":\"white\",\"ticks\":\"\",\"title\":{\"standoff\":15},\"zerolinecolor\":\"white\",\"zerolinewidth\":2}}},\"legend\":{\"tracegroupgap\":0},\"title\":{\"text\":\"El cliente abandono la compa\\u00f1ia\"}},                        {\"responsive\": true}                    ).then(function(){\n",
              "                            \n",
              "var gd = document.getElementById('0e4ce807-2c01-430d-8a38-1f59012950e4');\n",
              "var x = new MutationObserver(function (mutations, observer) {{\n",
              "        var display = window.getComputedStyle(gd).display;\n",
              "        if (!display || display === 'none') {{\n",
              "            console.log([gd, 'removed!']);\n",
              "            Plotly.purge(gd);\n",
              "            observer.disconnect();\n",
              "        }}\n",
              "}});\n",
              "\n",
              "// Listen for the removal of the full notebook cells\n",
              "var notebookContainer = gd.closest('#notebook-container');\n",
              "if (notebookContainer) {{\n",
              "    x.observe(notebookContainer, {childList: true});\n",
              "}}\n",
              "\n",
              "// Listen for the clearing of the current output cell\n",
              "var outputEl = gd.closest('.output');\n",
              "if (outputEl) {{\n",
              "    x.observe(outputEl, {childList: true});\n",
              "}}\n",
              "\n",
              "                        })                };                            </script>        </div>\n",
              "</body>\n",
              "</html>"
            ]
          },
          "metadata": {}
        }
      ]
    },
    {
      "cell_type": "markdown",
      "source": [
        "#- CORRELACIONES "
      ],
      "metadata": {
        "id": "_9AF8L20Q3J2"
      }
    },
    {
      "cell_type": "code",
      "source": [
        "# Mapa de correlacion variables cualitativas\n",
        "correlacion_pearson = DF.corr()\n",
        "correlacion_pearson\n",
        "sns.heatmap(correlacion_pearson, xticklabels=correlacion_pearson.columns.values, yticklabels=correlacion_pearson.columns.values,  cmap=\"Blues\", annot = True)\n",
        "plt.title(\"Mapa de Correlación de pearson\")\n",
        "plt.show()"
      ],
      "metadata": {
        "colab": {
          "base_uri": "https://localhost:8080/",
          "height": 387
        },
        "id": "xHy6gwlNKHO4",
        "outputId": "dd23a10f-7295-42ad-f991-b53a07cb9128"
      },
      "execution_count": 117,
      "outputs": [
        {
          "output_type": "display_data",
          "data": {
            "text/plain": [
              "<Figure size 432x288 with 2 Axes>"
            ],
            "image/png": "[encoded data removed]"
          },
          "metadata": {
            "needs_background": "light"
          }
        }
      ]
    },
    {
      "cell_type": "code",
      "source": [
        "#  Analisis bivariado \n",
        "comportamiento = DF[[\"MESES_COMO_CLIENTE\", \"COBRO_MENSUAL\", \"COBRO_TOTAL\", \"ABANDONO\"]]\n",
        "sns.pairplot(comportamiento, hue='ABANDONO')"
      ],
      "metadata": {
        "colab": {
          "base_uri": "https://localhost:8080/",
          "height": 567
        },
        "id": "BxxFpji0NxWW",
        "outputId": "77340016-cb8f-4dde-8062-21bc7721e9a1"
      },
      "execution_count": 118,
      "outputs": [
        {
          "output_type": "execute_result",
          "data": {
            "text/plain": [
              "<seaborn.axisgrid.PairGrid at 0x7f4212b8bc70>"
            ]
          },
          "metadata": {},
          "execution_count": 118
        },
        {
          "output_type": "display_data",
          "data": {
            "text/plain": [
              "<Figure size 606.875x540 with 12 Axes>"
            ],
            "image/png": "[encoded data removed]"
          },
          "metadata": {
            "needs_background": "light"
          }
        }
      ]
    },
    {
      "cell_type": "markdown",
      "source": [
        "- Se observa que entre menor tiempo tiene el cliente como cliente en la compañía mayor es la probabilidad de abandono. Por su parte, existe una importante correlación positiva entre los meses que llevan los usuarios como clientes de la compañía y el cobro total realizado a los mismos. En donde a mayor tiempo en la compañía mayor será el cobro total realizado.\n",
        " \n",
        "- Por su parte entre mayor es el cobro mensual efectuado por el cliente la probabilidad de que el cliente abandone la compañía aumenta. \n",
        "\n",
        "-  No existe una correlación significativa entre los meses que el cliente lleva en la compañía con el cobro que se le realiza de forma mensual. \n",
        "\n",
        "- Los clientes con un cobro total mas bajo tienen mayor probabilidad de fuga, existe una correlación positiva entre el cobro mensual y el cobro total, en donde entre mayor es el importe mensual que debe pagar el cliente mayor es la probabilidad que el cobro total que recaude la compañía aumente. \n"
      ],
      "metadata": {
        "id": "28v0ipM7D4IF"
      }
    },
    {
      "cell_type": "markdown",
      "source": [
        "# RELACIONES JERARQUICAS"
      ],
      "metadata": {
        "id": "4UAsnfmsLKKu"
      }
    },
    {
      "cell_type": "markdown",
      "source": [
        "![Diagrama Jerarquico.drawio (3).png](data:image/png;base64,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)"
      ],
      "metadata": {
        "id": "H4_TjuYbNr6W"
      }
    },
    {
      "cell_type": "markdown",
      "source": [
        ">> Existe una relación jerárquica entre la variable meses como cliente y cobro total , toda vez que si el cliente tiene menos de un mes como cliente no existirá cobro total efectuado al cliente. "
      ],
      "metadata": {
        "id": "lbkwUwZENxFO"
      }
    },
    {
      "cell_type": "markdown",
      "source": [
        "![diagrama_telefonia.drawio.png](data:image/png;base64,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)"
      ],
      "metadata": {
        "id": "WlxoggRvREW2"
      }
    },
    {
      "cell_type": "markdown",
      "source": [
        ">> Existe una relación jerárquica entre si el cliente tiene servicio de telefonía y si el cliente tiene varias líneas, ningún cliente sin servicio telefónico podrá tener varias líneas. "
      ],
      "metadata": {
        "id": "3Fu7xWqCOlS-"
      }
    },
    {
      "cell_type": "markdown",
      "source": [
        "![diagrma_internet.drawio.png](data:image/png;base64,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)"
      ],
      "metadata": {
        "id": "tQp0ro5QRoa4"
      }
    },
    {
      "cell_type": "markdown",
      "source": [
        ">> Los servicios de seguridad en línea – copia de seguridad – protección del dispositivo – soporte técnico – servicio de tv y servicios de streaming son servicios que dependen de que el cliente tenga activo servicios de internet con la compañía, por lo tanto un cliente que en la variable tipo de internet tenga la categoría no, no puede tener ninguno de estos servicios activos. "
      ],
      "metadata": {
        "id": "h9jX-Jt-XjmA"
      }
    },
    {
      "cell_type": "markdown",
      "source": [
        "## VERIFICACION DE LAS REGLAS JERARQUICAS"
      ],
      "metadata": {
        "id": "FnnmNtucYhjv"
      }
    },
    {
      "cell_type": "code",
      "source": [
        "# Regla 1 si meses_como_cliente < 1 ENTONCES cobro total == 0 \n",
        "jerarquia = pd.crosstab(index=[DF[\"MESES_COMO_CLIENTE\"] < 1], columns= DF[\"COBRO_TOTAL\"] ==0.0,\n",
        "                        values = DF[\"ID_CLIENTE\"], aggfunc=\"count\", margins=True, \n",
        "                        rownames = [\"Tiene mmenos de 1 mes\"], colnames = [\"no se le hizo cobro\"])\n",
        "jerarquia"
      ],
      "metadata": {
        "colab": {
          "base_uri": "https://localhost:8080/",
          "height": 175
        },
        "id": "kpRe9UgkLzlO",
        "outputId": "5cc4c1b0-09a5-4099-bc98-3b2126b32291"
      },
      "execution_count": 119,
      "outputs": [
        {
          "output_type": "execute_result",
          "data": {
            "text/plain": [
              "no se le hizo cobro     False  True   All\n",
              "Tiene mmenos de 1 mes                    \n",
              "False                  7032.0   NaN  7032\n",
              "True                      NaN  11.0    11\n",
              "All                    7032.0  11.0  7043"
            ],
            "text/html": [
              "\n",
              "  <div id=\"df-a778916f-4cef-482a-905e-88c9f1b41ebe\">\n",
              "    <div class=\"colab-df-container\">\n",
              "      <div>\n",
              "<style scoped>\n",
              "    .dataframe tbody tr th:only-of-type {\n",
              "        vertical-align: middle;\n",
              "    }\n",
              "\n",
              "    .dataframe tbody tr th {\n",
              "        vertical-align: top;\n",
              "    }\n",
              "\n",
              "    .dataframe thead th {\n",
              "        text-align: right;\n",
              "    }\n",
              "</style>\n",
              "<table border=\"1\" class=\"dataframe\">\n",
              "  <thead>\n",
              "    <tr style=\"text-align: right;\">\n",
              "      <th>no se le hizo cobro</th>\n",
              "      <th>False</th>\n",
              "      <th>True</th>\n",
              "      <th>All</th>\n",
              "    </tr>\n",
              "    <tr>\n",
              "      <th>Tiene mmenos de 1 mes</th>\n",
              "      <th></th>\n",
              "      <th></th>\n",
              "      <th></th>\n",
              "    </tr>\n",
              "  </thead>\n",
              "  <tbody>\n",
              "    <tr>\n",
              "      <th>False</th>\n",
              "      <td>7032.0</td>\n",
              "      <td>NaN</td>\n",
              "      <td>7032</td>\n",
              "    </tr>\n",
              "    <tr>\n",
              "      <th>True</th>\n",
              "      <td>NaN</td>\n",
              "      <td>11.0</td>\n",
              "      <td>11</td>\n",
              "    </tr>\n",
              "    <tr>\n",
              "      <th>All</th>\n",
              "      <td>7032.0</td>\n",
              "      <td>11.0</td>\n",
              "      <td>7043</td>\n",
              "    </tr>\n",
              "  </tbody>\n",
              "</table>\n",
              "</div>\n",
              "      <button class=\"colab-df-convert\" onclick=\"convertToInteractive('df-a778916f-4cef-482a-905e-88c9f1b41ebe')\"\n",
              "              title=\"Convert this dataframe to an interactive table.\"\n",
              "              style=\"display:none;\">\n",
              "        \n",
              "  <svg xmlns=\"http://www.w3.org/2000/svg\" height=\"24px\"viewBox=\"0 0 24 24\"\n",
              "       width=\"24px\">\n",
              "    <path d=\"M0 0h24v24H0V0z\" fill=\"none\"/>\n",
              "    <path d=\"M18.56 5.44l.94 2.06.94-2.06 2.06-.94-2.06-.94-.94-2.06-.94 2.06-2.06.94zm-11 1L8.5 8.5l.94-2.06 2.06-.94-2.06-.94L8.5 2.5l-.94 2.06-2.06.94zm10 10l.94 2.06.94-2.06 2.06-.94-2.06-.94-.94-2.06-.94 2.06-2.06.94z\"/><path d=\"M17.41 7.96l-1.37-1.37c-.4-.4-.92-.59-1.43-.59-.52 0-1.04.2-1.43.59L10.3 9.45l-7.72 7.72c-.78.78-.78 2.05 0 2.83L4 21.41c.39.39.9.59 1.41.59.51 0 1.02-.2 1.41-.59l7.78-7.78 2.81-2.81c.8-.78.8-2.07 0-2.86zM5.41 20L4 18.59l7.72-7.72 1.47 1.35L5.41 20z\"/>\n",
              "  </svg>\n",
              "      </button>\n",
              "      \n",
              "  <style>\n",
              "    .colab-df-container {\n",
              "      display:flex;\n",
              "      flex-wrap:wrap;\n",
              "      gap: 12px;\n",
              "    }\n",
              "\n",
              "    .colab-df-convert {\n",
              "      background-color: #E8F0FE;\n",
              "      border: none;\n",
              "      border-radius: 50%;\n",
              "      cursor: pointer;\n",
              "      display: none;\n",
              "      fill: #1967D2;\n",
              "      height: 32px;\n",
              "      padding: 0 0 0 0;\n",
              "      width: 32px;\n",
              "    }\n",
              "\n",
              "    .colab-df-convert:hover {\n",
              "      background-color: #E2EBFA;\n",
              "      box-shadow: 0px 1px 2px rgba(60, 64, 67, 0.3), 0px 1px 3px 1px rgba(60, 64, 67, 0.15);\n",
              "      fill: #174EA6;\n",
              "    }\n",
              "\n",
              "    [theme=dark] .colab-df-convert {\n",
              "      background-color: #3B4455;\n",
              "      fill: #D2E3FC;\n",
              "    }\n",
              "\n",
              "    [theme=dark] .colab-df-convert:hover {\n",
              "      background-color: #434B5C;\n",
              "      box-shadow: 0px 1px 3px 1px rgba(0, 0, 0, 0.15);\n",
              "      filter: drop-shadow(0px 1px 2px rgba(0, 0, 0, 0.3));\n",
              "      fill: #FFFFFF;\n",
              "    }\n",
              "  </style>\n",
              "\n",
              "      <script>\n",
              "        const buttonEl =\n",
              "          document.querySelector('#df-a778916f-4cef-482a-905e-88c9f1b41ebe button.colab-df-convert');\n",
              "        buttonEl.style.display =\n",
              "          google.colab.kernel.accessAllowed ? 'block' : 'none';\n",
              "\n",
              "        async function convertToInteractive(key) {\n",
              "          const element = document.querySelector('#df-a778916f-4cef-482a-905e-88c9f1b41ebe');\n",
              "          const dataTable =\n",
              "            await google.colab.kernel.invokeFunction('convertToInteractive',\n",
              "                                                     [key], {});\n",
              "          if (!dataTable) return;\n",
              "\n",
              "          const docLinkHtml = 'Like what you see? Visit the ' +\n",
              "            '<a target=\"_blank\" href=https://colab.research.google.com/notebooks/data_table.ipynb>data table notebook</a>'\n",
              "            + ' to learn more about interactive tables.';\n",
              "          element.innerHTML = '';\n",
              "          dataTable['output_type'] = 'display_data';\n",
              "          await google.colab.output.renderOutput(dataTable, element);\n",
              "          const docLink = document.createElement('div');\n",
              "          docLink.innerHTML = docLinkHtml;\n",
              "          element.appendChild(docLink);\n",
              "        }\n",
              "      </script>\n",
              "    </div>\n",
              "  </div>\n",
              "  "
            ]
          },
          "metadata": {},
          "execution_count": 119
        }
      ]
    },
    {
      "cell_type": "markdown",
      "source": [
        ">> Observamos que los datos guardan validez respecto a esta regla jerárquica, no existe ningún cliente que tenga menos de un mes en la compañía al cual se le haya ejecutado algún cobro"
      ],
      "metadata": {
        "id": "DpjNEMMcggro"
      }
    },
    {
      "cell_type": "code",
      "source": [
        "# Regla 2 -> si tiene_telefonia == no ENTONCES varias_lineas == no phone service\n",
        "jerarquia1 = pd.crosstab(index=[DF[\"TIENE_TELEFONIA\"]], columns= DF[\"VARIAS_LINEAS\"],\n",
        "                        values = DF[\"ID_CLIENTE\"], aggfunc=\"count\", margins=True)\n",
        "jerarquia1"
      ],
      "metadata": {
        "colab": {
          "base_uri": "https://localhost:8080/",
          "height": 175
        },
        "id": "tTHbCiB3hEAL",
        "outputId": "7d1b99c4-5c01-425c-c521-aea3135ea71c"
      },
      "execution_count": 120,
      "outputs": [
        {
          "output_type": "execute_result",
          "data": {
            "text/plain": [
              "VARIAS_LINEAS        No  No phone service     Yes   All\n",
              "TIENE_TELEFONIA                                        \n",
              "No                  NaN             682.0     NaN   682\n",
              "Yes              3390.0               NaN  2971.0  6361\n",
              "All              3390.0             682.0  2971.0  7043"
            ],
            "text/html": [
              "\n",
              "  <div id=\"df-2e6addbb-c92f-4cde-ac5f-9ae3f670996b\">\n",
              "    <div class=\"colab-df-container\">\n",
              "      <div>\n",
              "<style scoped>\n",
              "    .dataframe tbody tr th:only-of-type {\n",
              "        vertical-align: middle;\n",
              "    }\n",
              "\n",
              "    .dataframe tbody tr th {\n",
              "        vertical-align: top;\n",
              "    }\n",
              "\n",
              "    .dataframe thead th {\n",
              "        text-align: right;\n",
              "    }\n",
              "</style>\n",
              "<table border=\"1\" class=\"dataframe\">\n",
              "  <thead>\n",
              "    <tr style=\"text-align: right;\">\n",
              "      <th>VARIAS_LINEAS</th>\n",
              "      <th>No</th>\n",
              "      <th>No phone service</th>\n",
              "      <th>Yes</th>\n",
              "      <th>All</th>\n",
              "    </tr>\n",
              "    <tr>\n",
              "      <th>TIENE_TELEFONIA</th>\n",
              "      <th></th>\n",
              "      <th></th>\n",
              "      <th></th>\n",
              "      <th></th>\n",
              "    </tr>\n",
              "  </thead>\n",
              "  <tbody>\n",
              "    <tr>\n",
              "      <th>No</th>\n",
              "      <td>NaN</td>\n",
              "      <td>682.0</td>\n",
              "      <td>NaN</td>\n",
              "      <td>682</td>\n",
              "    </tr>\n",
              "    <tr>\n",
              "      <th>Yes</th>\n",
              "      <td>3390.0</td>\n",
              "      <td>NaN</td>\n",
              "      <td>2971.0</td>\n",
              "      <td>6361</td>\n",
              "    </tr>\n",
              "    <tr>\n",
              "      <th>All</th>\n",
              "      <td>3390.0</td>\n",
              "      <td>682.0</td>\n",
              "      <td>2971.0</td>\n",
              "      <td>7043</td>\n",
              "    </tr>\n",
              "  </tbody>\n",
              "</table>\n",
              "</div>\n",
              "      <button class=\"colab-df-convert\" onclick=\"convertToInteractive('df-2e6addbb-c92f-4cde-ac5f-9ae3f670996b')\"\n",
              "              title=\"Convert this dataframe to an interactive table.\"\n",
              "              style=\"display:none;\">\n",
              "        \n",
              "  <svg xmlns=\"http://www.w3.org/2000/svg\" height=\"24px\"viewBox=\"0 0 24 24\"\n",
              "       width=\"24px\">\n",
              "    <path d=\"M0 0h24v24H0V0z\" fill=\"none\"/>\n",
              "    <path d=\"M18.56 5.44l.94 2.06.94-2.06 2.06-.94-2.06-.94-.94-2.06-.94 2.06-2.06.94zm-11 1L8.5 8.5l.94-2.06 2.06-.94-2.06-.94L8.5 2.5l-.94 2.06-2.06.94zm10 10l.94 2.06.94-2.06 2.06-.94-2.06-.94-.94-2.06-.94 2.06-2.06.94z\"/><path d=\"M17.41 7.96l-1.37-1.37c-.4-.4-.92-.59-1.43-.59-.52 0-1.04.2-1.43.59L10.3 9.45l-7.72 7.72c-.78.78-.78 2.05 0 2.83L4 21.41c.39.39.9.59 1.41.59.51 0 1.02-.2 1.41-.59l7.78-7.78 2.81-2.81c.8-.78.8-2.07 0-2.86zM5.41 20L4 18.59l7.72-7.72 1.47 1.35L5.41 20z\"/>\n",
              "  </svg>\n",
              "      </button>\n",
              "      \n",
              "  <style>\n",
              "    .colab-df-container {\n",
              "      display:flex;\n",
              "      flex-wrap:wrap;\n",
              "      gap: 12px;\n",
              "    }\n",
              "\n",
              "    .colab-df-convert {\n",
              "      background-color: #E8F0FE;\n",
              "      border: none;\n",
              "      border-radius: 50%;\n",
              "      cursor: pointer;\n",
              "      display: none;\n",
              "      fill: #1967D2;\n",
              "      height: 32px;\n",
              "      padding: 0 0 0 0;\n",
              "      width: 32px;\n",
              "    }\n",
              "\n",
              "    .colab-df-convert:hover {\n",
              "      background-color: #E2EBFA;\n",
              "      box-shadow: 0px 1px 2px rgba(60, 64, 67, 0.3), 0px 1px 3px 1px rgba(60, 64, 67, 0.15);\n",
              "      fill: #174EA6;\n",
              "    }\n",
              "\n",
              "    [theme=dark] .colab-df-convert {\n",
              "      background-color: #3B4455;\n",
              "      fill: #D2E3FC;\n",
              "    }\n",
              "\n",
              "    [theme=dark] .colab-df-convert:hover {\n",
              "      background-color: #434B5C;\n",
              "      box-shadow: 0px 1px 3px 1px rgba(0, 0, 0, 0.15);\n",
              "      filter: drop-shadow(0px 1px 2px rgba(0, 0, 0, 0.3));\n",
              "      fill: #FFFFFF;\n",
              "    }\n",
              "  </style>\n",
              "\n",
              "      <script>\n",
              "        const buttonEl =\n",
              "          document.querySelector('#df-2e6addbb-c92f-4cde-ac5f-9ae3f670996b button.colab-df-convert');\n",
              "        buttonEl.style.display =\n",
              "          google.colab.kernel.accessAllowed ? 'block' : 'none';\n",
              "\n",
              "        async function convertToInteractive(key) {\n",
              "          const element = document.querySelector('#df-2e6addbb-c92f-4cde-ac5f-9ae3f670996b');\n",
              "          const dataTable =\n",
              "            await google.colab.kernel.invokeFunction('convertToInteractive',\n",
              "                                                     [key], {});\n",
              "          if (!dataTable) return;\n",
              "\n",
              "          const docLinkHtml = 'Like what you see? Visit the ' +\n",
              "            '<a target=\"_blank\" href=https://colab.research.google.com/notebooks/data_table.ipynb>data table notebook</a>'\n",
              "            + ' to learn more about interactive tables.';\n",
              "          element.innerHTML = '';\n",
              "          dataTable['output_type'] = 'display_data';\n",
              "          await google.colab.output.renderOutput(dataTable, element);\n",
              "          const docLink = document.createElement('div');\n",
              "          docLink.innerHTML = docLinkHtml;\n",
              "          element.appendChild(docLink);\n",
              "        }\n",
              "      </script>\n",
              "    </div>\n",
              "  </div>\n",
              "  "
            ]
          },
          "metadata": {},
          "execution_count": 120
        }
      ]
    },
    {
      "cell_type": "markdown",
      "source": [
        ">> La regla jerárquica se cumple, ya que, los 682 clientes que no tienen servicio de telefonía con la compañía registran en la categoría no phone service en la variable varias líneas. "
      ],
      "metadata": {
        "id": "tt-UkaI5iy8Z"
      }
    },
    {
      "cell_type": "code",
      "source": [
        "# Regla 3 -> SI TIPO_INTERNET == No ENTONCES SEGURIDAD EN LINEA == No internet service\n",
        "jerarquia2 = pd.crosstab(index=[DF[\"TIPO_INTERNET\"]], columns= DF[\"SEGURIDAD_EN_LINEA\"],\n",
        "                        values = DF[\"ID_CLIENTE\"], aggfunc=\"count\", margins=True)\n",
        "jerarquia2"
      ],
      "metadata": {
        "colab": {
          "base_uri": "https://localhost:8080/",
          "height": 206
        },
        "id": "J4EnzpMljkND",
        "outputId": "6d9e0138-e298-4e92-d9d3-24d471005065"
      },
      "execution_count": 121,
      "outputs": [
        {
          "output_type": "execute_result",
          "data": {
            "text/plain": [
              "SEGURIDAD_EN_LINEA      No  No internet service     Yes   All\n",
              "TIPO_INTERNET                                                \n",
              "DSL                 1241.0                  NaN  1180.0  2421\n",
              "Fiber optic         2257.0                  NaN   839.0  3096\n",
              "No                     NaN               1526.0     NaN  1526\n",
              "All                 3498.0               1526.0  2019.0  7043"
            ],
            "text/html": [
              "\n",
              "  <div id=\"df-039eac81-fe73-40fd-b180-15c68c1e5b77\">\n",
              "    <div class=\"colab-df-container\">\n",
              "      <div>\n",
              "<style scoped>\n",
              "    .dataframe tbody tr th:only-of-type {\n",
              "        vertical-align: middle;\n",
              "    }\n",
              "\n",
              "    .dataframe tbody tr th {\n",
              "        vertical-align: top;\n",
              "    }\n",
              "\n",
              "    .dataframe thead th {\n",
              "        text-align: right;\n",
              "    }\n",
              "</style>\n",
              "<table border=\"1\" class=\"dataframe\">\n",
              "  <thead>\n",
              "    <tr style=\"text-align: right;\">\n",
              "      <th>SEGURIDAD_EN_LINEA</th>\n",
              "      <th>No</th>\n",
              "      <th>No internet service</th>\n",
              "      <th>Yes</th>\n",
              "      <th>All</th>\n",
              "    </tr>\n",
              "    <tr>\n",
              "      <th>TIPO_INTERNET</th>\n",
              "      <th></th>\n",
              "      <th></th>\n",
              "      <th></th>\n",
              "      <th></th>\n",
              "    </tr>\n",
              "  </thead>\n",
              "  <tbody>\n",
              "    <tr>\n",
              "      <th>DSL</th>\n",
              "      <td>1241.0</td>\n",
              "      <td>NaN</td>\n",
              "      <td>1180.0</td>\n",
              "      <td>2421</td>\n",
              "    </tr>\n",
              "    <tr>\n",
              "      <th>Fiber optic</th>\n",
              "      <td>2257.0</td>\n",
              "      <td>NaN</td>\n",
              "      <td>839.0</td>\n",
              "      <td>3096</td>\n",
              "    </tr>\n",
              "    <tr>\n",
              "      <th>No</th>\n",
              "      <td>NaN</td>\n",
              "      <td>1526.0</td>\n",
              "      <td>NaN</td>\n",
              "      <td>1526</td>\n",
              "    </tr>\n",
              "    <tr>\n",
              "      <th>All</th>\n",
              "      <td>3498.0</td>\n",
              "      <td>1526.0</td>\n",
              "      <td>2019.0</td>\n",
              "      <td>7043</td>\n",
              "    </tr>\n",
              "  </tbody>\n",
              "</table>\n",
              "</div>\n",
              "      <button class=\"colab-df-convert\" onclick=\"convertToInteractive('df-039eac81-fe73-40fd-b180-15c68c1e5b77')\"\n",
              "              title=\"Convert this dataframe to an interactive table.\"\n",
              "              style=\"display:none;\">\n",
              "        \n",
              "  <svg xmlns=\"http://www.w3.org/2000/svg\" height=\"24px\"viewBox=\"0 0 24 24\"\n",
              "       width=\"24px\">\n",
              "    <path d=\"M0 0h24v24H0V0z\" fill=\"none\"/>\n",
              "    <path d=\"M18.56 5.44l.94 2.06.94-2.06 2.06-.94-2.06-.94-.94-2.06-.94 2.06-2.06.94zm-11 1L8.5 8.5l.94-2.06 2.06-.94-2.06-.94L8.5 2.5l-.94 2.06-2.06.94zm10 10l.94 2.06.94-2.06 2.06-.94-2.06-.94-.94-2.06-.94 2.06-2.06.94z\"/><path d=\"M17.41 7.96l-1.37-1.37c-.4-.4-.92-.59-1.43-.59-.52 0-1.04.2-1.43.59L10.3 9.45l-7.72 7.72c-.78.78-.78 2.05 0 2.83L4 21.41c.39.39.9.59 1.41.59.51 0 1.02-.2 1.41-.59l7.78-7.78 2.81-2.81c.8-.78.8-2.07 0-2.86zM5.41 20L4 18.59l7.72-7.72 1.47 1.35L5.41 20z\"/>\n",
              "  </svg>\n",
              "      </button>\n",
              "      \n",
              "  <style>\n",
              "    .colab-df-container {\n",
              "      display:flex;\n",
              "      flex-wrap:wrap;\n",
              "      gap: 12px;\n",
              "    }\n",
              "\n",
              "    .colab-df-convert {\n",
              "      background-color: #E8F0FE;\n",
              "      border: none;\n",
              "      border-radius: 50%;\n",
              "      cursor: pointer;\n",
              "      display: none;\n",
              "      fill: #1967D2;\n",
              "      height: 32px;\n",
              "      padding: 0 0 0 0;\n",
              "      width: 32px;\n",
              "    }\n",
              "\n",
              "    .colab-df-convert:hover {\n",
              "      background-color: #E2EBFA;\n",
              "      box-shadow: 0px 1px 2px rgba(60, 64, 67, 0.3), 0px 1px 3px 1px rgba(60, 64, 67, 0.15);\n",
              "      fill: #174EA6;\n",
              "    }\n",
              "\n",
              "    [theme=dark] .colab-df-convert {\n",
              "      background-color: #3B4455;\n",
              "      fill: #D2E3FC;\n",
              "    }\n",
              "\n",
              "    [theme=dark] .colab-df-convert:hover {\n",
              "      background-color: #434B5C;\n",
              "      box-shadow: 0px 1px 3px 1px rgba(0, 0, 0, 0.15);\n",
              "      filter: drop-shadow(0px 1px 2px rgba(0, 0, 0, 0.3));\n",
              "      fill: #FFFFFF;\n",
              "    }\n",
              "  </style>\n",
              "\n",
              "      <script>\n",
              "        const buttonEl =\n",
              "          document.querySelector('#df-039eac81-fe73-40fd-b180-15c68c1e5b77 button.colab-df-convert');\n",
              "        buttonEl.style.display =\n",
              "          google.colab.kernel.accessAllowed ? 'block' : 'none';\n",
              "\n",
              "        async function convertToInteractive(key) {\n",
              "          const element = document.querySelector('#df-039eac81-fe73-40fd-b180-15c68c1e5b77');\n",
              "          const dataTable =\n",
              "            await google.colab.kernel.invokeFunction('convertToInteractive',\n",
              "                                                     [key], {});\n",
              "          if (!dataTable) return;\n",
              "\n",
              "          const docLinkHtml = 'Like what you see? Visit the ' +\n",
              "            '<a target=\"_blank\" href=https://colab.research.google.com/notebooks/data_table.ipynb>data table notebook</a>'\n",
              "            + ' to learn more about interactive tables.';\n",
              "          element.innerHTML = '';\n",
              "          dataTable['output_type'] = 'display_data';\n",
              "          await google.colab.output.renderOutput(dataTable, element);\n",
              "          const docLink = document.createElement('div');\n",
              "          docLink.innerHTML = docLinkHtml;\n",
              "          element.appendChild(docLink);\n",
              "        }\n",
              "      </script>\n",
              "    </div>\n",
              "  </div>\n",
              "  "
            ]
          },
          "metadata": {},
          "execution_count": 121
        }
      ]
    },
    {
      "cell_type": "markdown",
      "source": [
        ">> Se cumple la regla jerárquica no existe ningún cliente sin servicio a internet que posea el servicio de seguridad en línea "
      ],
      "metadata": {
        "id": "jGnf8B5QomA5"
      }
    },
    {
      "cell_type": "code",
      "source": [
        "# Regla 4 -> SI TIPO_INTERNET == No entonces copia de seguridad == No internet service\n",
        "jerarquia3 = pd.crosstab(index=[DF[\"TIPO_INTERNET\"]], columns= DF[\"COPIA_DE_SEGURIDAD\"],\n",
        "                        values = DF[\"ID_CLIENTE\"], aggfunc=\"count\", margins=True)\n",
        "jerarquia3"
      ],
      "metadata": {
        "colab": {
          "base_uri": "https://localhost:8080/",
          "height": 206
        },
        "id": "o5bbRxPhlQqB",
        "outputId": "0822a204-4ebe-4d3f-8ef1-ae11bc221083"
      },
      "execution_count": 122,
      "outputs": [
        {
          "output_type": "execute_result",
          "data": {
            "text/plain": [
              "COPIA_DE_SEGURIDAD      No  No internet service     Yes   All\n",
              "TIPO_INTERNET                                                \n",
              "DSL                 1335.0                  NaN  1086.0  2421\n",
              "Fiber optic         1753.0                  NaN  1343.0  3096\n",
              "No                     NaN               1526.0     NaN  1526\n",
              "All                 3088.0               1526.0  2429.0  7043"
            ],
            "text/html": [
              "\n",
              "  <div id=\"df-1b8d8c4a-9eb5-42bc-97be-7b5f44c20a0e\">\n",
              "    <div class=\"colab-df-container\">\n",
              "      <div>\n",
              "<style scoped>\n",
              "    .dataframe tbody tr th:only-of-type {\n",
              "        vertical-align: middle;\n",
              "    }\n",
              "\n",
              "    .dataframe tbody tr th {\n",
              "        vertical-align: top;\n",
              "    }\n",
              "\n",
              "    .dataframe thead th {\n",
              "        text-align: right;\n",
              "    }\n",
              "</style>\n",
              "<table border=\"1\" class=\"dataframe\">\n",
              "  <thead>\n",
              "    <tr style=\"text-align: right;\">\n",
              "      <th>COPIA_DE_SEGURIDAD</th>\n",
              "      <th>No</th>\n",
              "      <th>No internet service</th>\n",
              "      <th>Yes</th>\n",
              "      <th>All</th>\n",
              "    </tr>\n",
              "    <tr>\n",
              "      <th>TIPO_INTERNET</th>\n",
              "      <th></th>\n",
              "      <th></th>\n",
              "      <th></th>\n",
              "      <th></th>\n",
              "    </tr>\n",
              "  </thead>\n",
              "  <tbody>\n",
              "    <tr>\n",
              "      <th>DSL</th>\n",
              "      <td>1335.0</td>\n",
              "      <td>NaN</td>\n",
              "      <td>1086.0</td>\n",
              "      <td>2421</td>\n",
              "    </tr>\n",
              "    <tr>\n",
              "      <th>Fiber optic</th>\n",
              "      <td>1753.0</td>\n",
              "      <td>NaN</td>\n",
              "      <td>1343.0</td>\n",
              "      <td>3096</td>\n",
              "    </tr>\n",
              "    <tr>\n",
              "      <th>No</th>\n",
              "      <td>NaN</td>\n",
              "      <td>1526.0</td>\n",
              "      <td>NaN</td>\n",
              "      <td>1526</td>\n",
              "    </tr>\n",
              "    <tr>\n",
              "      <th>All</th>\n",
              "      <td>3088.0</td>\n",
              "      <td>1526.0</td>\n",
              "      <td>2429.0</td>\n",
              "      <td>7043</td>\n",
              "    </tr>\n",
              "  </tbody>\n",
              "</table>\n",
              "</div>\n",
              "      <button class=\"colab-df-convert\" onclick=\"convertToInteractive('df-1b8d8c4a-9eb5-42bc-97be-7b5f44c20a0e')\"\n",
              "              title=\"Convert this dataframe to an interactive table.\"\n",
              "              style=\"display:none;\">\n",
              "        \n",
              "  <svg xmlns=\"http://www.w3.org/2000/svg\" height=\"24px\"viewBox=\"0 0 24 24\"\n",
              "       width=\"24px\">\n",
              "    <path d=\"M0 0h24v24H0V0z\" fill=\"none\"/>\n",
              "    <path d=\"M18.56 5.44l.94 2.06.94-2.06 2.06-.94-2.06-.94-.94-2.06-.94 2.06-2.06.94zm-11 1L8.5 8.5l.94-2.06 2.06-.94-2.06-.94L8.5 2.5l-.94 2.06-2.06.94zm10 10l.94 2.06.94-2.06 2.06-.94-2.06-.94-.94-2.06-.94 2.06-2.06.94z\"/><path d=\"M17.41 7.96l-1.37-1.37c-.4-.4-.92-.59-1.43-.59-.52 0-1.04.2-1.43.59L10.3 9.45l-7.72 7.72c-.78.78-.78 2.05 0 2.83L4 21.41c.39.39.9.59 1.41.59.51 0 1.02-.2 1.41-.59l7.78-7.78 2.81-2.81c.8-.78.8-2.07 0-2.86zM5.41 20L4 18.59l7.72-7.72 1.47 1.35L5.41 20z\"/>\n",
              "  </svg>\n",
              "      </button>\n",
              "      \n",
              "  <style>\n",
              "    .colab-df-container {\n",
              "      display:flex;\n",
              "      flex-wrap:wrap;\n",
              "      gap: 12px;\n",
              "    }\n",
              "\n",
              "    .colab-df-convert {\n",
              "      background-color: #E8F0FE;\n",
              "      border: none;\n",
              "      border-radius: 50%;\n",
              "      cursor: pointer;\n",
              "      display: none;\n",
              "      fill: #1967D2;\n",
              "      height: 32px;\n",
              "      padding: 0 0 0 0;\n",
              "      width: 32px;\n",
              "    }\n",
              "\n",
              "    .colab-df-convert:hover {\n",
              "      background-color: #E2EBFA;\n",
              "      box-shadow: 0px 1px 2px rgba(60, 64, 67, 0.3), 0px 1px 3px 1px rgba(60, 64, 67, 0.15);\n",
              "      fill: #174EA6;\n",
              "    }\n",
              "\n",
              "    [theme=dark] .colab-df-convert {\n",
              "      background-color: #3B4455;\n",
              "      fill: #D2E3FC;\n",
              "    }\n",
              "\n",
              "    [theme=dark] .colab-df-convert:hover {\n",
              "      background-color: #434B5C;\n",
              "      box-shadow: 0px 1px 3px 1px rgba(0, 0, 0, 0.15);\n",
              "      filter: drop-shadow(0px 1px 2px rgba(0, 0, 0, 0.3));\n",
              "      fill: #FFFFFF;\n",
              "    }\n",
              "  </style>\n",
              "\n",
              "      <script>\n",
              "        const buttonEl =\n",
              "          document.querySelector('#df-1b8d8c4a-9eb5-42bc-97be-7b5f44c20a0e button.colab-df-convert');\n",
              "        buttonEl.style.display =\n",
              "          google.colab.kernel.accessAllowed ? 'block' : 'none';\n",
              "\n",
              "        async function convertToInteractive(key) {\n",
              "          const element = document.querySelector('#df-1b8d8c4a-9eb5-42bc-97be-7b5f44c20a0e');\n",
              "          const dataTable =\n",
              "            await google.colab.kernel.invokeFunction('convertToInteractive',\n",
              "                                                     [key], {});\n",
              "          if (!dataTable) return;\n",
              "\n",
              "          const docLinkHtml = 'Like what you see? Visit the ' +\n",
              "            '<a target=\"_blank\" href=https://colab.research.google.com/notebooks/data_table.ipynb>data table notebook</a>'\n",
              "            + ' to learn more about interactive tables.';\n",
              "          element.innerHTML = '';\n",
              "          dataTable['output_type'] = 'display_data';\n",
              "          await google.colab.output.renderOutput(dataTable, element);\n",
              "          const docLink = document.createElement('div');\n",
              "          docLink.innerHTML = docLinkHtml;\n",
              "          element.appendChild(docLink);\n",
              "        }\n",
              "      </script>\n",
              "    </div>\n",
              "  </div>\n",
              "  "
            ]
          },
          "metadata": {},
          "execution_count": 122
        }
      ]
    },
    {
      "cell_type": "markdown",
      "source": [
        ">> Se cumple la regla jerárquica no existe ningún cliente sin servicio a internet que posea el servicio de copia de seguridad "
      ],
      "metadata": {
        "id": "y3Qs5CAuotJS"
      }
    },
    {
      "cell_type": "code",
      "source": [
        "# Regla 5 -> SI TIPO_INTERNET == No entonces Proteccion_dispositivo ==No internet Service \n",
        "jerarquia4 = pd.crosstab(index=[DF[\"TIPO_INTERNET\"]], columns= DF[\"PROTECCION_DISPOSITIVO\"],\n",
        "                        values = DF[\"ID_CLIENTE\"], aggfunc=\"count\", margins=True)\n",
        "jerarquia4"
      ],
      "metadata": {
        "colab": {
          "base_uri": "https://localhost:8080/",
          "height": 206
        },
        "id": "jVebpidslpgJ",
        "outputId": "9791eaba-c9f8-40a6-a2c4-981f05762fd0"
      },
      "execution_count": 123,
      "outputs": [
        {
          "output_type": "execute_result",
          "data": {
            "text/plain": [
              "PROTECCION_DISPOSITIVO      No  No internet service     Yes   All\n",
              "TIPO_INTERNET                                                    \n",
              "DSL                     1356.0                  NaN  1065.0  2421\n",
              "Fiber optic             1739.0                  NaN  1357.0  3096\n",
              "No                         NaN               1526.0     NaN  1526\n",
              "All                     3095.0               1526.0  2422.0  7043"
            ],
            "text/html": [
              "\n",
              "  <div id=\"df-d90245dc-8675-47d7-a182-b4e98070e1a8\">\n",
              "    <div class=\"colab-df-container\">\n",
              "      <div>\n",
              "<style scoped>\n",
              "    .dataframe tbody tr th:only-of-type {\n",
              "        vertical-align: middle;\n",
              "    }\n",
              "\n",
              "    .dataframe tbody tr th {\n",
              "        vertical-align: top;\n",
              "    }\n",
              "\n",
              "    .dataframe thead th {\n",
              "        text-align: right;\n",
              "    }\n",
              "</style>\n",
              "<table border=\"1\" class=\"dataframe\">\n",
              "  <thead>\n",
              "    <tr style=\"text-align: right;\">\n",
              "      <th>PROTECCION_DISPOSITIVO</th>\n",
              "      <th>No</th>\n",
              "      <th>No internet service</th>\n",
              "      <th>Yes</th>\n",
              "      <th>All</th>\n",
              "    </tr>\n",
              "    <tr>\n",
              "      <th>TIPO_INTERNET</th>\n",
              "      <th></th>\n",
              "      <th></th>\n",
              "      <th></th>\n",
              "      <th></th>\n",
              "    </tr>\n",
              "  </thead>\n",
              "  <tbody>\n",
              "    <tr>\n",
              "      <th>DSL</th>\n",
              "      <td>1356.0</td>\n",
              "      <td>NaN</td>\n",
              "      <td>1065.0</td>\n",
              "      <td>2421</td>\n",
              "    </tr>\n",
              "    <tr>\n",
              "      <th>Fiber optic</th>\n",
              "      <td>1739.0</td>\n",
              "      <td>NaN</td>\n",
              "      <td>1357.0</td>\n",
              "      <td>3096</td>\n",
              "    </tr>\n",
              "    <tr>\n",
              "      <th>No</th>\n",
              "      <td>NaN</td>\n",
              "      <td>1526.0</td>\n",
              "      <td>NaN</td>\n",
              "      <td>1526</td>\n",
              "    </tr>\n",
              "    <tr>\n",
              "      <th>All</th>\n",
              "      <td>3095.0</td>\n",
              "      <td>1526.0</td>\n",
              "      <td>2422.0</td>\n",
              "      <td>7043</td>\n",
              "    </tr>\n",
              "  </tbody>\n",
              "</table>\n",
              "</div>\n",
              "      <button class=\"colab-df-convert\" onclick=\"convertToInteractive('df-d90245dc-8675-47d7-a182-b4e98070e1a8')\"\n",
              "              title=\"Convert this dataframe to an interactive table.\"\n",
              "              style=\"display:none;\">\n",
              "        \n",
              "  <svg xmlns=\"http://www.w3.org/2000/svg\" height=\"24px\"viewBox=\"0 0 24 24\"\n",
              "       width=\"24px\">\n",
              "    <path d=\"M0 0h24v24H0V0z\" fill=\"none\"/>\n",
              "    <path d=\"M18.56 5.44l.94 2.06.94-2.06 2.06-.94-2.06-.94-.94-2.06-.94 2.06-2.06.94zm-11 1L8.5 8.5l.94-2.06 2.06-.94-2.06-.94L8.5 2.5l-.94 2.06-2.06.94zm10 10l.94 2.06.94-2.06 2.06-.94-2.06-.94-.94-2.06-.94 2.06-2.06.94z\"/><path d=\"M17.41 7.96l-1.37-1.37c-.4-.4-.92-.59-1.43-.59-.52 0-1.04.2-1.43.59L10.3 9.45l-7.72 7.72c-.78.78-.78 2.05 0 2.83L4 21.41c.39.39.9.59 1.41.59.51 0 1.02-.2 1.41-.59l7.78-7.78 2.81-2.81c.8-.78.8-2.07 0-2.86zM5.41 20L4 18.59l7.72-7.72 1.47 1.35L5.41 20z\"/>\n",
              "  </svg>\n",
              "      </button>\n",
              "      \n",
              "  <style>\n",
              "    .colab-df-container {\n",
              "      display:flex;\n",
              "      flex-wrap:wrap;\n",
              "      gap: 12px;\n",
              "    }\n",
              "\n",
              "    .colab-df-convert {\n",
              "      background-color: #E8F0FE;\n",
              "      border: none;\n",
              "      border-radius: 50%;\n",
              "      cursor: pointer;\n",
              "      display: none;\n",
              "      fill: #1967D2;\n",
              "      height: 32px;\n",
              "      padding: 0 0 0 0;\n",
              "      width: 32px;\n",
              "    }\n",
              "\n",
              "    .colab-df-convert:hover {\n",
              "      background-color: #E2EBFA;\n",
              "      box-shadow: 0px 1px 2px rgba(60, 64, 67, 0.3), 0px 1px 3px 1px rgba(60, 64, 67, 0.15);\n",
              "      fill: #174EA6;\n",
              "    }\n",
              "\n",
              "    [theme=dark] .colab-df-convert {\n",
              "      background-color: #3B4455;\n",
              "      fill: #D2E3FC;\n",
              "    }\n",
              "\n",
              "    [theme=dark] .colab-df-convert:hover {\n",
              "      background-color: #434B5C;\n",
              "      box-shadow: 0px 1px 3px 1px rgba(0, 0, 0, 0.15);\n",
              "      filter: drop-shadow(0px 1px 2px rgba(0, 0, 0, 0.3));\n",
              "      fill: #FFFFFF;\n",
              "    }\n",
              "  </style>\n",
              "\n",
              "      <script>\n",
              "        const buttonEl =\n",
              "          document.querySelector('#df-d90245dc-8675-47d7-a182-b4e98070e1a8 button.colab-df-convert');\n",
              "        buttonEl.style.display =\n",
              "          google.colab.kernel.accessAllowed ? 'block' : 'none';\n",
              "\n",
              "        async function convertToInteractive(key) {\n",
              "          const element = document.querySelector('#df-d90245dc-8675-47d7-a182-b4e98070e1a8');\n",
              "          const dataTable =\n",
              "            await google.colab.kernel.invokeFunction('convertToInteractive',\n",
              "                                                     [key], {});\n",
              "          if (!dataTable) return;\n",
              "\n",
              "          const docLinkHtml = 'Like what you see? Visit the ' +\n",
              "            '<a target=\"_blank\" href=https://colab.research.google.com/notebooks/data_table.ipynb>data table notebook</a>'\n",
              "            + ' to learn more about interactive tables.';\n",
              "          element.innerHTML = '';\n",
              "          dataTable['output_type'] = 'display_data';\n",
              "          await google.colab.output.renderOutput(dataTable, element);\n",
              "          const docLink = document.createElement('div');\n",
              "          docLink.innerHTML = docLinkHtml;\n",
              "          element.appendChild(docLink);\n",
              "        }\n",
              "      </script>\n",
              "    </div>\n",
              "  </div>\n",
              "  "
            ]
          },
          "metadata": {},
          "execution_count": 123
        }
      ]
    },
    {
      "cell_type": "markdown",
      "source": [
        ">> Se cumple la regla jerárquica no existe ningún cliente sin servicio a internet que posea el servicio de protección del dispositivo  "
      ],
      "metadata": {
        "id": "DNE4qrPKowtZ"
      }
    },
    {
      "cell_type": "code",
      "source": [
        "# Regla 6 -> SI TIPO_INTERNET == No entonces soporte tecnico ==No internet Service \n",
        "jerarquia5 = pd.crosstab(index=[DF[\"TIPO_INTERNET\"]], columns= DF[\"SOPORTE_TECNICO\"],\n",
        "                        values = DF[\"ID_CLIENTE\"], aggfunc=\"count\", margins=True)\n",
        "jerarquia5"
      ],
      "metadata": {
        "colab": {
          "base_uri": "https://localhost:8080/",
          "height": 206
        },
        "id": "nhpkDmCXmdHJ",
        "outputId": "222af2d5-7cee-45d7-9a7a-eee21dd2327f"
      },
      "execution_count": 124,
      "outputs": [
        {
          "output_type": "execute_result",
          "data": {
            "text/plain": [
              "SOPORTE_TECNICO      No  No internet service     Yes   All\n",
              "TIPO_INTERNET                                             \n",
              "DSL              1243.0                  NaN  1178.0  2421\n",
              "Fiber optic      2230.0                  NaN   866.0  3096\n",
              "No                  NaN               1526.0     NaN  1526\n",
              "All              3473.0               1526.0  2044.0  7043"
            ],
            "text/html": [
              "\n",
              "  <div id=\"df-493a68d2-a601-4018-9533-e97be2ca4760\">\n",
              "    <div class=\"colab-df-container\">\n",
              "      <div>\n",
              "<style scoped>\n",
              "    .dataframe tbody tr th:only-of-type {\n",
              "        vertical-align: middle;\n",
              "    }\n",
              "\n",
              "    .dataframe tbody tr th {\n",
              "        vertical-align: top;\n",
              "    }\n",
              "\n",
              "    .dataframe thead th {\n",
              "        text-align: right;\n",
              "    }\n",
              "</style>\n",
              "<table border=\"1\" class=\"dataframe\">\n",
              "  <thead>\n",
              "    <tr style=\"text-align: right;\">\n",
              "      <th>SOPORTE_TECNICO</th>\n",
              "      <th>No</th>\n",
              "      <th>No internet service</th>\n",
              "      <th>Yes</th>\n",
              "      <th>All</th>\n",
              "    </tr>\n",
              "    <tr>\n",
              "      <th>TIPO_INTERNET</th>\n",
              "      <th></th>\n",
              "      <th></th>\n",
              "      <th></th>\n",
              "      <th></th>\n",
              "    </tr>\n",
              "  </thead>\n",
              "  <tbody>\n",
              "    <tr>\n",
              "      <th>DSL</th>\n",
              "      <td>1243.0</td>\n",
              "      <td>NaN</td>\n",
              "      <td>1178.0</td>\n",
              "      <td>2421</td>\n",
              "    </tr>\n",
              "    <tr>\n",
              "      <th>Fiber optic</th>\n",
              "      <td>2230.0</td>\n",
              "      <td>NaN</td>\n",
              "      <td>866.0</td>\n",
              "      <td>3096</td>\n",
              "    </tr>\n",
              "    <tr>\n",
              "      <th>No</th>\n",
              "      <td>NaN</td>\n",
              "      <td>1526.0</td>\n",
              "      <td>NaN</td>\n",
              "      <td>1526</td>\n",
              "    </tr>\n",
              "    <tr>\n",
              "      <th>All</th>\n",
              "      <td>3473.0</td>\n",
              "      <td>1526.0</td>\n",
              "      <td>2044.0</td>\n",
              "      <td>7043</td>\n",
              "    </tr>\n",
              "  </tbody>\n",
              "</table>\n",
              "</div>\n",
              "      <button class=\"colab-df-convert\" onclick=\"convertToInteractive('df-493a68d2-a601-4018-9533-e97be2ca4760')\"\n",
              "              title=\"Convert this dataframe to an interactive table.\"\n",
              "              style=\"display:none;\">\n",
              "        \n",
              "  <svg xmlns=\"http://www.w3.org/2000/svg\" height=\"24px\"viewBox=\"0 0 24 24\"\n",
              "       width=\"24px\">\n",
              "    <path d=\"M0 0h24v24H0V0z\" fill=\"none\"/>\n",
              "    <path d=\"M18.56 5.44l.94 2.06.94-2.06 2.06-.94-2.06-.94-.94-2.06-.94 2.06-2.06.94zm-11 1L8.5 8.5l.94-2.06 2.06-.94-2.06-.94L8.5 2.5l-.94 2.06-2.06.94zm10 10l.94 2.06.94-2.06 2.06-.94-2.06-.94-.94-2.06-.94 2.06-2.06.94z\"/><path d=\"M17.41 7.96l-1.37-1.37c-.4-.4-.92-.59-1.43-.59-.52 0-1.04.2-1.43.59L10.3 9.45l-7.72 7.72c-.78.78-.78 2.05 0 2.83L4 21.41c.39.39.9.59 1.41.59.51 0 1.02-.2 1.41-.59l7.78-7.78 2.81-2.81c.8-.78.8-2.07 0-2.86zM5.41 20L4 18.59l7.72-7.72 1.47 1.35L5.41 20z\"/>\n",
              "  </svg>\n",
              "      </button>\n",
              "      \n",
              "  <style>\n",
              "    .colab-df-container {\n",
              "      display:flex;\n",
              "      flex-wrap:wrap;\n",
              "      gap: 12px;\n",
              "    }\n",
              "\n",
              "    .colab-df-convert {\n",
              "      background-color: #E8F0FE;\n",
              "      border: none;\n",
              "      border-radius: 50%;\n",
              "      cursor: pointer;\n",
              "      display: none;\n",
              "      fill: #1967D2;\n",
              "      height: 32px;\n",
              "      padding: 0 0 0 0;\n",
              "      width: 32px;\n",
              "    }\n",
              "\n",
              "    .colab-df-convert:hover {\n",
              "      background-color: #E2EBFA;\n",
              "      box-shadow: 0px 1px 2px rgba(60, 64, 67, 0.3), 0px 1px 3px 1px rgba(60, 64, 67, 0.15);\n",
              "      fill: #174EA6;\n",
              "    }\n",
              "\n",
              "    [theme=dark] .colab-df-convert {\n",
              "      background-color: #3B4455;\n",
              "      fill: #D2E3FC;\n",
              "    }\n",
              "\n",
              "    [theme=dark] .colab-df-convert:hover {\n",
              "      background-color: #434B5C;\n",
              "      box-shadow: 0px 1px 3px 1px rgba(0, 0, 0, 0.15);\n",
              "      filter: drop-shadow(0px 1px 2px rgba(0, 0, 0, 0.3));\n",
              "      fill: #FFFFFF;\n",
              "    }\n",
              "  </style>\n",
              "\n",
              "      <script>\n",
              "        const buttonEl =\n",
              "          document.querySelector('#df-493a68d2-a601-4018-9533-e97be2ca4760 button.colab-df-convert');\n",
              "        buttonEl.style.display =\n",
              "          google.colab.kernel.accessAllowed ? 'block' : 'none';\n",
              "\n",
              "        async function convertToInteractive(key) {\n",
              "          const element = document.querySelector('#df-493a68d2-a601-4018-9533-e97be2ca4760');\n",
              "          const dataTable =\n",
              "            await google.colab.kernel.invokeFunction('convertToInteractive',\n",
              "                                                     [key], {});\n",
              "          if (!dataTable) return;\n",
              "\n",
              "          const docLinkHtml = 'Like what you see? Visit the ' +\n",
              "            '<a target=\"_blank\" href=https://colab.research.google.com/notebooks/data_table.ipynb>data table notebook</a>'\n",
              "            + ' to learn more about interactive tables.';\n",
              "          element.innerHTML = '';\n",
              "          dataTable['output_type'] = 'display_data';\n",
              "          await google.colab.output.renderOutput(dataTable, element);\n",
              "          const docLink = document.createElement('div');\n",
              "          docLink.innerHTML = docLinkHtml;\n",
              "          element.appendChild(docLink);\n",
              "        }\n",
              "      </script>\n",
              "    </div>\n",
              "  </div>\n",
              "  "
            ]
          },
          "metadata": {},
          "execution_count": 124
        }
      ]
    },
    {
      "cell_type": "markdown",
      "source": [
        ">> Se cumple la regla jerárquica no existe ningún cliente sin servicio a internet que posea el servicio de soporte tecnico "
      ],
      "metadata": {
        "id": "13hpyhDxo1Xi"
      }
    },
    {
      "cell_type": "code",
      "source": [
        "# Regla 7 -> SI TIPO_INTERNET == No entonces SERVICIO_TV ==No internet Service \n",
        "jerarquia6 = pd.crosstab(index=[DF[\"TIPO_INTERNET\"]], columns= DF[\"SERVICIO_TV\"],\n",
        "                        values = DF[\"ID_CLIENTE\"], aggfunc=\"count\", margins=True)\n",
        "jerarquia6"
      ],
      "metadata": {
        "colab": {
          "base_uri": "https://localhost:8080/",
          "height": 206
        },
        "id": "iZVS5wF-mwIU",
        "outputId": "7c940c97-0145-4988-9cb9-da74033e8744"
      },
      "execution_count": 125,
      "outputs": [
        {
          "output_type": "execute_result",
          "data": {
            "text/plain": [
              "SERVICIO_TV        No  No internet service     Yes   All\n",
              "TIPO_INTERNET                                           \n",
              "DSL            1464.0                  NaN   957.0  2421\n",
              "Fiber optic    1346.0                  NaN  1750.0  3096\n",
              "No                NaN               1526.0     NaN  1526\n",
              "All            2810.0               1526.0  2707.0  7043"
            ],
            "text/html": [
              "\n",
              "  <div id=\"df-bd319f5e-79b9-4126-8f81-e7fb98ab7032\">\n",
              "    <div class=\"colab-df-container\">\n",
              "      <div>\n",
              "<style scoped>\n",
              "    .dataframe tbody tr th:only-of-type {\n",
              "        vertical-align: middle;\n",
              "    }\n",
              "\n",
              "    .dataframe tbody tr th {\n",
              "        vertical-align: top;\n",
              "    }\n",
              "\n",
              "    .dataframe thead th {\n",
              "        text-align: right;\n",
              "    }\n",
              "</style>\n",
              "<table border=\"1\" class=\"dataframe\">\n",
              "  <thead>\n",
              "    <tr style=\"text-align: right;\">\n",
              "      <th>SERVICIO_TV</th>\n",
              "      <th>No</th>\n",
              "      <th>No internet service</th>\n",
              "      <th>Yes</th>\n",
              "      <th>All</th>\n",
              "    </tr>\n",
              "    <tr>\n",
              "      <th>TIPO_INTERNET</th>\n",
              "      <th></th>\n",
              "      <th></th>\n",
              "      <th></th>\n",
              "      <th></th>\n",
              "    </tr>\n",
              "  </thead>\n",
              "  <tbody>\n",
              "    <tr>\n",
              "      <th>DSL</th>\n",
              "      <td>1464.0</td>\n",
              "      <td>NaN</td>\n",
              "      <td>957.0</td>\n",
              "      <td>2421</td>\n",
              "    </tr>\n",
              "    <tr>\n",
              "      <th>Fiber optic</th>\n",
              "      <td>1346.0</td>\n",
              "      <td>NaN</td>\n",
              "      <td>1750.0</td>\n",
              "      <td>3096</td>\n",
              "    </tr>\n",
              "    <tr>\n",
              "      <th>No</th>\n",
              "      <td>NaN</td>\n",
              "      <td>1526.0</td>\n",
              "      <td>NaN</td>\n",
              "      <td>1526</td>\n",
              "    </tr>\n",
              "    <tr>\n",
              "      <th>All</th>\n",
              "      <td>2810.0</td>\n",
              "      <td>1526.0</td>\n",
              "      <td>2707.0</td>\n",
              "      <td>7043</td>\n",
              "    </tr>\n",
              "  </tbody>\n",
              "</table>\n",
              "</div>\n",
              "      <button class=\"colab-df-convert\" onclick=\"convertToInteractive('df-bd319f5e-79b9-4126-8f81-e7fb98ab7032')\"\n",
              "              title=\"Convert this dataframe to an interactive table.\"\n",
              "              style=\"display:none;\">\n",
              "        \n",
              "  <svg xmlns=\"http://www.w3.org/2000/svg\" height=\"24px\"viewBox=\"0 0 24 24\"\n",
              "       width=\"24px\">\n",
              "    <path d=\"M0 0h24v24H0V0z\" fill=\"none\"/>\n",
              "    <path d=\"M18.56 5.44l.94 2.06.94-2.06 2.06-.94-2.06-.94-.94-2.06-.94 2.06-2.06.94zm-11 1L8.5 8.5l.94-2.06 2.06-.94-2.06-.94L8.5 2.5l-.94 2.06-2.06.94zm10 10l.94 2.06.94-2.06 2.06-.94-2.06-.94-.94-2.06-.94 2.06-2.06.94z\"/><path d=\"M17.41 7.96l-1.37-1.37c-.4-.4-.92-.59-1.43-.59-.52 0-1.04.2-1.43.59L10.3 9.45l-7.72 7.72c-.78.78-.78 2.05 0 2.83L4 21.41c.39.39.9.59 1.41.59.51 0 1.02-.2 1.41-.59l7.78-7.78 2.81-2.81c.8-.78.8-2.07 0-2.86zM5.41 20L4 18.59l7.72-7.72 1.47 1.35L5.41 20z\"/>\n",
              "  </svg>\n",
              "      </button>\n",
              "      \n",
              "  <style>\n",
              "    .colab-df-container {\n",
              "      display:flex;\n",
              "      flex-wrap:wrap;\n",
              "      gap: 12px;\n",
              "    }\n",
              "\n",
              "    .colab-df-convert {\n",
              "      background-color: #E8F0FE;\n",
              "      border: none;\n",
              "      border-radius: 50%;\n",
              "      cursor: pointer;\n",
              "      display: none;\n",
              "      fill: #1967D2;\n",
              "      height: 32px;\n",
              "      padding: 0 0 0 0;\n",
              "      width: 32px;\n",
              "    }\n",
              "\n",
              "    .colab-df-convert:hover {\n",
              "      background-color: #E2EBFA;\n",
              "      box-shadow: 0px 1px 2px rgba(60, 64, 67, 0.3), 0px 1px 3px 1px rgba(60, 64, 67, 0.15);\n",
              "      fill: #174EA6;\n",
              "    }\n",
              "\n",
              "    [theme=dark] .colab-df-convert {\n",
              "      background-color: #3B4455;\n",
              "      fill: #D2E3FC;\n",
              "    }\n",
              "\n",
              "    [theme=dark] .colab-df-convert:hover {\n",
              "      background-color: #434B5C;\n",
              "      box-shadow: 0px 1px 3px 1px rgba(0, 0, 0, 0.15);\n",
              "      filter: drop-shadow(0px 1px 2px rgba(0, 0, 0, 0.3));\n",
              "      fill: #FFFFFF;\n",
              "    }\n",
              "  </style>\n",
              "\n",
              "      <script>\n",
              "        const buttonEl =\n",
              "          document.querySelector('#df-bd319f5e-79b9-4126-8f81-e7fb98ab7032 button.colab-df-convert');\n",
              "        buttonEl.style.display =\n",
              "          google.colab.kernel.accessAllowed ? 'block' : 'none';\n",
              "\n",
              "        async function convertToInteractive(key) {\n",
              "          const element = document.querySelector('#df-bd319f5e-79b9-4126-8f81-e7fb98ab7032');\n",
              "          const dataTable =\n",
              "            await google.colab.kernel.invokeFunction('convertToInteractive',\n",
              "                                                     [key], {});\n",
              "          if (!dataTable) return;\n",
              "\n",
              "          const docLinkHtml = 'Like what you see? Visit the ' +\n",
              "            '<a target=\"_blank\" href=https://colab.research.google.com/notebooks/data_table.ipynb>data table notebook</a>'\n",
              "            + ' to learn more about interactive tables.';\n",
              "          element.innerHTML = '';\n",
              "          dataTable['output_type'] = 'display_data';\n",
              "          await google.colab.output.renderOutput(dataTable, element);\n",
              "          const docLink = document.createElement('div');\n",
              "          docLink.innerHTML = docLinkHtml;\n",
              "          element.appendChild(docLink);\n",
              "        }\n",
              "      </script>\n",
              "    </div>\n",
              "  </div>\n",
              "  "
            ]
          },
          "metadata": {},
          "execution_count": 125
        }
      ]
    },
    {
      "cell_type": "markdown",
      "source": [
        ">> Se cumple la regla jerárquica no existe ningún cliente sin servicio a internet que posea el servicio de servicio de tv "
      ],
      "metadata": {
        "id": "A5PED_Xco4mB"
      }
    },
    {
      "cell_type": "code",
      "source": [
        "# Regla 8 -> SI TIPO_INTERNET == No entonces SERVICIOS_STREAMING ==No internet Service \n",
        "jerarquia6 = pd.crosstab(index=[DF[\"TIPO_INTERNET\"]], columns= DF[\"SERVICIOS_STREAMING\"],\n",
        "                        values = DF[\"ID_CLIENTE\"], aggfunc=\"count\", margins=True)\n",
        "jerarquia6"
      ],
      "metadata": {
        "colab": {
          "base_uri": "https://localhost:8080/",
          "height": 206
        },
        "id": "Bf2lcqhZm9Zw",
        "outputId": "34d19a1b-4b77-43a3-96a3-931c7cd8b4fb"
      },
      "execution_count": 43,
      "outputs": [
        {
          "output_type": "execute_result",
          "data": {
            "text/plain": [
              "SERVICIOS_STREAMING      No  No internet service     Yes   All\n",
              "TIPO_INTERNET                                                 \n",
              "DSL                  1440.0                  NaN   981.0  2421\n",
              "Fiber optic          1345.0                  NaN  1751.0  3096\n",
              "No                      NaN               1526.0     NaN  1526\n",
              "All                  2785.0               1526.0  2732.0  7043"
            ],
            "text/html": [
              "\n",
              "  <div id=\"df-50cfac67-dcab-41b2-be2b-1702ea7a6f0f\">\n",
              "    <div class=\"colab-df-container\">\n",
              "      <div>\n",
              "<style scoped>\n",
              "    .dataframe tbody tr th:only-of-type {\n",
              "        vertical-align: middle;\n",
              "    }\n",
              "\n",
              "    .dataframe tbody tr th {\n",
              "        vertical-align: top;\n",
              "    }\n",
              "\n",
              "    .dataframe thead th {\n",
              "        text-align: right;\n",
              "    }\n",
              "</style>\n",
              "<table border=\"1\" class=\"dataframe\">\n",
              "  <thead>\n",
              "    <tr style=\"text-align: right;\">\n",
              "      <th>SERVICIOS_STREAMING</th>\n",
              "      <th>No</th>\n",
              "      <th>No internet service</th>\n",
              "      <th>Yes</th>\n",
              "      <th>All</th>\n",
              "    </tr>\n",
              "    <tr>\n",
              "      <th>TIPO_INTERNET</th>\n",
              "      <th></th>\n",
              "      <th></th>\n",
              "      <th></th>\n",
              "      <th></th>\n",
              "    </tr>\n",
              "  </thead>\n",
              "  <tbody>\n",
              "    <tr>\n",
              "      <th>DSL</th>\n",
              "      <td>1440.0</td>\n",
              "      <td>NaN</td>\n",
              "      <td>981.0</td>\n",
              "      <td>2421</td>\n",
              "    </tr>\n",
              "    <tr>\n",
              "      <th>Fiber optic</th>\n",
              "      <td>1345.0</td>\n",
              "      <td>NaN</td>\n",
              "      <td>1751.0</td>\n",
              "      <td>3096</td>\n",
              "    </tr>\n",
              "    <tr>\n",
              "      <th>No</th>\n",
              "      <td>NaN</td>\n",
              "      <td>1526.0</td>\n",
              "      <td>NaN</td>\n",
              "      <td>1526</td>\n",
              "    </tr>\n",
              "    <tr>\n",
              "      <th>All</th>\n",
              "      <td>2785.0</td>\n",
              "      <td>1526.0</td>\n",
              "      <td>2732.0</td>\n",
              "      <td>7043</td>\n",
              "    </tr>\n",
              "  </tbody>\n",
              "</table>\n",
              "</div>\n",
              "      <button class=\"colab-df-convert\" onclick=\"convertToInteractive('df-50cfac67-dcab-41b2-be2b-1702ea7a6f0f')\"\n",
              "              title=\"Convert this dataframe to an interactive table.\"\n",
              "              style=\"display:none;\">\n",
              "        \n",
              "  <svg xmlns=\"http://www.w3.org/2000/svg\" height=\"24px\"viewBox=\"0 0 24 24\"\n",
              "       width=\"24px\">\n",
              "    <path d=\"M0 0h24v24H0V0z\" fill=\"none\"/>\n",
              "    <path d=\"M18.56 5.44l.94 2.06.94-2.06 2.06-.94-2.06-.94-.94-2.06-.94 2.06-2.06.94zm-11 1L8.5 8.5l.94-2.06 2.06-.94-2.06-.94L8.5 2.5l-.94 2.06-2.06.94zm10 10l.94 2.06.94-2.06 2.06-.94-2.06-.94-.94-2.06-.94 2.06-2.06.94z\"/><path d=\"M17.41 7.96l-1.37-1.37c-.4-.4-.92-.59-1.43-.59-.52 0-1.04.2-1.43.59L10.3 9.45l-7.72 7.72c-.78.78-.78 2.05 0 2.83L4 21.41c.39.39.9.59 1.41.59.51 0 1.02-.2 1.41-.59l7.78-7.78 2.81-2.81c.8-.78.8-2.07 0-2.86zM5.41 20L4 18.59l7.72-7.72 1.47 1.35L5.41 20z\"/>\n",
              "  </svg>\n",
              "      </button>\n",
              "      \n",
              "  <style>\n",
              "    .colab-df-container {\n",
              "      display:flex;\n",
              "      flex-wrap:wrap;\n",
              "      gap: 12px;\n",
              "    }\n",
              "\n",
              "    .colab-df-convert {\n",
              "      background-color: #E8F0FE;\n",
              "      border: none;\n",
              "      border-radius: 50%;\n",
              "      cursor: pointer;\n",
              "      display: none;\n",
              "      fill: #1967D2;\n",
              "      height: 32px;\n",
              "      padding: 0 0 0 0;\n",
              "      width: 32px;\n",
              "    }\n",
              "\n",
              "    .colab-df-convert:hover {\n",
              "      background-color: #E2EBFA;\n",
              "      box-shadow: 0px 1px 2px rgba(60, 64, 67, 0.3), 0px 1px 3px 1px rgba(60, 64, 67, 0.15);\n",
              "      fill: #174EA6;\n",
              "    }\n",
              "\n",
              "    [theme=dark] .colab-df-convert {\n",
              "      background-color: #3B4455;\n",
              "      fill: #D2E3FC;\n",
              "    }\n",
              "\n",
              "    [theme=dark] .colab-df-convert:hover {\n",
              "      background-color: #434B5C;\n",
              "      box-shadow: 0px 1px 3px 1px rgba(0, 0, 0, 0.15);\n",
              "      filter: drop-shadow(0px 1px 2px rgba(0, 0, 0, 0.3));\n",
              "      fill: #FFFFFF;\n",
              "    }\n",
              "  </style>\n",
              "\n",
              "      <script>\n",
              "        const buttonEl =\n",
              "          document.querySelector('#df-50cfac67-dcab-41b2-be2b-1702ea7a6f0f button.colab-df-convert');\n",
              "        buttonEl.style.display =\n",
              "          google.colab.kernel.accessAllowed ? 'block' : 'none';\n",
              "\n",
              "        async function convertToInteractive(key) {\n",
              "          const element = document.querySelector('#df-50cfac67-dcab-41b2-be2b-1702ea7a6f0f');\n",
              "          const dataTable =\n",
              "            await google.colab.kernel.invokeFunction('convertToInteractive',\n",
              "                                                     [key], {});\n",
              "          if (!dataTable) return;\n",
              "\n",
              "          const docLinkHtml = 'Like what you see? Visit the ' +\n",
              "            '<a target=\"_blank\" href=https://colab.research.google.com/notebooks/data_table.ipynb>data table notebook</a>'\n",
              "            + ' to learn more about interactive tables.';\n",
              "          element.innerHTML = '';\n",
              "          dataTable['output_type'] = 'display_data';\n",
              "          await google.colab.output.renderOutput(dataTable, element);\n",
              "          const docLink = document.createElement('div');\n",
              "          docLink.innerHTML = docLinkHtml;\n",
              "          element.appendChild(docLink);\n",
              "        }\n",
              "      </script>\n",
              "    </div>\n",
              "  </div>\n",
              "  "
            ]
          },
          "metadata": {},
          "execution_count": 43
        }
      ]
    },
    {
      "cell_type": "markdown",
      "source": [
        ">> Se cumple la regla jerárquica no existe ningún cliente sin servicio a internet que posea el servicio de streaming"
      ],
      "metadata": {
        "id": "j55gXYE6o80B"
      }
    },
    {
      "cell_type": "code",
      "source": [
        "my_report = sweetviz.analyze(DF)\n",
        "my_report.show_html(\"DescripcionDatos.html\")"
      ],
      "metadata": {
        "id": "EecRmEXaog8y",
        "colab": {
          "base_uri": "https://localhost:8080/",
          "height": 86,
          "referenced_widgets": [
            "130c457590e84d37aa9f437fb1ff71d3",
            "92abea2fafdb452db1e5d79347fec51a",
            "91b9a62949014d48b2c1af56bb05357f",
            "5d7af7e3cbdb4148852fbe2dd78d6c58",
            "31ee6b898106440d8298bb3fb57a2f62",
            "82b356449b8d4bc683014beed9c6c3bc",
            "4f851575c9e64ca5b9938d259ebf0875",
            "0e4056c14d34411c94c37dbdb5bb7334",
            "3d72cb11c6494dfb83117d93178a37da",
            "c5c8b86f836446788f281c9895ca5230",
            "82a13e87863945d39d4cc6ffa481749c"
          ]
        },
        "outputId": "61e6e8c8-038c-4d27-b943-738061e44c05"
      },
      "execution_count": 127,
      "outputs": [
        {
          "output_type": "display_data",
          "data": {
            "text/plain": [
              "                                             |          | [  0%]   00:00 -> (? left)"
            ],
            "application/vnd.jupyter.widget-view+json": {
              "version_major": 2,
              "version_minor": 0,
              "model_id": "130c457590e84d37aa9f437fb1ff71d3"
            }
          },
          "metadata": {}
        },
        {
          "output_type": "stream",
          "name": "stdout",
          "text": [
            "Report DescripcionDatos.html was generated! NOTEBOOK/COLAB USERS: the web browser MAY not pop up, regardless, the report IS saved in your notebook/colab files.\n"
          ]
        }
      ]
    },
    {
      "cell_type": "code",
      "source": [
        "DF.to_csv(\"Data_limpia.csv\")"
      ],
      "metadata": {
        "id": "taM-6GMJ2PfT"
      },
      "execution_count": 132,
      "outputs": []
    }
  ]
}