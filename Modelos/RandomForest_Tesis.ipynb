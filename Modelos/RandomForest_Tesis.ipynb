{
  "nbformat": 4,
  "nbformat_minor": 0,
  "metadata": {
    "colab": {
      "provenance": [],
      "collapsed_sections": [
        "niqUc-iRgG_w",
        "kuJNVGG5iqgJ"
      ],
      "include_colab_link": true
    },
    "kernelspec": {
      "name": "python3",
      "display_name": "Python 3"
    },
    "language_info": {
      "name": "python"
    }
  },
  "cells": [
    {
      "cell_type": "markdown",
      "metadata": {
        "id": "view-in-github",
        "colab_type": "text"
      },
      "source": [
        "<a href=\"https://colab.research.google.com/github/MILLERASPRILLA/Proyecto--Churn-/blob/main/Modelos/RandomForest_Tesis.ipynb\" target=\"_parent\"><img src=\"https://colab.research.google.com/assets/colab-badge.svg\" alt=\"Open In Colab\"/></a>"
      ]
    },
    {
      "cell_type": "markdown",
      "source": [
        "![Universidad Central](https://www.ucentral.edu.co/sites/default/files/inline-images/identificadores-Centrados_en_ti_logo-h.png)"
      ],
      "metadata": {
        "id": "NzcaTdDd4Kit"
      }
    },
    {
      "cell_type": "markdown",
      "source": [
        "# __PROYECTO DE GRADO__\n",
        "\n",
        "> ## ____ Implementación de modelos de aprendizaje de máquina para la prevención de la fuga de clientes en una empresa de telecomunicaciones.\n",
        ">\n",
        ">\n",
        "> <br>\n",
        ">\n",
        "> ## __Contenido__\n",
        "\n",
        ">**Tema:**\n",
        "\n",
        ">> Random Forest\n",
        "\n",
        "> Toma un subconjunto de variables y ajusta arboles con algún parámetro de parada, generalmente 5 por hoja. En este no se hace podado. La documentación [acá](https://scikit-learn.org/stable/modules/generated/sklearn.ensemble.RandomForestClassifier.html#sklearn.ensemble.RandomForestClassifier)\n",
        "\n",
        "> Otra [info](https://www.cienciadedatos.net/documentos/py08_random_forest_python.html) importante \n",
        "\n",
        "\n",
        ">---"
      ],
      "metadata": {
        "id": "SdPYfH_08bvk"
      }
    },
    {
      "cell_type": "markdown",
      "source": [],
      "metadata": {
        "id": "nds6swMqddPk"
      }
    },
    {
      "cell_type": "markdown",
      "source": [
        "- Librerias"
      ],
      "metadata": {
        "id": "jbdQvRFs9FPk"
      }
    },
    {
      "cell_type": "code",
      "execution_count": null,
      "metadata": {
        "id": "-2jLjpUP3yvJ"
      },
      "outputs": [],
      "source": [
        "import pandas as pd\n",
        "import numpy as np\n",
        "import plotly.express as px\n",
        "import matplotlib.pyplot as plt\n",
        "from scipy import stats\n",
        "from sklearn.feature_selection import RFE\n",
        "from sklearn.model_selection import train_test_split\n",
        "from sklearn.linear_model import LogisticRegression\n",
        "from sklearn import linear_model, tree\n",
        "from sklearn.metrics import confusion_matrix, accuracy_score, precision_score, classification_report\n",
        "from sklearn.feature_selection import RFE\n",
        "from sklearn.model_selection import GridSearchCV\n",
        "from sklearn.preprocessing import OneHotEncoder\n",
        "from sklearn import preprocessing\n",
        "from sklearn.metrics import class_likelihood_ratios\n",
        "from sklearn import metrics\n",
        "from sklearn.metrics import roc_auc_score\n",
        "from sklearn.metrics import roc_curve, auc\n",
        "from sklearn.preprocessing import label_binarize\n",
        "from sklearn.model_selection import cross_val_score\n",
        "from imblearn.under_sampling import RandomUnderSampler\n",
        "from sklearn.ensemble import RandomForestClassifier "
      ]
    },
    {
      "cell_type": "markdown",
      "source": [
        "# EXTRACCIÓN DE LOS DATOS "
      ],
      "metadata": {
        "id": "df4-R3Gj9VzS"
      }
    },
    {
      "cell_type": "code",
      "source": [
        "DF = pd.read_csv(\"https://raw.githubusercontent.com/MILLERASPRILLA/Proyecto--Churn-/main/Bases/Data_limpia%20(2).csv\", sep= \",\", encoding= \"latin1\")\n",
        "DF.shape"
      ],
      "metadata": {
        "colab": {
          "base_uri": "https://localhost:8080/"
        },
        "id": "qy41kTWG4LIA",
        "outputId": "909bfe76-c88e-42fe-d67b-a00094307c33"
      },
      "execution_count": null,
      "outputs": [
        {
          "output_type": "execute_result",
          "data": {
            "text/plain": [
              "(7043, 20)"
            ]
          },
          "metadata": {},
          "execution_count": 2
        }
      ]
    },
    {
      "cell_type": "code",
      "source": [
        "DF.set_index(\"ID_CLIENTE\", inplace = True)\n",
        "DF.head()"
      ],
      "metadata": {
        "colab": {
          "base_uri": "https://localhost:8080/",
          "height": 388
        },
        "id": "aeKXQN_MLbqC",
        "outputId": "2c591b1e-6321-4615-97cd-e80a002f53a2"
      },
      "execution_count": null,
      "outputs": [
        {
          "output_type": "execute_result",
          "data": {
            "text/plain": [
              "            GENERO  ADULTO_MAYOR CASADO PERSONAS_A_CARGO  MESES_COMO_CLIENTE  \\\n",
              "ID_CLIENTE                                                                     \n",
              "7590-VHVEG  Female             0    Yes               No                   1   \n",
              "5575-GNVDE    Male             0     No               No                  34   \n",
              "3668-QPYBK    Male             0     No               No                   2   \n",
              "7795-CFOCW    Male             0     No               No                  45   \n",
              "9237-HQITU  Female             0     No               No                   2   \n",
              "\n",
              "           TIENE_TELEFONIA     VARIAS_LINEAS TIPO_INTERNET SEGURIDAD_EN_LINEA  \\\n",
              "ID_CLIENTE                                                                      \n",
              "7590-VHVEG              No  No phone service           DSL                 No   \n",
              "5575-GNVDE             Yes                No           DSL                Yes   \n",
              "3668-QPYBK             Yes                No           DSL                Yes   \n",
              "7795-CFOCW              No  No phone service           DSL                Yes   \n",
              "9237-HQITU             Yes                No   Fiber optic                 No   \n",
              "\n",
              "           COPIA_DE_SEGURIDAD PROTECCION_DISPOSITIVO SOPORTE_TECNICO  \\\n",
              "ID_CLIENTE                                                             \n",
              "7590-VHVEG                Yes                     No              No   \n",
              "5575-GNVDE                 No                    Yes              No   \n",
              "3668-QPYBK                Yes                     No              No   \n",
              "7795-CFOCW                 No                    Yes             Yes   \n",
              "9237-HQITU                 No                     No              No   \n",
              "\n",
              "           SERVICIO_TV SERVICIOS_STREAMING PERIODO_CONTRATO  \\\n",
              "ID_CLIENTE                                                    \n",
              "7590-VHVEG          No                  No   Month-to-month   \n",
              "5575-GNVDE          No                  No         One year   \n",
              "3668-QPYBK          No                  No   Month-to-month   \n",
              "7795-CFOCW          No                  No         One year   \n",
              "9237-HQITU          No                  No   Month-to-month   \n",
              "\n",
              "           FACTURACION_ELECTRONICA                METODO_PAGO  COBRO_MENSUAL  \\\n",
              "ID_CLIENTE                                                                     \n",
              "7590-VHVEG                     Yes           Electronic check          29.85   \n",
              "5575-GNVDE                      No               Mailed check          56.95   \n",
              "3668-QPYBK                     Yes               Mailed check          53.85   \n",
              "7795-CFOCW                      No  Bank transfer (automatic)          42.30   \n",
              "9237-HQITU                     Yes           Electronic check          70.70   \n",
              "\n",
              "           ABANDONO  \n",
              "ID_CLIENTE           \n",
              "7590-VHVEG       No  \n",
              "5575-GNVDE       No  \n",
              "3668-QPYBK      Yes  \n",
              "7795-CFOCW       No  \n",
              "9237-HQITU      Yes  "
            ],
            "text/html": [
              "\n",
              "  <div id=\"df-779ce88c-b564-4858-a363-a1329610b187\">\n",
              "    <div class=\"colab-df-container\">\n",
              "      <div>\n",
              "<style scoped>\n",
              "    .dataframe tbody tr th:only-of-type {\n",
              "        vertical-align: middle;\n",
              "    }\n",
              "\n",
              "    .dataframe tbody tr th {\n",
              "        vertical-align: top;\n",
              "    }\n",
              "\n",
              "    .dataframe thead th {\n",
              "        text-align: right;\n",
              "    }\n",
              "</style>\n",
              "<table border=\"1\" class=\"dataframe\">\n",
              "  <thead>\n",
              "    <tr style=\"text-align: right;\">\n",
              "      <th></th>\n",
              "      <th>GENERO</th>\n",
              "      <th>ADULTO_MAYOR</th>\n",
              "      <th>CASADO</th>\n",
              "      <th>PERSONAS_A_CARGO</th>\n",
              "      <th>MESES_COMO_CLIENTE</th>\n",
              "      <th>TIENE_TELEFONIA</th>\n",
              "      <th>VARIAS_LINEAS</th>\n",
              "      <th>TIPO_INTERNET</th>\n",
              "      <th>SEGURIDAD_EN_LINEA</th>\n",
              "      <th>COPIA_DE_SEGURIDAD</th>\n",
              "      <th>PROTECCION_DISPOSITIVO</th>\n",
              "      <th>SOPORTE_TECNICO</th>\n",
              "      <th>SERVICIO_TV</th>\n",
              "      <th>SERVICIOS_STREAMING</th>\n",
              "      <th>PERIODO_CONTRATO</th>\n",
              "      <th>FACTURACION_ELECTRONICA</th>\n",
              "      <th>METODO_PAGO</th>\n",
              "      <th>COBRO_MENSUAL</th>\n",
              "      <th>ABANDONO</th>\n",
              "    </tr>\n",
              "    <tr>\n",
              "      <th>ID_CLIENTE</th>\n",
              "      <th></th>\n",
              "      <th></th>\n",
              "      <th></th>\n",
              "      <th></th>\n",
              "      <th></th>\n",
              "      <th></th>\n",
              "      <th></th>\n",
              "      <th></th>\n",
              "      <th></th>\n",
              "      <th></th>\n",
              "      <th></th>\n",
              "      <th></th>\n",
              "      <th></th>\n",
              "      <th></th>\n",
              "      <th></th>\n",
              "      <th></th>\n",
              "      <th></th>\n",
              "      <th></th>\n",
              "      <th></th>\n",
              "    </tr>\n",
              "  </thead>\n",
              "  <tbody>\n",
              "    <tr>\n",
              "      <th>7590-VHVEG</th>\n",
              "      <td>Female</td>\n",
              "      <td>0</td>\n",
              "      <td>Yes</td>\n",
              "      <td>No</td>\n",
              "      <td>1</td>\n",
              "      <td>No</td>\n",
              "      <td>No phone service</td>\n",
              "      <td>DSL</td>\n",
              "      <td>No</td>\n",
              "      <td>Yes</td>\n",
              "      <td>No</td>\n",
              "      <td>No</td>\n",
              "      <td>No</td>\n",
              "      <td>No</td>\n",
              "      <td>Month-to-month</td>\n",
              "      <td>Yes</td>\n",
              "      <td>Electronic check</td>\n",
              "      <td>29.85</td>\n",
              "      <td>No</td>\n",
              "    </tr>\n",
              "    <tr>\n",
              "      <th>5575-GNVDE</th>\n",
              "      <td>Male</td>\n",
              "      <td>0</td>\n",
              "      <td>No</td>\n",
              "      <td>No</td>\n",
              "      <td>34</td>\n",
              "      <td>Yes</td>\n",
              "      <td>No</td>\n",
              "      <td>DSL</td>\n",
              "      <td>Yes</td>\n",
              "      <td>No</td>\n",
              "      <td>Yes</td>\n",
              "      <td>No</td>\n",
              "      <td>No</td>\n",
              "      <td>No</td>\n",
              "      <td>One year</td>\n",
              "      <td>No</td>\n",
              "      <td>Mailed check</td>\n",
              "      <td>56.95</td>\n",
              "      <td>No</td>\n",
              "    </tr>\n",
              "    <tr>\n",
              "      <th>3668-QPYBK</th>\n",
              "      <td>Male</td>\n",
              "      <td>0</td>\n",
              "      <td>No</td>\n",
              "      <td>No</td>\n",
              "      <td>2</td>\n",
              "      <td>Yes</td>\n",
              "      <td>No</td>\n",
              "      <td>DSL</td>\n",
              "      <td>Yes</td>\n",
              "      <td>Yes</td>\n",
              "      <td>No</td>\n",
              "      <td>No</td>\n",
              "      <td>No</td>\n",
              "      <td>No</td>\n",
              "      <td>Month-to-month</td>\n",
              "      <td>Yes</td>\n",
              "      <td>Mailed check</td>\n",
              "      <td>53.85</td>\n",
              "      <td>Yes</td>\n",
              "    </tr>\n",
              "    <tr>\n",
              "      <th>7795-CFOCW</th>\n",
              "      <td>Male</td>\n",
              "      <td>0</td>\n",
              "      <td>No</td>\n",
              "      <td>No</td>\n",
              "      <td>45</td>\n",
              "      <td>No</td>\n",
              "      <td>No phone service</td>\n",
              "      <td>DSL</td>\n",
              "      <td>Yes</td>\n",
              "      <td>No</td>\n",
              "      <td>Yes</td>\n",
              "      <td>Yes</td>\n",
              "      <td>No</td>\n",
              "      <td>No</td>\n",
              "      <td>One year</td>\n",
              "      <td>No</td>\n",
              "      <td>Bank transfer (automatic)</td>\n",
              "      <td>42.30</td>\n",
              "      <td>No</td>\n",
              "    </tr>\n",
              "    <tr>\n",
              "      <th>9237-HQITU</th>\n",
              "      <td>Female</td>\n",
              "      <td>0</td>\n",
              "      <td>No</td>\n",
              "      <td>No</td>\n",
              "      <td>2</td>\n",
              "      <td>Yes</td>\n",
              "      <td>No</td>\n",
              "      <td>Fiber optic</td>\n",
              "      <td>No</td>\n",
              "      <td>No</td>\n",
              "      <td>No</td>\n",
              "      <td>No</td>\n",
              "      <td>No</td>\n",
              "      <td>No</td>\n",
              "      <td>Month-to-month</td>\n",
              "      <td>Yes</td>\n",
              "      <td>Electronic check</td>\n",
              "      <td>70.70</td>\n",
              "      <td>Yes</td>\n",
              "    </tr>\n",
              "  </tbody>\n",
              "</table>\n",
              "</div>\n",
              "      <button class=\"colab-df-convert\" onclick=\"convertToInteractive('df-779ce88c-b564-4858-a363-a1329610b187')\"\n",
              "              title=\"Convert this dataframe to an interactive table.\"\n",
              "              style=\"display:none;\">\n",
              "        \n",
              "  <svg xmlns=\"http://www.w3.org/2000/svg\" height=\"24px\"viewBox=\"0 0 24 24\"\n",
              "       width=\"24px\">\n",
              "    <path d=\"M0 0h24v24H0V0z\" fill=\"none\"/>\n",
              "    <path d=\"M18.56 5.44l.94 2.06.94-2.06 2.06-.94-2.06-.94-.94-2.06-.94 2.06-2.06.94zm-11 1L8.5 8.5l.94-2.06 2.06-.94-2.06-.94L8.5 2.5l-.94 2.06-2.06.94zm10 10l.94 2.06.94-2.06 2.06-.94-2.06-.94-.94-2.06-.94 2.06-2.06.94z\"/><path d=\"M17.41 7.96l-1.37-1.37c-.4-.4-.92-.59-1.43-.59-.52 0-1.04.2-1.43.59L10.3 9.45l-7.72 7.72c-.78.78-.78 2.05 0 2.83L4 21.41c.39.39.9.59 1.41.59.51 0 1.02-.2 1.41-.59l7.78-7.78 2.81-2.81c.8-.78.8-2.07 0-2.86zM5.41 20L4 18.59l7.72-7.72 1.47 1.35L5.41 20z\"/>\n",
              "  </svg>\n",
              "      </button>\n",
              "      \n",
              "  <style>\n",
              "    .colab-df-container {\n",
              "      display:flex;\n",
              "      flex-wrap:wrap;\n",
              "      gap: 12px;\n",
              "    }\n",
              "\n",
              "    .colab-df-convert {\n",
              "      background-color: #E8F0FE;\n",
              "      border: none;\n",
              "      border-radius: 50%;\n",
              "      cursor: pointer;\n",
              "      display: none;\n",
              "      fill: #1967D2;\n",
              "      height: 32px;\n",
              "      padding: 0 0 0 0;\n",
              "      width: 32px;\n",
              "    }\n",
              "\n",
              "    .colab-df-convert:hover {\n",
              "      background-color: #E2EBFA;\n",
              "      box-shadow: 0px 1px 2px rgba(60, 64, 67, 0.3), 0px 1px 3px 1px rgba(60, 64, 67, 0.15);\n",
              "      fill: #174EA6;\n",
              "    }\n",
              "\n",
              "    [theme=dark] .colab-df-convert {\n",
              "      background-color: #3B4455;\n",
              "      fill: #D2E3FC;\n",
              "    }\n",
              "\n",
              "    [theme=dark] .colab-df-convert:hover {\n",
              "      background-color: #434B5C;\n",
              "      box-shadow: 0px 1px 3px 1px rgba(0, 0, 0, 0.15);\n",
              "      filter: drop-shadow(0px 1px 2px rgba(0, 0, 0, 0.3));\n",
              "      fill: #FFFFFF;\n",
              "    }\n",
              "  </style>\n",
              "\n",
              "      <script>\n",
              "        const buttonEl =\n",
              "          document.querySelector('#df-779ce88c-b564-4858-a363-a1329610b187 button.colab-df-convert');\n",
              "        buttonEl.style.display =\n",
              "          google.colab.kernel.accessAllowed ? 'block' : 'none';\n",
              "\n",
              "        async function convertToInteractive(key) {\n",
              "          const element = document.querySelector('#df-779ce88c-b564-4858-a363-a1329610b187');\n",
              "          const dataTable =\n",
              "            await google.colab.kernel.invokeFunction('convertToInteractive',\n",
              "                                                     [key], {});\n",
              "          if (!dataTable) return;\n",
              "\n",
              "          const docLinkHtml = 'Like what you see? Visit the ' +\n",
              "            '<a target=\"_blank\" href=https://colab.research.google.com/notebooks/data_table.ipynb>data table notebook</a>'\n",
              "            + ' to learn more about interactive tables.';\n",
              "          element.innerHTML = '';\n",
              "          dataTable['output_type'] = 'display_data';\n",
              "          await google.colab.output.renderOutput(dataTable, element);\n",
              "          const docLink = document.createElement('div');\n",
              "          docLink.innerHTML = docLinkHtml;\n",
              "          element.appendChild(docLink);\n",
              "        }\n",
              "      </script>\n",
              "    </div>\n",
              "  </div>\n",
              "  "
            ]
          },
          "metadata": {},
          "execution_count": 3
        }
      ]
    },
    {
      "cell_type": "markdown",
      "source": [
        "# PREPROCESAMIENTO"
      ],
      "metadata": {
        "id": "L1YymjzRL7nj"
      }
    },
    {
      "cell_type": "markdown",
      "source": [
        "## EXPLORACIÓN"
      ],
      "metadata": {
        "id": "pRJy79sGnzR_"
      }
    },
    {
      "cell_type": "code",
      "source": [
        "# Exploracion de las variables. \n",
        "DF.info() "
      ],
      "metadata": {
        "colab": {
          "base_uri": "https://localhost:8080/"
        },
        "id": "95SlpK-kL-rd",
        "outputId": "14b64baa-a2d8-4d42-8e11-5140ee5481a5"
      },
      "execution_count": null,
      "outputs": [
        {
          "output_type": "stream",
          "name": "stdout",
          "text": [
            "<class 'pandas.core.frame.DataFrame'>\n",
            "Index: 7043 entries, 7590-VHVEG to 3186-AJIEK\n",
            "Data columns (total 19 columns):\n",
            " #   Column                   Non-Null Count  Dtype  \n",
            "---  ------                   --------------  -----  \n",
            " 0   GENERO                   7043 non-null   object \n",
            " 1   ADULTO_MAYOR             7043 non-null   int64  \n",
            " 2   CASADO                   7043 non-null   object \n",
            " 3   PERSONAS_A_CARGO         7043 non-null   object \n",
            " 4   MESES_COMO_CLIENTE       7043 non-null   int64  \n",
            " 5   TIENE_TELEFONIA          7043 non-null   object \n",
            " 6   VARIAS_LINEAS            7043 non-null   object \n",
            " 7   TIPO_INTERNET            7043 non-null   object \n",
            " 8   SEGURIDAD_EN_LINEA       7043 non-null   object \n",
            " 9   COPIA_DE_SEGURIDAD       7043 non-null   object \n",
            " 10  PROTECCION_DISPOSITIVO   7043 non-null   object \n",
            " 11  SOPORTE_TECNICO          7043 non-null   object \n",
            " 12  SERVICIO_TV              7043 non-null   object \n",
            " 13  SERVICIOS_STREAMING      7043 non-null   object \n",
            " 14  PERIODO_CONTRATO         7043 non-null   object \n",
            " 15  FACTURACION_ELECTRONICA  7043 non-null   object \n",
            " 16  METODO_PAGO              7043 non-null   object \n",
            " 17  COBRO_MENSUAL            7043 non-null   float64\n",
            " 18  ABANDONO                 7043 non-null   object \n",
            "dtypes: float64(1), int64(2), object(16)\n",
            "memory usage: 1.1+ MB\n"
          ]
        }
      ]
    },
    {
      "cell_type": "markdown",
      "source": [
        ">> A pesar que en la limpieza de datos habíamos transformado las variables tipo objeto a tipo category, al cargar la base de datos Python las reconoce como objeto, por lo cual, reemplazaremos nuevamente el tipo de dato. "
      ],
      "metadata": {
        "id": "3xW9hnyFM4qy"
      }
    },
    {
      "cell_type": "code",
      "source": [
        "# Convertir columnas en categorias\n",
        "columnasConvertir = ['GENERO', 'ADULTO_MAYOR', 'CASADO', 'PERSONAS_A_CARGO', 'TIENE_TELEFONIA', \n",
        "               'VARIAS_LINEAS', 'TIPO_INTERNET', 'SEGURIDAD_EN_LINEA', 'COPIA_DE_SEGURIDAD', \n",
        "               'PROTECCION_DISPOSITIVO', 'SOPORTE_TECNICO', 'SERVICIO_TV', 'SERVICIOS_STREAMING', \n",
        "               'PERIODO_CONTRATO', 'FACTURACION_ELECTRONICA', 'METODO_PAGO', 'ABANDONO']\n",
        "              \n",
        "DF[columnasConvertir] = DF[columnasConvertir].astype(\"category\")"
      ],
      "metadata": {
        "id": "zzcnOnabNIf6"
      },
      "execution_count": null,
      "outputs": []
    },
    {
      "cell_type": "code",
      "source": [
        "# Reporte de cambios\n",
        "DF.dtypes"
      ],
      "metadata": {
        "colab": {
          "base_uri": "https://localhost:8080/"
        },
        "id": "Aojjgy1GNY7x",
        "outputId": "5a8d7e03-3043-434e-fdec-ddd927ae4709"
      },
      "execution_count": null,
      "outputs": [
        {
          "output_type": "execute_result",
          "data": {
            "text/plain": [
              "GENERO                     category\n",
              "ADULTO_MAYOR               category\n",
              "CASADO                     category\n",
              "PERSONAS_A_CARGO           category\n",
              "MESES_COMO_CLIENTE            int64\n",
              "TIENE_TELEFONIA            category\n",
              "VARIAS_LINEAS              category\n",
              "TIPO_INTERNET              category\n",
              "SEGURIDAD_EN_LINEA         category\n",
              "COPIA_DE_SEGURIDAD         category\n",
              "PROTECCION_DISPOSITIVO     category\n",
              "SOPORTE_TECNICO            category\n",
              "SERVICIO_TV                category\n",
              "SERVICIOS_STREAMING        category\n",
              "PERIODO_CONTRATO           category\n",
              "FACTURACION_ELECTRONICA    category\n",
              "METODO_PAGO                category\n",
              "COBRO_MENSUAL               float64\n",
              "ABANDONO                   category\n",
              "dtype: object"
            ]
          },
          "metadata": {},
          "execution_count": 6
        }
      ]
    },
    {
      "cell_type": "markdown",
      "source": [
        "## ONE CODE\n",
        "\n",
        ">> Toda vez que el modelo no recibe datos categóricos , codificaremos las variables categoricas en variables tipo one code"
      ],
      "metadata": {
        "id": "k-A3SeEPn5E-"
      }
    },
    {
      "cell_type": "code",
      "source": [
        "# Codificacion variables categoricas\n",
        "DF_dummie = DF.select_dtypes(exclude=np.number)\n",
        "DF_dummie = pd.get_dummies(DF_dummie, drop_first = True)\n",
        "DF_dummie.head()"
      ],
      "metadata": {
        "colab": {
          "base_uri": "https://localhost:8080/",
          "height": 435
        },
        "id": "ZcXgeRYvOw5S",
        "outputId": "80ae4601-4a80-4524-8701-56dcb2b8c88f"
      },
      "execution_count": null,
      "outputs": [
        {
          "output_type": "execute_result",
          "data": {
            "text/plain": [
              "            GENERO_Male  ADULTO_MAYOR_1  CASADO_Yes  PERSONAS_A_CARGO_Yes  \\\n",
              "ID_CLIENTE                                                                  \n",
              "7590-VHVEG            0               0           1                     0   \n",
              "5575-GNVDE            1               0           0                     0   \n",
              "3668-QPYBK            1               0           0                     0   \n",
              "7795-CFOCW            1               0           0                     0   \n",
              "9237-HQITU            0               0           0                     0   \n",
              "\n",
              "            TIENE_TELEFONIA_Yes  VARIAS_LINEAS_No phone service  \\\n",
              "ID_CLIENTE                                                        \n",
              "7590-VHVEG                    0                               1   \n",
              "5575-GNVDE                    1                               0   \n",
              "3668-QPYBK                    1                               0   \n",
              "7795-CFOCW                    0                               1   \n",
              "9237-HQITU                    1                               0   \n",
              "\n",
              "            VARIAS_LINEAS_Yes  TIPO_INTERNET_Fiber optic  TIPO_INTERNET_No  \\\n",
              "ID_CLIENTE                                                                   \n",
              "7590-VHVEG                  0                          0                 0   \n",
              "5575-GNVDE                  0                          0                 0   \n",
              "3668-QPYBK                  0                          0                 0   \n",
              "7795-CFOCW                  0                          0                 0   \n",
              "9237-HQITU                  0                          1                 0   \n",
              "\n",
              "            SEGURIDAD_EN_LINEA_No internet service  ...  SERVICIO_TV_Yes  \\\n",
              "ID_CLIENTE                                          ...                    \n",
              "7590-VHVEG                                       0  ...                0   \n",
              "5575-GNVDE                                       0  ...                0   \n",
              "3668-QPYBK                                       0  ...                0   \n",
              "7795-CFOCW                                       0  ...                0   \n",
              "9237-HQITU                                       0  ...                0   \n",
              "\n",
              "            SERVICIOS_STREAMING_No internet service  SERVICIOS_STREAMING_Yes  \\\n",
              "ID_CLIENTE                                                                     \n",
              "7590-VHVEG                                        0                        0   \n",
              "5575-GNVDE                                        0                        0   \n",
              "3668-QPYBK                                        0                        0   \n",
              "7795-CFOCW                                        0                        0   \n",
              "9237-HQITU                                        0                        0   \n",
              "\n",
              "            PERIODO_CONTRATO_One year  PERIODO_CONTRATO_Two year  \\\n",
              "ID_CLIENTE                                                         \n",
              "7590-VHVEG                          0                          0   \n",
              "5575-GNVDE                          1                          0   \n",
              "3668-QPYBK                          0                          0   \n",
              "7795-CFOCW                          1                          0   \n",
              "9237-HQITU                          0                          0   \n",
              "\n",
              "            FACTURACION_ELECTRONICA_Yes  METODO_PAGO_Credit card (automatic)  \\\n",
              "ID_CLIENTE                                                                     \n",
              "7590-VHVEG                            1                                    0   \n",
              "5575-GNVDE                            0                                    0   \n",
              "3668-QPYBK                            1                                    0   \n",
              "7795-CFOCW                            0                                    0   \n",
              "9237-HQITU                            1                                    0   \n",
              "\n",
              "            METODO_PAGO_Electronic check  METODO_PAGO_Mailed check  \\\n",
              "ID_CLIENTE                                                           \n",
              "7590-VHVEG                             1                         0   \n",
              "5575-GNVDE                             0                         1   \n",
              "3668-QPYBK                             0                         1   \n",
              "7795-CFOCW                             0                         0   \n",
              "9237-HQITU                             1                         0   \n",
              "\n",
              "            ABANDONO_Yes  \n",
              "ID_CLIENTE                \n",
              "7590-VHVEG             0  \n",
              "5575-GNVDE             0  \n",
              "3668-QPYBK             1  \n",
              "7795-CFOCW             0  \n",
              "9237-HQITU             1  \n",
              "\n",
              "[5 rows x 28 columns]"
            ],
            "text/html": [
              "\n",
              "  <div id=\"df-be9473f3-f6f7-43c3-b6c5-45014f660ca8\">\n",
              "    <div class=\"colab-df-container\">\n",
              "      <div>\n",
              "<style scoped>\n",
              "    .dataframe tbody tr th:only-of-type {\n",
              "        vertical-align: middle;\n",
              "    }\n",
              "\n",
              "    .dataframe tbody tr th {\n",
              "        vertical-align: top;\n",
              "    }\n",
              "\n",
              "    .dataframe thead th {\n",
              "        text-align: right;\n",
              "    }\n",
              "</style>\n",
              "<table border=\"1\" class=\"dataframe\">\n",
              "  <thead>\n",
              "    <tr style=\"text-align: right;\">\n",
              "      <th></th>\n",
              "      <th>GENERO_Male</th>\n",
              "      <th>ADULTO_MAYOR_1</th>\n",
              "      <th>CASADO_Yes</th>\n",
              "      <th>PERSONAS_A_CARGO_Yes</th>\n",
              "      <th>TIENE_TELEFONIA_Yes</th>\n",
              "      <th>VARIAS_LINEAS_No phone service</th>\n",
              "      <th>VARIAS_LINEAS_Yes</th>\n",
              "      <th>TIPO_INTERNET_Fiber optic</th>\n",
              "      <th>TIPO_INTERNET_No</th>\n",
              "      <th>SEGURIDAD_EN_LINEA_No internet service</th>\n",
              "      <th>...</th>\n",
              "      <th>SERVICIO_TV_Yes</th>\n",
              "      <th>SERVICIOS_STREAMING_No internet service</th>\n",
              "      <th>SERVICIOS_STREAMING_Yes</th>\n",
              "      <th>PERIODO_CONTRATO_One year</th>\n",
              "      <th>PERIODO_CONTRATO_Two year</th>\n",
              "      <th>FACTURACION_ELECTRONICA_Yes</th>\n",
              "      <th>METODO_PAGO_Credit card (automatic)</th>\n",
              "      <th>METODO_PAGO_Electronic check</th>\n",
              "      <th>METODO_PAGO_Mailed check</th>\n",
              "      <th>ABANDONO_Yes</th>\n",
              "    </tr>\n",
              "    <tr>\n",
              "      <th>ID_CLIENTE</th>\n",
              "      <th></th>\n",
              "      <th></th>\n",
              "      <th></th>\n",
              "      <th></th>\n",
              "      <th></th>\n",
              "      <th></th>\n",
              "      <th></th>\n",
              "      <th></th>\n",
              "      <th></th>\n",
              "      <th></th>\n",
              "      <th></th>\n",
              "      <th></th>\n",
              "      <th></th>\n",
              "      <th></th>\n",
              "      <th></th>\n",
              "      <th></th>\n",
              "      <th></th>\n",
              "      <th></th>\n",
              "      <th></th>\n",
              "      <th></th>\n",
              "      <th></th>\n",
              "    </tr>\n",
              "  </thead>\n",
              "  <tbody>\n",
              "    <tr>\n",
              "      <th>7590-VHVEG</th>\n",
              "      <td>0</td>\n",
              "      <td>0</td>\n",
              "      <td>1</td>\n",
              "      <td>0</td>\n",
              "      <td>0</td>\n",
              "      <td>1</td>\n",
              "      <td>0</td>\n",
              "      <td>0</td>\n",
              "      <td>0</td>\n",
              "      <td>0</td>\n",
              "      <td>...</td>\n",
              "      <td>0</td>\n",
              "      <td>0</td>\n",
              "      <td>0</td>\n",
              "      <td>0</td>\n",
              "      <td>0</td>\n",
              "      <td>1</td>\n",
              "      <td>0</td>\n",
              "      <td>1</td>\n",
              "      <td>0</td>\n",
              "      <td>0</td>\n",
              "    </tr>\n",
              "    <tr>\n",
              "      <th>5575-GNVDE</th>\n",
              "      <td>1</td>\n",
              "      <td>0</td>\n",
              "      <td>0</td>\n",
              "      <td>0</td>\n",
              "      <td>1</td>\n",
              "      <td>0</td>\n",
              "      <td>0</td>\n",
              "      <td>0</td>\n",
              "      <td>0</td>\n",
              "      <td>0</td>\n",
              "      <td>...</td>\n",
              "      <td>0</td>\n",
              "      <td>0</td>\n",
              "      <td>0</td>\n",
              "      <td>1</td>\n",
              "      <td>0</td>\n",
              "      <td>0</td>\n",
              "      <td>0</td>\n",
              "      <td>0</td>\n",
              "      <td>1</td>\n",
              "      <td>0</td>\n",
              "    </tr>\n",
              "    <tr>\n",
              "      <th>3668-QPYBK</th>\n",
              "      <td>1</td>\n",
              "      <td>0</td>\n",
              "      <td>0</td>\n",
              "      <td>0</td>\n",
              "      <td>1</td>\n",
              "      <td>0</td>\n",
              "      <td>0</td>\n",
              "      <td>0</td>\n",
              "      <td>0</td>\n",
              "      <td>0</td>\n",
              "      <td>...</td>\n",
              "      <td>0</td>\n",
              "      <td>0</td>\n",
              "      <td>0</td>\n",
              "      <td>0</td>\n",
              "      <td>0</td>\n",
              "      <td>1</td>\n",
              "      <td>0</td>\n",
              "      <td>0</td>\n",
              "      <td>1</td>\n",
              "      <td>1</td>\n",
              "    </tr>\n",
              "    <tr>\n",
              "      <th>7795-CFOCW</th>\n",
              "      <td>1</td>\n",
              "      <td>0</td>\n",
              "      <td>0</td>\n",
              "      <td>0</td>\n",
              "      <td>0</td>\n",
              "      <td>1</td>\n",
              "      <td>0</td>\n",
              "      <td>0</td>\n",
              "      <td>0</td>\n",
              "      <td>0</td>\n",
              "      <td>...</td>\n",
              "      <td>0</td>\n",
              "      <td>0</td>\n",
              "      <td>0</td>\n",
              "      <td>1</td>\n",
              "      <td>0</td>\n",
              "      <td>0</td>\n",
              "      <td>0</td>\n",
              "      <td>0</td>\n",
              "      <td>0</td>\n",
              "      <td>0</td>\n",
              "    </tr>\n",
              "    <tr>\n",
              "      <th>9237-HQITU</th>\n",
              "      <td>0</td>\n",
              "      <td>0</td>\n",
              "      <td>0</td>\n",
              "      <td>0</td>\n",
              "      <td>1</td>\n",
              "      <td>0</td>\n",
              "      <td>0</td>\n",
              "      <td>1</td>\n",
              "      <td>0</td>\n",
              "      <td>0</td>\n",
              "      <td>...</td>\n",
              "      <td>0</td>\n",
              "      <td>0</td>\n",
              "      <td>0</td>\n",
              "      <td>0</td>\n",
              "      <td>0</td>\n",
              "      <td>1</td>\n",
              "      <td>0</td>\n",
              "      <td>1</td>\n",
              "      <td>0</td>\n",
              "      <td>1</td>\n",
              "    </tr>\n",
              "  </tbody>\n",
              "</table>\n",
              "<p>5 rows × 28 columns</p>\n",
              "</div>\n",
              "      <button class=\"colab-df-convert\" onclick=\"convertToInteractive('df-be9473f3-f6f7-43c3-b6c5-45014f660ca8')\"\n",
              "              title=\"Convert this dataframe to an interactive table.\"\n",
              "              style=\"display:none;\">\n",
              "        \n",
              "  <svg xmlns=\"http://www.w3.org/2000/svg\" height=\"24px\"viewBox=\"0 0 24 24\"\n",
              "       width=\"24px\">\n",
              "    <path d=\"M0 0h24v24H0V0z\" fill=\"none\"/>\n",
              "    <path d=\"M18.56 5.44l.94 2.06.94-2.06 2.06-.94-2.06-.94-.94-2.06-.94 2.06-2.06.94zm-11 1L8.5 8.5l.94-2.06 2.06-.94-2.06-.94L8.5 2.5l-.94 2.06-2.06.94zm10 10l.94 2.06.94-2.06 2.06-.94-2.06-.94-.94-2.06-.94 2.06-2.06.94z\"/><path d=\"M17.41 7.96l-1.37-1.37c-.4-.4-.92-.59-1.43-.59-.52 0-1.04.2-1.43.59L10.3 9.45l-7.72 7.72c-.78.78-.78 2.05 0 2.83L4 21.41c.39.39.9.59 1.41.59.51 0 1.02-.2 1.41-.59l7.78-7.78 2.81-2.81c.8-.78.8-2.07 0-2.86zM5.41 20L4 18.59l7.72-7.72 1.47 1.35L5.41 20z\"/>\n",
              "  </svg>\n",
              "      </button>\n",
              "      \n",
              "  <style>\n",
              "    .colab-df-container {\n",
              "      display:flex;\n",
              "      flex-wrap:wrap;\n",
              "      gap: 12px;\n",
              "    }\n",
              "\n",
              "    .colab-df-convert {\n",
              "      background-color: #E8F0FE;\n",
              "      border: none;\n",
              "      border-radius: 50%;\n",
              "      cursor: pointer;\n",
              "      display: none;\n",
              "      fill: #1967D2;\n",
              "      height: 32px;\n",
              "      padding: 0 0 0 0;\n",
              "      width: 32px;\n",
              "    }\n",
              "\n",
              "    .colab-df-convert:hover {\n",
              "      background-color: #E2EBFA;\n",
              "      box-shadow: 0px 1px 2px rgba(60, 64, 67, 0.3), 0px 1px 3px 1px rgba(60, 64, 67, 0.15);\n",
              "      fill: #174EA6;\n",
              "    }\n",
              "\n",
              "    [theme=dark] .colab-df-convert {\n",
              "      background-color: #3B4455;\n",
              "      fill: #D2E3FC;\n",
              "    }\n",
              "\n",
              "    [theme=dark] .colab-df-convert:hover {\n",
              "      background-color: #434B5C;\n",
              "      box-shadow: 0px 1px 3px 1px rgba(0, 0, 0, 0.15);\n",
              "      filter: drop-shadow(0px 1px 2px rgba(0, 0, 0, 0.3));\n",
              "      fill: #FFFFFF;\n",
              "    }\n",
              "  </style>\n",
              "\n",
              "      <script>\n",
              "        const buttonEl =\n",
              "          document.querySelector('#df-be9473f3-f6f7-43c3-b6c5-45014f660ca8 button.colab-df-convert');\n",
              "        buttonEl.style.display =\n",
              "          google.colab.kernel.accessAllowed ? 'block' : 'none';\n",
              "\n",
              "        async function convertToInteractive(key) {\n",
              "          const element = document.querySelector('#df-be9473f3-f6f7-43c3-b6c5-45014f660ca8');\n",
              "          const dataTable =\n",
              "            await google.colab.kernel.invokeFunction('convertToInteractive',\n",
              "                                                     [key], {});\n",
              "          if (!dataTable) return;\n",
              "\n",
              "          const docLinkHtml = 'Like what you see? Visit the ' +\n",
              "            '<a target=\"_blank\" href=https://colab.research.google.com/notebooks/data_table.ipynb>data table notebook</a>'\n",
              "            + ' to learn more about interactive tables.';\n",
              "          element.innerHTML = '';\n",
              "          dataTable['output_type'] = 'display_data';\n",
              "          await google.colab.output.renderOutput(dataTable, element);\n",
              "          const docLink = document.createElement('div');\n",
              "          docLink.innerHTML = docLinkHtml;\n",
              "          element.appendChild(docLink);\n",
              "        }\n",
              "      </script>\n",
              "    </div>\n",
              "  </div>\n",
              "  "
            ]
          },
          "metadata": {},
          "execution_count": 7
        }
      ]
    },
    {
      "cell_type": "markdown",
      "source": [
        "## Escalamiento de datos"
      ],
      "metadata": {
        "id": "dstg_eTsoItO"
      }
    },
    {
      "cell_type": "markdown",
      "source": [
        ">> Toda vez que los datos cuantitativos en la base tienen escalas y unidades de medida diferentes consideramos necesario homogenizar estos datos para evitar introducir sesgos al modelo. \n",
        "\n",
        ">> Para esto homogenizaremos las variables usando la técnica de Robust Scaler que nos permitirá no solo ajustar nuestros datos a una distribución normal, si no que nos evitara que los datos atípicos sesguen los resultados de nuestro modelo.  \n",
        "\n",
        "> Escala características utilizando estadísticas que son robustas a los valores atípicos. \n",
        "Este Escalador elimina la mediana y escala los datos según el rango cuantílico (por defecto IQR: Interquartile Range). El IQR es el rango entre el 1er cuartil (cuantil 25) y el 3er cuartil (cuantil 75). \n",
        "El centrado y el escalado se realizan de forma independiente en cada característica calculando los estadísticos relevantes en las muestras del conjunto de entrenamiento. A continuación, la mediana y el rango intercuartílico se almacenan para utilizarlos en datos posteriores mediante el método de transformación. \n",
        "La normalización de un conjunto de datos es un requisito común para muchos estimadores de aprendizaje automático. Normalmente, esto se hace eliminando la media y escalando a la varianza unitaria. Sin embargo, los valores atípicos pueden influir negativamente en la media/varianza de la muestra. En estos casos, la mediana y el rango intercuartílico suelen dar mejores resultados. \n",
        "[Info](https://scikit-learn.org/stable/modules/generated/sklearn.preprocessing.RobustScaler.html)"
      ],
      "metadata": {
        "id": "S3GqDK-vqvtv"
      }
    },
    {
      "cell_type": "code",
      "source": [
        "# Obtener variables numericas en otro data frame\n",
        "DF_num = DF.select_dtypes(include=np.number)\n",
        "# Estandarizar los datos numericos\n",
        "datosEstandarizados = preprocessing.RobustScaler().fit_transform(DF_num)\n",
        "# Crear dataframa con los datos estandarizados \n",
        "DF_num = pd.DataFrame(datosEstandarizados, columns = DF_num.columns, index = DF_num.index)\n",
        "DF_num.head()"
      ],
      "metadata": {
        "id": "gN5IVEW5lgC4",
        "colab": {
          "base_uri": "https://localhost:8080/",
          "height": 238
        },
        "outputId": "8f7b1f75-9474-4faf-cc4b-a2470b963943"
      },
      "execution_count": null,
      "outputs": [
        {
          "output_type": "execute_result",
          "data": {
            "text/plain": [
              "            MESES_COMO_CLIENTE  COBRO_MENSUAL\n",
              "ID_CLIENTE                                   \n",
              "7590-VHVEG           -0.608696      -0.745170\n",
              "5575-GNVDE            0.108696      -0.246550\n",
              "3668-QPYBK           -0.586957      -0.303588\n",
              "7795-CFOCW            0.347826      -0.516099\n",
              "9237-HQITU           -0.586957       0.006440"
            ],
            "text/html": [
              "\n",
              "  <div id=\"df-ddfe1ecd-2e59-47df-8a73-45458435f169\">\n",
              "    <div class=\"colab-df-container\">\n",
              "      <div>\n",
              "<style scoped>\n",
              "    .dataframe tbody tr th:only-of-type {\n",
              "        vertical-align: middle;\n",
              "    }\n",
              "\n",
              "    .dataframe tbody tr th {\n",
              "        vertical-align: top;\n",
              "    }\n",
              "\n",
              "    .dataframe thead th {\n",
              "        text-align: right;\n",
              "    }\n",
              "</style>\n",
              "<table border=\"1\" class=\"dataframe\">\n",
              "  <thead>\n",
              "    <tr style=\"text-align: right;\">\n",
              "      <th></th>\n",
              "      <th>MESES_COMO_CLIENTE</th>\n",
              "      <th>COBRO_MENSUAL</th>\n",
              "    </tr>\n",
              "    <tr>\n",
              "      <th>ID_CLIENTE</th>\n",
              "      <th></th>\n",
              "      <th></th>\n",
              "    </tr>\n",
              "  </thead>\n",
              "  <tbody>\n",
              "    <tr>\n",
              "      <th>7590-VHVEG</th>\n",
              "      <td>-0.608696</td>\n",
              "      <td>-0.745170</td>\n",
              "    </tr>\n",
              "    <tr>\n",
              "      <th>5575-GNVDE</th>\n",
              "      <td>0.108696</td>\n",
              "      <td>-0.246550</td>\n",
              "    </tr>\n",
              "    <tr>\n",
              "      <th>3668-QPYBK</th>\n",
              "      <td>-0.586957</td>\n",
              "      <td>-0.303588</td>\n",
              "    </tr>\n",
              "    <tr>\n",
              "      <th>7795-CFOCW</th>\n",
              "      <td>0.347826</td>\n",
              "      <td>-0.516099</td>\n",
              "    </tr>\n",
              "    <tr>\n",
              "      <th>9237-HQITU</th>\n",
              "      <td>-0.586957</td>\n",
              "      <td>0.006440</td>\n",
              "    </tr>\n",
              "  </tbody>\n",
              "</table>\n",
              "</div>\n",
              "      <button class=\"colab-df-convert\" onclick=\"convertToInteractive('df-ddfe1ecd-2e59-47df-8a73-45458435f169')\"\n",
              "              title=\"Convert this dataframe to an interactive table.\"\n",
              "              style=\"display:none;\">\n",
              "        \n",
              "  <svg xmlns=\"http://www.w3.org/2000/svg\" height=\"24px\"viewBox=\"0 0 24 24\"\n",
              "       width=\"24px\">\n",
              "    <path d=\"M0 0h24v24H0V0z\" fill=\"none\"/>\n",
              "    <path d=\"M18.56 5.44l.94 2.06.94-2.06 2.06-.94-2.06-.94-.94-2.06-.94 2.06-2.06.94zm-11 1L8.5 8.5l.94-2.06 2.06-.94-2.06-.94L8.5 2.5l-.94 2.06-2.06.94zm10 10l.94 2.06.94-2.06 2.06-.94-2.06-.94-.94-2.06-.94 2.06-2.06.94z\"/><path d=\"M17.41 7.96l-1.37-1.37c-.4-.4-.92-.59-1.43-.59-.52 0-1.04.2-1.43.59L10.3 9.45l-7.72 7.72c-.78.78-.78 2.05 0 2.83L4 21.41c.39.39.9.59 1.41.59.51 0 1.02-.2 1.41-.59l7.78-7.78 2.81-2.81c.8-.78.8-2.07 0-2.86zM5.41 20L4 18.59l7.72-7.72 1.47 1.35L5.41 20z\"/>\n",
              "  </svg>\n",
              "      </button>\n",
              "      \n",
              "  <style>\n",
              "    .colab-df-container {\n",
              "      display:flex;\n",
              "      flex-wrap:wrap;\n",
              "      gap: 12px;\n",
              "    }\n",
              "\n",
              "    .colab-df-convert {\n",
              "      background-color: #E8F0FE;\n",
              "      border: none;\n",
              "      border-radius: 50%;\n",
              "      cursor: pointer;\n",
              "      display: none;\n",
              "      fill: #1967D2;\n",
              "      height: 32px;\n",
              "      padding: 0 0 0 0;\n",
              "      width: 32px;\n",
              "    }\n",
              "\n",
              "    .colab-df-convert:hover {\n",
              "      background-color: #E2EBFA;\n",
              "      box-shadow: 0px 1px 2px rgba(60, 64, 67, 0.3), 0px 1px 3px 1px rgba(60, 64, 67, 0.15);\n",
              "      fill: #174EA6;\n",
              "    }\n",
              "\n",
              "    [theme=dark] .colab-df-convert {\n",
              "      background-color: #3B4455;\n",
              "      fill: #D2E3FC;\n",
              "    }\n",
              "\n",
              "    [theme=dark] .colab-df-convert:hover {\n",
              "      background-color: #434B5C;\n",
              "      box-shadow: 0px 1px 3px 1px rgba(0, 0, 0, 0.15);\n",
              "      filter: drop-shadow(0px 1px 2px rgba(0, 0, 0, 0.3));\n",
              "      fill: #FFFFFF;\n",
              "    }\n",
              "  </style>\n",
              "\n",
              "      <script>\n",
              "        const buttonEl =\n",
              "          document.querySelector('#df-ddfe1ecd-2e59-47df-8a73-45458435f169 button.colab-df-convert');\n",
              "        buttonEl.style.display =\n",
              "          google.colab.kernel.accessAllowed ? 'block' : 'none';\n",
              "\n",
              "        async function convertToInteractive(key) {\n",
              "          const element = document.querySelector('#df-ddfe1ecd-2e59-47df-8a73-45458435f169');\n",
              "          const dataTable =\n",
              "            await google.colab.kernel.invokeFunction('convertToInteractive',\n",
              "                                                     [key], {});\n",
              "          if (!dataTable) return;\n",
              "\n",
              "          const docLinkHtml = 'Like what you see? Visit the ' +\n",
              "            '<a target=\"_blank\" href=https://colab.research.google.com/notebooks/data_table.ipynb>data table notebook</a>'\n",
              "            + ' to learn more about interactive tables.';\n",
              "          element.innerHTML = '';\n",
              "          dataTable['output_type'] = 'display_data';\n",
              "          await google.colab.output.renderOutput(dataTable, element);\n",
              "          const docLink = document.createElement('div');\n",
              "          docLink.innerHTML = docLinkHtml;\n",
              "          element.appendChild(docLink);\n",
              "        }\n",
              "      </script>\n",
              "    </div>\n",
              "  </div>\n",
              "  "
            ]
          },
          "metadata": {},
          "execution_count": 8
        }
      ]
    },
    {
      "cell_type": "markdown",
      "source": [
        "## BASE FINAL"
      ],
      "metadata": {
        "id": "_nCFozEiuePR"
      }
    },
    {
      "cell_type": "code",
      "source": [
        "# concatenar los dataframe\n",
        "DF_modelo =  pd.concat([DF_dummie, DF_num], axis=1)\n",
        "DF_modelo.head() "
      ],
      "metadata": {
        "colab": {
          "base_uri": "https://localhost:8080/",
          "height": 435
        },
        "id": "fAFPPGseuiho",
        "outputId": "efce862e-121b-4410-dc2c-d1bb6f1f8143"
      },
      "execution_count": null,
      "outputs": [
        {
          "output_type": "execute_result",
          "data": {
            "text/plain": [
              "            GENERO_Male  ADULTO_MAYOR_1  CASADO_Yes  PERSONAS_A_CARGO_Yes  \\\n",
              "ID_CLIENTE                                                                  \n",
              "7590-VHVEG            0               0           1                     0   \n",
              "5575-GNVDE            1               0           0                     0   \n",
              "3668-QPYBK            1               0           0                     0   \n",
              "7795-CFOCW            1               0           0                     0   \n",
              "9237-HQITU            0               0           0                     0   \n",
              "\n",
              "            TIENE_TELEFONIA_Yes  VARIAS_LINEAS_No phone service  \\\n",
              "ID_CLIENTE                                                        \n",
              "7590-VHVEG                    0                               1   \n",
              "5575-GNVDE                    1                               0   \n",
              "3668-QPYBK                    1                               0   \n",
              "7795-CFOCW                    0                               1   \n",
              "9237-HQITU                    1                               0   \n",
              "\n",
              "            VARIAS_LINEAS_Yes  TIPO_INTERNET_Fiber optic  TIPO_INTERNET_No  \\\n",
              "ID_CLIENTE                                                                   \n",
              "7590-VHVEG                  0                          0                 0   \n",
              "5575-GNVDE                  0                          0                 0   \n",
              "3668-QPYBK                  0                          0                 0   \n",
              "7795-CFOCW                  0                          0                 0   \n",
              "9237-HQITU                  0                          1                 0   \n",
              "\n",
              "            SEGURIDAD_EN_LINEA_No internet service  ...  \\\n",
              "ID_CLIENTE                                          ...   \n",
              "7590-VHVEG                                       0  ...   \n",
              "5575-GNVDE                                       0  ...   \n",
              "3668-QPYBK                                       0  ...   \n",
              "7795-CFOCW                                       0  ...   \n",
              "9237-HQITU                                       0  ...   \n",
              "\n",
              "            SERVICIOS_STREAMING_Yes  PERIODO_CONTRATO_One year  \\\n",
              "ID_CLIENTE                                                       \n",
              "7590-VHVEG                        0                          0   \n",
              "5575-GNVDE                        0                          1   \n",
              "3668-QPYBK                        0                          0   \n",
              "7795-CFOCW                        0                          1   \n",
              "9237-HQITU                        0                          0   \n",
              "\n",
              "            PERIODO_CONTRATO_Two year  FACTURACION_ELECTRONICA_Yes  \\\n",
              "ID_CLIENTE                                                           \n",
              "7590-VHVEG                          0                            1   \n",
              "5575-GNVDE                          0                            0   \n",
              "3668-QPYBK                          0                            1   \n",
              "7795-CFOCW                          0                            0   \n",
              "9237-HQITU                          0                            1   \n",
              "\n",
              "            METODO_PAGO_Credit card (automatic)  METODO_PAGO_Electronic check  \\\n",
              "ID_CLIENTE                                                                      \n",
              "7590-VHVEG                                    0                             1   \n",
              "5575-GNVDE                                    0                             0   \n",
              "3668-QPYBK                                    0                             0   \n",
              "7795-CFOCW                                    0                             0   \n",
              "9237-HQITU                                    0                             1   \n",
              "\n",
              "            METODO_PAGO_Mailed check  ABANDONO_Yes  MESES_COMO_CLIENTE  \\\n",
              "ID_CLIENTE                                                               \n",
              "7590-VHVEG                         0             0           -0.608696   \n",
              "5575-GNVDE                         1             0            0.108696   \n",
              "3668-QPYBK                         1             1           -0.586957   \n",
              "7795-CFOCW                         0             0            0.347826   \n",
              "9237-HQITU                         0             1           -0.586957   \n",
              "\n",
              "            COBRO_MENSUAL  \n",
              "ID_CLIENTE                 \n",
              "7590-VHVEG      -0.745170  \n",
              "5575-GNVDE      -0.246550  \n",
              "3668-QPYBK      -0.303588  \n",
              "7795-CFOCW      -0.516099  \n",
              "9237-HQITU       0.006440  \n",
              "\n",
              "[5 rows x 30 columns]"
            ],
            "text/html": [
              "\n",
              "  <div id=\"df-a234898f-929b-4d8a-98d7-4a36c3af4119\">\n",
              "    <div class=\"colab-df-container\">\n",
              "      <div>\n",
              "<style scoped>\n",
              "    .dataframe tbody tr th:only-of-type {\n",
              "        vertical-align: middle;\n",
              "    }\n",
              "\n",
              "    .dataframe tbody tr th {\n",
              "        vertical-align: top;\n",
              "    }\n",
              "\n",
              "    .dataframe thead th {\n",
              "        text-align: right;\n",
              "    }\n",
              "</style>\n",
              "<table border=\"1\" class=\"dataframe\">\n",
              "  <thead>\n",
              "    <tr style=\"text-align: right;\">\n",
              "      <th></th>\n",
              "      <th>GENERO_Male</th>\n",
              "      <th>ADULTO_MAYOR_1</th>\n",
              "      <th>CASADO_Yes</th>\n",
              "      <th>PERSONAS_A_CARGO_Yes</th>\n",
              "      <th>TIENE_TELEFONIA_Yes</th>\n",
              "      <th>VARIAS_LINEAS_No phone service</th>\n",
              "      <th>VARIAS_LINEAS_Yes</th>\n",
              "      <th>TIPO_INTERNET_Fiber optic</th>\n",
              "      <th>TIPO_INTERNET_No</th>\n",
              "      <th>SEGURIDAD_EN_LINEA_No internet service</th>\n",
              "      <th>...</th>\n",
              "      <th>SERVICIOS_STREAMING_Yes</th>\n",
              "      <th>PERIODO_CONTRATO_One year</th>\n",
              "      <th>PERIODO_CONTRATO_Two year</th>\n",
              "      <th>FACTURACION_ELECTRONICA_Yes</th>\n",
              "      <th>METODO_PAGO_Credit card (automatic)</th>\n",
              "      <th>METODO_PAGO_Electronic check</th>\n",
              "      <th>METODO_PAGO_Mailed check</th>\n",
              "      <th>ABANDONO_Yes</th>\n",
              "      <th>MESES_COMO_CLIENTE</th>\n",
              "      <th>COBRO_MENSUAL</th>\n",
              "    </tr>\n",
              "    <tr>\n",
              "      <th>ID_CLIENTE</th>\n",
              "      <th></th>\n",
              "      <th></th>\n",
              "      <th></th>\n",
              "      <th></th>\n",
              "      <th></th>\n",
              "      <th></th>\n",
              "      <th></th>\n",
              "      <th></th>\n",
              "      <th></th>\n",
              "      <th></th>\n",
              "      <th></th>\n",
              "      <th></th>\n",
              "      <th></th>\n",
              "      <th></th>\n",
              "      <th></th>\n",
              "      <th></th>\n",
              "      <th></th>\n",
              "      <th></th>\n",
              "      <th></th>\n",
              "      <th></th>\n",
              "      <th></th>\n",
              "    </tr>\n",
              "  </thead>\n",
              "  <tbody>\n",
              "    <tr>\n",
              "      <th>7590-VHVEG</th>\n",
              "      <td>0</td>\n",
              "      <td>0</td>\n",
              "      <td>1</td>\n",
              "      <td>0</td>\n",
              "      <td>0</td>\n",
              "      <td>1</td>\n",
              "      <td>0</td>\n",
              "      <td>0</td>\n",
              "      <td>0</td>\n",
              "      <td>0</td>\n",
              "      <td>...</td>\n",
              "      <td>0</td>\n",
              "      <td>0</td>\n",
              "      <td>0</td>\n",
              "      <td>1</td>\n",
              "      <td>0</td>\n",
              "      <td>1</td>\n",
              "      <td>0</td>\n",
              "      <td>0</td>\n",
              "      <td>-0.608696</td>\n",
              "      <td>-0.745170</td>\n",
              "    </tr>\n",
              "    <tr>\n",
              "      <th>5575-GNVDE</th>\n",
              "      <td>1</td>\n",
              "      <td>0</td>\n",
              "      <td>0</td>\n",
              "      <td>0</td>\n",
              "      <td>1</td>\n",
              "      <td>0</td>\n",
              "      <td>0</td>\n",
              "      <td>0</td>\n",
              "      <td>0</td>\n",
              "      <td>0</td>\n",
              "      <td>...</td>\n",
              "      <td>0</td>\n",
              "      <td>1</td>\n",
              "      <td>0</td>\n",
              "      <td>0</td>\n",
              "      <td>0</td>\n",
              "      <td>0</td>\n",
              "      <td>1</td>\n",
              "      <td>0</td>\n",
              "      <td>0.108696</td>\n",
              "      <td>-0.246550</td>\n",
              "    </tr>\n",
              "    <tr>\n",
              "      <th>3668-QPYBK</th>\n",
              "      <td>1</td>\n",
              "      <td>0</td>\n",
              "      <td>0</td>\n",
              "      <td>0</td>\n",
              "      <td>1</td>\n",
              "      <td>0</td>\n",
              "      <td>0</td>\n",
              "      <td>0</td>\n",
              "      <td>0</td>\n",
              "      <td>0</td>\n",
              "      <td>...</td>\n",
              "      <td>0</td>\n",
              "      <td>0</td>\n",
              "      <td>0</td>\n",
              "      <td>1</td>\n",
              "      <td>0</td>\n",
              "      <td>0</td>\n",
              "      <td>1</td>\n",
              "      <td>1</td>\n",
              "      <td>-0.586957</td>\n",
              "      <td>-0.303588</td>\n",
              "    </tr>\n",
              "    <tr>\n",
              "      <th>7795-CFOCW</th>\n",
              "      <td>1</td>\n",
              "      <td>0</td>\n",
              "      <td>0</td>\n",
              "      <td>0</td>\n",
              "      <td>0</td>\n",
              "      <td>1</td>\n",
              "      <td>0</td>\n",
              "      <td>0</td>\n",
              "      <td>0</td>\n",
              "      <td>0</td>\n",
              "      <td>...</td>\n",
              "      <td>0</td>\n",
              "      <td>1</td>\n",
              "      <td>0</td>\n",
              "      <td>0</td>\n",
              "      <td>0</td>\n",
              "      <td>0</td>\n",
              "      <td>0</td>\n",
              "      <td>0</td>\n",
              "      <td>0.347826</td>\n",
              "      <td>-0.516099</td>\n",
              "    </tr>\n",
              "    <tr>\n",
              "      <th>9237-HQITU</th>\n",
              "      <td>0</td>\n",
              "      <td>0</td>\n",
              "      <td>0</td>\n",
              "      <td>0</td>\n",
              "      <td>1</td>\n",
              "      <td>0</td>\n",
              "      <td>0</td>\n",
              "      <td>1</td>\n",
              "      <td>0</td>\n",
              "      <td>0</td>\n",
              "      <td>...</td>\n",
              "      <td>0</td>\n",
              "      <td>0</td>\n",
              "      <td>0</td>\n",
              "      <td>1</td>\n",
              "      <td>0</td>\n",
              "      <td>1</td>\n",
              "      <td>0</td>\n",
              "      <td>1</td>\n",
              "      <td>-0.586957</td>\n",
              "      <td>0.006440</td>\n",
              "    </tr>\n",
              "  </tbody>\n",
              "</table>\n",
              "<p>5 rows × 30 columns</p>\n",
              "</div>\n",
              "      <button class=\"colab-df-convert\" onclick=\"convertToInteractive('df-a234898f-929b-4d8a-98d7-4a36c3af4119')\"\n",
              "              title=\"Convert this dataframe to an interactive table.\"\n",
              "              style=\"display:none;\">\n",
              "        \n",
              "  <svg xmlns=\"http://www.w3.org/2000/svg\" height=\"24px\"viewBox=\"0 0 24 24\"\n",
              "       width=\"24px\">\n",
              "    <path d=\"M0 0h24v24H0V0z\" fill=\"none\"/>\n",
              "    <path d=\"M18.56 5.44l.94 2.06.94-2.06 2.06-.94-2.06-.94-.94-2.06-.94 2.06-2.06.94zm-11 1L8.5 8.5l.94-2.06 2.06-.94-2.06-.94L8.5 2.5l-.94 2.06-2.06.94zm10 10l.94 2.06.94-2.06 2.06-.94-2.06-.94-.94-2.06-.94 2.06-2.06.94z\"/><path d=\"M17.41 7.96l-1.37-1.37c-.4-.4-.92-.59-1.43-.59-.52 0-1.04.2-1.43.59L10.3 9.45l-7.72 7.72c-.78.78-.78 2.05 0 2.83L4 21.41c.39.39.9.59 1.41.59.51 0 1.02-.2 1.41-.59l7.78-7.78 2.81-2.81c.8-.78.8-2.07 0-2.86zM5.41 20L4 18.59l7.72-7.72 1.47 1.35L5.41 20z\"/>\n",
              "  </svg>\n",
              "      </button>\n",
              "      \n",
              "  <style>\n",
              "    .colab-df-container {\n",
              "      display:flex;\n",
              "      flex-wrap:wrap;\n",
              "      gap: 12px;\n",
              "    }\n",
              "\n",
              "    .colab-df-convert {\n",
              "      background-color: #E8F0FE;\n",
              "      border: none;\n",
              "      border-radius: 50%;\n",
              "      cursor: pointer;\n",
              "      display: none;\n",
              "      fill: #1967D2;\n",
              "      height: 32px;\n",
              "      padding: 0 0 0 0;\n",
              "      width: 32px;\n",
              "    }\n",
              "\n",
              "    .colab-df-convert:hover {\n",
              "      background-color: #E2EBFA;\n",
              "      box-shadow: 0px 1px 2px rgba(60, 64, 67, 0.3), 0px 1px 3px 1px rgba(60, 64, 67, 0.15);\n",
              "      fill: #174EA6;\n",
              "    }\n",
              "\n",
              "    [theme=dark] .colab-df-convert {\n",
              "      background-color: #3B4455;\n",
              "      fill: #D2E3FC;\n",
              "    }\n",
              "\n",
              "    [theme=dark] .colab-df-convert:hover {\n",
              "      background-color: #434B5C;\n",
              "      box-shadow: 0px 1px 3px 1px rgba(0, 0, 0, 0.15);\n",
              "      filter: drop-shadow(0px 1px 2px rgba(0, 0, 0, 0.3));\n",
              "      fill: #FFFFFF;\n",
              "    }\n",
              "  </style>\n",
              "\n",
              "      <script>\n",
              "        const buttonEl =\n",
              "          document.querySelector('#df-a234898f-929b-4d8a-98d7-4a36c3af4119 button.colab-df-convert');\n",
              "        buttonEl.style.display =\n",
              "          google.colab.kernel.accessAllowed ? 'block' : 'none';\n",
              "\n",
              "        async function convertToInteractive(key) {\n",
              "          const element = document.querySelector('#df-a234898f-929b-4d8a-98d7-4a36c3af4119');\n",
              "          const dataTable =\n",
              "            await google.colab.kernel.invokeFunction('convertToInteractive',\n",
              "                                                     [key], {});\n",
              "          if (!dataTable) return;\n",
              "\n",
              "          const docLinkHtml = 'Like what you see? Visit the ' +\n",
              "            '<a target=\"_blank\" href=https://colab.research.google.com/notebooks/data_table.ipynb>data table notebook</a>'\n",
              "            + ' to learn more about interactive tables.';\n",
              "          element.innerHTML = '';\n",
              "          dataTable['output_type'] = 'display_data';\n",
              "          await google.colab.output.renderOutput(dataTable, element);\n",
              "          const docLink = document.createElement('div');\n",
              "          docLink.innerHTML = docLinkHtml;\n",
              "          element.appendChild(docLink);\n",
              "        }\n",
              "      </script>\n",
              "    </div>\n",
              "  </div>\n",
              "  "
            ]
          },
          "metadata": {},
          "execution_count": 9
        }
      ]
    },
    {
      "cell_type": "code",
      "source": [
        "DF_modelo.to_csv(\"Data_dummie.csv\")"
      ],
      "metadata": {
        "id": "5uwvJbn6-IsC"
      },
      "execution_count": null,
      "outputs": []
    },
    {
      "cell_type": "markdown",
      "source": [
        "# MODELADO"
      ],
      "metadata": {
        "id": "GMhxQLfwvAuB"
      }
    },
    {
      "cell_type": "markdown",
      "source": [
        "## MODELO 1"
      ],
      "metadata": {
        "id": "nmkcaEOfvFF6"
      }
    },
    {
      "cell_type": "code",
      "source": [
        "# Partición de datos de entrenamiento y prueba \n",
        "Y=DF_modelo[\"ABANDONO_Yes\"] ## Seleccionamos la variable objetivo (binaria)\n",
        "X=DF_modelo.drop(\"ABANDONO_Yes\", axis=1) ## Seleccionamos las variables explicativas\n",
        "X_train, X_test, y_train, y_test = train_test_split(X, Y, random_state=123,test_size=0.3, stratify=Y) ## Dividimos en entrenamiento y prueba, y estratificando\n",
        "##por la variable Y \n",
        "X_train.shape"
      ],
      "metadata": {
        "colab": {
          "base_uri": "https://localhost:8080/"
        },
        "id": "khhchKimwbHb",
        "outputId": "2f590414-9ab6-4b78-94d9-50671e30691e"
      },
      "execution_count": null,
      "outputs": [
        {
          "output_type": "execute_result",
          "data": {
            "text/plain": [
              "(4930, 29)"
            ]
          },
          "metadata": {},
          "execution_count": 11
        }
      ]
    },
    {
      "cell_type": "code",
      "source": [
        "#   Entrenando al modelo\n",
        "RF= RandomForestClassifier(min_samples_leaf=1, n_estimators=100)### Deje 5 datos por nodo terminal\n",
        "RF.fit(X_train, y_train)"
      ],
      "metadata": {
        "colab": {
          "base_uri": "https://localhost:8080/",
          "height": 75
        },
        "id": "z8WQBGeXD--Z",
        "outputId": "936f66c2-521d-4d63-b52c-237ac9374c63"
      },
      "execution_count": null,
      "outputs": [
        {
          "output_type": "execute_result",
          "data": {
            "text/plain": [
              "RandomForestClassifier()"
            ],
            "text/html": [
              "<style>#sk-container-id-1 {color: black;background-color: white;}#sk-container-id-1 pre{padding: 0;}#sk-container-id-1 div.sk-toggleable {background-color: white;}#sk-container-id-1 label.sk-toggleable__label {cursor: pointer;display: block;width: 100%;margin-bottom: 0;padding: 0.3em;box-sizing: border-box;text-align: center;}#sk-container-id-1 label.sk-toggleable__label-arrow:before {content: \"▸\";float: left;margin-right: 0.25em;color: #696969;}#sk-container-id-1 label.sk-toggleable__label-arrow:hover:before {color: black;}#sk-container-id-1 div.sk-estimator:hover label.sk-toggleable__label-arrow:before {color: black;}#sk-container-id-1 div.sk-toggleable__content {max-height: 0;max-width: 0;overflow: hidden;text-align: left;background-color: #f0f8ff;}#sk-container-id-1 div.sk-toggleable__content pre {margin: 0.2em;color: black;border-radius: 0.25em;background-color: #f0f8ff;}#sk-container-id-1 input.sk-toggleable__control:checked~div.sk-toggleable__content {max-height: 200px;max-width: 100%;overflow: auto;}#sk-container-id-1 input.sk-toggleable__control:checked~label.sk-toggleable__label-arrow:before {content: \"▾\";}#sk-container-id-1 div.sk-estimator input.sk-toggleable__control:checked~label.sk-toggleable__label {background-color: #d4ebff;}#sk-container-id-1 div.sk-label input.sk-toggleable__control:checked~label.sk-toggleable__label {background-color: #d4ebff;}#sk-container-id-1 input.sk-hidden--visually {border: 0;clip: rect(1px 1px 1px 1px);clip: rect(1px, 1px, 1px, 1px);height: 1px;margin: -1px;overflow: hidden;padding: 0;position: absolute;width: 1px;}#sk-container-id-1 div.sk-estimator {font-family: monospace;background-color: #f0f8ff;border: 1px dotted black;border-radius: 0.25em;box-sizing: border-box;margin-bottom: 0.5em;}#sk-container-id-1 div.sk-estimator:hover {background-color: #d4ebff;}#sk-container-id-1 div.sk-parallel-item::after {content: \"\";width: 100%;border-bottom: 1px solid gray;flex-grow: 1;}#sk-container-id-1 div.sk-label:hover label.sk-toggleable__label {background-color: #d4ebff;}#sk-container-id-1 div.sk-serial::before {content: \"\";position: absolute;border-left: 1px solid gray;box-sizing: border-box;top: 0;bottom: 0;left: 50%;z-index: 0;}#sk-container-id-1 div.sk-serial {display: flex;flex-direction: column;align-items: center;background-color: white;padding-right: 0.2em;padding-left: 0.2em;position: relative;}#sk-container-id-1 div.sk-item {position: relative;z-index: 1;}#sk-container-id-1 div.sk-parallel {display: flex;align-items: stretch;justify-content: center;background-color: white;position: relative;}#sk-container-id-1 div.sk-item::before, #sk-container-id-1 div.sk-parallel-item::before {content: \"\";position: absolute;border-left: 1px solid gray;box-sizing: border-box;top: 0;bottom: 0;left: 50%;z-index: -1;}#sk-container-id-1 div.sk-parallel-item {display: flex;flex-direction: column;z-index: 1;position: relative;background-color: white;}#sk-container-id-1 div.sk-parallel-item:first-child::after {align-self: flex-end;width: 50%;}#sk-container-id-1 div.sk-parallel-item:last-child::after {align-self: flex-start;width: 50%;}#sk-container-id-1 div.sk-parallel-item:only-child::after {width: 0;}#sk-container-id-1 div.sk-dashed-wrapped {border: 1px dashed gray;margin: 0 0.4em 0.5em 0.4em;box-sizing: border-box;padding-bottom: 0.4em;background-color: white;}#sk-container-id-1 div.sk-label label {font-family: monospace;font-weight: bold;display: inline-block;line-height: 1.2em;}#sk-container-id-1 div.sk-label-container {text-align: center;}#sk-container-id-1 div.sk-container {/* jupyter's `normalize.less` sets `[hidden] { display: none; }` but bootstrap.min.css set `[hidden] { display: none !important; }` so we also need the `!important` here to be able to override the default hidden behavior on the sphinx rendered scikit-learn.org. See: https://github.com/scikit-learn/scikit-learn/issues/21755 */display: inline-block !important;position: relative;}#sk-container-id-1 div.sk-text-repr-fallback {display: none;}</style><div id=\"sk-container-id-1\" class=\"sk-top-container\"><div class=\"sk-text-repr-fallback\"><pre>RandomForestClassifier()</pre><b>In a Jupyter environment, please rerun this cell to show the HTML representation or trust the notebook. <br />On GitHub, the HTML representation is unable to render, please try loading this page with nbviewer.org.</b></div><div class=\"sk-container\" hidden><div class=\"sk-item\"><div class=\"sk-estimator sk-toggleable\"><input class=\"sk-toggleable__control sk-hidden--visually\" id=\"sk-estimator-id-1\" type=\"checkbox\" checked><label for=\"sk-estimator-id-1\" class=\"sk-toggleable__label sk-toggleable__label-arrow\">RandomForestClassifier</label><div class=\"sk-toggleable__content\"><pre>RandomForestClassifier()</pre></div></div></div></div></div>"
            ]
          },
          "metadata": {},
          "execution_count": 12
        }
      ]
    },
    {
      "cell_type": "markdown",
      "source": [
        "### METRICAS MODELO  "
      ],
      "metadata": {
        "id": "_a94LJw-VbyT"
      }
    },
    {
      "cell_type": "code",
      "source": [
        "# prediccion del modelo \n",
        "y_pred_train=RF.predict(X_train) # Prediccion datos entrenamiento\n",
        "y_pred_test=RF.predict(X_test) # Prediccion datos prueba"
      ],
      "metadata": {
        "id": "3UifqAOecVYl"
      },
      "execution_count": null,
      "outputs": []
    },
    {
      "cell_type": "code",
      "source": [
        "cf = confusion_matrix(y_test, y_pred_test)"
      ],
      "metadata": {
        "id": "0lM7LYezcW72"
      },
      "execution_count": null,
      "outputs": []
    },
    {
      "cell_type": "code",
      "source": [
        "cm_display = metrics.ConfusionMatrixDisplay(confusion_matrix = cf, display_labels = [False, True])\n",
        "cm_display.plot()\n",
        "plt.show()"
      ],
      "metadata": {
        "colab": {
          "base_uri": "https://localhost:8080/",
          "height": 449
        },
        "id": "dQk-cFhQj7Tp",
        "outputId": "01a18b64-7e16-429c-8246-3d120494a375"
      },
      "execution_count": null,
      "outputs": [
        {
          "output_type": "display_data",
          "data": {
            "text/plain": [
              "<Figure size 640x480 with 2 Axes>"
            ],
            "image/png": "[encoded data removed]"
          },
          "metadata": {}
        }
      ]
    },
    {
      "cell_type": "code",
      "source": [
        "#  viendo sus metricas\n",
        "print(\"En los datos de entrenamiento \\n\",classification_report(y_train, y_pred_train))\n",
        "print(\"En los datos de prueba \\n\",classification_report(y_test, y_pred_test))"
      ],
      "metadata": {
        "colab": {
          "base_uri": "https://localhost:8080/"
        },
        "id": "VgdMJMapHNS_",
        "outputId": "796e8352-3c1a-4acd-89b0-27f1eb49b3f0"
      },
      "execution_count": null,
      "outputs": [
        {
          "output_type": "stream",
          "name": "stdout",
          "text": [
            "En los datos de entrenamiento \n",
            "               precision    recall  f1-score   support\n",
            "\n",
            "           0       1.00      1.00      1.00      3622\n",
            "           1       1.00      0.99      1.00      1308\n",
            "\n",
            "    accuracy                           1.00      4930\n",
            "   macro avg       1.00      1.00      1.00      4930\n",
            "weighted avg       1.00      1.00      1.00      4930\n",
            "\n",
            "En los datos de prueba \n",
            "               precision    recall  f1-score   support\n",
            "\n",
            "           0       0.83      0.90      0.86      1552\n",
            "           1       0.63      0.48      0.55       561\n",
            "\n",
            "    accuracy                           0.79      2113\n",
            "   macro avg       0.73      0.69      0.70      2113\n",
            "weighted avg       0.77      0.79      0.78      2113\n",
            "\n"
          ]
        }
      ]
    },
    {
      "cell_type": "markdown",
      "source": [
        ">> Observamos que el modelo planteado clasifica bien el 80% de los datos en la prueba, sin embargo, tiene importantes dificultades para clasificar las personas que se irán de la compañía efectivamente, Como podemos observar de los 561 clientes fugados que tienen los datos de prueba solo acertó en 296.\n",
        "\n",
        ">> la precisión del modelo muestra que solo el 65% de las personas que el modelo indico se irían de la compañía se fueron efectivamente. Por su parte, tan solo el 53% de las personas que el modelo sugiere no se irían de la compaña efectivamente se quedaron. \n",
        "\n",
        ">>Cabe recordar que el objetivo de este trabajo es predecir correctamente los clientes que se fugen, por lo que el RCALL nos sugiere que el modelo esta siendo poco efectivo en este sentido. \n"
      ],
      "metadata": {
        "id": "mwCR3TDJMYvB"
      }
    },
    {
      "cell_type": "markdown",
      "source": [
        "### AREA BAJO LA CURVA ROC"
      ],
      "metadata": {
        "id": "ZZLha80Vd2IO"
      }
    },
    {
      "cell_type": "code",
      "source": [
        "train_fpr, train_tpr, tr_thresholds = roc_curve( y_train, y_pred_train)\n",
        "test_fpr, test_tpr, te_thresholds = roc_curve(y_test, y_pred_test)\n",
        "\n",
        "plt.grid()\n",
        "\n",
        "plt.plot(train_fpr, train_tpr, label=\" AUC TRAIN =\"+str(auc(train_fpr, train_tpr)))\n",
        "plt.plot(test_fpr, test_tpr, label=\" AUC TEST =\"+str(auc(test_fpr, test_tpr)))\n",
        "plt.plot([0,1],[0,1],'g--')\n",
        "plt.legend()\n",
        "plt.xlabel(\"False Positive Rate\")\n",
        "plt.ylabel(\"True Positive Rate\")\n",
        "plt.title(\"AUC(ROC curve)\")\n",
        "plt.grid(color='black', linestyle='-', linewidth=0.5)\n",
        "plt.show()"
      ],
      "metadata": {
        "colab": {
          "base_uri": "https://localhost:8080/",
          "height": 472
        },
        "id": "8opCUdZFhnrg",
        "outputId": "7c188688-e191-4a79-bfbf-71d5dd3ecfe8"
      },
      "execution_count": null,
      "outputs": [
        {
          "output_type": "display_data",
          "data": {
            "text/plain": [
              "<Figure size 640x480 with 1 Axes>"
            ],
            "image/png": "[encoded data removed]"
          },
          "metadata": {}
        }
      ]
    },
    {
      "cell_type": "markdown",
      "source": [
        "## MODELO 2 -> HIPERPARAMETROS "
      ],
      "metadata": {
        "id": "q52MNAcFgOY3"
      }
    },
    {
      "cell_type": "markdown",
      "source": [
        "### AJUSTE DE HIPERPARAMETROS \n",
        "\n",
        ">> Informacion de gridsearchCV [acá](https://www.kaggle.com/code/sociopath00/random-forest-using-gridsearchcv)"
      ],
      "metadata": {
        "id": "FRLwbmAxeh0H"
      }
    },
    {
      "cell_type": "code",
      "source": [
        "# parametros a evaluar \n",
        "param_grid = { \n",
        "    'n_estimators': [50, 100, 200, 500],\n",
        "    'max_features': ['sqrt', 'log2', 'none'],\n",
        "    'max_depth' : [5,6,7,8,9,10],\n",
        "    'criterion' :['gini', 'entropy']\n",
        "}"
      ],
      "metadata": {
        "id": "hp2h3Y7qenBB"
      },
      "execution_count": null,
      "outputs": []
    },
    {
      "cell_type": "code",
      "source": [
        "# asignacion de parametros a la grid\n",
        "rfc=RandomForestClassifier(random_state=42)\n",
        "CV_rfc = GridSearchCV(estimator=rfc, param_grid=param_grid, cv= 5)\n",
        "CV_rfc.fit(X_train, y_train)"
      ],
      "metadata": {
        "id": "uEABjT0eeuly"
      },
      "execution_count": null,
      "outputs": []
    },
    {
      "cell_type": "code",
      "source": [
        "# Mejores parametros\n",
        "mejoresParametros = CV_rfc.best_params_\n",
        "mejoresParametros"
      ],
      "metadata": {
        "colab": {
          "base_uri": "https://localhost:8080/"
        },
        "outputId": "3a06f88a-da72-420a-abee-8b08652119b9",
        "id": "AHvBFWMOni2F"
      },
      "execution_count": null,
      "outputs": [
        {
          "output_type": "execute_result",
          "data": {
            "text/plain": [
              "{'criterion': 'gini',\n",
              " 'max_depth': 7,\n",
              " 'max_features': 'sqrt',\n",
              " 'n_estimators': 200}"
            ]
          },
          "metadata": {},
          "execution_count": 42
        }
      ]
    },
    {
      "cell_type": "markdown",
      "source": [
        "### MODELO  "
      ],
      "metadata": {
        "id": "u5h32GoTfvV4"
      }
    },
    {
      "cell_type": "code",
      "source": [
        "# Modelo con hiperparametros arrojados por la busquedad en grilla\n",
        "rfc1=RandomForestClassifier(random_state=42, \n",
        "                            max_features = mejoresParametros['max_features'], \n",
        "                            n_estimators = mejoresParametros['n_estimators'], \n",
        "                            max_depth = mejoresParametros['max_depth'], \n",
        "                            criterion = mejoresParametros['criterion'])\n",
        "rfc1.fit(X_train, y_train)"
      ],
      "metadata": {
        "colab": {
          "base_uri": "https://localhost:8080/",
          "height": 147
        },
        "id": "e75uKZmdSPnv",
        "outputId": "6cce2f7e-3980-4855-cdf5-b85ecf67e05b"
      },
      "execution_count": null,
      "outputs": [
        {
          "output_type": "stream",
          "name": "stderr",
          "text": [
            "/usr/local/lib/python3.9/dist-packages/sklearn/ensemble/_forest.py:424: FutureWarning: `max_features='auto'` has been deprecated in 1.1 and will be removed in 1.3. To keep the past behaviour, explicitly set `max_features='sqrt'` or remove this parameter as it is also the default value for RandomForestClassifiers and ExtraTreesClassifiers.\n",
            "  warn(\n"
          ]
        },
        {
          "output_type": "execute_result",
          "data": {
            "text/plain": [
              "RandomForestClassifier(max_depth=7, max_features='auto', n_estimators=200,\n",
              "                       random_state=42)"
            ],
            "text/html": [
              "<style>#sk-container-id-4 {color: black;background-color: white;}#sk-container-id-4 pre{padding: 0;}#sk-container-id-4 div.sk-toggleable {background-color: white;}#sk-container-id-4 label.sk-toggleable__label {cursor: pointer;display: block;width: 100%;margin-bottom: 0;padding: 0.3em;box-sizing: border-box;text-align: center;}#sk-container-id-4 label.sk-toggleable__label-arrow:before {content: \"▸\";float: left;margin-right: 0.25em;color: #696969;}#sk-container-id-4 label.sk-toggleable__label-arrow:hover:before {color: black;}#sk-container-id-4 div.sk-estimator:hover label.sk-toggleable__label-arrow:before {color: black;}#sk-container-id-4 div.sk-toggleable__content {max-height: 0;max-width: 0;overflow: hidden;text-align: left;background-color: #f0f8ff;}#sk-container-id-4 div.sk-toggleable__content pre {margin: 0.2em;color: black;border-radius: 0.25em;background-color: #f0f8ff;}#sk-container-id-4 input.sk-toggleable__control:checked~div.sk-toggleable__content {max-height: 200px;max-width: 100%;overflow: auto;}#sk-container-id-4 input.sk-toggleable__control:checked~label.sk-toggleable__label-arrow:before {content: \"▾\";}#sk-container-id-4 div.sk-estimator input.sk-toggleable__control:checked~label.sk-toggleable__label {background-color: #d4ebff;}#sk-container-id-4 div.sk-label input.sk-toggleable__control:checked~label.sk-toggleable__label {background-color: #d4ebff;}#sk-container-id-4 input.sk-hidden--visually {border: 0;clip: rect(1px 1px 1px 1px);clip: rect(1px, 1px, 1px, 1px);height: 1px;margin: -1px;overflow: hidden;padding: 0;position: absolute;width: 1px;}#sk-container-id-4 div.sk-estimator {font-family: monospace;background-color: #f0f8ff;border: 1px dotted black;border-radius: 0.25em;box-sizing: border-box;margin-bottom: 0.5em;}#sk-container-id-4 div.sk-estimator:hover {background-color: #d4ebff;}#sk-container-id-4 div.sk-parallel-item::after {content: \"\";width: 100%;border-bottom: 1px solid gray;flex-grow: 1;}#sk-container-id-4 div.sk-label:hover label.sk-toggleable__label {background-color: #d4ebff;}#sk-container-id-4 div.sk-serial::before {content: \"\";position: absolute;border-left: 1px solid gray;box-sizing: border-box;top: 0;bottom: 0;left: 50%;z-index: 0;}#sk-container-id-4 div.sk-serial {display: flex;flex-direction: column;align-items: center;background-color: white;padding-right: 0.2em;padding-left: 0.2em;position: relative;}#sk-container-id-4 div.sk-item {position: relative;z-index: 1;}#sk-container-id-4 div.sk-parallel {display: flex;align-items: stretch;justify-content: center;background-color: white;position: relative;}#sk-container-id-4 div.sk-item::before, #sk-container-id-4 div.sk-parallel-item::before {content: \"\";position: absolute;border-left: 1px solid gray;box-sizing: border-box;top: 0;bottom: 0;left: 50%;z-index: -1;}#sk-container-id-4 div.sk-parallel-item {display: flex;flex-direction: column;z-index: 1;position: relative;background-color: white;}#sk-container-id-4 div.sk-parallel-item:first-child::after {align-self: flex-end;width: 50%;}#sk-container-id-4 div.sk-parallel-item:last-child::after {align-self: flex-start;width: 50%;}#sk-container-id-4 div.sk-parallel-item:only-child::after {width: 0;}#sk-container-id-4 div.sk-dashed-wrapped {border: 1px dashed gray;margin: 0 0.4em 0.5em 0.4em;box-sizing: border-box;padding-bottom: 0.4em;background-color: white;}#sk-container-id-4 div.sk-label label {font-family: monospace;font-weight: bold;display: inline-block;line-height: 1.2em;}#sk-container-id-4 div.sk-label-container {text-align: center;}#sk-container-id-4 div.sk-container {/* jupyter's `normalize.less` sets `[hidden] { display: none; }` but bootstrap.min.css set `[hidden] { display: none !important; }` so we also need the `!important` here to be able to override the default hidden behavior on the sphinx rendered scikit-learn.org. See: https://github.com/scikit-learn/scikit-learn/issues/21755 */display: inline-block !important;position: relative;}#sk-container-id-4 div.sk-text-repr-fallback {display: none;}</style><div id=\"sk-container-id-4\" class=\"sk-top-container\"><div class=\"sk-text-repr-fallback\"><pre>RandomForestClassifier(max_depth=7, max_features=&#x27;auto&#x27;, n_estimators=200,\n",
              "                       random_state=42)</pre><b>In a Jupyter environment, please rerun this cell to show the HTML representation or trust the notebook. <br />On GitHub, the HTML representation is unable to render, please try loading this page with nbviewer.org.</b></div><div class=\"sk-container\" hidden><div class=\"sk-item\"><div class=\"sk-estimator sk-toggleable\"><input class=\"sk-toggleable__control sk-hidden--visually\" id=\"sk-estimator-id-6\" type=\"checkbox\" checked><label for=\"sk-estimator-id-6\" class=\"sk-toggleable__label sk-toggleable__label-arrow\">RandomForestClassifier</label><div class=\"sk-toggleable__content\"><pre>RandomForestClassifier(max_depth=7, max_features=&#x27;auto&#x27;, n_estimators=200,\n",
              "                       random_state=42)</pre></div></div></div></div></div>"
            ]
          },
          "metadata": {},
          "execution_count": 22
        }
      ]
    },
    {
      "cell_type": "markdown",
      "source": [
        "### METRICAS MODELO "
      ],
      "metadata": {
        "id": "niqUc-iRgG_w"
      }
    },
    {
      "cell_type": "code",
      "source": [
        "# prediccion del modelo \n",
        "y_pred_train=rfc1.predict(X_train) # Prediccion datos entrenamiento\n",
        "y_pred_test=rfc1.predict(X_test) # Prediccion datos prueba"
      ],
      "metadata": {
        "id": "gcJSo4h6TG_V"
      },
      "execution_count": null,
      "outputs": []
    },
    {
      "cell_type": "code",
      "source": [
        "cf = confusion_matrix(y_test, y_pred_test)"
      ],
      "metadata": {
        "id": "vTc65YN2TG_V"
      },
      "execution_count": null,
      "outputs": []
    },
    {
      "cell_type": "code",
      "source": [
        "cm_display = metrics.ConfusionMatrixDisplay(confusion_matrix = cf, display_labels = [False, True])\n",
        "cm_display.plot()\n",
        "plt.show()"
      ],
      "metadata": {
        "colab": {
          "base_uri": "https://localhost:8080/"
        },
        "outputId": "3bdacbc5-fd64-4a1b-e3fd-829183f5a2c4",
        "id": "C1wSX13KTG_V"
      },
      "execution_count": null,
      "outputs": [
        {
          "output_type": "display_data",
          "data": {
            "text/plain": [
              "<Figure size 640x480 with 2 Axes>"
            ],
            "image/png": "[encoded data removed]"
          },
          "metadata": {}
        }
      ]
    },
    {
      "cell_type": "code",
      "source": [
        "#  viendo sus metricas\n",
        "print(\"En los datos de entrenamiento \\n\",classification_report(y_train, y_pred_train))\n",
        "print(\"En los datos de prueba \\n\",classification_report(y_test, y_pred_test))"
      ],
      "metadata": {
        "colab": {
          "base_uri": "https://localhost:8080/"
        },
        "outputId": "52f734df-5ddd-48a0-e178-d0caf9358594",
        "id": "XQRbmc7YTG_V"
      },
      "execution_count": null,
      "outputs": [
        {
          "output_type": "stream",
          "name": "stdout",
          "text": [
            "En los datos de entrenamiento \n",
            "               precision    recall  f1-score   support\n",
            "\n",
            "           0       0.84      0.93      0.88      3622\n",
            "           1       0.72      0.50      0.59      1308\n",
            "\n",
            "    accuracy                           0.81      4930\n",
            "   macro avg       0.78      0.71      0.73      4930\n",
            "weighted avg       0.81      0.81      0.80      4930\n",
            "\n",
            "En los datos de prueba \n",
            "               precision    recall  f1-score   support\n",
            "\n",
            "           0       0.82      0.93      0.87      1552\n",
            "           1       0.68      0.44      0.53       561\n",
            "\n",
            "    accuracy                           0.80      2113\n",
            "   macro avg       0.75      0.68      0.70      2113\n",
            "weighted avg       0.78      0.80      0.78      2113\n",
            "\n"
          ]
        }
      ]
    },
    {
      "cell_type": "markdown",
      "source": [
        "### AREA BAJO LA CURVA ROC"
      ],
      "metadata": {
        "id": "kuJNVGG5iqgJ"
      }
    },
    {
      "cell_type": "code",
      "source": [
        "train_fpr, train_tpr, tr_thresholds = roc_curve( y_train, y_pred_train)\n",
        "test_fpr, test_tpr, te_thresholds = roc_curve(y_test, y_pred_test)\n",
        "\n",
        "plt.grid()\n",
        "\n",
        "plt.plot(train_fpr, train_tpr, label=\" AUC TRAIN =\"+str(auc(train_fpr, train_tpr)))\n",
        "plt.plot(test_fpr, test_tpr, label=\" AUC TEST =\"+str(auc(test_fpr, test_tpr)))\n",
        "plt.plot([0,1],[0,1],'g--')\n",
        "plt.legend()\n",
        "plt.xlabel(\"False Positive Rate\")\n",
        "plt.ylabel(\"True Positive Rate\")\n",
        "plt.title(\"AUC(ROC curve)\")\n",
        "plt.grid(color='black', linestyle='-', linewidth=0.5)\n",
        "plt.show()"
      ],
      "metadata": {
        "colab": {
          "base_uri": "https://localhost:8080/"
        },
        "id": "qfAzkIjPivw-",
        "outputId": "ba2fe9d8-b53f-484c-e1c2-6ec147c8ffb5"
      },
      "execution_count": null,
      "outputs": [
        {
          "output_type": "display_data",
          "data": {
            "text/plain": [
              "<Figure size 640x480 with 1 Axes>"
            ],
            "image/png": "[encoded data removed]"
          },
          "metadata": {}
        }
      ]
    },
    {
      "cell_type": "markdown",
      "source": [
        "## MODELO 3 -> BALANCEO DE DATOS "
      ],
      "metadata": {
        "id": "RayeTZ92sS5a"
      }
    },
    {
      "cell_type": "markdown",
      "source": [
        "### BALANCEO DE DATOS"
      ],
      "metadata": {
        "id": "52lcAfHO1109"
      }
    },
    {
      "cell_type": "code",
      "source": [
        "# asignacion de parametros a la grid\n",
        "rfc=RandomForestClassifier(random_state=42, class_weight = {0 : 1, 1 : 2})\n",
        "CV_rfc = GridSearchCV(estimator=rfc, param_grid=param_grid, cv= 5)\n",
        "CV_rfc.fit(X_train, y_train)"
      ],
      "metadata": {
        "id": "FDCOqdb9ebNw"
      },
      "execution_count": null,
      "outputs": []
    },
    {
      "cell_type": "code",
      "source": [
        "# Mejores parametros\n",
        "mejoresParametros = CV_rfc.best_params_\n",
        "mejoresParametros"
      ],
      "metadata": {
        "colab": {
          "base_uri": "https://localhost:8080/"
        },
        "outputId": "3a06f88a-da72-420a-abee-8b08652119b9",
        "id": "7wQ88wbFnQcm"
      },
      "execution_count": null,
      "outputs": [
        {
          "output_type": "execute_result",
          "data": {
            "text/plain": [
              "{'criterion': 'gini',\n",
              " 'max_depth': 7,\n",
              " 'max_features': 'sqrt',\n",
              " 'n_estimators': 200}"
            ]
          },
          "metadata": {},
          "execution_count": 42
        }
      ]
    },
    {
      "cell_type": "code",
      "source": [
        "# Modelo con hiperparametros arrojados por la busquedad en grilla\n",
        "rfc1=RandomForestClassifier(random_state=42, class_weight = {0 : 1, 1 : 2}, \n",
        "                            max_features = mejoresParametros['max_features'], \n",
        "                            n_estimators = mejoresParametros['n_estimators'], \n",
        "                            max_depth = mejoresParametros['max_depth'], \n",
        "                            criterion = mejoresParametros['criterion'])\n",
        "# Entrenando al modelo\n",
        "rfc1.fit(X_train, y_train)"
      ],
      "metadata": {
        "colab": {
          "base_uri": "https://localhost:8080/",
          "height": 147
        },
        "id": "t6Ex4wWi9H8H",
        "outputId": "af7263ef-04a6-4c58-8606-cb71f586893e"
      },
      "execution_count": null,
      "outputs": [
        {
          "output_type": "stream",
          "name": "stderr",
          "text": [
            "/usr/local/lib/python3.9/dist-packages/sklearn/ensemble/_forest.py:424: FutureWarning: `max_features='auto'` has been deprecated in 1.1 and will be removed in 1.3. To keep the past behaviour, explicitly set `max_features='sqrt'` or remove this parameter as it is also the default value for RandomForestClassifiers and ExtraTreesClassifiers.\n",
            "  warn(\n"
          ]
        },
        {
          "output_type": "execute_result",
          "data": {
            "text/plain": [
              "RandomForestClassifier(class_weight={0: 1, 1: 2}, max_depth=10,\n",
              "                       max_features='auto', n_estimators=500, random_state=42)"
            ],
            "text/html": [
              "<style>#sk-container-id-6 {color: black;background-color: white;}#sk-container-id-6 pre{padding: 0;}#sk-container-id-6 div.sk-toggleable {background-color: white;}#sk-container-id-6 label.sk-toggleable__label {cursor: pointer;display: block;width: 100%;margin-bottom: 0;padding: 0.3em;box-sizing: border-box;text-align: center;}#sk-container-id-6 label.sk-toggleable__label-arrow:before {content: \"▸\";float: left;margin-right: 0.25em;color: #696969;}#sk-container-id-6 label.sk-toggleable__label-arrow:hover:before {color: black;}#sk-container-id-6 div.sk-estimator:hover label.sk-toggleable__label-arrow:before {color: black;}#sk-container-id-6 div.sk-toggleable__content {max-height: 0;max-width: 0;overflow: hidden;text-align: left;background-color: #f0f8ff;}#sk-container-id-6 div.sk-toggleable__content pre {margin: 0.2em;color: black;border-radius: 0.25em;background-color: #f0f8ff;}#sk-container-id-6 input.sk-toggleable__control:checked~div.sk-toggleable__content {max-height: 200px;max-width: 100%;overflow: auto;}#sk-container-id-6 input.sk-toggleable__control:checked~label.sk-toggleable__label-arrow:before {content: \"▾\";}#sk-container-id-6 div.sk-estimator input.sk-toggleable__control:checked~label.sk-toggleable__label {background-color: #d4ebff;}#sk-container-id-6 div.sk-label input.sk-toggleable__control:checked~label.sk-toggleable__label {background-color: #d4ebff;}#sk-container-id-6 input.sk-hidden--visually {border: 0;clip: rect(1px 1px 1px 1px);clip: rect(1px, 1px, 1px, 1px);height: 1px;margin: -1px;overflow: hidden;padding: 0;position: absolute;width: 1px;}#sk-container-id-6 div.sk-estimator {font-family: monospace;background-color: #f0f8ff;border: 1px dotted black;border-radius: 0.25em;box-sizing: border-box;margin-bottom: 0.5em;}#sk-container-id-6 div.sk-estimator:hover {background-color: #d4ebff;}#sk-container-id-6 div.sk-parallel-item::after {content: \"\";width: 100%;border-bottom: 1px solid gray;flex-grow: 1;}#sk-container-id-6 div.sk-label:hover label.sk-toggleable__label {background-color: #d4ebff;}#sk-container-id-6 div.sk-serial::before {content: \"\";position: absolute;border-left: 1px solid gray;box-sizing: border-box;top: 0;bottom: 0;left: 50%;z-index: 0;}#sk-container-id-6 div.sk-serial {display: flex;flex-direction: column;align-items: center;background-color: white;padding-right: 0.2em;padding-left: 0.2em;position: relative;}#sk-container-id-6 div.sk-item {position: relative;z-index: 1;}#sk-container-id-6 div.sk-parallel {display: flex;align-items: stretch;justify-content: center;background-color: white;position: relative;}#sk-container-id-6 div.sk-item::before, #sk-container-id-6 div.sk-parallel-item::before {content: \"\";position: absolute;border-left: 1px solid gray;box-sizing: border-box;top: 0;bottom: 0;left: 50%;z-index: -1;}#sk-container-id-6 div.sk-parallel-item {display: flex;flex-direction: column;z-index: 1;position: relative;background-color: white;}#sk-container-id-6 div.sk-parallel-item:first-child::after {align-self: flex-end;width: 50%;}#sk-container-id-6 div.sk-parallel-item:last-child::after {align-self: flex-start;width: 50%;}#sk-container-id-6 div.sk-parallel-item:only-child::after {width: 0;}#sk-container-id-6 div.sk-dashed-wrapped {border: 1px dashed gray;margin: 0 0.4em 0.5em 0.4em;box-sizing: border-box;padding-bottom: 0.4em;background-color: white;}#sk-container-id-6 div.sk-label label {font-family: monospace;font-weight: bold;display: inline-block;line-height: 1.2em;}#sk-container-id-6 div.sk-label-container {text-align: center;}#sk-container-id-6 div.sk-container {/* jupyter's `normalize.less` sets `[hidden] { display: none; }` but bootstrap.min.css set `[hidden] { display: none !important; }` so we also need the `!important` here to be able to override the default hidden behavior on the sphinx rendered scikit-learn.org. See: https://github.com/scikit-learn/scikit-learn/issues/21755 */display: inline-block !important;position: relative;}#sk-container-id-6 div.sk-text-repr-fallback {display: none;}</style><div id=\"sk-container-id-6\" class=\"sk-top-container\"><div class=\"sk-text-repr-fallback\"><pre>RandomForestClassifier(class_weight={0: 1, 1: 2}, max_depth=10,\n",
              "                       max_features=&#x27;auto&#x27;, n_estimators=500, random_state=42)</pre><b>In a Jupyter environment, please rerun this cell to show the HTML representation or trust the notebook. <br />On GitHub, the HTML representation is unable to render, please try loading this page with nbviewer.org.</b></div><div class=\"sk-container\" hidden><div class=\"sk-item\"><div class=\"sk-estimator sk-toggleable\"><input class=\"sk-toggleable__control sk-hidden--visually\" id=\"sk-estimator-id-10\" type=\"checkbox\" checked><label for=\"sk-estimator-id-10\" class=\"sk-toggleable__label sk-toggleable__label-arrow\">RandomForestClassifier</label><div class=\"sk-toggleable__content\"><pre>RandomForestClassifier(class_weight={0: 1, 1: 2}, max_depth=10,\n",
              "                       max_features=&#x27;auto&#x27;, n_estimators=500, random_state=42)</pre></div></div></div></div></div>"
            ]
          },
          "metadata": {},
          "execution_count": 31
        }
      ]
    },
    {
      "cell_type": "markdown",
      "source": [
        "### METRICAS DEL MODELO"
      ],
      "metadata": {
        "id": "iOxsbnsDKvbD"
      }
    },
    {
      "cell_type": "code",
      "source": [
        "# prediccion del modelo \n",
        "y_pred_train=rfc1.predict(X_train) # Prediccion datos entrenamiento\n",
        "y_pred_test=rfc1.predict(X_test) # Prediccion datos prueba"
      ],
      "metadata": {
        "id": "fvT5vszQVO7R"
      },
      "execution_count": null,
      "outputs": []
    },
    {
      "cell_type": "code",
      "source": [
        "cf2 = confusion_matrix(y_test, y_pred_test)"
      ],
      "metadata": {
        "id": "QVdawdkVVO7R"
      },
      "execution_count": null,
      "outputs": []
    },
    {
      "cell_type": "code",
      "source": [
        "cm_display = metrics.ConfusionMatrixDisplay(confusion_matrix = cf2, display_labels = [False, True])\n",
        "cm_display.plot()\n",
        "plt.show()"
      ],
      "metadata": {
        "colab": {
          "base_uri": "https://localhost:8080/",
          "height": 449
        },
        "id": "GexrtLlU9yd2",
        "outputId": "26e6a274-f5e7-48ff-de4a-ecfd8a9b935d"
      },
      "execution_count": null,
      "outputs": [
        {
          "output_type": "display_data",
          "data": {
            "text/plain": [
              "<Figure size 640x480 with 2 Axes>"
            ],
            "image/png": "[encoded data removed]"
          },
          "metadata": {}
        }
      ]
    },
    {
      "cell_type": "code",
      "source": [
        "#  viendo sus metricas\n",
        "print(\"En los datos de entrenamiento \\n\",classification_report(y_train, y_pred_train))\n",
        "print(\"En los datos de prueba \\n\",classification_report(y_test, y_pred_test))"
      ],
      "metadata": {
        "colab": {
          "base_uri": "https://localhost:8080/"
        },
        "id": "cfm301AT95gW",
        "outputId": "d040d042-fb3c-44ed-86d2-db6d30add2f4"
      },
      "execution_count": null,
      "outputs": [
        {
          "output_type": "stream",
          "name": "stdout",
          "text": [
            "En los datos de entrenamiento \n",
            "               precision    recall  f1-score   support\n",
            "\n",
            "           0       0.94      0.87      0.91      3622\n",
            "           1       0.70      0.86      0.77      1308\n",
            "\n",
            "    accuracy                           0.87      4930\n",
            "   macro avg       0.82      0.86      0.84      4930\n",
            "weighted avg       0.88      0.87      0.87      4930\n",
            "\n",
            "En los datos de prueba \n",
            "               precision    recall  f1-score   support\n",
            "\n",
            "           0       0.87      0.84      0.86      1552\n",
            "           1       0.60      0.66      0.63       561\n",
            "\n",
            "    accuracy                           0.79      2113\n",
            "   macro avg       0.73      0.75      0.74      2113\n",
            "weighted avg       0.80      0.79      0.79      2113\n",
            "\n"
          ]
        }
      ]
    },
    {
      "cell_type": "markdown",
      "source": [
        ">> El modelo balanceado muestra una tasa de falsos positivos más baja que el modelo anterior, sin embargo la precisión de los clientes churn sigue teniendo una porcentaje bajo de 0,57% lo que significa que el modelo sigue clasificando como fugados una cantidad importante de clientes que no consideran fugarse de la compañía. \n",
        "\n",
        ">> El modelo sigue clasificando mejor a los no fugados que a los fugados, el f1- score para esta categoría es de 0,84 % mientras que para los fugados es de 0,63% "
      ],
      "metadata": {
        "id": "vydJI8ku5p5H"
      }
    },
    {
      "cell_type": "markdown",
      "source": [
        "### AREA BAJO LA CURVA ROC"
      ],
      "metadata": {
        "id": "wHTJrHxDKyLi"
      }
    },
    {
      "cell_type": "code",
      "source": [
        "train_fpr, train_tpr, tr_thresholds = roc_curve( y_train, y_pred_train)\n",
        "test_fpr, test_tpr, te_thresholds = roc_curve(y_test, y_pred_test)\n",
        "\n",
        "plt.grid()\n",
        "\n",
        "plt.plot(train_fpr, train_tpr, label=\" AUC TRAIN =\"+str(auc(train_fpr, train_tpr)))\n",
        "plt.plot(test_fpr, test_tpr, label=\" AUC TEST =\"+str(auc(test_fpr, test_tpr)))\n",
        "plt.plot([0,1],[0,1],'g--')\n",
        "plt.legend()\n",
        "plt.xlabel(\"False Positive Rate\")\n",
        "plt.ylabel(\"True Positive Rate\")\n",
        "plt.title(\"AUC(ROC curve)\")\n",
        "plt.grid(color='black', linestyle='-', linewidth=0.5)\n",
        "plt.show()"
      ],
      "metadata": {
        "colab": {
          "base_uri": "https://localhost:8080/",
          "height": 472
        },
        "id": "7x8uMKBx-NUm",
        "outputId": "16a947e7-2a03-41ad-901c-e17981d9edde"
      },
      "execution_count": null,
      "outputs": [
        {
          "output_type": "display_data",
          "data": {
            "text/plain": [
              "<Figure size 640x480 with 1 Axes>"
            ],
            "image/png": "[encoded data removed]"
          },
          "metadata": {}
        }
      ]
    },
    {
      "cell_type": "markdown",
      "source": [
        "## MODELO 4 -> UNDERSAMPLING "
      ],
      "metadata": {
        "id": "33ATGVz59vcw"
      }
    },
    {
      "cell_type": "code",
      "source": [
        "# Partición de datos de entrenamiento y prueba \n",
        "Y=DF_modelo[\"ABANDONO_Yes\"] ## Seleccionamos la variable objetivo (binaria)\n",
        "X=DF_modelo.drop(\"ABANDONO_Yes\", axis=1) ## Seleccionamos las variables explicativas\n",
        "X_train, X_test, y_train, y_test = train_test_split(X, Y, random_state=123,test_size=0.3, stratify=Y) ## Dividimos en entrenamiento y prueba, y estratificando\n",
        "##por la variable Y \n",
        "X_train.shape"
      ],
      "metadata": {
        "colab": {
          "base_uri": "https://localhost:8080/"
        },
        "id": "MRo6bH_c9u4O",
        "outputId": "5642c3ee-c943-4fb7-92f6-4ab57da78bfd"
      },
      "execution_count": null,
      "outputs": [
        {
          "output_type": "execute_result",
          "data": {
            "text/plain": [
              "(4930, 29)"
            ]
          },
          "metadata": {},
          "execution_count": 39
        }
      ]
    },
    {
      "cell_type": "code",
      "source": [
        "# Undersampling en los datos de entrenamiento\n",
        "rus = RandomUnderSampler(random_state=42)\n",
        "X_resampled, Y_resampled = rus.fit_resample(X_train, y_train)\n",
        "X_resampled.shape"
      ],
      "metadata": {
        "colab": {
          "base_uri": "https://localhost:8080/"
        },
        "id": "RZAwVxmW-fj3",
        "outputId": "8b9f4cd3-2de5-4bfb-faa5-bbb308e5e82f"
      },
      "execution_count": null,
      "outputs": [
        {
          "output_type": "execute_result",
          "data": {
            "text/plain": [
              "(2616, 29)"
            ]
          },
          "metadata": {},
          "execution_count": 38
        }
      ]
    },
    {
      "cell_type": "markdown",
      "source": [
        "### MODELO  "
      ],
      "metadata": {
        "id": "j5aB1KfuWKiy"
      }
    },
    {
      "cell_type": "code",
      "source": [
        "# asignacion de parametros a la grid\n",
        "rfc=RandomForestClassifier(random_state=42)\n",
        "CV_rfc = GridSearchCV(estimator=rfc, param_grid=param_grid, cv= 5)\n",
        "CV_rfc.fit(X_train, y_train)"
      ],
      "metadata": {
        "id": "G4hDbu-OjgxA"
      },
      "execution_count": null,
      "outputs": []
    },
    {
      "cell_type": "code",
      "source": [
        "# Mejores parametros\n",
        "mejoresParametros = CV_rfc.best_params_\n",
        "mejoresParametros"
      ],
      "metadata": {
        "colab": {
          "base_uri": "https://localhost:8080/"
        },
        "outputId": "3a06f88a-da72-420a-abee-8b08652119b9",
        "id": "KpGbiYNmjgxB"
      },
      "execution_count": null,
      "outputs": [
        {
          "output_type": "execute_result",
          "data": {
            "text/plain": [
              "{'criterion': 'gini',\n",
              " 'max_depth': 7,\n",
              " 'max_features': 'sqrt',\n",
              " 'n_estimators': 200}"
            ]
          },
          "metadata": {},
          "execution_count": 42
        }
      ]
    },
    {
      "cell_type": "code",
      "source": [
        "# Modelo con hiperparametros arrojados por la busquedad en grilla\n",
        "rfc1=RandomForestClassifier(random_state=42, \n",
        "                            max_features = mejoresParametros['max_features'], \n",
        "                            n_estimators = mejoresParametros['n_estimators'], \n",
        "                            max_depth = mejoresParametros['max_depth'], \n",
        "                            criterion = mejoresParametros['criterion'])\n",
        "rfc1.fit(X_resampled, Y_resampled)"
      ],
      "metadata": {
        "colab": {
          "base_uri": "https://localhost:8080/",
          "height": 75
        },
        "outputId": "b6470ecd-58ef-4cd8-e637-414f1d93edae",
        "id": "QOF1_xCpWKiy"
      },
      "execution_count": null,
      "outputs": [
        {
          "output_type": "execute_result",
          "data": {
            "text/plain": [
              "RandomForestClassifier(max_depth=7, n_estimators=200, random_state=42)"
            ],
            "text/html": [
              "<style>#sk-container-id-8 {color: black;background-color: white;}#sk-container-id-8 pre{padding: 0;}#sk-container-id-8 div.sk-toggleable {background-color: white;}#sk-container-id-8 label.sk-toggleable__label {cursor: pointer;display: block;width: 100%;margin-bottom: 0;padding: 0.3em;box-sizing: border-box;text-align: center;}#sk-container-id-8 label.sk-toggleable__label-arrow:before {content: \"▸\";float: left;margin-right: 0.25em;color: #696969;}#sk-container-id-8 label.sk-toggleable__label-arrow:hover:before {color: black;}#sk-container-id-8 div.sk-estimator:hover label.sk-toggleable__label-arrow:before {color: black;}#sk-container-id-8 div.sk-toggleable__content {max-height: 0;max-width: 0;overflow: hidden;text-align: left;background-color: #f0f8ff;}#sk-container-id-8 div.sk-toggleable__content pre {margin: 0.2em;color: black;border-radius: 0.25em;background-color: #f0f8ff;}#sk-container-id-8 input.sk-toggleable__control:checked~div.sk-toggleable__content {max-height: 200px;max-width: 100%;overflow: auto;}#sk-container-id-8 input.sk-toggleable__control:checked~label.sk-toggleable__label-arrow:before {content: \"▾\";}#sk-container-id-8 div.sk-estimator input.sk-toggleable__control:checked~label.sk-toggleable__label {background-color: #d4ebff;}#sk-container-id-8 div.sk-label input.sk-toggleable__control:checked~label.sk-toggleable__label {background-color: #d4ebff;}#sk-container-id-8 input.sk-hidden--visually {border: 0;clip: rect(1px 1px 1px 1px);clip: rect(1px, 1px, 1px, 1px);height: 1px;margin: -1px;overflow: hidden;padding: 0;position: absolute;width: 1px;}#sk-container-id-8 div.sk-estimator {font-family: monospace;background-color: #f0f8ff;border: 1px dotted black;border-radius: 0.25em;box-sizing: border-box;margin-bottom: 0.5em;}#sk-container-id-8 div.sk-estimator:hover {background-color: #d4ebff;}#sk-container-id-8 div.sk-parallel-item::after {content: \"\";width: 100%;border-bottom: 1px solid gray;flex-grow: 1;}#sk-container-id-8 div.sk-label:hover label.sk-toggleable__label {background-color: #d4ebff;}#sk-container-id-8 div.sk-serial::before {content: \"\";position: absolute;border-left: 1px solid gray;box-sizing: border-box;top: 0;bottom: 0;left: 50%;z-index: 0;}#sk-container-id-8 div.sk-serial {display: flex;flex-direction: column;align-items: center;background-color: white;padding-right: 0.2em;padding-left: 0.2em;position: relative;}#sk-container-id-8 div.sk-item {position: relative;z-index: 1;}#sk-container-id-8 div.sk-parallel {display: flex;align-items: stretch;justify-content: center;background-color: white;position: relative;}#sk-container-id-8 div.sk-item::before, #sk-container-id-8 div.sk-parallel-item::before {content: \"\";position: absolute;border-left: 1px solid gray;box-sizing: border-box;top: 0;bottom: 0;left: 50%;z-index: -1;}#sk-container-id-8 div.sk-parallel-item {display: flex;flex-direction: column;z-index: 1;position: relative;background-color: white;}#sk-container-id-8 div.sk-parallel-item:first-child::after {align-self: flex-end;width: 50%;}#sk-container-id-8 div.sk-parallel-item:last-child::after {align-self: flex-start;width: 50%;}#sk-container-id-8 div.sk-parallel-item:only-child::after {width: 0;}#sk-container-id-8 div.sk-dashed-wrapped {border: 1px dashed gray;margin: 0 0.4em 0.5em 0.4em;box-sizing: border-box;padding-bottom: 0.4em;background-color: white;}#sk-container-id-8 div.sk-label label {font-family: monospace;font-weight: bold;display: inline-block;line-height: 1.2em;}#sk-container-id-8 div.sk-label-container {text-align: center;}#sk-container-id-8 div.sk-container {/* jupyter's `normalize.less` sets `[hidden] { display: none; }` but bootstrap.min.css set `[hidden] { display: none !important; }` so we also need the `!important` here to be able to override the default hidden behavior on the sphinx rendered scikit-learn.org. See: https://github.com/scikit-learn/scikit-learn/issues/21755 */display: inline-block !important;position: relative;}#sk-container-id-8 div.sk-text-repr-fallback {display: none;}</style><div id=\"sk-container-id-8\" class=\"sk-top-container\"><div class=\"sk-text-repr-fallback\"><pre>RandomForestClassifier(max_depth=7, n_estimators=200, random_state=42)</pre><b>In a Jupyter environment, please rerun this cell to show the HTML representation or trust the notebook. <br />On GitHub, the HTML representation is unable to render, please try loading this page with nbviewer.org.</b></div><div class=\"sk-container\" hidden><div class=\"sk-item\"><div class=\"sk-estimator sk-toggleable\"><input class=\"sk-toggleable__control sk-hidden--visually\" id=\"sk-estimator-id-14\" type=\"checkbox\" checked><label for=\"sk-estimator-id-14\" class=\"sk-toggleable__label sk-toggleable__label-arrow\">RandomForestClassifier</label><div class=\"sk-toggleable__content\"><pre>RandomForestClassifier(max_depth=7, n_estimators=200, random_state=42)</pre></div></div></div></div></div>"
            ]
          },
          "metadata": {},
          "execution_count": 43
        }
      ]
    },
    {
      "cell_type": "markdown",
      "source": [
        "### METRICAS DEL MODELO "
      ],
      "metadata": {
        "id": "RufFr3s5A7Lh"
      }
    },
    {
      "cell_type": "code",
      "source": [
        "y_pred_train=rfc1.predict(X_resampled) ### Un umbral de 50%\n",
        "y_pred_test=rfc1.predict(X_test) ##  Un umbral de 50%"
      ],
      "metadata": {
        "id": "iRVMF4NYAG-3"
      },
      "execution_count": null,
      "outputs": []
    },
    {
      "cell_type": "code",
      "source": [
        "cm12 = confusion_matrix(y_test, y_pred_test)"
      ],
      "metadata": {
        "id": "j8qlIKoYAmAA"
      },
      "execution_count": null,
      "outputs": []
    },
    {
      "cell_type": "code",
      "source": [
        "cm_display = metrics.ConfusionMatrixDisplay(confusion_matrix = cm12, display_labels = [False, True])\n",
        "cm_display.plot()\n",
        "plt.show()"
      ],
      "metadata": {
        "colab": {
          "base_uri": "https://localhost:8080/",
          "height": 449
        },
        "id": "ujJ_8iGpAl-_",
        "outputId": "6b010b49-d8ed-4a98-b080-13599be69213"
      },
      "execution_count": null,
      "outputs": [
        {
          "output_type": "display_data",
          "data": {
            "text/plain": [
              "<Figure size 640x480 with 2 Axes>"
            ],
            "image/png": "[encoded data removed]"
          },
          "metadata": {}
        }
      ]
    },
    {
      "cell_type": "code",
      "source": [
        "print(\"En los datos de entrenamiento \\n\",classification_report(Y_resampled, y_pred_train))\n",
        "print(\"En los datos de prueba \\n\",classification_report(y_test, y_pred_test))"
      ],
      "metadata": {
        "colab": {
          "base_uri": "https://localhost:8080/"
        },
        "id": "SpfmHx6JA_Ny",
        "outputId": "b7f06411-6b29-46cf-e04b-5b9f14a34f6d"
      },
      "execution_count": null,
      "outputs": [
        {
          "output_type": "stream",
          "name": "stdout",
          "text": [
            "En los datos de entrenamiento \n",
            "               precision    recall  f1-score   support\n",
            "\n",
            "           0       0.84      0.77      0.80      1308\n",
            "           1       0.79      0.85      0.82      1308\n",
            "\n",
            "    accuracy                           0.81      2616\n",
            "   macro avg       0.81      0.81      0.81      2616\n",
            "weighted avg       0.81      0.81      0.81      2616\n",
            "\n",
            "En los datos de prueba \n",
            "               precision    recall  f1-score   support\n",
            "\n",
            "           0       0.91      0.74      0.81      1552\n",
            "           1       0.52      0.80      0.63       561\n",
            "\n",
            "    accuracy                           0.75      2113\n",
            "   macro avg       0.72      0.77      0.72      2113\n",
            "weighted avg       0.81      0.75      0.76      2113\n",
            "\n"
          ]
        }
      ]
    },
    {
      "cell_type": "markdown",
      "source": [
        ">> Como observamos en las métricas de precisión existe un sobre ajuste en del modelo en los datos de entrenamiento respecto a los de prueba, sin embargo, observamos que el modelo es de los probados hasta el momento el que mejor predice los clientes churn, de los 561 clientes churn que hay en los datos de prueba clasifica correctamente 444. \n",
        "\n",
        ">> La precisión para los clientes no churn es 0,12 mejor en los datos de prueba que en los de entrenamiento lo cual es positivo, sin embargo la precisión para los churn es un 0,23 más baja. "
      ],
      "metadata": {
        "id": "bMcOjxTxrLzE"
      }
    },
    {
      "cell_type": "markdown",
      "source": [
        "### AREA BAJO LA CURVA ROC "
      ],
      "metadata": {
        "id": "eA1idSmdBSCY"
      }
    },
    {
      "cell_type": "code",
      "source": [
        "train_fpr, train_tpr, tr_thresholds = roc_curve( Y_resampled, y_pred_train)\n",
        "test_fpr, test_tpr, te_thresholds = roc_curve(y_test, y_pred_test)\n",
        "\n",
        "plt.grid()\n",
        "\n",
        "plt.plot(train_fpr, train_tpr, label=\" AUC TRAIN =\"+str(auc(train_fpr, train_tpr)))\n",
        "plt.plot(test_fpr, test_tpr, label=\" AUC TEST =\"+str(auc(test_fpr, test_tpr)))\n",
        "plt.plot([0,1],[0,1],'g--')\n",
        "plt.legend()\n",
        "plt.xlabel(\"False Positive Rate\")\n",
        "plt.ylabel(\"True Positive Rate\")\n",
        "plt.title(\"AUC(ROC curve)\")\n",
        "plt.grid(color='black', linestyle='-', linewidth=0.5)\n",
        "plt.show()"
      ],
      "metadata": {
        "colab": {
          "base_uri": "https://localhost:8080/",
          "height": 472
        },
        "id": "p-wHgUEeDXxX",
        "outputId": "9baf2e0f-0275-4a24-870d-f9be08a6afb6"
      },
      "execution_count": null,
      "outputs": [
        {
          "output_type": "display_data",
          "data": {
            "text/plain": [
              "<Figure size 640x480 with 1 Axes>"
            ],
            "image/png": "[encoded data removed]"
          },
          "metadata": {}
        }
      ]
    },
    {
      "cell_type": "markdown",
      "source": [
        "## MODELO 5 -> UNDERSAMPLING Y BALANCEO "
      ],
      "metadata": {
        "id": "QwFrQ6CScvJe"
      }
    },
    {
      "cell_type": "code",
      "source": [
        "# Partición de datos de entrenamiento y prueba \n",
        "Y=DF_modelo[\"ABANDONO_Yes\"] ## Seleccionamos la variable objetivo (binaria)\n",
        "X=DF_modelo.drop(\"ABANDONO_Yes\", axis=1) ## Seleccionamos las variables explicativas\n",
        "X_train, X_test, y_train, y_test = train_test_split(X, Y, random_state=123,test_size=0.3, stratify=Y) ## Dividimos en entrenamiento y prueba, y estratificando\n",
        "##por la variable Y \n",
        "X_train.shape"
      ],
      "metadata": {
        "colab": {
          "base_uri": "https://localhost:8080/"
        },
        "id": "2JZRNXyUwL2v",
        "outputId": "2d81648f-2ff7-46dc-8772-c53d640492d2"
      },
      "execution_count": null,
      "outputs": [
        {
          "output_type": "execute_result",
          "data": {
            "text/plain": [
              "(4930, 29)"
            ]
          },
          "metadata": {},
          "execution_count": 47
        }
      ]
    },
    {
      "cell_type": "code",
      "source": [
        "# Undersampling en los datos de entrenamiento\n",
        "rus = RandomUnderSampler(random_state=42)\n",
        "X_resampled, Y_resampled = rus.fit_resample(X_train,y_train)\n",
        "X_resampled.shape"
      ],
      "metadata": {
        "colab": {
          "base_uri": "https://localhost:8080/"
        },
        "id": "BhL5X2r8wMnc",
        "outputId": "cb3f5b62-4e8c-443a-fbe5-ee78f8689b83"
      },
      "execution_count": null,
      "outputs": [
        {
          "output_type": "execute_result",
          "data": {
            "text/plain": [
              "(2616, 29)"
            ]
          },
          "metadata": {},
          "execution_count": 49
        }
      ]
    },
    {
      "cell_type": "markdown",
      "source": [
        "### MODELO  "
      ],
      "metadata": {
        "id": "sGbHuoAhXAVx"
      }
    },
    {
      "cell_type": "code",
      "source": [
        "# asignacion de parametros a la grid\n",
        "rfc=RandomForestClassifier(random_state=42, class_weight = {0 : 1, 1 : 2})\n",
        "CV_rfc = GridSearchCV(estimator=rfc, param_grid=param_grid, cv= 5)\n",
        "CV_rfc.fit(X_train, y_train)"
      ],
      "metadata": {
        "colab": {
          "base_uri": "https://localhost:8080/",
          "height": 920
        },
        "id": "waBUsuAFnyfh",
        "outputId": "ede2fc87-09dd-4b38-8981-09a556e06b0a"
      },
      "execution_count": null,
      "outputs": [
        {
          "output_type": "stream",
          "name": "stderr",
          "text": [
            "/usr/local/lib/python3.9/dist-packages/sklearn/model_selection/_validation.py:378: FitFailedWarning: \n",
            "240 fits failed out of a total of 720.\n",
            "The score on these train-test partitions for these parameters will be set to nan.\n",
            "If these failures are not expected, you can try to debug them by setting error_score='raise'.\n",
            "\n",
            "Below are more details about the failures:\n",
            "--------------------------------------------------------------------------------\n",
            "240 fits failed with the following error:\n",
            "Traceback (most recent call last):\n",
            "  File \"/usr/local/lib/python3.9/dist-packages/sklearn/model_selection/_validation.py\", line 686, in _fit_and_score\n",
            "    estimator.fit(X_train, y_train, **fit_params)\n",
            "  File \"/usr/local/lib/python3.9/dist-packages/sklearn/ensemble/_forest.py\", line 340, in fit\n",
            "    self._validate_params()\n",
            "  File \"/usr/local/lib/python3.9/dist-packages/sklearn/base.py\", line 600, in _validate_params\n",
            "    validate_parameter_constraints(\n",
            "  File \"/usr/local/lib/python3.9/dist-packages/sklearn/utils/_param_validation.py\", line 97, in validate_parameter_constraints\n",
            "    raise InvalidParameterError(\n",
            "sklearn.utils._param_validation.InvalidParameterError: The 'max_features' parameter of RandomForestClassifier must be an int in the range [1, inf), a float in the range (0.0, 1.0], a str among {'log2', 'sqrt', 'auto' (deprecated)} or None. Got 'none' instead.\n",
            "\n",
            "  warnings.warn(some_fits_failed_message, FitFailedWarning)\n",
            "/usr/local/lib/python3.9/dist-packages/sklearn/model_selection/_search.py:952: UserWarning: One or more of the test scores are non-finite: [0.77464503 0.77728195 0.77849899 0.77951318 0.77545639 0.77890467\n",
            " 0.77707911 0.77849899        nan        nan        nan        nan\n",
            " 0.78154158 0.78174442 0.78073022 0.78235294 0.77606491 0.77931034\n",
            " 0.7811359  0.77971602        nan        nan        nan        nan\n",
            " 0.77890467 0.77991886 0.78032454 0.78052738 0.77687627 0.78032454\n",
            " 0.7811359  0.78154158        nan        nan        nan        nan\n",
            " 0.7831643  0.78498986 0.78255578 0.78377282 0.77991886 0.78073022\n",
            " 0.77991886 0.78275862        nan        nan        nan        nan\n",
            " 0.78133874 0.78438134 0.78397566 0.78356998 0.7811359  0.78073022\n",
            " 0.78336714 0.78600406        nan        nan        nan        nan\n",
            " 0.78336714 0.78356998 0.78559838 0.78681542 0.78296146 0.7841785\n",
            " 0.78438134 0.7862069         nan        nan        nan        nan\n",
            " 0.77383367 0.77464503 0.77626775 0.77667343 0.77586207 0.77789047\n",
            " 0.77484787 0.77647059        nan        nan        nan        nan\n",
            " 0.77910751 0.7801217  0.78073022 0.77890467 0.77890467 0.7811359\n",
            " 0.7801217  0.77748479        nan        nan        nan        nan\n",
            " 0.77768763 0.77890467 0.78052738 0.78154158 0.78235294 0.7831643\n",
            " 0.78154158 0.7811359         nan        nan        nan        nan\n",
            " 0.78235294 0.78235294 0.78133874 0.78154158 0.77931034 0.78255578\n",
            " 0.78438134 0.7821501         nan        nan        nan        nan\n",
            " 0.78275862 0.78093306 0.78296146 0.78194726 0.78174442 0.78580122\n",
            " 0.78478702 0.78498986        nan        nan        nan        nan\n",
            " 0.78478702 0.78681542 0.78681542 0.7851927  0.78296146 0.78478702\n",
            " 0.78438134 0.7851927         nan        nan        nan        nan]\n",
            "  warnings.warn(\n"
          ]
        },
        {
          "output_type": "execute_result",
          "data": {
            "text/plain": [
              "GridSearchCV(cv=5,\n",
              "             estimator=RandomForestClassifier(class_weight={0: 1, 1: 2},\n",
              "                                              random_state=42),\n",
              "             param_grid={'criterion': ['gini', 'entropy'],\n",
              "                         'max_depth': [5, 6, 7, 8, 9, 10],\n",
              "                         'max_features': ['sqrt', 'log2', 'none'],\n",
              "                         'n_estimators': [50, 100, 200, 500]})"
            ],
            "text/html": [
              "<style>#sk-container-id-9 {color: black;background-color: white;}#sk-container-id-9 pre{padding: 0;}#sk-container-id-9 div.sk-toggleable {background-color: white;}#sk-container-id-9 label.sk-toggleable__label {cursor: pointer;display: block;width: 100%;margin-bottom: 0;padding: 0.3em;box-sizing: border-box;text-align: center;}#sk-container-id-9 label.sk-toggleable__label-arrow:before {content: \"▸\";float: left;margin-right: 0.25em;color: #696969;}#sk-container-id-9 label.sk-toggleable__label-arrow:hover:before {color: black;}#sk-container-id-9 div.sk-estimator:hover label.sk-toggleable__label-arrow:before {color: black;}#sk-container-id-9 div.sk-toggleable__content {max-height: 0;max-width: 0;overflow: hidden;text-align: left;background-color: #f0f8ff;}#sk-container-id-9 div.sk-toggleable__content pre {margin: 0.2em;color: black;border-radius: 0.25em;background-color: #f0f8ff;}#sk-container-id-9 input.sk-toggleable__control:checked~div.sk-toggleable__content {max-height: 200px;max-width: 100%;overflow: auto;}#sk-container-id-9 input.sk-toggleable__control:checked~label.sk-toggleable__label-arrow:before {content: \"▾\";}#sk-container-id-9 div.sk-estimator input.sk-toggleable__control:checked~label.sk-toggleable__label {background-color: #d4ebff;}#sk-container-id-9 div.sk-label input.sk-toggleable__control:checked~label.sk-toggleable__label {background-color: #d4ebff;}#sk-container-id-9 input.sk-hidden--visually {border: 0;clip: rect(1px 1px 1px 1px);clip: rect(1px, 1px, 1px, 1px);height: 1px;margin: -1px;overflow: hidden;padding: 0;position: absolute;width: 1px;}#sk-container-id-9 div.sk-estimator {font-family: monospace;background-color: #f0f8ff;border: 1px dotted black;border-radius: 0.25em;box-sizing: border-box;margin-bottom: 0.5em;}#sk-container-id-9 div.sk-estimator:hover {background-color: #d4ebff;}#sk-container-id-9 div.sk-parallel-item::after {content: \"\";width: 100%;border-bottom: 1px solid gray;flex-grow: 1;}#sk-container-id-9 div.sk-label:hover label.sk-toggleable__label {background-color: #d4ebff;}#sk-container-id-9 div.sk-serial::before {content: \"\";position: absolute;border-left: 1px solid gray;box-sizing: border-box;top: 0;bottom: 0;left: 50%;z-index: 0;}#sk-container-id-9 div.sk-serial {display: flex;flex-direction: column;align-items: center;background-color: white;padding-right: 0.2em;padding-left: 0.2em;position: relative;}#sk-container-id-9 div.sk-item {position: relative;z-index: 1;}#sk-container-id-9 div.sk-parallel {display: flex;align-items: stretch;justify-content: center;background-color: white;position: relative;}#sk-container-id-9 div.sk-item::before, #sk-container-id-9 div.sk-parallel-item::before {content: \"\";position: absolute;border-left: 1px solid gray;box-sizing: border-box;top: 0;bottom: 0;left: 50%;z-index: -1;}#sk-container-id-9 div.sk-parallel-item {display: flex;flex-direction: column;z-index: 1;position: relative;background-color: white;}#sk-container-id-9 div.sk-parallel-item:first-child::after {align-self: flex-end;width: 50%;}#sk-container-id-9 div.sk-parallel-item:last-child::after {align-self: flex-start;width: 50%;}#sk-container-id-9 div.sk-parallel-item:only-child::after {width: 0;}#sk-container-id-9 div.sk-dashed-wrapped {border: 1px dashed gray;margin: 0 0.4em 0.5em 0.4em;box-sizing: border-box;padding-bottom: 0.4em;background-color: white;}#sk-container-id-9 div.sk-label label {font-family: monospace;font-weight: bold;display: inline-block;line-height: 1.2em;}#sk-container-id-9 div.sk-label-container {text-align: center;}#sk-container-id-9 div.sk-container {/* jupyter's `normalize.less` sets `[hidden] { display: none; }` but bootstrap.min.css set `[hidden] { display: none !important; }` so we also need the `!important` here to be able to override the default hidden behavior on the sphinx rendered scikit-learn.org. See: https://github.com/scikit-learn/scikit-learn/issues/21755 */display: inline-block !important;position: relative;}#sk-container-id-9 div.sk-text-repr-fallback {display: none;}</style><div id=\"sk-container-id-9\" class=\"sk-top-container\"><div class=\"sk-text-repr-fallback\"><pre>GridSearchCV(cv=5,\n",
              "             estimator=RandomForestClassifier(class_weight={0: 1, 1: 2},\n",
              "                                              random_state=42),\n",
              "             param_grid={&#x27;criterion&#x27;: [&#x27;gini&#x27;, &#x27;entropy&#x27;],\n",
              "                         &#x27;max_depth&#x27;: [5, 6, 7, 8, 9, 10],\n",
              "                         &#x27;max_features&#x27;: [&#x27;sqrt&#x27;, &#x27;log2&#x27;, &#x27;none&#x27;],\n",
              "                         &#x27;n_estimators&#x27;: [50, 100, 200, 500]})</pre><b>In a Jupyter environment, please rerun this cell to show the HTML representation or trust the notebook. <br />On GitHub, the HTML representation is unable to render, please try loading this page with nbviewer.org.</b></div><div class=\"sk-container\" hidden><div class=\"sk-item sk-dashed-wrapped\"><div class=\"sk-label-container\"><div class=\"sk-label sk-toggleable\"><input class=\"sk-toggleable__control sk-hidden--visually\" id=\"sk-estimator-id-15\" type=\"checkbox\" ><label for=\"sk-estimator-id-15\" class=\"sk-toggleable__label sk-toggleable__label-arrow\">GridSearchCV</label><div class=\"sk-toggleable__content\"><pre>GridSearchCV(cv=5,\n",
              "             estimator=RandomForestClassifier(class_weight={0: 1, 1: 2},\n",
              "                                              random_state=42),\n",
              "             param_grid={&#x27;criterion&#x27;: [&#x27;gini&#x27;, &#x27;entropy&#x27;],\n",
              "                         &#x27;max_depth&#x27;: [5, 6, 7, 8, 9, 10],\n",
              "                         &#x27;max_features&#x27;: [&#x27;sqrt&#x27;, &#x27;log2&#x27;, &#x27;none&#x27;],\n",
              "                         &#x27;n_estimators&#x27;: [50, 100, 200, 500]})</pre></div></div></div><div class=\"sk-parallel\"><div class=\"sk-parallel-item\"><div class=\"sk-item\"><div class=\"sk-label-container\"><div class=\"sk-label sk-toggleable\"><input class=\"sk-toggleable__control sk-hidden--visually\" id=\"sk-estimator-id-16\" type=\"checkbox\" ><label for=\"sk-estimator-id-16\" class=\"sk-toggleable__label sk-toggleable__label-arrow\">estimator: RandomForestClassifier</label><div class=\"sk-toggleable__content\"><pre>RandomForestClassifier(class_weight={0: 1, 1: 2}, random_state=42)</pre></div></div></div><div class=\"sk-serial\"><div class=\"sk-item\"><div class=\"sk-estimator sk-toggleable\"><input class=\"sk-toggleable__control sk-hidden--visually\" id=\"sk-estimator-id-17\" type=\"checkbox\" ><label for=\"sk-estimator-id-17\" class=\"sk-toggleable__label sk-toggleable__label-arrow\">RandomForestClassifier</label><div class=\"sk-toggleable__content\"><pre>RandomForestClassifier(class_weight={0: 1, 1: 2}, random_state=42)</pre></div></div></div></div></div></div></div></div></div></div>"
            ]
          },
          "metadata": {},
          "execution_count": 50
        }
      ]
    },
    {
      "cell_type": "code",
      "source": [
        "# Mejores parametros\n",
        "mejoresParametros = CV_rfc.best_params_\n",
        "mejoresParametros"
      ],
      "metadata": {
        "colab": {
          "base_uri": "https://localhost:8080/"
        },
        "outputId": "35e83b0f-d74b-47cf-b732-89771a75829e",
        "id": "sqf69UXbnyfm"
      },
      "execution_count": null,
      "outputs": [
        {
          "output_type": "execute_result",
          "data": {
            "text/plain": [
              "{'criterion': 'gini',\n",
              " 'max_depth': 10,\n",
              " 'max_features': 'sqrt',\n",
              " 'n_estimators': 500}"
            ]
          },
          "metadata": {},
          "execution_count": 51
        }
      ]
    },
    {
      "cell_type": "code",
      "source": [
        "# Modelo con hiperparametros arrojados por la busquedad en grilla\n",
        "rfc1=RandomForestClassifier(random_state=42, class_weight = {0 : 1, 1 : 2}, \n",
        "                            max_features = mejoresParametros['max_features'], \n",
        "                            n_estimators = mejoresParametros['n_estimators'], \n",
        "                            max_depth = mejoresParametros['max_depth'], \n",
        "                            criterion = mejoresParametros['criterion'])\n",
        "rfc1.fit(X_resampled, Y_resampled)"
      ],
      "metadata": {
        "colab": {
          "base_uri": "https://localhost:8080/",
          "height": 93
        },
        "outputId": "418397c4-53ff-4499-9dd5-d365eff129c2",
        "id": "TYZ04vMyXAVy"
      },
      "execution_count": null,
      "outputs": [
        {
          "output_type": "execute_result",
          "data": {
            "text/plain": [
              "RandomForestClassifier(class_weight={0: 1, 1: 2}, max_depth=10,\n",
              "                       n_estimators=500, random_state=42)"
            ],
            "text/html": [
              "<style>#sk-container-id-10 {color: black;background-color: white;}#sk-container-id-10 pre{padding: 0;}#sk-container-id-10 div.sk-toggleable {background-color: white;}#sk-container-id-10 label.sk-toggleable__label {cursor: pointer;display: block;width: 100%;margin-bottom: 0;padding: 0.3em;box-sizing: border-box;text-align: center;}#sk-container-id-10 label.sk-toggleable__label-arrow:before {content: \"▸\";float: left;margin-right: 0.25em;color: #696969;}#sk-container-id-10 label.sk-toggleable__label-arrow:hover:before {color: black;}#sk-container-id-10 div.sk-estimator:hover label.sk-toggleable__label-arrow:before {color: black;}#sk-container-id-10 div.sk-toggleable__content {max-height: 0;max-width: 0;overflow: hidden;text-align: left;background-color: #f0f8ff;}#sk-container-id-10 div.sk-toggleable__content pre {margin: 0.2em;color: black;border-radius: 0.25em;background-color: #f0f8ff;}#sk-container-id-10 input.sk-toggleable__control:checked~div.sk-toggleable__content {max-height: 200px;max-width: 100%;overflow: auto;}#sk-container-id-10 input.sk-toggleable__control:checked~label.sk-toggleable__label-arrow:before {content: \"▾\";}#sk-container-id-10 div.sk-estimator input.sk-toggleable__control:checked~label.sk-toggleable__label {background-color: #d4ebff;}#sk-container-id-10 div.sk-label input.sk-toggleable__control:checked~label.sk-toggleable__label {background-color: #d4ebff;}#sk-container-id-10 input.sk-hidden--visually {border: 0;clip: rect(1px 1px 1px 1px);clip: rect(1px, 1px, 1px, 1px);height: 1px;margin: -1px;overflow: hidden;padding: 0;position: absolute;width: 1px;}#sk-container-id-10 div.sk-estimator {font-family: monospace;background-color: #f0f8ff;border: 1px dotted black;border-radius: 0.25em;box-sizing: border-box;margin-bottom: 0.5em;}#sk-container-id-10 div.sk-estimator:hover {background-color: #d4ebff;}#sk-container-id-10 div.sk-parallel-item::after {content: \"\";width: 100%;border-bottom: 1px solid gray;flex-grow: 1;}#sk-container-id-10 div.sk-label:hover label.sk-toggleable__label {background-color: #d4ebff;}#sk-container-id-10 div.sk-serial::before {content: \"\";position: absolute;border-left: 1px solid gray;box-sizing: border-box;top: 0;bottom: 0;left: 50%;z-index: 0;}#sk-container-id-10 div.sk-serial {display: flex;flex-direction: column;align-items: center;background-color: white;padding-right: 0.2em;padding-left: 0.2em;position: relative;}#sk-container-id-10 div.sk-item {position: relative;z-index: 1;}#sk-container-id-10 div.sk-parallel {display: flex;align-items: stretch;justify-content: center;background-color: white;position: relative;}#sk-container-id-10 div.sk-item::before, #sk-container-id-10 div.sk-parallel-item::before {content: \"\";position: absolute;border-left: 1px solid gray;box-sizing: border-box;top: 0;bottom: 0;left: 50%;z-index: -1;}#sk-container-id-10 div.sk-parallel-item {display: flex;flex-direction: column;z-index: 1;position: relative;background-color: white;}#sk-container-id-10 div.sk-parallel-item:first-child::after {align-self: flex-end;width: 50%;}#sk-container-id-10 div.sk-parallel-item:last-child::after {align-self: flex-start;width: 50%;}#sk-container-id-10 div.sk-parallel-item:only-child::after {width: 0;}#sk-container-id-10 div.sk-dashed-wrapped {border: 1px dashed gray;margin: 0 0.4em 0.5em 0.4em;box-sizing: border-box;padding-bottom: 0.4em;background-color: white;}#sk-container-id-10 div.sk-label label {font-family: monospace;font-weight: bold;display: inline-block;line-height: 1.2em;}#sk-container-id-10 div.sk-label-container {text-align: center;}#sk-container-id-10 div.sk-container {/* jupyter's `normalize.less` sets `[hidden] { display: none; }` but bootstrap.min.css set `[hidden] { display: none !important; }` so we also need the `!important` here to be able to override the default hidden behavior on the sphinx rendered scikit-learn.org. See: https://github.com/scikit-learn/scikit-learn/issues/21755 */display: inline-block !important;position: relative;}#sk-container-id-10 div.sk-text-repr-fallback {display: none;}</style><div id=\"sk-container-id-10\" class=\"sk-top-container\"><div class=\"sk-text-repr-fallback\"><pre>RandomForestClassifier(class_weight={0: 1, 1: 2}, max_depth=10,\n",
              "                       n_estimators=500, random_state=42)</pre><b>In a Jupyter environment, please rerun this cell to show the HTML representation or trust the notebook. <br />On GitHub, the HTML representation is unable to render, please try loading this page with nbviewer.org.</b></div><div class=\"sk-container\" hidden><div class=\"sk-item\"><div class=\"sk-estimator sk-toggleable\"><input class=\"sk-toggleable__control sk-hidden--visually\" id=\"sk-estimator-id-18\" type=\"checkbox\" checked><label for=\"sk-estimator-id-18\" class=\"sk-toggleable__label sk-toggleable__label-arrow\">RandomForestClassifier</label><div class=\"sk-toggleable__content\"><pre>RandomForestClassifier(class_weight={0: 1, 1: 2}, max_depth=10,\n",
              "                       n_estimators=500, random_state=42)</pre></div></div></div></div></div>"
            ]
          },
          "metadata": {},
          "execution_count": 52
        }
      ]
    },
    {
      "cell_type": "markdown",
      "source": [
        "### METRICAS DEL MODELO "
      ],
      "metadata": {
        "id": "aVRP1qnrwnrH"
      }
    },
    {
      "cell_type": "code",
      "source": [
        "y_pred_train=rfc1.predict(X_resampled) ### Un umbral de 50%\n",
        "y_pred_test=rfc1.predict(X_test) ##  Un umbral de 50%"
      ],
      "metadata": {
        "id": "wtc42sRzwVMk"
      },
      "execution_count": null,
      "outputs": []
    },
    {
      "cell_type": "code",
      "source": [
        "cm13 = confusion_matrix(y_test, y_pred_test)"
      ],
      "metadata": {
        "id": "DAe4jmZDwlKX"
      },
      "execution_count": null,
      "outputs": []
    },
    {
      "cell_type": "code",
      "source": [
        "cm_display = metrics.ConfusionMatrixDisplay(confusion_matrix = cm13, display_labels = [False, True])\n",
        "cm_display.plot()\n",
        "plt.show()"
      ],
      "metadata": {
        "colab": {
          "base_uri": "https://localhost:8080/",
          "height": 449
        },
        "id": "pxui6xoPwsj2",
        "outputId": "9f8992a2-a1d1-44da-87e1-20efd8948a32"
      },
      "execution_count": null,
      "outputs": [
        {
          "output_type": "display_data",
          "data": {
            "text/plain": [
              "<Figure size 640x480 with 2 Axes>"
            ],
            "image/png": "[encoded data removed]"
          },
          "metadata": {}
        }
      ]
    },
    {
      "cell_type": "code",
      "source": [
        "print(\"En los datos de entrenamiento \\n\",classification_report(Y_resampled, y_pred_train))\n",
        "print(\"En los datos de prueba \\n\",classification_report(y_test, y_pred_test))"
      ],
      "metadata": {
        "colab": {
          "base_uri": "https://localhost:8080/"
        },
        "id": "favcGLRLxRRd",
        "outputId": "e02bf201-4c3d-4f4d-e241-1457fa13396b"
      },
      "execution_count": null,
      "outputs": [
        {
          "output_type": "stream",
          "name": "stdout",
          "text": [
            "En los datos de entrenamiento \n",
            "               precision    recall  f1-score   support\n",
            "\n",
            "           0       0.99      0.76      0.86      1308\n",
            "           1       0.81      1.00      0.89      1308\n",
            "\n",
            "    accuracy                           0.88      2616\n",
            "   macro avg       0.90      0.88      0.88      2616\n",
            "weighted avg       0.90      0.88      0.88      2616\n",
            "\n",
            "En los datos de prueba \n",
            "               precision    recall  f1-score   support\n",
            "\n",
            "           0       0.93      0.66      0.77      1552\n",
            "           1       0.48      0.87      0.62       561\n",
            "\n",
            "    accuracy                           0.71      2113\n",
            "   macro avg       0.71      0.76      0.70      2113\n",
            "weighted avg       0.81      0.71      0.73      2113\n",
            "\n"
          ]
        }
      ]
    },
    {
      "cell_type": "markdown",
      "source": [
        "### AREA BAJO LA CURVA ROC "
      ],
      "metadata": {
        "id": "aEBIbThJxgC0"
      }
    },
    {
      "cell_type": "code",
      "source": [
        "train_fpr, train_tpr, tr_thresholds = roc_curve( Y_resampled, y_pred_train)\n",
        "test_fpr, test_tpr, te_thresholds = roc_curve(y_test, y_pred_test)\n",
        "\n",
        "plt.grid()\n",
        "\n",
        "plt.plot(train_fpr, train_tpr, label=\" AUC TRAIN =\"+str(auc(train_fpr, train_tpr)))\n",
        "plt.plot(test_fpr, test_tpr, label=\" AUC TEST =\"+str(auc(test_fpr, test_tpr)))\n",
        "plt.plot([0,1],[0,1],'g--')\n",
        "plt.legend()\n",
        "plt.xlabel(\"False Positive Rate\")\n",
        "plt.ylabel(\"True Positive Rate\")\n",
        "plt.title(\"AUC(ROC curve)\")\n",
        "plt.grid(color='black', linestyle='-', linewidth=0.5)\n",
        "plt.show()"
      ],
      "metadata": {
        "colab": {
          "base_uri": "https://localhost:8080/",
          "height": 472
        },
        "id": "R6sQh1alEAP5",
        "outputId": "bc707e84-62da-493d-a2ee-9a976824b1f0"
      },
      "execution_count": null,
      "outputs": [
        {
          "output_type": "display_data",
          "data": {
            "text/plain": [
              "<Figure size 640x480 with 1 Axes>"
            ],
            "image/png": "[encoded data removed]"
          },
          "metadata": {}
        }
      ]
    }
  ]
}