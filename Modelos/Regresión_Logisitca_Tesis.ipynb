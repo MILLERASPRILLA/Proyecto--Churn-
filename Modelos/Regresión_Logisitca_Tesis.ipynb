{
  "nbformat": 4,
  "nbformat_minor": 0,
  "metadata": {
    "colab": {
      "provenance": [],
      "authorship_tag": "ABX9TyNYAGA0res8jgTAoxsVQO8y",
      "include_colab_link": true
    },
    "kernelspec": {
      "name": "python3",
      "display_name": "Python 3"
    },
    "language_info": {
      "name": "python"
    }
  },
  "cells": [
    {
      "cell_type": "markdown",
      "metadata": {
        "id": "view-in-github",
        "colab_type": "text"
      },
      "source": [
        "<a href=\"https://colab.research.google.com/github/MILLERASPRILLA/Proyecto--Churn-/blob/main/Modelos/Regresi%C3%B3n_Logisitca_Tesis.ipynb\" target=\"_parent\"><img src=\"https://colab.research.google.com/assets/colab-badge.svg\" alt=\"Open In Colab\"/></a>"
      ]
    },
    {
      "cell_type": "markdown",
      "source": [
        "![Universidad Central](https://www.ucentral.edu.co/sites/default/files/inline-images/identificadores-Centrados_en_ti_logo-h.png)"
      ],
      "metadata": {
        "id": "NzcaTdDd4Kit"
      }
    },
    {
      "cell_type": "markdown",
      "source": [
        "# __PROYECTO DE GRADO__\n",
        "\n",
        "> ## ____ Implementación de modelos de aprendizaje de máquina para la prevención de la fuga de clientes en una empresa de telecomunicaciones.\n",
        ">\n",
        ">\n",
        "> <br>\n",
        ">\n",
        "> ## __Contenido__\n",
        "\n",
        ">**Tema:**\n",
        "\n",
        ">> Regresión Logistica \n",
        "\n",
        "$$\\ln \\left(\\frac{p_i}{1-p_i} \\right)=\\beta_0 +\\beta_1X_1+\\beta_2X_2+...+\\beta_pX_p  $$ \n",
        "donde $p=P(Y=1)$\n",
        "\n",
        ">---"
      ],
      "metadata": {
        "id": "SdPYfH_08bvk"
      }
    },
    {
      "cell_type": "markdown",
      "source": [
        "- Librerias"
      ],
      "metadata": {
        "id": "jbdQvRFs9FPk"
      }
    },
    {
      "cell_type": "code",
      "execution_count": 1,
      "metadata": {
        "id": "-2jLjpUP3yvJ"
      },
      "outputs": [],
      "source": [
        "import pandas as pd\n",
        "import numpy as np\n",
        "import plotly.express as px\n",
        "import matplotlib.pyplot as plt\n",
        "from scipy import stats\n",
        "from sklearn.feature_selection import RFE\n",
        "from sklearn.model_selection import train_test_split\n",
        "from sklearn.linear_model import LogisticRegression\n",
        "from sklearn import linear_model, tree\n",
        "from sklearn.metrics import confusion_matrix, accuracy_score, precision_score, classification_report\n",
        "from sklearn.feature_selection import RFE\n",
        "from sklearn.model_selection import GridSearchCV\n",
        "from sklearn.preprocessing import OneHotEncoder\n",
        "from sklearn import preprocessing\n",
        "from sklearn.metrics import class_likelihood_ratios\n",
        "from sklearn import metrics\n",
        "from sklearn.metrics import roc_auc_score\n",
        "from sklearn.metrics import roc_curve\n",
        "from sklearn.preprocessing import label_binarize\n",
        "from sklearn.model_selection import cross_val_score"
      ]
    },
    {
      "cell_type": "markdown",
      "source": [
        "# EXTRACCIÓN DE LOS DATOS "
      ],
      "metadata": {
        "id": "df4-R3Gj9VzS"
      }
    },
    {
      "cell_type": "code",
      "source": [
        "DF = pd.read_csv(\"https://raw.githubusercontent.com/MILLERASPRILLA/Proyecto--Churn-/main/Bases/Data_limpia%20(2).csv\", sep= \",\", encoding= \"latin1\")\n",
        "DF.shape"
      ],
      "metadata": {
        "colab": {
          "base_uri": "https://localhost:8080/"
        },
        "id": "qy41kTWG4LIA",
        "outputId": "9d73bfd1-f007-421c-f246-62cc20de1e11"
      },
      "execution_count": 2,
      "outputs": [
        {
          "output_type": "execute_result",
          "data": {
            "text/plain": [
              "(7043, 20)"
            ]
          },
          "metadata": {},
          "execution_count": 2
        }
      ]
    },
    {
      "cell_type": "code",
      "source": [
        "DF.set_index(\"ID_CLIENTE\", inplace = True)\n",
        "DF.head()"
      ],
      "metadata": {
        "colab": {
          "base_uri": "https://localhost:8080/",
          "height": 388
        },
        "id": "aeKXQN_MLbqC",
        "outputId": "e693aa61-5202-4658-a1c4-6f01649e9b2f"
      },
      "execution_count": 3,
      "outputs": [
        {
          "output_type": "execute_result",
          "data": {
            "text/plain": [
              "            GENERO  ADULTO_MAYOR CASADO PERSONAS_A_CARGO  MESES_COMO_CLIENTE  \\\n",
              "ID_CLIENTE                                                                     \n",
              "7590-VHVEG  Female             0    Yes               No                   1   \n",
              "5575-GNVDE    Male             0     No               No                  34   \n",
              "3668-QPYBK    Male             0     No               No                   2   \n",
              "7795-CFOCW    Male             0     No               No                  45   \n",
              "9237-HQITU  Female             0     No               No                   2   \n",
              "\n",
              "           TIENE_TELEFONIA     VARIAS_LINEAS TIPO_INTERNET SEGURIDAD_EN_LINEA  \\\n",
              "ID_CLIENTE                                                                      \n",
              "7590-VHVEG              No  No phone service           DSL                 No   \n",
              "5575-GNVDE             Yes                No           DSL                Yes   \n",
              "3668-QPYBK             Yes                No           DSL                Yes   \n",
              "7795-CFOCW              No  No phone service           DSL                Yes   \n",
              "9237-HQITU             Yes                No   Fiber optic                 No   \n",
              "\n",
              "           COPIA_DE_SEGURIDAD PROTECCION_DISPOSITIVO SOPORTE_TECNICO  \\\n",
              "ID_CLIENTE                                                             \n",
              "7590-VHVEG                Yes                     No              No   \n",
              "5575-GNVDE                 No                    Yes              No   \n",
              "3668-QPYBK                Yes                     No              No   \n",
              "7795-CFOCW                 No                    Yes             Yes   \n",
              "9237-HQITU                 No                     No              No   \n",
              "\n",
              "           SERVICIO_TV SERVICIOS_STREAMING PERIODO_CONTRATO  \\\n",
              "ID_CLIENTE                                                    \n",
              "7590-VHVEG          No                  No   Month-to-month   \n",
              "5575-GNVDE          No                  No         One year   \n",
              "3668-QPYBK          No                  No   Month-to-month   \n",
              "7795-CFOCW          No                  No         One year   \n",
              "9237-HQITU          No                  No   Month-to-month   \n",
              "\n",
              "           FACTURACION_ELECTRONICA                METODO_PAGO  COBRO_MENSUAL  \\\n",
              "ID_CLIENTE                                                                     \n",
              "7590-VHVEG                     Yes           Electronic check          29.85   \n",
              "5575-GNVDE                      No               Mailed check          56.95   \n",
              "3668-QPYBK                     Yes               Mailed check          53.85   \n",
              "7795-CFOCW                      No  Bank transfer (automatic)          42.30   \n",
              "9237-HQITU                     Yes           Electronic check          70.70   \n",
              "\n",
              "           ABANDONO  \n",
              "ID_CLIENTE           \n",
              "7590-VHVEG       No  \n",
              "5575-GNVDE       No  \n",
              "3668-QPYBK      Yes  \n",
              "7795-CFOCW       No  \n",
              "9237-HQITU      Yes  "
            ],
            "text/html": [
              "\n",
              "  <div id=\"df-2cc888d5-fcdc-435e-93cf-c511f0c69feb\">\n",
              "    <div class=\"colab-df-container\">\n",
              "      <div>\n",
              "<style scoped>\n",
              "    .dataframe tbody tr th:only-of-type {\n",
              "        vertical-align: middle;\n",
              "    }\n",
              "\n",
              "    .dataframe tbody tr th {\n",
              "        vertical-align: top;\n",
              "    }\n",
              "\n",
              "    .dataframe thead th {\n",
              "        text-align: right;\n",
              "    }\n",
              "</style>\n",
              "<table border=\"1\" class=\"dataframe\">\n",
              "  <thead>\n",
              "    <tr style=\"text-align: right;\">\n",
              "      <th></th>\n",
              "      <th>GENERO</th>\n",
              "      <th>ADULTO_MAYOR</th>\n",
              "      <th>CASADO</th>\n",
              "      <th>PERSONAS_A_CARGO</th>\n",
              "      <th>MESES_COMO_CLIENTE</th>\n",
              "      <th>TIENE_TELEFONIA</th>\n",
              "      <th>VARIAS_LINEAS</th>\n",
              "      <th>TIPO_INTERNET</th>\n",
              "      <th>SEGURIDAD_EN_LINEA</th>\n",
              "      <th>COPIA_DE_SEGURIDAD</th>\n",
              "      <th>PROTECCION_DISPOSITIVO</th>\n",
              "      <th>SOPORTE_TECNICO</th>\n",
              "      <th>SERVICIO_TV</th>\n",
              "      <th>SERVICIOS_STREAMING</th>\n",
              "      <th>PERIODO_CONTRATO</th>\n",
              "      <th>FACTURACION_ELECTRONICA</th>\n",
              "      <th>METODO_PAGO</th>\n",
              "      <th>COBRO_MENSUAL</th>\n",
              "      <th>ABANDONO</th>\n",
              "    </tr>\n",
              "    <tr>\n",
              "      <th>ID_CLIENTE</th>\n",
              "      <th></th>\n",
              "      <th></th>\n",
              "      <th></th>\n",
              "      <th></th>\n",
              "      <th></th>\n",
              "      <th></th>\n",
              "      <th></th>\n",
              "      <th></th>\n",
              "      <th></th>\n",
              "      <th></th>\n",
              "      <th></th>\n",
              "      <th></th>\n",
              "      <th></th>\n",
              "      <th></th>\n",
              "      <th></th>\n",
              "      <th></th>\n",
              "      <th></th>\n",
              "      <th></th>\n",
              "      <th></th>\n",
              "    </tr>\n",
              "  </thead>\n",
              "  <tbody>\n",
              "    <tr>\n",
              "      <th>7590-VHVEG</th>\n",
              "      <td>Female</td>\n",
              "      <td>0</td>\n",
              "      <td>Yes</td>\n",
              "      <td>No</td>\n",
              "      <td>1</td>\n",
              "      <td>No</td>\n",
              "      <td>No phone service</td>\n",
              "      <td>DSL</td>\n",
              "      <td>No</td>\n",
              "      <td>Yes</td>\n",
              "      <td>No</td>\n",
              "      <td>No</td>\n",
              "      <td>No</td>\n",
              "      <td>No</td>\n",
              "      <td>Month-to-month</td>\n",
              "      <td>Yes</td>\n",
              "      <td>Electronic check</td>\n",
              "      <td>29.85</td>\n",
              "      <td>No</td>\n",
              "    </tr>\n",
              "    <tr>\n",
              "      <th>5575-GNVDE</th>\n",
              "      <td>Male</td>\n",
              "      <td>0</td>\n",
              "      <td>No</td>\n",
              "      <td>No</td>\n",
              "      <td>34</td>\n",
              "      <td>Yes</td>\n",
              "      <td>No</td>\n",
              "      <td>DSL</td>\n",
              "      <td>Yes</td>\n",
              "      <td>No</td>\n",
              "      <td>Yes</td>\n",
              "      <td>No</td>\n",
              "      <td>No</td>\n",
              "      <td>No</td>\n",
              "      <td>One year</td>\n",
              "      <td>No</td>\n",
              "      <td>Mailed check</td>\n",
              "      <td>56.95</td>\n",
              "      <td>No</td>\n",
              "    </tr>\n",
              "    <tr>\n",
              "      <th>3668-QPYBK</th>\n",
              "      <td>Male</td>\n",
              "      <td>0</td>\n",
              "      <td>No</td>\n",
              "      <td>No</td>\n",
              "      <td>2</td>\n",
              "      <td>Yes</td>\n",
              "      <td>No</td>\n",
              "      <td>DSL</td>\n",
              "      <td>Yes</td>\n",
              "      <td>Yes</td>\n",
              "      <td>No</td>\n",
              "      <td>No</td>\n",
              "      <td>No</td>\n",
              "      <td>No</td>\n",
              "      <td>Month-to-month</td>\n",
              "      <td>Yes</td>\n",
              "      <td>Mailed check</td>\n",
              "      <td>53.85</td>\n",
              "      <td>Yes</td>\n",
              "    </tr>\n",
              "    <tr>\n",
              "      <th>7795-CFOCW</th>\n",
              "      <td>Male</td>\n",
              "      <td>0</td>\n",
              "      <td>No</td>\n",
              "      <td>No</td>\n",
              "      <td>45</td>\n",
              "      <td>No</td>\n",
              "      <td>No phone service</td>\n",
              "      <td>DSL</td>\n",
              "      <td>Yes</td>\n",
              "      <td>No</td>\n",
              "      <td>Yes</td>\n",
              "      <td>Yes</td>\n",
              "      <td>No</td>\n",
              "      <td>No</td>\n",
              "      <td>One year</td>\n",
              "      <td>No</td>\n",
              "      <td>Bank transfer (automatic)</td>\n",
              "      <td>42.30</td>\n",
              "      <td>No</td>\n",
              "    </tr>\n",
              "    <tr>\n",
              "      <th>9237-HQITU</th>\n",
              "      <td>Female</td>\n",
              "      <td>0</td>\n",
              "      <td>No</td>\n",
              "      <td>No</td>\n",
              "      <td>2</td>\n",
              "      <td>Yes</td>\n",
              "      <td>No</td>\n",
              "      <td>Fiber optic</td>\n",
              "      <td>No</td>\n",
              "      <td>No</td>\n",
              "      <td>No</td>\n",
              "      <td>No</td>\n",
              "      <td>No</td>\n",
              "      <td>No</td>\n",
              "      <td>Month-to-month</td>\n",
              "      <td>Yes</td>\n",
              "      <td>Electronic check</td>\n",
              "      <td>70.70</td>\n",
              "      <td>Yes</td>\n",
              "    </tr>\n",
              "  </tbody>\n",
              "</table>\n",
              "</div>\n",
              "      <button class=\"colab-df-convert\" onclick=\"convertToInteractive('df-2cc888d5-fcdc-435e-93cf-c511f0c69feb')\"\n",
              "              title=\"Convert this dataframe to an interactive table.\"\n",
              "              style=\"display:none;\">\n",
              "        \n",
              "  <svg xmlns=\"http://www.w3.org/2000/svg\" height=\"24px\"viewBox=\"0 0 24 24\"\n",
              "       width=\"24px\">\n",
              "    <path d=\"M0 0h24v24H0V0z\" fill=\"none\"/>\n",
              "    <path d=\"M18.56 5.44l.94 2.06.94-2.06 2.06-.94-2.06-.94-.94-2.06-.94 2.06-2.06.94zm-11 1L8.5 8.5l.94-2.06 2.06-.94-2.06-.94L8.5 2.5l-.94 2.06-2.06.94zm10 10l.94 2.06.94-2.06 2.06-.94-2.06-.94-.94-2.06-.94 2.06-2.06.94z\"/><path d=\"M17.41 7.96l-1.37-1.37c-.4-.4-.92-.59-1.43-.59-.52 0-1.04.2-1.43.59L10.3 9.45l-7.72 7.72c-.78.78-.78 2.05 0 2.83L4 21.41c.39.39.9.59 1.41.59.51 0 1.02-.2 1.41-.59l7.78-7.78 2.81-2.81c.8-.78.8-2.07 0-2.86zM5.41 20L4 18.59l7.72-7.72 1.47 1.35L5.41 20z\"/>\n",
              "  </svg>\n",
              "      </button>\n",
              "      \n",
              "  <style>\n",
              "    .colab-df-container {\n",
              "      display:flex;\n",
              "      flex-wrap:wrap;\n",
              "      gap: 12px;\n",
              "    }\n",
              "\n",
              "    .colab-df-convert {\n",
              "      background-color: #E8F0FE;\n",
              "      border: none;\n",
              "      border-radius: 50%;\n",
              "      cursor: pointer;\n",
              "      display: none;\n",
              "      fill: #1967D2;\n",
              "      height: 32px;\n",
              "      padding: 0 0 0 0;\n",
              "      width: 32px;\n",
              "    }\n",
              "\n",
              "    .colab-df-convert:hover {\n",
              "      background-color: #E2EBFA;\n",
              "      box-shadow: 0px 1px 2px rgba(60, 64, 67, 0.3), 0px 1px 3px 1px rgba(60, 64, 67, 0.15);\n",
              "      fill: #174EA6;\n",
              "    }\n",
              "\n",
              "    [theme=dark] .colab-df-convert {\n",
              "      background-color: #3B4455;\n",
              "      fill: #D2E3FC;\n",
              "    }\n",
              "\n",
              "    [theme=dark] .colab-df-convert:hover {\n",
              "      background-color: #434B5C;\n",
              "      box-shadow: 0px 1px 3px 1px rgba(0, 0, 0, 0.15);\n",
              "      filter: drop-shadow(0px 1px 2px rgba(0, 0, 0, 0.3));\n",
              "      fill: #FFFFFF;\n",
              "    }\n",
              "  </style>\n",
              "\n",
              "      <script>\n",
              "        const buttonEl =\n",
              "          document.querySelector('#df-2cc888d5-fcdc-435e-93cf-c511f0c69feb button.colab-df-convert');\n",
              "        buttonEl.style.display =\n",
              "          google.colab.kernel.accessAllowed ? 'block' : 'none';\n",
              "\n",
              "        async function convertToInteractive(key) {\n",
              "          const element = document.querySelector('#df-2cc888d5-fcdc-435e-93cf-c511f0c69feb');\n",
              "          const dataTable =\n",
              "            await google.colab.kernel.invokeFunction('convertToInteractive',\n",
              "                                                     [key], {});\n",
              "          if (!dataTable) return;\n",
              "\n",
              "          const docLinkHtml = 'Like what you see? Visit the ' +\n",
              "            '<a target=\"_blank\" href=https://colab.research.google.com/notebooks/data_table.ipynb>data table notebook</a>'\n",
              "            + ' to learn more about interactive tables.';\n",
              "          element.innerHTML = '';\n",
              "          dataTable['output_type'] = 'display_data';\n",
              "          await google.colab.output.renderOutput(dataTable, element);\n",
              "          const docLink = document.createElement('div');\n",
              "          docLink.innerHTML = docLinkHtml;\n",
              "          element.appendChild(docLink);\n",
              "        }\n",
              "      </script>\n",
              "    </div>\n",
              "  </div>\n",
              "  "
            ]
          },
          "metadata": {},
          "execution_count": 3
        }
      ]
    },
    {
      "cell_type": "markdown",
      "source": [
        "# PREPROCESAMIENTO"
      ],
      "metadata": {
        "id": "L1YymjzRL7nj"
      }
    },
    {
      "cell_type": "markdown",
      "source": [
        "## EXPLORACIÓN"
      ],
      "metadata": {
        "id": "pRJy79sGnzR_"
      }
    },
    {
      "cell_type": "code",
      "source": [
        "# Exploracion de las variables. \n",
        "DF.info() "
      ],
      "metadata": {
        "colab": {
          "base_uri": "https://localhost:8080/"
        },
        "id": "95SlpK-kL-rd",
        "outputId": "a5e88cfb-f080-49c5-a0c0-314e0dc9280e"
      },
      "execution_count": 4,
      "outputs": [
        {
          "output_type": "stream",
          "name": "stdout",
          "text": [
            "<class 'pandas.core.frame.DataFrame'>\n",
            "Index: 7043 entries, 7590-VHVEG to 3186-AJIEK\n",
            "Data columns (total 19 columns):\n",
            " #   Column                   Non-Null Count  Dtype  \n",
            "---  ------                   --------------  -----  \n",
            " 0   GENERO                   7043 non-null   object \n",
            " 1   ADULTO_MAYOR             7043 non-null   int64  \n",
            " 2   CASADO                   7043 non-null   object \n",
            " 3   PERSONAS_A_CARGO         7043 non-null   object \n",
            " 4   MESES_COMO_CLIENTE       7043 non-null   int64  \n",
            " 5   TIENE_TELEFONIA          7043 non-null   object \n",
            " 6   VARIAS_LINEAS            7043 non-null   object \n",
            " 7   TIPO_INTERNET            7043 non-null   object \n",
            " 8   SEGURIDAD_EN_LINEA       7043 non-null   object \n",
            " 9   COPIA_DE_SEGURIDAD       7043 non-null   object \n",
            " 10  PROTECCION_DISPOSITIVO   7043 non-null   object \n",
            " 11  SOPORTE_TECNICO          7043 non-null   object \n",
            " 12  SERVICIO_TV              7043 non-null   object \n",
            " 13  SERVICIOS_STREAMING      7043 non-null   object \n",
            " 14  PERIODO_CONTRATO         7043 non-null   object \n",
            " 15  FACTURACION_ELECTRONICA  7043 non-null   object \n",
            " 16  METODO_PAGO              7043 non-null   object \n",
            " 17  COBRO_MENSUAL            7043 non-null   float64\n",
            " 18  ABANDONO                 7043 non-null   object \n",
            "dtypes: float64(1), int64(2), object(16)\n",
            "memory usage: 1.1+ MB\n"
          ]
        }
      ]
    },
    {
      "cell_type": "markdown",
      "source": [
        ">> A pesar que en la limpieza de datos habíamos transformado las variables tipo objeto a tipo category, al cargar la base de datos Python las reconoce como objeto, por lo cual, reemplazaremos nuevamente el tipo de dato. "
      ],
      "metadata": {
        "id": "3xW9hnyFM4qy"
      }
    },
    {
      "cell_type": "code",
      "source": [
        "# Convertir columnas en categorias\n",
        "columnasConvertir = ['GENERO', 'ADULTO_MAYOR', 'CASADO', 'PERSONAS_A_CARGO', 'TIENE_TELEFONIA', \n",
        "               'VARIAS_LINEAS', 'TIPO_INTERNET', 'SEGURIDAD_EN_LINEA', 'COPIA_DE_SEGURIDAD', \n",
        "               'PROTECCION_DISPOSITIVO', 'SOPORTE_TECNICO', 'SERVICIO_TV', 'SERVICIOS_STREAMING', \n",
        "               'PERIODO_CONTRATO', 'FACTURACION_ELECTRONICA', 'METODO_PAGO', 'ABANDONO']\n",
        "              \n",
        "DF[columnasConvertir] = DF[columnasConvertir].astype(\"category\")"
      ],
      "metadata": {
        "id": "zzcnOnabNIf6"
      },
      "execution_count": 5,
      "outputs": []
    },
    {
      "cell_type": "code",
      "source": [
        "# Reporte de cambios\n",
        "DF.dtypes"
      ],
      "metadata": {
        "colab": {
          "base_uri": "https://localhost:8080/"
        },
        "id": "Aojjgy1GNY7x",
        "outputId": "3c5411ac-f81c-4e17-a5b7-24a658abca5c"
      },
      "execution_count": 6,
      "outputs": [
        {
          "output_type": "execute_result",
          "data": {
            "text/plain": [
              "GENERO                     category\n",
              "ADULTO_MAYOR               category\n",
              "CASADO                     category\n",
              "PERSONAS_A_CARGO           category\n",
              "MESES_COMO_CLIENTE            int64\n",
              "TIENE_TELEFONIA            category\n",
              "VARIAS_LINEAS              category\n",
              "TIPO_INTERNET              category\n",
              "SEGURIDAD_EN_LINEA         category\n",
              "COPIA_DE_SEGURIDAD         category\n",
              "PROTECCION_DISPOSITIVO     category\n",
              "SOPORTE_TECNICO            category\n",
              "SERVICIO_TV                category\n",
              "SERVICIOS_STREAMING        category\n",
              "PERIODO_CONTRATO           category\n",
              "FACTURACION_ELECTRONICA    category\n",
              "METODO_PAGO                category\n",
              "COBRO_MENSUAL               float64\n",
              "ABANDONO                   category\n",
              "dtype: object"
            ]
          },
          "metadata": {},
          "execution_count": 6
        }
      ]
    },
    {
      "cell_type": "markdown",
      "source": [
        "## ONE CODE\n",
        "\n",
        ">> Toda vez que el modelo no recibe datos categóricos , codificaremos las variables categoricas en variables tipo one code"
      ],
      "metadata": {
        "id": "k-A3SeEPn5E-"
      }
    },
    {
      "cell_type": "code",
      "source": [
        "# Codificacion variables categoricas\n",
        "DF_dummie = DF.select_dtypes(exclude=np.number)\n",
        "DF_dummie = pd.get_dummies(DF_dummie, drop_first = True)\n",
        "DF_dummie.head()"
      ],
      "metadata": {
        "colab": {
          "base_uri": "https://localhost:8080/",
          "height": 435
        },
        "id": "ZcXgeRYvOw5S",
        "outputId": "e2da125f-82be-4cf2-bdb5-ec4abd8ed503"
      },
      "execution_count": 7,
      "outputs": [
        {
          "output_type": "execute_result",
          "data": {
            "text/plain": [
              "            GENERO_Male  ADULTO_MAYOR_1  CASADO_Yes  PERSONAS_A_CARGO_Yes  \\\n",
              "ID_CLIENTE                                                                  \n",
              "7590-VHVEG            0               0           1                     0   \n",
              "5575-GNVDE            1               0           0                     0   \n",
              "3668-QPYBK            1               0           0                     0   \n",
              "7795-CFOCW            1               0           0                     0   \n",
              "9237-HQITU            0               0           0                     0   \n",
              "\n",
              "            TIENE_TELEFONIA_Yes  VARIAS_LINEAS_No phone service  \\\n",
              "ID_CLIENTE                                                        \n",
              "7590-VHVEG                    0                               1   \n",
              "5575-GNVDE                    1                               0   \n",
              "3668-QPYBK                    1                               0   \n",
              "7795-CFOCW                    0                               1   \n",
              "9237-HQITU                    1                               0   \n",
              "\n",
              "            VARIAS_LINEAS_Yes  TIPO_INTERNET_Fiber optic  TIPO_INTERNET_No  \\\n",
              "ID_CLIENTE                                                                   \n",
              "7590-VHVEG                  0                          0                 0   \n",
              "5575-GNVDE                  0                          0                 0   \n",
              "3668-QPYBK                  0                          0                 0   \n",
              "7795-CFOCW                  0                          0                 0   \n",
              "9237-HQITU                  0                          1                 0   \n",
              "\n",
              "            SEGURIDAD_EN_LINEA_No internet service  ...  SERVICIO_TV_Yes  \\\n",
              "ID_CLIENTE                                          ...                    \n",
              "7590-VHVEG                                       0  ...                0   \n",
              "5575-GNVDE                                       0  ...                0   \n",
              "3668-QPYBK                                       0  ...                0   \n",
              "7795-CFOCW                                       0  ...                0   \n",
              "9237-HQITU                                       0  ...                0   \n",
              "\n",
              "            SERVICIOS_STREAMING_No internet service  SERVICIOS_STREAMING_Yes  \\\n",
              "ID_CLIENTE                                                                     \n",
              "7590-VHVEG                                        0                        0   \n",
              "5575-GNVDE                                        0                        0   \n",
              "3668-QPYBK                                        0                        0   \n",
              "7795-CFOCW                                        0                        0   \n",
              "9237-HQITU                                        0                        0   \n",
              "\n",
              "            PERIODO_CONTRATO_One year  PERIODO_CONTRATO_Two year  \\\n",
              "ID_CLIENTE                                                         \n",
              "7590-VHVEG                          0                          0   \n",
              "5575-GNVDE                          1                          0   \n",
              "3668-QPYBK                          0                          0   \n",
              "7795-CFOCW                          1                          0   \n",
              "9237-HQITU                          0                          0   \n",
              "\n",
              "            FACTURACION_ELECTRONICA_Yes  METODO_PAGO_Credit card (automatic)  \\\n",
              "ID_CLIENTE                                                                     \n",
              "7590-VHVEG                            1                                    0   \n",
              "5575-GNVDE                            0                                    0   \n",
              "3668-QPYBK                            1                                    0   \n",
              "7795-CFOCW                            0                                    0   \n",
              "9237-HQITU                            1                                    0   \n",
              "\n",
              "            METODO_PAGO_Electronic check  METODO_PAGO_Mailed check  \\\n",
              "ID_CLIENTE                                                           \n",
              "7590-VHVEG                             1                         0   \n",
              "5575-GNVDE                             0                         1   \n",
              "3668-QPYBK                             0                         1   \n",
              "7795-CFOCW                             0                         0   \n",
              "9237-HQITU                             1                         0   \n",
              "\n",
              "            ABANDONO_Yes  \n",
              "ID_CLIENTE                \n",
              "7590-VHVEG             0  \n",
              "5575-GNVDE             0  \n",
              "3668-QPYBK             1  \n",
              "7795-CFOCW             0  \n",
              "9237-HQITU             1  \n",
              "\n",
              "[5 rows x 28 columns]"
            ],
            "text/html": [
              "\n",
              "  <div id=\"df-2d65b7b7-c7c6-40d2-9cb7-212f45f8b1eb\">\n",
              "    <div class=\"colab-df-container\">\n",
              "      <div>\n",
              "<style scoped>\n",
              "    .dataframe tbody tr th:only-of-type {\n",
              "        vertical-align: middle;\n",
              "    }\n",
              "\n",
              "    .dataframe tbody tr th {\n",
              "        vertical-align: top;\n",
              "    }\n",
              "\n",
              "    .dataframe thead th {\n",
              "        text-align: right;\n",
              "    }\n",
              "</style>\n",
              "<table border=\"1\" class=\"dataframe\">\n",
              "  <thead>\n",
              "    <tr style=\"text-align: right;\">\n",
              "      <th></th>\n",
              "      <th>GENERO_Male</th>\n",
              "      <th>ADULTO_MAYOR_1</th>\n",
              "      <th>CASADO_Yes</th>\n",
              "      <th>PERSONAS_A_CARGO_Yes</th>\n",
              "      <th>TIENE_TELEFONIA_Yes</th>\n",
              "      <th>VARIAS_LINEAS_No phone service</th>\n",
              "      <th>VARIAS_LINEAS_Yes</th>\n",
              "      <th>TIPO_INTERNET_Fiber optic</th>\n",
              "      <th>TIPO_INTERNET_No</th>\n",
              "      <th>SEGURIDAD_EN_LINEA_No internet service</th>\n",
              "      <th>...</th>\n",
              "      <th>SERVICIO_TV_Yes</th>\n",
              "      <th>SERVICIOS_STREAMING_No internet service</th>\n",
              "      <th>SERVICIOS_STREAMING_Yes</th>\n",
              "      <th>PERIODO_CONTRATO_One year</th>\n",
              "      <th>PERIODO_CONTRATO_Two year</th>\n",
              "      <th>FACTURACION_ELECTRONICA_Yes</th>\n",
              "      <th>METODO_PAGO_Credit card (automatic)</th>\n",
              "      <th>METODO_PAGO_Electronic check</th>\n",
              "      <th>METODO_PAGO_Mailed check</th>\n",
              "      <th>ABANDONO_Yes</th>\n",
              "    </tr>\n",
              "    <tr>\n",
              "      <th>ID_CLIENTE</th>\n",
              "      <th></th>\n",
              "      <th></th>\n",
              "      <th></th>\n",
              "      <th></th>\n",
              "      <th></th>\n",
              "      <th></th>\n",
              "      <th></th>\n",
              "      <th></th>\n",
              "      <th></th>\n",
              "      <th></th>\n",
              "      <th></th>\n",
              "      <th></th>\n",
              "      <th></th>\n",
              "      <th></th>\n",
              "      <th></th>\n",
              "      <th></th>\n",
              "      <th></th>\n",
              "      <th></th>\n",
              "      <th></th>\n",
              "      <th></th>\n",
              "      <th></th>\n",
              "    </tr>\n",
              "  </thead>\n",
              "  <tbody>\n",
              "    <tr>\n",
              "      <th>7590-VHVEG</th>\n",
              "      <td>0</td>\n",
              "      <td>0</td>\n",
              "      <td>1</td>\n",
              "      <td>0</td>\n",
              "      <td>0</td>\n",
              "      <td>1</td>\n",
              "      <td>0</td>\n",
              "      <td>0</td>\n",
              "      <td>0</td>\n",
              "      <td>0</td>\n",
              "      <td>...</td>\n",
              "      <td>0</td>\n",
              "      <td>0</td>\n",
              "      <td>0</td>\n",
              "      <td>0</td>\n",
              "      <td>0</td>\n",
              "      <td>1</td>\n",
              "      <td>0</td>\n",
              "      <td>1</td>\n",
              "      <td>0</td>\n",
              "      <td>0</td>\n",
              "    </tr>\n",
              "    <tr>\n",
              "      <th>5575-GNVDE</th>\n",
              "      <td>1</td>\n",
              "      <td>0</td>\n",
              "      <td>0</td>\n",
              "      <td>0</td>\n",
              "      <td>1</td>\n",
              "      <td>0</td>\n",
              "      <td>0</td>\n",
              "      <td>0</td>\n",
              "      <td>0</td>\n",
              "      <td>0</td>\n",
              "      <td>...</td>\n",
              "      <td>0</td>\n",
              "      <td>0</td>\n",
              "      <td>0</td>\n",
              "      <td>1</td>\n",
              "      <td>0</td>\n",
              "      <td>0</td>\n",
              "      <td>0</td>\n",
              "      <td>0</td>\n",
              "      <td>1</td>\n",
              "      <td>0</td>\n",
              "    </tr>\n",
              "    <tr>\n",
              "      <th>3668-QPYBK</th>\n",
              "      <td>1</td>\n",
              "      <td>0</td>\n",
              "      <td>0</td>\n",
              "      <td>0</td>\n",
              "      <td>1</td>\n",
              "      <td>0</td>\n",
              "      <td>0</td>\n",
              "      <td>0</td>\n",
              "      <td>0</td>\n",
              "      <td>0</td>\n",
              "      <td>...</td>\n",
              "      <td>0</td>\n",
              "      <td>0</td>\n",
              "      <td>0</td>\n",
              "      <td>0</td>\n",
              "      <td>0</td>\n",
              "      <td>1</td>\n",
              "      <td>0</td>\n",
              "      <td>0</td>\n",
              "      <td>1</td>\n",
              "      <td>1</td>\n",
              "    </tr>\n",
              "    <tr>\n",
              "      <th>7795-CFOCW</th>\n",
              "      <td>1</td>\n",
              "      <td>0</td>\n",
              "      <td>0</td>\n",
              "      <td>0</td>\n",
              "      <td>0</td>\n",
              "      <td>1</td>\n",
              "      <td>0</td>\n",
              "      <td>0</td>\n",
              "      <td>0</td>\n",
              "      <td>0</td>\n",
              "      <td>...</td>\n",
              "      <td>0</td>\n",
              "      <td>0</td>\n",
              "      <td>0</td>\n",
              "      <td>1</td>\n",
              "      <td>0</td>\n",
              "      <td>0</td>\n",
              "      <td>0</td>\n",
              "      <td>0</td>\n",
              "      <td>0</td>\n",
              "      <td>0</td>\n",
              "    </tr>\n",
              "    <tr>\n",
              "      <th>9237-HQITU</th>\n",
              "      <td>0</td>\n",
              "      <td>0</td>\n",
              "      <td>0</td>\n",
              "      <td>0</td>\n",
              "      <td>1</td>\n",
              "      <td>0</td>\n",
              "      <td>0</td>\n",
              "      <td>1</td>\n",
              "      <td>0</td>\n",
              "      <td>0</td>\n",
              "      <td>...</td>\n",
              "      <td>0</td>\n",
              "      <td>0</td>\n",
              "      <td>0</td>\n",
              "      <td>0</td>\n",
              "      <td>0</td>\n",
              "      <td>1</td>\n",
              "      <td>0</td>\n",
              "      <td>1</td>\n",
              "      <td>0</td>\n",
              "      <td>1</td>\n",
              "    </tr>\n",
              "  </tbody>\n",
              "</table>\n",
              "<p>5 rows × 28 columns</p>\n",
              "</div>\n",
              "      <button class=\"colab-df-convert\" onclick=\"convertToInteractive('df-2d65b7b7-c7c6-40d2-9cb7-212f45f8b1eb')\"\n",
              "              title=\"Convert this dataframe to an interactive table.\"\n",
              "              style=\"display:none;\">\n",
              "        \n",
              "  <svg xmlns=\"http://www.w3.org/2000/svg\" height=\"24px\"viewBox=\"0 0 24 24\"\n",
              "       width=\"24px\">\n",
              "    <path d=\"M0 0h24v24H0V0z\" fill=\"none\"/>\n",
              "    <path d=\"M18.56 5.44l.94 2.06.94-2.06 2.06-.94-2.06-.94-.94-2.06-.94 2.06-2.06.94zm-11 1L8.5 8.5l.94-2.06 2.06-.94-2.06-.94L8.5 2.5l-.94 2.06-2.06.94zm10 10l.94 2.06.94-2.06 2.06-.94-2.06-.94-.94-2.06-.94 2.06-2.06.94z\"/><path d=\"M17.41 7.96l-1.37-1.37c-.4-.4-.92-.59-1.43-.59-.52 0-1.04.2-1.43.59L10.3 9.45l-7.72 7.72c-.78.78-.78 2.05 0 2.83L4 21.41c.39.39.9.59 1.41.59.51 0 1.02-.2 1.41-.59l7.78-7.78 2.81-2.81c.8-.78.8-2.07 0-2.86zM5.41 20L4 18.59l7.72-7.72 1.47 1.35L5.41 20z\"/>\n",
              "  </svg>\n",
              "      </button>\n",
              "      \n",
              "  <style>\n",
              "    .colab-df-container {\n",
              "      display:flex;\n",
              "      flex-wrap:wrap;\n",
              "      gap: 12px;\n",
              "    }\n",
              "\n",
              "    .colab-df-convert {\n",
              "      background-color: #E8F0FE;\n",
              "      border: none;\n",
              "      border-radius: 50%;\n",
              "      cursor: pointer;\n",
              "      display: none;\n",
              "      fill: #1967D2;\n",
              "      height: 32px;\n",
              "      padding: 0 0 0 0;\n",
              "      width: 32px;\n",
              "    }\n",
              "\n",
              "    .colab-df-convert:hover {\n",
              "      background-color: #E2EBFA;\n",
              "      box-shadow: 0px 1px 2px rgba(60, 64, 67, 0.3), 0px 1px 3px 1px rgba(60, 64, 67, 0.15);\n",
              "      fill: #174EA6;\n",
              "    }\n",
              "\n",
              "    [theme=dark] .colab-df-convert {\n",
              "      background-color: #3B4455;\n",
              "      fill: #D2E3FC;\n",
              "    }\n",
              "\n",
              "    [theme=dark] .colab-df-convert:hover {\n",
              "      background-color: #434B5C;\n",
              "      box-shadow: 0px 1px 3px 1px rgba(0, 0, 0, 0.15);\n",
              "      filter: drop-shadow(0px 1px 2px rgba(0, 0, 0, 0.3));\n",
              "      fill: #FFFFFF;\n",
              "    }\n",
              "  </style>\n",
              "\n",
              "      <script>\n",
              "        const buttonEl =\n",
              "          document.querySelector('#df-2d65b7b7-c7c6-40d2-9cb7-212f45f8b1eb button.colab-df-convert');\n",
              "        buttonEl.style.display =\n",
              "          google.colab.kernel.accessAllowed ? 'block' : 'none';\n",
              "\n",
              "        async function convertToInteractive(key) {\n",
              "          const element = document.querySelector('#df-2d65b7b7-c7c6-40d2-9cb7-212f45f8b1eb');\n",
              "          const dataTable =\n",
              "            await google.colab.kernel.invokeFunction('convertToInteractive',\n",
              "                                                     [key], {});\n",
              "          if (!dataTable) return;\n",
              "\n",
              "          const docLinkHtml = 'Like what you see? Visit the ' +\n",
              "            '<a target=\"_blank\" href=https://colab.research.google.com/notebooks/data_table.ipynb>data table notebook</a>'\n",
              "            + ' to learn more about interactive tables.';\n",
              "          element.innerHTML = '';\n",
              "          dataTable['output_type'] = 'display_data';\n",
              "          await google.colab.output.renderOutput(dataTable, element);\n",
              "          const docLink = document.createElement('div');\n",
              "          docLink.innerHTML = docLinkHtml;\n",
              "          element.appendChild(docLink);\n",
              "        }\n",
              "      </script>\n",
              "    </div>\n",
              "  </div>\n",
              "  "
            ]
          },
          "metadata": {},
          "execution_count": 7
        }
      ]
    },
    {
      "cell_type": "markdown",
      "source": [
        "## Estandarización "
      ],
      "metadata": {
        "id": "dstg_eTsoItO"
      }
    },
    {
      "cell_type": "markdown",
      "source": [
        ">> Toda vez que los datos cuantitativos en la base tienen escalas y unidades de medida diferentes consideramos necesario homogenizar estos datos para evitar introducir sesgos al modelo. \n",
        "\n",
        ">> Para esto homogenizaremos las variables usando la técnica de Robust Scaler que nos permitirá no solo ajustar nuestros datos a una distribución normal, si no que nos evitara que los datos atípicos sesguen los resultados de nuestro modelo.  "
      ],
      "metadata": {
        "id": "S3GqDK-vqvtv"
      }
    },
    {
      "cell_type": "code",
      "source": [
        "# Obtener variables numericas en otro data frame\n",
        "DF_num = DF.select_dtypes(include=np.number)\n",
        "# Estandarizar los datos numericos\n",
        "datosEstandarizados = preprocessing.RobustScaler().fit_transform(DF_num)\n",
        "# Crear dataframa con los datos estandarizados \n",
        "DF_num = pd.DataFrame(datosEstandarizados, columns = DF_num.columns, index = DF_num.index)\n",
        "DF_num.head()"
      ],
      "metadata": {
        "id": "gN5IVEW5lgC4",
        "colab": {
          "base_uri": "https://localhost:8080/",
          "height": 238
        },
        "outputId": "27dfe016-528f-4b98-8b16-df1a9ad1bb2c"
      },
      "execution_count": 8,
      "outputs": [
        {
          "output_type": "execute_result",
          "data": {
            "text/plain": [
              "            MESES_COMO_CLIENTE  COBRO_MENSUAL\n",
              "ID_CLIENTE                                   \n",
              "7590-VHVEG           -0.608696      -0.745170\n",
              "5575-GNVDE            0.108696      -0.246550\n",
              "3668-QPYBK           -0.586957      -0.303588\n",
              "7795-CFOCW            0.347826      -0.516099\n",
              "9237-HQITU           -0.586957       0.006440"
            ],
            "text/html": [
              "\n",
              "  <div id=\"df-03faadfe-7bc0-4971-b023-aaa4664a26d4\">\n",
              "    <div class=\"colab-df-container\">\n",
              "      <div>\n",
              "<style scoped>\n",
              "    .dataframe tbody tr th:only-of-type {\n",
              "        vertical-align: middle;\n",
              "    }\n",
              "\n",
              "    .dataframe tbody tr th {\n",
              "        vertical-align: top;\n",
              "    }\n",
              "\n",
              "    .dataframe thead th {\n",
              "        text-align: right;\n",
              "    }\n",
              "</style>\n",
              "<table border=\"1\" class=\"dataframe\">\n",
              "  <thead>\n",
              "    <tr style=\"text-align: right;\">\n",
              "      <th></th>\n",
              "      <th>MESES_COMO_CLIENTE</th>\n",
              "      <th>COBRO_MENSUAL</th>\n",
              "    </tr>\n",
              "    <tr>\n",
              "      <th>ID_CLIENTE</th>\n",
              "      <th></th>\n",
              "      <th></th>\n",
              "    </tr>\n",
              "  </thead>\n",
              "  <tbody>\n",
              "    <tr>\n",
              "      <th>7590-VHVEG</th>\n",
              "      <td>-0.608696</td>\n",
              "      <td>-0.745170</td>\n",
              "    </tr>\n",
              "    <tr>\n",
              "      <th>5575-GNVDE</th>\n",
              "      <td>0.108696</td>\n",
              "      <td>-0.246550</td>\n",
              "    </tr>\n",
              "    <tr>\n",
              "      <th>3668-QPYBK</th>\n",
              "      <td>-0.586957</td>\n",
              "      <td>-0.303588</td>\n",
              "    </tr>\n",
              "    <tr>\n",
              "      <th>7795-CFOCW</th>\n",
              "      <td>0.347826</td>\n",
              "      <td>-0.516099</td>\n",
              "    </tr>\n",
              "    <tr>\n",
              "      <th>9237-HQITU</th>\n",
              "      <td>-0.586957</td>\n",
              "      <td>0.006440</td>\n",
              "    </tr>\n",
              "  </tbody>\n",
              "</table>\n",
              "</div>\n",
              "      <button class=\"colab-df-convert\" onclick=\"convertToInteractive('df-03faadfe-7bc0-4971-b023-aaa4664a26d4')\"\n",
              "              title=\"Convert this dataframe to an interactive table.\"\n",
              "              style=\"display:none;\">\n",
              "        \n",
              "  <svg xmlns=\"http://www.w3.org/2000/svg\" height=\"24px\"viewBox=\"0 0 24 24\"\n",
              "       width=\"24px\">\n",
              "    <path d=\"M0 0h24v24H0V0z\" fill=\"none\"/>\n",
              "    <path d=\"M18.56 5.44l.94 2.06.94-2.06 2.06-.94-2.06-.94-.94-2.06-.94 2.06-2.06.94zm-11 1L8.5 8.5l.94-2.06 2.06-.94-2.06-.94L8.5 2.5l-.94 2.06-2.06.94zm10 10l.94 2.06.94-2.06 2.06-.94-2.06-.94-.94-2.06-.94 2.06-2.06.94z\"/><path d=\"M17.41 7.96l-1.37-1.37c-.4-.4-.92-.59-1.43-.59-.52 0-1.04.2-1.43.59L10.3 9.45l-7.72 7.72c-.78.78-.78 2.05 0 2.83L4 21.41c.39.39.9.59 1.41.59.51 0 1.02-.2 1.41-.59l7.78-7.78 2.81-2.81c.8-.78.8-2.07 0-2.86zM5.41 20L4 18.59l7.72-7.72 1.47 1.35L5.41 20z\"/>\n",
              "  </svg>\n",
              "      </button>\n",
              "      \n",
              "  <style>\n",
              "    .colab-df-container {\n",
              "      display:flex;\n",
              "      flex-wrap:wrap;\n",
              "      gap: 12px;\n",
              "    }\n",
              "\n",
              "    .colab-df-convert {\n",
              "      background-color: #E8F0FE;\n",
              "      border: none;\n",
              "      border-radius: 50%;\n",
              "      cursor: pointer;\n",
              "      display: none;\n",
              "      fill: #1967D2;\n",
              "      height: 32px;\n",
              "      padding: 0 0 0 0;\n",
              "      width: 32px;\n",
              "    }\n",
              "\n",
              "    .colab-df-convert:hover {\n",
              "      background-color: #E2EBFA;\n",
              "      box-shadow: 0px 1px 2px rgba(60, 64, 67, 0.3), 0px 1px 3px 1px rgba(60, 64, 67, 0.15);\n",
              "      fill: #174EA6;\n",
              "    }\n",
              "\n",
              "    [theme=dark] .colab-df-convert {\n",
              "      background-color: #3B4455;\n",
              "      fill: #D2E3FC;\n",
              "    }\n",
              "\n",
              "    [theme=dark] .colab-df-convert:hover {\n",
              "      background-color: #434B5C;\n",
              "      box-shadow: 0px 1px 3px 1px rgba(0, 0, 0, 0.15);\n",
              "      filter: drop-shadow(0px 1px 2px rgba(0, 0, 0, 0.3));\n",
              "      fill: #FFFFFF;\n",
              "    }\n",
              "  </style>\n",
              "\n",
              "      <script>\n",
              "        const buttonEl =\n",
              "          document.querySelector('#df-03faadfe-7bc0-4971-b023-aaa4664a26d4 button.colab-df-convert');\n",
              "        buttonEl.style.display =\n",
              "          google.colab.kernel.accessAllowed ? 'block' : 'none';\n",
              "\n",
              "        async function convertToInteractive(key) {\n",
              "          const element = document.querySelector('#df-03faadfe-7bc0-4971-b023-aaa4664a26d4');\n",
              "          const dataTable =\n",
              "            await google.colab.kernel.invokeFunction('convertToInteractive',\n",
              "                                                     [key], {});\n",
              "          if (!dataTable) return;\n",
              "\n",
              "          const docLinkHtml = 'Like what you see? Visit the ' +\n",
              "            '<a target=\"_blank\" href=https://colab.research.google.com/notebooks/data_table.ipynb>data table notebook</a>'\n",
              "            + ' to learn more about interactive tables.';\n",
              "          element.innerHTML = '';\n",
              "          dataTable['output_type'] = 'display_data';\n",
              "          await google.colab.output.renderOutput(dataTable, element);\n",
              "          const docLink = document.createElement('div');\n",
              "          docLink.innerHTML = docLinkHtml;\n",
              "          element.appendChild(docLink);\n",
              "        }\n",
              "      </script>\n",
              "    </div>\n",
              "  </div>\n",
              "  "
            ]
          },
          "metadata": {},
          "execution_count": 8
        }
      ]
    },
    {
      "cell_type": "markdown",
      "source": [
        "## BASE FINAL"
      ],
      "metadata": {
        "id": "_nCFozEiuePR"
      }
    },
    {
      "cell_type": "code",
      "source": [
        "# concatenar los dataframe\n",
        "DF_modelo =  pd.concat([DF_dummie, DF_num], axis=1)\n",
        "DF_modelo.head() "
      ],
      "metadata": {
        "colab": {
          "base_uri": "https://localhost:8080/",
          "height": 435
        },
        "id": "fAFPPGseuiho",
        "outputId": "d946df90-b980-412b-a225-ae59d858f7b8"
      },
      "execution_count": 9,
      "outputs": [
        {
          "output_type": "execute_result",
          "data": {
            "text/plain": [
              "            GENERO_Male  ADULTO_MAYOR_1  CASADO_Yes  PERSONAS_A_CARGO_Yes  \\\n",
              "ID_CLIENTE                                                                  \n",
              "7590-VHVEG            0               0           1                     0   \n",
              "5575-GNVDE            1               0           0                     0   \n",
              "3668-QPYBK            1               0           0                     0   \n",
              "7795-CFOCW            1               0           0                     0   \n",
              "9237-HQITU            0               0           0                     0   \n",
              "\n",
              "            TIENE_TELEFONIA_Yes  VARIAS_LINEAS_No phone service  \\\n",
              "ID_CLIENTE                                                        \n",
              "7590-VHVEG                    0                               1   \n",
              "5575-GNVDE                    1                               0   \n",
              "3668-QPYBK                    1                               0   \n",
              "7795-CFOCW                    0                               1   \n",
              "9237-HQITU                    1                               0   \n",
              "\n",
              "            VARIAS_LINEAS_Yes  TIPO_INTERNET_Fiber optic  TIPO_INTERNET_No  \\\n",
              "ID_CLIENTE                                                                   \n",
              "7590-VHVEG                  0                          0                 0   \n",
              "5575-GNVDE                  0                          0                 0   \n",
              "3668-QPYBK                  0                          0                 0   \n",
              "7795-CFOCW                  0                          0                 0   \n",
              "9237-HQITU                  0                          1                 0   \n",
              "\n",
              "            SEGURIDAD_EN_LINEA_No internet service  ...  \\\n",
              "ID_CLIENTE                                          ...   \n",
              "7590-VHVEG                                       0  ...   \n",
              "5575-GNVDE                                       0  ...   \n",
              "3668-QPYBK                                       0  ...   \n",
              "7795-CFOCW                                       0  ...   \n",
              "9237-HQITU                                       0  ...   \n",
              "\n",
              "            SERVICIOS_STREAMING_Yes  PERIODO_CONTRATO_One year  \\\n",
              "ID_CLIENTE                                                       \n",
              "7590-VHVEG                        0                          0   \n",
              "5575-GNVDE                        0                          1   \n",
              "3668-QPYBK                        0                          0   \n",
              "7795-CFOCW                        0                          1   \n",
              "9237-HQITU                        0                          0   \n",
              "\n",
              "            PERIODO_CONTRATO_Two year  FACTURACION_ELECTRONICA_Yes  \\\n",
              "ID_CLIENTE                                                           \n",
              "7590-VHVEG                          0                            1   \n",
              "5575-GNVDE                          0                            0   \n",
              "3668-QPYBK                          0                            1   \n",
              "7795-CFOCW                          0                            0   \n",
              "9237-HQITU                          0                            1   \n",
              "\n",
              "            METODO_PAGO_Credit card (automatic)  METODO_PAGO_Electronic check  \\\n",
              "ID_CLIENTE                                                                      \n",
              "7590-VHVEG                                    0                             1   \n",
              "5575-GNVDE                                    0                             0   \n",
              "3668-QPYBK                                    0                             0   \n",
              "7795-CFOCW                                    0                             0   \n",
              "9237-HQITU                                    0                             1   \n",
              "\n",
              "            METODO_PAGO_Mailed check  ABANDONO_Yes  MESES_COMO_CLIENTE  \\\n",
              "ID_CLIENTE                                                               \n",
              "7590-VHVEG                         0             0           -0.608696   \n",
              "5575-GNVDE                         1             0            0.108696   \n",
              "3668-QPYBK                         1             1           -0.586957   \n",
              "7795-CFOCW                         0             0            0.347826   \n",
              "9237-HQITU                         0             1           -0.586957   \n",
              "\n",
              "            COBRO_MENSUAL  \n",
              "ID_CLIENTE                 \n",
              "7590-VHVEG      -0.745170  \n",
              "5575-GNVDE      -0.246550  \n",
              "3668-QPYBK      -0.303588  \n",
              "7795-CFOCW      -0.516099  \n",
              "9237-HQITU       0.006440  \n",
              "\n",
              "[5 rows x 30 columns]"
            ],
            "text/html": [
              "\n",
              "  <div id=\"df-ba36da43-3a0f-4daa-8448-94ce9cdce8d0\">\n",
              "    <div class=\"colab-df-container\">\n",
              "      <div>\n",
              "<style scoped>\n",
              "    .dataframe tbody tr th:only-of-type {\n",
              "        vertical-align: middle;\n",
              "    }\n",
              "\n",
              "    .dataframe tbody tr th {\n",
              "        vertical-align: top;\n",
              "    }\n",
              "\n",
              "    .dataframe thead th {\n",
              "        text-align: right;\n",
              "    }\n",
              "</style>\n",
              "<table border=\"1\" class=\"dataframe\">\n",
              "  <thead>\n",
              "    <tr style=\"text-align: right;\">\n",
              "      <th></th>\n",
              "      <th>GENERO_Male</th>\n",
              "      <th>ADULTO_MAYOR_1</th>\n",
              "      <th>CASADO_Yes</th>\n",
              "      <th>PERSONAS_A_CARGO_Yes</th>\n",
              "      <th>TIENE_TELEFONIA_Yes</th>\n",
              "      <th>VARIAS_LINEAS_No phone service</th>\n",
              "      <th>VARIAS_LINEAS_Yes</th>\n",
              "      <th>TIPO_INTERNET_Fiber optic</th>\n",
              "      <th>TIPO_INTERNET_No</th>\n",
              "      <th>SEGURIDAD_EN_LINEA_No internet service</th>\n",
              "      <th>...</th>\n",
              "      <th>SERVICIOS_STREAMING_Yes</th>\n",
              "      <th>PERIODO_CONTRATO_One year</th>\n",
              "      <th>PERIODO_CONTRATO_Two year</th>\n",
              "      <th>FACTURACION_ELECTRONICA_Yes</th>\n",
              "      <th>METODO_PAGO_Credit card (automatic)</th>\n",
              "      <th>METODO_PAGO_Electronic check</th>\n",
              "      <th>METODO_PAGO_Mailed check</th>\n",
              "      <th>ABANDONO_Yes</th>\n",
              "      <th>MESES_COMO_CLIENTE</th>\n",
              "      <th>COBRO_MENSUAL</th>\n",
              "    </tr>\n",
              "    <tr>\n",
              "      <th>ID_CLIENTE</th>\n",
              "      <th></th>\n",
              "      <th></th>\n",
              "      <th></th>\n",
              "      <th></th>\n",
              "      <th></th>\n",
              "      <th></th>\n",
              "      <th></th>\n",
              "      <th></th>\n",
              "      <th></th>\n",
              "      <th></th>\n",
              "      <th></th>\n",
              "      <th></th>\n",
              "      <th></th>\n",
              "      <th></th>\n",
              "      <th></th>\n",
              "      <th></th>\n",
              "      <th></th>\n",
              "      <th></th>\n",
              "      <th></th>\n",
              "      <th></th>\n",
              "      <th></th>\n",
              "    </tr>\n",
              "  </thead>\n",
              "  <tbody>\n",
              "    <tr>\n",
              "      <th>7590-VHVEG</th>\n",
              "      <td>0</td>\n",
              "      <td>0</td>\n",
              "      <td>1</td>\n",
              "      <td>0</td>\n",
              "      <td>0</td>\n",
              "      <td>1</td>\n",
              "      <td>0</td>\n",
              "      <td>0</td>\n",
              "      <td>0</td>\n",
              "      <td>0</td>\n",
              "      <td>...</td>\n",
              "      <td>0</td>\n",
              "      <td>0</td>\n",
              "      <td>0</td>\n",
              "      <td>1</td>\n",
              "      <td>0</td>\n",
              "      <td>1</td>\n",
              "      <td>0</td>\n",
              "      <td>0</td>\n",
              "      <td>-0.608696</td>\n",
              "      <td>-0.745170</td>\n",
              "    </tr>\n",
              "    <tr>\n",
              "      <th>5575-GNVDE</th>\n",
              "      <td>1</td>\n",
              "      <td>0</td>\n",
              "      <td>0</td>\n",
              "      <td>0</td>\n",
              "      <td>1</td>\n",
              "      <td>0</td>\n",
              "      <td>0</td>\n",
              "      <td>0</td>\n",
              "      <td>0</td>\n",
              "      <td>0</td>\n",
              "      <td>...</td>\n",
              "      <td>0</td>\n",
              "      <td>1</td>\n",
              "      <td>0</td>\n",
              "      <td>0</td>\n",
              "      <td>0</td>\n",
              "      <td>0</td>\n",
              "      <td>1</td>\n",
              "      <td>0</td>\n",
              "      <td>0.108696</td>\n",
              "      <td>-0.246550</td>\n",
              "    </tr>\n",
              "    <tr>\n",
              "      <th>3668-QPYBK</th>\n",
              "      <td>1</td>\n",
              "      <td>0</td>\n",
              "      <td>0</td>\n",
              "      <td>0</td>\n",
              "      <td>1</td>\n",
              "      <td>0</td>\n",
              "      <td>0</td>\n",
              "      <td>0</td>\n",
              "      <td>0</td>\n",
              "      <td>0</td>\n",
              "      <td>...</td>\n",
              "      <td>0</td>\n",
              "      <td>0</td>\n",
              "      <td>0</td>\n",
              "      <td>1</td>\n",
              "      <td>0</td>\n",
              "      <td>0</td>\n",
              "      <td>1</td>\n",
              "      <td>1</td>\n",
              "      <td>-0.586957</td>\n",
              "      <td>-0.303588</td>\n",
              "    </tr>\n",
              "    <tr>\n",
              "      <th>7795-CFOCW</th>\n",
              "      <td>1</td>\n",
              "      <td>0</td>\n",
              "      <td>0</td>\n",
              "      <td>0</td>\n",
              "      <td>0</td>\n",
              "      <td>1</td>\n",
              "      <td>0</td>\n",
              "      <td>0</td>\n",
              "      <td>0</td>\n",
              "      <td>0</td>\n",
              "      <td>...</td>\n",
              "      <td>0</td>\n",
              "      <td>1</td>\n",
              "      <td>0</td>\n",
              "      <td>0</td>\n",
              "      <td>0</td>\n",
              "      <td>0</td>\n",
              "      <td>0</td>\n",
              "      <td>0</td>\n",
              "      <td>0.347826</td>\n",
              "      <td>-0.516099</td>\n",
              "    </tr>\n",
              "    <tr>\n",
              "      <th>9237-HQITU</th>\n",
              "      <td>0</td>\n",
              "      <td>0</td>\n",
              "      <td>0</td>\n",
              "      <td>0</td>\n",
              "      <td>1</td>\n",
              "      <td>0</td>\n",
              "      <td>0</td>\n",
              "      <td>1</td>\n",
              "      <td>0</td>\n",
              "      <td>0</td>\n",
              "      <td>...</td>\n",
              "      <td>0</td>\n",
              "      <td>0</td>\n",
              "      <td>0</td>\n",
              "      <td>1</td>\n",
              "      <td>0</td>\n",
              "      <td>1</td>\n",
              "      <td>0</td>\n",
              "      <td>1</td>\n",
              "      <td>-0.586957</td>\n",
              "      <td>0.006440</td>\n",
              "    </tr>\n",
              "  </tbody>\n",
              "</table>\n",
              "<p>5 rows × 30 columns</p>\n",
              "</div>\n",
              "      <button class=\"colab-df-convert\" onclick=\"convertToInteractive('df-ba36da43-3a0f-4daa-8448-94ce9cdce8d0')\"\n",
              "              title=\"Convert this dataframe to an interactive table.\"\n",
              "              style=\"display:none;\">\n",
              "        \n",
              "  <svg xmlns=\"http://www.w3.org/2000/svg\" height=\"24px\"viewBox=\"0 0 24 24\"\n",
              "       width=\"24px\">\n",
              "    <path d=\"M0 0h24v24H0V0z\" fill=\"none\"/>\n",
              "    <path d=\"M18.56 5.44l.94 2.06.94-2.06 2.06-.94-2.06-.94-.94-2.06-.94 2.06-2.06.94zm-11 1L8.5 8.5l.94-2.06 2.06-.94-2.06-.94L8.5 2.5l-.94 2.06-2.06.94zm10 10l.94 2.06.94-2.06 2.06-.94-2.06-.94-.94-2.06-.94 2.06-2.06.94z\"/><path d=\"M17.41 7.96l-1.37-1.37c-.4-.4-.92-.59-1.43-.59-.52 0-1.04.2-1.43.59L10.3 9.45l-7.72 7.72c-.78.78-.78 2.05 0 2.83L4 21.41c.39.39.9.59 1.41.59.51 0 1.02-.2 1.41-.59l7.78-7.78 2.81-2.81c.8-.78.8-2.07 0-2.86zM5.41 20L4 18.59l7.72-7.72 1.47 1.35L5.41 20z\"/>\n",
              "  </svg>\n",
              "      </button>\n",
              "      \n",
              "  <style>\n",
              "    .colab-df-container {\n",
              "      display:flex;\n",
              "      flex-wrap:wrap;\n",
              "      gap: 12px;\n",
              "    }\n",
              "\n",
              "    .colab-df-convert {\n",
              "      background-color: #E8F0FE;\n",
              "      border: none;\n",
              "      border-radius: 50%;\n",
              "      cursor: pointer;\n",
              "      display: none;\n",
              "      fill: #1967D2;\n",
              "      height: 32px;\n",
              "      padding: 0 0 0 0;\n",
              "      width: 32px;\n",
              "    }\n",
              "\n",
              "    .colab-df-convert:hover {\n",
              "      background-color: #E2EBFA;\n",
              "      box-shadow: 0px 1px 2px rgba(60, 64, 67, 0.3), 0px 1px 3px 1px rgba(60, 64, 67, 0.15);\n",
              "      fill: #174EA6;\n",
              "    }\n",
              "\n",
              "    [theme=dark] .colab-df-convert {\n",
              "      background-color: #3B4455;\n",
              "      fill: #D2E3FC;\n",
              "    }\n",
              "\n",
              "    [theme=dark] .colab-df-convert:hover {\n",
              "      background-color: #434B5C;\n",
              "      box-shadow: 0px 1px 3px 1px rgba(0, 0, 0, 0.15);\n",
              "      filter: drop-shadow(0px 1px 2px rgba(0, 0, 0, 0.3));\n",
              "      fill: #FFFFFF;\n",
              "    }\n",
              "  </style>\n",
              "\n",
              "      <script>\n",
              "        const buttonEl =\n",
              "          document.querySelector('#df-ba36da43-3a0f-4daa-8448-94ce9cdce8d0 button.colab-df-convert');\n",
              "        buttonEl.style.display =\n",
              "          google.colab.kernel.accessAllowed ? 'block' : 'none';\n",
              "\n",
              "        async function convertToInteractive(key) {\n",
              "          const element = document.querySelector('#df-ba36da43-3a0f-4daa-8448-94ce9cdce8d0');\n",
              "          const dataTable =\n",
              "            await google.colab.kernel.invokeFunction('convertToInteractive',\n",
              "                                                     [key], {});\n",
              "          if (!dataTable) return;\n",
              "\n",
              "          const docLinkHtml = 'Like what you see? Visit the ' +\n",
              "            '<a target=\"_blank\" href=https://colab.research.google.com/notebooks/data_table.ipynb>data table notebook</a>'\n",
              "            + ' to learn more about interactive tables.';\n",
              "          element.innerHTML = '';\n",
              "          dataTable['output_type'] = 'display_data';\n",
              "          await google.colab.output.renderOutput(dataTable, element);\n",
              "          const docLink = document.createElement('div');\n",
              "          docLink.innerHTML = docLinkHtml;\n",
              "          element.appendChild(docLink);\n",
              "        }\n",
              "      </script>\n",
              "    </div>\n",
              "  </div>\n",
              "  "
            ]
          },
          "metadata": {},
          "execution_count": 9
        }
      ]
    },
    {
      "cell_type": "code",
      "source": [
        "DF.to_csv(\"Data_dummie.csv\")"
      ],
      "metadata": {
        "id": "5uwvJbn6-IsC"
      },
      "execution_count": 10,
      "outputs": []
    },
    {
      "cell_type": "markdown",
      "source": [
        "# MODELADO"
      ],
      "metadata": {
        "id": "GMhxQLfwvAuB"
      }
    },
    {
      "cell_type": "markdown",
      "source": [
        "## MODELO 1"
      ],
      "metadata": {
        "id": "nmkcaEOfvFF6"
      }
    },
    {
      "cell_type": "code",
      "source": [
        "# Partición de datos de entrenamiento y prueba \n",
        "Y=DF_modelo[\"ABANDONO_Yes\"] ## Seleccionamos la variable objetivo (binaria)\n",
        "X=DF_modelo.drop(\"ABANDONO_Yes\", axis=1) ## Seleccionamos las variables explicativas\n",
        "X_train, X_test, y_train, y_test = train_test_split(X, Y, random_state=123,test_size=0.3, stratify=Y) ## Dividimos en entrenamiento y prueba, y estratificando\n",
        "##por la variable Y \n",
        "X_train.shape"
      ],
      "metadata": {
        "colab": {
          "base_uri": "https://localhost:8080/"
        },
        "id": "khhchKimwbHb",
        "outputId": "e5662d79-4f71-4a09-dbfa-14d539e3a20d"
      },
      "execution_count": null,
      "outputs": [
        {
          "output_type": "execute_result",
          "data": {
            "text/plain": [
              "(4930, 29)"
            ]
          },
          "metadata": {},
          "execution_count": 12
        }
      ]
    },
    {
      "cell_type": "code",
      "source": [
        "#   Entrenando al modelo\n",
        "logreg=LogisticRegression() ### Llamo la regresión logistica\n",
        "logreg.fit(X_train, y_train) ## Entreno el modelo"
      ],
      "metadata": {
        "colab": {
          "base_uri": "https://localhost:8080/",
          "height": 75
        },
        "id": "z8WQBGeXD--Z",
        "outputId": "94cbad74-b6be-47a2-eda7-ae29f41dca8f"
      },
      "execution_count": null,
      "outputs": [
        {
          "output_type": "execute_result",
          "data": {
            "text/plain": [
              "LogisticRegression()"
            ],
            "text/html": [
              "<style>#sk-container-id-1 {color: black;background-color: white;}#sk-container-id-1 pre{padding: 0;}#sk-container-id-1 div.sk-toggleable {background-color: white;}#sk-container-id-1 label.sk-toggleable__label {cursor: pointer;display: block;width: 100%;margin-bottom: 0;padding: 0.3em;box-sizing: border-box;text-align: center;}#sk-container-id-1 label.sk-toggleable__label-arrow:before {content: \"▸\";float: left;margin-right: 0.25em;color: #696969;}#sk-container-id-1 label.sk-toggleable__label-arrow:hover:before {color: black;}#sk-container-id-1 div.sk-estimator:hover label.sk-toggleable__label-arrow:before {color: black;}#sk-container-id-1 div.sk-toggleable__content {max-height: 0;max-width: 0;overflow: hidden;text-align: left;background-color: #f0f8ff;}#sk-container-id-1 div.sk-toggleable__content pre {margin: 0.2em;color: black;border-radius: 0.25em;background-color: #f0f8ff;}#sk-container-id-1 input.sk-toggleable__control:checked~div.sk-toggleable__content {max-height: 200px;max-width: 100%;overflow: auto;}#sk-container-id-1 input.sk-toggleable__control:checked~label.sk-toggleable__label-arrow:before {content: \"▾\";}#sk-container-id-1 div.sk-estimator input.sk-toggleable__control:checked~label.sk-toggleable__label {background-color: #d4ebff;}#sk-container-id-1 div.sk-label input.sk-toggleable__control:checked~label.sk-toggleable__label {background-color: #d4ebff;}#sk-container-id-1 input.sk-hidden--visually {border: 0;clip: rect(1px 1px 1px 1px);clip: rect(1px, 1px, 1px, 1px);height: 1px;margin: -1px;overflow: hidden;padding: 0;position: absolute;width: 1px;}#sk-container-id-1 div.sk-estimator {font-family: monospace;background-color: #f0f8ff;border: 1px dotted black;border-radius: 0.25em;box-sizing: border-box;margin-bottom: 0.5em;}#sk-container-id-1 div.sk-estimator:hover {background-color: #d4ebff;}#sk-container-id-1 div.sk-parallel-item::after {content: \"\";width: 100%;border-bottom: 1px solid gray;flex-grow: 1;}#sk-container-id-1 div.sk-label:hover label.sk-toggleable__label {background-color: #d4ebff;}#sk-container-id-1 div.sk-serial::before {content: \"\";position: absolute;border-left: 1px solid gray;box-sizing: border-box;top: 0;bottom: 0;left: 50%;z-index: 0;}#sk-container-id-1 div.sk-serial {display: flex;flex-direction: column;align-items: center;background-color: white;padding-right: 0.2em;padding-left: 0.2em;position: relative;}#sk-container-id-1 div.sk-item {position: relative;z-index: 1;}#sk-container-id-1 div.sk-parallel {display: flex;align-items: stretch;justify-content: center;background-color: white;position: relative;}#sk-container-id-1 div.sk-item::before, #sk-container-id-1 div.sk-parallel-item::before {content: \"\";position: absolute;border-left: 1px solid gray;box-sizing: border-box;top: 0;bottom: 0;left: 50%;z-index: -1;}#sk-container-id-1 div.sk-parallel-item {display: flex;flex-direction: column;z-index: 1;position: relative;background-color: white;}#sk-container-id-1 div.sk-parallel-item:first-child::after {align-self: flex-end;width: 50%;}#sk-container-id-1 div.sk-parallel-item:last-child::after {align-self: flex-start;width: 50%;}#sk-container-id-1 div.sk-parallel-item:only-child::after {width: 0;}#sk-container-id-1 div.sk-dashed-wrapped {border: 1px dashed gray;margin: 0 0.4em 0.5em 0.4em;box-sizing: border-box;padding-bottom: 0.4em;background-color: white;}#sk-container-id-1 div.sk-label label {font-family: monospace;font-weight: bold;display: inline-block;line-height: 1.2em;}#sk-container-id-1 div.sk-label-container {text-align: center;}#sk-container-id-1 div.sk-container {/* jupyter's `normalize.less` sets `[hidden] { display: none; }` but bootstrap.min.css set `[hidden] { display: none !important; }` so we also need the `!important` here to be able to override the default hidden behavior on the sphinx rendered scikit-learn.org. See: https://github.com/scikit-learn/scikit-learn/issues/21755 */display: inline-block !important;position: relative;}#sk-container-id-1 div.sk-text-repr-fallback {display: none;}</style><div id=\"sk-container-id-1\" class=\"sk-top-container\"><div class=\"sk-text-repr-fallback\"><pre>LogisticRegression()</pre><b>In a Jupyter environment, please rerun this cell to show the HTML representation or trust the notebook. <br />On GitHub, the HTML representation is unable to render, please try loading this page with nbviewer.org.</b></div><div class=\"sk-container\" hidden><div class=\"sk-item\"><div class=\"sk-estimator sk-toggleable\"><input class=\"sk-toggleable__control sk-hidden--visually\" id=\"sk-estimator-id-1\" type=\"checkbox\" checked><label for=\"sk-estimator-id-1\" class=\"sk-toggleable__label sk-toggleable__label-arrow\">LogisticRegression</label><div class=\"sk-toggleable__content\"><pre>LogisticRegression()</pre></div></div></div></div></div>"
            ]
          },
          "metadata": {},
          "execution_count": 13
        }
      ]
    },
    {
      "cell_type": "markdown",
      "source": [
        "### METRICAS MODELO  "
      ],
      "metadata": {
        "id": "_a94LJw-VbyT"
      }
    },
    {
      "cell_type": "code",
      "source": [
        "# prediccion del modelo \n",
        "y_pred_train=logreg.predict(X_train) ### Un umbral de 50%\n",
        "y_pred_test=logreg.predict(X_test) ##  Un umbral de 50%"
      ],
      "metadata": {
        "id": "3UifqAOecVYl"
      },
      "execution_count": null,
      "outputs": []
    },
    {
      "cell_type": "code",
      "source": [
        "cf = confusion_matrix(y_test, y_pred_test)"
      ],
      "metadata": {
        "id": "0lM7LYezcW72"
      },
      "execution_count": null,
      "outputs": []
    },
    {
      "cell_type": "code",
      "source": [
        "cm_display = metrics.ConfusionMatrixDisplay(confusion_matrix = cf, display_labels = [False, True])\n",
        "cm_display.plot()\n",
        "plt.show()"
      ],
      "metadata": {
        "colab": {
          "base_uri": "https://localhost:8080/",
          "height": 282
        },
        "id": "dQk-cFhQj7Tp",
        "outputId": "59fe1adf-20e1-40a2-8fae-271f98c2613d"
      },
      "execution_count": null,
      "outputs": [
        {
          "output_type": "display_data",
          "data": {
            "text/plain": [
              "<Figure size 432x288 with 2 Axes>"
            ],
            "image/png": "[encoded data removed]"
          },
          "metadata": {
            "needs_background": "light"
          }
        }
      ]
    },
    {
      "cell_type": "code",
      "source": [
        "#  viendo sus metricas\n",
        "print(\"En los datos de entrenamiento \\n\",classification_report(y_train, y_pred_train))\n",
        "print(\"En los datos de prueba \\n\",classification_report(y_test, y_pred_test))"
      ],
      "metadata": {
        "colab": {
          "base_uri": "https://localhost:8080/"
        },
        "id": "VgdMJMapHNS_",
        "outputId": "e631dbab-0112-47c3-9927-77aae756a9f4"
      },
      "execution_count": null,
      "outputs": [
        {
          "output_type": "stream",
          "name": "stdout",
          "text": [
            "En los datos de entrenamiento \n",
            "               precision    recall  f1-score   support\n",
            "\n",
            "           0       0.84      0.90      0.87      3622\n",
            "           1       0.65      0.54      0.59      1308\n",
            "\n",
            "    accuracy                           0.80      4930\n",
            "   macro avg       0.75      0.72      0.73      4930\n",
            "weighted avg       0.79      0.80      0.80      4930\n",
            "\n",
            "En los datos de prueba \n",
            "               precision    recall  f1-score   support\n",
            "\n",
            "           0       0.84      0.91      0.87      1552\n",
            "           1       0.67      0.53      0.59       561\n",
            "\n",
            "    accuracy                           0.81      2113\n",
            "   macro avg       0.76      0.72      0.73      2113\n",
            "weighted avg       0.80      0.81      0.80      2113\n",
            "\n"
          ]
        }
      ]
    },
    {
      "cell_type": "markdown",
      "source": [
        ">> Observamos que el modelo planteado clasifica bien el 80% de los datos en la prueba, sin embargo, tiene importantes dificultades para clasificar las personas que se irán de la compañía efectivamente, Como podemos observar de los 561 clientes fugados que tienen los datos de prueba solo acertó en 296.\n",
        "\n",
        ">> la precisión del modelo muestra que solo el 65% de las personas que el modelo indico se irían de la compañía se fueron efectivamente. Por su parte, tan solo el 53% de las personas que el modelo sugiere no se irían de la compaña efectivamente se quedaron. \n",
        "\n",
        ">>Cabe recordar que el objetivo de este trabajo es predecir correctamente los clientes que se fugen, por lo que el RCALL nos sugiere que el modelo esta siendo poco efectivo en este sentido. \n"
      ],
      "metadata": {
        "id": "mwCR3TDJMYvB"
      }
    },
    {
      "cell_type": "markdown",
      "source": [
        "### AREA BAJO LA CURVA ROC"
      ],
      "metadata": {
        "id": "ZZLha80Vd2IO"
      }
    },
    {
      "cell_type": "code",
      "source": [
        "logit_roc_auc = roc_auc_score(y_train, logreg.predict(X_train))  ## Calculo el area bajo la curva\n",
        "fpr, tpr, thresholds = roc_curve(y_train, logreg.predict_proba(X_train)[:,1]) ## Calculo la fpr(false positive rate),\n",
        "## la tpr(true positive rate) y thresholds (los umbrales)\n",
        "plt.figure()\n",
        "plt.plot(fpr, tpr, label='Logistic Regression (area = %0.2f)' % logit_roc_auc)\n",
        "plt.plot([0, 1], [0, 1],'r--')\n",
        "plt.xlim([0.0, 1.0])\n",
        "plt.ylim([0.0, 1.05])\n",
        "plt.xlabel('False Positive Rate')\n",
        "plt.ylabel('True Positive Rate')\n",
        "plt.title('Receiver operating characteristic')\n",
        "plt.legend(loc=\"lower right\")\n",
        "plt.savefig('Log_ROC')\n",
        "plt.show()"
      ],
      "metadata": {
        "colab": {
          "base_uri": "https://localhost:8080/",
          "height": 295
        },
        "id": "8opCUdZFhnrg",
        "outputId": "6bc2a4b8-f502-469d-c72b-ae10bc8c7700"
      },
      "execution_count": null,
      "outputs": [
        {
          "output_type": "display_data",
          "data": {
            "text/plain": [
              "<Figure size 432x288 with 1 Axes>"
            ],
            "image/png": "[encoded data removed]"
          },
          "metadata": {
            "needs_background": "light"
          }
        }
      ]
    },
    {
      "cell_type": "markdown",
      "source": [
        "### SELECCION DEL MEJOR THRESHOLD"
      ],
      "metadata": {
        "id": "-E8FDMOjjMHR"
      }
    },
    {
      "cell_type": "code",
      "source": [
        "paraumbral=pd.DataFrame(np.transpose(np.round(roc_curve(y_train, logreg.predict_proba(X_train)[:,1]),4)), \n",
        "                        columns=[\"FPR\", \"TPR\", \"Umbral\"])\n",
        "## Distancia euclidiana al punto ideal\n",
        "paraumbral[\"distancia\"]=np.sqrt(paraumbral[\"FPR\"]**2+(1-paraumbral[\"TPR\"])**2)\n",
        "paraumbral.sort_values(by=\"distancia\")"
      ],
      "metadata": {
        "colab": {
          "base_uri": "https://localhost:8080/",
          "height": 424
        },
        "id": "r6mBc-qmjJRY",
        "outputId": "8f383e97-f991-495c-c0cc-7bfaf2b34257"
      },
      "execution_count": null,
      "outputs": [
        {
          "output_type": "execute_result",
          "data": {
            "text/plain": [
              "         FPR     TPR  Umbral  distancia\n",
              "809   0.2211  0.7561  0.3103   0.329200\n",
              "807   0.2209  0.7554  0.3113   0.329585\n",
              "825   0.2292  0.7630  0.3018   0.329699\n",
              "808   0.2211  0.7554  0.3108   0.329719\n",
              "805   0.2203  0.7546  0.3117   0.329778\n",
              "...      ...     ...     ...        ...\n",
              "2     0.0000  0.0191  0.8210   0.980900\n",
              "3     0.0003  0.0191  0.8210   0.980900\n",
              "1     0.0000  0.0008  0.8683   0.999200\n",
              "0     0.0000  0.0000  1.8683   1.000000\n",
              "1354  1.0000  1.0000  0.0041   1.000000\n",
              "\n",
              "[1355 rows x 4 columns]"
            ],
            "text/html": [
              "\n",
              "  <div id=\"df-a3ebb833-d8f8-4d4e-af54-ea613a06135c\">\n",
              "    <div class=\"colab-df-container\">\n",
              "      <div>\n",
              "<style scoped>\n",
              "    .dataframe tbody tr th:only-of-type {\n",
              "        vertical-align: middle;\n",
              "    }\n",
              "\n",
              "    .dataframe tbody tr th {\n",
              "        vertical-align: top;\n",
              "    }\n",
              "\n",
              "    .dataframe thead th {\n",
              "        text-align: right;\n",
              "    }\n",
              "</style>\n",
              "<table border=\"1\" class=\"dataframe\">\n",
              "  <thead>\n",
              "    <tr style=\"text-align: right;\">\n",
              "      <th></th>\n",
              "      <th>FPR</th>\n",
              "      <th>TPR</th>\n",
              "      <th>Umbral</th>\n",
              "      <th>distancia</th>\n",
              "    </tr>\n",
              "  </thead>\n",
              "  <tbody>\n",
              "    <tr>\n",
              "      <th>809</th>\n",
              "      <td>0.2211</td>\n",
              "      <td>0.7561</td>\n",
              "      <td>0.3103</td>\n",
              "      <td>0.329200</td>\n",
              "    </tr>\n",
              "    <tr>\n",
              "      <th>807</th>\n",
              "      <td>0.2209</td>\n",
              "      <td>0.7554</td>\n",
              "      <td>0.3113</td>\n",
              "      <td>0.329585</td>\n",
              "    </tr>\n",
              "    <tr>\n",
              "      <th>825</th>\n",
              "      <td>0.2292</td>\n",
              "      <td>0.7630</td>\n",
              "      <td>0.3018</td>\n",
              "      <td>0.329699</td>\n",
              "    </tr>\n",
              "    <tr>\n",
              "      <th>808</th>\n",
              "      <td>0.2211</td>\n",
              "      <td>0.7554</td>\n",
              "      <td>0.3108</td>\n",
              "      <td>0.329719</td>\n",
              "    </tr>\n",
              "    <tr>\n",
              "      <th>805</th>\n",
              "      <td>0.2203</td>\n",
              "      <td>0.7546</td>\n",
              "      <td>0.3117</td>\n",
              "      <td>0.329778</td>\n",
              "    </tr>\n",
              "    <tr>\n",
              "      <th>...</th>\n",
              "      <td>...</td>\n",
              "      <td>...</td>\n",
              "      <td>...</td>\n",
              "      <td>...</td>\n",
              "    </tr>\n",
              "    <tr>\n",
              "      <th>2</th>\n",
              "      <td>0.0000</td>\n",
              "      <td>0.0191</td>\n",
              "      <td>0.8210</td>\n",
              "      <td>0.980900</td>\n",
              "    </tr>\n",
              "    <tr>\n",
              "      <th>3</th>\n",
              "      <td>0.0003</td>\n",
              "      <td>0.0191</td>\n",
              "      <td>0.8210</td>\n",
              "      <td>0.980900</td>\n",
              "    </tr>\n",
              "    <tr>\n",
              "      <th>1</th>\n",
              "      <td>0.0000</td>\n",
              "      <td>0.0008</td>\n",
              "      <td>0.8683</td>\n",
              "      <td>0.999200</td>\n",
              "    </tr>\n",
              "    <tr>\n",
              "      <th>0</th>\n",
              "      <td>0.0000</td>\n",
              "      <td>0.0000</td>\n",
              "      <td>1.8683</td>\n",
              "      <td>1.000000</td>\n",
              "    </tr>\n",
              "    <tr>\n",
              "      <th>1354</th>\n",
              "      <td>1.0000</td>\n",
              "      <td>1.0000</td>\n",
              "      <td>0.0041</td>\n",
              "      <td>1.000000</td>\n",
              "    </tr>\n",
              "  </tbody>\n",
              "</table>\n",
              "<p>1355 rows × 4 columns</p>\n",
              "</div>\n",
              "      <button class=\"colab-df-convert\" onclick=\"convertToInteractive('df-a3ebb833-d8f8-4d4e-af54-ea613a06135c')\"\n",
              "              title=\"Convert this dataframe to an interactive table.\"\n",
              "              style=\"display:none;\">\n",
              "        \n",
              "  <svg xmlns=\"http://www.w3.org/2000/svg\" height=\"24px\"viewBox=\"0 0 24 24\"\n",
              "       width=\"24px\">\n",
              "    <path d=\"M0 0h24v24H0V0z\" fill=\"none\"/>\n",
              "    <path d=\"M18.56 5.44l.94 2.06.94-2.06 2.06-.94-2.06-.94-.94-2.06-.94 2.06-2.06.94zm-11 1L8.5 8.5l.94-2.06 2.06-.94-2.06-.94L8.5 2.5l-.94 2.06-2.06.94zm10 10l.94 2.06.94-2.06 2.06-.94-2.06-.94-.94-2.06-.94 2.06-2.06.94z\"/><path d=\"M17.41 7.96l-1.37-1.37c-.4-.4-.92-.59-1.43-.59-.52 0-1.04.2-1.43.59L10.3 9.45l-7.72 7.72c-.78.78-.78 2.05 0 2.83L4 21.41c.39.39.9.59 1.41.59.51 0 1.02-.2 1.41-.59l7.78-7.78 2.81-2.81c.8-.78.8-2.07 0-2.86zM5.41 20L4 18.59l7.72-7.72 1.47 1.35L5.41 20z\"/>\n",
              "  </svg>\n",
              "      </button>\n",
              "      \n",
              "  <style>\n",
              "    .colab-df-container {\n",
              "      display:flex;\n",
              "      flex-wrap:wrap;\n",
              "      gap: 12px;\n",
              "    }\n",
              "\n",
              "    .colab-df-convert {\n",
              "      background-color: #E8F0FE;\n",
              "      border: none;\n",
              "      border-radius: 50%;\n",
              "      cursor: pointer;\n",
              "      display: none;\n",
              "      fill: #1967D2;\n",
              "      height: 32px;\n",
              "      padding: 0 0 0 0;\n",
              "      width: 32px;\n",
              "    }\n",
              "\n",
              "    .colab-df-convert:hover {\n",
              "      background-color: #E2EBFA;\n",
              "      box-shadow: 0px 1px 2px rgba(60, 64, 67, 0.3), 0px 1px 3px 1px rgba(60, 64, 67, 0.15);\n",
              "      fill: #174EA6;\n",
              "    }\n",
              "\n",
              "    [theme=dark] .colab-df-convert {\n",
              "      background-color: #3B4455;\n",
              "      fill: #D2E3FC;\n",
              "    }\n",
              "\n",
              "    [theme=dark] .colab-df-convert:hover {\n",
              "      background-color: #434B5C;\n",
              "      box-shadow: 0px 1px 3px 1px rgba(0, 0, 0, 0.15);\n",
              "      filter: drop-shadow(0px 1px 2px rgba(0, 0, 0, 0.3));\n",
              "      fill: #FFFFFF;\n",
              "    }\n",
              "  </style>\n",
              "\n",
              "      <script>\n",
              "        const buttonEl =\n",
              "          document.querySelector('#df-a3ebb833-d8f8-4d4e-af54-ea613a06135c button.colab-df-convert');\n",
              "        buttonEl.style.display =\n",
              "          google.colab.kernel.accessAllowed ? 'block' : 'none';\n",
              "\n",
              "        async function convertToInteractive(key) {\n",
              "          const element = document.querySelector('#df-a3ebb833-d8f8-4d4e-af54-ea613a06135c');\n",
              "          const dataTable =\n",
              "            await google.colab.kernel.invokeFunction('convertToInteractive',\n",
              "                                                     [key], {});\n",
              "          if (!dataTable) return;\n",
              "\n",
              "          const docLinkHtml = 'Like what you see? Visit the ' +\n",
              "            '<a target=\"_blank\" href=https://colab.research.google.com/notebooks/data_table.ipynb>data table notebook</a>'\n",
              "            + ' to learn more about interactive tables.';\n",
              "          element.innerHTML = '';\n",
              "          dataTable['output_type'] = 'display_data';\n",
              "          await google.colab.output.renderOutput(dataTable, element);\n",
              "          const docLink = document.createElement('div');\n",
              "          docLink.innerHTML = docLinkHtml;\n",
              "          element.appendChild(docLink);\n",
              "        }\n",
              "      </script>\n",
              "    </div>\n",
              "  </div>\n",
              "  "
            ]
          },
          "metadata": {},
          "execution_count": 19
        }
      ]
    },
    {
      "cell_type": "markdown",
      "source": [
        "### MODELO CON THRESHOLD OPTIMIZADO"
      ],
      "metadata": {
        "id": "ucFiw246J9lj"
      }
    },
    {
      "cell_type": "code",
      "source": [
        "# Modelo con Threshold optimizado\n",
        "thres=0.31\n",
        "y_pred_train=np.where(logreg.predict_proba(X_train)[:,1] > thres, 1, 0)\n",
        "y_pred_test=np.where(logreg.predict_proba(X_test)[:,1] > thres, 1, 0)"
      ],
      "metadata": {
        "id": "ZYolg9U2nctB"
      },
      "execution_count": null,
      "outputs": []
    },
    {
      "cell_type": "markdown",
      "source": [
        "### METRICAS MODELO OPTIMIZADO"
      ],
      "metadata": {
        "id": "Vtvd52HbKe6C"
      }
    },
    {
      "cell_type": "code",
      "source": [
        "cm1 = confusion_matrix(y_test, y_pred_test)"
      ],
      "metadata": {
        "id": "3nzcUWRtfNWN"
      },
      "execution_count": null,
      "outputs": []
    },
    {
      "cell_type": "code",
      "source": [
        "cm_display = metrics.ConfusionMatrixDisplay(confusion_matrix = cm1, display_labels = [False, True])\n",
        "cm_display.plot()\n",
        "plt.show()"
      ],
      "metadata": {
        "colab": {
          "base_uri": "https://localhost:8080/",
          "height": 279
        },
        "id": "ZU2QYjymgSMf",
        "outputId": "4a34f74f-f1df-4a84-fd70-d179d4c7ea08"
      },
      "execution_count": null,
      "outputs": [
        {
          "output_type": "display_data",
          "data": {
            "text/plain": [
              "<Figure size 432x288 with 2 Axes>"
            ],
            "image/png": "[encoded data removed]"
          },
          "metadata": {
            "needs_background": "light"
          }
        }
      ]
    },
    {
      "cell_type": "code",
      "source": [
        "print(\"En los datos de entrenamiento \\n\",classification_report(pd.get_dummies(y_train)[1], y_pred_train))\n",
        "print(\"En los datos de prueba \\n\",classification_report(pd.get_dummies(y_test)[1], y_pred_test))"
      ],
      "metadata": {
        "colab": {
          "base_uri": "https://localhost:8080/"
        },
        "id": "tAFe5WfpfNVG",
        "outputId": "d46625ce-fb79-4f7d-f157-4e7fae1ee6ee"
      },
      "execution_count": null,
      "outputs": [
        {
          "output_type": "stream",
          "name": "stdout",
          "text": [
            "En los datos de entrenamiento \n",
            "               precision    recall  f1-score   support\n",
            "\n",
            "           0       0.90      0.78      0.83      3622\n",
            "           1       0.55      0.76      0.64      1308\n",
            "\n",
            "    accuracy                           0.77      4930\n",
            "   macro avg       0.73      0.77      0.74      4930\n",
            "weighted avg       0.81      0.77      0.78      4930\n",
            "\n",
            "En los datos de prueba \n",
            "               precision    recall  f1-score   support\n",
            "\n",
            "           0       0.89      0.79      0.84      1552\n",
            "           1       0.55      0.73      0.63       561\n",
            "\n",
            "    accuracy                           0.77      2113\n",
            "   macro avg       0.72      0.76      0.73      2113\n",
            "weighted avg       0.80      0.77      0.78      2113\n",
            "\n"
          ]
        }
      ]
    },
    {
      "cell_type": "markdown",
      "source": [
        ">> Con el ajuste al umbral, encontramos que el modelo es afectado en su accuracy en un 3% pasamos del 80% al 77%. Sin embargo, podemos identificar que este modelo predice mejor a las personas que se fugan de la compañía , de las 561 personas fugadas que aparecen en la base de datos el modelo acertó en 408. \n",
        "\n",
        ">> La precisión para los churn se ve castigada en un 12% esto implica que aunque el modelo está clasificando correctamente a más personas como churn también le está dando una predicción incorrecta a más individuos, lo que podría ocasionar costos innecesarios para la compañía .  "
      ],
      "metadata": {
        "id": "PzCDLwQztVMa"
      }
    },
    {
      "cell_type": "markdown",
      "source": [
        "## MODELO 2 -> BALANCEO DE DATOS "
      ],
      "metadata": {
        "id": "RayeTZ92sS5a"
      }
    },
    {
      "cell_type": "markdown",
      "source": [
        "### Balanceo de datos"
      ],
      "metadata": {
        "id": "52lcAfHO1109"
      }
    },
    {
      "cell_type": "code",
      "source": [
        "#   Entrenando al modelo\n",
        "logreg=LogisticRegression(class_weight = {0 : 1, 1 : 2}) ### Llamo la regresión logistica\n",
        "logreg.fit(X_train, y_train) ## Entreno el modelo"
      ],
      "metadata": {
        "colab": {
          "base_uri": "https://localhost:8080/",
          "height": 75
        },
        "id": "t6Ex4wWi9H8H",
        "outputId": "33f3daa8-6bfa-451c-b899-05a71975c4ee"
      },
      "execution_count": null,
      "outputs": [
        {
          "output_type": "execute_result",
          "data": {
            "text/plain": [
              "LogisticRegression(class_weight={0: 1, 1: 2})"
            ],
            "text/html": [
              "<style>#sk-container-id-6 {color: black;background-color: white;}#sk-container-id-6 pre{padding: 0;}#sk-container-id-6 div.sk-toggleable {background-color: white;}#sk-container-id-6 label.sk-toggleable__label {cursor: pointer;display: block;width: 100%;margin-bottom: 0;padding: 0.3em;box-sizing: border-box;text-align: center;}#sk-container-id-6 label.sk-toggleable__label-arrow:before {content: \"▸\";float: left;margin-right: 0.25em;color: #696969;}#sk-container-id-6 label.sk-toggleable__label-arrow:hover:before {color: black;}#sk-container-id-6 div.sk-estimator:hover label.sk-toggleable__label-arrow:before {color: black;}#sk-container-id-6 div.sk-toggleable__content {max-height: 0;max-width: 0;overflow: hidden;text-align: left;background-color: #f0f8ff;}#sk-container-id-6 div.sk-toggleable__content pre {margin: 0.2em;color: black;border-radius: 0.25em;background-color: #f0f8ff;}#sk-container-id-6 input.sk-toggleable__control:checked~div.sk-toggleable__content {max-height: 200px;max-width: 100%;overflow: auto;}#sk-container-id-6 input.sk-toggleable__control:checked~label.sk-toggleable__label-arrow:before {content: \"▾\";}#sk-container-id-6 div.sk-estimator input.sk-toggleable__control:checked~label.sk-toggleable__label {background-color: #d4ebff;}#sk-container-id-6 div.sk-label input.sk-toggleable__control:checked~label.sk-toggleable__label {background-color: #d4ebff;}#sk-container-id-6 input.sk-hidden--visually {border: 0;clip: rect(1px 1px 1px 1px);clip: rect(1px, 1px, 1px, 1px);height: 1px;margin: -1px;overflow: hidden;padding: 0;position: absolute;width: 1px;}#sk-container-id-6 div.sk-estimator {font-family: monospace;background-color: #f0f8ff;border: 1px dotted black;border-radius: 0.25em;box-sizing: border-box;margin-bottom: 0.5em;}#sk-container-id-6 div.sk-estimator:hover {background-color: #d4ebff;}#sk-container-id-6 div.sk-parallel-item::after {content: \"\";width: 100%;border-bottom: 1px solid gray;flex-grow: 1;}#sk-container-id-6 div.sk-label:hover label.sk-toggleable__label {background-color: #d4ebff;}#sk-container-id-6 div.sk-serial::before {content: \"\";position: absolute;border-left: 1px solid gray;box-sizing: border-box;top: 0;bottom: 0;left: 50%;z-index: 0;}#sk-container-id-6 div.sk-serial {display: flex;flex-direction: column;align-items: center;background-color: white;padding-right: 0.2em;padding-left: 0.2em;position: relative;}#sk-container-id-6 div.sk-item {position: relative;z-index: 1;}#sk-container-id-6 div.sk-parallel {display: flex;align-items: stretch;justify-content: center;background-color: white;position: relative;}#sk-container-id-6 div.sk-item::before, #sk-container-id-6 div.sk-parallel-item::before {content: \"\";position: absolute;border-left: 1px solid gray;box-sizing: border-box;top: 0;bottom: 0;left: 50%;z-index: -1;}#sk-container-id-6 div.sk-parallel-item {display: flex;flex-direction: column;z-index: 1;position: relative;background-color: white;}#sk-container-id-6 div.sk-parallel-item:first-child::after {align-self: flex-end;width: 50%;}#sk-container-id-6 div.sk-parallel-item:last-child::after {align-self: flex-start;width: 50%;}#sk-container-id-6 div.sk-parallel-item:only-child::after {width: 0;}#sk-container-id-6 div.sk-dashed-wrapped {border: 1px dashed gray;margin: 0 0.4em 0.5em 0.4em;box-sizing: border-box;padding-bottom: 0.4em;background-color: white;}#sk-container-id-6 div.sk-label label {font-family: monospace;font-weight: bold;display: inline-block;line-height: 1.2em;}#sk-container-id-6 div.sk-label-container {text-align: center;}#sk-container-id-6 div.sk-container {/* jupyter's `normalize.less` sets `[hidden] { display: none; }` but bootstrap.min.css set `[hidden] { display: none !important; }` so we also need the `!important` here to be able to override the default hidden behavior on the sphinx rendered scikit-learn.org. See: https://github.com/scikit-learn/scikit-learn/issues/21755 */display: inline-block !important;position: relative;}#sk-container-id-6 div.sk-text-repr-fallback {display: none;}</style><div id=\"sk-container-id-6\" class=\"sk-top-container\"><div class=\"sk-text-repr-fallback\"><pre>LogisticRegression(class_weight={0: 1, 1: 2})</pre><b>In a Jupyter environment, please rerun this cell to show the HTML representation or trust the notebook. <br />On GitHub, the HTML representation is unable to render, please try loading this page with nbviewer.org.</b></div><div class=\"sk-container\" hidden><div class=\"sk-item\"><div class=\"sk-estimator sk-toggleable\"><input class=\"sk-toggleable__control sk-hidden--visually\" id=\"sk-estimator-id-6\" type=\"checkbox\" checked><label for=\"sk-estimator-id-6\" class=\"sk-toggleable__label sk-toggleable__label-arrow\">LogisticRegression</label><div class=\"sk-toggleable__content\"><pre>LogisticRegression(class_weight={0: 1, 1: 2})</pre></div></div></div></div></div>"
            ]
          },
          "metadata": {},
          "execution_count": 72
        }
      ]
    },
    {
      "cell_type": "code",
      "source": [
        "# prediccion del modelo \n",
        "y_pred_train=logreg.predict(X_train) ### Un umbral de 50%\n",
        "y_pred_test=logreg.predict(X_test) ##  Un umbral de 50%"
      ],
      "metadata": {
        "id": "H_x679AvsVEO"
      },
      "execution_count": null,
      "outputs": []
    },
    {
      "cell_type": "markdown",
      "source": [
        "### METRICAS DEL MODELO"
      ],
      "metadata": {
        "id": "iOxsbnsDKvbD"
      }
    },
    {
      "cell_type": "code",
      "source": [
        "cf2 = confusion_matrix(y_test, y_pred_test)"
      ],
      "metadata": {
        "id": "CewscYaA9tV-"
      },
      "execution_count": null,
      "outputs": []
    },
    {
      "cell_type": "code",
      "source": [
        "cm_display = metrics.ConfusionMatrixDisplay(confusion_matrix = cf2, display_labels = [False, True])\n",
        "cm_display.plot()\n",
        "plt.show()"
      ],
      "metadata": {
        "colab": {
          "base_uri": "https://localhost:8080/",
          "height": 279
        },
        "id": "GexrtLlU9yd2",
        "outputId": "983afa39-2896-4d2a-ac82-c87ed7cf42a6"
      },
      "execution_count": null,
      "outputs": [
        {
          "output_type": "display_data",
          "data": {
            "text/plain": [
              "<Figure size 432x288 with 2 Axes>"
            ],
            "image/png": "[encoded data removed]"
          },
          "metadata": {
            "needs_background": "light"
          }
        }
      ]
    },
    {
      "cell_type": "code",
      "source": [
        "#  viendo sus metricas\n",
        "print(\"En los datos de entrenamiento \\n\",classification_report(y_train, y_pred_train))\n",
        "print(\"En los datos de prueba \\n\",classification_report(y_test, y_pred_test))"
      ],
      "metadata": {
        "colab": {
          "base_uri": "https://localhost:8080/"
        },
        "id": "cfm301AT95gW",
        "outputId": "ceefb874-5dba-406e-98e5-0b7f6e6ad6ae"
      },
      "execution_count": null,
      "outputs": [
        {
          "output_type": "stream",
          "name": "stdout",
          "text": [
            "En los datos de entrenamiento \n",
            "               precision    recall  f1-score   support\n",
            "\n",
            "           0       0.89      0.80      0.84      3622\n",
            "           1       0.56      0.72      0.63      1308\n",
            "\n",
            "    accuracy                           0.78      4930\n",
            "   macro avg       0.73      0.76      0.74      4930\n",
            "weighted avg       0.80      0.78      0.78      4930\n",
            "\n",
            "En los datos de prueba \n",
            "               precision    recall  f1-score   support\n",
            "\n",
            "           0       0.88      0.81      0.85      1552\n",
            "           1       0.57      0.71      0.63       561\n",
            "\n",
            "    accuracy                           0.78      2113\n",
            "   macro avg       0.73      0.76      0.74      2113\n",
            "weighted avg       0.80      0.78      0.79      2113\n",
            "\n"
          ]
        }
      ]
    },
    {
      "cell_type": "markdown",
      "source": [
        ">> El modelo balanceado muestra una tasa de falsos positivos más baja que el modelo anterior, sin embargo la precisión de los clientes churn sigue teniendo una porcentaje bajo de 0,57% lo que significa que el modelo sigue clasificando como fugados una cantidad importante de clientes que no consideran fugarse de la compañía. \n",
        "\n",
        ">> El modelo sigue clasificando mejor a los no fugados que a los fugados, el f1- score para esta categoría es de 0,85 % mientras que para los fugados es de 0,63% "
      ],
      "metadata": {
        "id": "vydJI8ku5p5H"
      }
    },
    {
      "cell_type": "markdown",
      "source": [
        "### AREA BAJO LA CURVA ROC"
      ],
      "metadata": {
        "id": "wHTJrHxDKyLi"
      }
    },
    {
      "cell_type": "code",
      "source": [
        "logit_roc_auc = roc_auc_score(y_train, logreg.predict(X_train))  ## Calculo el area bajo la curva\n",
        "fpr, tpr, thresholds = roc_curve(y_train, logreg.predict_proba(X_train)[:,1]) ## Calculo la fpr(false positive rate),\n",
        "## la tpr(true positive rate) y thresholds (los umbrales)\n",
        "plt.figure()\n",
        "plt.plot(fpr, tpr, label='Logistic Regression (area = %0.2f)' % logit_roc_auc)\n",
        "plt.plot([0, 1], [0, 1],'r--')\n",
        "plt.xlim([0.0, 1.0])\n",
        "plt.ylim([0.0, 1.05])\n",
        "plt.xlabel('False Positive Rate')\n",
        "plt.ylabel('True Positive Rate')\n",
        "plt.title('Receiver operating characteristic')\n",
        "plt.legend(loc=\"lower right\")\n",
        "plt.savefig('Log_ROC')\n",
        "plt.show()"
      ],
      "metadata": {
        "colab": {
          "base_uri": "https://localhost:8080/",
          "height": 295
        },
        "id": "7x8uMKBx-NUm",
        "outputId": "70d7382c-427c-414d-cfa1-fac4cdc393ef"
      },
      "execution_count": null,
      "outputs": [
        {
          "output_type": "display_data",
          "data": {
            "text/plain": [
              "<Figure size 432x288 with 1 Axes>"
            ],
            "image/png": "[encoded data removed]"
          },
          "metadata": {
            "needs_background": "light"
          }
        }
      ]
    },
    {
      "cell_type": "markdown",
      "source": [
        "### SELECCION DEL MEJOR THRESHOLD"
      ],
      "metadata": {
        "id": "JIBmmZDuK2e8"
      }
    },
    {
      "cell_type": "code",
      "source": [
        "paraumbral=pd.DataFrame(np.transpose(np.round(roc_curve(y_train, logreg.predict_proba(X_train)[:,1]),4)), \n",
        "                        columns=[\"FPR\", \"TPR\", \"Umbral\"])\n",
        "## Distancia euclidiana al punto ideal\n",
        "paraumbral[\"distancia\"]=np.sqrt(paraumbral[\"FPR\"]**2+(1-paraumbral[\"TPR\"])**2)\n",
        "paraumbral.sort_values(by=\"distancia\")"
      ],
      "metadata": {
        "colab": {
          "base_uri": "https://localhost:8080/",
          "height": 424
        },
        "id": "9CT100_3-UKe",
        "outputId": "eefe7fdc-4e4a-4d77-f954-15ddef8b799b"
      },
      "execution_count": null,
      "outputs": [
        {
          "output_type": "execute_result",
          "data": {
            "text/plain": [
              "         FPR     TPR  Umbral  distancia\n",
              "863   0.2355  0.7706  0.4577   0.328762\n",
              "865   0.2363  0.7714  0.4562   0.328779\n",
              "861   0.2352  0.7699  0.4579   0.329037\n",
              "862   0.2355  0.7699  0.4578   0.329251\n",
              "864   0.2363  0.7706  0.4567   0.329336\n",
              "...      ...     ...     ...        ...\n",
              "2     0.0000  0.0168  0.9042   0.983200\n",
              "3     0.0003  0.0168  0.9042   0.983200\n",
              "1     0.0000  0.0008  0.9288   0.999200\n",
              "0     0.0000  0.0000  1.9288   1.000000\n",
              "1366  1.0000  1.0000  0.0085   1.000000\n",
              "\n",
              "[1367 rows x 4 columns]"
            ],
            "text/html": [
              "\n",
              "  <div id=\"df-20f5e8b3-7187-4830-a0d8-5862676571d2\">\n",
              "    <div class=\"colab-df-container\">\n",
              "      <div>\n",
              "<style scoped>\n",
              "    .dataframe tbody tr th:only-of-type {\n",
              "        vertical-align: middle;\n",
              "    }\n",
              "\n",
              "    .dataframe tbody tr th {\n",
              "        vertical-align: top;\n",
              "    }\n",
              "\n",
              "    .dataframe thead th {\n",
              "        text-align: right;\n",
              "    }\n",
              "</style>\n",
              "<table border=\"1\" class=\"dataframe\">\n",
              "  <thead>\n",
              "    <tr style=\"text-align: right;\">\n",
              "      <th></th>\n",
              "      <th>FPR</th>\n",
              "      <th>TPR</th>\n",
              "      <th>Umbral</th>\n",
              "      <th>distancia</th>\n",
              "    </tr>\n",
              "  </thead>\n",
              "  <tbody>\n",
              "    <tr>\n",
              "      <th>863</th>\n",
              "      <td>0.2355</td>\n",
              "      <td>0.7706</td>\n",
              "      <td>0.4577</td>\n",
              "      <td>0.328762</td>\n",
              "    </tr>\n",
              "    <tr>\n",
              "      <th>865</th>\n",
              "      <td>0.2363</td>\n",
              "      <td>0.7714</td>\n",
              "      <td>0.4562</td>\n",
              "      <td>0.328779</td>\n",
              "    </tr>\n",
              "    <tr>\n",
              "      <th>861</th>\n",
              "      <td>0.2352</td>\n",
              "      <td>0.7699</td>\n",
              "      <td>0.4579</td>\n",
              "      <td>0.329037</td>\n",
              "    </tr>\n",
              "    <tr>\n",
              "      <th>862</th>\n",
              "      <td>0.2355</td>\n",
              "      <td>0.7699</td>\n",
              "      <td>0.4578</td>\n",
              "      <td>0.329251</td>\n",
              "    </tr>\n",
              "    <tr>\n",
              "      <th>864</th>\n",
              "      <td>0.2363</td>\n",
              "      <td>0.7706</td>\n",
              "      <td>0.4567</td>\n",
              "      <td>0.329336</td>\n",
              "    </tr>\n",
              "    <tr>\n",
              "      <th>...</th>\n",
              "      <td>...</td>\n",
              "      <td>...</td>\n",
              "      <td>...</td>\n",
              "      <td>...</td>\n",
              "    </tr>\n",
              "    <tr>\n",
              "      <th>2</th>\n",
              "      <td>0.0000</td>\n",
              "      <td>0.0168</td>\n",
              "      <td>0.9042</td>\n",
              "      <td>0.983200</td>\n",
              "    </tr>\n",
              "    <tr>\n",
              "      <th>3</th>\n",
              "      <td>0.0003</td>\n",
              "      <td>0.0168</td>\n",
              "      <td>0.9042</td>\n",
              "      <td>0.983200</td>\n",
              "    </tr>\n",
              "    <tr>\n",
              "      <th>1</th>\n",
              "      <td>0.0000</td>\n",
              "      <td>0.0008</td>\n",
              "      <td>0.9288</td>\n",
              "      <td>0.999200</td>\n",
              "    </tr>\n",
              "    <tr>\n",
              "      <th>0</th>\n",
              "      <td>0.0000</td>\n",
              "      <td>0.0000</td>\n",
              "      <td>1.9288</td>\n",
              "      <td>1.000000</td>\n",
              "    </tr>\n",
              "    <tr>\n",
              "      <th>1366</th>\n",
              "      <td>1.0000</td>\n",
              "      <td>1.0000</td>\n",
              "      <td>0.0085</td>\n",
              "      <td>1.000000</td>\n",
              "    </tr>\n",
              "  </tbody>\n",
              "</table>\n",
              "<p>1367 rows × 4 columns</p>\n",
              "</div>\n",
              "      <button class=\"colab-df-convert\" onclick=\"convertToInteractive('df-20f5e8b3-7187-4830-a0d8-5862676571d2')\"\n",
              "              title=\"Convert this dataframe to an interactive table.\"\n",
              "              style=\"display:none;\">\n",
              "        \n",
              "  <svg xmlns=\"http://www.w3.org/2000/svg\" height=\"24px\"viewBox=\"0 0 24 24\"\n",
              "       width=\"24px\">\n",
              "    <path d=\"M0 0h24v24H0V0z\" fill=\"none\"/>\n",
              "    <path d=\"M18.56 5.44l.94 2.06.94-2.06 2.06-.94-2.06-.94-.94-2.06-.94 2.06-2.06.94zm-11 1L8.5 8.5l.94-2.06 2.06-.94-2.06-.94L8.5 2.5l-.94 2.06-2.06.94zm10 10l.94 2.06.94-2.06 2.06-.94-2.06-.94-.94-2.06-.94 2.06-2.06.94z\"/><path d=\"M17.41 7.96l-1.37-1.37c-.4-.4-.92-.59-1.43-.59-.52 0-1.04.2-1.43.59L10.3 9.45l-7.72 7.72c-.78.78-.78 2.05 0 2.83L4 21.41c.39.39.9.59 1.41.59.51 0 1.02-.2 1.41-.59l7.78-7.78 2.81-2.81c.8-.78.8-2.07 0-2.86zM5.41 20L4 18.59l7.72-7.72 1.47 1.35L5.41 20z\"/>\n",
              "  </svg>\n",
              "      </button>\n",
              "      \n",
              "  <style>\n",
              "    .colab-df-container {\n",
              "      display:flex;\n",
              "      flex-wrap:wrap;\n",
              "      gap: 12px;\n",
              "    }\n",
              "\n",
              "    .colab-df-convert {\n",
              "      background-color: #E8F0FE;\n",
              "      border: none;\n",
              "      border-radius: 50%;\n",
              "      cursor: pointer;\n",
              "      display: none;\n",
              "      fill: #1967D2;\n",
              "      height: 32px;\n",
              "      padding: 0 0 0 0;\n",
              "      width: 32px;\n",
              "    }\n",
              "\n",
              "    .colab-df-convert:hover {\n",
              "      background-color: #E2EBFA;\n",
              "      box-shadow: 0px 1px 2px rgba(60, 64, 67, 0.3), 0px 1px 3px 1px rgba(60, 64, 67, 0.15);\n",
              "      fill: #174EA6;\n",
              "    }\n",
              "\n",
              "    [theme=dark] .colab-df-convert {\n",
              "      background-color: #3B4455;\n",
              "      fill: #D2E3FC;\n",
              "    }\n",
              "\n",
              "    [theme=dark] .colab-df-convert:hover {\n",
              "      background-color: #434B5C;\n",
              "      box-shadow: 0px 1px 3px 1px rgba(0, 0, 0, 0.15);\n",
              "      filter: drop-shadow(0px 1px 2px rgba(0, 0, 0, 0.3));\n",
              "      fill: #FFFFFF;\n",
              "    }\n",
              "  </style>\n",
              "\n",
              "      <script>\n",
              "        const buttonEl =\n",
              "          document.querySelector('#df-20f5e8b3-7187-4830-a0d8-5862676571d2 button.colab-df-convert');\n",
              "        buttonEl.style.display =\n",
              "          google.colab.kernel.accessAllowed ? 'block' : 'none';\n",
              "\n",
              "        async function convertToInteractive(key) {\n",
              "          const element = document.querySelector('#df-20f5e8b3-7187-4830-a0d8-5862676571d2');\n",
              "          const dataTable =\n",
              "            await google.colab.kernel.invokeFunction('convertToInteractive',\n",
              "                                                     [key], {});\n",
              "          if (!dataTable) return;\n",
              "\n",
              "          const docLinkHtml = 'Like what you see? Visit the ' +\n",
              "            '<a target=\"_blank\" href=https://colab.research.google.com/notebooks/data_table.ipynb>data table notebook</a>'\n",
              "            + ' to learn more about interactive tables.';\n",
              "          element.innerHTML = '';\n",
              "          dataTable['output_type'] = 'display_data';\n",
              "          await google.colab.output.renderOutput(dataTable, element);\n",
              "          const docLink = document.createElement('div');\n",
              "          docLink.innerHTML = docLinkHtml;\n",
              "          element.appendChild(docLink);\n",
              "        }\n",
              "      </script>\n",
              "    </div>\n",
              "  </div>\n",
              "  "
            ]
          },
          "metadata": {},
          "execution_count": 78
        }
      ]
    },
    {
      "cell_type": "markdown",
      "source": [
        "### MODELO CON THRESHOLD OPTIMIZADO"
      ],
      "metadata": {
        "id": "Vv4Sq4HcK7LK"
      }
    },
    {
      "cell_type": "code",
      "source": [
        "# Modelo con Threshold optimizado\n",
        "thres=0.4577\n",
        "y_pred_train=np.where(logreg.predict_proba(X_train)[:,1] > thres, 1, 0)\n",
        "y_pred_test=np.where(logreg.predict_proba(X_test)[:,1] > thres, 1, 0)"
      ],
      "metadata": {
        "id": "DqZs0T2N-YnX"
      },
      "execution_count": null,
      "outputs": []
    },
    {
      "cell_type": "markdown",
      "source": [
        "### METRICAS MODELO OPTIMIZADO"
      ],
      "metadata": {
        "id": "lvYyNHGRK_mr"
      }
    },
    {
      "cell_type": "code",
      "source": [
        "cm3 = confusion_matrix(y_test, y_pred_test)"
      ],
      "metadata": {
        "id": "7Df43Jm1-hVn"
      },
      "execution_count": null,
      "outputs": []
    },
    {
      "cell_type": "code",
      "source": [
        "cm_display = metrics.ConfusionMatrixDisplay(confusion_matrix = cm3, display_labels = [False, True])\n",
        "cm_display.plot()\n",
        "plt.show()"
      ],
      "metadata": {
        "colab": {
          "base_uri": "https://localhost:8080/",
          "height": 283
        },
        "id": "FfcwRGy_-mNP",
        "outputId": "b102577e-3e01-41c4-ecf3-70f43e2f0f6e"
      },
      "execution_count": null,
      "outputs": [
        {
          "output_type": "display_data",
          "data": {
            "text/plain": [
              "<Figure size 432x288 with 2 Axes>"
            ],
            "image/png": "[encoded data removed]"
          },
          "metadata": {
            "needs_background": "light"
          }
        }
      ]
    },
    {
      "cell_type": "code",
      "source": [
        "print(\"En los datos de entrenamiento \\n\",classification_report(pd.get_dummies(y_train)[1], y_pred_train))\n",
        "print(\"En los datos de prueba \\n\",classification_report(pd.get_dummies(y_test)[1], y_pred_test))"
      ],
      "metadata": {
        "colab": {
          "base_uri": "https://localhost:8080/"
        },
        "id": "fmrAEwTX-swu",
        "outputId": "91d465eb-06e6-4808-d4b1-950f9d252d16"
      },
      "execution_count": null,
      "outputs": [
        {
          "output_type": "stream",
          "name": "stdout",
          "text": [
            "En los datos de entrenamiento \n",
            "               precision    recall  f1-score   support\n",
            "\n",
            "           0       0.90      0.76      0.83      3622\n",
            "           1       0.54      0.77      0.64      1308\n",
            "\n",
            "    accuracy                           0.77      4930\n",
            "   macro avg       0.72      0.77      0.73      4930\n",
            "weighted avg       0.81      0.77      0.78      4930\n",
            "\n",
            "En los datos de prueba \n",
            "               precision    recall  f1-score   support\n",
            "\n",
            "           0       0.89      0.77      0.83      1552\n",
            "           1       0.54      0.75      0.63       561\n",
            "\n",
            "    accuracy                           0.77      2113\n",
            "   macro avg       0.72      0.76      0.73      2113\n",
            "weighted avg       0.80      0.77      0.78      2113\n",
            "\n"
          ]
        }
      ]
    },
    {
      "cell_type": "markdown",
      "source": [
        ">> No encontramos una mejoría significativa ajustando el punto de corte, de hecho , aunque este es el modelo que clasifica mas clientes churn correctamente, también es el modelo de los probados hasta el momento que más falsos positivos genera\n",
        "\n",
        ">> Lo anteriormente dicho es corroborar  por las métricas de precisión y rcall, en donde nos encontramos con el rcall mas alto de los modelos implementados en la categoría churn pero al mismo tiempo la precisión mas baja para esta misma categoría. \n",
        "\n"
      ],
      "metadata": {
        "id": "57OAdBUg8Z1N"
      }
    },
    {
      "cell_type": "markdown",
      "source": [
        "## MODELO 3 -> UNDERSAMPLING"
      ],
      "metadata": {
        "id": "r0t43XCN_q7-"
      }
    },
    {
      "cell_type": "markdown",
      "source": [
        "### UNDERSAMPLING "
      ],
      "metadata": {
        "id": "sqFzDpVR_6JJ"
      }
    },
    {
      "cell_type": "code",
      "source": [
        "# Longitud de la clase minoritaria \n",
        "clase_minoria = len(DF_modelo[DF_modelo['ABANDONO_Yes'] == 1])\n",
        "print(clase_minoria)"
      ],
      "metadata": {
        "colab": {
          "base_uri": "https://localhost:8080/"
        },
        "id": "V8PSUpry_qoG",
        "outputId": "b131aea3-4944-42ed-cb7c-d09efeeb3b7c"
      },
      "execution_count": null,
      "outputs": [
        {
          "output_type": "stream",
          "name": "stdout",
          "text": [
            "1869\n"
          ]
        }
      ]
    },
    {
      "cell_type": "code",
      "source": [
        "# sacando los indices de la clase mayoritaria \n",
        "clase_mayoria_indices  =  DF_modelo[DF_modelo['ABANDONO_Yes']== 0].index\n",
        "print(clase_mayoria_indices)"
      ],
      "metadata": {
        "colab": {
          "base_uri": "https://localhost:8080/"
        },
        "id": "CHTH_bzACt2o",
        "outputId": "d89be312-f973-4761-c49a-2ae0e8d3f145"
      },
      "execution_count": null,
      "outputs": [
        {
          "output_type": "stream",
          "name": "stdout",
          "text": [
            "Index(['7590-VHVEG', '5575-GNVDE', '7795-CFOCW', '1452-KIOVK', '6713-OKOMC',\n",
            "       '6388-TABGU', '9763-GRSKD', '7469-LKBCI', '8091-TTVAX', '5129-JLPIS',\n",
            "       ...\n",
            "       '0871-OPBXW', '3605-JISKB', '9767-FFLEM', '8456-QDAVC', '7750-EYXWZ',\n",
            "       '2569-WGERO', '6840-RESVB', '2234-XADUH', '4801-JZAZL', '3186-AJIEK'],\n",
            "      dtype='object', name='ID_CLIENTE', length=5174)\n"
          ]
        }
      ]
    },
    {
      "cell_type": "code",
      "source": [
        "# Muestreo de la clase mayoritaria\n",
        "muestreo_clase_mayoritaria = np.random.choice(clase_mayoria_indices,\n",
        "                                              clase_minoria, \n",
        "                                              replace= False)\n",
        "print(len(muestreo_clase_mayoritaria))"
      ],
      "metadata": {
        "colab": {
          "base_uri": "https://localhost:8080/"
        },
        "id": "HmSA-lPLC89Y",
        "outputId": "0c073dfc-f91c-4461-eb78-aa23020e1c45"
      },
      "execution_count": null,
      "outputs": [
        {
          "output_type": "stream",
          "name": "stdout",
          "text": [
            "1869\n"
          ]
        }
      ]
    },
    {
      "cell_type": "code",
      "source": [
        "# Seleccion de indices de la clase minoritaria \n",
        "clase_minoritaria_indices = DF_modelo[DF_modelo['ABANDONO_Yes']== 1].index\n",
        "print(clase_minoritaria_indices)"
      ],
      "metadata": {
        "colab": {
          "base_uri": "https://localhost:8080/"
        },
        "id": "882XQ1btDgc_",
        "outputId": "7ea4647f-7c06-4e6f-faa6-39e310682d87"
      },
      "execution_count": null,
      "outputs": [
        {
          "output_type": "stream",
          "name": "stdout",
          "text": [
            "Index(['3668-QPYBK', '9237-HQITU', '9305-CDSKC', '7892-POOKP', '0280-XJGEX',\n",
            "       '4190-MFLUW', '8779-QRDMV', '1066-JKSGK', '6467-CHFZW', '8665-UTDHZ',\n",
            "       ...\n",
            "       '1980-KXVPM', '7703-ZEKEF', '0723-DRCLG', '5482-NUPNA', '1122-JWTJW',\n",
            "       '1699-HPSBG', '8775-CEBBJ', '6894-LFHLY', '0639-TSIQW', '8361-LTMKD'],\n",
            "      dtype='object', name='ID_CLIENTE', length=1869)\n"
          ]
        }
      ]
    },
    {
      "cell_type": "code",
      "source": [
        "# concatenar los indices \n",
        "union_indices = np.concatenate([clase_minoritaria_indices,muestreo_clase_mayoritaria])"
      ],
      "metadata": {
        "id": "YeNOF5SsEA5Y"
      },
      "execution_count": null,
      "outputs": []
    },
    {
      "cell_type": "code",
      "source": [
        "# base de datos copn undersampling \n",
        "DF_SAMPLING = DF_modelo.loc[union_indices]\n",
        "DF_SAMPLING.shape"
      ],
      "metadata": {
        "colab": {
          "base_uri": "https://localhost:8080/"
        },
        "id": "Uf0GL0QpETDf",
        "outputId": "2cbd8e7b-b116-47cb-aa45-dbc3d03d9039"
      },
      "execution_count": null,
      "outputs": [
        {
          "output_type": "execute_result",
          "data": {
            "text/plain": [
              "(3738, 30)"
            ]
          },
          "metadata": {},
          "execution_count": 92
        }
      ]
    },
    {
      "cell_type": "markdown",
      "source": [
        "### MODELO "
      ],
      "metadata": {
        "id": "NtOq-8q0MD8h"
      }
    },
    {
      "cell_type": "code",
      "source": [
        "# Partición de datos de entrenamiento y prueba \n",
        "Y=DF_SAMPLING[\"ABANDONO_Yes\"] ## Seleccionamos la variable objetivo (binaria)\n",
        "X=DF_SAMPLING.drop(\"ABANDONO_Yes\", axis=1) ## Seleccionamos las variables explicativas\n",
        "X_train, X_test, y_train, y_test = train_test_split(X, Y, random_state=123,test_size=0.3, stratify=Y) ## Dividimos en entrenamiento y prueba, y estratificando\n",
        "##por la variable Y \n",
        "X_train.shape"
      ],
      "metadata": {
        "colab": {
          "base_uri": "https://localhost:8080/"
        },
        "id": "iRJH-R73E4P9",
        "outputId": "44f042c4-4a83-41d2-add6-e5d58db1514c"
      },
      "execution_count": null,
      "outputs": [
        {
          "output_type": "execute_result",
          "data": {
            "text/plain": [
              "(2616, 29)"
            ]
          },
          "metadata": {},
          "execution_count": 93
        }
      ]
    },
    {
      "cell_type": "code",
      "source": [
        "#   Entrenando al modelo\n",
        "logreg=LogisticRegression() ### Llamo la regresión logistica\n",
        "logreg.fit(X_train, y_train) ## Entreno el modelo"
      ],
      "metadata": {
        "colab": {
          "base_uri": "https://localhost:8080/",
          "height": 75
        },
        "id": "9k7ChhAPFIy_",
        "outputId": "317443f3-aa22-4446-cab5-e58eb426c49c"
      },
      "execution_count": null,
      "outputs": [
        {
          "output_type": "execute_result",
          "data": {
            "text/plain": [
              "LogisticRegression()"
            ],
            "text/html": [
              "<style>#sk-container-id-7 {color: black;background-color: white;}#sk-container-id-7 pre{padding: 0;}#sk-container-id-7 div.sk-toggleable {background-color: white;}#sk-container-id-7 label.sk-toggleable__label {cursor: pointer;display: block;width: 100%;margin-bottom: 0;padding: 0.3em;box-sizing: border-box;text-align: center;}#sk-container-id-7 label.sk-toggleable__label-arrow:before {content: \"▸\";float: left;margin-right: 0.25em;color: #696969;}#sk-container-id-7 label.sk-toggleable__label-arrow:hover:before {color: black;}#sk-container-id-7 div.sk-estimator:hover label.sk-toggleable__label-arrow:before {color: black;}#sk-container-id-7 div.sk-toggleable__content {max-height: 0;max-width: 0;overflow: hidden;text-align: left;background-color: #f0f8ff;}#sk-container-id-7 div.sk-toggleable__content pre {margin: 0.2em;color: black;border-radius: 0.25em;background-color: #f0f8ff;}#sk-container-id-7 input.sk-toggleable__control:checked~div.sk-toggleable__content {max-height: 200px;max-width: 100%;overflow: auto;}#sk-container-id-7 input.sk-toggleable__control:checked~label.sk-toggleable__label-arrow:before {content: \"▾\";}#sk-container-id-7 div.sk-estimator input.sk-toggleable__control:checked~label.sk-toggleable__label {background-color: #d4ebff;}#sk-container-id-7 div.sk-label input.sk-toggleable__control:checked~label.sk-toggleable__label {background-color: #d4ebff;}#sk-container-id-7 input.sk-hidden--visually {border: 0;clip: rect(1px 1px 1px 1px);clip: rect(1px, 1px, 1px, 1px);height: 1px;margin: -1px;overflow: hidden;padding: 0;position: absolute;width: 1px;}#sk-container-id-7 div.sk-estimator {font-family: monospace;background-color: #f0f8ff;border: 1px dotted black;border-radius: 0.25em;box-sizing: border-box;margin-bottom: 0.5em;}#sk-container-id-7 div.sk-estimator:hover {background-color: #d4ebff;}#sk-container-id-7 div.sk-parallel-item::after {content: \"\";width: 100%;border-bottom: 1px solid gray;flex-grow: 1;}#sk-container-id-7 div.sk-label:hover label.sk-toggleable__label {background-color: #d4ebff;}#sk-container-id-7 div.sk-serial::before {content: \"\";position: absolute;border-left: 1px solid gray;box-sizing: border-box;top: 0;bottom: 0;left: 50%;z-index: 0;}#sk-container-id-7 div.sk-serial {display: flex;flex-direction: column;align-items: center;background-color: white;padding-right: 0.2em;padding-left: 0.2em;position: relative;}#sk-container-id-7 div.sk-item {position: relative;z-index: 1;}#sk-container-id-7 div.sk-parallel {display: flex;align-items: stretch;justify-content: center;background-color: white;position: relative;}#sk-container-id-7 div.sk-item::before, #sk-container-id-7 div.sk-parallel-item::before {content: \"\";position: absolute;border-left: 1px solid gray;box-sizing: border-box;top: 0;bottom: 0;left: 50%;z-index: -1;}#sk-container-id-7 div.sk-parallel-item {display: flex;flex-direction: column;z-index: 1;position: relative;background-color: white;}#sk-container-id-7 div.sk-parallel-item:first-child::after {align-self: flex-end;width: 50%;}#sk-container-id-7 div.sk-parallel-item:last-child::after {align-self: flex-start;width: 50%;}#sk-container-id-7 div.sk-parallel-item:only-child::after {width: 0;}#sk-container-id-7 div.sk-dashed-wrapped {border: 1px dashed gray;margin: 0 0.4em 0.5em 0.4em;box-sizing: border-box;padding-bottom: 0.4em;background-color: white;}#sk-container-id-7 div.sk-label label {font-family: monospace;font-weight: bold;display: inline-block;line-height: 1.2em;}#sk-container-id-7 div.sk-label-container {text-align: center;}#sk-container-id-7 div.sk-container {/* jupyter's `normalize.less` sets `[hidden] { display: none; }` but bootstrap.min.css set `[hidden] { display: none !important; }` so we also need the `!important` here to be able to override the default hidden behavior on the sphinx rendered scikit-learn.org. See: https://github.com/scikit-learn/scikit-learn/issues/21755 */display: inline-block !important;position: relative;}#sk-container-id-7 div.sk-text-repr-fallback {display: none;}</style><div id=\"sk-container-id-7\" class=\"sk-top-container\"><div class=\"sk-text-repr-fallback\"><pre>LogisticRegression()</pre><b>In a Jupyter environment, please rerun this cell to show the HTML representation or trust the notebook. <br />On GitHub, the HTML representation is unable to render, please try loading this page with nbviewer.org.</b></div><div class=\"sk-container\" hidden><div class=\"sk-item\"><div class=\"sk-estimator sk-toggleable\"><input class=\"sk-toggleable__control sk-hidden--visually\" id=\"sk-estimator-id-7\" type=\"checkbox\" checked><label for=\"sk-estimator-id-7\" class=\"sk-toggleable__label sk-toggleable__label-arrow\">LogisticRegression</label><div class=\"sk-toggleable__content\"><pre>LogisticRegression()</pre></div></div></div></div></div>"
            ]
          },
          "metadata": {},
          "execution_count": 94
        }
      ]
    },
    {
      "cell_type": "code",
      "source": [
        "# prediccion del modelo \n",
        "y_pred_train=logreg.predict(X_train) ### Un umbral de 50%\n",
        "y_pred_test=logreg.predict(X_test) ##  Un umbral de 50%"
      ],
      "metadata": {
        "id": "odUfPjdDFONQ"
      },
      "execution_count": null,
      "outputs": []
    },
    {
      "cell_type": "markdown",
      "source": [
        "### METRICAS DEL MODELO "
      ],
      "metadata": {
        "id": "IcCz9Z8xMJFL"
      }
    },
    {
      "cell_type": "code",
      "source": [
        "cm6 = confusion_matrix(y_test, y_pred_test)"
      ],
      "metadata": {
        "id": "A6LK1PYFFR7A"
      },
      "execution_count": null,
      "outputs": []
    },
    {
      "cell_type": "code",
      "source": [
        "cm_display = metrics.ConfusionMatrixDisplay(confusion_matrix = cm6, display_labels = [False, True])\n",
        "cm_display.plot()\n",
        "plt.show()"
      ],
      "metadata": {
        "colab": {
          "base_uri": "https://localhost:8080/",
          "height": 279
        },
        "id": "nOM8usEmFVnn",
        "outputId": "7291fa50-6a64-4da3-d829-ca5a94f41497"
      },
      "execution_count": null,
      "outputs": [
        {
          "output_type": "display_data",
          "data": {
            "text/plain": [
              "<Figure size 432x288 with 2 Axes>"
            ],
            "image/png": "[encoded data removed]"
          },
          "metadata": {
            "needs_background": "light"
          }
        }
      ]
    },
    {
      "cell_type": "code",
      "source": [
        "print(\"En los datos de entrenamiento \\n\",classification_report(y_train, y_pred_train))\n",
        "print(\"En los datos de prueba \\n\",classification_report(y_test, y_pred_test))"
      ],
      "metadata": {
        "colab": {
          "base_uri": "https://localhost:8080/"
        },
        "id": "mckVHXh8FclY",
        "outputId": "71d2dc2c-1af1-42b6-e305-bed38d2092da"
      },
      "execution_count": null,
      "outputs": [
        {
          "output_type": "stream",
          "name": "stdout",
          "text": [
            "En los datos de entrenamiento \n",
            "               precision    recall  f1-score   support\n",
            "\n",
            "           0       0.79      0.74      0.77      1308\n",
            "           1       0.76      0.81      0.78      1308\n",
            "\n",
            "    accuracy                           0.77      2616\n",
            "   macro avg       0.78      0.77      0.77      2616\n",
            "weighted avg       0.78      0.77      0.77      2616\n",
            "\n",
            "En los datos de prueba \n",
            "               precision    recall  f1-score   support\n",
            "\n",
            "           0       0.77      0.72      0.75       561\n",
            "           1       0.74      0.79      0.76       561\n",
            "\n",
            "    accuracy                           0.75      1122\n",
            "   macro avg       0.76      0.75      0.75      1122\n",
            "weighted avg       0.76      0.75      0.75      1122\n",
            "\n"
          ]
        }
      ]
    },
    {
      "cell_type": "markdown",
      "source": [
        ">> A partir del undersampling el modelo entiende de mejor manera el comportamiento de los cliente churn, de los 561 clientes fugados en los datos de prueba identifico correctamente 442, así mismo, encontramos la tasa de falsos negativos para los clientes churn mas baja entre los modelos probados hasta el momento. \n",
        "\n",
        ">> si bien es cierto en f1 score para los clientes no churn disminuye de forma significativa, pasando del 0,83% al 0,75% comparado con el modelo anterior, para el objetivo del proyecto es más valioso la detención de los clientes churn, por lo que consideramos este un modelo más adecuado. "
      ],
      "metadata": {
        "id": "smUTe0aW-Bbn"
      }
    },
    {
      "cell_type": "markdown",
      "source": [
        "### AREA BAJO LA CURVA ROC "
      ],
      "metadata": {
        "id": "-GywbN8QMi0y"
      }
    },
    {
      "cell_type": "code",
      "source": [
        "logit_roc_auc = roc_auc_score(y_train, logreg.predict(X_train))  ## Calculo el area bajo la curva\n",
        "fpr, tpr, thresholds = roc_curve(y_train, logreg.predict_proba(X_train)[:,1]) ## Calculo la fpr(false positive rate),\n",
        "## la tpr(true positive rate) y thresholds (los umbrales)\n",
        "plt.figure()\n",
        "plt.plot(fpr, tpr, label='Logistic Regression (area = %0.2f)' % logit_roc_auc)\n",
        "plt.plot([0, 1], [0, 1],'r--')\n",
        "plt.xlim([0.0, 1.0])\n",
        "plt.ylim([0.0, 1.05])\n",
        "plt.xlabel('False Positive Rate')\n",
        "plt.ylabel('True Positive Rate')\n",
        "plt.title('Receiver operating characteristic')\n",
        "plt.legend(loc=\"lower right\")\n",
        "plt.savefig('Log_ROC')\n",
        "plt.show()"
      ],
      "metadata": {
        "colab": {
          "base_uri": "https://localhost:8080/",
          "height": 295
        },
        "id": "vDqUFgxpFkr5",
        "outputId": "bc885645-d466-443a-8d98-59e54e995b1c"
      },
      "execution_count": null,
      "outputs": [
        {
          "output_type": "display_data",
          "data": {
            "text/plain": [
              "<Figure size 432x288 with 1 Axes>"
            ],
            "image/png": "[encoded data removed]"
          },
          "metadata": {
            "needs_background": "light"
          }
        }
      ]
    },
    {
      "cell_type": "markdown",
      "source": [
        "### SELECCION DEL MEJOR THRESHOLD "
      ],
      "metadata": {
        "id": "XBuJPm3aMmNI"
      }
    },
    {
      "cell_type": "code",
      "source": [
        "paraumbral=pd.DataFrame(np.transpose(np.round(roc_curve(y_train, logreg.predict_proba(X_train)[:,1]),4)), \n",
        "                        columns=[\"FPR\", \"TPR\", \"Umbral\"])\n",
        "## Distancia euclidiana al punto ideal\n",
        "paraumbral[\"distancia\"]=np.sqrt(paraumbral[\"FPR\"]**2+(1-paraumbral[\"TPR\"])**2)\n",
        "paraumbral.sort_values(by=\"distancia\")"
      ],
      "metadata": {
        "colab": {
          "base_uri": "https://localhost:8080/",
          "height": 424
        },
        "id": "E6bKm3GsFvf4",
        "outputId": "c137a732-b422-4766-a0c6-c48da6973c8f"
      },
      "execution_count": null,
      "outputs": [
        {
          "output_type": "execute_result",
          "data": {
            "text/plain": [
              "        FPR     TPR  Umbral  distancia\n",
              "446  0.2271  0.7852  0.5368   0.312592\n",
              "444  0.2255  0.7829  0.5398   0.313022\n",
              "442  0.2240  0.7813  0.5419   0.313059\n",
              "438  0.2217  0.7783  0.5441   0.313531\n",
              "436  0.2209  0.7775  0.5449   0.313533\n",
              "..      ...     ...     ...        ...\n",
              "2    0.0000  0.0122  0.9268   0.987800\n",
              "3    0.0008  0.0122  0.9255   0.987800\n",
              "1    0.0000  0.0008  0.9396   0.999200\n",
              "0    0.0000  0.0000  1.9396   1.000000\n",
              "817  1.0000  1.0000  0.0104   1.000000\n",
              "\n",
              "[818 rows x 4 columns]"
            ],
            "text/html": [
              "\n",
              "  <div id=\"df-707e7a5b-d498-40e2-91c6-734b1bf064ae\">\n",
              "    <div class=\"colab-df-container\">\n",
              "      <div>\n",
              "<style scoped>\n",
              "    .dataframe tbody tr th:only-of-type {\n",
              "        vertical-align: middle;\n",
              "    }\n",
              "\n",
              "    .dataframe tbody tr th {\n",
              "        vertical-align: top;\n",
              "    }\n",
              "\n",
              "    .dataframe thead th {\n",
              "        text-align: right;\n",
              "    }\n",
              "</style>\n",
              "<table border=\"1\" class=\"dataframe\">\n",
              "  <thead>\n",
              "    <tr style=\"text-align: right;\">\n",
              "      <th></th>\n",
              "      <th>FPR</th>\n",
              "      <th>TPR</th>\n",
              "      <th>Umbral</th>\n",
              "      <th>distancia</th>\n",
              "    </tr>\n",
              "  </thead>\n",
              "  <tbody>\n",
              "    <tr>\n",
              "      <th>446</th>\n",
              "      <td>0.2271</td>\n",
              "      <td>0.7852</td>\n",
              "      <td>0.5368</td>\n",
              "      <td>0.312592</td>\n",
              "    </tr>\n",
              "    <tr>\n",
              "      <th>444</th>\n",
              "      <td>0.2255</td>\n",
              "      <td>0.7829</td>\n",
              "      <td>0.5398</td>\n",
              "      <td>0.313022</td>\n",
              "    </tr>\n",
              "    <tr>\n",
              "      <th>442</th>\n",
              "      <td>0.2240</td>\n",
              "      <td>0.7813</td>\n",
              "      <td>0.5419</td>\n",
              "      <td>0.313059</td>\n",
              "    </tr>\n",
              "    <tr>\n",
              "      <th>438</th>\n",
              "      <td>0.2217</td>\n",
              "      <td>0.7783</td>\n",
              "      <td>0.5441</td>\n",
              "      <td>0.313531</td>\n",
              "    </tr>\n",
              "    <tr>\n",
              "      <th>436</th>\n",
              "      <td>0.2209</td>\n",
              "      <td>0.7775</td>\n",
              "      <td>0.5449</td>\n",
              "      <td>0.313533</td>\n",
              "    </tr>\n",
              "    <tr>\n",
              "      <th>...</th>\n",
              "      <td>...</td>\n",
              "      <td>...</td>\n",
              "      <td>...</td>\n",
              "      <td>...</td>\n",
              "    </tr>\n",
              "    <tr>\n",
              "      <th>2</th>\n",
              "      <td>0.0000</td>\n",
              "      <td>0.0122</td>\n",
              "      <td>0.9268</td>\n",
              "      <td>0.987800</td>\n",
              "    </tr>\n",
              "    <tr>\n",
              "      <th>3</th>\n",
              "      <td>0.0008</td>\n",
              "      <td>0.0122</td>\n",
              "      <td>0.9255</td>\n",
              "      <td>0.987800</td>\n",
              "    </tr>\n",
              "    <tr>\n",
              "      <th>1</th>\n",
              "      <td>0.0000</td>\n",
              "      <td>0.0008</td>\n",
              "      <td>0.9396</td>\n",
              "      <td>0.999200</td>\n",
              "    </tr>\n",
              "    <tr>\n",
              "      <th>0</th>\n",
              "      <td>0.0000</td>\n",
              "      <td>0.0000</td>\n",
              "      <td>1.9396</td>\n",
              "      <td>1.000000</td>\n",
              "    </tr>\n",
              "    <tr>\n",
              "      <th>817</th>\n",
              "      <td>1.0000</td>\n",
              "      <td>1.0000</td>\n",
              "      <td>0.0104</td>\n",
              "      <td>1.000000</td>\n",
              "    </tr>\n",
              "  </tbody>\n",
              "</table>\n",
              "<p>818 rows × 4 columns</p>\n",
              "</div>\n",
              "      <button class=\"colab-df-convert\" onclick=\"convertToInteractive('df-707e7a5b-d498-40e2-91c6-734b1bf064ae')\"\n",
              "              title=\"Convert this dataframe to an interactive table.\"\n",
              "              style=\"display:none;\">\n",
              "        \n",
              "  <svg xmlns=\"http://www.w3.org/2000/svg\" height=\"24px\"viewBox=\"0 0 24 24\"\n",
              "       width=\"24px\">\n",
              "    <path d=\"M0 0h24v24H0V0z\" fill=\"none\"/>\n",
              "    <path d=\"M18.56 5.44l.94 2.06.94-2.06 2.06-.94-2.06-.94-.94-2.06-.94 2.06-2.06.94zm-11 1L8.5 8.5l.94-2.06 2.06-.94-2.06-.94L8.5 2.5l-.94 2.06-2.06.94zm10 10l.94 2.06.94-2.06 2.06-.94-2.06-.94-.94-2.06-.94 2.06-2.06.94z\"/><path d=\"M17.41 7.96l-1.37-1.37c-.4-.4-.92-.59-1.43-.59-.52 0-1.04.2-1.43.59L10.3 9.45l-7.72 7.72c-.78.78-.78 2.05 0 2.83L4 21.41c.39.39.9.59 1.41.59.51 0 1.02-.2 1.41-.59l7.78-7.78 2.81-2.81c.8-.78.8-2.07 0-2.86zM5.41 20L4 18.59l7.72-7.72 1.47 1.35L5.41 20z\"/>\n",
              "  </svg>\n",
              "      </button>\n",
              "      \n",
              "  <style>\n",
              "    .colab-df-container {\n",
              "      display:flex;\n",
              "      flex-wrap:wrap;\n",
              "      gap: 12px;\n",
              "    }\n",
              "\n",
              "    .colab-df-convert {\n",
              "      background-color: #E8F0FE;\n",
              "      border: none;\n",
              "      border-radius: 50%;\n",
              "      cursor: pointer;\n",
              "      display: none;\n",
              "      fill: #1967D2;\n",
              "      height: 32px;\n",
              "      padding: 0 0 0 0;\n",
              "      width: 32px;\n",
              "    }\n",
              "\n",
              "    .colab-df-convert:hover {\n",
              "      background-color: #E2EBFA;\n",
              "      box-shadow: 0px 1px 2px rgba(60, 64, 67, 0.3), 0px 1px 3px 1px rgba(60, 64, 67, 0.15);\n",
              "      fill: #174EA6;\n",
              "    }\n",
              "\n",
              "    [theme=dark] .colab-df-convert {\n",
              "      background-color: #3B4455;\n",
              "      fill: #D2E3FC;\n",
              "    }\n",
              "\n",
              "    [theme=dark] .colab-df-convert:hover {\n",
              "      background-color: #434B5C;\n",
              "      box-shadow: 0px 1px 3px 1px rgba(0, 0, 0, 0.15);\n",
              "      filter: drop-shadow(0px 1px 2px rgba(0, 0, 0, 0.3));\n",
              "      fill: #FFFFFF;\n",
              "    }\n",
              "  </style>\n",
              "\n",
              "      <script>\n",
              "        const buttonEl =\n",
              "          document.querySelector('#df-707e7a5b-d498-40e2-91c6-734b1bf064ae button.colab-df-convert');\n",
              "        buttonEl.style.display =\n",
              "          google.colab.kernel.accessAllowed ? 'block' : 'none';\n",
              "\n",
              "        async function convertToInteractive(key) {\n",
              "          const element = document.querySelector('#df-707e7a5b-d498-40e2-91c6-734b1bf064ae');\n",
              "          const dataTable =\n",
              "            await google.colab.kernel.invokeFunction('convertToInteractive',\n",
              "                                                     [key], {});\n",
              "          if (!dataTable) return;\n",
              "\n",
              "          const docLinkHtml = 'Like what you see? Visit the ' +\n",
              "            '<a target=\"_blank\" href=https://colab.research.google.com/notebooks/data_table.ipynb>data table notebook</a>'\n",
              "            + ' to learn more about interactive tables.';\n",
              "          element.innerHTML = '';\n",
              "          dataTable['output_type'] = 'display_data';\n",
              "          await google.colab.output.renderOutput(dataTable, element);\n",
              "          const docLink = document.createElement('div');\n",
              "          docLink.innerHTML = docLinkHtml;\n",
              "          element.appendChild(docLink);\n",
              "        }\n",
              "      </script>\n",
              "    </div>\n",
              "  </div>\n",
              "  "
            ]
          },
          "metadata": {},
          "execution_count": 100
        }
      ]
    },
    {
      "cell_type": "markdown",
      "source": [
        "### METRICAS MODELO OPTIMIZADO "
      ],
      "metadata": {
        "id": "bONtSVHCMrbz"
      }
    },
    {
      "cell_type": "code",
      "source": [
        "# Modelo con Threshold optimizado\n",
        "thres=0.5368\n",
        "y_pred_train=np.where(logreg.predict_proba(X_train)[:,1] > thres, 1, 0)\n",
        "y_pred_test=np.where(logreg.predict_proba(X_test)[:,1] > thres, 1, 0)"
      ],
      "metadata": {
        "id": "8k664r9uF3jB"
      },
      "execution_count": null,
      "outputs": []
    },
    {
      "cell_type": "code",
      "source": [
        "cm7 = confusion_matrix(y_test, y_pred_test)"
      ],
      "metadata": {
        "id": "uuHc4JpMF6P4"
      },
      "execution_count": null,
      "outputs": []
    },
    {
      "cell_type": "code",
      "source": [
        "cm_display = metrics.ConfusionMatrixDisplay(confusion_matrix = cm7, display_labels = [False, True])\n",
        "cm_display.plot()\n",
        "plt.show()"
      ],
      "metadata": {
        "colab": {
          "base_uri": "https://localhost:8080/",
          "height": 279
        },
        "id": "fd7rnCVtF_Sg",
        "outputId": "5138b8be-a77d-4c7b-8347-dab11d97829d"
      },
      "execution_count": null,
      "outputs": [
        {
          "output_type": "display_data",
          "data": {
            "text/plain": [
              "<Figure size 432x288 with 2 Axes>"
            ],
            "image/png": "[encoded data removed]"
          },
          "metadata": {
            "needs_background": "light"
          }
        }
      ]
    },
    {
      "cell_type": "code",
      "source": [
        "print(\"En los datos de entrenamiento \\n\",classification_report(pd.get_dummies(y_train)[1], y_pred_train))\n",
        "print(\"En los datos de prueba \\n\",classification_report(pd.get_dummies(y_test)[1], y_pred_test))"
      ],
      "metadata": {
        "colab": {
          "base_uri": "https://localhost:8080/"
        },
        "id": "w6lRsuGzGGZA",
        "outputId": "a110fdcc-1abf-46db-ecee-78c42b81cc02"
      },
      "execution_count": null,
      "outputs": [
        {
          "output_type": "stream",
          "name": "stdout",
          "text": [
            "En los datos de entrenamiento \n",
            "               precision    recall  f1-score   support\n",
            "\n",
            "           0       0.78      0.77      0.78      1308\n",
            "           1       0.78      0.79      0.78      1308\n",
            "\n",
            "    accuracy                           0.78      2616\n",
            "   macro avg       0.78      0.78      0.78      2616\n",
            "weighted avg       0.78      0.78      0.78      2616\n",
            "\n",
            "En los datos de prueba \n",
            "               precision    recall  f1-score   support\n",
            "\n",
            "           0       0.75      0.75      0.75       561\n",
            "           1       0.75      0.75      0.75       561\n",
            "\n",
            "    accuracy                           0.75      1122\n",
            "   macro avg       0.75      0.75      0.75      1122\n",
            "weighted avg       0.75      0.75      0.75      1122\n",
            "\n"
          ]
        }
      ]
    },
    {
      "cell_type": "markdown",
      "source": [
        ">> Con el ajuste del punto de corte encontramos que mejoro el Rcall para los clientes no churn, sin embargo, la tasa de falsos negativos para los churn aumento, como observamos es un modelo mas equilibrado para las dos categorías. "
      ],
      "metadata": {
        "id": "YZcdiflpBvgZ"
      }
    },
    {
      "cell_type": "markdown",
      "source": [
        "## MODELO 4 -> BALANCEO Y UNDERSAMPLING"
      ],
      "metadata": {
        "id": "iIBwFYl7GaWZ"
      }
    },
    {
      "cell_type": "code",
      "source": [
        "# Partición de datos de entrenamiento y prueba \n",
        "Y=DF_SAMPLING[\"ABANDONO_Yes\"] ## Seleccionamos la variable objetivo (binaria)\n",
        "X=DF_SAMPLING.drop(\"ABANDONO_Yes\", axis=1) ## Seleccionamos las variables explicativas\n",
        "X_train, X_test, y_train, y_test = train_test_split(X, Y, random_state=123,test_size=0.3, stratify=Y) ## Dividimos en entrenamiento y prueba, y estratificando\n",
        "##por la variable Y \n",
        "X_train.shape"
      ],
      "metadata": {
        "colab": {
          "base_uri": "https://localhost:8080/"
        },
        "id": "3im-t1B3GcNp",
        "outputId": "e41d42f3-e787-4c25-ef3e-61d704b4ed48"
      },
      "execution_count": null,
      "outputs": [
        {
          "output_type": "execute_result",
          "data": {
            "text/plain": [
              "(2616, 29)"
            ]
          },
          "metadata": {},
          "execution_count": 105
        }
      ]
    },
    {
      "cell_type": "code",
      "source": [
        "#   Entrenando al modelo\n",
        "logreg=LogisticRegression(class_weight = {0 : 1, 1 : 2}) ### Llamo la regresión logistica\n",
        "logreg.fit(X_train, y_train) ## Entreno el modelo"
      ],
      "metadata": {
        "colab": {
          "base_uri": "https://localhost:8080/",
          "height": 75
        },
        "id": "9OIjUvh_Gh2g",
        "outputId": "7d38d6a6-3a28-4a07-ac25-f01992cdcdff"
      },
      "execution_count": null,
      "outputs": [
        {
          "output_type": "execute_result",
          "data": {
            "text/plain": [
              "LogisticRegression(class_weight={0: 1, 1: 2})"
            ],
            "text/html": [
              "<style>#sk-container-id-8 {color: black;background-color: white;}#sk-container-id-8 pre{padding: 0;}#sk-container-id-8 div.sk-toggleable {background-color: white;}#sk-container-id-8 label.sk-toggleable__label {cursor: pointer;display: block;width: 100%;margin-bottom: 0;padding: 0.3em;box-sizing: border-box;text-align: center;}#sk-container-id-8 label.sk-toggleable__label-arrow:before {content: \"▸\";float: left;margin-right: 0.25em;color: #696969;}#sk-container-id-8 label.sk-toggleable__label-arrow:hover:before {color: black;}#sk-container-id-8 div.sk-estimator:hover label.sk-toggleable__label-arrow:before {color: black;}#sk-container-id-8 div.sk-toggleable__content {max-height: 0;max-width: 0;overflow: hidden;text-align: left;background-color: #f0f8ff;}#sk-container-id-8 div.sk-toggleable__content pre {margin: 0.2em;color: black;border-radius: 0.25em;background-color: #f0f8ff;}#sk-container-id-8 input.sk-toggleable__control:checked~div.sk-toggleable__content {max-height: 200px;max-width: 100%;overflow: auto;}#sk-container-id-8 input.sk-toggleable__control:checked~label.sk-toggleable__label-arrow:before {content: \"▾\";}#sk-container-id-8 div.sk-estimator input.sk-toggleable__control:checked~label.sk-toggleable__label {background-color: #d4ebff;}#sk-container-id-8 div.sk-label input.sk-toggleable__control:checked~label.sk-toggleable__label {background-color: #d4ebff;}#sk-container-id-8 input.sk-hidden--visually {border: 0;clip: rect(1px 1px 1px 1px);clip: rect(1px, 1px, 1px, 1px);height: 1px;margin: -1px;overflow: hidden;padding: 0;position: absolute;width: 1px;}#sk-container-id-8 div.sk-estimator {font-family: monospace;background-color: #f0f8ff;border: 1px dotted black;border-radius: 0.25em;box-sizing: border-box;margin-bottom: 0.5em;}#sk-container-id-8 div.sk-estimator:hover {background-color: #d4ebff;}#sk-container-id-8 div.sk-parallel-item::after {content: \"\";width: 100%;border-bottom: 1px solid gray;flex-grow: 1;}#sk-container-id-8 div.sk-label:hover label.sk-toggleable__label {background-color: #d4ebff;}#sk-container-id-8 div.sk-serial::before {content: \"\";position: absolute;border-left: 1px solid gray;box-sizing: border-box;top: 0;bottom: 0;left: 50%;z-index: 0;}#sk-container-id-8 div.sk-serial {display: flex;flex-direction: column;align-items: center;background-color: white;padding-right: 0.2em;padding-left: 0.2em;position: relative;}#sk-container-id-8 div.sk-item {position: relative;z-index: 1;}#sk-container-id-8 div.sk-parallel {display: flex;align-items: stretch;justify-content: center;background-color: white;position: relative;}#sk-container-id-8 div.sk-item::before, #sk-container-id-8 div.sk-parallel-item::before {content: \"\";position: absolute;border-left: 1px solid gray;box-sizing: border-box;top: 0;bottom: 0;left: 50%;z-index: -1;}#sk-container-id-8 div.sk-parallel-item {display: flex;flex-direction: column;z-index: 1;position: relative;background-color: white;}#sk-container-id-8 div.sk-parallel-item:first-child::after {align-self: flex-end;width: 50%;}#sk-container-id-8 div.sk-parallel-item:last-child::after {align-self: flex-start;width: 50%;}#sk-container-id-8 div.sk-parallel-item:only-child::after {width: 0;}#sk-container-id-8 div.sk-dashed-wrapped {border: 1px dashed gray;margin: 0 0.4em 0.5em 0.4em;box-sizing: border-box;padding-bottom: 0.4em;background-color: white;}#sk-container-id-8 div.sk-label label {font-family: monospace;font-weight: bold;display: inline-block;line-height: 1.2em;}#sk-container-id-8 div.sk-label-container {text-align: center;}#sk-container-id-8 div.sk-container {/* jupyter's `normalize.less` sets `[hidden] { display: none; }` but bootstrap.min.css set `[hidden] { display: none !important; }` so we also need the `!important` here to be able to override the default hidden behavior on the sphinx rendered scikit-learn.org. See: https://github.com/scikit-learn/scikit-learn/issues/21755 */display: inline-block !important;position: relative;}#sk-container-id-8 div.sk-text-repr-fallback {display: none;}</style><div id=\"sk-container-id-8\" class=\"sk-top-container\"><div class=\"sk-text-repr-fallback\"><pre>LogisticRegression(class_weight={0: 1, 1: 2})</pre><b>In a Jupyter environment, please rerun this cell to show the HTML representation or trust the notebook. <br />On GitHub, the HTML representation is unable to render, please try loading this page with nbviewer.org.</b></div><div class=\"sk-container\" hidden><div class=\"sk-item\"><div class=\"sk-estimator sk-toggleable\"><input class=\"sk-toggleable__control sk-hidden--visually\" id=\"sk-estimator-id-8\" type=\"checkbox\" checked><label for=\"sk-estimator-id-8\" class=\"sk-toggleable__label sk-toggleable__label-arrow\">LogisticRegression</label><div class=\"sk-toggleable__content\"><pre>LogisticRegression(class_weight={0: 1, 1: 2})</pre></div></div></div></div></div>"
            ]
          },
          "metadata": {},
          "execution_count": 106
        }
      ]
    },
    {
      "cell_type": "code",
      "source": [
        "# prediccion del modelo \n",
        "y_pred_train=logreg.predict(X_train) ### Un umbral de 50%\n",
        "y_pred_test=logreg.predict(X_test) ##  Un umbral de 50%"
      ],
      "metadata": {
        "id": "lP2xneRqGn3Z"
      },
      "execution_count": null,
      "outputs": []
    },
    {
      "cell_type": "markdown",
      "source": [
        "### METRICAS MODELO "
      ],
      "metadata": {
        "id": "5dTvXzXSNGH7"
      }
    },
    {
      "cell_type": "code",
      "source": [
        "cf8 = confusion_matrix(y_test, y_pred_test)"
      ],
      "metadata": {
        "id": "_JcCAQ7AGsKI"
      },
      "execution_count": null,
      "outputs": []
    },
    {
      "cell_type": "code",
      "source": [
        "cm_display = metrics.ConfusionMatrixDisplay(confusion_matrix = cf8, display_labels = [False, True])\n",
        "cm_display.plot()\n",
        "plt.show()"
      ],
      "metadata": {
        "colab": {
          "base_uri": "https://localhost:8080/",
          "height": 279
        },
        "id": "d5C3WXwnGvVh",
        "outputId": "502d1256-1cfd-4c15-bd97-52bc9c2998ea"
      },
      "execution_count": null,
      "outputs": [
        {
          "output_type": "display_data",
          "data": {
            "text/plain": [
              "<Figure size 432x288 with 2 Axes>"
            ],
            "image/png": "[encoded data removed]"
          },
          "metadata": {
            "needs_background": "light"
          }
        }
      ]
    },
    {
      "cell_type": "code",
      "source": [
        "#  viendo sus metricas\n",
        "print(\"En los datos de entrenamiento \\n\",classification_report(y_train, y_pred_train))\n",
        "print(\"En los datos de prueba \\n\",classification_report(y_test, y_pred_test))"
      ],
      "metadata": {
        "colab": {
          "base_uri": "https://localhost:8080/"
        },
        "id": "AS_YTR4TG0no",
        "outputId": "9323fffd-e49b-4cae-e869-5d7f8719e3f1"
      },
      "execution_count": null,
      "outputs": [
        {
          "output_type": "stream",
          "name": "stdout",
          "text": [
            "En los datos de entrenamiento \n",
            "               precision    recall  f1-score   support\n",
            "\n",
            "           0       0.87      0.59      0.70      1308\n",
            "           1       0.69      0.91      0.79      1308\n",
            "\n",
            "    accuracy                           0.75      2616\n",
            "   macro avg       0.78      0.75      0.75      2616\n",
            "weighted avg       0.78      0.75      0.75      2616\n",
            "\n",
            "En los datos de prueba \n",
            "               precision    recall  f1-score   support\n",
            "\n",
            "           0       0.86      0.59      0.70       561\n",
            "           1       0.69      0.91      0.78       561\n",
            "\n",
            "    accuracy                           0.75      1122\n",
            "   macro avg       0.78      0.75      0.74      1122\n",
            "weighted avg       0.78      0.75      0.74      1122\n",
            "\n"
          ]
        }
      ]
    },
    {
      "cell_type": "markdown",
      "source": [
        ">> Este modelo es el que mejor clasifica clientes no churn como lo observamos de los 561 clientes churn en los datos de prueba clasifico correctamente 509, sin embargo el rcall para los clientes no churn empeoro notablemente, siendo el rcall para clientes no churn mas bajo de los modelos entrenados hasta el momento. \n",
        "\n",
        ">> Lo anterior puede tener un costo importante para la compañía en términos de medidas de retención a clientes que no piensan fugarse de la compañía. "
      ],
      "metadata": {
        "id": "V7FwaAtSGies"
      }
    },
    {
      "cell_type": "markdown",
      "source": [
        "### AREA BAJO LA CURVA ROC "
      ],
      "metadata": {
        "id": "qRid5axnNJST"
      }
    },
    {
      "cell_type": "code",
      "source": [
        "logit_roc_auc = roc_auc_score(y_train, logreg.predict(X_train))  ## Calculo el area bajo la curva\n",
        "fpr, tpr, thresholds = roc_curve(y_train, logreg.predict_proba(X_train)[:,1]) ## Calculo la fpr(false positive rate),\n",
        "## la tpr(true positive rate) y thresholds (los umbrales)\n",
        "plt.figure()\n",
        "plt.plot(fpr, tpr, label='Logistic Regression (area = %0.2f)' % logit_roc_auc)\n",
        "plt.plot([0, 1], [0, 1],'r--')\n",
        "plt.xlim([0.0, 1.0])\n",
        "plt.ylim([0.0, 1.05])\n",
        "plt.xlabel('False Positive Rate')\n",
        "plt.ylabel('True Positive Rate')\n",
        "plt.title('Receiver operating characteristic')\n",
        "plt.legend(loc=\"lower right\")\n",
        "plt.savefig('Log_ROC')\n",
        "plt.show()"
      ],
      "metadata": {
        "colab": {
          "base_uri": "https://localhost:8080/",
          "height": 295
        },
        "id": "LVC-9BN0G_KQ",
        "outputId": "82224b47-1755-4d36-a2c8-e0d9b7f103a1"
      },
      "execution_count": null,
      "outputs": [
        {
          "output_type": "display_data",
          "data": {
            "text/plain": [
              "<Figure size 432x288 with 1 Axes>"
            ],
            "image/png": "[encoded data removed]"
          },
          "metadata": {
            "needs_background": "light"
          }
        }
      ]
    },
    {
      "cell_type": "markdown",
      "source": [
        "### SELECCION DEL MEJOR THRESHOLD"
      ],
      "metadata": {
        "id": "GmDugt3bNNXS"
      }
    },
    {
      "cell_type": "code",
      "source": [
        "paraumbral=pd.DataFrame(np.transpose(np.round(roc_curve(y_train, logreg.predict_proba(X_train)[:,1]),4)), \n",
        "                        columns=[\"FPR\", \"TPR\", \"Umbral\"])\n",
        "## Distancia euclidiana al punto ideal\n",
        "paraumbral[\"distancia\"]=np.sqrt(paraumbral[\"FPR\"]**2+(1-paraumbral[\"TPR\"])**2)\n",
        "paraumbral.sort_values(by=\"distancia\")"
      ],
      "metadata": {
        "colab": {
          "base_uri": "https://localhost:8080/",
          "height": 424
        },
        "id": "e3bwiTAiHH7h",
        "outputId": "83d1a676-5d5b-4d28-ec7b-d3107f8cd906"
      },
      "execution_count": null,
      "outputs": [
        {
          "output_type": "execute_result",
          "data": {
            "text/plain": [
              "        FPR     TPR  Umbral  distancia\n",
              "430  0.2294  0.7852  0.6977   0.314266\n",
              "428  0.2286  0.7836  0.6989   0.314781\n",
              "432  0.2309  0.7859  0.6964   0.314887\n",
              "434  0.2317  0.7867  0.6960   0.314931\n",
              "429  0.2294  0.7836  0.6988   0.315362\n",
              "..      ...     ...     ...        ...\n",
              "2    0.0000  0.0115  0.9606   0.988500\n",
              "3    0.0008  0.0115  0.9603   0.988500\n",
              "1    0.0000  0.0008  0.9670   0.999200\n",
              "0    0.0000  0.0000  1.9670   1.000000\n",
              "802  1.0000  1.0000  0.0210   1.000000\n",
              "\n",
              "[803 rows x 4 columns]"
            ],
            "text/html": [
              "\n",
              "  <div id=\"df-9a5a2013-80f0-4389-91fd-515ced813a37\">\n",
              "    <div class=\"colab-df-container\">\n",
              "      <div>\n",
              "<style scoped>\n",
              "    .dataframe tbody tr th:only-of-type {\n",
              "        vertical-align: middle;\n",
              "    }\n",
              "\n",
              "    .dataframe tbody tr th {\n",
              "        vertical-align: top;\n",
              "    }\n",
              "\n",
              "    .dataframe thead th {\n",
              "        text-align: right;\n",
              "    }\n",
              "</style>\n",
              "<table border=\"1\" class=\"dataframe\">\n",
              "  <thead>\n",
              "    <tr style=\"text-align: right;\">\n",
              "      <th></th>\n",
              "      <th>FPR</th>\n",
              "      <th>TPR</th>\n",
              "      <th>Umbral</th>\n",
              "      <th>distancia</th>\n",
              "    </tr>\n",
              "  </thead>\n",
              "  <tbody>\n",
              "    <tr>\n",
              "      <th>430</th>\n",
              "      <td>0.2294</td>\n",
              "      <td>0.7852</td>\n",
              "      <td>0.6977</td>\n",
              "      <td>0.314266</td>\n",
              "    </tr>\n",
              "    <tr>\n",
              "      <th>428</th>\n",
              "      <td>0.2286</td>\n",
              "      <td>0.7836</td>\n",
              "      <td>0.6989</td>\n",
              "      <td>0.314781</td>\n",
              "    </tr>\n",
              "    <tr>\n",
              "      <th>432</th>\n",
              "      <td>0.2309</td>\n",
              "      <td>0.7859</td>\n",
              "      <td>0.6964</td>\n",
              "      <td>0.314887</td>\n",
              "    </tr>\n",
              "    <tr>\n",
              "      <th>434</th>\n",
              "      <td>0.2317</td>\n",
              "      <td>0.7867</td>\n",
              "      <td>0.6960</td>\n",
              "      <td>0.314931</td>\n",
              "    </tr>\n",
              "    <tr>\n",
              "      <th>429</th>\n",
              "      <td>0.2294</td>\n",
              "      <td>0.7836</td>\n",
              "      <td>0.6988</td>\n",
              "      <td>0.315362</td>\n",
              "    </tr>\n",
              "    <tr>\n",
              "      <th>...</th>\n",
              "      <td>...</td>\n",
              "      <td>...</td>\n",
              "      <td>...</td>\n",
              "      <td>...</td>\n",
              "    </tr>\n",
              "    <tr>\n",
              "      <th>2</th>\n",
              "      <td>0.0000</td>\n",
              "      <td>0.0115</td>\n",
              "      <td>0.9606</td>\n",
              "      <td>0.988500</td>\n",
              "    </tr>\n",
              "    <tr>\n",
              "      <th>3</th>\n",
              "      <td>0.0008</td>\n",
              "      <td>0.0115</td>\n",
              "      <td>0.9603</td>\n",
              "      <td>0.988500</td>\n",
              "    </tr>\n",
              "    <tr>\n",
              "      <th>1</th>\n",
              "      <td>0.0000</td>\n",
              "      <td>0.0008</td>\n",
              "      <td>0.9670</td>\n",
              "      <td>0.999200</td>\n",
              "    </tr>\n",
              "    <tr>\n",
              "      <th>0</th>\n",
              "      <td>0.0000</td>\n",
              "      <td>0.0000</td>\n",
              "      <td>1.9670</td>\n",
              "      <td>1.000000</td>\n",
              "    </tr>\n",
              "    <tr>\n",
              "      <th>802</th>\n",
              "      <td>1.0000</td>\n",
              "      <td>1.0000</td>\n",
              "      <td>0.0210</td>\n",
              "      <td>1.000000</td>\n",
              "    </tr>\n",
              "  </tbody>\n",
              "</table>\n",
              "<p>803 rows × 4 columns</p>\n",
              "</div>\n",
              "      <button class=\"colab-df-convert\" onclick=\"convertToInteractive('df-9a5a2013-80f0-4389-91fd-515ced813a37')\"\n",
              "              title=\"Convert this dataframe to an interactive table.\"\n",
              "              style=\"display:none;\">\n",
              "        \n",
              "  <svg xmlns=\"http://www.w3.org/2000/svg\" height=\"24px\"viewBox=\"0 0 24 24\"\n",
              "       width=\"24px\">\n",
              "    <path d=\"M0 0h24v24H0V0z\" fill=\"none\"/>\n",
              "    <path d=\"M18.56 5.44l.94 2.06.94-2.06 2.06-.94-2.06-.94-.94-2.06-.94 2.06-2.06.94zm-11 1L8.5 8.5l.94-2.06 2.06-.94-2.06-.94L8.5 2.5l-.94 2.06-2.06.94zm10 10l.94 2.06.94-2.06 2.06-.94-2.06-.94-.94-2.06-.94 2.06-2.06.94z\"/><path d=\"M17.41 7.96l-1.37-1.37c-.4-.4-.92-.59-1.43-.59-.52 0-1.04.2-1.43.59L10.3 9.45l-7.72 7.72c-.78.78-.78 2.05 0 2.83L4 21.41c.39.39.9.59 1.41.59.51 0 1.02-.2 1.41-.59l7.78-7.78 2.81-2.81c.8-.78.8-2.07 0-2.86zM5.41 20L4 18.59l7.72-7.72 1.47 1.35L5.41 20z\"/>\n",
              "  </svg>\n",
              "      </button>\n",
              "      \n",
              "  <style>\n",
              "    .colab-df-container {\n",
              "      display:flex;\n",
              "      flex-wrap:wrap;\n",
              "      gap: 12px;\n",
              "    }\n",
              "\n",
              "    .colab-df-convert {\n",
              "      background-color: #E8F0FE;\n",
              "      border: none;\n",
              "      border-radius: 50%;\n",
              "      cursor: pointer;\n",
              "      display: none;\n",
              "      fill: #1967D2;\n",
              "      height: 32px;\n",
              "      padding: 0 0 0 0;\n",
              "      width: 32px;\n",
              "    }\n",
              "\n",
              "    .colab-df-convert:hover {\n",
              "      background-color: #E2EBFA;\n",
              "      box-shadow: 0px 1px 2px rgba(60, 64, 67, 0.3), 0px 1px 3px 1px rgba(60, 64, 67, 0.15);\n",
              "      fill: #174EA6;\n",
              "    }\n",
              "\n",
              "    [theme=dark] .colab-df-convert {\n",
              "      background-color: #3B4455;\n",
              "      fill: #D2E3FC;\n",
              "    }\n",
              "\n",
              "    [theme=dark] .colab-df-convert:hover {\n",
              "      background-color: #434B5C;\n",
              "      box-shadow: 0px 1px 3px 1px rgba(0, 0, 0, 0.15);\n",
              "      filter: drop-shadow(0px 1px 2px rgba(0, 0, 0, 0.3));\n",
              "      fill: #FFFFFF;\n",
              "    }\n",
              "  </style>\n",
              "\n",
              "      <script>\n",
              "        const buttonEl =\n",
              "          document.querySelector('#df-9a5a2013-80f0-4389-91fd-515ced813a37 button.colab-df-convert');\n",
              "        buttonEl.style.display =\n",
              "          google.colab.kernel.accessAllowed ? 'block' : 'none';\n",
              "\n",
              "        async function convertToInteractive(key) {\n",
              "          const element = document.querySelector('#df-9a5a2013-80f0-4389-91fd-515ced813a37');\n",
              "          const dataTable =\n",
              "            await google.colab.kernel.invokeFunction('convertToInteractive',\n",
              "                                                     [key], {});\n",
              "          if (!dataTable) return;\n",
              "\n",
              "          const docLinkHtml = 'Like what you see? Visit the ' +\n",
              "            '<a target=\"_blank\" href=https://colab.research.google.com/notebooks/data_table.ipynb>data table notebook</a>'\n",
              "            + ' to learn more about interactive tables.';\n",
              "          element.innerHTML = '';\n",
              "          dataTable['output_type'] = 'display_data';\n",
              "          await google.colab.output.renderOutput(dataTable, element);\n",
              "          const docLink = document.createElement('div');\n",
              "          docLink.innerHTML = docLinkHtml;\n",
              "          element.appendChild(docLink);\n",
              "        }\n",
              "      </script>\n",
              "    </div>\n",
              "  </div>\n",
              "  "
            ]
          },
          "metadata": {},
          "execution_count": 112
        }
      ]
    },
    {
      "cell_type": "code",
      "source": [
        "# Modelo con Threshold optimizado\n",
        "thres=0.6977\n",
        "y_pred_train=np.where(logreg.predict_proba(X_train)[:,1] > thres, 1, 0)\n",
        "y_pred_test=np.where(logreg.predict_proba(X_test)[:,1] > thres, 1, 0)"
      ],
      "metadata": {
        "id": "Frx9zDLwHPLR"
      },
      "execution_count": null,
      "outputs": []
    },
    {
      "cell_type": "markdown",
      "source": [
        "### METRICAS MODELO OPTIMIZADO "
      ],
      "metadata": {
        "id": "Ru_2FswMNRyj"
      }
    },
    {
      "cell_type": "code",
      "source": [
        "cm10 = confusion_matrix(y_test, y_pred_test)"
      ],
      "metadata": {
        "id": "eAkdnxZ3HV1w"
      },
      "execution_count": null,
      "outputs": []
    },
    {
      "cell_type": "code",
      "source": [
        "cm_display = metrics.ConfusionMatrixDisplay(confusion_matrix = cm10, display_labels = [False, True])\n",
        "cm_display.plot()\n",
        "plt.show()"
      ],
      "metadata": {
        "colab": {
          "base_uri": "https://localhost:8080/",
          "height": 279
        },
        "id": "c7_sDiIsHagQ",
        "outputId": "1583d043-c565-413c-c6c8-77bd65144028"
      },
      "execution_count": null,
      "outputs": [
        {
          "output_type": "display_data",
          "data": {
            "text/plain": [
              "<Figure size 432x288 with 2 Axes>"
            ],
            "image/png": "[encoded data removed]"
          },
          "metadata": {
            "needs_background": "light"
          }
        }
      ]
    },
    {
      "cell_type": "code",
      "source": [
        "print(\"En los datos de entrenamiento \\n\",classification_report(pd.get_dummies(y_train)[1], y_pred_train))\n",
        "print(\"En los datos de prueba \\n\",classification_report(pd.get_dummies(y_test)[1], y_pred_test))"
      ],
      "metadata": {
        "colab": {
          "base_uri": "https://localhost:8080/"
        },
        "id": "AQGFlxl5Hhai",
        "outputId": "67ccc33c-c121-48c0-9c0a-be62f540859f"
      },
      "execution_count": null,
      "outputs": [
        {
          "output_type": "stream",
          "name": "stdout",
          "text": [
            "En los datos de entrenamiento \n",
            "               precision    recall  f1-score   support\n",
            "\n",
            "           0       0.78      0.77      0.78      1308\n",
            "           1       0.77      0.78      0.78      1308\n",
            "\n",
            "    accuracy                           0.78      2616\n",
            "   macro avg       0.78      0.78      0.78      2616\n",
            "weighted avg       0.78      0.78      0.78      2616\n",
            "\n",
            "En los datos de prueba \n",
            "               precision    recall  f1-score   support\n",
            "\n",
            "           0       0.75      0.75      0.75       561\n",
            "           1       0.75      0.75      0.75       561\n",
            "\n",
            "    accuracy                           0.75      1122\n",
            "   macro avg       0.75      0.75      0.75      1122\n",
            "weighted avg       0.75      0.75      0.75      1122\n",
            "\n"
          ]
        }
      ]
    },
    {
      "cell_type": "markdown",
      "source": [
        ">> El ajuste del punto de corte parece eliminar el efecto del balanceo de los datos, este modelo da resultados sumamente parecidos al modelo de undersampling donde las métricas de precisión rcall y r1 score para ambas categorías dan una tasa de 75%.  "
      ],
      "metadata": {
        "id": "4sEG2GGmHDa6"
      }
    },
    {
      "cell_type": "code",
      "source": [
        "pd.DataFrame(np.transpose(logreg.coef_), index=X_train.columns, columns=[\"betas\"]).sort_values(by=\"betas\", ascending= False)"
      ],
      "metadata": {
        "colab": {
          "base_uri": "https://localhost:8080/",
          "height": 959
        },
        "id": "UD7aeZFG42hn",
        "outputId": "6afeb43b-acfd-4586-a447-d1f757adac28"
      },
      "execution_count": null,
      "outputs": [
        {
          "output_type": "execute_result",
          "data": {
            "text/plain": [
              "                                               betas\n",
              "TIPO_INTERNET_Fiber optic                   0.920864\n",
              "SERVICIOS_STREAMING_Yes                     0.363170\n",
              "METODO_PAGO_Electronic check                0.329337\n",
              "ADULTO_MAYOR_1                              0.287977\n",
              "FACTURACION_ELECTRONICA_Yes                 0.282172\n",
              "VARIAS_LINEAS_Yes                           0.232398\n",
              "VARIAS_LINEAS_No phone service              0.187689\n",
              "SERVICIO_TV_Yes                             0.179153\n",
              "COBRO_MENSUAL                              -0.008096\n",
              "METODO_PAGO_Credit card (automatic)        -0.009659\n",
              "METODO_PAGO_Mailed check                   -0.012393\n",
              "GENERO_Male                                -0.020313\n",
              "PROTECCION_DISPOSITIVO_Yes                 -0.032406\n",
              "CASADO_Yes                                 -0.049120\n",
              "PROTECCION_DISPOSITIVO_No internet service -0.119841\n",
              "SERVICIOS_STREAMING_No internet service    -0.119841\n",
              "TIPO_INTERNET_No                           -0.119841\n",
              "SEGURIDAD_EN_LINEA_No internet service     -0.119841\n",
              "SERVICIO_TV_No internet service            -0.119841\n",
              "SOPORTE_TECNICO_No internet service        -0.119841\n",
              "COPIA_DE_SEGURIDAD_No internet service     -0.119841\n",
              "COPIA_DE_SEGURIDAD_Yes                     -0.140950\n",
              "PERSONAS_A_CARGO_Yes                       -0.171633\n",
              "TIENE_TELEFONIA_Yes                        -0.194229\n",
              "SOPORTE_TECNICO_Yes                        -0.362865\n",
              "SEGURIDAD_EN_LINEA_Yes                     -0.398804\n",
              "PERIODO_CONTRATO_One year                  -0.644131\n",
              "PERIODO_CONTRATO_Two year                  -1.341766\n",
              "MESES_COMO_CLIENTE                         -1.506986"
            ],
            "text/html": [
              "\n",
              "  <div id=\"df-0de9721d-0a7a-421f-b229-9eb635d458ef\">\n",
              "    <div class=\"colab-df-container\">\n",
              "      <div>\n",
              "<style scoped>\n",
              "    .dataframe tbody tr th:only-of-type {\n",
              "        vertical-align: middle;\n",
              "    }\n",
              "\n",
              "    .dataframe tbody tr th {\n",
              "        vertical-align: top;\n",
              "    }\n",
              "\n",
              "    .dataframe thead th {\n",
              "        text-align: right;\n",
              "    }\n",
              "</style>\n",
              "<table border=\"1\" class=\"dataframe\">\n",
              "  <thead>\n",
              "    <tr style=\"text-align: right;\">\n",
              "      <th></th>\n",
              "      <th>betas</th>\n",
              "    </tr>\n",
              "  </thead>\n",
              "  <tbody>\n",
              "    <tr>\n",
              "      <th>TIPO_INTERNET_Fiber optic</th>\n",
              "      <td>0.920864</td>\n",
              "    </tr>\n",
              "    <tr>\n",
              "      <th>SERVICIOS_STREAMING_Yes</th>\n",
              "      <td>0.363170</td>\n",
              "    </tr>\n",
              "    <tr>\n",
              "      <th>METODO_PAGO_Electronic check</th>\n",
              "      <td>0.329337</td>\n",
              "    </tr>\n",
              "    <tr>\n",
              "      <th>ADULTO_MAYOR_1</th>\n",
              "      <td>0.287977</td>\n",
              "    </tr>\n",
              "    <tr>\n",
              "      <th>FACTURACION_ELECTRONICA_Yes</th>\n",
              "      <td>0.282172</td>\n",
              "    </tr>\n",
              "    <tr>\n",
              "      <th>VARIAS_LINEAS_Yes</th>\n",
              "      <td>0.232398</td>\n",
              "    </tr>\n",
              "    <tr>\n",
              "      <th>VARIAS_LINEAS_No phone service</th>\n",
              "      <td>0.187689</td>\n",
              "    </tr>\n",
              "    <tr>\n",
              "      <th>SERVICIO_TV_Yes</th>\n",
              "      <td>0.179153</td>\n",
              "    </tr>\n",
              "    <tr>\n",
              "      <th>COBRO_MENSUAL</th>\n",
              "      <td>-0.008096</td>\n",
              "    </tr>\n",
              "    <tr>\n",
              "      <th>METODO_PAGO_Credit card (automatic)</th>\n",
              "      <td>-0.009659</td>\n",
              "    </tr>\n",
              "    <tr>\n",
              "      <th>METODO_PAGO_Mailed check</th>\n",
              "      <td>-0.012393</td>\n",
              "    </tr>\n",
              "    <tr>\n",
              "      <th>GENERO_Male</th>\n",
              "      <td>-0.020313</td>\n",
              "    </tr>\n",
              "    <tr>\n",
              "      <th>PROTECCION_DISPOSITIVO_Yes</th>\n",
              "      <td>-0.032406</td>\n",
              "    </tr>\n",
              "    <tr>\n",
              "      <th>CASADO_Yes</th>\n",
              "      <td>-0.049120</td>\n",
              "    </tr>\n",
              "    <tr>\n",
              "      <th>PROTECCION_DISPOSITIVO_No internet service</th>\n",
              "      <td>-0.119841</td>\n",
              "    </tr>\n",
              "    <tr>\n",
              "      <th>SERVICIOS_STREAMING_No internet service</th>\n",
              "      <td>-0.119841</td>\n",
              "    </tr>\n",
              "    <tr>\n",
              "      <th>TIPO_INTERNET_No</th>\n",
              "      <td>-0.119841</td>\n",
              "    </tr>\n",
              "    <tr>\n",
              "      <th>SEGURIDAD_EN_LINEA_No internet service</th>\n",
              "      <td>-0.119841</td>\n",
              "    </tr>\n",
              "    <tr>\n",
              "      <th>SERVICIO_TV_No internet service</th>\n",
              "      <td>-0.119841</td>\n",
              "    </tr>\n",
              "    <tr>\n",
              "      <th>SOPORTE_TECNICO_No internet service</th>\n",
              "      <td>-0.119841</td>\n",
              "    </tr>\n",
              "    <tr>\n",
              "      <th>COPIA_DE_SEGURIDAD_No internet service</th>\n",
              "      <td>-0.119841</td>\n",
              "    </tr>\n",
              "    <tr>\n",
              "      <th>COPIA_DE_SEGURIDAD_Yes</th>\n",
              "      <td>-0.140950</td>\n",
              "    </tr>\n",
              "    <tr>\n",
              "      <th>PERSONAS_A_CARGO_Yes</th>\n",
              "      <td>-0.171633</td>\n",
              "    </tr>\n",
              "    <tr>\n",
              "      <th>TIENE_TELEFONIA_Yes</th>\n",
              "      <td>-0.194229</td>\n",
              "    </tr>\n",
              "    <tr>\n",
              "      <th>SOPORTE_TECNICO_Yes</th>\n",
              "      <td>-0.362865</td>\n",
              "    </tr>\n",
              "    <tr>\n",
              "      <th>SEGURIDAD_EN_LINEA_Yes</th>\n",
              "      <td>-0.398804</td>\n",
              "    </tr>\n",
              "    <tr>\n",
              "      <th>PERIODO_CONTRATO_One year</th>\n",
              "      <td>-0.644131</td>\n",
              "    </tr>\n",
              "    <tr>\n",
              "      <th>PERIODO_CONTRATO_Two year</th>\n",
              "      <td>-1.341766</td>\n",
              "    </tr>\n",
              "    <tr>\n",
              "      <th>MESES_COMO_CLIENTE</th>\n",
              "      <td>-1.506986</td>\n",
              "    </tr>\n",
              "  </tbody>\n",
              "</table>\n",
              "</div>\n",
              "      <button class=\"colab-df-convert\" onclick=\"convertToInteractive('df-0de9721d-0a7a-421f-b229-9eb635d458ef')\"\n",
              "              title=\"Convert this dataframe to an interactive table.\"\n",
              "              style=\"display:none;\">\n",
              "        \n",
              "  <svg xmlns=\"http://www.w3.org/2000/svg\" height=\"24px\"viewBox=\"0 0 24 24\"\n",
              "       width=\"24px\">\n",
              "    <path d=\"M0 0h24v24H0V0z\" fill=\"none\"/>\n",
              "    <path d=\"M18.56 5.44l.94 2.06.94-2.06 2.06-.94-2.06-.94-.94-2.06-.94 2.06-2.06.94zm-11 1L8.5 8.5l.94-2.06 2.06-.94-2.06-.94L8.5 2.5l-.94 2.06-2.06.94zm10 10l.94 2.06.94-2.06 2.06-.94-2.06-.94-.94-2.06-.94 2.06-2.06.94z\"/><path d=\"M17.41 7.96l-1.37-1.37c-.4-.4-.92-.59-1.43-.59-.52 0-1.04.2-1.43.59L10.3 9.45l-7.72 7.72c-.78.78-.78 2.05 0 2.83L4 21.41c.39.39.9.59 1.41.59.51 0 1.02-.2 1.41-.59l7.78-7.78 2.81-2.81c.8-.78.8-2.07 0-2.86zM5.41 20L4 18.59l7.72-7.72 1.47 1.35L5.41 20z\"/>\n",
              "  </svg>\n",
              "      </button>\n",
              "      \n",
              "  <style>\n",
              "    .colab-df-container {\n",
              "      display:flex;\n",
              "      flex-wrap:wrap;\n",
              "      gap: 12px;\n",
              "    }\n",
              "\n",
              "    .colab-df-convert {\n",
              "      background-color: #E8F0FE;\n",
              "      border: none;\n",
              "      border-radius: 50%;\n",
              "      cursor: pointer;\n",
              "      display: none;\n",
              "      fill: #1967D2;\n",
              "      height: 32px;\n",
              "      padding: 0 0 0 0;\n",
              "      width: 32px;\n",
              "    }\n",
              "\n",
              "    .colab-df-convert:hover {\n",
              "      background-color: #E2EBFA;\n",
              "      box-shadow: 0px 1px 2px rgba(60, 64, 67, 0.3), 0px 1px 3px 1px rgba(60, 64, 67, 0.15);\n",
              "      fill: #174EA6;\n",
              "    }\n",
              "\n",
              "    [theme=dark] .colab-df-convert {\n",
              "      background-color: #3B4455;\n",
              "      fill: #D2E3FC;\n",
              "    }\n",
              "\n",
              "    [theme=dark] .colab-df-convert:hover {\n",
              "      background-color: #434B5C;\n",
              "      box-shadow: 0px 1px 3px 1px rgba(0, 0, 0, 0.15);\n",
              "      filter: drop-shadow(0px 1px 2px rgba(0, 0, 0, 0.3));\n",
              "      fill: #FFFFFF;\n",
              "    }\n",
              "  </style>\n",
              "\n",
              "      <script>\n",
              "        const buttonEl =\n",
              "          document.querySelector('#df-0de9721d-0a7a-421f-b229-9eb635d458ef button.colab-df-convert');\n",
              "        buttonEl.style.display =\n",
              "          google.colab.kernel.accessAllowed ? 'block' : 'none';\n",
              "\n",
              "        async function convertToInteractive(key) {\n",
              "          const element = document.querySelector('#df-0de9721d-0a7a-421f-b229-9eb635d458ef');\n",
              "          const dataTable =\n",
              "            await google.colab.kernel.invokeFunction('convertToInteractive',\n",
              "                                                     [key], {});\n",
              "          if (!dataTable) return;\n",
              "\n",
              "          const docLinkHtml = 'Like what you see? Visit the ' +\n",
              "            '<a target=\"_blank\" href=https://colab.research.google.com/notebooks/data_table.ipynb>data table notebook</a>'\n",
              "            + ' to learn more about interactive tables.';\n",
              "          element.innerHTML = '';\n",
              "          dataTable['output_type'] = 'display_data';\n",
              "          await google.colab.output.renderOutput(dataTable, element);\n",
              "          const docLink = document.createElement('div');\n",
              "          docLink.innerHTML = docLinkHtml;\n",
              "          element.appendChild(docLink);\n",
              "        }\n",
              "      </script>\n",
              "    </div>\n",
              "  </div>\n",
              "  "
            ]
          },
          "metadata": {},
          "execution_count": 32
        }
      ]
    },
    {
      "cell_type": "code",
      "source": [
        "\n",
        "print(cross_val_score(logreg, X_train, y_train, cv = 10).mean())"
      ],
      "metadata": {
        "colab": {
          "base_uri": "https://localhost:8080/"
        },
        "id": "gk0okfDC3TeI",
        "outputId": "9cf19c99-6bad-4dc6-cf4e-2d819ea40015"
      },
      "execution_count": null,
      "outputs": [
        {
          "output_type": "stream",
          "name": "stdout",
          "text": [
            "0.7515428036617823\n"
          ]
        }
      ]
    }
  ]
}